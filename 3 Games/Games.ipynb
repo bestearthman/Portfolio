{
 "cells": [
  {
   "cell_type": "markdown",
   "metadata": {},
   "source": [
    "# Исследовательский анализ компьютерных игр"
   ]
  },
  {
   "cell_type": "markdown",
   "metadata": {},
   "source": [
    "В данном исследовании рассмотрены игры, произведенные в 1980-2016 годах на различных платформах. В исследовании данные по нескольким регионам - Северная Америка, Европа, Япония и др.   \n",
    "Цель исследования - понять, есть ли взаимосвязь между объёмами продаж и платформой, жанром, регионом, оценкой критиков, рейтингом игры; спрогнозировать прибыльные платформы на 2017 год; дать рекомендации по выбору параметров для успешного создания игры."
   ]
  },
  {
   "cell_type": "markdown",
   "metadata": {},
   "source": [
    "## ОБЩАЯ ИНФОРМАЦИЯ"
   ]
  },
  {
   "cell_type": "code",
   "execution_count": 30,
   "metadata": {},
   "outputs": [],
   "source": [
    "import pandas as pd\n",
    "pd.set_option('display.max_columns', None)\n",
    "import matplotlib.pyplot as plt \n",
    "import numpy as np\n",
    "import seaborn as sns\n",
    "from scipy import stats as st"
   ]
  },
  {
   "cell_type": "code",
   "execution_count": 31,
   "metadata": {},
   "outputs": [
    {
     "data": {
      "text/html": [
       "<div>\n",
       "<style scoped>\n",
       "    .dataframe tbody tr th:only-of-type {\n",
       "        vertical-align: middle;\n",
       "    }\n",
       "\n",
       "    .dataframe tbody tr th {\n",
       "        vertical-align: top;\n",
       "    }\n",
       "\n",
       "    .dataframe thead th {\n",
       "        text-align: right;\n",
       "    }\n",
       "</style>\n",
       "<table border=\"1\" class=\"dataframe\">\n",
       "  <thead>\n",
       "    <tr style=\"text-align: right;\">\n",
       "      <th></th>\n",
       "      <th>Name</th>\n",
       "      <th>Platform</th>\n",
       "      <th>Year_of_Release</th>\n",
       "      <th>Genre</th>\n",
       "      <th>NA_sales</th>\n",
       "      <th>EU_sales</th>\n",
       "      <th>JP_sales</th>\n",
       "      <th>Other_sales</th>\n",
       "      <th>Critic_Score</th>\n",
       "      <th>User_Score</th>\n",
       "      <th>Rating</th>\n",
       "    </tr>\n",
       "  </thead>\n",
       "  <tbody>\n",
       "    <tr>\n",
       "      <th>0</th>\n",
       "      <td>Wii Sports</td>\n",
       "      <td>Wii</td>\n",
       "      <td>2006.0</td>\n",
       "      <td>Sports</td>\n",
       "      <td>41.36</td>\n",
       "      <td>28.96</td>\n",
       "      <td>3.77</td>\n",
       "      <td>8.45</td>\n",
       "      <td>76.0</td>\n",
       "      <td>8</td>\n",
       "      <td>E</td>\n",
       "    </tr>\n",
       "    <tr>\n",
       "      <th>1</th>\n",
       "      <td>Super Mario Bros.</td>\n",
       "      <td>NES</td>\n",
       "      <td>1985.0</td>\n",
       "      <td>Platform</td>\n",
       "      <td>29.08</td>\n",
       "      <td>3.58</td>\n",
       "      <td>6.81</td>\n",
       "      <td>0.77</td>\n",
       "      <td>NaN</td>\n",
       "      <td>NaN</td>\n",
       "      <td>NaN</td>\n",
       "    </tr>\n",
       "    <tr>\n",
       "      <th>2</th>\n",
       "      <td>Mario Kart Wii</td>\n",
       "      <td>Wii</td>\n",
       "      <td>2008.0</td>\n",
       "      <td>Racing</td>\n",
       "      <td>15.68</td>\n",
       "      <td>12.76</td>\n",
       "      <td>3.79</td>\n",
       "      <td>3.29</td>\n",
       "      <td>82.0</td>\n",
       "      <td>8.3</td>\n",
       "      <td>E</td>\n",
       "    </tr>\n",
       "    <tr>\n",
       "      <th>3</th>\n",
       "      <td>Wii Sports Resort</td>\n",
       "      <td>Wii</td>\n",
       "      <td>2009.0</td>\n",
       "      <td>Sports</td>\n",
       "      <td>15.61</td>\n",
       "      <td>10.93</td>\n",
       "      <td>3.28</td>\n",
       "      <td>2.95</td>\n",
       "      <td>80.0</td>\n",
       "      <td>8</td>\n",
       "      <td>E</td>\n",
       "    </tr>\n",
       "    <tr>\n",
       "      <th>4</th>\n",
       "      <td>Pokemon Red/Pokemon Blue</td>\n",
       "      <td>GB</td>\n",
       "      <td>1996.0</td>\n",
       "      <td>Role-Playing</td>\n",
       "      <td>11.27</td>\n",
       "      <td>8.89</td>\n",
       "      <td>10.22</td>\n",
       "      <td>1.00</td>\n",
       "      <td>NaN</td>\n",
       "      <td>NaN</td>\n",
       "      <td>NaN</td>\n",
       "    </tr>\n",
       "    <tr>\n",
       "      <th>...</th>\n",
       "      <td>...</td>\n",
       "      <td>...</td>\n",
       "      <td>...</td>\n",
       "      <td>...</td>\n",
       "      <td>...</td>\n",
       "      <td>...</td>\n",
       "      <td>...</td>\n",
       "      <td>...</td>\n",
       "      <td>...</td>\n",
       "      <td>...</td>\n",
       "      <td>...</td>\n",
       "    </tr>\n",
       "    <tr>\n",
       "      <th>16710</th>\n",
       "      <td>Samurai Warriors: Sanada Maru</td>\n",
       "      <td>PS3</td>\n",
       "      <td>2016.0</td>\n",
       "      <td>Action</td>\n",
       "      <td>0.00</td>\n",
       "      <td>0.00</td>\n",
       "      <td>0.01</td>\n",
       "      <td>0.00</td>\n",
       "      <td>NaN</td>\n",
       "      <td>NaN</td>\n",
       "      <td>NaN</td>\n",
       "    </tr>\n",
       "    <tr>\n",
       "      <th>16711</th>\n",
       "      <td>LMA Manager 2007</td>\n",
       "      <td>X360</td>\n",
       "      <td>2006.0</td>\n",
       "      <td>Sports</td>\n",
       "      <td>0.00</td>\n",
       "      <td>0.01</td>\n",
       "      <td>0.00</td>\n",
       "      <td>0.00</td>\n",
       "      <td>NaN</td>\n",
       "      <td>NaN</td>\n",
       "      <td>NaN</td>\n",
       "    </tr>\n",
       "    <tr>\n",
       "      <th>16712</th>\n",
       "      <td>Haitaka no Psychedelica</td>\n",
       "      <td>PSV</td>\n",
       "      <td>2016.0</td>\n",
       "      <td>Adventure</td>\n",
       "      <td>0.00</td>\n",
       "      <td>0.00</td>\n",
       "      <td>0.01</td>\n",
       "      <td>0.00</td>\n",
       "      <td>NaN</td>\n",
       "      <td>NaN</td>\n",
       "      <td>NaN</td>\n",
       "    </tr>\n",
       "    <tr>\n",
       "      <th>16713</th>\n",
       "      <td>Spirits &amp; Spells</td>\n",
       "      <td>GBA</td>\n",
       "      <td>2003.0</td>\n",
       "      <td>Platform</td>\n",
       "      <td>0.01</td>\n",
       "      <td>0.00</td>\n",
       "      <td>0.00</td>\n",
       "      <td>0.00</td>\n",
       "      <td>NaN</td>\n",
       "      <td>NaN</td>\n",
       "      <td>NaN</td>\n",
       "    </tr>\n",
       "    <tr>\n",
       "      <th>16714</th>\n",
       "      <td>Winning Post 8 2016</td>\n",
       "      <td>PSV</td>\n",
       "      <td>2016.0</td>\n",
       "      <td>Simulation</td>\n",
       "      <td>0.00</td>\n",
       "      <td>0.00</td>\n",
       "      <td>0.01</td>\n",
       "      <td>0.00</td>\n",
       "      <td>NaN</td>\n",
       "      <td>NaN</td>\n",
       "      <td>NaN</td>\n",
       "    </tr>\n",
       "  </tbody>\n",
       "</table>\n",
       "<p>16715 rows × 11 columns</p>\n",
       "</div>"
      ],
      "text/plain": [
       "                                Name Platform  Year_of_Release         Genre  \\\n",
       "0                         Wii Sports      Wii           2006.0        Sports   \n",
       "1                  Super Mario Bros.      NES           1985.0      Platform   \n",
       "2                     Mario Kart Wii      Wii           2008.0        Racing   \n",
       "3                  Wii Sports Resort      Wii           2009.0        Sports   \n",
       "4           Pokemon Red/Pokemon Blue       GB           1996.0  Role-Playing   \n",
       "...                              ...      ...              ...           ...   \n",
       "16710  Samurai Warriors: Sanada Maru      PS3           2016.0        Action   \n",
       "16711               LMA Manager 2007     X360           2006.0        Sports   \n",
       "16712        Haitaka no Psychedelica      PSV           2016.0     Adventure   \n",
       "16713               Spirits & Spells      GBA           2003.0      Platform   \n",
       "16714            Winning Post 8 2016      PSV           2016.0    Simulation   \n",
       "\n",
       "       NA_sales  EU_sales  JP_sales  Other_sales  Critic_Score User_Score  \\\n",
       "0         41.36     28.96      3.77         8.45          76.0          8   \n",
       "1         29.08      3.58      6.81         0.77           NaN        NaN   \n",
       "2         15.68     12.76      3.79         3.29          82.0        8.3   \n",
       "3         15.61     10.93      3.28         2.95          80.0          8   \n",
       "4         11.27      8.89     10.22         1.00           NaN        NaN   \n",
       "...         ...       ...       ...          ...           ...        ...   \n",
       "16710      0.00      0.00      0.01         0.00           NaN        NaN   \n",
       "16711      0.00      0.01      0.00         0.00           NaN        NaN   \n",
       "16712      0.00      0.00      0.01         0.00           NaN        NaN   \n",
       "16713      0.01      0.00      0.00         0.00           NaN        NaN   \n",
       "16714      0.00      0.00      0.01         0.00           NaN        NaN   \n",
       "\n",
       "      Rating  \n",
       "0          E  \n",
       "1        NaN  \n",
       "2          E  \n",
       "3          E  \n",
       "4        NaN  \n",
       "...      ...  \n",
       "16710    NaN  \n",
       "16711    NaN  \n",
       "16712    NaN  \n",
       "16713    NaN  \n",
       "16714    NaN  \n",
       "\n",
       "[16715 rows x 11 columns]"
      ]
     },
     "execution_count": 31,
     "metadata": {},
     "output_type": "execute_result"
    }
   ],
   "source": [
    "try:\n",
    "    games = pd.read_csv('/datasets/games.csv')\n",
    "except:\n",
    "    games = pd.read_csv('https://code.s3.yandex.net/datasets/games.csv')\n",
    "games"
   ]
  },
  {
   "cell_type": "code",
   "execution_count": 32,
   "metadata": {},
   "outputs": [
    {
     "name": "stdout",
     "output_type": "stream",
     "text": [
      "<class 'pandas.core.frame.DataFrame'>\n",
      "RangeIndex: 16715 entries, 0 to 16714\n",
      "Data columns (total 11 columns):\n",
      " #   Column           Non-Null Count  Dtype  \n",
      "---  ------           --------------  -----  \n",
      " 0   Name             16713 non-null  object \n",
      " 1   Platform         16715 non-null  object \n",
      " 2   Year_of_Release  16446 non-null  float64\n",
      " 3   Genre            16713 non-null  object \n",
      " 4   NA_sales         16715 non-null  float64\n",
      " 5   EU_sales         16715 non-null  float64\n",
      " 6   JP_sales         16715 non-null  float64\n",
      " 7   Other_sales      16715 non-null  float64\n",
      " 8   Critic_Score     8137 non-null   float64\n",
      " 9   User_Score       10014 non-null  object \n",
      " 10  Rating           9949 non-null   object \n",
      "dtypes: float64(6), object(5)\n",
      "memory usage: 1.4+ MB\n"
     ]
    }
   ],
   "source": [
    "games.info()"
   ]
  },
  {
   "cell_type": "code",
   "execution_count": 33,
   "metadata": {
    "scrolled": false
   },
   "outputs": [
    {
     "data": {
      "image/png": "[encoded data removed]",
      "text/plain": [
       "<Figure size 2000x2500 with 6 Axes>"
      ]
     },
     "metadata": {},
     "output_type": "display_data"
    }
   ],
   "source": [
    "games.hist(figsize=(20, 25));"
   ]
  },
  {
   "cell_type": "markdown",
   "metadata": {},
   "source": [
    "Краткое описание данных:\n",
    "- с 1990-х годов количество произведенных игр в разы увеличилось, пик приходится на 2010-е, далее до 2016 сильный спад \n",
    "- лидерами продаж является Северная Америка, затем, Европа и меньше всего продаж в Японии (другие страны в сумме сравнимы с продажами в Японии)\n",
    "- средняя оценка игр критиками 65-85 баллов из ста.\n",
    "\n",
    "Остальные данные переведем в верный формат и рассмотрим далее."
   ]
  },
  {
   "cell_type": "markdown",
   "metadata": {},
   "source": [
    "## ПОДГОТОВКА ДАННЫХ"
   ]
  },
  {
   "cell_type": "markdown",
   "metadata": {},
   "source": [
    "### Общий вид"
   ]
  },
  {
   "cell_type": "markdown",
   "metadata": {},
   "source": [
    "Приведем название столбцов к хорошему тону:"
   ]
  },
  {
   "cell_type": "code",
   "execution_count": 34,
   "metadata": {},
   "outputs": [
    {
     "data": {
      "text/plain": [
       "Index(['Name', 'Platform', 'Year_of_Release', 'Genre', 'NA_sales', 'EU_sales',\n",
       "       'JP_sales', 'Other_sales', 'Critic_Score', 'User_Score', 'Rating'],\n",
       "      dtype='object')"
      ]
     },
     "execution_count": 34,
     "metadata": {},
     "output_type": "execute_result"
    }
   ],
   "source": [
    "games.columns"
   ]
  },
  {
   "cell_type": "code",
   "execution_count": 35,
   "metadata": {},
   "outputs": [],
   "source": [
    "games.columns = games.columns.str.lower()"
   ]
  },
  {
   "cell_type": "markdown",
   "metadata": {},
   "source": [
    "Преобразуем данные в нужный тип:"
   ]
  },
  {
   "cell_type": "markdown",
   "metadata": {},
   "source": [
    "Значение в столбце год выпуска округлим до целых (год - это целое число)."
   ]
  },
  {
   "cell_type": "code",
   "execution_count": 36,
   "metadata": {},
   "outputs": [],
   "source": [
    "games['year_of_release'] = games['year_of_release'].astype('Int64')"
   ]
  },
  {
   "cell_type": "markdown",
   "metadata": {},
   "source": [
    "Проверим корректность диапазона - все правильно."
   ]
  },
  {
   "cell_type": "code",
   "execution_count": 37,
   "metadata": {
    "scrolled": true
   },
   "outputs": [
    {
     "data": {
      "text/plain": [
       "[1980,\n",
       " 1981,\n",
       " 1982,\n",
       " 1983,\n",
       " 1984,\n",
       " 1985,\n",
       " 1986,\n",
       " 1987,\n",
       " 1988,\n",
       " 1989,\n",
       " 1990,\n",
       " 1991,\n",
       " 1992,\n",
       " 1993,\n",
       " 1994,\n",
       " 1995,\n",
       " 1996,\n",
       " 1997,\n",
       " 1998,\n",
       " 1999,\n",
       " 2000,\n",
       " 2001,\n",
       " 2002,\n",
       " 2003,\n",
       " 2004,\n",
       " 2005,\n",
       " 2006,\n",
       " 2007,\n",
       " 2008,\n",
       " 2009,\n",
       " 2010,\n",
       " 2011,\n",
       " 2012,\n",
       " 2013,\n",
       " 2014,\n",
       " 2015,\n",
       " 2016]"
      ]
     },
     "execution_count": 37,
     "metadata": {},
     "output_type": "execute_result"
    }
   ],
   "source": [
    "sorted(games[~games['year_of_release'].isna()]['year_of_release'].unique())"
   ]
  },
  {
   "cell_type": "code",
   "execution_count": 38,
   "metadata": {},
   "outputs": [
    {
     "data": {
      "text/plain": [
       "0"
      ]
     },
     "execution_count": 38,
     "metadata": {},
     "output_type": "execute_result"
    }
   ],
   "source": [
    "games.duplicated().sum()"
   ]
  },
  {
   "cell_type": "markdown",
   "metadata": {},
   "source": [
    "Явных дубликатов строк нет."
   ]
  },
  {
   "cell_type": "markdown",
   "metadata": {},
   "source": [
    "### tbd"
   ]
  },
  {
   "cell_type": "markdown",
   "metadata": {},
   "source": [
    "При попытке отформатировать столбец с рейтингом пользователей, наткнулись на значение tbd (to be determined). Сложно сказать, чем оно обусловлено, можно было бы предположить, что игры свежие и рейтинг еще не определен до конца, но из проверки ниже видим, что такие пропуски появляются с 1999 года. Переведем его в пустые значения, а затем изменим формат данных на числовой, чтобы с ним можно было работать."
   ]
  },
  {
   "cell_type": "code",
   "execution_count": 39,
   "metadata": {},
   "outputs": [
    {
     "data": {
      "text/html": [
       "<div>\n",
       "<style scoped>\n",
       "    .dataframe tbody tr th:only-of-type {\n",
       "        vertical-align: middle;\n",
       "    }\n",
       "\n",
       "    .dataframe tbody tr th {\n",
       "        vertical-align: top;\n",
       "    }\n",
       "\n",
       "    .dataframe thead th {\n",
       "        text-align: right;\n",
       "    }\n",
       "</style>\n",
       "<table border=\"1\" class=\"dataframe\">\n",
       "  <thead>\n",
       "    <tr style=\"text-align: right;\">\n",
       "      <th></th>\n",
       "      <th>name</th>\n",
       "      <th>platform</th>\n",
       "      <th>year_of_release</th>\n",
       "      <th>genre</th>\n",
       "      <th>na_sales</th>\n",
       "      <th>eu_sales</th>\n",
       "      <th>jp_sales</th>\n",
       "      <th>other_sales</th>\n",
       "      <th>critic_score</th>\n",
       "      <th>user_score</th>\n",
       "      <th>rating</th>\n",
       "    </tr>\n",
       "  </thead>\n",
       "  <tbody>\n",
       "    <tr>\n",
       "      <th>119</th>\n",
       "      <td>Zumba Fitness</td>\n",
       "      <td>Wii</td>\n",
       "      <td>2010</td>\n",
       "      <td>Sports</td>\n",
       "      <td>3.45</td>\n",
       "      <td>2.59</td>\n",
       "      <td>0.0</td>\n",
       "      <td>0.66</td>\n",
       "      <td>NaN</td>\n",
       "      <td>tbd</td>\n",
       "      <td>E</td>\n",
       "    </tr>\n",
       "    <tr>\n",
       "      <th>301</th>\n",
       "      <td>Namco Museum: 50th Anniversary</td>\n",
       "      <td>PS2</td>\n",
       "      <td>2005</td>\n",
       "      <td>Misc</td>\n",
       "      <td>2.08</td>\n",
       "      <td>1.35</td>\n",
       "      <td>0.0</td>\n",
       "      <td>0.54</td>\n",
       "      <td>61.0</td>\n",
       "      <td>tbd</td>\n",
       "      <td>E10+</td>\n",
       "    </tr>\n",
       "    <tr>\n",
       "      <th>520</th>\n",
       "      <td>Zumba Fitness 2</td>\n",
       "      <td>Wii</td>\n",
       "      <td>2011</td>\n",
       "      <td>Sports</td>\n",
       "      <td>1.51</td>\n",
       "      <td>1.03</td>\n",
       "      <td>0.0</td>\n",
       "      <td>0.27</td>\n",
       "      <td>NaN</td>\n",
       "      <td>tbd</td>\n",
       "      <td>T</td>\n",
       "    </tr>\n",
       "    <tr>\n",
       "      <th>645</th>\n",
       "      <td>uDraw Studio</td>\n",
       "      <td>Wii</td>\n",
       "      <td>2010</td>\n",
       "      <td>Misc</td>\n",
       "      <td>1.65</td>\n",
       "      <td>0.57</td>\n",
       "      <td>0.0</td>\n",
       "      <td>0.20</td>\n",
       "      <td>71.0</td>\n",
       "      <td>tbd</td>\n",
       "      <td>E</td>\n",
       "    </tr>\n",
       "    <tr>\n",
       "      <th>657</th>\n",
       "      <td>Frogger's Adventures: Temple of the Frog</td>\n",
       "      <td>GBA</td>\n",
       "      <td>&lt;NA&gt;</td>\n",
       "      <td>Adventure</td>\n",
       "      <td>2.15</td>\n",
       "      <td>0.18</td>\n",
       "      <td>0.0</td>\n",
       "      <td>0.07</td>\n",
       "      <td>73.0</td>\n",
       "      <td>tbd</td>\n",
       "      <td>E</td>\n",
       "    </tr>\n",
       "    <tr>\n",
       "      <th>...</th>\n",
       "      <td>...</td>\n",
       "      <td>...</td>\n",
       "      <td>...</td>\n",
       "      <td>...</td>\n",
       "      <td>...</td>\n",
       "      <td>...</td>\n",
       "      <td>...</td>\n",
       "      <td>...</td>\n",
       "      <td>...</td>\n",
       "      <td>...</td>\n",
       "      <td>...</td>\n",
       "    </tr>\n",
       "    <tr>\n",
       "      <th>16695</th>\n",
       "      <td>Planet Monsters</td>\n",
       "      <td>GBA</td>\n",
       "      <td>2001</td>\n",
       "      <td>Action</td>\n",
       "      <td>0.01</td>\n",
       "      <td>0.00</td>\n",
       "      <td>0.0</td>\n",
       "      <td>0.00</td>\n",
       "      <td>67.0</td>\n",
       "      <td>tbd</td>\n",
       "      <td>E</td>\n",
       "    </tr>\n",
       "    <tr>\n",
       "      <th>16697</th>\n",
       "      <td>Bust-A-Move 3000</td>\n",
       "      <td>GC</td>\n",
       "      <td>2003</td>\n",
       "      <td>Puzzle</td>\n",
       "      <td>0.01</td>\n",
       "      <td>0.00</td>\n",
       "      <td>0.0</td>\n",
       "      <td>0.00</td>\n",
       "      <td>53.0</td>\n",
       "      <td>tbd</td>\n",
       "      <td>E</td>\n",
       "    </tr>\n",
       "    <tr>\n",
       "      <th>16698</th>\n",
       "      <td>Mega Brain Boost</td>\n",
       "      <td>DS</td>\n",
       "      <td>2008</td>\n",
       "      <td>Puzzle</td>\n",
       "      <td>0.01</td>\n",
       "      <td>0.00</td>\n",
       "      <td>0.0</td>\n",
       "      <td>0.00</td>\n",
       "      <td>48.0</td>\n",
       "      <td>tbd</td>\n",
       "      <td>E</td>\n",
       "    </tr>\n",
       "    <tr>\n",
       "      <th>16704</th>\n",
       "      <td>Plushees</td>\n",
       "      <td>DS</td>\n",
       "      <td>2008</td>\n",
       "      <td>Simulation</td>\n",
       "      <td>0.01</td>\n",
       "      <td>0.00</td>\n",
       "      <td>0.0</td>\n",
       "      <td>0.00</td>\n",
       "      <td>NaN</td>\n",
       "      <td>tbd</td>\n",
       "      <td>E</td>\n",
       "    </tr>\n",
       "    <tr>\n",
       "      <th>16706</th>\n",
       "      <td>Men in Black II: Alien Escape</td>\n",
       "      <td>GC</td>\n",
       "      <td>2003</td>\n",
       "      <td>Shooter</td>\n",
       "      <td>0.01</td>\n",
       "      <td>0.00</td>\n",
       "      <td>0.0</td>\n",
       "      <td>0.00</td>\n",
       "      <td>NaN</td>\n",
       "      <td>tbd</td>\n",
       "      <td>T</td>\n",
       "    </tr>\n",
       "  </tbody>\n",
       "</table>\n",
       "<p>2424 rows × 11 columns</p>\n",
       "</div>"
      ],
      "text/plain": [
       "                                           name platform  year_of_release  \\\n",
       "119                               Zumba Fitness      Wii             2010   \n",
       "301              Namco Museum: 50th Anniversary      PS2             2005   \n",
       "520                             Zumba Fitness 2      Wii             2011   \n",
       "645                                uDraw Studio      Wii             2010   \n",
       "657    Frogger's Adventures: Temple of the Frog      GBA             <NA>   \n",
       "...                                         ...      ...              ...   \n",
       "16695                           Planet Monsters      GBA             2001   \n",
       "16697                          Bust-A-Move 3000       GC             2003   \n",
       "16698                          Mega Brain Boost       DS             2008   \n",
       "16704                                  Plushees       DS             2008   \n",
       "16706             Men in Black II: Alien Escape       GC             2003   \n",
       "\n",
       "            genre  na_sales  eu_sales  jp_sales  other_sales  critic_score  \\\n",
       "119        Sports      3.45      2.59       0.0         0.66           NaN   \n",
       "301          Misc      2.08      1.35       0.0         0.54          61.0   \n",
       "520        Sports      1.51      1.03       0.0         0.27           NaN   \n",
       "645          Misc      1.65      0.57       0.0         0.20          71.0   \n",
       "657     Adventure      2.15      0.18       0.0         0.07          73.0   \n",
       "...           ...       ...       ...       ...          ...           ...   \n",
       "16695      Action      0.01      0.00       0.0         0.00          67.0   \n",
       "16697      Puzzle      0.01      0.00       0.0         0.00          53.0   \n",
       "16698      Puzzle      0.01      0.00       0.0         0.00          48.0   \n",
       "16704  Simulation      0.01      0.00       0.0         0.00           NaN   \n",
       "16706     Shooter      0.01      0.00       0.0         0.00           NaN   \n",
       "\n",
       "      user_score rating  \n",
       "119          tbd      E  \n",
       "301          tbd   E10+  \n",
       "520          tbd      T  \n",
       "645          tbd      E  \n",
       "657          tbd      E  \n",
       "...          ...    ...  \n",
       "16695        tbd      E  \n",
       "16697        tbd      E  \n",
       "16698        tbd      E  \n",
       "16704        tbd      E  \n",
       "16706        tbd      T  \n",
       "\n",
       "[2424 rows x 11 columns]"
      ]
     },
     "execution_count": 39,
     "metadata": {},
     "output_type": "execute_result"
    }
   ],
   "source": [
    "games.query('user_score == \"tbd\"')"
   ]
  },
  {
   "cell_type": "code",
   "execution_count": 40,
   "metadata": {},
   "outputs": [
    {
     "data": {
      "text/plain": [
       "tbd    2424\n",
       "7.8     324\n",
       "8       290\n",
       "8.2     282\n",
       "8.3     254\n",
       "       ... \n",
       "1.1       2\n",
       "1.9       2\n",
       "9.6       2\n",
       "0         1\n",
       "9.7       1\n",
       "Name: user_score, Length: 96, dtype: int64"
      ]
     },
     "execution_count": 40,
     "metadata": {},
     "output_type": "execute_result"
    }
   ],
   "source": [
    "games['user_score'].value_counts()"
   ]
  },
  {
   "cell_type": "code",
   "execution_count": 41,
   "metadata": {},
   "outputs": [],
   "source": [
    "games['user_score'] = pd.to_numeric(games['user_score'], errors='coerce')"
   ]
  },
  {
   "cell_type": "code",
   "execution_count": 42,
   "metadata": {},
   "outputs": [],
   "source": [
    "games['user_score'] = games['user_score'].astype('float')"
   ]
  },
  {
   "cell_type": "code",
   "execution_count": 43,
   "metadata": {},
   "outputs": [
    {
     "data": {
      "text/plain": [
       "array(['E', nan, 'M', 'T', 'E10+', 'K-A', 'AO', 'EC', 'RP'], dtype=object)"
      ]
     },
     "execution_count": 43,
     "metadata": {},
     "output_type": "execute_result"
    }
   ],
   "source": [
    "games['rating'].unique()"
   ]
  },
  {
   "cell_type": "code",
   "execution_count": 44,
   "metadata": {},
   "outputs": [
    {
     "data": {
      "text/plain": [
       "E       3990\n",
       "T       2961\n",
       "M       1563\n",
       "E10+    1420\n",
       "EC         8\n",
       "K-A        3\n",
       "RP         3\n",
       "AO         1\n",
       "Name: rating, dtype: int64"
      ]
     },
     "execution_count": 44,
     "metadata": {},
     "output_type": "execute_result"
    }
   ],
   "source": [
    "games['rating'].value_counts()"
   ]
  },
  {
   "cell_type": "code",
   "execution_count": 45,
   "metadata": {},
   "outputs": [
    {
     "data": {
      "text/plain": [
       "False    9949\n",
       "True     6766\n",
       "Name: rating, dtype: int64"
      ]
     },
     "execution_count": 45,
     "metadata": {},
     "output_type": "execute_result"
    }
   ],
   "source": [
    "games['rating'].isna().value_counts()"
   ]
  },
  {
   "cell_type": "markdown",
   "metadata": {},
   "source": [
    "В рейтинге ESRB категориальные значения.  \n",
    "Почти треть данных не заполнена, также есть рейтинг RP - не определен, который приравняем к пустым значениям.  \n",
    "Для дальнейшей работы с данными все пустые значения рейтингов заменим на \"missing\"."
   ]
  },
  {
   "cell_type": "code",
   "execution_count": 46,
   "metadata": {},
   "outputs": [],
   "source": [
    "games.loc[(games['rating'] == 'RP') | (games['rating'].isna()), 'rating'] = 'missing'"
   ]
  },
  {
   "cell_type": "code",
   "execution_count": 47,
   "metadata": {},
   "outputs": [
    {
     "data": {
      "text/plain": [
       "missing    6769\n",
       "E          3990\n",
       "T          2961\n",
       "M          1563\n",
       "E10+       1420\n",
       "EC            8\n",
       "K-A           3\n",
       "AO            1\n",
       "Name: rating, dtype: int64"
      ]
     },
     "execution_count": 47,
     "metadata": {},
     "output_type": "execute_result"
    }
   ],
   "source": [
    "games['rating'].value_counts()"
   ]
  },
  {
   "cell_type": "markdown",
   "metadata": {},
   "source": [
    "Теперь мы видим данные с отсутствующим рейтингом."
   ]
  },
  {
   "cell_type": "markdown",
   "metadata": {},
   "source": [
    "### Пропуски"
   ]
  },
  {
   "cell_type": "markdown",
   "metadata": {},
   "source": [
    "Две строки с пропущенным названием игр и жанром удалим, поскольку в данных без названия игры нет смысла."
   ]
  },
  {
   "cell_type": "code",
   "execution_count": 48,
   "metadata": {},
   "outputs": [
    {
     "data": {
      "text/html": [
       "<div>\n",
       "<style scoped>\n",
       "    .dataframe tbody tr th:only-of-type {\n",
       "        vertical-align: middle;\n",
       "    }\n",
       "\n",
       "    .dataframe tbody tr th {\n",
       "        vertical-align: top;\n",
       "    }\n",
       "\n",
       "    .dataframe thead th {\n",
       "        text-align: right;\n",
       "    }\n",
       "</style>\n",
       "<table border=\"1\" class=\"dataframe\">\n",
       "  <thead>\n",
       "    <tr style=\"text-align: right;\">\n",
       "      <th></th>\n",
       "      <th>name</th>\n",
       "      <th>platform</th>\n",
       "      <th>year_of_release</th>\n",
       "      <th>genre</th>\n",
       "      <th>na_sales</th>\n",
       "      <th>eu_sales</th>\n",
       "      <th>jp_sales</th>\n",
       "      <th>other_sales</th>\n",
       "      <th>critic_score</th>\n",
       "      <th>user_score</th>\n",
       "      <th>rating</th>\n",
       "    </tr>\n",
       "  </thead>\n",
       "  <tbody>\n",
       "    <tr>\n",
       "      <th>659</th>\n",
       "      <td>NaN</td>\n",
       "      <td>GEN</td>\n",
       "      <td>1993</td>\n",
       "      <td>NaN</td>\n",
       "      <td>1.78</td>\n",
       "      <td>0.53</td>\n",
       "      <td>0.00</td>\n",
       "      <td>0.08</td>\n",
       "      <td>NaN</td>\n",
       "      <td>NaN</td>\n",
       "      <td>missing</td>\n",
       "    </tr>\n",
       "    <tr>\n",
       "      <th>14244</th>\n",
       "      <td>NaN</td>\n",
       "      <td>GEN</td>\n",
       "      <td>1993</td>\n",
       "      <td>NaN</td>\n",
       "      <td>0.00</td>\n",
       "      <td>0.00</td>\n",
       "      <td>0.03</td>\n",
       "      <td>0.00</td>\n",
       "      <td>NaN</td>\n",
       "      <td>NaN</td>\n",
       "      <td>missing</td>\n",
       "    </tr>\n",
       "  </tbody>\n",
       "</table>\n",
       "</div>"
      ],
      "text/plain": [
       "      name platform  year_of_release genre  na_sales  eu_sales  jp_sales  \\\n",
       "659    NaN      GEN             1993   NaN      1.78      0.53      0.00   \n",
       "14244  NaN      GEN             1993   NaN      0.00      0.00      0.03   \n",
       "\n",
       "       other_sales  critic_score  user_score   rating  \n",
       "659           0.08           NaN         NaN  missing  \n",
       "14244         0.00           NaN         NaN  missing  "
      ]
     },
     "execution_count": 48,
     "metadata": {},
     "output_type": "execute_result"
    }
   ],
   "source": [
    "games.loc[games['name'].isna()]"
   ]
  },
  {
   "cell_type": "code",
   "execution_count": 49,
   "metadata": {},
   "outputs": [],
   "source": [
    "games = games.dropna(subset=['name']).reset_index(drop=True) "
   ]
  },
  {
   "cell_type": "markdown",
   "metadata": {},
   "source": [
    "Посмотрим на пропуски в годах выпуска игр."
   ]
  },
  {
   "cell_type": "code",
   "execution_count": 50,
   "metadata": {},
   "outputs": [
    {
     "data": {
      "text/plain": [
       "(16713, 11)"
      ]
     },
     "execution_count": 50,
     "metadata": {},
     "output_type": "execute_result"
    }
   ],
   "source": [
    "games.shape"
   ]
  },
  {
   "cell_type": "code",
   "execution_count": 51,
   "metadata": {},
   "outputs": [
    {
     "data": {
      "text/html": [
       "<div>\n",
       "<style scoped>\n",
       "    .dataframe tbody tr th:only-of-type {\n",
       "        vertical-align: middle;\n",
       "    }\n",
       "\n",
       "    .dataframe tbody tr th {\n",
       "        vertical-align: top;\n",
       "    }\n",
       "\n",
       "    .dataframe thead th {\n",
       "        text-align: right;\n",
       "    }\n",
       "</style>\n",
       "<table border=\"1\" class=\"dataframe\">\n",
       "  <thead>\n",
       "    <tr style=\"text-align: right;\">\n",
       "      <th></th>\n",
       "      <th>name</th>\n",
       "      <th>platform</th>\n",
       "      <th>year_of_release</th>\n",
       "      <th>genre</th>\n",
       "      <th>na_sales</th>\n",
       "      <th>eu_sales</th>\n",
       "      <th>jp_sales</th>\n",
       "      <th>other_sales</th>\n",
       "      <th>critic_score</th>\n",
       "      <th>user_score</th>\n",
       "      <th>rating</th>\n",
       "    </tr>\n",
       "  </thead>\n",
       "  <tbody>\n",
       "    <tr>\n",
       "      <th>183</th>\n",
       "      <td>Madden NFL 2004</td>\n",
       "      <td>PS2</td>\n",
       "      <td>&lt;NA&gt;</td>\n",
       "      <td>Sports</td>\n",
       "      <td>4.26</td>\n",
       "      <td>0.26</td>\n",
       "      <td>0.01</td>\n",
       "      <td>0.71</td>\n",
       "      <td>94.0</td>\n",
       "      <td>8.5</td>\n",
       "      <td>E</td>\n",
       "    </tr>\n",
       "    <tr>\n",
       "      <th>377</th>\n",
       "      <td>FIFA Soccer 2004</td>\n",
       "      <td>PS2</td>\n",
       "      <td>&lt;NA&gt;</td>\n",
       "      <td>Sports</td>\n",
       "      <td>0.59</td>\n",
       "      <td>2.36</td>\n",
       "      <td>0.04</td>\n",
       "      <td>0.51</td>\n",
       "      <td>84.0</td>\n",
       "      <td>6.4</td>\n",
       "      <td>E</td>\n",
       "    </tr>\n",
       "    <tr>\n",
       "      <th>456</th>\n",
       "      <td>LEGO Batman: The Videogame</td>\n",
       "      <td>Wii</td>\n",
       "      <td>&lt;NA&gt;</td>\n",
       "      <td>Action</td>\n",
       "      <td>1.80</td>\n",
       "      <td>0.97</td>\n",
       "      <td>0.00</td>\n",
       "      <td>0.29</td>\n",
       "      <td>74.0</td>\n",
       "      <td>7.9</td>\n",
       "      <td>E10+</td>\n",
       "    </tr>\n",
       "    <tr>\n",
       "      <th>475</th>\n",
       "      <td>wwe Smackdown vs. Raw 2006</td>\n",
       "      <td>PS2</td>\n",
       "      <td>&lt;NA&gt;</td>\n",
       "      <td>Fighting</td>\n",
       "      <td>1.57</td>\n",
       "      <td>1.02</td>\n",
       "      <td>0.00</td>\n",
       "      <td>0.41</td>\n",
       "      <td>NaN</td>\n",
       "      <td>NaN</td>\n",
       "      <td>missing</td>\n",
       "    </tr>\n",
       "    <tr>\n",
       "      <th>609</th>\n",
       "      <td>Space Invaders</td>\n",
       "      <td>2600</td>\n",
       "      <td>&lt;NA&gt;</td>\n",
       "      <td>Shooter</td>\n",
       "      <td>2.36</td>\n",
       "      <td>0.14</td>\n",
       "      <td>0.00</td>\n",
       "      <td>0.03</td>\n",
       "      <td>NaN</td>\n",
       "      <td>NaN</td>\n",
       "      <td>missing</td>\n",
       "    </tr>\n",
       "    <tr>\n",
       "      <th>...</th>\n",
       "      <td>...</td>\n",
       "      <td>...</td>\n",
       "      <td>...</td>\n",
       "      <td>...</td>\n",
       "      <td>...</td>\n",
       "      <td>...</td>\n",
       "      <td>...</td>\n",
       "      <td>...</td>\n",
       "      <td>...</td>\n",
       "      <td>...</td>\n",
       "      <td>...</td>\n",
       "    </tr>\n",
       "    <tr>\n",
       "      <th>16371</th>\n",
       "      <td>PDC World Championship Darts 2008</td>\n",
       "      <td>PSP</td>\n",
       "      <td>&lt;NA&gt;</td>\n",
       "      <td>Sports</td>\n",
       "      <td>0.01</td>\n",
       "      <td>0.00</td>\n",
       "      <td>0.00</td>\n",
       "      <td>0.00</td>\n",
       "      <td>43.0</td>\n",
       "      <td>NaN</td>\n",
       "      <td>E10+</td>\n",
       "    </tr>\n",
       "    <tr>\n",
       "      <th>16403</th>\n",
       "      <td>Freaky Flyers</td>\n",
       "      <td>GC</td>\n",
       "      <td>&lt;NA&gt;</td>\n",
       "      <td>Racing</td>\n",
       "      <td>0.01</td>\n",
       "      <td>0.00</td>\n",
       "      <td>0.00</td>\n",
       "      <td>0.00</td>\n",
       "      <td>69.0</td>\n",
       "      <td>6.5</td>\n",
       "      <td>T</td>\n",
       "    </tr>\n",
       "    <tr>\n",
       "      <th>16446</th>\n",
       "      <td>Inversion</td>\n",
       "      <td>PC</td>\n",
       "      <td>&lt;NA&gt;</td>\n",
       "      <td>Shooter</td>\n",
       "      <td>0.01</td>\n",
       "      <td>0.00</td>\n",
       "      <td>0.00</td>\n",
       "      <td>0.00</td>\n",
       "      <td>59.0</td>\n",
       "      <td>6.7</td>\n",
       "      <td>M</td>\n",
       "    </tr>\n",
       "    <tr>\n",
       "      <th>16456</th>\n",
       "      <td>Hakuouki: Shinsengumi Kitan</td>\n",
       "      <td>PS3</td>\n",
       "      <td>&lt;NA&gt;</td>\n",
       "      <td>Adventure</td>\n",
       "      <td>0.01</td>\n",
       "      <td>0.00</td>\n",
       "      <td>0.00</td>\n",
       "      <td>0.00</td>\n",
       "      <td>NaN</td>\n",
       "      <td>NaN</td>\n",
       "      <td>missing</td>\n",
       "    </tr>\n",
       "    <tr>\n",
       "      <th>16520</th>\n",
       "      <td>Virtua Quest</td>\n",
       "      <td>GC</td>\n",
       "      <td>&lt;NA&gt;</td>\n",
       "      <td>Role-Playing</td>\n",
       "      <td>0.01</td>\n",
       "      <td>0.00</td>\n",
       "      <td>0.00</td>\n",
       "      <td>0.00</td>\n",
       "      <td>55.0</td>\n",
       "      <td>5.5</td>\n",
       "      <td>T</td>\n",
       "    </tr>\n",
       "  </tbody>\n",
       "</table>\n",
       "<p>269 rows × 11 columns</p>\n",
       "</div>"
      ],
      "text/plain": [
       "                                    name platform  year_of_release  \\\n",
       "183                      Madden NFL 2004      PS2             <NA>   \n",
       "377                     FIFA Soccer 2004      PS2             <NA>   \n",
       "456           LEGO Batman: The Videogame      Wii             <NA>   \n",
       "475           wwe Smackdown vs. Raw 2006      PS2             <NA>   \n",
       "609                       Space Invaders     2600             <NA>   \n",
       "...                                  ...      ...              ...   \n",
       "16371  PDC World Championship Darts 2008      PSP             <NA>   \n",
       "16403                      Freaky Flyers       GC             <NA>   \n",
       "16446                          Inversion       PC             <NA>   \n",
       "16456        Hakuouki: Shinsengumi Kitan      PS3             <NA>   \n",
       "16520                       Virtua Quest       GC             <NA>   \n",
       "\n",
       "              genre  na_sales  eu_sales  jp_sales  other_sales  critic_score  \\\n",
       "183          Sports      4.26      0.26      0.01         0.71          94.0   \n",
       "377          Sports      0.59      2.36      0.04         0.51          84.0   \n",
       "456          Action      1.80      0.97      0.00         0.29          74.0   \n",
       "475        Fighting      1.57      1.02      0.00         0.41           NaN   \n",
       "609         Shooter      2.36      0.14      0.00         0.03           NaN   \n",
       "...             ...       ...       ...       ...          ...           ...   \n",
       "16371        Sports      0.01      0.00      0.00         0.00          43.0   \n",
       "16403        Racing      0.01      0.00      0.00         0.00          69.0   \n",
       "16446       Shooter      0.01      0.00      0.00         0.00          59.0   \n",
       "16456     Adventure      0.01      0.00      0.00         0.00           NaN   \n",
       "16520  Role-Playing      0.01      0.00      0.00         0.00          55.0   \n",
       "\n",
       "       user_score   rating  \n",
       "183           8.5        E  \n",
       "377           6.4        E  \n",
       "456           7.9     E10+  \n",
       "475           NaN  missing  \n",
       "609           NaN  missing  \n",
       "...           ...      ...  \n",
       "16371         NaN     E10+  \n",
       "16403         6.5        T  \n",
       "16446         6.7        M  \n",
       "16456         NaN  missing  \n",
       "16520         5.5        T  \n",
       "\n",
       "[269 rows x 11 columns]"
      ]
     },
     "execution_count": 51,
     "metadata": {},
     "output_type": "execute_result"
    }
   ],
   "source": [
    "games.loc[games['year_of_release'].isna()]"
   ]
  },
  {
   "cell_type": "code",
   "execution_count": 52,
   "metadata": {},
   "outputs": [
    {
     "data": {
      "text/plain": [
       "11559"
      ]
     },
     "execution_count": 52,
     "metadata": {},
     "output_type": "execute_result"
    }
   ],
   "source": [
    "len(games.name.unique())"
   ]
  },
  {
   "cell_type": "markdown",
   "metadata": {},
   "source": [
    "Из 269 пропущенных значений большая часть строк с играми не повторяется, исходя из количества уникальных игр в датафрейме. Их замена с помощью поиска одноименных игр с заполненным годом выпуска займет слишком много времени и ресурсов. Поскольку пропусков менее 2%, мы удалим эти строки, чтобы не искажать данные."
   ]
  },
  {
   "cell_type": "code",
   "execution_count": 53,
   "metadata": {},
   "outputs": [],
   "source": [
    "games = games.loc[~games['year_of_release'].isna()]"
   ]
  },
  {
   "cell_type": "markdown",
   "metadata": {},
   "source": [
    "Пропуски в последних трех столбцах мы не можем вычислить или заполнить на что-то логичное, также их слишом много, чтобы удалить, оставляем как есть. Пропуски в этих столбцах часто пересекаются в одних и тех же строках (возможно, это связано с системой рейтингов, например, не все игры через неё проходят)."
   ]
  },
  {
   "cell_type": "code",
   "execution_count": 54,
   "metadata": {
    "scrolled": false
   },
   "outputs": [
    {
     "data": {
      "text/html": [
       "<div>\n",
       "<style scoped>\n",
       "    .dataframe tbody tr th:only-of-type {\n",
       "        vertical-align: middle;\n",
       "    }\n",
       "\n",
       "    .dataframe tbody tr th {\n",
       "        vertical-align: top;\n",
       "    }\n",
       "\n",
       "    .dataframe thead th {\n",
       "        text-align: right;\n",
       "    }\n",
       "</style>\n",
       "<table border=\"1\" class=\"dataframe\">\n",
       "  <thead>\n",
       "    <tr style=\"text-align: right;\">\n",
       "      <th></th>\n",
       "      <th>name</th>\n",
       "      <th>platform</th>\n",
       "      <th>year_of_release</th>\n",
       "      <th>genre</th>\n",
       "      <th>na_sales</th>\n",
       "      <th>eu_sales</th>\n",
       "      <th>jp_sales</th>\n",
       "      <th>other_sales</th>\n",
       "      <th>critic_score</th>\n",
       "      <th>user_score</th>\n",
       "      <th>rating</th>\n",
       "    </tr>\n",
       "  </thead>\n",
       "  <tbody>\n",
       "    <tr>\n",
       "      <th>1</th>\n",
       "      <td>Super Mario Bros.</td>\n",
       "      <td>NES</td>\n",
       "      <td>1985</td>\n",
       "      <td>Platform</td>\n",
       "      <td>29.08</td>\n",
       "      <td>3.58</td>\n",
       "      <td>6.81</td>\n",
       "      <td>0.77</td>\n",
       "      <td>NaN</td>\n",
       "      <td>NaN</td>\n",
       "      <td>missing</td>\n",
       "    </tr>\n",
       "    <tr>\n",
       "      <th>4</th>\n",
       "      <td>Pokemon Red/Pokemon Blue</td>\n",
       "      <td>GB</td>\n",
       "      <td>1996</td>\n",
       "      <td>Role-Playing</td>\n",
       "      <td>11.27</td>\n",
       "      <td>8.89</td>\n",
       "      <td>10.22</td>\n",
       "      <td>1.00</td>\n",
       "      <td>NaN</td>\n",
       "      <td>NaN</td>\n",
       "      <td>missing</td>\n",
       "    </tr>\n",
       "    <tr>\n",
       "      <th>5</th>\n",
       "      <td>Tetris</td>\n",
       "      <td>GB</td>\n",
       "      <td>1989</td>\n",
       "      <td>Puzzle</td>\n",
       "      <td>23.20</td>\n",
       "      <td>2.26</td>\n",
       "      <td>4.22</td>\n",
       "      <td>0.58</td>\n",
       "      <td>NaN</td>\n",
       "      <td>NaN</td>\n",
       "      <td>missing</td>\n",
       "    </tr>\n",
       "    <tr>\n",
       "      <th>9</th>\n",
       "      <td>Duck Hunt</td>\n",
       "      <td>NES</td>\n",
       "      <td>1984</td>\n",
       "      <td>Shooter</td>\n",
       "      <td>26.93</td>\n",
       "      <td>0.63</td>\n",
       "      <td>0.28</td>\n",
       "      <td>0.47</td>\n",
       "      <td>NaN</td>\n",
       "      <td>NaN</td>\n",
       "      <td>missing</td>\n",
       "    </tr>\n",
       "    <tr>\n",
       "      <th>10</th>\n",
       "      <td>Nintendogs</td>\n",
       "      <td>DS</td>\n",
       "      <td>2005</td>\n",
       "      <td>Simulation</td>\n",
       "      <td>9.05</td>\n",
       "      <td>10.95</td>\n",
       "      <td>1.93</td>\n",
       "      <td>2.74</td>\n",
       "      <td>NaN</td>\n",
       "      <td>NaN</td>\n",
       "      <td>missing</td>\n",
       "    </tr>\n",
       "    <tr>\n",
       "      <th>...</th>\n",
       "      <td>...</td>\n",
       "      <td>...</td>\n",
       "      <td>...</td>\n",
       "      <td>...</td>\n",
       "      <td>...</td>\n",
       "      <td>...</td>\n",
       "      <td>...</td>\n",
       "      <td>...</td>\n",
       "      <td>...</td>\n",
       "      <td>...</td>\n",
       "      <td>...</td>\n",
       "    </tr>\n",
       "    <tr>\n",
       "      <th>16708</th>\n",
       "      <td>Samurai Warriors: Sanada Maru</td>\n",
       "      <td>PS3</td>\n",
       "      <td>2016</td>\n",
       "      <td>Action</td>\n",
       "      <td>0.00</td>\n",
       "      <td>0.00</td>\n",
       "      <td>0.01</td>\n",
       "      <td>0.00</td>\n",
       "      <td>NaN</td>\n",
       "      <td>NaN</td>\n",
       "      <td>missing</td>\n",
       "    </tr>\n",
       "    <tr>\n",
       "      <th>16709</th>\n",
       "      <td>LMA Manager 2007</td>\n",
       "      <td>X360</td>\n",
       "      <td>2006</td>\n",
       "      <td>Sports</td>\n",
       "      <td>0.00</td>\n",
       "      <td>0.01</td>\n",
       "      <td>0.00</td>\n",
       "      <td>0.00</td>\n",
       "      <td>NaN</td>\n",
       "      <td>NaN</td>\n",
       "      <td>missing</td>\n",
       "    </tr>\n",
       "    <tr>\n",
       "      <th>16710</th>\n",
       "      <td>Haitaka no Psychedelica</td>\n",
       "      <td>PSV</td>\n",
       "      <td>2016</td>\n",
       "      <td>Adventure</td>\n",
       "      <td>0.00</td>\n",
       "      <td>0.00</td>\n",
       "      <td>0.01</td>\n",
       "      <td>0.00</td>\n",
       "      <td>NaN</td>\n",
       "      <td>NaN</td>\n",
       "      <td>missing</td>\n",
       "    </tr>\n",
       "    <tr>\n",
       "      <th>16711</th>\n",
       "      <td>Spirits &amp; Spells</td>\n",
       "      <td>GBA</td>\n",
       "      <td>2003</td>\n",
       "      <td>Platform</td>\n",
       "      <td>0.01</td>\n",
       "      <td>0.00</td>\n",
       "      <td>0.00</td>\n",
       "      <td>0.00</td>\n",
       "      <td>NaN</td>\n",
       "      <td>NaN</td>\n",
       "      <td>missing</td>\n",
       "    </tr>\n",
       "    <tr>\n",
       "      <th>16712</th>\n",
       "      <td>Winning Post 8 2016</td>\n",
       "      <td>PSV</td>\n",
       "      <td>2016</td>\n",
       "      <td>Simulation</td>\n",
       "      <td>0.00</td>\n",
       "      <td>0.00</td>\n",
       "      <td>0.01</td>\n",
       "      <td>0.00</td>\n",
       "      <td>NaN</td>\n",
       "      <td>NaN</td>\n",
       "      <td>missing</td>\n",
       "    </tr>\n",
       "  </tbody>\n",
       "</table>\n",
       "<p>8461 rows × 11 columns</p>\n",
       "</div>"
      ],
      "text/plain": [
       "                                name platform  year_of_release         genre  \\\n",
       "1                  Super Mario Bros.      NES             1985      Platform   \n",
       "4           Pokemon Red/Pokemon Blue       GB             1996  Role-Playing   \n",
       "5                             Tetris       GB             1989        Puzzle   \n",
       "9                          Duck Hunt      NES             1984       Shooter   \n",
       "10                        Nintendogs       DS             2005    Simulation   \n",
       "...                              ...      ...              ...           ...   \n",
       "16708  Samurai Warriors: Sanada Maru      PS3             2016        Action   \n",
       "16709               LMA Manager 2007     X360             2006        Sports   \n",
       "16710        Haitaka no Psychedelica      PSV             2016     Adventure   \n",
       "16711               Spirits & Spells      GBA             2003      Platform   \n",
       "16712            Winning Post 8 2016      PSV             2016    Simulation   \n",
       "\n",
       "       na_sales  eu_sales  jp_sales  other_sales  critic_score  user_score  \\\n",
       "1         29.08      3.58      6.81         0.77           NaN         NaN   \n",
       "4         11.27      8.89     10.22         1.00           NaN         NaN   \n",
       "5         23.20      2.26      4.22         0.58           NaN         NaN   \n",
       "9         26.93      0.63      0.28         0.47           NaN         NaN   \n",
       "10         9.05     10.95      1.93         2.74           NaN         NaN   \n",
       "...         ...       ...       ...          ...           ...         ...   \n",
       "16708      0.00      0.00      0.01         0.00           NaN         NaN   \n",
       "16709      0.00      0.01      0.00         0.00           NaN         NaN   \n",
       "16710      0.00      0.00      0.01         0.00           NaN         NaN   \n",
       "16711      0.01      0.00      0.00         0.00           NaN         NaN   \n",
       "16712      0.00      0.00      0.01         0.00           NaN         NaN   \n",
       "\n",
       "        rating  \n",
       "1      missing  \n",
       "4      missing  \n",
       "5      missing  \n",
       "9      missing  \n",
       "10     missing  \n",
       "...        ...  \n",
       "16708  missing  \n",
       "16709  missing  \n",
       "16710  missing  \n",
       "16711  missing  \n",
       "16712  missing  \n",
       "\n",
       "[8461 rows x 11 columns]"
      ]
     },
     "execution_count": 54,
     "metadata": {},
     "output_type": "execute_result"
    }
   ],
   "source": [
    "games.loc[games['critic_score'].isna()]"
   ]
  },
  {
   "cell_type": "markdown",
   "metadata": {},
   "source": [
    "### Суммарные продажи по регионам"
   ]
  },
  {
   "cell_type": "markdown",
   "metadata": {},
   "source": [
    "Добавим столбец для суммарных продаж по регионам"
   ]
  },
  {
   "cell_type": "code",
   "execution_count": 55,
   "metadata": {},
   "outputs": [
    {
     "data": {
      "text/html": [
       "<div>\n",
       "<style scoped>\n",
       "    .dataframe tbody tr th:only-of-type {\n",
       "        vertical-align: middle;\n",
       "    }\n",
       "\n",
       "    .dataframe tbody tr th {\n",
       "        vertical-align: top;\n",
       "    }\n",
       "\n",
       "    .dataframe thead th {\n",
       "        text-align: right;\n",
       "    }\n",
       "</style>\n",
       "<table border=\"1\" class=\"dataframe\">\n",
       "  <thead>\n",
       "    <tr style=\"text-align: right;\">\n",
       "      <th></th>\n",
       "      <th>name</th>\n",
       "      <th>platform</th>\n",
       "      <th>year_of_release</th>\n",
       "      <th>genre</th>\n",
       "      <th>na_sales</th>\n",
       "      <th>eu_sales</th>\n",
       "      <th>jp_sales</th>\n",
       "      <th>other_sales</th>\n",
       "      <th>total_sales</th>\n",
       "      <th>critic_score</th>\n",
       "      <th>user_score</th>\n",
       "      <th>rating</th>\n",
       "    </tr>\n",
       "  </thead>\n",
       "  <tbody>\n",
       "    <tr>\n",
       "      <th>0</th>\n",
       "      <td>Wii Sports</td>\n",
       "      <td>Wii</td>\n",
       "      <td>2006</td>\n",
       "      <td>Sports</td>\n",
       "      <td>41.36</td>\n",
       "      <td>28.96</td>\n",
       "      <td>3.77</td>\n",
       "      <td>8.45</td>\n",
       "      <td>82.54</td>\n",
       "      <td>76.0</td>\n",
       "      <td>8.0</td>\n",
       "      <td>E</td>\n",
       "    </tr>\n",
       "    <tr>\n",
       "      <th>1</th>\n",
       "      <td>Super Mario Bros.</td>\n",
       "      <td>NES</td>\n",
       "      <td>1985</td>\n",
       "      <td>Platform</td>\n",
       "      <td>29.08</td>\n",
       "      <td>3.58</td>\n",
       "      <td>6.81</td>\n",
       "      <td>0.77</td>\n",
       "      <td>40.24</td>\n",
       "      <td>NaN</td>\n",
       "      <td>NaN</td>\n",
       "      <td>missing</td>\n",
       "    </tr>\n",
       "    <tr>\n",
       "      <th>2</th>\n",
       "      <td>Mario Kart Wii</td>\n",
       "      <td>Wii</td>\n",
       "      <td>2008</td>\n",
       "      <td>Racing</td>\n",
       "      <td>15.68</td>\n",
       "      <td>12.76</td>\n",
       "      <td>3.79</td>\n",
       "      <td>3.29</td>\n",
       "      <td>35.52</td>\n",
       "      <td>82.0</td>\n",
       "      <td>8.3</td>\n",
       "      <td>E</td>\n",
       "    </tr>\n",
       "    <tr>\n",
       "      <th>3</th>\n",
       "      <td>Wii Sports Resort</td>\n",
       "      <td>Wii</td>\n",
       "      <td>2009</td>\n",
       "      <td>Sports</td>\n",
       "      <td>15.61</td>\n",
       "      <td>10.93</td>\n",
       "      <td>3.28</td>\n",
       "      <td>2.95</td>\n",
       "      <td>32.77</td>\n",
       "      <td>80.0</td>\n",
       "      <td>8.0</td>\n",
       "      <td>E</td>\n",
       "    </tr>\n",
       "    <tr>\n",
       "      <th>4</th>\n",
       "      <td>Pokemon Red/Pokemon Blue</td>\n",
       "      <td>GB</td>\n",
       "      <td>1996</td>\n",
       "      <td>Role-Playing</td>\n",
       "      <td>11.27</td>\n",
       "      <td>8.89</td>\n",
       "      <td>10.22</td>\n",
       "      <td>1.00</td>\n",
       "      <td>31.38</td>\n",
       "      <td>NaN</td>\n",
       "      <td>NaN</td>\n",
       "      <td>missing</td>\n",
       "    </tr>\n",
       "    <tr>\n",
       "      <th>...</th>\n",
       "      <td>...</td>\n",
       "      <td>...</td>\n",
       "      <td>...</td>\n",
       "      <td>...</td>\n",
       "      <td>...</td>\n",
       "      <td>...</td>\n",
       "      <td>...</td>\n",
       "      <td>...</td>\n",
       "      <td>...</td>\n",
       "      <td>...</td>\n",
       "      <td>...</td>\n",
       "      <td>...</td>\n",
       "    </tr>\n",
       "    <tr>\n",
       "      <th>16708</th>\n",
       "      <td>Samurai Warriors: Sanada Maru</td>\n",
       "      <td>PS3</td>\n",
       "      <td>2016</td>\n",
       "      <td>Action</td>\n",
       "      <td>0.00</td>\n",
       "      <td>0.00</td>\n",
       "      <td>0.01</td>\n",
       "      <td>0.00</td>\n",
       "      <td>0.01</td>\n",
       "      <td>NaN</td>\n",
       "      <td>NaN</td>\n",
       "      <td>missing</td>\n",
       "    </tr>\n",
       "    <tr>\n",
       "      <th>16709</th>\n",
       "      <td>LMA Manager 2007</td>\n",
       "      <td>X360</td>\n",
       "      <td>2006</td>\n",
       "      <td>Sports</td>\n",
       "      <td>0.00</td>\n",
       "      <td>0.01</td>\n",
       "      <td>0.00</td>\n",
       "      <td>0.00</td>\n",
       "      <td>0.01</td>\n",
       "      <td>NaN</td>\n",
       "      <td>NaN</td>\n",
       "      <td>missing</td>\n",
       "    </tr>\n",
       "    <tr>\n",
       "      <th>16710</th>\n",
       "      <td>Haitaka no Psychedelica</td>\n",
       "      <td>PSV</td>\n",
       "      <td>2016</td>\n",
       "      <td>Adventure</td>\n",
       "      <td>0.00</td>\n",
       "      <td>0.00</td>\n",
       "      <td>0.01</td>\n",
       "      <td>0.00</td>\n",
       "      <td>0.01</td>\n",
       "      <td>NaN</td>\n",
       "      <td>NaN</td>\n",
       "      <td>missing</td>\n",
       "    </tr>\n",
       "    <tr>\n",
       "      <th>16711</th>\n",
       "      <td>Spirits &amp; Spells</td>\n",
       "      <td>GBA</td>\n",
       "      <td>2003</td>\n",
       "      <td>Platform</td>\n",
       "      <td>0.01</td>\n",
       "      <td>0.00</td>\n",
       "      <td>0.00</td>\n",
       "      <td>0.00</td>\n",
       "      <td>0.01</td>\n",
       "      <td>NaN</td>\n",
       "      <td>NaN</td>\n",
       "      <td>missing</td>\n",
       "    </tr>\n",
       "    <tr>\n",
       "      <th>16712</th>\n",
       "      <td>Winning Post 8 2016</td>\n",
       "      <td>PSV</td>\n",
       "      <td>2016</td>\n",
       "      <td>Simulation</td>\n",
       "      <td>0.00</td>\n",
       "      <td>0.00</td>\n",
       "      <td>0.01</td>\n",
       "      <td>0.00</td>\n",
       "      <td>0.01</td>\n",
       "      <td>NaN</td>\n",
       "      <td>NaN</td>\n",
       "      <td>missing</td>\n",
       "    </tr>\n",
       "  </tbody>\n",
       "</table>\n",
       "<p>16444 rows × 12 columns</p>\n",
       "</div>"
      ],
      "text/plain": [
       "                                name platform  year_of_release         genre  \\\n",
       "0                         Wii Sports      Wii             2006        Sports   \n",
       "1                  Super Mario Bros.      NES             1985      Platform   \n",
       "2                     Mario Kart Wii      Wii             2008        Racing   \n",
       "3                  Wii Sports Resort      Wii             2009        Sports   \n",
       "4           Pokemon Red/Pokemon Blue       GB             1996  Role-Playing   \n",
       "...                              ...      ...              ...           ...   \n",
       "16708  Samurai Warriors: Sanada Maru      PS3             2016        Action   \n",
       "16709               LMA Manager 2007     X360             2006        Sports   \n",
       "16710        Haitaka no Psychedelica      PSV             2016     Adventure   \n",
       "16711               Spirits & Spells      GBA             2003      Platform   \n",
       "16712            Winning Post 8 2016      PSV             2016    Simulation   \n",
       "\n",
       "       na_sales  eu_sales  jp_sales  other_sales  total_sales  critic_score  \\\n",
       "0         41.36     28.96      3.77         8.45        82.54          76.0   \n",
       "1         29.08      3.58      6.81         0.77        40.24           NaN   \n",
       "2         15.68     12.76      3.79         3.29        35.52          82.0   \n",
       "3         15.61     10.93      3.28         2.95        32.77          80.0   \n",
       "4         11.27      8.89     10.22         1.00        31.38           NaN   \n",
       "...         ...       ...       ...          ...          ...           ...   \n",
       "16708      0.00      0.00      0.01         0.00         0.01           NaN   \n",
       "16709      0.00      0.01      0.00         0.00         0.01           NaN   \n",
       "16710      0.00      0.00      0.01         0.00         0.01           NaN   \n",
       "16711      0.01      0.00      0.00         0.00         0.01           NaN   \n",
       "16712      0.00      0.00      0.01         0.00         0.01           NaN   \n",
       "\n",
       "       user_score   rating  \n",
       "0             8.0        E  \n",
       "1             NaN  missing  \n",
       "2             8.3        E  \n",
       "3             8.0        E  \n",
       "4             NaN  missing  \n",
       "...           ...      ...  \n",
       "16708         NaN  missing  \n",
       "16709         NaN  missing  \n",
       "16710         NaN  missing  \n",
       "16711         NaN  missing  \n",
       "16712         NaN  missing  \n",
       "\n",
       "[16444 rows x 12 columns]"
      ]
     },
     "execution_count": 55,
     "metadata": {},
     "output_type": "execute_result"
    }
   ],
   "source": [
    "games['total_sales'] = games['na_sales'] + games['eu_sales'] + games['jp_sales'] + games['other_sales']\n",
    "games = games.reindex(columns=['name', 'platform', 'year_of_release', 'genre', 'na_sales', 'eu_sales',\n",
    "       'jp_sales', 'other_sales', 'total_sales', 'critic_score', 'user_score', 'rating'])\n",
    "games"
   ]
  },
  {
   "cell_type": "markdown",
   "metadata": {},
   "source": [
    "## ИССЛЕДОВАТЕЛЬСКИЙ АНАЛИЗ ДАННЫХ"
   ]
  },
  {
   "cell_type": "markdown",
   "metadata": {},
   "source": [
    "### Выпуск игр по годам"
   ]
  },
  {
   "cell_type": "markdown",
   "metadata": {},
   "source": [
    "Посмотрим сколько игр выпускалось каждый год."
   ]
  },
  {
   "cell_type": "code",
   "execution_count": 56,
   "metadata": {},
   "outputs": [
    {
     "data": {
      "image/png": "[encoded data removed]",
      "text/plain": [
       "<Figure size 1500x1000 with 1 Axes>"
      ]
     },
     "metadata": {},
     "output_type": "display_data"
    }
   ],
   "source": [
    "games.year_of_release.hist(bins=35, figsize=(15, 10))\n",
    "plt.title('Количество игр выпускаемых по годам')\n",
    "plt.xlabel('год')\n",
    "plt.ylabel('количество игр')\n",
    "plt.show()"
   ]
  },
  {
   "cell_type": "code",
   "execution_count": 57,
   "metadata": {
    "scrolled": true
   },
   "outputs": [
    {
     "data": {
      "text/plain": [
       "2008    1427\n",
       "2009    1426\n",
       "2010    1255\n",
       "2007    1197\n",
       "2011    1136\n",
       "2006    1006\n",
       "2005     939\n",
       "2002     829\n",
       "2003     775\n",
       "2004     762\n",
       "2012     653\n",
       "2015     606\n",
       "2014     581\n",
       "2013     544\n",
       "2016     502\n",
       "2001     482\n",
       "1998     379\n",
       "2000     350\n",
       "1999     338\n",
       "1997     289\n",
       "1996     263\n",
       "1995     219\n",
       "1994     121\n",
       "1993      60\n",
       "1981      46\n",
       "1992      43\n",
       "1991      41\n",
       "1982      36\n",
       "1986      21\n",
       "1989      17\n",
       "1983      17\n",
       "1990      16\n",
       "1987      16\n",
       "1988      15\n",
       "1985      14\n",
       "1984      14\n",
       "1980       9\n",
       "Name: year_of_release, dtype: Int64"
      ]
     },
     "execution_count": 57,
     "metadata": {},
     "output_type": "execute_result"
    }
   ],
   "source": [
    "games.year_of_release.value_counts()"
   ]
  },
  {
   "cell_type": "markdown",
   "metadata": {},
   "source": [
    "До 1994 года выпускалось менее 70 игр в год, анализировать даные в эти года не корректно. Обновим диапазон датафрейма с 1994 до 2016 (удалим 5% строк)."
   ]
  },
  {
   "cell_type": "code",
   "execution_count": 58,
   "metadata": {},
   "outputs": [
    {
     "ename": "ValueError",
     "evalue": "unknown type object",
     "output_type": "error",
     "traceback": [
      "\u001b[1;31m---------------------------------------------------------------------------\u001b[0m",
      "\u001b[1;31mValueError\u001b[0m                                Traceback (most recent call last)",
      "Cell \u001b[1;32mIn[58], line 1\u001b[0m\n\u001b[1;32m----> 1\u001b[0m games \u001b[38;5;241m=\u001b[39m \u001b[43mgames\u001b[49m\u001b[38;5;241;43m.\u001b[39;49m\u001b[43mquery\u001b[49m\u001b[43m(\u001b[49m\u001b[38;5;124;43m'\u001b[39;49m\u001b[38;5;124;43myear_of_release > 1993\u001b[39;49m\u001b[38;5;124;43m'\u001b[39;49m\u001b[43m)\u001b[49m\n",
      "File \u001b[1;32mC:\\ProgramData\\anaconda3\\lib\\site-packages\\pandas\\util\\_decorators.py:331\u001b[0m, in \u001b[0;36mdeprecate_nonkeyword_arguments.<locals>.decorate.<locals>.wrapper\u001b[1;34m(*args, **kwargs)\u001b[0m\n\u001b[0;32m    325\u001b[0m \u001b[38;5;28;01mif\u001b[39;00m \u001b[38;5;28mlen\u001b[39m(args) \u001b[38;5;241m>\u001b[39m num_allow_args:\n\u001b[0;32m    326\u001b[0m     warnings\u001b[38;5;241m.\u001b[39mwarn(\n\u001b[0;32m    327\u001b[0m         msg\u001b[38;5;241m.\u001b[39mformat(arguments\u001b[38;5;241m=\u001b[39m_format_argument_list(allow_args)),\n\u001b[0;32m    328\u001b[0m         \u001b[38;5;167;01mFutureWarning\u001b[39;00m,\n\u001b[0;32m    329\u001b[0m         stacklevel\u001b[38;5;241m=\u001b[39mfind_stack_level(),\n\u001b[0;32m    330\u001b[0m     )\n\u001b[1;32m--> 331\u001b[0m \u001b[38;5;28;01mreturn\u001b[39;00m func(\u001b[38;5;241m*\u001b[39margs, \u001b[38;5;241m*\u001b[39m\u001b[38;5;241m*\u001b[39mkwargs)\n",
      "File \u001b[1;32mC:\\ProgramData\\anaconda3\\lib\\site-packages\\pandas\\core\\frame.py:4474\u001b[0m, in \u001b[0;36mDataFrame.query\u001b[1;34m(self, expr, inplace, **kwargs)\u001b[0m\n\u001b[0;32m   4472\u001b[0m kwargs[\u001b[38;5;124m\"\u001b[39m\u001b[38;5;124mlevel\u001b[39m\u001b[38;5;124m\"\u001b[39m] \u001b[38;5;241m=\u001b[39m kwargs\u001b[38;5;241m.\u001b[39mpop(\u001b[38;5;124m\"\u001b[39m\u001b[38;5;124mlevel\u001b[39m\u001b[38;5;124m\"\u001b[39m, \u001b[38;5;241m0\u001b[39m) \u001b[38;5;241m+\u001b[39m \u001b[38;5;241m2\u001b[39m\n\u001b[0;32m   4473\u001b[0m kwargs[\u001b[38;5;124m\"\u001b[39m\u001b[38;5;124mtarget\u001b[39m\u001b[38;5;124m\"\u001b[39m] \u001b[38;5;241m=\u001b[39m \u001b[38;5;28;01mNone\u001b[39;00m\n\u001b[1;32m-> 4474\u001b[0m res \u001b[38;5;241m=\u001b[39m \u001b[38;5;28mself\u001b[39m\u001b[38;5;241m.\u001b[39meval(expr, \u001b[38;5;241m*\u001b[39m\u001b[38;5;241m*\u001b[39mkwargs)\n\u001b[0;32m   4476\u001b[0m \u001b[38;5;28;01mtry\u001b[39;00m:\n\u001b[0;32m   4477\u001b[0m     result \u001b[38;5;241m=\u001b[39m \u001b[38;5;28mself\u001b[39m\u001b[38;5;241m.\u001b[39mloc[res]\n",
      "File \u001b[1;32mC:\\ProgramData\\anaconda3\\lib\\site-packages\\pandas\\util\\_decorators.py:331\u001b[0m, in \u001b[0;36mdeprecate_nonkeyword_arguments.<locals>.decorate.<locals>.wrapper\u001b[1;34m(*args, **kwargs)\u001b[0m\n\u001b[0;32m    325\u001b[0m \u001b[38;5;28;01mif\u001b[39;00m \u001b[38;5;28mlen\u001b[39m(args) \u001b[38;5;241m>\u001b[39m num_allow_args:\n\u001b[0;32m    326\u001b[0m     warnings\u001b[38;5;241m.\u001b[39mwarn(\n\u001b[0;32m    327\u001b[0m         msg\u001b[38;5;241m.\u001b[39mformat(arguments\u001b[38;5;241m=\u001b[39m_format_argument_list(allow_args)),\n\u001b[0;32m    328\u001b[0m         \u001b[38;5;167;01mFutureWarning\u001b[39;00m,\n\u001b[0;32m    329\u001b[0m         stacklevel\u001b[38;5;241m=\u001b[39mfind_stack_level(),\n\u001b[0;32m    330\u001b[0m     )\n\u001b[1;32m--> 331\u001b[0m \u001b[38;5;28;01mreturn\u001b[39;00m func(\u001b[38;5;241m*\u001b[39margs, \u001b[38;5;241m*\u001b[39m\u001b[38;5;241m*\u001b[39mkwargs)\n",
      "File \u001b[1;32mC:\\ProgramData\\anaconda3\\lib\\site-packages\\pandas\\core\\frame.py:4612\u001b[0m, in \u001b[0;36mDataFrame.eval\u001b[1;34m(self, expr, inplace, **kwargs)\u001b[0m\n\u001b[0;32m   4609\u001b[0m     kwargs[\u001b[38;5;124m\"\u001b[39m\u001b[38;5;124mtarget\u001b[39m\u001b[38;5;124m\"\u001b[39m] \u001b[38;5;241m=\u001b[39m \u001b[38;5;28mself\u001b[39m\n\u001b[0;32m   4610\u001b[0m kwargs[\u001b[38;5;124m\"\u001b[39m\u001b[38;5;124mresolvers\u001b[39m\u001b[38;5;124m\"\u001b[39m] \u001b[38;5;241m=\u001b[39m \u001b[38;5;28mtuple\u001b[39m(kwargs\u001b[38;5;241m.\u001b[39mget(\u001b[38;5;124m\"\u001b[39m\u001b[38;5;124mresolvers\u001b[39m\u001b[38;5;124m\"\u001b[39m, ())) \u001b[38;5;241m+\u001b[39m resolvers\n\u001b[1;32m-> 4612\u001b[0m \u001b[38;5;28;01mreturn\u001b[39;00m _eval(expr, inplace\u001b[38;5;241m=\u001b[39minplace, \u001b[38;5;241m*\u001b[39m\u001b[38;5;241m*\u001b[39mkwargs)\n",
      "File \u001b[1;32mC:\\ProgramData\\anaconda3\\lib\\site-packages\\pandas\\core\\computation\\eval.py:358\u001b[0m, in \u001b[0;36meval\u001b[1;34m(expr, parser, engine, truediv, local_dict, global_dict, resolvers, level, target, inplace)\u001b[0m\n\u001b[0;32m    356\u001b[0m eng \u001b[38;5;241m=\u001b[39m ENGINES[engine]\n\u001b[0;32m    357\u001b[0m eng_inst \u001b[38;5;241m=\u001b[39m eng(parsed_expr)\n\u001b[1;32m--> 358\u001b[0m ret \u001b[38;5;241m=\u001b[39m \u001b[43meng_inst\u001b[49m\u001b[38;5;241;43m.\u001b[39;49m\u001b[43mevaluate\u001b[49m\u001b[43m(\u001b[49m\u001b[43m)\u001b[49m\n\u001b[0;32m    360\u001b[0m \u001b[38;5;28;01mif\u001b[39;00m parsed_expr\u001b[38;5;241m.\u001b[39massigner \u001b[38;5;129;01mis\u001b[39;00m \u001b[38;5;28;01mNone\u001b[39;00m:\n\u001b[0;32m    361\u001b[0m     \u001b[38;5;28;01mif\u001b[39;00m multi_line:\n",
      "File \u001b[1;32mC:\\ProgramData\\anaconda3\\lib\\site-packages\\pandas\\core\\computation\\engines.py:81\u001b[0m, in \u001b[0;36mAbstractEngine.evaluate\u001b[1;34m(self)\u001b[0m\n\u001b[0;32m     78\u001b[0m     \u001b[38;5;28mself\u001b[39m\u001b[38;5;241m.\u001b[39mresult_type, \u001b[38;5;28mself\u001b[39m\u001b[38;5;241m.\u001b[39maligned_axes \u001b[38;5;241m=\u001b[39m align_terms(\u001b[38;5;28mself\u001b[39m\u001b[38;5;241m.\u001b[39mexpr\u001b[38;5;241m.\u001b[39mterms)\n\u001b[0;32m     80\u001b[0m \u001b[38;5;66;03m# make sure no names in resolvers and locals/globals clash\u001b[39;00m\n\u001b[1;32m---> 81\u001b[0m res \u001b[38;5;241m=\u001b[39m \u001b[38;5;28;43mself\u001b[39;49m\u001b[38;5;241;43m.\u001b[39;49m\u001b[43m_evaluate\u001b[49m\u001b[43m(\u001b[49m\u001b[43m)\u001b[49m\n\u001b[0;32m     82\u001b[0m \u001b[38;5;28;01mreturn\u001b[39;00m reconstruct_object(\n\u001b[0;32m     83\u001b[0m     \u001b[38;5;28mself\u001b[39m\u001b[38;5;241m.\u001b[39mresult_type, res, \u001b[38;5;28mself\u001b[39m\u001b[38;5;241m.\u001b[39maligned_axes, \u001b[38;5;28mself\u001b[39m\u001b[38;5;241m.\u001b[39mexpr\u001b[38;5;241m.\u001b[39mterms\u001b[38;5;241m.\u001b[39mreturn_type\n\u001b[0;32m     84\u001b[0m )\n",
      "File \u001b[1;32mC:\\ProgramData\\anaconda3\\lib\\site-packages\\pandas\\core\\computation\\engines.py:122\u001b[0m, in \u001b[0;36mNumExprEngine._evaluate\u001b[1;34m(self)\u001b[0m\n\u001b[0;32m    120\u001b[0m scope \u001b[38;5;241m=\u001b[39m env\u001b[38;5;241m.\u001b[39mfull_scope\n\u001b[0;32m    121\u001b[0m _check_ne_builtin_clash(\u001b[38;5;28mself\u001b[39m\u001b[38;5;241m.\u001b[39mexpr)\n\u001b[1;32m--> 122\u001b[0m \u001b[38;5;28;01mreturn\u001b[39;00m \u001b[43mne\u001b[49m\u001b[38;5;241;43m.\u001b[39;49m\u001b[43mevaluate\u001b[49m\u001b[43m(\u001b[49m\u001b[43ms\u001b[49m\u001b[43m,\u001b[49m\u001b[43m \u001b[49m\u001b[43mlocal_dict\u001b[49m\u001b[38;5;241;43m=\u001b[39;49m\u001b[43mscope\u001b[49m\u001b[43m)\u001b[49m\n",
      "File \u001b[1;32mC:\\ProgramData\\anaconda3\\lib\\site-packages\\numexpr\\necompiler.py:822\u001b[0m, in \u001b[0;36mevaluate\u001b[1;34m(ex, local_dict, global_dict, out, order, casting, **kwargs)\u001b[0m\n\u001b[0;32m    819\u001b[0m arguments \u001b[38;5;241m=\u001b[39m getArguments(names, local_dict, global_dict)\n\u001b[0;32m    821\u001b[0m \u001b[38;5;66;03m# Create a signature\u001b[39;00m\n\u001b[1;32m--> 822\u001b[0m signature \u001b[38;5;241m=\u001b[39m [(name, getType(arg)) \u001b[38;5;28;01mfor\u001b[39;00m (name, arg) \u001b[38;5;129;01min\u001b[39;00m\n\u001b[0;32m    823\u001b[0m              \u001b[38;5;28mzip\u001b[39m(names, arguments)]\n\u001b[0;32m    825\u001b[0m \u001b[38;5;66;03m# Look up numexpr if possible.\u001b[39;00m\n\u001b[0;32m    826\u001b[0m numexpr_key \u001b[38;5;241m=\u001b[39m expr_key \u001b[38;5;241m+\u001b[39m (\u001b[38;5;28mtuple\u001b[39m(signature),)\n",
      "File \u001b[1;32mC:\\ProgramData\\anaconda3\\lib\\site-packages\\numexpr\\necompiler.py:822\u001b[0m, in \u001b[0;36m<listcomp>\u001b[1;34m(.0)\u001b[0m\n\u001b[0;32m    819\u001b[0m arguments \u001b[38;5;241m=\u001b[39m getArguments(names, local_dict, global_dict)\n\u001b[0;32m    821\u001b[0m \u001b[38;5;66;03m# Create a signature\u001b[39;00m\n\u001b[1;32m--> 822\u001b[0m signature \u001b[38;5;241m=\u001b[39m [(name, \u001b[43mgetType\u001b[49m\u001b[43m(\u001b[49m\u001b[43marg\u001b[49m\u001b[43m)\u001b[49m) \u001b[38;5;28;01mfor\u001b[39;00m (name, arg) \u001b[38;5;129;01min\u001b[39;00m\n\u001b[0;32m    823\u001b[0m              \u001b[38;5;28mzip\u001b[39m(names, arguments)]\n\u001b[0;32m    825\u001b[0m \u001b[38;5;66;03m# Look up numexpr if possible.\u001b[39;00m\n\u001b[0;32m    826\u001b[0m numexpr_key \u001b[38;5;241m=\u001b[39m expr_key \u001b[38;5;241m+\u001b[39m (\u001b[38;5;28mtuple\u001b[39m(signature),)\n",
      "File \u001b[1;32mC:\\ProgramData\\anaconda3\\lib\\site-packages\\numexpr\\necompiler.py:700\u001b[0m, in \u001b[0;36mgetType\u001b[1;34m(a)\u001b[0m\n\u001b[0;32m    698\u001b[0m \u001b[38;5;28;01mif\u001b[39;00m kind \u001b[38;5;241m==\u001b[39m \u001b[38;5;124m'\u001b[39m\u001b[38;5;124mU\u001b[39m\u001b[38;5;124m'\u001b[39m:\n\u001b[0;32m    699\u001b[0m     \u001b[38;5;28;01mraise\u001b[39;00m \u001b[38;5;167;01mValueError\u001b[39;00m(\u001b[38;5;124m'\u001b[39m\u001b[38;5;124mNumExpr 2 does not support Unicode as a dtype.\u001b[39m\u001b[38;5;124m'\u001b[39m)\n\u001b[1;32m--> 700\u001b[0m \u001b[38;5;28;01mraise\u001b[39;00m \u001b[38;5;167;01mValueError\u001b[39;00m(\u001b[38;5;124m\"\u001b[39m\u001b[38;5;124munknown type \u001b[39m\u001b[38;5;132;01m%s\u001b[39;00m\u001b[38;5;124m\"\u001b[39m \u001b[38;5;241m%\u001b[39m a\u001b[38;5;241m.\u001b[39mdtype\u001b[38;5;241m.\u001b[39mname)\n",
      "\u001b[1;31mValueError\u001b[0m: unknown type object"
     ]
    }
   ],
   "source": [
    "games = games.query('year_of_release > 1993')"
   ]
  },
  {
   "cell_type": "markdown",
   "metadata": {},
   "source": [
    "### Платформы"
   ]
  },
  {
   "cell_type": "markdown",
   "metadata": {},
   "source": [
    "Посмотрим на разнообразие платформ по годам. Видим, что до 2009 количество платформ увеличивается, после - падает. Возможно, к этому моменту сформировались наиболее популярные или универсальные платформы."
   ]
  },
  {
   "cell_type": "code",
   "execution_count": null,
   "metadata": {
    "scrolled": false
   },
   "outputs": [],
   "source": [
    "games.pivot_table(index='year_of_release', values='platform', aggfunc='count').plot(figsize=(15, 10))\n",
    "plt.title('Количество платформ по годам')\n",
    "plt.xlabel('год')\n",
    "plt.ylabel('количество платформ')\n",
    "plt.show()"
   ]
  },
  {
   "cell_type": "markdown",
   "metadata": {},
   "source": [
    "Топ 10 популярных платформ:"
   ]
  },
  {
   "cell_type": "code",
   "execution_count": null,
   "metadata": {
    "scrolled": true
   },
   "outputs": [],
   "source": [
    "games.platform.value_counts().head(10)"
   ]
  },
  {
   "cell_type": "markdown",
   "metadata": {},
   "source": [
    "На первых местах: Sony PlayStation (2,3), Nintendo DS, Xbox 360 от Microsoft."
   ]
  },
  {
   "cell_type": "markdown",
   "metadata": {},
   "source": [
    "Посмотрим на количество игр по годам:"
   ]
  },
  {
   "cell_type": "code",
   "execution_count": null,
   "metadata": {},
   "outputs": [],
   "source": [
    "games.pivot_table(index='year_of_release', values='name', aggfunc='count').plot(figsize=(15, 10))\n",
    "plt.title('Количество игр по годам')\n",
    "plt.xlabel('год')\n",
    "plt.ylabel('количество игр')\n",
    "plt.show()"
   ]
  },
  {
   "cell_type": "code",
   "execution_count": null,
   "metadata": {
    "scrolled": true
   },
   "outputs": [],
   "source": [
    "games.pivot_table(index='year_of_release', values='name', aggfunc='count')"
   ]
  },
  {
   "cell_type": "markdown",
   "metadata": {},
   "source": [
    "С 2010 года количество игр и платформ пошло на спад."
   ]
  },
  {
   "cell_type": "markdown",
   "metadata": {},
   "source": [
    "Построим аналогичный график для платформ с наибольшим количеством суммарных продаж. Возьмем топ шесть (наиболее отличающиеся от остальных)."
   ]
  },
  {
   "cell_type": "code",
   "execution_count": null,
   "metadata": {},
   "outputs": [],
   "source": [
    "games.groupby('platform')['total_sales'].sum().sort_values(ascending=False).head(6)"
   ]
  },
  {
   "cell_type": "code",
   "execution_count": null,
   "metadata": {},
   "outputs": [],
   "source": [
    "top_platforms = games.query('platform == [\"PS2\", \"X360\", \"PS3\", \"Wii\", \"DS\", \"PS\"]')"
   ]
  },
  {
   "cell_type": "code",
   "execution_count": null,
   "metadata": {},
   "outputs": [],
   "source": [
    "(top_platforms.pivot_table(index='year_of_release', columns='platform', values='total_sales', aggfunc='sum')\n",
    "    .plot(figsize=(20, 10)))\n",
    "plt.title('Топ-6 платформ с наибольшими продажами по годам')\n",
    "plt.xlabel('год')\n",
    "plt.ylabel('сумма продаж')\n",
    "plt.show()"
   ]
  },
  {
   "cell_type": "markdown",
   "metadata": {},
   "source": [
    "Мы видим, что достаточно продолжительное время лидирующую позицию занимала компания Sony, каждая версия PlayStation которой выходила закономерно после спада предыдущей (в отличие, например, от Nintendo, она выпустила две платформы с разницой всего лишь в 2 года и на пике продаж первой)."
   ]
  },
  {
   "cell_type": "markdown",
   "metadata": {},
   "source": [
    "Оценим продолжительность жизни топовых платформ:"
   ]
  },
  {
   "cell_type": "code",
   "execution_count": null,
   "metadata": {},
   "outputs": [],
   "source": [
    "top_platforms_life = top_platforms.pivot_table(index='platform', values='year_of_release', aggfunc=['min', 'max'])\n",
    "top_platforms_life.columns = ['release', 'end']\n",
    "top_platforms_life['life'] = top_platforms_life.end - top_platforms_life.release\n",
    "top_platforms_life.sort_values(by='release')"
   ]
  },
  {
   "cell_type": "markdown",
   "metadata": {},
   "source": [
    "**В среднем, топовые платформы живут 10 лет.**"
   ]
  },
  {
   "cell_type": "markdown",
   "metadata": {},
   "source": [
    "Взглянем на график всех платформ."
   ]
  },
  {
   "cell_type": "code",
   "execution_count": null,
   "metadata": {
    "scrolled": false
   },
   "outputs": [],
   "source": [
    "(games.pivot_table(index='year_of_release', columns='platform', values='total_sales', aggfunc='sum')\n",
    "    .plot(figsize=(20, 10)))\n",
    "plt.title('Все платформы по годам')\n",
    "plt.xlabel('год')\n",
    "plt.ylabel('сумма продаж')\n",
    "plt.show()"
   ]
  },
  {
   "cell_type": "markdown",
   "metadata": {},
   "source": [
    "На графике всех платформ видим, что после 2011 года взлет был только у двух - Sony PS4 и Microsoft XOne, их продажи в разы меньше продаж топовых платформ. У всех остальных платформ с 2011 года тенденция к снижению продаж."
   ]
  },
  {
   "cell_type": "code",
   "execution_count": null,
   "metadata": {},
   "outputs": [],
   "source": [
    "other_platforms_life = (games.query('platform != [\"PS2\", \"X360\", \"PS3\", \"Wii\", \"DS\", \"PS\"]')\n",
    "    .pivot_table(index='platform', values='year_of_release', aggfunc=['min', 'max']))\n",
    "other_platforms_life.columns = ['release', 'end']\n",
    "other_platforms_life['life'] = other_platforms_life.end - other_platforms_life.release\n",
    "other_platforms_life.sort_values(by='release')"
   ]
  },
  {
   "cell_type": "markdown",
   "metadata": {},
   "source": [
    "Мы видим, что платформа PC для ПК - долгожитель (22 года), хоть продажи с нее в разы меньше топовых платформ (люди всегда играли и будут играть на компьютере). PSP - разновидность платформы от Sony, продолжительность характерна для топовых."
   ]
  },
  {
   "cell_type": "code",
   "execution_count": null,
   "metadata": {},
   "outputs": [],
   "source": [
    "median_life = other_platforms_life.query('platform != \"PC\"')\n",
    "median = median_life['life'].median()\n",
    "print(f'Средняя продолжительность остальных платформ - {median} года.')"
   ]
  },
  {
   "cell_type": "markdown",
   "metadata": {},
   "source": [
    "### Актуальный период"
   ]
  },
  {
   "cell_type": "markdown",
   "metadata": {},
   "source": [
    "Игровая индустрия довольно быстро меняется, для прогноза на 2017 год возьмем последние 3 года, исходя из средней продолжительности жизни большинства платформ - 4.5 года и того факта, что её половина проходит в нисходящей тенденции продаж (за этот период мы точно увидим стадию взлета или спада продаж и сможем спрогнозировать развитие).  \n",
    "Изначально хотели взять промежуток в 10 лет, что соответствует жизни топовых платформ, но на общем графике увидели, что за последние 5 лет только у двух не топовых платформ восходящие продажи, остальные и топовые патформы на спаде."
   ]
  },
  {
   "cell_type": "code",
   "execution_count": null,
   "metadata": {
    "scrolled": true
   },
   "outputs": [],
   "source": [
    "games_actual = games.query('year_of_release > 2013')"
   ]
  },
  {
   "cell_type": "code",
   "execution_count": null,
   "metadata": {},
   "outputs": [],
   "source": [
    "games_actual.groupby('year_of_release')['year_of_release'].count()"
   ]
  },
  {
   "cell_type": "markdown",
   "metadata": {},
   "source": [
    "Данные по годам распределены равномерно."
   ]
  },
  {
   "cell_type": "markdown",
   "metadata": {},
   "source": [
    "### Прибыльные платформы актуального периода"
   ]
  },
  {
   "cell_type": "code",
   "execution_count": null,
   "metadata": {},
   "outputs": [],
   "source": [
    "(games_actual.pivot_table(index='year_of_release', columns='platform', values='total_sales', aggfunc='sum')\n",
    "    .plot(figsize=(20, 10)))\n",
    "plt.title('Платформы актуального периода')\n",
    "plt.xlabel('год')\n",
    "plt.ylabel('сумма продаж, млн.')\n",
    "plt.xticks(range(2014, 2017))\n",
    "plt.show()"
   ]
  },
  {
   "cell_type": "markdown",
   "metadata": {},
   "source": [
    "Ещё на общем графике мы видели нисходящий тренд продаж всех платформ.  \n",
    "Только две платформы - Sony PS4 и Microsoft XOne имеют пик в актуальном периоде 2013-2016 г., а значит проживут дольше остальных. К их показателям наиболее близки продажи платформы 3DS, её также можно считать более прибыльной, чем остальные.  \n",
    "**К 2016 году продажи всех платформ идут на спад.**"
   ]
  },
  {
   "cell_type": "markdown",
   "metadata": {},
   "source": [
    "Посмотрим на глобальные продажи по платформам."
   ]
  },
  {
   "cell_type": "code",
   "execution_count": null,
   "metadata": {},
   "outputs": [],
   "source": [
    "fig, ax = plt.subplots(figsize=(20,10))\n",
    "ax.grid()\n",
    "sns.boxplot(data=games_actual, x='platform', y='total_sales', palette='husl')\n",
    "plt.title('Глобальные продажи по платформам', fontsize=15)\n",
    "plt.xlabel('платформы')\n",
    "plt.ylabel('объём продаж')\n",
    "plt.ylim(0, 1)\n",
    "plt.show()"
   ]
  },
  {
   "cell_type": "markdown",
   "metadata": {},
   "source": [
    "Суммарные продажи:"
   ]
  },
  {
   "cell_type": "code",
   "execution_count": null,
   "metadata": {},
   "outputs": [],
   "source": [
    "games_actual.groupby('platform')['total_sales'].sum().sort_values(ascending=False)"
   ]
  },
  {
   "cell_type": "markdown",
   "metadata": {},
   "source": [
    "Наибольшее количество копий продано на платформах - **Wii, PS4, Xone, WiiU, X360** .  \n",
    "В суммарных продажах по платформам с большим отрывом лидируют - **PS4 и XOne**. Возможно, на них влияют очень успешные игры."
   ]
  },
  {
   "cell_type": "markdown",
   "metadata": {},
   "source": [
    "### Влияние отзывов на продажи"
   ]
  },
  {
   "cell_type": "markdown",
   "metadata": {},
   "source": [
    "Посмотрим зависимость объёма продаж от оценок критиков и пользователей для платформ актуального периода:"
   ]
  },
  {
   "cell_type": "code",
   "execution_count": null,
   "metadata": {},
   "outputs": [],
   "source": [
    "games_actual_corr = games_actual[['total_sales','critic_score','user_score']]"
   ]
  },
  {
   "cell_type": "code",
   "execution_count": null,
   "metadata": {},
   "outputs": [],
   "source": [
    "rs = np.random.RandomState(0)\n",
    "correlation = pd.DataFrame(rs.rand(8, 8))\n",
    "corr = games_actual_corr.corr()\n",
    "corr.style.background_gradient(cmap='coolwarm')"
   ]
  },
  {
   "cell_type": "markdown",
   "metadata": {},
   "source": [
    "На единой таблице корреляции не видно зависимости объема продаж от оценок пользователей, зависимость продаж от оценок критиков слабая."
   ]
  },
  {
   "cell_type": "markdown",
   "metadata": {},
   "source": [
    "Возмем самую прибыльную платформу актуального периода - **SP4**, и рассмотрим влияние отзывов и критиков на ее продажи.  \n",
    "Построим диаграмму рассеяния."
   ]
  },
  {
   "cell_type": "code",
   "execution_count": null,
   "metadata": {},
   "outputs": [],
   "source": [
    "(games_actual.query('platform == \"PS4\"')\n",
    "    .plot(x='critic_score', y='total_sales', kind='scatter', xlim=(40, 100), ylim=(0, 5), figsize=(20, 10), alpha=0.5))\n",
    "plt.title('Зависимость объема продаж от оценки критиков')\n",
    "plt.xlabel('рейтинг')\n",
    "plt.ylabel('сумма продаж, млн.')\n",
    "plt.show()"
   ]
  },
  {
   "cell_type": "markdown",
   "metadata": {},
   "source": [
    "Среди игр, получивших оценку до 80 баллов, случаи с большим объёмом продаж скорее похожи на выбросы, зависимость очень слабая. В то время как игры с оценкой более 80 баллов имеют равномерный разброс объем продаж, что говорит о том, что есть зависимость между объёмом продаж и высокой оценкой критиков (более 80 баллов)."
   ]
  },
  {
   "cell_type": "code",
   "execution_count": null,
   "metadata": {},
   "outputs": [],
   "source": [
    "(games_actual.query('platform == \"PS4\"')\n",
    "    .plot(x='user_score', y='total_sales', kind='scatter', xlim=(4, 10), ylim=(0, 5), figsize=(20, 10), alpha=0.5))\n",
    "plt.title('Зависимость объема продаж от оценки пользователей')\n",
    "plt.xlabel('рейтинг')\n",
    "plt.ylabel('сумма продаж, млн.')\n",
    "plt.show()"
   ]
  },
  {
   "cell_type": "markdown",
   "metadata": {},
   "source": [
    "Здесь мы видим равномерное распределение игр вдоль рейтинговой оси, и несколько выбросов на всем диапазоне. Зависимости объёмов продаж от оценки пользователей нет."
   ]
  },
  {
   "cell_type": "markdown",
   "metadata": {},
   "source": [
    "Сравним результат с двумя другими перспективныи платформами актуального периода - XOne и 3DS."
   ]
  },
  {
   "cell_type": "code",
   "execution_count": null,
   "metadata": {},
   "outputs": [],
   "source": [
    "(games_actual.query('platform == \"XOne\"')\n",
    "    .plot(x='critic_score', y='total_sales', kind='scatter', xlim=(40, 100), ylim=(0, 5), figsize=(20, 10), alpha=0.5))\n",
    "plt.title('Зависимость объема продаж от оценки критиков')\n",
    "plt.xlabel('рейтинг')\n",
    "plt.ylabel('сумма продаж, млн.')\n",
    "plt.show()"
   ]
  },
  {
   "cell_type": "code",
   "execution_count": null,
   "metadata": {
    "scrolled": false
   },
   "outputs": [],
   "source": [
    "(games_actual.query('platform == \"XOne\"')\n",
    "    .plot(x='user_score', y='total_sales', kind='scatter', xlim=(4, 10), ylim=(0, 5), figsize=(20, 10), alpha=0.5))\n",
    "plt.title('Зависимость объема продаж от оценки пользователей')\n",
    "plt.xlabel('рейтинг')\n",
    "plt.ylabel('сумма продаж, млн.')\n",
    "plt.show()"
   ]
  },
  {
   "cell_type": "markdown",
   "metadata": {},
   "source": [
    "Здесь мы видим такую же ситуацию, как с играми на платформе SP4 - зависимость объёмов продаж игр на платформе **XOne**  есть только с высокой оценкой критиков (более 80 баллов). "
   ]
  },
  {
   "cell_type": "code",
   "execution_count": null,
   "metadata": {},
   "outputs": [],
   "source": [
    "(games_actual.query('platform == \"3DS\"')\n",
    "    .plot(x='critic_score', y='total_sales', kind='scatter', xlim=(40, 100), ylim=(0, 5), figsize=(20, 10), alpha=0.5))\n",
    "plt.title('Зависимость объема продаж от оценки критиков')\n",
    "plt.xlabel('рейтинг')\n",
    "plt.ylabel('сумма продаж, млн.')\n",
    "plt.show()"
   ]
  },
  {
   "cell_type": "code",
   "execution_count": null,
   "metadata": {},
   "outputs": [],
   "source": [
    "(games_actual.query('platform == \"3DS\"')\n",
    "    .plot(x='user_score', y='total_sales', kind='scatter', xlim=(4, 10), ylim=(0, 5), figsize=(20, 10), alpha=0.5))\n",
    "plt.title('Зависимость объема продаж от оценки пользователей')\n",
    "plt.xlabel('рейтинг')\n",
    "plt.ylabel('сумма продаж, млн.')\n",
    "plt.show()"
   ]
  },
  {
   "cell_type": "code",
   "execution_count": null,
   "metadata": {},
   "outputs": [],
   "source": [
    "p_3ds = games_actual.query('platform == \"3DS\"')\n",
    "p_3ds[~p_3ds['critic_score'].isna()]['critic_score'].count()"
   ]
  },
  {
   "cell_type": "markdown",
   "metadata": {},
   "source": [
    "Оценок игр от критиков и пользователей на платформе **3DS** слишком мало, чтобы по ним делать выводы."
   ]
  },
  {
   "cell_type": "markdown",
   "metadata": {},
   "source": [
    "### Влияние жанров на продажи"
   ]
  },
  {
   "cell_type": "markdown",
   "metadata": {},
   "source": [
    "Визуализируем суммарные продажи по жанрам."
   ]
  },
  {
   "cell_type": "code",
   "execution_count": null,
   "metadata": {
    "scrolled": false
   },
   "outputs": [],
   "source": [
    "(games_actual.pivot_table(index='genre', values='total_sales', aggfunc='sum').sort_values(by='total_sales', ascending=False)\n",
    "    .plot.bar(title='Объём продаж по жанрам игр', figsize=(20, 10)))\n",
    "plt.show()"
   ]
  },
  {
   "cell_type": "markdown",
   "metadata": {},
   "source": [
    "По общей сумме продаж самые прибыльные жанры - Action, Shooter, Sports и Misc. У них довольно сильный разрыв в продажах с остальными жанрами, Strategy и Puzzle - самые неприбыльные жанры."
   ]
  },
  {
   "cell_type": "markdown",
   "metadata": {},
   "source": [
    "Топ 10 самых прибыльных игр актуального периода и их жанры:"
   ]
  },
  {
   "cell_type": "code",
   "execution_count": null,
   "metadata": {},
   "outputs": [],
   "source": [
    "games_actual.pivot_table(index=['genre', 'name'], values='total_sales', aggfunc='sum').sort_values(by='total_sales', ascending=False).head(10)"
   ]
  },
  {
   "cell_type": "markdown",
   "metadata": {},
   "source": [
    "Видно, что продажи некоторых игр занимают существенную долю от общих продаж жанра. Чтобы игры бестселлеры не искажали статистику пересчитаем прибыльность жанров по медиане продаж."
   ]
  },
  {
   "cell_type": "code",
   "execution_count": null,
   "metadata": {
    "scrolled": false
   },
   "outputs": [],
   "source": [
    "(games_actual.pivot_table(index='genre', values='total_sales', aggfunc='median').sort_values(by='total_sales', ascending=False)\n",
    "    .plot.bar(title='Объём продаж по жанрам игр', figsize=(20, 10)))\n",
    "plt.show()"
   ]
  },
  {
   "cell_type": "markdown",
   "metadata": {},
   "source": [
    "Мы получили совершенно другую картину, явный лидер продаж по медианной прибыльности игр - **Shooter**. \n",
    "\n",
    "Далее прибыльность плавно уменьшается. Самый не прибыльный жанр - **Adventure**."
   ]
  },
  {
   "cell_type": "markdown",
   "metadata": {},
   "source": [
    "## ПОРТРЕТ ПОЛЬЗОВАТЕЛЯ КАЖДОГО РЕГИОНА (NA, EU, JP)"
   ]
  },
  {
   "cell_type": "markdown",
   "metadata": {},
   "source": [
    "### Самые популярные платформы"
   ]
  },
  {
   "cell_type": "markdown",
   "metadata": {},
   "source": [
    "Для начала выведем по 10 топовых платформ в каждом регионе."
   ]
  },
  {
   "cell_type": "code",
   "execution_count": null,
   "metadata": {},
   "outputs": [],
   "source": [
    "games_actual.groupby('platform')['na_sales'].sum().sort_values(ascending=False).head(10)"
   ]
  },
  {
   "cell_type": "markdown",
   "metadata": {},
   "source": [
    "Отметим 6 топовых платформ в Северной Америке, поскольку между 5 и 6 местом разрыв очень маленький, а дальше продажи сильно отличаются."
   ]
  },
  {
   "cell_type": "code",
   "execution_count": null,
   "metadata": {},
   "outputs": [],
   "source": [
    "games_actual.groupby('platform')['eu_sales'].sum().sort_values(ascending=False).head(10)"
   ]
  },
  {
   "cell_type": "markdown",
   "metadata": {},
   "source": [
    "В Европе можно выделить 7 топовых платформ. Остальные приносят в разы меньше продаж."
   ]
  },
  {
   "cell_type": "code",
   "execution_count": null,
   "metadata": {},
   "outputs": [],
   "source": [
    "games_actual.groupby('platform')['jp_sales'].sum().sort_values(ascending=False).head(10)"
   ]
  },
  {
   "cell_type": "markdown",
   "metadata": {},
   "source": [
    "В Японии только 5 топовых платформ."
   ]
  },
  {
   "cell_type": "markdown",
   "metadata": {},
   "source": [
    "Мы видим, что в топе по регионам повторяются одни и те же платформы, но их прибыльность разная.  "
   ]
  },
  {
   "cell_type": "markdown",
   "metadata": {},
   "source": [
    "**Итоги продаж по регионам:**  \n",
    "- **PS4** - самая прибыльная в Европе и Северной Америке (причем продажи в Европе гораздо выше), на втором месте в Японии   \n",
    "- **3DS** - на первом месте в Японии и в хвосте топовых платформ Северной Америки и Европы\n",
    "- **XOne** - на втором месте в Северной Америке и Европе (продажи в Америке в два раза выше), и совсем не актуальна в Японии  \n",
    "- **X360** - актуальна в Северной Америке и Европе, не актуальна в Японии\n",
    "- **PC** - прибыльна в Европе, занимает последнее место в топ-6 Северной Америки и совсем не актуальна в Японии\n",
    "- **PS3** и **WiiU** - входят в топ-7 всех регионов \n"
   ]
  },
  {
   "cell_type": "markdown",
   "metadata": {},
   "source": [
    "### Самые популярные жанры"
   ]
  },
  {
   "cell_type": "markdown",
   "metadata": {},
   "source": [
    "Также выведем по 10 топовых жанров в каждом регионе."
   ]
  },
  {
   "cell_type": "code",
   "execution_count": null,
   "metadata": {},
   "outputs": [],
   "source": [
    "games_actual.groupby('genre')['na_sales'].sum().sort_values(ascending=False).head(10)"
   ]
  },
  {
   "cell_type": "code",
   "execution_count": null,
   "metadata": {},
   "outputs": [],
   "source": [
    "games_actual.groupby('genre')['eu_sales'].sum().sort_values(ascending=False).head(10)"
   ]
  },
  {
   "cell_type": "code",
   "execution_count": null,
   "metadata": {},
   "outputs": [],
   "source": [
    "games_actual.groupby('genre')['jp_sales'].sum().sort_values(ascending=False).head(10)"
   ]
  },
  {
   "cell_type": "markdown",
   "metadata": {},
   "source": [
    "Мы видим, что в Северной Америке и Европе можно выделить 6 топовых жанров, в то время как в Японии только два жанра имеют сильный разрыв с остальными."
   ]
  },
  {
   "cell_type": "markdown",
   "metadata": {},
   "source": [
    "**Итоги по жанрам в регионах:**  \n",
    "- жанр **Action** - входит в топ-2 по прибыльности во всех регионах\n",
    "- жанр **Role-Playing** на первом месте в Японии, но в других регионах занимает лишь 4 место в топе\n",
    "- в Северной Америке и Европе топ 6 популярных жанров практически полностью пересекаются и имеют сопоставимую прибыльность\n",
    "- в Японии только два жанра наиболее прибыльны"
   ]
  },
  {
   "cell_type": "markdown",
   "metadata": {},
   "source": [
    "Мы можем выделить сильное отличие Японских предпочтений от других регионов. Популярность жанра Role-Playing можно объяснить тем, что большинство игр этого жанра разработано в Японии. Также есть интересная гипотеза, что ролевые игры уже становятся частью культуры Японии. Во-первых, они требуют ежедневной прокачки героя, что соответствует трудолюбию японцев. Во-вторых, в основе японского общества не критикуется ежедневное сидение за играми, а наоборот поощрается как социализация. И в-третьих, после долгого трудового дня японцам хочется расслабится - коллективные ролевые игры для этого отлично подходят (в других регионах трудовой день более нормирован). "
   ]
  },
  {
   "cell_type": "markdown",
   "metadata": {},
   "source": [
    "### Влияние рейтинга ESRB на продажи по регионам"
   ]
  },
  {
   "cell_type": "code",
   "execution_count": null,
   "metadata": {},
   "outputs": [],
   "source": [
    "games_actual.rating.unique()"
   ]
  },
  {
   "cell_type": "markdown",
   "metadata": {},
   "source": [
    "В актуальном периоде есть 4 возрастных рейтинга:\n",
    "- M - для взрослых (с 17 лет)\n",
    "- T - для подростков (с 13 лет)\n",
    "- E - для всех\n",
    "- E10+ - для всех от 10 лет\n",
    "\n",
    "\"missing\" - игры с отсутствующим рейтингом."
   ]
  },
  {
   "cell_type": "code",
   "execution_count": null,
   "metadata": {},
   "outputs": [],
   "source": [
    "(games_actual.pivot_table(index='rating', values='total_sales', aggfunc='sum').sort_values(by='total_sales', ascending=False)\n",
    "    .plot.bar(title='Объём продаж по рейтингу игр во всех регионах', figsize=(10, 7)))\n",
    "plt.xlabel('рейтинг')\n",
    "plt.ylabel('сумма продаж, млн.')\n",
    "plt.show()"
   ]
  },
  {
   "cell_type": "markdown",
   "metadata": {},
   "source": [
    "По всем регионам больше всего продаж в рейтинге **M** для взрослых.  \n",
    "Игры с рейтингом **E10+** самые не прибыльные."
   ]
  },
  {
   "cell_type": "markdown",
   "metadata": {},
   "source": [
    "Теперь рассмотрим каждый в отдельности."
   ]
  },
  {
   "cell_type": "code",
   "execution_count": null,
   "metadata": {},
   "outputs": [],
   "source": [
    "(games_actual.pivot_table(index='rating', values='na_sales', aggfunc='sum').sort_values(by='na_sales', ascending=False)\n",
    "    .plot.bar(title='Объём продаж по рейтингу игр в Северной Америке', figsize=(10, 7)))\n",
    "plt.xlabel('рейтинг')\n",
    "plt.ylabel('сумма продаж, млн.')\n",
    "plt.show()"
   ]
  },
  {
   "cell_type": "code",
   "execution_count": null,
   "metadata": {},
   "outputs": [],
   "source": [
    "(games_actual.pivot_table(index='rating', values='eu_sales', aggfunc='sum').sort_values(by='eu_sales', ascending=False)\n",
    "    .plot.bar(title='Объём продаж по рейтингу игр в Европе', figsize=(10, 7)))\n",
    "plt.xlabel('рейтинг')\n",
    "plt.ylabel('сумма продаж, млн.')\n",
    "plt.show()"
   ]
  },
  {
   "cell_type": "code",
   "execution_count": null,
   "metadata": {},
   "outputs": [],
   "source": [
    "(games_actual.pivot_table(index='rating', values='jp_sales', aggfunc='sum').sort_values(by='jp_sales', ascending=False)\n",
    "    .plot.bar(title='Объём продаж по рейтингу игр в Японии', figsize=(10, 7)))\n",
    "plt.xlabel('рейтинг')\n",
    "plt.ylabel('сумма продаж, млн.')\n",
    "plt.show()"
   ]
  },
  {
   "cell_type": "markdown",
   "metadata": {},
   "source": [
    "Мы видим, Япония опять отличилась от тенденций других регионов. На первом месте с сильным отрывом по прибыльности в Японии идут игры с неопределенным рейтингом, второе место занимает рейтинг **T для подростков 13+**, а игры с рейтингом **M для взрослых** только на четвертом месте (в Северной Америке и Европе они на первом месте). Чтобы понять, почему в Японии так много игр без рейтинга, необходимы дополнительные исследования. Также, разрыв продаж по рейтингам в Японии менее заметен, чем в Северной Америке и Европе.  \n",
    "Игры с рейтингом **E10+ для всех от 10 лет** самые не прибыльные."
   ]
  },
  {
   "cell_type": "markdown",
   "metadata": {},
   "source": [
    "**Вывод: есть сильная связь между рейтингом ESRB и регионом. В Северной Америке и Европе прибыльнее игры с рейтингом M, в Японии - с неопределенным рейтингом, рейтинг T для подростков 13+ на втором месте с существенным отрывом. Игры с рейтингом E10+  во всех регионах самые не прибыльные.**"
   ]
  },
  {
   "cell_type": "markdown",
   "metadata": {},
   "source": [
    "## ПРОВЕРКА ГИПОТЕЗ"
   ]
  },
  {
   "cell_type": "markdown",
   "metadata": {},
   "source": [
    "### Гипотеза №1 - рейтинги"
   ]
  },
  {
   "cell_type": "markdown",
   "metadata": {},
   "source": [
    "Гипотеза №1 - средние пользовательские рейтинги платформ Xbox One и PC одинаковые"
   ]
  },
  {
   "cell_type": "code",
   "execution_count": null,
   "metadata": {},
   "outputs": [],
   "source": [
    "xone_score = games_actual.loc[(games_actual['platform'] == 'XOne') & (~games_actual['user_score'].isna())]\n",
    "xone_score = xone_score.user_score"
   ]
  },
  {
   "cell_type": "code",
   "execution_count": null,
   "metadata": {},
   "outputs": [],
   "source": [
    "pc_score = games_actual.loc[(games_actual['platform'] == 'PC') & (~games_actual['user_score'].isna())]\n",
    "pc_score = pc_score.user_score"
   ]
  },
  {
   "cell_type": "code",
   "execution_count": null,
   "metadata": {},
   "outputs": [],
   "source": [
    "alpha = 0.05"
   ]
  },
  {
   "cell_type": "code",
   "execution_count": null,
   "metadata": {},
   "outputs": [],
   "source": [
    "results = st.ttest_ind(xone_score, pc_score, equal_var=False)\n",
    "print('р-значение:', results.pvalue)\n",
    "if results.pvalue < alpha:\n",
    "    print('\\033[1mОтвергаем нулевую гипотезу: средние пользовательские рейтинги платформ Xbox One и PC не равны\\033[0m')\n",
    "else:\n",
    "    print('\\033[1mНе получилось отвергнуть нулевую гипотезу: средние пользовательские рейтинги платформ Xbox One и PC одинаковые.\\033[0m')"
   ]
  },
  {
   "cell_type": "markdown",
   "metadata": {},
   "source": [
    "Проверим результат для себя - найдем среднее значение пользовательских рейтингов по каждой платформе:"
   ]
  },
  {
   "cell_type": "code",
   "execution_count": null,
   "metadata": {},
   "outputs": [],
   "source": [
    "mean_xone = games_actual.query('platform == \"XOne\"')\n",
    "mean_xone_score = np.around((mean_xone.user_score.mean()), decimals=1)\n",
    "mean_xone_score_m = np.around((mean_xone.user_score.median()), decimals=1)\n",
    "print(mean_xone_score)\n",
    "print(mean_xone_score_m)"
   ]
  },
  {
   "cell_type": "code",
   "execution_count": null,
   "metadata": {},
   "outputs": [],
   "source": [
    "mean_pc = games_actual.query('platform == \"PC\"')\n",
    "mean_pc_score = np.around((mean_pc.user_score.mean()), decimals = 1)\n",
    "mean_pc_score_m = np.around((mean_pc.user_score.median()), decimals = 1)\n",
    "print(mean_pc_score)\n",
    "print(mean_pc_score_m)"
   ]
  },
  {
   "cell_type": "markdown",
   "metadata": {},
   "source": [
    "Рейтинги пользователей платформ Xbox One и PC действительно очень похожи - средние значения близкие, медианы равны."
   ]
  },
  {
   "cell_type": "markdown",
   "metadata": {},
   "source": [
    "### Гипотеза №2 - жанры"
   ]
  },
  {
   "cell_type": "markdown",
   "metadata": {},
   "source": [
    "Поскольку нулевая гипотеза всегда предполагает равенство - переформулируем предложенную гипотезу на обратную:"
   ]
  },
  {
   "cell_type": "markdown",
   "metadata": {},
   "source": [
    "Гипотеза №2 - средние пользовательские рейтинги жанров Action и Sports равны."
   ]
  },
  {
   "cell_type": "code",
   "execution_count": null,
   "metadata": {},
   "outputs": [],
   "source": [
    "action_score = games_actual.loc[(games_actual['genre'] == 'Action') & (~games_actual['user_score'].isna())]\n",
    "action_score = action_score.user_score"
   ]
  },
  {
   "cell_type": "code",
   "execution_count": null,
   "metadata": {},
   "outputs": [],
   "source": [
    "sports_score = games_actual.loc[(games_actual['genre'] == 'Sports') & (~games_actual['user_score'].isna())]\n",
    "sports_score = sports_score.user_score"
   ]
  },
  {
   "cell_type": "code",
   "execution_count": null,
   "metadata": {},
   "outputs": [],
   "source": [
    "results = st.ttest_ind(action_score, sports_score, equal_var=False)\n",
    "print('р-значение:', results.pvalue)\n",
    "if results.pvalue < alpha:\n",
    "    print('\\033[1mОтвергаем нулевую гипотезу: средние пользовательские рейтинги жанров Action и Sports разные.\\033[0m')\n",
    "else:\n",
    "    print('\\033[1mНе получилось отвергнуть нулевую гипотезу: средние пользовательские рейтинги жанров Action и Sports равны.\\033[0m')"
   ]
  },
  {
   "cell_type": "markdown",
   "metadata": {},
   "source": [
    "Проверим результат для себя - найдем среднее значение пользовательских рейтингов по каждому жанру:"
   ]
  },
  {
   "cell_type": "code",
   "execution_count": null,
   "metadata": {},
   "outputs": [],
   "source": [
    "mean_action = games_actual.query('genre == \"Action\"')\n",
    "mean_action_score = np.around((mean_action.user_score.mean()), decimals=1)\n",
    "mean_action_score_m = np.around((mean_action.user_score.median()), decimals=1)\n",
    "print(mean_action_score)\n",
    "print(mean_action_score_m)"
   ]
  },
  {
   "cell_type": "code",
   "execution_count": null,
   "metadata": {},
   "outputs": [],
   "source": [
    "mean_sports = games_actual.query('genre == \"Sports\"')\n",
    "mean_sports_score = np.around((mean_sports.user_score.mean()), decimals=1)\n",
    "mean_sports_score_m = np.around((mean_sports.user_score.median()), decimals=1)\n",
    "print(mean_sports_score)\n",
    "print(mean_sports_score_m)"
   ]
  },
  {
   "cell_type": "markdown",
   "metadata": {},
   "source": [
    "Действительно, и среднии значения и медианы сильно отличаются."
   ]
  },
  {
   "cell_type": "markdown",
   "metadata": {},
   "source": [
    "## ОБЩИЙ ВЫВОД"
   ]
  },
  {
   "cell_type": "markdown",
   "metadata": {},
   "source": [
    "Мы провели исследовательский анализ данных компьютерных игр с 1980 по 2015 года.  \n",
    "Сначала подготовили данные - оформили названия, обработали пропуски, проверили дубликаты, добавили столбец суммарных продаж по всем регионам. На первых гистограммах увидели:\n",
    "- с 1990-х годов количество произведенных игр в разы увеличилось, пик приходится на 2010-е, далее до 2016 сильный спад \n",
    "- лидерами продаж является Северная Америка, затем, Европа и меньше всего продаж в Японии (другие страны в сумме сравнимы с продажами в Японии)\n",
    "- средняя оценка игр критиками 65-85 баллов из ста.\n",
    "\n",
    "На начальном этапе исследовательского анализа мы отсеяли часть данных до 1994 года, поскольку на раннем этапе развития игровой индустрии данных для анализа по годам слишком мало (менее 70 в год).  \n",
    "Мы увидили интересную закономерность, что с 2010 года количество игр и платформ пошло на спад, а к 2016 году уменьшилось почти в три раза! Возможно, их вытесняют игры на смартфонах (на базе Android, IOS и т.п.).  \n",
    "\n",
    "**Жизнь платформ**  \n",
    "Топ 6 платформ за весь период во всех регионах - **PS2, X360, PS3, Wii, DS, PS**. Их средняя продолжительность 10 лет. Есть закономерность, что половина жизни топовых платформ проходит в росте продаж, половина на спаде. Жизнь остальных платформ проходит менее симметрично и занимает в среднем всего 4,5 года.  \n",
    "Платформа **PC** для ПК - уникальный долгожитель (22 года), это классика, хоть продажи с неё в разы меньше топовых платформ.\n",
    "\n",
    "Компании, разрабатывающие платформы придерживаются разной маркетинговой стратегии: Sony выпускала новую версию платформы после спада предыдущей, в отличие от Nintendo, она выпустила две платформы с разницой всего лишь в 2 года и на пике продаж первой."
   ]
  },
  {
   "cell_type": "markdown",
   "metadata": {},
   "source": [
    "**Прогноз на 2017 год**  \n",
    "Для прогнозирования на 2017 год мы оставили данные за последние три года. В этом диапазоне только две платформы - **Sony PS4 и Microsoft XOne** имеют пик в актуальном периоде 2013-2016 г., а значит проживут дольше остальных (все остальные идут на спад). К их показателям близки продажи платформы **3DS**, её также можно считать прибыльнее остальных."
   ]
  },
  {
   "cell_type": "markdown",
   "metadata": {},
   "source": [
    "В суммарных продажах по платформам с большим отрывом лидируют - **PS4 и XOne** .   \n",
    "Наибольшее количество копий продано на платформах - **Wii, PS4, Xone, WiiU, X360**.  "
   ]
  },
  {
   "cell_type": "markdown",
   "metadata": {},
   "source": [
    "**Влияние отзывов на продажи**  \n",
    "На единой таблице корреляции по всем регионам не видно зависимости объема продаж от оценок пользователей, зависимость продаж от оценок критиков слабая. У топовых платформ SP4 и XOne наблюдается зависимость между объёмом продаж и именно высокой оценкой критиков (более 80 баллов), зависимость объема продаж от оценок пользователей также нет. "
   ]
  },
  {
   "cell_type": "markdown",
   "metadata": {},
   "source": [
    "**Жанры**  \n",
    "- **Shooter** - самые прибыльные жанр, с большим отрывом от остальных.\n",
    "- **Adventure и Puzzle** - самые неприбыльные жанры.  \n",
    "\n",
    "Игра может также выстрелить в жанрах **Action, Sports и Misc**, но на это сильно влияют и другие факторы."
   ]
  },
  {
   "cell_type": "markdown",
   "metadata": {},
   "source": [
    "**Портрет пользователя по регионам (NA, EU, JP)**  \n",
    "\n",
    "Платформы:    \n",
    "- **PS4** - самая прибыльная в Европе и Северной Америке (причем продажи в Европе гораздо выше), на втором месте в Японии   \n",
    "- **3DS** - на первом месте в Японии и в хвосте топовых платформ Северной Америки и Европы\n",
    "- **XOne** - на втором месте в Северной Америке и Европе (продажи в Америке в два раза выше), и совсем не актуальна в Японии  \n",
    "- **X360** - актуальна в Северной Америке и Европе, не актуальна в Японии\n",
    "- **PC** - прибыльна в Европе, занимает последнее место в топ-6 Северной Америки и совсем не актуальна в Японии\n",
    "- **PS3** и **WiiU** - входят в топ-7 всех регионов "
   ]
  },
  {
   "cell_type": "markdown",
   "metadata": {},
   "source": [
    "Жанры:  \n",
    "- жанр **Action** - входит в топ-2 по прибыльности во всех регионах\n",
    "- жанр **Role-Playing** на первом месте в Японии, но в других регионах занимает лишь 4 место в топе\n",
    "- в Северной Америке и Европе топ 6 популярных жанров практически полностью пересекаются и имеют сопоставимую прибыльность\n",
    "- в Японии только два жанра наиболее прибыльны  \n",
    "\n",
    "В Северной Америке и Европе можно выделить 6 топовых жанров, в то время как в Японии только 2 жанра имеют сильный разрыв с остальными."
   ]
  },
  {
   "cell_type": "markdown",
   "metadata": {},
   "source": [
    "**Влияние рейтинга ESRB на продажи**  \n",
    "Есть сильная взаимосвязь между рейтингом ESRB и регионом.  \n",
    "По всем регионам больше всего продаж игр с рейтингом **M** для взрослых.  \n",
    "Игры с рейтингом **E10+** самые не прибыльные.  \n",
    "- **M для взрослых** - самый прибыльный рейтинг игр в Северной Америке и Европе  \n",
    "- **игры с неопределенным рейтингом** - самые прибыльные в Японии, на втором месте **Т для подростков 13+**.  \n",
    "\n",
    "В Северной Америке и Европе рейтинги сильнее влияют на объём продаж, чем в Японии."
   ]
  },
  {
   "cell_type": "markdown",
   "metadata": {},
   "source": [
    "**Проверка гипотез**  \n",
    "Первая гипотеза - средние пользовательские рейтинги платформ Xbox One и PC одинаковые - подтвердилась.  \n",
    "Вторая гипотеза - средние пользовательские рейтинги жанров Action и Sports равны - опроверглась, рейтинги разные."
   ]
  },
  {
   "cell_type": "markdown",
   "metadata": {},
   "source": [
    "В завершении, для разработки успешной игры стоит выбирать популярный жанр и платформу, соответствующие региону продаж.  \n",
    "Необходимо учитывать отличия Японского рынка от Европейского и Американского. Для Японии стоит провести дополнительные исследования по определению самого прибыльного возрастного рейтинга.  \n",
    "Сильный спад популярности всех платформ и количества игр после 2010 года вызывает интерес и повод для дальнейших исследований. Возможно, стоит рассмотрить другие форматы игр (например игры для смартфонов на базе Android, IOS и т.п.)."
   ]
  }
 ],
 "metadata": {
  "ExecuteTimeLog": [
   {
    "duration": 393,
    "start_time": "2022-11-01T09:18:21.496Z"
   },
   {
    "duration": 213,
    "start_time": "2022-11-01T09:18:31.976Z"
   },
   {
    "duration": 57,
    "start_time": "2022-11-01T09:20:20.560Z"
   },
   {
    "duration": 13,
    "start_time": "2022-11-01T09:20:25.407Z"
   },
   {
    "duration": 808,
    "start_time": "2022-11-01T09:20:59.124Z"
   },
   {
    "duration": 769,
    "start_time": "2022-11-01T09:21:18.055Z"
   },
   {
    "duration": 628,
    "start_time": "2022-11-01T09:21:28.375Z"
   },
   {
    "duration": 712,
    "start_time": "2022-11-01T09:21:38.219Z"
   },
   {
    "duration": 844,
    "start_time": "2022-11-01T09:21:46.000Z"
   },
   {
    "duration": 783,
    "start_time": "2022-11-01T09:21:53.918Z"
   },
   {
    "duration": 735,
    "start_time": "2022-11-01T09:22:01.038Z"
   },
   {
    "duration": 14,
    "start_time": "2022-11-01T10:44:20.927Z"
   },
   {
    "duration": 4,
    "start_time": "2022-11-01T10:44:30.901Z"
   },
   {
    "duration": 4,
    "start_time": "2022-11-01T10:49:05.167Z"
   },
   {
    "duration": 19,
    "start_time": "2022-11-01T10:49:19.473Z"
   },
   {
    "duration": 5,
    "start_time": "2022-11-01T10:49:53.594Z"
   },
   {
    "duration": 20,
    "start_time": "2022-11-01T10:49:55.097Z"
   },
   {
    "duration": 4,
    "start_time": "2022-11-01T10:50:59.010Z"
   },
   {
    "duration": 20,
    "start_time": "2022-11-01T10:50:59.410Z"
   },
   {
    "duration": 75,
    "start_time": "2022-11-01T10:52:19.192Z"
   },
   {
    "duration": 5,
    "start_time": "2022-11-01T10:53:49.330Z"
   },
   {
    "duration": 101,
    "start_time": "2022-11-01T10:54:00.796Z"
   },
   {
    "duration": 19,
    "start_time": "2022-11-01T10:54:12.756Z"
   },
   {
    "duration": 17,
    "start_time": "2022-11-01T10:55:31.785Z"
   },
   {
    "duration": 17,
    "start_time": "2022-11-01T10:55:36.379Z"
   },
   {
    "duration": 10,
    "start_time": "2022-11-01T10:55:44.757Z"
   },
   {
    "duration": 12,
    "start_time": "2022-11-01T10:56:30.216Z"
   },
   {
    "duration": 21,
    "start_time": "2022-11-01T10:56:30.912Z"
   },
   {
    "duration": 6,
    "start_time": "2022-11-01T10:56:53.148Z"
   },
   {
    "duration": 13,
    "start_time": "2022-11-01T10:56:57.092Z"
   },
   {
    "duration": 5,
    "start_time": "2022-11-01T10:57:07.177Z"
   },
   {
    "duration": 20,
    "start_time": "2022-11-01T10:57:07.579Z"
   },
   {
    "duration": 12,
    "start_time": "2022-11-01T10:59:37.975Z"
   },
   {
    "duration": 12,
    "start_time": "2022-11-01T11:01:47.723Z"
   },
   {
    "duration": 11,
    "start_time": "2022-11-01T11:01:53.220Z"
   },
   {
    "duration": 577,
    "start_time": "2022-11-01T11:06:15.331Z"
   },
   {
    "duration": 7,
    "start_time": "2022-11-01T11:06:44.195Z"
   },
   {
    "duration": 7,
    "start_time": "2022-11-01T11:07:55.498Z"
   },
   {
    "duration": 387,
    "start_time": "2022-11-01T14:26:17.032Z"
   },
   {
    "duration": 120,
    "start_time": "2022-11-01T14:26:17.420Z"
   },
   {
    "duration": 17,
    "start_time": "2022-11-01T14:26:17.542Z"
   },
   {
    "duration": 1167,
    "start_time": "2022-11-01T14:26:17.561Z"
   },
   {
    "duration": 5,
    "start_time": "2022-11-01T14:26:18.734Z"
   },
   {
    "duration": 20,
    "start_time": "2022-11-01T14:26:18.740Z"
   },
   {
    "duration": 15,
    "start_time": "2022-11-01T14:26:18.761Z"
   },
   {
    "duration": 76,
    "start_time": "2022-11-01T14:26:18.778Z"
   },
   {
    "duration": 6,
    "start_time": "2022-11-01T14:26:18.855Z"
   },
   {
    "duration": 7,
    "start_time": "2022-11-01T14:26:20.752Z"
   },
   {
    "duration": 3,
    "start_time": "2022-11-01T14:26:26.917Z"
   },
   {
    "duration": 16,
    "start_time": "2022-11-01T14:26:28.990Z"
   },
   {
    "duration": 3,
    "start_time": "2022-11-01T14:42:04.028Z"
   },
   {
    "duration": 66,
    "start_time": "2022-11-01T14:42:04.033Z"
   },
   {
    "duration": 13,
    "start_time": "2022-11-01T14:42:04.100Z"
   },
   {
    "duration": 778,
    "start_time": "2022-11-01T14:42:04.115Z"
   },
   {
    "duration": 4,
    "start_time": "2022-11-01T14:42:04.894Z"
   },
   {
    "duration": 22,
    "start_time": "2022-11-01T14:42:04.900Z"
   },
   {
    "duration": 26,
    "start_time": "2022-11-01T14:42:04.923Z"
   },
   {
    "duration": 45,
    "start_time": "2022-11-01T14:42:04.951Z"
   },
   {
    "duration": 74,
    "start_time": "2022-11-01T14:46:43.832Z"
   },
   {
    "duration": 7,
    "start_time": "2022-11-01T14:46:54.463Z"
   },
   {
    "duration": 5,
    "start_time": "2022-11-01T14:47:00.281Z"
   },
   {
    "duration": 18,
    "start_time": "2022-11-01T14:47:02.171Z"
   },
   {
    "duration": 3,
    "start_time": "2022-11-01T14:47:33.165Z"
   },
   {
    "duration": 64,
    "start_time": "2022-11-01T14:47:33.170Z"
   },
   {
    "duration": 13,
    "start_time": "2022-11-01T14:47:33.235Z"
   },
   {
    "duration": 732,
    "start_time": "2022-11-01T14:47:33.250Z"
   },
   {
    "duration": 4,
    "start_time": "2022-11-01T14:47:33.983Z"
   },
   {
    "duration": 8,
    "start_time": "2022-11-01T14:47:33.988Z"
   },
   {
    "duration": 4,
    "start_time": "2022-11-01T14:47:33.997Z"
   },
   {
    "duration": 7,
    "start_time": "2022-11-01T14:47:34.002Z"
   },
   {
    "duration": 26,
    "start_time": "2022-11-01T14:47:34.010Z"
   },
   {
    "duration": 9,
    "start_time": "2022-11-01T14:47:34.038Z"
   },
   {
    "duration": 8,
    "start_time": "2022-11-01T14:47:34.048Z"
   },
   {
    "duration": 4,
    "start_time": "2022-11-01T14:47:34.057Z"
   },
   {
    "duration": 13,
    "start_time": "2022-11-01T14:47:35.070Z"
   },
   {
    "duration": 10,
    "start_time": "2022-11-01T14:48:15.318Z"
   },
   {
    "duration": 11,
    "start_time": "2022-11-01T14:48:19.729Z"
   },
   {
    "duration": 8,
    "start_time": "2022-11-01T14:48:23.693Z"
   },
   {
    "duration": 5,
    "start_time": "2022-11-01T14:48:41.084Z"
   },
   {
    "duration": 12,
    "start_time": "2022-11-01T14:50:56.506Z"
   },
   {
    "duration": 3,
    "start_time": "2022-11-01T14:54:22.128Z"
   },
   {
    "duration": 64,
    "start_time": "2022-11-01T14:54:22.132Z"
   },
   {
    "duration": 12,
    "start_time": "2022-11-01T14:54:22.198Z"
   },
   {
    "duration": 721,
    "start_time": "2022-11-01T14:54:22.212Z"
   },
   {
    "duration": 4,
    "start_time": "2022-11-01T14:54:22.935Z"
   },
   {
    "duration": 24,
    "start_time": "2022-11-01T14:54:22.941Z"
   },
   {
    "duration": 15,
    "start_time": "2022-11-01T14:54:22.967Z"
   },
   {
    "duration": 16,
    "start_time": "2022-11-01T14:54:22.983Z"
   },
   {
    "duration": 29,
    "start_time": "2022-11-01T14:54:23.000Z"
   },
   {
    "duration": 20,
    "start_time": "2022-11-01T14:54:23.030Z"
   },
   {
    "duration": 15,
    "start_time": "2022-11-01T14:54:23.052Z"
   },
   {
    "duration": 13,
    "start_time": "2022-11-01T14:54:25.616Z"
   },
   {
    "duration": 61,
    "start_time": "2022-11-01T15:02:03.445Z"
   },
   {
    "duration": 54,
    "start_time": "2022-11-01T15:02:15.644Z"
   },
   {
    "duration": 26,
    "start_time": "2022-11-01T15:03:09.764Z"
   },
   {
    "duration": 3,
    "start_time": "2022-11-01T15:03:20.111Z"
   },
   {
    "duration": 89,
    "start_time": "2022-11-01T15:03:20.116Z"
   },
   {
    "duration": 12,
    "start_time": "2022-11-01T15:03:20.207Z"
   },
   {
    "duration": 829,
    "start_time": "2022-11-01T15:03:20.221Z"
   },
   {
    "duration": 4,
    "start_time": "2022-11-01T15:03:21.052Z"
   },
   {
    "duration": 20,
    "start_time": "2022-11-01T15:03:21.057Z"
   },
   {
    "duration": 50,
    "start_time": "2022-11-01T15:03:21.078Z"
   },
   {
    "duration": 16,
    "start_time": "2022-11-01T15:03:21.130Z"
   },
   {
    "duration": 15,
    "start_time": "2022-11-01T15:03:21.148Z"
   },
   {
    "duration": 26,
    "start_time": "2022-11-01T15:03:21.165Z"
   },
   {
    "duration": 15,
    "start_time": "2022-11-01T15:03:21.193Z"
   },
   {
    "duration": 23,
    "start_time": "2022-11-01T15:03:21.210Z"
   },
   {
    "duration": 11,
    "start_time": "2022-11-01T15:03:23.501Z"
   },
   {
    "duration": 46,
    "start_time": "2022-11-01T15:03:57.047Z"
   },
   {
    "duration": 14,
    "start_time": "2022-11-01T15:04:00.975Z"
   },
   {
    "duration": 31,
    "start_time": "2022-11-01T15:04:11.699Z"
   },
   {
    "duration": 10,
    "start_time": "2022-11-01T15:04:23.133Z"
   },
   {
    "duration": 10,
    "start_time": "2022-11-01T15:10:24.668Z"
   },
   {
    "duration": 13,
    "start_time": "2022-11-01T15:12:20.706Z"
   },
   {
    "duration": 14,
    "start_time": "2022-11-01T15:12:24.313Z"
   },
   {
    "duration": 8,
    "start_time": "2022-11-01T15:12:38.129Z"
   },
   {
    "duration": 6,
    "start_time": "2022-11-01T15:12:42.600Z"
   },
   {
    "duration": 13,
    "start_time": "2022-11-01T15:12:44.300Z"
   },
   {
    "duration": 54,
    "start_time": "2022-11-01T15:20:00.215Z"
   },
   {
    "duration": 12,
    "start_time": "2022-11-01T15:20:05.132Z"
   },
   {
    "duration": 13,
    "start_time": "2022-11-01T15:20:18.604Z"
   },
   {
    "duration": 11,
    "start_time": "2022-11-01T15:20:50.969Z"
   },
   {
    "duration": 13,
    "start_time": "2022-11-01T15:20:59.612Z"
   },
   {
    "duration": 11,
    "start_time": "2022-11-01T15:21:35.664Z"
   },
   {
    "duration": 13,
    "start_time": "2022-11-01T15:22:11.998Z"
   },
   {
    "duration": 17,
    "start_time": "2022-11-01T15:22:18.088Z"
   },
   {
    "duration": 11,
    "start_time": "2022-11-01T15:22:53.291Z"
   },
   {
    "duration": 8,
    "start_time": "2022-11-01T15:23:01.573Z"
   },
   {
    "duration": 12,
    "start_time": "2022-11-01T15:23:03.425Z"
   },
   {
    "duration": 8,
    "start_time": "2022-11-01T15:23:06.733Z"
   },
   {
    "duration": 3,
    "start_time": "2022-11-01T15:23:12.255Z"
   },
   {
    "duration": 62,
    "start_time": "2022-11-01T15:23:12.260Z"
   },
   {
    "duration": 13,
    "start_time": "2022-11-01T15:23:12.324Z"
   },
   {
    "duration": 766,
    "start_time": "2022-11-01T15:23:12.340Z"
   },
   {
    "duration": 6,
    "start_time": "2022-11-01T15:23:13.108Z"
   },
   {
    "duration": 5,
    "start_time": "2022-11-01T15:23:13.122Z"
   },
   {
    "duration": 7,
    "start_time": "2022-11-01T15:23:13.129Z"
   },
   {
    "duration": 12,
    "start_time": "2022-11-01T15:23:13.138Z"
   },
   {
    "duration": 8,
    "start_time": "2022-11-01T15:23:13.152Z"
   },
   {
    "duration": 6,
    "start_time": "2022-11-01T15:23:13.162Z"
   },
   {
    "duration": 8,
    "start_time": "2022-11-01T15:23:13.169Z"
   },
   {
    "duration": 14,
    "start_time": "2022-11-01T15:23:13.179Z"
   },
   {
    "duration": 14,
    "start_time": "2022-11-01T15:23:16.224Z"
   },
   {
    "duration": 7,
    "start_time": "2022-11-01T15:23:19.675Z"
   },
   {
    "duration": 16,
    "start_time": "2022-11-01T15:23:20.511Z"
   },
   {
    "duration": 11,
    "start_time": "2022-11-01T15:28:40.426Z"
   },
   {
    "duration": 63,
    "start_time": "2022-11-01T15:28:57.748Z"
   },
   {
    "duration": 854,
    "start_time": "2022-11-01T15:29:16.065Z"
   },
   {
    "duration": 20,
    "start_time": "2022-11-01T15:29:23.237Z"
   },
   {
    "duration": 22,
    "start_time": "2022-11-01T15:30:40.607Z"
   },
   {
    "duration": 21,
    "start_time": "2022-11-01T15:30:51.900Z"
   },
   {
    "duration": 10,
    "start_time": "2022-11-01T15:31:12.285Z"
   },
   {
    "duration": 16,
    "start_time": "2022-11-01T15:31:17.244Z"
   },
   {
    "duration": 15,
    "start_time": "2022-11-01T15:31:39.192Z"
   },
   {
    "duration": 16,
    "start_time": "2022-11-01T15:31:54.941Z"
   },
   {
    "duration": 24,
    "start_time": "2022-11-01T15:32:25.070Z"
   },
   {
    "duration": 5,
    "start_time": "2022-11-01T15:32:44.657Z"
   },
   {
    "duration": 9,
    "start_time": "2022-11-01T15:32:56.170Z"
   },
   {
    "duration": 12,
    "start_time": "2022-11-01T15:33:02.611Z"
   },
   {
    "duration": 8,
    "start_time": "2022-11-01T15:33:12.196Z"
   },
   {
    "duration": 6,
    "start_time": "2022-11-01T15:33:20.491Z"
   },
   {
    "duration": 13,
    "start_time": "2022-11-01T15:41:05.205Z"
   },
   {
    "duration": 20,
    "start_time": "2022-11-01T15:43:23.834Z"
   },
   {
    "duration": 3,
    "start_time": "2022-11-01T15:44:14.849Z"
   },
   {
    "duration": 65,
    "start_time": "2022-11-01T15:44:14.854Z"
   },
   {
    "duration": 12,
    "start_time": "2022-11-01T15:44:14.921Z"
   },
   {
    "duration": 732,
    "start_time": "2022-11-01T15:44:19.537Z"
   },
   {
    "duration": 807,
    "start_time": "2022-11-01T15:44:39.715Z"
   },
   {
    "duration": 3,
    "start_time": "2022-11-01T15:44:48.108Z"
   },
   {
    "duration": 64,
    "start_time": "2022-11-01T15:44:48.113Z"
   },
   {
    "duration": 13,
    "start_time": "2022-11-01T15:44:48.180Z"
   },
   {
    "duration": 727,
    "start_time": "2022-11-01T15:44:48.195Z"
   },
   {
    "duration": 6,
    "start_time": "2022-11-01T15:44:48.924Z"
   },
   {
    "duration": 33,
    "start_time": "2022-11-01T15:44:48.931Z"
   },
   {
    "duration": 13,
    "start_time": "2022-11-01T15:44:48.966Z"
   },
   {
    "duration": 12,
    "start_time": "2022-11-01T15:44:48.982Z"
   },
   {
    "duration": 21,
    "start_time": "2022-11-01T15:44:48.996Z"
   },
   {
    "duration": 23,
    "start_time": "2022-11-01T15:44:49.019Z"
   },
   {
    "duration": 13,
    "start_time": "2022-11-01T15:44:49.045Z"
   },
   {
    "duration": 61,
    "start_time": "2022-11-01T15:44:49.060Z"
   },
   {
    "duration": 23,
    "start_time": "2022-11-01T15:44:49.124Z"
   },
   {
    "duration": 29,
    "start_time": "2022-11-01T15:44:49.149Z"
   },
   {
    "duration": 7,
    "start_time": "2022-11-01T15:44:49.179Z"
   },
   {
    "duration": 26,
    "start_time": "2022-11-01T15:44:49.188Z"
   },
   {
    "duration": 13,
    "start_time": "2022-11-01T15:44:50.273Z"
   },
   {
    "duration": 617,
    "start_time": "2022-11-01T15:53:42.420Z"
   },
   {
    "duration": 509,
    "start_time": "2022-11-01T15:53:45.749Z"
   },
   {
    "duration": 679,
    "start_time": "2022-11-01T15:54:00.269Z"
   },
   {
    "duration": 161,
    "start_time": "2022-11-01T15:54:39.250Z"
   },
   {
    "duration": 640,
    "start_time": "2022-11-01T15:54:55.817Z"
   },
   {
    "duration": 115,
    "start_time": "2022-11-01T15:55:28.079Z"
   },
   {
    "duration": 6,
    "start_time": "2022-11-01T15:56:14.921Z"
   },
   {
    "duration": 14,
    "start_time": "2022-11-01T15:56:24.707Z"
   },
   {
    "duration": 17,
    "start_time": "2022-11-01T15:56:30.726Z"
   },
   {
    "duration": 5,
    "start_time": "2022-11-01T15:57:49.866Z"
   },
   {
    "duration": 164,
    "start_time": "2022-11-01T15:58:08.096Z"
   },
   {
    "duration": 5,
    "start_time": "2022-11-01T15:58:16.010Z"
   },
   {
    "duration": 19,
    "start_time": "2022-11-01T15:58:29.498Z"
   },
   {
    "duration": 1026,
    "start_time": "2022-11-01T15:59:02.061Z"
   },
   {
    "duration": 1081,
    "start_time": "2022-11-01T15:59:11.637Z"
   },
   {
    "duration": 8,
    "start_time": "2022-11-01T16:01:02.139Z"
   },
   {
    "duration": 13,
    "start_time": "2022-11-01T16:01:04.330Z"
   },
   {
    "duration": 43,
    "start_time": "2022-11-01T16:41:41.051Z"
   },
   {
    "duration": 25,
    "start_time": "2022-11-01T16:41:47.077Z"
   },
   {
    "duration": 10,
    "start_time": "2022-11-01T16:41:50.279Z"
   },
   {
    "duration": 3,
    "start_time": "2022-11-01T16:41:56.380Z"
   },
   {
    "duration": 65,
    "start_time": "2022-11-01T16:41:56.385Z"
   },
   {
    "duration": 12,
    "start_time": "2022-11-01T16:41:56.452Z"
   },
   {
    "duration": 720,
    "start_time": "2022-11-01T16:41:56.466Z"
   },
   {
    "duration": 4,
    "start_time": "2022-11-01T16:41:57.187Z"
   },
   {
    "duration": 8,
    "start_time": "2022-11-01T16:41:57.193Z"
   },
   {
    "duration": 16,
    "start_time": "2022-11-01T16:41:57.203Z"
   },
   {
    "duration": 26,
    "start_time": "2022-11-01T16:41:58.957Z"
   },
   {
    "duration": 28,
    "start_time": "2022-11-01T16:42:19.348Z"
   },
   {
    "duration": 11,
    "start_time": "2022-11-01T16:42:50.132Z"
   },
   {
    "duration": 30,
    "start_time": "2022-11-01T16:42:53.897Z"
   },
   {
    "duration": 10,
    "start_time": "2022-11-01T16:43:40.891Z"
   },
   {
    "duration": 12,
    "start_time": "2022-11-01T16:43:54.949Z"
   },
   {
    "duration": 11,
    "start_time": "2022-11-01T16:44:56.946Z"
   },
   {
    "duration": 24,
    "start_time": "2022-11-01T16:44:59.615Z"
   },
   {
    "duration": 7,
    "start_time": "2022-11-01T16:45:54.163Z"
   },
   {
    "duration": 8,
    "start_time": "2022-11-01T16:45:58.766Z"
   },
   {
    "duration": 6,
    "start_time": "2022-11-01T16:46:03.506Z"
   },
   {
    "duration": 5,
    "start_time": "2022-11-01T16:46:04.029Z"
   },
   {
    "duration": 20,
    "start_time": "2022-11-01T16:47:00.172Z"
   },
   {
    "duration": 19,
    "start_time": "2022-11-01T16:48:29.280Z"
   },
   {
    "duration": 22,
    "start_time": "2022-11-01T16:50:33.936Z"
   },
   {
    "duration": 4,
    "start_time": "2022-11-01T16:50:34.808Z"
   },
   {
    "duration": 19,
    "start_time": "2022-11-01T16:50:38.334Z"
   },
   {
    "duration": 5,
    "start_time": "2022-11-01T16:50:39.249Z"
   },
   {
    "duration": 3,
    "start_time": "2022-11-01T16:50:45.376Z"
   },
   {
    "duration": 72,
    "start_time": "2022-11-01T16:50:45.381Z"
   },
   {
    "duration": 13,
    "start_time": "2022-11-01T16:50:45.454Z"
   },
   {
    "duration": 895,
    "start_time": "2022-11-01T16:50:45.469Z"
   },
   {
    "duration": 4,
    "start_time": "2022-11-01T16:50:46.365Z"
   },
   {
    "duration": 7,
    "start_time": "2022-11-01T16:50:46.371Z"
   },
   {
    "duration": 8,
    "start_time": "2022-11-01T16:50:46.379Z"
   },
   {
    "duration": 35,
    "start_time": "2022-11-01T16:50:46.388Z"
   },
   {
    "duration": 6,
    "start_time": "2022-11-01T16:50:54.311Z"
   },
   {
    "duration": 7,
    "start_time": "2022-11-01T16:50:57.438Z"
   },
   {
    "duration": 27,
    "start_time": "2022-11-01T16:52:49.736Z"
   },
   {
    "duration": 4,
    "start_time": "2022-11-01T16:53:02.516Z"
   },
   {
    "duration": 85,
    "start_time": "2022-11-01T16:53:02.522Z"
   },
   {
    "duration": 13,
    "start_time": "2022-11-01T16:53:02.609Z"
   },
   {
    "duration": 731,
    "start_time": "2022-11-01T16:53:02.623Z"
   },
   {
    "duration": 4,
    "start_time": "2022-11-01T16:53:03.356Z"
   },
   {
    "duration": 8,
    "start_time": "2022-11-01T16:53:03.361Z"
   },
   {
    "duration": 19,
    "start_time": "2022-11-01T16:53:03.371Z"
   },
   {
    "duration": 22,
    "start_time": "2022-11-01T16:53:03.392Z"
   },
   {
    "duration": 8,
    "start_time": "2022-11-01T16:53:03.415Z"
   },
   {
    "duration": 10,
    "start_time": "2022-11-01T16:53:03.425Z"
   },
   {
    "duration": 10,
    "start_time": "2022-11-01T16:53:03.437Z"
   },
   {
    "duration": 8,
    "start_time": "2022-11-01T16:53:03.448Z"
   },
   {
    "duration": 8,
    "start_time": "2022-11-01T16:53:03.457Z"
   },
   {
    "duration": 15,
    "start_time": "2022-11-01T16:53:03.466Z"
   },
   {
    "duration": 8,
    "start_time": "2022-11-01T16:53:03.482Z"
   },
   {
    "duration": 36,
    "start_time": "2022-11-01T16:53:03.492Z"
   },
   {
    "duration": 9,
    "start_time": "2022-11-01T16:53:03.530Z"
   },
   {
    "duration": 31,
    "start_time": "2022-11-01T16:53:03.541Z"
   },
   {
    "duration": 29,
    "start_time": "2022-11-01T16:53:18.166Z"
   },
   {
    "duration": 18,
    "start_time": "2022-11-01T16:54:16.476Z"
   },
   {
    "duration": 13,
    "start_time": "2022-11-01T16:54:50.812Z"
   },
   {
    "duration": 22,
    "start_time": "2022-11-01T17:23:29.343Z"
   },
   {
    "duration": 4,
    "start_time": "2022-11-01T17:24:38.616Z"
   },
   {
    "duration": 21,
    "start_time": "2022-11-01T17:25:15.154Z"
   },
   {
    "duration": 3,
    "start_time": "2022-11-01T17:25:30.257Z"
   },
   {
    "duration": 70,
    "start_time": "2022-11-01T17:25:30.261Z"
   },
   {
    "duration": 13,
    "start_time": "2022-11-01T17:25:30.332Z"
   },
   {
    "duration": 748,
    "start_time": "2022-11-01T17:25:30.347Z"
   },
   {
    "duration": 4,
    "start_time": "2022-11-01T17:25:31.096Z"
   },
   {
    "duration": 35,
    "start_time": "2022-11-01T17:25:31.102Z"
   },
   {
    "duration": 24,
    "start_time": "2022-11-01T17:25:31.139Z"
   },
   {
    "duration": 47,
    "start_time": "2022-11-01T17:25:31.164Z"
   },
   {
    "duration": 5,
    "start_time": "2022-11-01T17:25:31.213Z"
   },
   {
    "duration": 29,
    "start_time": "2022-11-01T17:25:31.220Z"
   },
   {
    "duration": 31,
    "start_time": "2022-11-01T17:25:31.251Z"
   },
   {
    "duration": 16,
    "start_time": "2022-11-01T17:25:31.283Z"
   },
   {
    "duration": 28,
    "start_time": "2022-11-01T17:25:31.301Z"
   },
   {
    "duration": 31,
    "start_time": "2022-11-01T17:25:31.331Z"
   },
   {
    "duration": 23,
    "start_time": "2022-11-01T17:25:31.364Z"
   },
   {
    "duration": 36,
    "start_time": "2022-11-01T17:25:31.388Z"
   },
   {
    "duration": 24,
    "start_time": "2022-11-01T17:25:31.426Z"
   },
   {
    "duration": 34,
    "start_time": "2022-11-01T17:25:31.451Z"
   },
   {
    "duration": 30,
    "start_time": "2022-11-01T17:25:31.487Z"
   },
   {
    "duration": 22,
    "start_time": "2022-11-01T17:26:41.512Z"
   },
   {
    "duration": 728,
    "start_time": "2022-11-02T10:25:49.220Z"
   },
   {
    "duration": 195,
    "start_time": "2022-11-02T10:25:49.951Z"
   },
   {
    "duration": 14,
    "start_time": "2022-11-02T10:25:50.147Z"
   },
   {
    "duration": 725,
    "start_time": "2022-11-02T10:25:50.162Z"
   },
   {
    "duration": 4,
    "start_time": "2022-11-02T10:25:50.888Z"
   },
   {
    "duration": 5,
    "start_time": "2022-11-02T10:25:50.905Z"
   },
   {
    "duration": 6,
    "start_time": "2022-11-02T10:25:50.911Z"
   },
   {
    "duration": 22,
    "start_time": "2022-11-02T10:25:50.919Z"
   },
   {
    "duration": 5,
    "start_time": "2022-11-02T10:25:50.943Z"
   },
   {
    "duration": 7,
    "start_time": "2022-11-02T10:25:50.951Z"
   },
   {
    "duration": 9,
    "start_time": "2022-11-02T10:25:50.960Z"
   },
   {
    "duration": 35,
    "start_time": "2022-11-02T10:25:50.970Z"
   },
   {
    "duration": 4,
    "start_time": "2022-11-02T10:25:51.007Z"
   },
   {
    "duration": 21,
    "start_time": "2022-11-02T10:25:51.013Z"
   },
   {
    "duration": 9,
    "start_time": "2022-11-02T10:25:51.036Z"
   },
   {
    "duration": 21,
    "start_time": "2022-11-02T10:25:51.046Z"
   },
   {
    "duration": 7,
    "start_time": "2022-11-02T10:25:51.069Z"
   },
   {
    "duration": 40,
    "start_time": "2022-11-02T10:25:51.078Z"
   },
   {
    "duration": 21,
    "start_time": "2022-11-02T10:25:51.119Z"
   },
   {
    "duration": 68,
    "start_time": "2022-11-02T10:28:10.640Z"
   },
   {
    "duration": 371,
    "start_time": "2022-11-02T10:28:16.981Z"
   },
   {
    "duration": 279,
    "start_time": "2022-11-02T10:28:41.365Z"
   },
   {
    "duration": 255,
    "start_time": "2022-11-02T10:28:50.477Z"
   },
   {
    "duration": 4,
    "start_time": "2022-11-02T10:29:05.306Z"
   },
   {
    "duration": 3,
    "start_time": "2022-11-02T10:29:09.401Z"
   },
   {
    "duration": 278,
    "start_time": "2022-11-02T10:29:16.095Z"
   },
   {
    "duration": 172,
    "start_time": "2022-11-02T10:29:52.868Z"
   },
   {
    "duration": 193,
    "start_time": "2022-11-02T10:29:59.221Z"
   },
   {
    "duration": 185,
    "start_time": "2022-11-02T10:30:03.995Z"
   },
   {
    "duration": 197,
    "start_time": "2022-11-02T10:30:54.964Z"
   },
   {
    "duration": 8,
    "start_time": "2022-11-02T10:31:30.947Z"
   },
   {
    "duration": 3,
    "start_time": "2022-11-02T10:32:19.915Z"
   },
   {
    "duration": 4,
    "start_time": "2022-11-02T10:32:31.297Z"
   },
   {
    "duration": 4,
    "start_time": "2022-11-02T10:32:42.554Z"
   },
   {
    "duration": 3,
    "start_time": "2022-11-02T10:32:48.189Z"
   },
   {
    "duration": 8,
    "start_time": "2022-11-02T11:26:50.955Z"
   },
   {
    "duration": 77,
    "start_time": "2022-11-02T11:28:30.691Z"
   },
   {
    "duration": 9,
    "start_time": "2022-11-02T11:28:37.367Z"
   },
   {
    "duration": 35,
    "start_time": "2022-11-02T11:28:41.708Z"
   },
   {
    "duration": 28,
    "start_time": "2022-11-02T11:28:51.797Z"
   },
   {
    "duration": 17,
    "start_time": "2022-11-02T11:29:40.149Z"
   },
   {
    "duration": 141,
    "start_time": "2022-11-02T11:30:16.813Z"
   },
   {
    "duration": 14,
    "start_time": "2022-11-02T11:30:35.961Z"
   },
   {
    "duration": 160,
    "start_time": "2022-11-02T11:30:51.195Z"
   },
   {
    "duration": 144,
    "start_time": "2022-11-02T11:33:04.610Z"
   },
   {
    "duration": 13,
    "start_time": "2022-11-02T11:33:08.867Z"
   },
   {
    "duration": 234,
    "start_time": "2022-11-02T11:33:32.776Z"
   },
   {
    "duration": 213,
    "start_time": "2022-11-02T11:35:04.777Z"
   },
   {
    "duration": 203,
    "start_time": "2022-11-02T11:43:05.794Z"
   },
   {
    "duration": 7,
    "start_time": "2022-11-02T11:44:38.550Z"
   },
   {
    "duration": 18,
    "start_time": "2022-11-02T11:55:05.084Z"
   },
   {
    "duration": 21,
    "start_time": "2022-11-02T11:55:18.316Z"
   },
   {
    "duration": 4,
    "start_time": "2022-11-02T11:57:27.060Z"
   },
   {
    "duration": 7,
    "start_time": "2022-11-02T11:57:32.629Z"
   },
   {
    "duration": 10,
    "start_time": "2022-11-02T11:58:05.830Z"
   },
   {
    "duration": 11,
    "start_time": "2022-11-02T11:58:21.940Z"
   },
   {
    "duration": 9,
    "start_time": "2022-11-02T11:59:05.867Z"
   },
   {
    "duration": 9,
    "start_time": "2022-11-02T11:59:33.888Z"
   },
   {
    "duration": 3,
    "start_time": "2022-11-02T11:59:44.037Z"
   },
   {
    "duration": 72,
    "start_time": "2022-11-02T11:59:44.041Z"
   },
   {
    "duration": 12,
    "start_time": "2022-11-02T11:59:44.115Z"
   },
   {
    "duration": 737,
    "start_time": "2022-11-02T11:59:44.129Z"
   },
   {
    "duration": 4,
    "start_time": "2022-11-02T11:59:44.867Z"
   },
   {
    "duration": 16,
    "start_time": "2022-11-02T11:59:44.872Z"
   },
   {
    "duration": 14,
    "start_time": "2022-11-02T11:59:44.890Z"
   },
   {
    "duration": 31,
    "start_time": "2022-11-02T11:59:44.905Z"
   },
   {
    "duration": 4,
    "start_time": "2022-11-02T11:59:44.938Z"
   },
   {
    "duration": 16,
    "start_time": "2022-11-02T11:59:44.944Z"
   },
   {
    "duration": 10,
    "start_time": "2022-11-02T11:59:44.961Z"
   },
   {
    "duration": 7,
    "start_time": "2022-11-02T11:59:44.972Z"
   },
   {
    "duration": 6,
    "start_time": "2022-11-02T11:59:44.980Z"
   },
   {
    "duration": 18,
    "start_time": "2022-11-02T11:59:44.987Z"
   },
   {
    "duration": 8,
    "start_time": "2022-11-02T11:59:45.006Z"
   },
   {
    "duration": 32,
    "start_time": "2022-11-02T11:59:45.015Z"
   },
   {
    "duration": 5,
    "start_time": "2022-11-02T11:59:45.049Z"
   },
   {
    "duration": 18,
    "start_time": "2022-11-02T11:59:45.055Z"
   },
   {
    "duration": 38,
    "start_time": "2022-11-02T11:59:45.075Z"
   },
   {
    "duration": 208,
    "start_time": "2022-11-02T11:59:45.115Z"
   },
   {
    "duration": 7,
    "start_time": "2022-11-02T11:59:45.325Z"
   },
   {
    "duration": 207,
    "start_time": "2022-11-02T11:59:45.333Z"
   },
   {
    "duration": 7,
    "start_time": "2022-11-02T11:59:45.542Z"
   },
   {
    "duration": 205,
    "start_time": "2022-11-02T11:59:45.553Z"
   },
   {
    "duration": 9,
    "start_time": "2022-11-02T11:59:45.760Z"
   },
   {
    "duration": 9,
    "start_time": "2022-11-02T11:59:51.025Z"
   },
   {
    "duration": 10,
    "start_time": "2022-11-02T12:00:10.789Z"
   },
   {
    "duration": 8,
    "start_time": "2022-11-02T12:00:16.179Z"
   },
   {
    "duration": 8,
    "start_time": "2022-11-02T12:00:24.716Z"
   },
   {
    "duration": 10,
    "start_time": "2022-11-02T12:00:38.546Z"
   },
   {
    "duration": 12,
    "start_time": "2022-11-02T12:00:47.328Z"
   },
   {
    "duration": 7,
    "start_time": "2022-11-02T12:00:51.968Z"
   },
   {
    "duration": 4,
    "start_time": "2022-11-02T12:09:36.284Z"
   },
   {
    "duration": 3,
    "start_time": "2022-11-02T12:09:45.299Z"
   },
   {
    "duration": 5,
    "start_time": "2022-11-02T12:09:49.550Z"
   },
   {
    "duration": 1094,
    "start_time": "2022-11-02T12:10:00.688Z"
   },
   {
    "duration": 7,
    "start_time": "2022-11-02T12:10:09.123Z"
   },
   {
    "duration": 4,
    "start_time": "2022-11-02T12:10:14.633Z"
   },
   {
    "duration": 8,
    "start_time": "2022-11-02T12:11:07.581Z"
   },
   {
    "duration": 7,
    "start_time": "2022-11-02T12:11:22.266Z"
   },
   {
    "duration": 11,
    "start_time": "2022-11-02T12:13:29.039Z"
   },
   {
    "duration": 9,
    "start_time": "2022-11-02T12:15:06.207Z"
   },
   {
    "duration": 18,
    "start_time": "2022-11-02T12:15:08.856Z"
   },
   {
    "duration": 22,
    "start_time": "2022-11-02T12:15:54.747Z"
   },
   {
    "duration": 21,
    "start_time": "2022-11-02T12:16:05.460Z"
   },
   {
    "duration": 132,
    "start_time": "2022-11-02T12:16:52.121Z"
   },
   {
    "duration": 294,
    "start_time": "2022-11-02T12:17:05.630Z"
   },
   {
    "duration": 187,
    "start_time": "2022-11-02T12:17:13.094Z"
   },
   {
    "duration": 159,
    "start_time": "2022-11-02T12:17:17.687Z"
   },
   {
    "duration": 192,
    "start_time": "2022-11-02T12:17:22.098Z"
   },
   {
    "duration": 205,
    "start_time": "2022-11-02T12:23:19.142Z"
   },
   {
    "duration": 17,
    "start_time": "2022-11-02T12:31:09.611Z"
   },
   {
    "duration": 21,
    "start_time": "2022-11-02T12:31:36.626Z"
   },
   {
    "duration": 201,
    "start_time": "2022-11-02T12:32:03.476Z"
   },
   {
    "duration": 194,
    "start_time": "2022-11-02T12:32:47.112Z"
   },
   {
    "duration": 17,
    "start_time": "2022-11-02T12:33:41.374Z"
   },
   {
    "duration": 178,
    "start_time": "2022-11-02T12:33:49.196Z"
   },
   {
    "duration": 377,
    "start_time": "2022-11-02T12:40:16.575Z"
   },
   {
    "duration": 98,
    "start_time": "2022-11-02T12:40:31.135Z"
   },
   {
    "duration": 10,
    "start_time": "2022-11-02T12:40:37.192Z"
   },
   {
    "duration": 74,
    "start_time": "2022-11-02T12:40:46.117Z"
   },
   {
    "duration": 8,
    "start_time": "2022-11-02T12:41:23.983Z"
   },
   {
    "duration": 6,
    "start_time": "2022-11-02T12:41:29.324Z"
   },
   {
    "duration": 19,
    "start_time": "2022-11-02T12:41:47.761Z"
   },
   {
    "duration": 14,
    "start_time": "2022-11-02T12:42:17.607Z"
   },
   {
    "duration": 14,
    "start_time": "2022-11-02T12:42:25.933Z"
   },
   {
    "duration": 18,
    "start_time": "2022-11-02T12:42:44.950Z"
   },
   {
    "duration": 7,
    "start_time": "2022-11-02T12:48:40.146Z"
   },
   {
    "duration": 22,
    "start_time": "2022-11-02T12:48:47.036Z"
   },
   {
    "duration": 4,
    "start_time": "2022-11-02T12:49:03.899Z"
   },
   {
    "duration": 9,
    "start_time": "2022-11-02T12:50:06.303Z"
   },
   {
    "duration": 22,
    "start_time": "2022-11-02T12:50:38.378Z"
   },
   {
    "duration": 4,
    "start_time": "2022-11-02T12:51:32.322Z"
   },
   {
    "duration": 4,
    "start_time": "2022-11-02T12:51:37.665Z"
   },
   {
    "duration": 6,
    "start_time": "2022-11-02T12:53:30.138Z"
   },
   {
    "duration": 3,
    "start_time": "2022-11-02T12:53:32.329Z"
   },
   {
    "duration": 174,
    "start_time": "2022-11-02T12:53:44.701Z"
   },
   {
    "duration": 7,
    "start_time": "2022-11-02T12:53:50.190Z"
   },
   {
    "duration": 170,
    "start_time": "2022-11-02T12:53:53.013Z"
   },
   {
    "duration": 9,
    "start_time": "2022-11-02T12:53:55.380Z"
   },
   {
    "duration": 199,
    "start_time": "2022-11-02T12:53:55.840Z"
   },
   {
    "duration": 7,
    "start_time": "2022-11-02T12:55:13.001Z"
   },
   {
    "duration": 19,
    "start_time": "2022-11-02T12:55:15.241Z"
   },
   {
    "duration": 34,
    "start_time": "2022-11-02T12:56:56.553Z"
   },
   {
    "duration": 34,
    "start_time": "2022-11-02T12:57:57.981Z"
   },
   {
    "duration": 18,
    "start_time": "2022-11-02T13:00:27.911Z"
   },
   {
    "duration": 11,
    "start_time": "2022-11-02T13:00:53.128Z"
   },
   {
    "duration": 10,
    "start_time": "2022-11-02T13:03:27.295Z"
   },
   {
    "duration": 24,
    "start_time": "2022-11-02T13:03:28.756Z"
   },
   {
    "duration": 68,
    "start_time": "2022-11-02T13:05:45.611Z"
   },
   {
    "duration": 548,
    "start_time": "2022-11-02T13:05:57.460Z"
   },
   {
    "duration": 444,
    "start_time": "2022-11-02T13:07:22.884Z"
   },
   {
    "duration": 571,
    "start_time": "2022-11-02T13:07:42.737Z"
   },
   {
    "duration": 25,
    "start_time": "2022-11-02T13:08:33.204Z"
   },
   {
    "duration": 187,
    "start_time": "2022-11-02T13:09:12.520Z"
   },
   {
    "duration": 318,
    "start_time": "2022-11-02T13:09:19.080Z"
   },
   {
    "duration": 284,
    "start_time": "2022-11-02T13:09:26.853Z"
   },
   {
    "duration": 309,
    "start_time": "2022-11-02T13:09:32.145Z"
   },
   {
    "duration": 254,
    "start_time": "2022-11-02T13:09:35.597Z"
   },
   {
    "duration": 916,
    "start_time": "2022-11-02T13:09:40.330Z"
   },
   {
    "duration": 249,
    "start_time": "2022-11-02T13:09:45.289Z"
   },
   {
    "duration": 251,
    "start_time": "2022-11-02T13:12:00.667Z"
   },
   {
    "duration": 253,
    "start_time": "2022-11-02T13:12:25.482Z"
   },
   {
    "duration": 463,
    "start_time": "2022-11-02T13:13:43.980Z"
   },
   {
    "duration": 308,
    "start_time": "2022-11-02T13:26:32.318Z"
   },
   {
    "duration": 285,
    "start_time": "2022-11-02T13:26:44.791Z"
   },
   {
    "duration": 327,
    "start_time": "2022-11-02T13:26:55.281Z"
   },
   {
    "duration": 269,
    "start_time": "2022-11-02T13:26:59.881Z"
   },
   {
    "duration": 242,
    "start_time": "2022-11-02T13:28:00.565Z"
   },
   {
    "duration": 19,
    "start_time": "2022-11-02T13:37:11.821Z"
   },
   {
    "duration": 15,
    "start_time": "2022-11-02T13:37:24.510Z"
   },
   {
    "duration": 24,
    "start_time": "2022-11-02T13:37:36.172Z"
   },
   {
    "duration": 26,
    "start_time": "2022-11-02T13:37:58.741Z"
   },
   {
    "duration": 38,
    "start_time": "2022-11-02T13:38:05.884Z"
   },
   {
    "duration": 29,
    "start_time": "2022-11-02T13:38:11.683Z"
   },
   {
    "duration": 19,
    "start_time": "2022-11-02T13:39:09.956Z"
   },
   {
    "duration": 334,
    "start_time": "2022-11-02T13:39:31.211Z"
   },
   {
    "duration": 16,
    "start_time": "2022-11-02T13:40:45.895Z"
   },
   {
    "duration": 20,
    "start_time": "2022-11-02T13:41:22.075Z"
   },
   {
    "duration": 19,
    "start_time": "2022-11-02T13:41:31.463Z"
   },
   {
    "duration": 30,
    "start_time": "2022-11-02T13:41:34.814Z"
   },
   {
    "duration": 25,
    "start_time": "2022-11-02T13:41:43.383Z"
   },
   {
    "duration": 21,
    "start_time": "2022-11-02T13:42:36.322Z"
   },
   {
    "duration": 24,
    "start_time": "2022-11-02T13:43:32.804Z"
   },
   {
    "duration": 20,
    "start_time": "2022-11-02T13:47:03.058Z"
   },
   {
    "duration": 23,
    "start_time": "2022-11-02T13:47:18.667Z"
   },
   {
    "duration": 162,
    "start_time": "2022-11-02T13:47:49.149Z"
   },
   {
    "duration": 25,
    "start_time": "2022-11-02T13:48:08.037Z"
   },
   {
    "duration": 502,
    "start_time": "2022-11-02T13:51:44.954Z"
   },
   {
    "duration": 87,
    "start_time": "2022-11-02T13:53:11.678Z"
   },
   {
    "duration": 40,
    "start_time": "2022-11-02T13:53:27.340Z"
   },
   {
    "duration": 10,
    "start_time": "2022-11-02T14:12:00.070Z"
   },
   {
    "duration": 18,
    "start_time": "2022-11-02T14:13:06.234Z"
   },
   {
    "duration": 14,
    "start_time": "2022-11-02T14:14:24.624Z"
   },
   {
    "duration": 20,
    "start_time": "2022-11-02T14:14:44.263Z"
   },
   {
    "duration": 20,
    "start_time": "2022-11-02T14:14:51.880Z"
   },
   {
    "duration": 7,
    "start_time": "2022-11-02T14:15:01.526Z"
   },
   {
    "duration": 70,
    "start_time": "2022-11-02T14:17:04.471Z"
   },
   {
    "duration": 67,
    "start_time": "2022-11-02T14:17:48.660Z"
   },
   {
    "duration": 7,
    "start_time": "2022-11-02T14:18:04.547Z"
   },
   {
    "duration": 7,
    "start_time": "2022-11-02T14:18:31.486Z"
   },
   {
    "duration": 8,
    "start_time": "2022-11-02T14:18:46.587Z"
   },
   {
    "duration": 8,
    "start_time": "2022-11-02T14:18:52.185Z"
   },
   {
    "duration": 57,
    "start_time": "2022-11-04T11:46:49.442Z"
   },
   {
    "duration": 724,
    "start_time": "2022-11-04T11:46:53.527Z"
   },
   {
    "duration": 198,
    "start_time": "2022-11-04T11:46:54.253Z"
   },
   {
    "duration": 14,
    "start_time": "2022-11-04T11:46:54.452Z"
   },
   {
    "duration": 717,
    "start_time": "2022-11-04T11:46:54.467Z"
   },
   {
    "duration": 4,
    "start_time": "2022-11-04T11:46:55.185Z"
   },
   {
    "duration": 7,
    "start_time": "2022-11-04T11:46:55.190Z"
   },
   {
    "duration": 6,
    "start_time": "2022-11-04T11:46:55.198Z"
   },
   {
    "duration": 80,
    "start_time": "2022-11-04T11:46:55.205Z"
   },
   {
    "duration": 4,
    "start_time": "2022-11-04T11:46:55.286Z"
   },
   {
    "duration": 11,
    "start_time": "2022-11-04T11:46:55.292Z"
   },
   {
    "duration": 19,
    "start_time": "2022-11-04T11:46:55.304Z"
   },
   {
    "duration": 3,
    "start_time": "2022-11-04T11:46:55.324Z"
   },
   {
    "duration": 11,
    "start_time": "2022-11-04T11:46:55.328Z"
   },
   {
    "duration": 20,
    "start_time": "2022-11-04T11:46:55.340Z"
   },
   {
    "duration": 14,
    "start_time": "2022-11-04T11:46:55.361Z"
   },
   {
    "duration": 21,
    "start_time": "2022-11-04T11:46:55.376Z"
   },
   {
    "duration": 9,
    "start_time": "2022-11-04T11:46:55.398Z"
   },
   {
    "duration": 25,
    "start_time": "2022-11-04T11:46:55.409Z"
   },
   {
    "duration": 20,
    "start_time": "2022-11-04T11:46:55.436Z"
   },
   {
    "duration": 221,
    "start_time": "2022-11-04T11:46:55.458Z"
   },
   {
    "duration": 6,
    "start_time": "2022-11-04T11:46:55.680Z"
   },
   {
    "duration": 9,
    "start_time": "2022-11-04T11:46:55.687Z"
   },
   {
    "duration": 177,
    "start_time": "2022-11-04T11:46:55.697Z"
   },
   {
    "duration": 6,
    "start_time": "2022-11-04T11:46:55.875Z"
   },
   {
    "duration": 189,
    "start_time": "2022-11-04T11:46:55.882Z"
   },
   {
    "duration": 11,
    "start_time": "2022-11-04T11:46:56.072Z"
   },
   {
    "duration": 22,
    "start_time": "2022-11-04T11:46:56.085Z"
   },
   {
    "duration": 35,
    "start_time": "2022-11-04T11:46:56.110Z"
   },
   {
    "duration": 269,
    "start_time": "2022-11-04T11:46:56.147Z"
   },
   {
    "duration": 42,
    "start_time": "2022-11-04T11:46:56.418Z"
   },
   {
    "duration": 0,
    "start_time": "2022-11-04T11:46:56.461Z"
   },
   {
    "duration": 0,
    "start_time": "2022-11-04T11:46:56.462Z"
   },
   {
    "duration": 0,
    "start_time": "2022-11-04T11:46:56.464Z"
   },
   {
    "duration": 0,
    "start_time": "2022-11-04T11:46:56.465Z"
   },
   {
    "duration": 20,
    "start_time": "2022-11-04T11:47:20.177Z"
   },
   {
    "duration": 12,
    "start_time": "2022-11-04T11:47:42.030Z"
   },
   {
    "duration": 7,
    "start_time": "2022-11-04T11:47:53.527Z"
   },
   {
    "duration": 26,
    "start_time": "2022-11-04T11:48:01.465Z"
   },
   {
    "duration": 19,
    "start_time": "2022-11-04T11:48:36.361Z"
   },
   {
    "duration": 7,
    "start_time": "2022-11-04T11:50:24.985Z"
   },
   {
    "duration": 7,
    "start_time": "2022-11-04T11:50:27.065Z"
   },
   {
    "duration": 7,
    "start_time": "2022-11-04T11:50:49.679Z"
   },
   {
    "duration": 7,
    "start_time": "2022-11-04T11:50:54.165Z"
   },
   {
    "duration": 6,
    "start_time": "2022-11-04T11:51:28.424Z"
   },
   {
    "duration": 6,
    "start_time": "2022-11-04T11:51:29.093Z"
   },
   {
    "duration": 23,
    "start_time": "2022-11-04T11:51:31.139Z"
   },
   {
    "duration": 283,
    "start_time": "2022-11-04T11:51:41.425Z"
   },
   {
    "duration": 19,
    "start_time": "2022-11-04T11:51:45.875Z"
   },
   {
    "duration": 21,
    "start_time": "2022-11-04T11:52:19.791Z"
   },
   {
    "duration": 450,
    "start_time": "2022-11-04T11:52:26.275Z"
   },
   {
    "duration": 24,
    "start_time": "2022-11-04T11:53:06.839Z"
   },
   {
    "duration": 7,
    "start_time": "2022-11-04T11:53:18.351Z"
   },
   {
    "duration": 20,
    "start_time": "2022-11-04T11:53:27.528Z"
   },
   {
    "duration": 5,
    "start_time": "2022-11-04T11:54:14.164Z"
   },
   {
    "duration": 6,
    "start_time": "2022-11-04T11:56:49.268Z"
   },
   {
    "duration": 487,
    "start_time": "2022-11-04T12:18:38.923Z"
   },
   {
    "duration": 287,
    "start_time": "2022-11-04T12:18:49.673Z"
   },
   {
    "duration": 248,
    "start_time": "2022-11-04T12:19:47.966Z"
   },
   {
    "duration": 357,
    "start_time": "2022-11-04T12:20:05.951Z"
   },
   {
    "duration": 2,
    "start_time": "2022-11-04T12:20:20.636Z"
   },
   {
    "duration": 61,
    "start_time": "2022-11-04T12:20:20.641Z"
   },
   {
    "duration": 12,
    "start_time": "2022-11-04T12:20:20.704Z"
   },
   {
    "duration": 733,
    "start_time": "2022-11-04T12:20:20.717Z"
   },
   {
    "duration": 4,
    "start_time": "2022-11-04T12:20:21.451Z"
   },
   {
    "duration": 8,
    "start_time": "2022-11-04T12:20:21.456Z"
   },
   {
    "duration": 7,
    "start_time": "2022-11-04T12:20:21.465Z"
   },
   {
    "duration": 23,
    "start_time": "2022-11-04T12:20:21.473Z"
   },
   {
    "duration": 5,
    "start_time": "2022-11-04T12:20:21.498Z"
   },
   {
    "duration": 6,
    "start_time": "2022-11-04T12:20:21.522Z"
   },
   {
    "duration": 9,
    "start_time": "2022-11-04T12:20:21.529Z"
   },
   {
    "duration": 9,
    "start_time": "2022-11-04T12:20:21.539Z"
   },
   {
    "duration": 6,
    "start_time": "2022-11-04T12:20:21.550Z"
   },
   {
    "duration": 21,
    "start_time": "2022-11-04T12:20:21.557Z"
   },
   {
    "duration": 7,
    "start_time": "2022-11-04T12:20:21.579Z"
   },
   {
    "duration": 21,
    "start_time": "2022-11-04T12:20:21.587Z"
   },
   {
    "duration": 12,
    "start_time": "2022-11-04T12:20:21.610Z"
   },
   {
    "duration": 23,
    "start_time": "2022-11-04T12:20:21.624Z"
   },
   {
    "duration": 20,
    "start_time": "2022-11-04T12:20:21.648Z"
   },
   {
    "duration": 205,
    "start_time": "2022-11-04T12:20:21.669Z"
   },
   {
    "duration": 6,
    "start_time": "2022-11-04T12:20:21.876Z"
   },
   {
    "duration": 27,
    "start_time": "2022-11-04T12:20:21.883Z"
   },
   {
    "duration": 178,
    "start_time": "2022-11-04T12:20:21.912Z"
   },
   {
    "duration": 6,
    "start_time": "2022-11-04T12:20:22.093Z"
   },
   {
    "duration": 188,
    "start_time": "2022-11-04T12:20:22.100Z"
   },
   {
    "duration": 7,
    "start_time": "2022-11-04T12:20:22.290Z"
   },
   {
    "duration": 32,
    "start_time": "2022-11-04T12:20:22.298Z"
   },
   {
    "duration": 31,
    "start_time": "2022-11-04T12:20:22.332Z"
   },
   {
    "duration": 222,
    "start_time": "2022-11-04T12:20:22.365Z"
   },
   {
    "duration": 19,
    "start_time": "2022-11-04T12:20:22.588Z"
   },
   {
    "duration": 468,
    "start_time": "2022-11-04T12:20:22.608Z"
   },
   {
    "duration": 25,
    "start_time": "2022-11-04T12:20:23.077Z"
   },
   {
    "duration": 18,
    "start_time": "2022-11-04T12:20:23.104Z"
   },
   {
    "duration": 20,
    "start_time": "2022-11-04T12:20:23.124Z"
   },
   {
    "duration": 4,
    "start_time": "2022-11-04T12:20:23.145Z"
   },
   {
    "duration": 335,
    "start_time": "2022-11-04T12:20:23.151Z"
   },
   {
    "duration": 260,
    "start_time": "2022-11-04T12:20:29.249Z"
   },
   {
    "duration": 247,
    "start_time": "2022-11-04T12:20:54.225Z"
   },
   {
    "duration": 20,
    "start_time": "2022-11-04T12:21:18.879Z"
   },
   {
    "duration": 73,
    "start_time": "2022-11-04T12:21:35.043Z"
   },
   {
    "duration": 67,
    "start_time": "2022-11-04T12:21:38.491Z"
   },
   {
    "duration": 254,
    "start_time": "2022-11-04T12:21:54.923Z"
   },
   {
    "duration": 5,
    "start_time": "2022-11-04T12:22:27.284Z"
   },
   {
    "duration": 73,
    "start_time": "2022-11-04T12:22:40.755Z"
   },
   {
    "duration": 243,
    "start_time": "2022-11-04T12:22:47.504Z"
   },
   {
    "duration": 18,
    "start_time": "2022-11-04T12:23:17.104Z"
   },
   {
    "duration": 286,
    "start_time": "2022-11-04T12:24:34.859Z"
   },
   {
    "duration": 250,
    "start_time": "2022-11-04T12:25:19.831Z"
   },
   {
    "duration": 20,
    "start_time": "2022-11-04T12:31:42.938Z"
   },
   {
    "duration": 6,
    "start_time": "2022-11-04T12:31:46.837Z"
   },
   {
    "duration": 309,
    "start_time": "2022-11-04T12:31:55.783Z"
   },
   {
    "duration": 259,
    "start_time": "2022-11-04T12:32:13.627Z"
   },
   {
    "duration": 4,
    "start_time": "2022-11-04T12:56:55.792Z"
   },
   {
    "duration": 84,
    "start_time": "2022-11-04T12:56:55.798Z"
   },
   {
    "duration": 12,
    "start_time": "2022-11-04T12:56:55.884Z"
   },
   {
    "duration": 802,
    "start_time": "2022-11-04T12:56:55.898Z"
   },
   {
    "duration": 4,
    "start_time": "2022-11-04T12:56:56.702Z"
   },
   {
    "duration": 13,
    "start_time": "2022-11-04T12:56:56.708Z"
   },
   {
    "duration": 25,
    "start_time": "2022-11-04T12:56:56.723Z"
   },
   {
    "duration": 20,
    "start_time": "2022-11-04T12:57:06.263Z"
   },
   {
    "duration": 28,
    "start_time": "2022-11-04T12:57:26.052Z"
   },
   {
    "duration": 3,
    "start_time": "2022-11-04T12:57:28.149Z"
   },
   {
    "duration": 85,
    "start_time": "2022-11-04T12:57:28.153Z"
   },
   {
    "duration": 12,
    "start_time": "2022-11-04T12:57:28.239Z"
   },
   {
    "duration": 683,
    "start_time": "2022-11-04T12:57:28.252Z"
   },
   {
    "duration": 3,
    "start_time": "2022-11-04T12:57:28.937Z"
   },
   {
    "duration": 9,
    "start_time": "2022-11-04T12:57:28.942Z"
   },
   {
    "duration": 22,
    "start_time": "2022-11-04T12:57:32.527Z"
   },
   {
    "duration": 4,
    "start_time": "2022-11-04T13:00:07.450Z"
   },
   {
    "duration": 68,
    "start_time": "2022-11-04T13:00:07.456Z"
   },
   {
    "duration": 11,
    "start_time": "2022-11-04T13:00:07.526Z"
   },
   {
    "duration": 759,
    "start_time": "2022-11-04T13:00:07.539Z"
   },
   {
    "duration": 4,
    "start_time": "2022-11-04T13:00:08.300Z"
   },
   {
    "duration": 16,
    "start_time": "2022-11-04T13:00:08.305Z"
   },
   {
    "duration": 2,
    "start_time": "2022-11-04T13:00:08.323Z"
   },
   {
    "duration": 7,
    "start_time": "2022-11-04T13:00:08.326Z"
   },
   {
    "duration": 22,
    "start_time": "2022-11-04T13:00:08.334Z"
   },
   {
    "duration": 5,
    "start_time": "2022-11-04T13:00:08.357Z"
   },
   {
    "duration": 7,
    "start_time": "2022-11-04T13:00:08.363Z"
   },
   {
    "duration": 9,
    "start_time": "2022-11-04T13:00:08.372Z"
   },
   {
    "duration": 4,
    "start_time": "2022-11-04T13:00:08.383Z"
   },
   {
    "duration": 6,
    "start_time": "2022-11-04T13:00:08.389Z"
   },
   {
    "duration": 36,
    "start_time": "2022-11-04T13:00:08.396Z"
   },
   {
    "duration": 7,
    "start_time": "2022-11-04T13:00:08.433Z"
   },
   {
    "duration": 28,
    "start_time": "2022-11-04T13:00:08.442Z"
   },
   {
    "duration": 12,
    "start_time": "2022-11-04T13:00:08.472Z"
   },
   {
    "duration": 25,
    "start_time": "2022-11-04T13:00:08.486Z"
   },
   {
    "duration": 23,
    "start_time": "2022-11-04T13:00:08.522Z"
   },
   {
    "duration": 208,
    "start_time": "2022-11-04T13:00:08.547Z"
   },
   {
    "duration": 6,
    "start_time": "2022-11-04T13:00:08.757Z"
   },
   {
    "duration": 9,
    "start_time": "2022-11-04T13:00:08.764Z"
   },
   {
    "duration": 267,
    "start_time": "2022-11-04T13:00:08.774Z"
   },
   {
    "duration": 5,
    "start_time": "2022-11-04T13:00:09.043Z"
   },
   {
    "duration": 177,
    "start_time": "2022-11-04T13:00:09.049Z"
   },
   {
    "duration": 7,
    "start_time": "2022-11-04T13:00:09.228Z"
   },
   {
    "duration": 11,
    "start_time": "2022-11-04T13:00:09.237Z"
   },
   {
    "duration": 25,
    "start_time": "2022-11-04T13:00:09.250Z"
   },
   {
    "duration": 271,
    "start_time": "2022-11-04T13:00:09.276Z"
   },
   {
    "duration": 22,
    "start_time": "2022-11-04T13:00:09.548Z"
   },
   {
    "duration": 472,
    "start_time": "2022-11-04T13:00:09.571Z"
   },
   {
    "duration": 27,
    "start_time": "2022-11-04T13:00:10.044Z"
   },
   {
    "duration": 6,
    "start_time": "2022-11-04T13:00:10.073Z"
   },
   {
    "duration": 43,
    "start_time": "2022-11-04T13:00:10.080Z"
   },
   {
    "duration": 6,
    "start_time": "2022-11-04T13:00:10.124Z"
   },
   {
    "duration": 296,
    "start_time": "2022-11-04T13:00:10.133Z"
   },
   {
    "duration": 286,
    "start_time": "2022-11-04T13:00:15.826Z"
   },
   {
    "duration": 350,
    "start_time": "2022-11-04T13:00:29.693Z"
   },
   {
    "duration": 271,
    "start_time": "2022-11-04T13:00:45.020Z"
   },
   {
    "duration": 267,
    "start_time": "2022-11-04T13:01:48.602Z"
   },
   {
    "duration": 355,
    "start_time": "2022-11-04T13:02:26.625Z"
   },
   {
    "duration": 241,
    "start_time": "2022-11-04T13:02:48.636Z"
   },
   {
    "duration": 249,
    "start_time": "2022-11-04T13:03:03.096Z"
   },
   {
    "duration": 244,
    "start_time": "2022-11-04T13:03:10.673Z"
   },
   {
    "duration": 278,
    "start_time": "2022-11-04T13:03:22.302Z"
   },
   {
    "duration": 266,
    "start_time": "2022-11-04T13:03:30.992Z"
   },
   {
    "duration": 255,
    "start_time": "2022-11-04T13:03:56.379Z"
   },
   {
    "duration": 289,
    "start_time": "2022-11-04T13:59:42.861Z"
   },
   {
    "duration": 4,
    "start_time": "2022-11-04T13:59:49.428Z"
   },
   {
    "duration": 68,
    "start_time": "2022-11-04T13:59:49.434Z"
   },
   {
    "duration": 24,
    "start_time": "2022-11-04T13:59:49.504Z"
   },
   {
    "duration": 841,
    "start_time": "2022-11-04T13:59:49.531Z"
   },
   {
    "duration": 4,
    "start_time": "2022-11-04T13:59:50.374Z"
   },
   {
    "duration": 7,
    "start_time": "2022-11-04T13:59:50.380Z"
   },
   {
    "duration": 9,
    "start_time": "2022-11-04T13:59:50.389Z"
   },
   {
    "duration": 23,
    "start_time": "2022-11-04T13:59:50.399Z"
   },
   {
    "duration": 24,
    "start_time": "2022-11-04T13:59:50.424Z"
   },
   {
    "duration": 8,
    "start_time": "2022-11-04T13:59:50.450Z"
   },
   {
    "duration": 16,
    "start_time": "2022-11-04T13:59:50.460Z"
   },
   {
    "duration": 19,
    "start_time": "2022-11-04T13:59:50.478Z"
   },
   {
    "duration": 24,
    "start_time": "2022-11-04T13:59:50.498Z"
   },
   {
    "duration": 10,
    "start_time": "2022-11-04T13:59:50.613Z"
   },
   {
    "duration": 24,
    "start_time": "2022-11-04T13:59:50.625Z"
   },
   {
    "duration": 8,
    "start_time": "2022-11-04T13:59:50.650Z"
   },
   {
    "duration": 23,
    "start_time": "2022-11-04T13:59:50.660Z"
   },
   {
    "duration": 14,
    "start_time": "2022-11-04T13:59:50.685Z"
   },
   {
    "duration": 44,
    "start_time": "2022-11-04T13:59:50.702Z"
   },
   {
    "duration": 34,
    "start_time": "2022-11-04T13:59:50.748Z"
   },
   {
    "duration": 285,
    "start_time": "2022-11-04T13:59:50.784Z"
   },
   {
    "duration": 7,
    "start_time": "2022-11-04T13:59:51.071Z"
   },
   {
    "duration": 28,
    "start_time": "2022-11-04T13:59:51.080Z"
   },
   {
    "duration": 186,
    "start_time": "2022-11-04T13:59:51.109Z"
   },
   {
    "duration": 7,
    "start_time": "2022-11-04T13:59:51.296Z"
   },
   {
    "duration": 181,
    "start_time": "2022-11-04T13:59:51.304Z"
   },
   {
    "duration": 7,
    "start_time": "2022-11-04T13:59:51.487Z"
   },
   {
    "duration": 9,
    "start_time": "2022-11-04T13:59:51.495Z"
   },
   {
    "duration": 36,
    "start_time": "2022-11-04T13:59:51.506Z"
   },
   {
    "duration": 240,
    "start_time": "2022-11-04T13:59:51.543Z"
   },
   {
    "duration": 22,
    "start_time": "2022-11-04T13:59:51.785Z"
   },
   {
    "duration": 518,
    "start_time": "2022-11-04T13:59:51.821Z"
   },
   {
    "duration": 37,
    "start_time": "2022-11-04T13:59:52.342Z"
   },
   {
    "duration": 6,
    "start_time": "2022-11-04T13:59:52.381Z"
   },
   {
    "duration": 41,
    "start_time": "2022-11-04T13:59:52.389Z"
   },
   {
    "duration": 7,
    "start_time": "2022-11-04T13:59:52.432Z"
   },
   {
    "duration": 289,
    "start_time": "2022-11-04T13:59:52.440Z"
   },
   {
    "duration": 249,
    "start_time": "2022-11-04T13:59:52.732Z"
   },
   {
    "duration": 22,
    "start_time": "2022-11-04T14:00:07.824Z"
   },
   {
    "duration": 34,
    "start_time": "2022-11-04T14:04:45.141Z"
   },
   {
    "duration": 262,
    "start_time": "2022-11-04T14:05:15.889Z"
   },
   {
    "duration": 170,
    "start_time": "2022-11-04T14:09:02.739Z"
   },
   {
    "duration": 3,
    "start_time": "2022-11-04T14:09:18.081Z"
   },
   {
    "duration": 69,
    "start_time": "2022-11-04T14:09:18.086Z"
   },
   {
    "duration": 12,
    "start_time": "2022-11-04T14:09:18.157Z"
   },
   {
    "duration": 795,
    "start_time": "2022-11-04T14:09:18.171Z"
   },
   {
    "duration": 4,
    "start_time": "2022-11-04T14:09:18.968Z"
   },
   {
    "duration": 23,
    "start_time": "2022-11-04T14:09:18.974Z"
   },
   {
    "duration": 10,
    "start_time": "2022-11-04T14:09:18.999Z"
   },
   {
    "duration": 17,
    "start_time": "2022-11-04T14:09:19.010Z"
   },
   {
    "duration": 40,
    "start_time": "2022-11-04T14:09:19.030Z"
   },
   {
    "duration": 5,
    "start_time": "2022-11-04T14:09:19.072Z"
   },
   {
    "duration": 22,
    "start_time": "2022-11-04T14:09:19.079Z"
   },
   {
    "duration": 15,
    "start_time": "2022-11-04T14:09:19.102Z"
   },
   {
    "duration": 24,
    "start_time": "2022-11-04T14:09:19.119Z"
   },
   {
    "duration": 9,
    "start_time": "2022-11-04T14:09:19.145Z"
   },
   {
    "duration": 35,
    "start_time": "2022-11-04T14:09:19.156Z"
   },
   {
    "duration": 16,
    "start_time": "2022-11-04T14:09:19.193Z"
   },
   {
    "duration": 29,
    "start_time": "2022-11-04T14:09:19.210Z"
   },
   {
    "duration": 28,
    "start_time": "2022-11-04T14:09:19.241Z"
   },
   {
    "duration": 25,
    "start_time": "2022-11-04T14:09:19.270Z"
   },
   {
    "duration": 25,
    "start_time": "2022-11-04T14:09:19.296Z"
   },
   {
    "duration": 235,
    "start_time": "2022-11-04T14:09:19.322Z"
   },
   {
    "duration": 6,
    "start_time": "2022-11-04T14:09:19.558Z"
   },
   {
    "duration": 20,
    "start_time": "2022-11-04T14:09:19.565Z"
   },
   {
    "duration": 218,
    "start_time": "2022-11-04T14:09:19.588Z"
   },
   {
    "duration": 14,
    "start_time": "2022-11-04T14:09:19.808Z"
   },
   {
    "duration": 188,
    "start_time": "2022-11-04T14:09:19.824Z"
   },
   {
    "duration": 10,
    "start_time": "2022-11-04T14:09:20.013Z"
   },
   {
    "duration": 23,
    "start_time": "2022-11-04T14:09:20.025Z"
   },
   {
    "duration": 43,
    "start_time": "2022-11-04T14:09:20.050Z"
   },
   {
    "duration": 220,
    "start_time": "2022-11-04T14:09:20.095Z"
   },
   {
    "duration": 21,
    "start_time": "2022-11-04T14:09:20.316Z"
   },
   {
    "duration": 448,
    "start_time": "2022-11-04T14:09:20.339Z"
   },
   {
    "duration": 33,
    "start_time": "2022-11-04T14:09:20.789Z"
   },
   {
    "duration": 5,
    "start_time": "2022-11-04T14:09:20.824Z"
   },
   {
    "duration": 46,
    "start_time": "2022-11-04T14:09:20.831Z"
   },
   {
    "duration": 5,
    "start_time": "2022-11-04T14:09:20.878Z"
   },
   {
    "duration": 305,
    "start_time": "2022-11-04T14:09:20.884Z"
   },
   {
    "duration": 19,
    "start_time": "2022-11-04T14:09:21.190Z"
   },
   {
    "duration": 285,
    "start_time": "2022-11-04T14:09:21.210Z"
   },
   {
    "duration": 254,
    "start_time": "2022-11-04T14:09:57.644Z"
   },
   {
    "duration": 251,
    "start_time": "2022-11-04T14:10:04.401Z"
   },
   {
    "duration": 249,
    "start_time": "2022-11-04T14:10:21.326Z"
   },
   {
    "duration": 6,
    "start_time": "2022-11-04T14:15:45.723Z"
   },
   {
    "duration": 8,
    "start_time": "2022-11-04T14:16:20.048Z"
   },
   {
    "duration": 513,
    "start_time": "2022-11-04T14:16:57.522Z"
   },
   {
    "duration": 33,
    "start_time": "2022-11-04T14:17:08.557Z"
   },
   {
    "duration": 17,
    "start_time": "2022-11-04T14:17:17.022Z"
   },
   {
    "duration": 14,
    "start_time": "2022-11-04T14:17:34.551Z"
   },
   {
    "duration": 12,
    "start_time": "2022-11-04T14:17:51.422Z"
   },
   {
    "duration": 242,
    "start_time": "2022-11-04T14:18:06.382Z"
   },
   {
    "duration": 22,
    "start_time": "2022-11-04T14:18:11.251Z"
   },
   {
    "duration": 10,
    "start_time": "2022-11-04T14:18:28.508Z"
   },
   {
    "duration": 12,
    "start_time": "2022-11-04T14:18:48.752Z"
   },
   {
    "duration": 11,
    "start_time": "2022-11-04T14:18:51.589Z"
   },
   {
    "duration": 13,
    "start_time": "2022-11-04T14:18:56.778Z"
   },
   {
    "duration": 14,
    "start_time": "2022-11-04T14:18:58.040Z"
   },
   {
    "duration": 12,
    "start_time": "2022-11-04T14:19:00.808Z"
   },
   {
    "duration": 1091,
    "start_time": "2022-11-04T14:19:14.900Z"
   },
   {
    "duration": 71,
    "start_time": "2022-11-04T14:19:15.993Z"
   },
   {
    "duration": 13,
    "start_time": "2022-11-04T14:19:16.065Z"
   },
   {
    "duration": 797,
    "start_time": "2022-11-04T14:19:16.081Z"
   },
   {
    "duration": 3,
    "start_time": "2022-11-04T14:19:16.880Z"
   },
   {
    "duration": 7,
    "start_time": "2022-11-04T14:19:16.884Z"
   },
   {
    "duration": 4,
    "start_time": "2022-11-04T14:19:16.892Z"
   },
   {
    "duration": 8,
    "start_time": "2022-11-04T14:19:16.898Z"
   },
   {
    "duration": 28,
    "start_time": "2022-11-04T14:19:16.908Z"
   },
   {
    "duration": 5,
    "start_time": "2022-11-04T14:19:16.937Z"
   },
   {
    "duration": 7,
    "start_time": "2022-11-04T14:19:16.944Z"
   },
   {
    "duration": 8,
    "start_time": "2022-11-04T14:19:16.953Z"
   },
   {
    "duration": 5,
    "start_time": "2022-11-04T14:19:16.962Z"
   },
   {
    "duration": 7,
    "start_time": "2022-11-04T14:19:16.968Z"
   },
   {
    "duration": 14,
    "start_time": "2022-11-04T14:19:16.976Z"
   },
   {
    "duration": 30,
    "start_time": "2022-11-04T14:19:16.991Z"
   },
   {
    "duration": 19,
    "start_time": "2022-11-04T14:19:17.023Z"
   },
   {
    "duration": 4,
    "start_time": "2022-11-04T14:19:17.044Z"
   },
   {
    "duration": 17,
    "start_time": "2022-11-04T14:19:17.049Z"
   },
   {
    "duration": 21,
    "start_time": "2022-11-04T14:19:17.067Z"
   },
   {
    "duration": 230,
    "start_time": "2022-11-04T14:19:17.089Z"
   },
   {
    "duration": 7,
    "start_time": "2022-11-04T14:19:17.323Z"
   },
   {
    "duration": 7,
    "start_time": "2022-11-04T14:19:17.331Z"
   },
   {
    "duration": 198,
    "start_time": "2022-11-04T14:19:17.340Z"
   },
   {
    "duration": 7,
    "start_time": "2022-11-04T14:19:17.540Z"
   },
   {
    "duration": 202,
    "start_time": "2022-11-04T14:19:17.548Z"
   },
   {
    "duration": 7,
    "start_time": "2022-11-04T14:19:17.752Z"
   },
   {
    "duration": 6,
    "start_time": "2022-11-04T14:19:17.761Z"
   },
   {
    "duration": 28,
    "start_time": "2022-11-04T14:19:17.768Z"
   },
   {
    "duration": 334,
    "start_time": "2022-11-04T14:19:17.798Z"
   },
   {
    "duration": 86,
    "start_time": "2022-11-04T14:19:18.133Z"
   },
   {
    "duration": 0,
    "start_time": "2022-11-04T14:19:18.221Z"
   },
   {
    "duration": 0,
    "start_time": "2022-11-04T14:19:18.222Z"
   },
   {
    "duration": 0,
    "start_time": "2022-11-04T14:19:18.224Z"
   },
   {
    "duration": 0,
    "start_time": "2022-11-04T14:19:18.225Z"
   },
   {
    "duration": 0,
    "start_time": "2022-11-04T14:19:18.226Z"
   },
   {
    "duration": 0,
    "start_time": "2022-11-04T14:19:18.228Z"
   },
   {
    "duration": 0,
    "start_time": "2022-11-04T14:19:18.229Z"
   },
   {
    "duration": 0,
    "start_time": "2022-11-04T14:19:18.230Z"
   },
   {
    "duration": 0,
    "start_time": "2022-11-04T14:19:18.231Z"
   },
   {
    "duration": 0,
    "start_time": "2022-11-04T14:19:18.233Z"
   },
   {
    "duration": 0,
    "start_time": "2022-11-04T14:19:18.234Z"
   },
   {
    "duration": 0,
    "start_time": "2022-11-04T14:19:18.235Z"
   },
   {
    "duration": 4,
    "start_time": "2022-11-04T14:19:35.557Z"
   },
   {
    "duration": 92,
    "start_time": "2022-11-04T14:19:35.562Z"
   },
   {
    "duration": 15,
    "start_time": "2022-11-04T14:19:35.656Z"
   },
   {
    "duration": 895,
    "start_time": "2022-11-04T14:19:35.673Z"
   },
   {
    "duration": 5,
    "start_time": "2022-11-04T14:19:36.570Z"
   },
   {
    "duration": 11,
    "start_time": "2022-11-04T14:19:36.577Z"
   },
   {
    "duration": 3,
    "start_time": "2022-11-04T14:19:36.590Z"
   },
   {
    "duration": 10,
    "start_time": "2022-11-04T14:19:36.595Z"
   },
   {
    "duration": 44,
    "start_time": "2022-11-04T14:19:36.607Z"
   },
   {
    "duration": 5,
    "start_time": "2022-11-04T14:19:36.654Z"
   },
   {
    "duration": 8,
    "start_time": "2022-11-04T14:19:36.661Z"
   },
   {
    "duration": 9,
    "start_time": "2022-11-04T14:19:36.671Z"
   },
   {
    "duration": 9,
    "start_time": "2022-11-04T14:19:36.681Z"
   },
   {
    "duration": 7,
    "start_time": "2022-11-04T14:19:36.691Z"
   },
   {
    "duration": 34,
    "start_time": "2022-11-04T14:19:36.700Z"
   },
   {
    "duration": 7,
    "start_time": "2022-11-04T14:19:36.735Z"
   },
   {
    "duration": 24,
    "start_time": "2022-11-04T14:19:36.744Z"
   },
   {
    "duration": 5,
    "start_time": "2022-11-04T14:19:36.769Z"
   },
   {
    "duration": 21,
    "start_time": "2022-11-04T14:19:36.776Z"
   },
   {
    "duration": 22,
    "start_time": "2022-11-04T14:19:36.822Z"
   },
   {
    "duration": 216,
    "start_time": "2022-11-04T14:19:36.845Z"
   },
   {
    "duration": 6,
    "start_time": "2022-11-04T14:19:37.062Z"
   },
   {
    "duration": 6,
    "start_time": "2022-11-04T14:19:37.069Z"
   },
   {
    "duration": 185,
    "start_time": "2022-11-04T14:19:37.076Z"
   },
   {
    "duration": 6,
    "start_time": "2022-11-04T14:19:37.263Z"
   },
   {
    "duration": 194,
    "start_time": "2022-11-04T14:19:37.271Z"
   },
   {
    "duration": 9,
    "start_time": "2022-11-04T14:19:37.468Z"
   },
   {
    "duration": 13,
    "start_time": "2022-11-04T14:19:37.480Z"
   },
   {
    "duration": 38,
    "start_time": "2022-11-04T14:19:37.494Z"
   },
   {
    "duration": 236,
    "start_time": "2022-11-04T14:19:37.534Z"
   },
   {
    "duration": 10,
    "start_time": "2022-11-04T14:19:37.771Z"
   },
   {
    "duration": 0,
    "start_time": "2022-11-04T14:19:37.782Z"
   },
   {
    "duration": 0,
    "start_time": "2022-11-04T14:19:37.783Z"
   },
   {
    "duration": 0,
    "start_time": "2022-11-04T14:19:37.784Z"
   },
   {
    "duration": 0,
    "start_time": "2022-11-04T14:19:37.786Z"
   },
   {
    "duration": 0,
    "start_time": "2022-11-04T14:19:37.788Z"
   },
   {
    "duration": 0,
    "start_time": "2022-11-04T14:19:37.789Z"
   },
   {
    "duration": 0,
    "start_time": "2022-11-04T14:19:37.790Z"
   },
   {
    "duration": 0,
    "start_time": "2022-11-04T14:19:37.791Z"
   },
   {
    "duration": 0,
    "start_time": "2022-11-04T14:19:37.792Z"
   },
   {
    "duration": 0,
    "start_time": "2022-11-04T14:19:37.794Z"
   },
   {
    "duration": 11,
    "start_time": "2022-11-04T14:19:46.007Z"
   },
   {
    "duration": 21,
    "start_time": "2022-11-04T14:20:24.289Z"
   },
   {
    "duration": 224,
    "start_time": "2022-11-04T14:20:44.722Z"
   },
   {
    "duration": 11,
    "start_time": "2022-11-04T14:21:00.701Z"
   },
   {
    "duration": 23,
    "start_time": "2022-11-04T14:21:04.803Z"
   },
   {
    "duration": 7,
    "start_time": "2022-11-04T14:21:07.835Z"
   },
   {
    "duration": 4,
    "start_time": "2022-11-04T14:21:19.008Z"
   },
   {
    "duration": 80,
    "start_time": "2022-11-04T14:21:19.014Z"
   },
   {
    "duration": 13,
    "start_time": "2022-11-04T14:21:19.096Z"
   },
   {
    "duration": 858,
    "start_time": "2022-11-04T14:21:19.111Z"
   },
   {
    "duration": 4,
    "start_time": "2022-11-04T14:21:19.972Z"
   },
   {
    "duration": 11,
    "start_time": "2022-11-04T14:21:19.978Z"
   },
   {
    "duration": 39,
    "start_time": "2022-11-04T14:21:19.990Z"
   },
   {
    "duration": 18,
    "start_time": "2022-11-04T14:21:20.030Z"
   },
   {
    "duration": 32,
    "start_time": "2022-11-04T14:21:20.050Z"
   },
   {
    "duration": 5,
    "start_time": "2022-11-04T14:21:20.084Z"
   },
   {
    "duration": 35,
    "start_time": "2022-11-04T14:21:20.091Z"
   },
   {
    "duration": 17,
    "start_time": "2022-11-04T14:21:20.127Z"
   },
   {
    "duration": 24,
    "start_time": "2022-11-04T14:21:20.146Z"
   },
   {
    "duration": 7,
    "start_time": "2022-11-04T14:21:20.172Z"
   },
   {
    "duration": 15,
    "start_time": "2022-11-04T14:21:20.180Z"
   },
   {
    "duration": 6,
    "start_time": "2022-11-04T14:21:20.197Z"
   },
   {
    "duration": 25,
    "start_time": "2022-11-04T14:21:20.205Z"
   },
   {
    "duration": 6,
    "start_time": "2022-11-04T14:21:20.232Z"
   },
   {
    "duration": 23,
    "start_time": "2022-11-04T14:21:20.240Z"
   },
   {
    "duration": 22,
    "start_time": "2022-11-04T14:21:20.264Z"
   },
   {
    "duration": 227,
    "start_time": "2022-11-04T14:21:20.288Z"
   },
   {
    "duration": 6,
    "start_time": "2022-11-04T14:21:20.521Z"
   },
   {
    "duration": 21,
    "start_time": "2022-11-04T14:21:20.528Z"
   },
   {
    "duration": 170,
    "start_time": "2022-11-04T14:21:20.551Z"
   },
   {
    "duration": 7,
    "start_time": "2022-11-04T14:21:20.722Z"
   },
   {
    "duration": 173,
    "start_time": "2022-11-04T14:21:20.731Z"
   },
   {
    "duration": 18,
    "start_time": "2022-11-04T14:21:20.905Z"
   },
   {
    "duration": 12,
    "start_time": "2022-11-04T14:21:20.924Z"
   },
   {
    "duration": 31,
    "start_time": "2022-11-04T14:21:20.939Z"
   },
   {
    "duration": 245,
    "start_time": "2022-11-04T14:21:20.972Z"
   },
   {
    "duration": 31,
    "start_time": "2022-11-04T14:21:21.219Z"
   },
   {
    "duration": 480,
    "start_time": "2022-11-04T14:21:21.251Z"
   },
   {
    "duration": 24,
    "start_time": "2022-11-04T14:21:21.733Z"
   },
   {
    "duration": 5,
    "start_time": "2022-11-04T14:21:21.759Z"
   },
   {
    "duration": 21,
    "start_time": "2022-11-04T14:21:21.765Z"
   },
   {
    "duration": 5,
    "start_time": "2022-11-04T14:21:21.788Z"
   },
   {
    "duration": 283,
    "start_time": "2022-11-04T14:21:21.794Z"
   },
   {
    "duration": 21,
    "start_time": "2022-11-04T14:21:22.078Z"
   },
   {
    "duration": 27,
    "start_time": "2022-11-04T14:21:22.100Z"
   },
   {
    "duration": 0,
    "start_time": "2022-11-04T14:21:22.129Z"
   },
   {
    "duration": 0,
    "start_time": "2022-11-04T14:21:22.131Z"
   },
   {
    "duration": 0,
    "start_time": "2022-11-04T14:21:22.132Z"
   },
   {
    "duration": 0,
    "start_time": "2022-11-04T14:21:22.133Z"
   },
   {
    "duration": 3,
    "start_time": "2022-11-04T14:21:58.306Z"
   },
   {
    "duration": 13,
    "start_time": "2022-11-04T14:22:08.041Z"
   },
   {
    "duration": 19,
    "start_time": "2022-11-04T14:22:14.855Z"
   },
   {
    "duration": 254,
    "start_time": "2022-11-04T14:22:23.767Z"
   },
   {
    "duration": 21,
    "start_time": "2022-11-04T14:23:15.133Z"
   },
   {
    "duration": 357,
    "start_time": "2022-11-04T14:24:41.914Z"
   },
   {
    "duration": 25,
    "start_time": "2022-11-04T14:24:55.554Z"
   },
   {
    "duration": 318,
    "start_time": "2022-11-04T14:24:56.040Z"
   },
   {
    "duration": 22,
    "start_time": "2022-11-04T14:25:07.636Z"
   },
   {
    "duration": 21,
    "start_time": "2022-11-04T14:25:14.645Z"
   },
   {
    "duration": 15,
    "start_time": "2022-11-04T14:26:00.556Z"
   },
   {
    "duration": 3,
    "start_time": "2022-11-04T14:26:55.609Z"
   },
   {
    "duration": 82,
    "start_time": "2022-11-04T14:26:55.621Z"
   },
   {
    "duration": 18,
    "start_time": "2022-11-04T14:26:55.705Z"
   },
   {
    "duration": 818,
    "start_time": "2022-11-04T14:26:55.724Z"
   },
   {
    "duration": 4,
    "start_time": "2022-11-04T14:26:56.544Z"
   },
   {
    "duration": 5,
    "start_time": "2022-11-04T14:26:56.550Z"
   },
   {
    "duration": 7,
    "start_time": "2022-11-04T14:26:56.557Z"
   },
   {
    "duration": 4,
    "start_time": "2022-11-04T14:26:56.565Z"
   },
   {
    "duration": 26,
    "start_time": "2022-11-04T14:26:56.571Z"
   },
   {
    "duration": 25,
    "start_time": "2022-11-04T14:26:56.599Z"
   },
   {
    "duration": 8,
    "start_time": "2022-11-04T14:26:56.626Z"
   },
   {
    "duration": 10,
    "start_time": "2022-11-04T14:26:56.635Z"
   },
   {
    "duration": 5,
    "start_time": "2022-11-04T14:26:56.647Z"
   },
   {
    "duration": 9,
    "start_time": "2022-11-04T14:26:56.654Z"
   },
   {
    "duration": 17,
    "start_time": "2022-11-04T14:26:56.665Z"
   },
   {
    "duration": 8,
    "start_time": "2022-11-04T14:26:56.684Z"
   },
   {
    "duration": 42,
    "start_time": "2022-11-04T14:26:56.693Z"
   },
   {
    "duration": 9,
    "start_time": "2022-11-04T14:26:56.736Z"
   },
   {
    "duration": 27,
    "start_time": "2022-11-04T14:26:56.747Z"
   },
   {
    "duration": 24,
    "start_time": "2022-11-04T14:26:56.776Z"
   },
   {
    "duration": 213,
    "start_time": "2022-11-04T14:26:56.822Z"
   },
   {
    "duration": 8,
    "start_time": "2022-11-04T14:26:57.037Z"
   },
   {
    "duration": 11,
    "start_time": "2022-11-04T14:26:57.047Z"
   },
   {
    "duration": 205,
    "start_time": "2022-11-04T14:26:57.060Z"
   },
   {
    "duration": 6,
    "start_time": "2022-11-04T14:26:57.267Z"
   },
   {
    "duration": 185,
    "start_time": "2022-11-04T14:26:57.275Z"
   },
   {
    "duration": 9,
    "start_time": "2022-11-04T14:26:57.461Z"
   },
   {
    "duration": 9,
    "start_time": "2022-11-04T14:26:57.472Z"
   },
   {
    "duration": 40,
    "start_time": "2022-11-04T14:26:57.483Z"
   },
   {
    "duration": 240,
    "start_time": "2022-11-04T14:26:57.525Z"
   },
   {
    "duration": 24,
    "start_time": "2022-11-04T14:26:57.766Z"
   },
   {
    "duration": 564,
    "start_time": "2022-11-04T14:26:57.792Z"
   },
   {
    "duration": 31,
    "start_time": "2022-11-04T14:26:58.358Z"
   },
   {
    "duration": 7,
    "start_time": "2022-11-04T14:26:58.390Z"
   },
   {
    "duration": 43,
    "start_time": "2022-11-04T14:26:58.399Z"
   },
   {
    "duration": 7,
    "start_time": "2022-11-04T14:26:58.444Z"
   },
   {
    "duration": 25,
    "start_time": "2022-11-04T14:26:58.453Z"
   },
   {
    "duration": 286,
    "start_time": "2022-11-04T14:26:58.480Z"
   },
   {
    "duration": 10,
    "start_time": "2022-11-04T14:27:05.655Z"
   },
   {
    "duration": 283,
    "start_time": "2022-11-04T14:29:54.838Z"
   },
   {
    "duration": 12,
    "start_time": "2022-11-04T14:31:47.066Z"
   },
   {
    "duration": 247,
    "start_time": "2022-11-04T14:32:22.141Z"
   },
   {
    "duration": 66,
    "start_time": "2022-11-04T14:32:34.478Z"
   },
   {
    "duration": 267,
    "start_time": "2022-11-04T14:32:40.627Z"
   },
   {
    "duration": 21,
    "start_time": "2022-11-04T14:33:39.323Z"
   },
   {
    "duration": 25,
    "start_time": "2022-11-04T14:37:58.865Z"
   },
   {
    "duration": 23,
    "start_time": "2022-11-04T14:38:08.943Z"
   },
   {
    "duration": 8,
    "start_time": "2022-11-04T14:38:11.628Z"
   },
   {
    "duration": 21,
    "start_time": "2022-11-04T14:38:22.732Z"
   },
   {
    "duration": 7,
    "start_time": "2022-11-04T14:38:24.075Z"
   },
   {
    "duration": 3,
    "start_time": "2022-11-04T14:38:38.502Z"
   },
   {
    "duration": 67,
    "start_time": "2022-11-04T14:38:38.507Z"
   },
   {
    "duration": 13,
    "start_time": "2022-11-04T14:38:38.576Z"
   },
   {
    "duration": 808,
    "start_time": "2022-11-04T14:38:38.590Z"
   },
   {
    "duration": 5,
    "start_time": "2022-11-04T14:38:39.400Z"
   },
   {
    "duration": 8,
    "start_time": "2022-11-04T14:38:39.407Z"
   },
   {
    "duration": 7,
    "start_time": "2022-11-04T14:38:39.421Z"
   },
   {
    "duration": 7,
    "start_time": "2022-11-04T14:38:39.429Z"
   },
   {
    "duration": 28,
    "start_time": "2022-11-04T14:38:39.438Z"
   },
   {
    "duration": 5,
    "start_time": "2022-11-04T14:38:39.467Z"
   },
   {
    "duration": 12,
    "start_time": "2022-11-04T14:38:39.475Z"
   },
   {
    "duration": 115,
    "start_time": "2022-11-04T14:38:39.488Z"
   },
   {
    "duration": 6,
    "start_time": "2022-11-04T14:38:39.605Z"
   },
   {
    "duration": 10,
    "start_time": "2022-11-04T14:38:39.612Z"
   },
   {
    "duration": 15,
    "start_time": "2022-11-04T14:38:39.624Z"
   },
   {
    "duration": 8,
    "start_time": "2022-11-04T14:38:39.641Z"
   },
   {
    "duration": 21,
    "start_time": "2022-11-04T14:38:39.651Z"
   },
   {
    "duration": 7,
    "start_time": "2022-11-04T14:38:39.674Z"
   },
   {
    "duration": 58,
    "start_time": "2022-11-04T14:38:39.683Z"
   },
   {
    "duration": 25,
    "start_time": "2022-11-04T14:38:39.743Z"
   },
   {
    "duration": 257,
    "start_time": "2022-11-04T14:38:39.770Z"
   },
   {
    "duration": 7,
    "start_time": "2022-11-04T14:38:40.029Z"
   },
   {
    "duration": 9,
    "start_time": "2022-11-04T14:38:40.038Z"
   },
   {
    "duration": 197,
    "start_time": "2022-11-04T14:38:40.049Z"
   },
   {
    "duration": 6,
    "start_time": "2022-11-04T14:38:40.248Z"
   },
   {
    "duration": 197,
    "start_time": "2022-11-04T14:38:40.255Z"
   },
   {
    "duration": 8,
    "start_time": "2022-11-04T14:38:40.454Z"
   },
   {
    "duration": 8,
    "start_time": "2022-11-04T14:38:40.463Z"
   },
   {
    "duration": 25,
    "start_time": "2022-11-04T14:38:40.474Z"
   },
   {
    "duration": 253,
    "start_time": "2022-11-04T14:38:40.521Z"
   },
   {
    "duration": 22,
    "start_time": "2022-11-04T14:38:40.776Z"
   },
   {
    "duration": 530,
    "start_time": "2022-11-04T14:38:40.799Z"
   },
   {
    "duration": 27,
    "start_time": "2022-11-04T14:38:41.331Z"
   },
   {
    "duration": 5,
    "start_time": "2022-11-04T14:38:41.360Z"
   },
   {
    "duration": 36,
    "start_time": "2022-11-04T14:38:41.367Z"
   },
   {
    "duration": 6,
    "start_time": "2022-11-04T14:38:44.179Z"
   },
   {
    "duration": 26,
    "start_time": "2022-11-04T14:38:45.820Z"
   },
   {
    "duration": 20,
    "start_time": "2022-11-04T14:38:49.857Z"
   },
   {
    "duration": 6,
    "start_time": "2022-11-04T14:38:51.268Z"
   },
   {
    "duration": 19,
    "start_time": "2022-11-04T14:38:53.034Z"
   },
   {
    "duration": 237,
    "start_time": "2022-11-04T14:39:20.699Z"
   },
   {
    "duration": 22,
    "start_time": "2022-11-04T14:40:22.104Z"
   },
   {
    "duration": 22,
    "start_time": "2022-11-04T14:40:23.180Z"
   },
   {
    "duration": 22,
    "start_time": "2022-11-04T14:40:23.793Z"
   },
   {
    "duration": 19,
    "start_time": "2022-11-04T14:40:24.825Z"
   },
   {
    "duration": 6,
    "start_time": "2022-11-04T14:40:25.285Z"
   },
   {
    "duration": 23,
    "start_time": "2022-11-04T14:40:26.325Z"
   },
   {
    "duration": 275,
    "start_time": "2022-11-04T14:40:27.463Z"
   },
   {
    "duration": 20,
    "start_time": "2022-11-04T14:40:37.272Z"
   },
   {
    "duration": 19,
    "start_time": "2022-11-04T14:40:38.929Z"
   },
   {
    "duration": 284,
    "start_time": "2022-11-04T14:40:41.191Z"
   },
   {
    "duration": 332,
    "start_time": "2022-11-04T14:43:28.245Z"
   },
   {
    "duration": 259,
    "start_time": "2022-11-04T14:43:42.750Z"
   },
   {
    "duration": 249,
    "start_time": "2022-11-04T14:43:55.165Z"
   },
   {
    "duration": 255,
    "start_time": "2022-11-04T14:44:08.906Z"
   },
   {
    "duration": 244,
    "start_time": "2022-11-04T14:44:16.245Z"
   },
   {
    "duration": 254,
    "start_time": "2022-11-04T14:45:11.862Z"
   },
   {
    "duration": 288,
    "start_time": "2022-11-04T14:46:47.783Z"
   },
   {
    "duration": 344,
    "start_time": "2022-11-04T14:47:15.170Z"
   },
   {
    "duration": 292,
    "start_time": "2022-11-04T14:47:25.173Z"
   },
   {
    "duration": 2,
    "start_time": "2022-11-04T14:48:49.341Z"
   },
   {
    "duration": 258,
    "start_time": "2022-11-04T14:51:42.707Z"
   },
   {
    "duration": 134,
    "start_time": "2022-11-04T15:03:54.969Z"
   },
   {
    "duration": 130,
    "start_time": "2022-11-04T15:04:12.951Z"
   },
   {
    "duration": 197,
    "start_time": "2022-11-04T15:04:19.468Z"
   },
   {
    "duration": 222,
    "start_time": "2022-11-04T15:04:41.566Z"
   },
   {
    "duration": 19,
    "start_time": "2022-11-04T15:09:01.102Z"
   },
   {
    "duration": 4,
    "start_time": "2022-11-04T15:09:29.633Z"
   },
   {
    "duration": 48,
    "start_time": "2022-11-04T15:10:17.357Z"
   },
   {
    "duration": 3,
    "start_time": "2022-11-04T15:10:37.421Z"
   },
   {
    "duration": 13,
    "start_time": "2022-11-04T15:10:38.034Z"
   },
   {
    "duration": 70,
    "start_time": "2022-11-04T15:12:50.379Z"
   },
   {
    "duration": 187,
    "start_time": "2022-11-04T15:14:23.355Z"
   },
   {
    "duration": 4,
    "start_time": "2022-11-04T15:15:16.360Z"
   },
   {
    "duration": 254,
    "start_time": "2022-11-04T15:15:18.420Z"
   },
   {
    "duration": 201,
    "start_time": "2022-11-04T15:15:24.267Z"
   },
   {
    "duration": 88,
    "start_time": "2022-11-04T15:16:22.977Z"
   },
   {
    "duration": 181,
    "start_time": "2022-11-04T15:16:27.828Z"
   },
   {
    "duration": 67,
    "start_time": "2022-11-04T15:16:54.480Z"
   },
   {
    "duration": 76,
    "start_time": "2022-11-04T15:17:06.352Z"
   },
   {
    "duration": 92,
    "start_time": "2022-11-04T15:17:08.098Z"
   },
   {
    "duration": 169,
    "start_time": "2022-11-04T15:17:28.466Z"
   },
   {
    "duration": 175,
    "start_time": "2022-11-04T15:17:34.594Z"
   },
   {
    "duration": 176,
    "start_time": "2022-11-04T15:19:08.161Z"
   },
   {
    "duration": 212,
    "start_time": "2022-11-04T15:25:13.796Z"
   },
   {
    "duration": 191,
    "start_time": "2022-11-04T15:25:39.620Z"
   },
   {
    "duration": 176,
    "start_time": "2022-11-04T15:25:43.872Z"
   },
   {
    "duration": 194,
    "start_time": "2022-11-04T15:25:50.220Z"
   },
   {
    "duration": 171,
    "start_time": "2022-11-04T15:26:04.941Z"
   },
   {
    "duration": 175,
    "start_time": "2022-11-04T15:39:11.707Z"
   },
   {
    "duration": 174,
    "start_time": "2022-11-04T15:39:17.402Z"
   },
   {
    "duration": 196,
    "start_time": "2022-11-04T15:40:36.103Z"
   },
   {
    "duration": 179,
    "start_time": "2022-11-04T15:41:08.618Z"
   },
   {
    "duration": 263,
    "start_time": "2022-11-04T15:41:28.472Z"
   },
   {
    "duration": 162,
    "start_time": "2022-11-04T15:42:02.388Z"
   },
   {
    "duration": 165,
    "start_time": "2022-11-04T15:42:18.623Z"
   },
   {
    "duration": 254,
    "start_time": "2022-11-04T16:20:57.233Z"
   },
   {
    "duration": 250,
    "start_time": "2022-11-04T16:23:02.717Z"
   },
   {
    "duration": 7,
    "start_time": "2022-11-04T16:38:40.916Z"
   },
   {
    "duration": 525,
    "start_time": "2022-11-04T16:42:48.123Z"
   },
   {
    "duration": 147,
    "start_time": "2022-11-04T16:43:01.622Z"
   },
   {
    "duration": 228,
    "start_time": "2022-11-04T16:43:11.788Z"
   },
   {
    "duration": 276,
    "start_time": "2022-11-04T16:43:28.694Z"
   },
   {
    "duration": 191,
    "start_time": "2022-11-04T16:43:48.387Z"
   },
   {
    "duration": 71,
    "start_time": "2022-11-04T16:44:06.032Z"
   },
   {
    "duration": 203,
    "start_time": "2022-11-04T16:44:19.330Z"
   },
   {
    "duration": 191,
    "start_time": "2022-11-04T16:44:25.727Z"
   },
   {
    "duration": 191,
    "start_time": "2022-11-04T16:44:35.428Z"
   },
   {
    "duration": 14,
    "start_time": "2022-11-04T16:44:47.049Z"
   },
   {
    "duration": 8,
    "start_time": "2022-11-04T16:49:21.688Z"
   },
   {
    "duration": 8,
    "start_time": "2022-11-04T16:49:34.358Z"
   },
   {
    "duration": 22,
    "start_time": "2022-11-04T16:49:41.828Z"
   },
   {
    "duration": 14,
    "start_time": "2022-11-04T16:49:56.605Z"
   },
   {
    "duration": 5,
    "start_time": "2022-11-04T16:50:17.652Z"
   },
   {
    "duration": 22,
    "start_time": "2022-11-04T16:50:19.724Z"
   },
   {
    "duration": 5,
    "start_time": "2022-11-04T16:50:41.090Z"
   },
   {
    "duration": 35,
    "start_time": "2022-11-04T16:50:41.504Z"
   },
   {
    "duration": 193,
    "start_time": "2022-11-04T16:51:15.224Z"
   },
   {
    "duration": 13,
    "start_time": "2022-11-04T16:53:14.025Z"
   },
   {
    "duration": 14,
    "start_time": "2022-11-04T16:53:34.497Z"
   },
   {
    "duration": 13,
    "start_time": "2022-11-04T16:53:54.404Z"
   },
   {
    "duration": 13,
    "start_time": "2022-11-04T16:54:05.335Z"
   },
   {
    "duration": 138,
    "start_time": "2022-11-04T16:54:13.058Z"
   },
   {
    "duration": 122,
    "start_time": "2022-11-04T16:54:21.993Z"
   },
   {
    "duration": 4,
    "start_time": "2022-11-04T16:54:43.157Z"
   },
   {
    "duration": 168,
    "start_time": "2022-11-04T16:54:44.479Z"
   },
   {
    "duration": 159,
    "start_time": "2022-11-04T16:54:55.540Z"
   },
   {
    "duration": 180,
    "start_time": "2022-11-04T16:55:04.397Z"
   },
   {
    "duration": 66,
    "start_time": "2022-11-04T16:55:27.732Z"
   },
   {
    "duration": 13,
    "start_time": "2022-11-04T16:55:33.803Z"
   },
   {
    "duration": 195,
    "start_time": "2022-11-04T16:55:54.455Z"
   },
   {
    "duration": 270,
    "start_time": "2022-11-04T16:57:15.370Z"
   },
   {
    "duration": 271,
    "start_time": "2022-11-04T16:57:37.759Z"
   },
   {
    "duration": 17,
    "start_time": "2022-11-04T16:58:54.762Z"
   },
   {
    "duration": 15,
    "start_time": "2022-11-04T16:58:59.796Z"
   },
   {
    "duration": 25,
    "start_time": "2022-11-04T16:59:01.510Z"
   },
   {
    "duration": 16,
    "start_time": "2022-11-04T16:59:15.461Z"
   },
   {
    "duration": 299,
    "start_time": "2022-11-04T16:59:57.489Z"
   },
   {
    "duration": 203,
    "start_time": "2022-11-04T17:00:17.076Z"
   },
   {
    "duration": 201,
    "start_time": "2022-11-04T17:00:24.158Z"
   },
   {
    "duration": 216,
    "start_time": "2022-11-04T17:01:08.259Z"
   },
   {
    "duration": 13,
    "start_time": "2022-11-04T17:02:33.504Z"
   },
   {
    "duration": 72,
    "start_time": "2022-11-04T17:02:53.077Z"
   },
   {
    "duration": 20,
    "start_time": "2022-11-04T17:02:57.428Z"
   },
   {
    "duration": 17,
    "start_time": "2022-11-04T17:08:35.211Z"
   },
   {
    "duration": 18,
    "start_time": "2022-11-04T17:08:40.143Z"
   },
   {
    "duration": 182,
    "start_time": "2022-11-04T17:11:42.344Z"
   },
   {
    "duration": 1016,
    "start_time": "2022-11-04T17:11:57.041Z"
   },
   {
    "duration": 22,
    "start_time": "2022-11-04T17:12:46.053Z"
   },
   {
    "duration": 2056,
    "start_time": "2022-11-04T17:13:24.348Z"
   },
   {
    "duration": 95,
    "start_time": "2022-11-04T17:17:11.623Z"
   },
   {
    "duration": 21,
    "start_time": "2022-11-04T17:17:16.249Z"
   },
   {
    "duration": 11,
    "start_time": "2022-11-04T17:24:10.416Z"
   },
   {
    "duration": 7,
    "start_time": "2022-11-04T17:24:17.627Z"
   },
   {
    "duration": 113,
    "start_time": "2022-11-04T17:24:50.828Z"
   },
   {
    "duration": 147,
    "start_time": "2022-11-04T17:25:20.548Z"
   },
   {
    "duration": 10167,
    "start_time": "2022-11-04T17:26:00.052Z"
   },
   {
    "duration": 12,
    "start_time": "2022-11-04T17:26:57.776Z"
   },
   {
    "duration": 17,
    "start_time": "2022-11-04T17:27:09.097Z"
   },
   {
    "duration": 29,
    "start_time": "2022-11-04T17:27:19.310Z"
   },
   {
    "duration": 578,
    "start_time": "2022-11-04T17:27:27.627Z"
   },
   {
    "duration": 579,
    "start_time": "2022-11-04T17:27:31.898Z"
   },
   {
    "duration": 784,
    "start_time": "2022-11-04T17:28:48.598Z"
   },
   {
    "duration": 1993,
    "start_time": "2022-11-04T17:29:34.534Z"
   },
   {
    "duration": 774,
    "start_time": "2022-11-04T17:29:47.715Z"
   },
   {
    "duration": 1030,
    "start_time": "2022-11-04T17:30:00.121Z"
   },
   {
    "duration": 762,
    "start_time": "2022-11-04T17:30:08.063Z"
   },
   {
    "duration": 778,
    "start_time": "2022-11-04T17:30:12.167Z"
   },
   {
    "duration": 1360,
    "start_time": "2022-11-05T10:16:31.441Z"
   },
   {
    "duration": 229,
    "start_time": "2022-11-05T10:16:32.804Z"
   },
   {
    "duration": 15,
    "start_time": "2022-11-05T10:16:33.034Z"
   },
   {
    "duration": 892,
    "start_time": "2022-11-05T10:16:33.051Z"
   },
   {
    "duration": 5,
    "start_time": "2022-11-05T10:16:33.945Z"
   },
   {
    "duration": 9,
    "start_time": "2022-11-05T10:16:33.952Z"
   },
   {
    "duration": 2,
    "start_time": "2022-11-05T10:16:33.963Z"
   },
   {
    "duration": 7,
    "start_time": "2022-11-05T10:16:33.967Z"
   },
   {
    "duration": 58,
    "start_time": "2022-11-05T10:16:33.976Z"
   },
   {
    "duration": 9,
    "start_time": "2022-11-05T10:16:34.037Z"
   },
   {
    "duration": 23,
    "start_time": "2022-11-05T10:16:34.047Z"
   },
   {
    "duration": 9,
    "start_time": "2022-11-05T10:16:34.072Z"
   },
   {
    "duration": 7,
    "start_time": "2022-11-05T10:16:34.082Z"
   },
   {
    "duration": 6,
    "start_time": "2022-11-05T10:16:34.091Z"
   },
   {
    "duration": 29,
    "start_time": "2022-11-05T10:16:34.099Z"
   },
   {
    "duration": 13,
    "start_time": "2022-11-05T10:16:34.129Z"
   },
   {
    "duration": 22,
    "start_time": "2022-11-05T10:16:34.143Z"
   },
   {
    "duration": 6,
    "start_time": "2022-11-05T10:16:34.166Z"
   },
   {
    "duration": 21,
    "start_time": "2022-11-05T10:16:34.173Z"
   },
   {
    "duration": 50,
    "start_time": "2022-11-05T10:16:34.196Z"
   },
   {
    "duration": 227,
    "start_time": "2022-11-05T10:16:34.248Z"
   },
   {
    "duration": 7,
    "start_time": "2022-11-05T10:16:34.476Z"
   },
   {
    "duration": 9,
    "start_time": "2022-11-05T10:16:34.485Z"
   },
   {
    "duration": 235,
    "start_time": "2022-11-05T10:16:34.496Z"
   },
   {
    "duration": 11,
    "start_time": "2022-11-05T10:16:34.733Z"
   },
   {
    "duration": 194,
    "start_time": "2022-11-05T10:16:34.747Z"
   },
   {
    "duration": 7,
    "start_time": "2022-11-05T10:16:34.943Z"
   },
   {
    "duration": 8,
    "start_time": "2022-11-05T10:16:34.952Z"
   },
   {
    "duration": 108,
    "start_time": "2022-11-05T10:16:34.961Z"
   },
   {
    "duration": 262,
    "start_time": "2022-11-05T10:16:35.071Z"
   },
   {
    "duration": 26,
    "start_time": "2022-11-05T10:16:35.335Z"
   },
   {
    "duration": 483,
    "start_time": "2022-11-05T10:16:35.362Z"
   },
   {
    "duration": 25,
    "start_time": "2022-11-05T10:16:35.847Z"
   },
   {
    "duration": 6,
    "start_time": "2022-11-05T10:16:35.874Z"
   },
   {
    "duration": 45,
    "start_time": "2022-11-05T10:16:35.881Z"
   },
   {
    "duration": 10,
    "start_time": "2022-11-05T10:16:35.928Z"
   },
   {
    "duration": 309,
    "start_time": "2022-11-05T10:16:35.940Z"
   },
   {
    "duration": 293,
    "start_time": "2022-11-05T10:16:36.251Z"
   },
   {
    "duration": 4,
    "start_time": "2022-11-05T10:16:36.545Z"
   },
   {
    "duration": 51,
    "start_time": "2022-11-05T10:16:36.550Z"
   },
   {
    "duration": 188,
    "start_time": "2022-11-05T10:16:36.603Z"
   },
   {
    "duration": 196,
    "start_time": "2022-11-05T10:16:36.793Z"
   },
   {
    "duration": 191,
    "start_time": "2022-11-05T10:16:36.991Z"
   },
   {
    "duration": 226,
    "start_time": "2022-11-05T10:16:37.184Z"
   },
   {
    "duration": 266,
    "start_time": "2022-11-05T10:16:37.412Z"
   },
   {
    "duration": 189,
    "start_time": "2022-11-05T10:16:37.680Z"
   },
   {
    "duration": 276,
    "start_time": "2022-11-05T10:16:37.871Z"
   },
   {
    "duration": 16,
    "start_time": "2022-11-05T10:16:38.148Z"
   },
   {
    "duration": 818,
    "start_time": "2022-11-05T10:16:38.166Z"
   },
   {
    "duration": 19,
    "start_time": "2022-11-05T10:16:38.985Z"
   },
   {
    "duration": 2043,
    "start_time": "2022-11-05T10:16:39.006Z"
   },
   {
    "duration": 28,
    "start_time": "2022-11-05T10:16:41.052Z"
   },
   {
    "duration": 58,
    "start_time": "2022-11-05T10:16:41.082Z"
   },
   {
    "duration": 21,
    "start_time": "2022-11-05T10:16:41.142Z"
   },
   {
    "duration": 5,
    "start_time": "2022-11-05T10:16:41.165Z"
   },
   {
    "duration": 21,
    "start_time": "2022-11-05T10:16:41.171Z"
   },
   {
    "duration": 42,
    "start_time": "2022-11-05T10:16:41.194Z"
   },
   {
    "duration": 11,
    "start_time": "2022-11-05T10:16:41.238Z"
   },
   {
    "duration": 236,
    "start_time": "2022-11-05T10:16:41.251Z"
   },
   {
    "duration": 7,
    "start_time": "2022-11-05T10:18:14.586Z"
   },
   {
    "duration": 6,
    "start_time": "2022-11-05T10:24:54.666Z"
   },
   {
    "duration": 282,
    "start_time": "2022-11-05T10:25:05.262Z"
   },
   {
    "duration": 266,
    "start_time": "2022-11-05T10:27:16.287Z"
   },
   {
    "duration": 95,
    "start_time": "2022-11-05T10:27:36.399Z"
   },
   {
    "duration": 412,
    "start_time": "2022-11-05T10:27:52.405Z"
   },
   {
    "duration": 281,
    "start_time": "2022-11-05T10:28:12.619Z"
   },
   {
    "duration": 8,
    "start_time": "2022-11-05T10:30:32.885Z"
   },
   {
    "duration": 49,
    "start_time": "2022-11-05T10:32:10.041Z"
   },
   {
    "duration": 30,
    "start_time": "2022-11-05T10:32:21.973Z"
   },
   {
    "duration": 16,
    "start_time": "2022-11-05T10:33:45.887Z"
   },
   {
    "duration": 25,
    "start_time": "2022-11-05T10:34:03.819Z"
   },
   {
    "duration": 27,
    "start_time": "2022-11-05T10:34:10.814Z"
   },
   {
    "duration": 20,
    "start_time": "2022-11-05T10:35:54.858Z"
   },
   {
    "duration": 43,
    "start_time": "2022-11-05T10:35:59.918Z"
   },
   {
    "duration": 20,
    "start_time": "2022-11-05T10:36:14.772Z"
   },
   {
    "duration": 30,
    "start_time": "2022-11-05T10:36:18.001Z"
   },
   {
    "duration": 93,
    "start_time": "2022-11-05T10:44:01.014Z"
   },
   {
    "duration": 68,
    "start_time": "2022-11-05T10:44:34.336Z"
   },
   {
    "duration": 30,
    "start_time": "2022-11-05T10:44:38.152Z"
   },
   {
    "duration": 23,
    "start_time": "2022-11-05T10:44:48.685Z"
   },
   {
    "duration": 64,
    "start_time": "2022-11-05T10:44:59.594Z"
   },
   {
    "duration": 14,
    "start_time": "2022-11-05T10:45:08.671Z"
   },
   {
    "duration": 49,
    "start_time": "2022-11-05T10:45:18.736Z"
   },
   {
    "duration": 11,
    "start_time": "2022-11-05T10:45:31.544Z"
   },
   {
    "duration": 34,
    "start_time": "2022-11-05T10:46:21.019Z"
   },
   {
    "duration": 26,
    "start_time": "2022-11-05T10:46:42.637Z"
   },
   {
    "duration": 22,
    "start_time": "2022-11-05T10:46:50.432Z"
   },
   {
    "duration": 78,
    "start_time": "2022-11-05T10:47:26.489Z"
   },
   {
    "duration": 9,
    "start_time": "2022-11-05T10:47:36.763Z"
   },
   {
    "duration": 16,
    "start_time": "2022-11-05T10:48:13.120Z"
   },
   {
    "duration": 7,
    "start_time": "2022-11-05T10:51:05.738Z"
   },
   {
    "duration": 7,
    "start_time": "2022-11-05T10:51:54.870Z"
   },
   {
    "duration": 17,
    "start_time": "2022-11-05T10:53:43.773Z"
   },
   {
    "duration": 19,
    "start_time": "2022-11-05T10:58:53.885Z"
   },
   {
    "duration": 12,
    "start_time": "2022-11-05T11:01:37.902Z"
   },
   {
    "duration": 15,
    "start_time": "2022-11-05T11:01:56.878Z"
   },
   {
    "duration": 6,
    "start_time": "2022-11-05T11:02:37.799Z"
   },
   {
    "duration": 8,
    "start_time": "2022-11-05T11:02:47.369Z"
   },
   {
    "duration": 7,
    "start_time": "2022-11-05T11:08:40.532Z"
   },
   {
    "duration": 7,
    "start_time": "2022-11-05T11:09:03.726Z"
   },
   {
    "duration": 7,
    "start_time": "2022-11-05T11:46:22.513Z"
   },
   {
    "duration": 8,
    "start_time": "2022-11-05T11:46:45.138Z"
   },
   {
    "duration": 8,
    "start_time": "2022-11-05T11:46:46.772Z"
   },
   {
    "duration": 29,
    "start_time": "2022-11-05T12:10:44.854Z"
   },
   {
    "duration": 281,
    "start_time": "2022-11-05T12:11:21.370Z"
   },
   {
    "duration": 211,
    "start_time": "2022-11-05T12:11:32.927Z"
   },
   {
    "duration": 181,
    "start_time": "2022-11-05T12:11:35.997Z"
   },
   {
    "duration": 164,
    "start_time": "2022-11-05T12:11:42.685Z"
   },
   {
    "duration": 17,
    "start_time": "2022-11-05T12:11:58.736Z"
   },
   {
    "duration": 21,
    "start_time": "2022-11-05T12:12:05.234Z"
   },
   {
    "duration": 184,
    "start_time": "2022-11-05T12:12:09.194Z"
   },
   {
    "duration": 5,
    "start_time": "2022-11-05T12:12:30.008Z"
   },
   {
    "duration": 5,
    "start_time": "2022-11-05T12:12:52.887Z"
   },
   {
    "duration": 143,
    "start_time": "2022-11-05T12:21:38.879Z"
   },
   {
    "duration": 126,
    "start_time": "2022-11-05T12:21:59.684Z"
   },
   {
    "duration": 217,
    "start_time": "2022-11-05T12:22:25.764Z"
   },
   {
    "duration": 143,
    "start_time": "2022-11-05T12:22:47.626Z"
   },
   {
    "duration": 132,
    "start_time": "2022-11-05T12:22:59.119Z"
   },
   {
    "duration": 150,
    "start_time": "2022-11-05T12:23:06.402Z"
   },
   {
    "duration": 126,
    "start_time": "2022-11-05T12:23:46.989Z"
   },
   {
    "duration": 138,
    "start_time": "2022-11-05T12:24:05.118Z"
   },
   {
    "duration": 140,
    "start_time": "2022-11-05T12:24:10.427Z"
   },
   {
    "duration": 18,
    "start_time": "2022-11-05T12:38:56.845Z"
   },
   {
    "duration": 15,
    "start_time": "2022-11-05T12:39:56.783Z"
   },
   {
    "duration": 18,
    "start_time": "2022-11-05T12:40:16.004Z"
   },
   {
    "duration": 30,
    "start_time": "2022-11-05T12:41:06.300Z"
   },
   {
    "duration": 15,
    "start_time": "2022-11-05T12:41:11.131Z"
   },
   {
    "duration": 17,
    "start_time": "2022-11-05T12:42:54.403Z"
   },
   {
    "duration": 4,
    "start_time": "2022-11-05T12:43:09.714Z"
   },
   {
    "duration": 4,
    "start_time": "2022-11-05T12:43:27.232Z"
   },
   {
    "duration": 1128,
    "start_time": "2022-11-05T12:43:59.407Z"
   },
   {
    "duration": 3,
    "start_time": "2022-11-05T14:42:01.517Z"
   },
   {
    "duration": 69,
    "start_time": "2022-11-05T14:42:01.522Z"
   },
   {
    "duration": 14,
    "start_time": "2022-11-05T14:42:01.593Z"
   },
   {
    "duration": 908,
    "start_time": "2022-11-05T14:42:01.609Z"
   },
   {
    "duration": 5,
    "start_time": "2022-11-05T14:42:02.521Z"
   },
   {
    "duration": 13,
    "start_time": "2022-11-05T14:42:02.528Z"
   },
   {
    "duration": 19,
    "start_time": "2022-11-05T14:42:02.543Z"
   },
   {
    "duration": 19,
    "start_time": "2022-11-05T14:42:02.565Z"
   },
   {
    "duration": 32,
    "start_time": "2022-11-05T14:42:02.586Z"
   },
   {
    "duration": 8,
    "start_time": "2022-11-05T14:42:02.620Z"
   },
   {
    "duration": 127,
    "start_time": "2022-11-05T14:42:02.631Z"
   },
   {
    "duration": 21,
    "start_time": "2022-11-05T14:42:02.760Z"
   },
   {
    "duration": 9,
    "start_time": "2022-11-05T14:42:02.783Z"
   },
   {
    "duration": 13,
    "start_time": "2022-11-05T14:42:02.794Z"
   },
   {
    "duration": 21,
    "start_time": "2022-11-05T14:42:02.809Z"
   },
   {
    "duration": 11,
    "start_time": "2022-11-05T14:42:02.832Z"
   },
   {
    "duration": 41,
    "start_time": "2022-11-05T14:42:02.845Z"
   },
   {
    "duration": 9,
    "start_time": "2022-11-05T14:42:02.888Z"
   },
   {
    "duration": 33,
    "start_time": "2022-11-05T14:42:02.899Z"
   },
   {
    "duration": 21,
    "start_time": "2022-11-05T14:42:02.934Z"
   },
   {
    "duration": 223,
    "start_time": "2022-11-05T14:42:02.957Z"
   },
   {
    "duration": 5,
    "start_time": "2022-11-05T14:42:03.182Z"
   },
   {
    "duration": 32,
    "start_time": "2022-11-05T14:42:03.189Z"
   },
   {
    "duration": 187,
    "start_time": "2022-11-05T14:42:03.222Z"
   },
   {
    "duration": 6,
    "start_time": "2022-11-05T14:42:03.411Z"
   },
   {
    "duration": 187,
    "start_time": "2022-11-05T14:42:03.418Z"
   },
   {
    "duration": 19,
    "start_time": "2022-11-05T14:42:03.607Z"
   },
   {
    "duration": 8,
    "start_time": "2022-11-05T14:42:03.628Z"
   },
   {
    "duration": 26,
    "start_time": "2022-11-05T14:42:03.641Z"
   },
   {
    "duration": 264,
    "start_time": "2022-11-05T14:42:03.669Z"
   },
   {
    "duration": 21,
    "start_time": "2022-11-05T14:42:03.935Z"
   },
   {
    "duration": 471,
    "start_time": "2022-11-05T14:42:03.958Z"
   },
   {
    "duration": 24,
    "start_time": "2022-11-05T14:42:04.430Z"
   },
   {
    "duration": 8,
    "start_time": "2022-11-05T14:42:04.456Z"
   },
   {
    "duration": 19,
    "start_time": "2022-11-05T14:42:04.466Z"
   },
   {
    "duration": 8,
    "start_time": "2022-11-05T14:42:04.487Z"
   },
   {
    "duration": 266,
    "start_time": "2022-11-05T14:42:04.496Z"
   },
   {
    "duration": 250,
    "start_time": "2022-11-05T14:42:04.763Z"
   },
   {
    "duration": 8,
    "start_time": "2022-11-05T14:42:05.014Z"
   },
   {
    "duration": 33,
    "start_time": "2022-11-05T14:42:05.024Z"
   },
   {
    "duration": 187,
    "start_time": "2022-11-05T14:42:05.059Z"
   },
   {
    "duration": 197,
    "start_time": "2022-11-05T14:42:05.248Z"
   },
   {
    "duration": 269,
    "start_time": "2022-11-05T14:42:05.447Z"
   },
   {
    "duration": 178,
    "start_time": "2022-11-05T14:42:05.718Z"
   },
   {
    "duration": 214,
    "start_time": "2022-11-05T14:42:05.898Z"
   },
   {
    "duration": 208,
    "start_time": "2022-11-05T14:42:06.114Z"
   },
   {
    "duration": 9,
    "start_time": "2022-11-05T14:42:06.323Z"
   },
   {
    "duration": 241,
    "start_time": "2022-11-05T14:42:06.333Z"
   },
   {
    "duration": 14,
    "start_time": "2022-11-05T14:42:06.576Z"
   },
   {
    "duration": 12,
    "start_time": "2022-11-05T14:42:06.592Z"
   },
   {
    "duration": 16,
    "start_time": "2022-11-05T14:42:06.605Z"
   },
   {
    "duration": 8,
    "start_time": "2022-11-05T14:42:06.623Z"
   },
   {
    "duration": 9,
    "start_time": "2022-11-05T14:42:06.633Z"
   },
   {
    "duration": 6,
    "start_time": "2022-11-05T14:42:06.643Z"
   },
   {
    "duration": 8,
    "start_time": "2022-11-05T14:42:06.651Z"
   },
   {
    "duration": 8,
    "start_time": "2022-11-05T14:42:06.660Z"
   },
   {
    "duration": 145,
    "start_time": "2022-11-05T14:42:06.669Z"
   },
   {
    "duration": 150,
    "start_time": "2022-11-05T14:42:06.821Z"
   },
   {
    "duration": 141,
    "start_time": "2022-11-05T14:42:06.972Z"
   },
   {
    "duration": 153,
    "start_time": "2022-11-05T14:42:07.115Z"
   },
   {
    "duration": 15,
    "start_time": "2022-11-05T14:42:07.270Z"
   },
   {
    "duration": 10,
    "start_time": "2022-11-05T14:45:22.903Z"
   },
   {
    "duration": 3,
    "start_time": "2022-11-05T14:45:51.278Z"
   },
   {
    "duration": 65,
    "start_time": "2022-11-05T14:45:51.283Z"
   },
   {
    "duration": 13,
    "start_time": "2022-11-05T14:45:51.350Z"
   },
   {
    "duration": 835,
    "start_time": "2022-11-05T14:45:51.365Z"
   },
   {
    "duration": 4,
    "start_time": "2022-11-05T14:45:52.203Z"
   },
   {
    "duration": 17,
    "start_time": "2022-11-05T14:45:52.208Z"
   },
   {
    "duration": 5,
    "start_time": "2022-11-05T14:45:52.226Z"
   },
   {
    "duration": 9,
    "start_time": "2022-11-05T14:45:52.232Z"
   },
   {
    "duration": 21,
    "start_time": "2022-11-05T14:45:52.243Z"
   },
   {
    "duration": 6,
    "start_time": "2022-11-05T14:45:52.266Z"
   },
   {
    "duration": 14,
    "start_time": "2022-11-05T14:45:52.275Z"
   },
   {
    "duration": 15,
    "start_time": "2022-11-05T14:45:52.290Z"
   },
   {
    "duration": 25,
    "start_time": "2022-11-05T14:45:52.307Z"
   },
   {
    "duration": 13,
    "start_time": "2022-11-05T14:45:52.334Z"
   },
   {
    "duration": 16,
    "start_time": "2022-11-05T14:45:52.348Z"
   },
   {
    "duration": 8,
    "start_time": "2022-11-05T14:45:52.366Z"
   },
   {
    "duration": 24,
    "start_time": "2022-11-05T14:45:52.376Z"
   },
   {
    "duration": 20,
    "start_time": "2022-11-05T14:45:52.402Z"
   },
   {
    "duration": 18,
    "start_time": "2022-11-05T14:45:52.423Z"
   },
   {
    "duration": 22,
    "start_time": "2022-11-05T14:45:52.442Z"
   },
   {
    "duration": 217,
    "start_time": "2022-11-05T14:45:52.465Z"
   },
   {
    "duration": 7,
    "start_time": "2022-11-05T14:45:52.683Z"
   },
   {
    "duration": 9,
    "start_time": "2022-11-05T14:45:52.691Z"
   },
   {
    "duration": 176,
    "start_time": "2022-11-05T14:45:52.701Z"
   },
   {
    "duration": 6,
    "start_time": "2022-11-05T14:45:52.879Z"
   },
   {
    "duration": 180,
    "start_time": "2022-11-05T14:45:52.886Z"
   },
   {
    "duration": 7,
    "start_time": "2022-11-05T14:45:53.067Z"
   },
   {
    "duration": 6,
    "start_time": "2022-11-05T14:45:53.076Z"
   },
   {
    "duration": 38,
    "start_time": "2022-11-05T14:45:53.085Z"
   },
   {
    "duration": 235,
    "start_time": "2022-11-05T14:45:53.124Z"
   },
   {
    "duration": 26,
    "start_time": "2022-11-05T14:45:53.360Z"
   },
   {
    "duration": 464,
    "start_time": "2022-11-05T14:45:53.388Z"
   },
   {
    "duration": 25,
    "start_time": "2022-11-05T14:45:53.853Z"
   },
   {
    "duration": 6,
    "start_time": "2022-11-05T14:45:53.880Z"
   },
   {
    "duration": 8,
    "start_time": "2022-11-05T14:45:53.887Z"
   },
   {
    "duration": 28,
    "start_time": "2022-11-05T14:45:53.896Z"
   },
   {
    "duration": 255,
    "start_time": "2022-11-05T14:45:53.925Z"
   },
   {
    "duration": 263,
    "start_time": "2022-11-05T14:45:54.182Z"
   },
   {
    "duration": 4,
    "start_time": "2022-11-05T14:45:54.447Z"
   },
   {
    "duration": 18,
    "start_time": "2022-11-05T14:45:54.452Z"
   },
   {
    "duration": 283,
    "start_time": "2022-11-05T14:45:54.472Z"
   },
   {
    "duration": 179,
    "start_time": "2022-11-05T14:45:54.756Z"
   },
   {
    "duration": 184,
    "start_time": "2022-11-05T14:45:54.937Z"
   },
   {
    "duration": 183,
    "start_time": "2022-11-05T14:45:55.123Z"
   },
   {
    "duration": 184,
    "start_time": "2022-11-05T14:45:55.307Z"
   },
   {
    "duration": 182,
    "start_time": "2022-11-05T14:45:55.493Z"
   },
   {
    "duration": 8,
    "start_time": "2022-11-05T14:45:55.677Z"
   },
   {
    "duration": 236,
    "start_time": "2022-11-05T14:45:55.686Z"
   },
   {
    "duration": 16,
    "start_time": "2022-11-05T14:45:55.923Z"
   },
   {
    "duration": 6,
    "start_time": "2022-11-05T14:45:55.940Z"
   },
   {
    "duration": 14,
    "start_time": "2022-11-05T14:45:55.948Z"
   },
   {
    "duration": 18,
    "start_time": "2022-11-05T14:45:55.964Z"
   },
   {
    "duration": 17,
    "start_time": "2022-11-05T14:45:55.984Z"
   },
   {
    "duration": 17,
    "start_time": "2022-11-05T14:45:56.002Z"
   },
   {
    "duration": 23,
    "start_time": "2022-11-05T14:45:56.021Z"
   },
   {
    "duration": 21,
    "start_time": "2022-11-05T14:45:56.045Z"
   },
   {
    "duration": 235,
    "start_time": "2022-11-05T14:45:56.069Z"
   },
   {
    "duration": 152,
    "start_time": "2022-11-05T14:45:56.306Z"
   },
   {
    "duration": 139,
    "start_time": "2022-11-05T14:45:56.460Z"
   },
   {
    "duration": 142,
    "start_time": "2022-11-05T14:45:56.601Z"
   },
   {
    "duration": 16,
    "start_time": "2022-11-05T14:45:56.745Z"
   },
   {
    "duration": 8,
    "start_time": "2022-11-05T14:45:56.763Z"
   },
   {
    "duration": 11,
    "start_time": "2022-11-05T14:46:42.756Z"
   },
   {
    "duration": 5,
    "start_time": "2022-11-05T14:47:09.919Z"
   },
   {
    "duration": 5,
    "start_time": "2022-11-05T14:47:27.396Z"
   },
   {
    "duration": 4,
    "start_time": "2022-11-05T14:49:59.723Z"
   },
   {
    "duration": 23,
    "start_time": "2022-11-05T14:50:14.848Z"
   },
   {
    "duration": 3,
    "start_time": "2022-11-05T14:50:28.506Z"
   },
   {
    "duration": 7,
    "start_time": "2022-11-05T14:51:29.250Z"
   },
   {
    "duration": 9,
    "start_time": "2022-11-05T14:51:48.640Z"
   },
   {
    "duration": 6,
    "start_time": "2022-11-05T14:51:55.409Z"
   },
   {
    "duration": 6,
    "start_time": "2022-11-05T14:52:37.152Z"
   },
   {
    "duration": 7,
    "start_time": "2022-11-05T14:53:00.773Z"
   },
   {
    "duration": 9,
    "start_time": "2022-11-05T14:53:07.384Z"
   },
   {
    "duration": 7,
    "start_time": "2022-11-05T14:53:18.401Z"
   },
   {
    "duration": 7,
    "start_time": "2022-11-05T14:55:35.057Z"
   },
   {
    "duration": 7,
    "start_time": "2022-11-05T14:56:36.977Z"
   },
   {
    "duration": 6,
    "start_time": "2022-11-05T14:56:51.960Z"
   },
   {
    "duration": 7,
    "start_time": "2022-11-05T14:56:59.087Z"
   },
   {
    "duration": 3,
    "start_time": "2022-11-05T15:03:24.243Z"
   },
   {
    "duration": 5,
    "start_time": "2022-11-05T15:14:32.777Z"
   },
   {
    "duration": 6,
    "start_time": "2022-11-05T15:14:33.763Z"
   },
   {
    "duration": 7,
    "start_time": "2022-11-05T15:14:37.615Z"
   },
   {
    "duration": 10,
    "start_time": "2022-11-05T15:14:41.653Z"
   },
   {
    "duration": 7,
    "start_time": "2022-11-05T15:16:04.956Z"
   },
   {
    "duration": 13,
    "start_time": "2022-11-05T15:16:15.019Z"
   },
   {
    "duration": 10,
    "start_time": "2022-11-05T15:16:22.406Z"
   },
   {
    "duration": 26,
    "start_time": "2022-11-05T15:16:42.058Z"
   },
   {
    "duration": 9,
    "start_time": "2022-11-05T15:17:07.688Z"
   },
   {
    "duration": 30,
    "start_time": "2022-11-05T15:17:46.865Z"
   },
   {
    "duration": 20,
    "start_time": "2022-11-05T15:19:49.718Z"
   },
   {
    "duration": 26,
    "start_time": "2022-11-05T15:20:42.510Z"
   },
   {
    "duration": 7,
    "start_time": "2022-11-05T15:21:13.990Z"
   },
   {
    "duration": 20,
    "start_time": "2022-11-05T15:21:35.088Z"
   },
   {
    "duration": 8,
    "start_time": "2022-11-05T15:22:00.534Z"
   },
   {
    "duration": 5,
    "start_time": "2022-11-05T16:21:28.843Z"
   },
   {
    "duration": 8,
    "start_time": "2022-11-05T16:21:35.373Z"
   },
   {
    "duration": 5,
    "start_time": "2022-11-05T16:21:42.095Z"
   },
   {
    "duration": 5,
    "start_time": "2022-11-05T16:21:43.301Z"
   },
   {
    "duration": 10,
    "start_time": "2022-11-05T16:24:02.749Z"
   },
   {
    "duration": 3,
    "start_time": "2022-11-05T16:24:36.309Z"
   },
   {
    "duration": 5,
    "start_time": "2022-11-05T16:24:42.448Z"
   },
   {
    "duration": 4,
    "start_time": "2022-11-05T16:25:36.659Z"
   },
   {
    "duration": 4,
    "start_time": "2022-11-05T16:27:10.812Z"
   },
   {
    "duration": 4,
    "start_time": "2022-11-05T16:27:16.449Z"
   },
   {
    "duration": 5,
    "start_time": "2022-11-05T16:35:01.398Z"
   },
   {
    "duration": 5,
    "start_time": "2022-11-05T16:35:08.712Z"
   },
   {
    "duration": 45,
    "start_time": "2022-11-05T16:35:41.321Z"
   },
   {
    "duration": 40,
    "start_time": "2022-11-05T16:36:05.295Z"
   },
   {
    "duration": 33,
    "start_time": "2022-11-05T16:36:09.814Z"
   },
   {
    "duration": 44,
    "start_time": "2022-11-05T16:36:21.396Z"
   },
   {
    "duration": 9,
    "start_time": "2022-11-05T16:36:26.293Z"
   },
   {
    "duration": 10,
    "start_time": "2022-11-05T16:36:27.680Z"
   },
   {
    "duration": 9,
    "start_time": "2022-11-05T16:38:00.113Z"
   },
   {
    "duration": 8,
    "start_time": "2022-11-05T16:38:04.539Z"
   },
   {
    "duration": 8,
    "start_time": "2022-11-05T16:38:09.710Z"
   },
   {
    "duration": 8,
    "start_time": "2022-11-05T16:38:12.001Z"
   },
   {
    "duration": 17,
    "start_time": "2022-11-05T16:38:32.290Z"
   },
   {
    "duration": 11,
    "start_time": "2022-11-05T16:38:35.537Z"
   },
   {
    "duration": 8,
    "start_time": "2022-11-05T16:39:14.347Z"
   },
   {
    "duration": 10,
    "start_time": "2022-11-05T16:39:25.179Z"
   },
   {
    "duration": 11,
    "start_time": "2022-11-05T16:39:29.885Z"
   },
   {
    "duration": 11,
    "start_time": "2022-11-05T16:39:33.305Z"
   },
   {
    "duration": 8,
    "start_time": "2022-11-05T16:39:55.391Z"
   },
   {
    "duration": 7,
    "start_time": "2022-11-05T16:40:36.802Z"
   },
   {
    "duration": 5,
    "start_time": "2022-11-05T16:41:59.654Z"
   },
   {
    "duration": 4,
    "start_time": "2022-11-05T16:42:05.782Z"
   },
   {
    "duration": 5,
    "start_time": "2022-11-05T16:42:16.910Z"
   },
   {
    "duration": 30,
    "start_time": "2022-11-05T16:44:38.094Z"
   },
   {
    "duration": 30,
    "start_time": "2022-11-05T16:44:58.523Z"
   },
   {
    "duration": 8,
    "start_time": "2022-11-05T16:45:20.952Z"
   },
   {
    "duration": 5,
    "start_time": "2022-11-05T16:45:25.854Z"
   },
   {
    "duration": 5,
    "start_time": "2022-11-05T16:45:56.927Z"
   },
   {
    "duration": 7,
    "start_time": "2022-11-05T16:45:59.936Z"
   },
   {
    "duration": 23,
    "start_time": "2022-11-05T16:46:05.462Z"
   },
   {
    "duration": 7,
    "start_time": "2022-11-05T16:46:13.209Z"
   },
   {
    "duration": 7,
    "start_time": "2022-11-05T16:46:20.941Z"
   },
   {
    "duration": 6,
    "start_time": "2022-11-05T16:47:36.252Z"
   },
   {
    "duration": 4,
    "start_time": "2022-11-05T16:47:36.702Z"
   },
   {
    "duration": 6,
    "start_time": "2022-11-05T16:47:37.068Z"
   },
   {
    "duration": 17,
    "start_time": "2022-11-05T16:49:28.634Z"
   },
   {
    "duration": 19,
    "start_time": "2022-11-05T16:49:38.102Z"
   },
   {
    "duration": 11,
    "start_time": "2022-11-05T16:50:17.109Z"
   },
   {
    "duration": 7,
    "start_time": "2022-11-05T16:50:27.159Z"
   },
   {
    "duration": 23,
    "start_time": "2022-11-05T16:51:08.010Z"
   },
   {
    "duration": 8,
    "start_time": "2022-11-05T16:51:42.591Z"
   },
   {
    "duration": 13,
    "start_time": "2022-11-05T16:51:58.543Z"
   },
   {
    "duration": 18,
    "start_time": "2022-11-05T16:52:06.095Z"
   },
   {
    "duration": 7,
    "start_time": "2022-11-05T16:53:26.784Z"
   },
   {
    "duration": 7,
    "start_time": "2022-11-05T16:54:10.330Z"
   },
   {
    "duration": 7,
    "start_time": "2022-11-05T16:55:10.644Z"
   },
   {
    "duration": 5,
    "start_time": "2022-11-05T17:01:27.407Z"
   },
   {
    "duration": 5,
    "start_time": "2022-11-05T17:04:03.363Z"
   },
   {
    "duration": 5,
    "start_time": "2022-11-05T17:13:16.354Z"
   },
   {
    "duration": 6,
    "start_time": "2022-11-05T17:24:16.081Z"
   },
   {
    "duration": 5,
    "start_time": "2022-11-05T17:24:29.866Z"
   },
   {
    "duration": 4,
    "start_time": "2022-11-05T17:24:54.828Z"
   },
   {
    "duration": 7,
    "start_time": "2022-11-05T17:25:12.109Z"
   },
   {
    "duration": 7,
    "start_time": "2022-11-05T17:25:12.631Z"
   },
   {
    "duration": 15,
    "start_time": "2022-11-05T17:34:48.124Z"
   },
   {
    "duration": 185,
    "start_time": "2022-11-05T17:38:47.381Z"
   },
   {
    "duration": 230,
    "start_time": "2022-11-05T17:39:23.570Z"
   },
   {
    "duration": 20,
    "start_time": "2022-11-05T17:41:21.791Z"
   },
   {
    "duration": 8,
    "start_time": "2022-11-05T18:13:53.888Z"
   },
   {
    "duration": 348,
    "start_time": "2022-11-05T18:13:54.238Z"
   },
   {
    "duration": 11,
    "start_time": "2022-11-05T18:15:31.661Z"
   },
   {
    "duration": 5,
    "start_time": "2022-11-05T18:15:45.055Z"
   },
   {
    "duration": 9,
    "start_time": "2022-11-05T18:16:21.750Z"
   },
   {
    "duration": 11,
    "start_time": "2022-11-05T18:16:25.739Z"
   },
   {
    "duration": 6,
    "start_time": "2022-11-05T18:17:15.558Z"
   },
   {
    "duration": 11,
    "start_time": "2022-11-05T18:18:10.996Z"
   },
   {
    "duration": 6,
    "start_time": "2022-11-05T18:19:20.788Z"
   },
   {
    "duration": 13,
    "start_time": "2022-11-05T18:21:39.056Z"
   },
   {
    "duration": 10,
    "start_time": "2022-11-05T18:22:04.989Z"
   },
   {
    "duration": 10,
    "start_time": "2022-11-05T18:22:20.086Z"
   },
   {
    "duration": 10,
    "start_time": "2022-11-05T18:22:26.498Z"
   },
   {
    "duration": 7,
    "start_time": "2022-11-05T18:23:06.158Z"
   },
   {
    "duration": 6,
    "start_time": "2022-11-05T18:24:28.683Z"
   },
   {
    "duration": 6,
    "start_time": "2022-11-05T18:24:43.377Z"
   },
   {
    "duration": 5,
    "start_time": "2022-11-05T18:24:46.730Z"
   },
   {
    "duration": 62,
    "start_time": "2022-11-05T18:24:46.737Z"
   },
   {
    "duration": 13,
    "start_time": "2022-11-05T18:24:46.800Z"
   },
   {
    "duration": 736,
    "start_time": "2022-11-05T18:24:46.815Z"
   },
   {
    "duration": 4,
    "start_time": "2022-11-05T18:24:47.552Z"
   },
   {
    "duration": 6,
    "start_time": "2022-11-05T18:24:47.557Z"
   },
   {
    "duration": 6,
    "start_time": "2022-11-05T18:24:47.564Z"
   },
   {
    "duration": 14,
    "start_time": "2022-11-05T18:24:47.571Z"
   },
   {
    "duration": 39,
    "start_time": "2022-11-05T18:24:47.586Z"
   },
   {
    "duration": 292,
    "start_time": "2022-11-05T18:24:47.627Z"
   },
   {
    "duration": 290,
    "start_time": "2022-11-05T18:24:52.293Z"
   },
   {
    "duration": 4,
    "start_time": "2022-11-05T18:25:24.837Z"
   },
   {
    "duration": 6,
    "start_time": "2022-11-05T18:25:35.735Z"
   },
   {
    "duration": 346,
    "start_time": "2022-11-05T18:25:55.038Z"
   },
   {
    "duration": 3,
    "start_time": "2022-11-05T18:26:05.186Z"
   },
   {
    "duration": 79,
    "start_time": "2022-11-05T18:26:05.191Z"
   },
   {
    "duration": 12,
    "start_time": "2022-11-05T18:26:05.272Z"
   },
   {
    "duration": 775,
    "start_time": "2022-11-05T18:26:05.286Z"
   },
   {
    "duration": 4,
    "start_time": "2022-11-05T18:26:06.064Z"
   },
   {
    "duration": 12,
    "start_time": "2022-11-05T18:26:06.070Z"
   },
   {
    "duration": 27,
    "start_time": "2022-11-05T18:26:06.084Z"
   },
   {
    "duration": 42,
    "start_time": "2022-11-05T18:26:06.113Z"
   },
   {
    "duration": 28,
    "start_time": "2022-11-05T18:26:06.157Z"
   },
   {
    "duration": 304,
    "start_time": "2022-11-05T18:26:07.587Z"
   },
   {
    "duration": 6,
    "start_time": "2022-11-05T18:26:22.657Z"
   },
   {
    "duration": 6,
    "start_time": "2022-11-05T18:26:47.680Z"
   },
   {
    "duration": 19,
    "start_time": "2022-11-05T18:26:58.701Z"
   },
   {
    "duration": 10,
    "start_time": "2022-11-05T18:28:57.888Z"
   },
   {
    "duration": 8,
    "start_time": "2022-11-05T18:29:11.772Z"
   },
   {
    "duration": 220,
    "start_time": "2022-11-05T18:44:03.758Z"
   },
   {
    "duration": 252,
    "start_time": "2022-11-05T18:48:54.421Z"
   },
   {
    "duration": 5,
    "start_time": "2022-11-05T18:54:24.136Z"
   },
   {
    "duration": 11,
    "start_time": "2022-11-05T19:31:27.341Z"
   },
   {
    "duration": 78,
    "start_time": "2022-11-05T19:31:27.356Z"
   },
   {
    "duration": 19,
    "start_time": "2022-11-05T19:31:27.439Z"
   },
   {
    "duration": 918,
    "start_time": "2022-11-05T19:31:27.460Z"
   },
   {
    "duration": 4,
    "start_time": "2022-11-05T19:31:28.380Z"
   },
   {
    "duration": 8,
    "start_time": "2022-11-05T19:31:28.385Z"
   },
   {
    "duration": 7,
    "start_time": "2022-11-05T19:31:28.394Z"
   },
   {
    "duration": 27,
    "start_time": "2022-11-05T19:31:28.403Z"
   },
   {
    "duration": 17,
    "start_time": "2022-11-05T19:31:28.436Z"
   },
   {
    "duration": 22,
    "start_time": "2022-11-05T19:31:28.457Z"
   },
   {
    "duration": 7,
    "start_time": "2022-11-05T19:31:28.481Z"
   },
   {
    "duration": 33,
    "start_time": "2022-11-05T19:31:28.489Z"
   },
   {
    "duration": 4,
    "start_time": "2022-11-05T19:31:28.524Z"
   },
   {
    "duration": 17,
    "start_time": "2022-11-05T19:31:28.530Z"
   },
   {
    "duration": 18,
    "start_time": "2022-11-05T19:31:28.549Z"
   },
   {
    "duration": 9,
    "start_time": "2022-11-05T19:31:28.568Z"
   },
   {
    "duration": 23,
    "start_time": "2022-11-05T19:31:28.578Z"
   },
   {
    "duration": 6,
    "start_time": "2022-11-05T19:31:28.603Z"
   },
   {
    "duration": 30,
    "start_time": "2022-11-05T19:31:28.622Z"
   },
   {
    "duration": 24,
    "start_time": "2022-11-05T19:31:28.653Z"
   },
   {
    "duration": 261,
    "start_time": "2022-11-05T19:31:28.678Z"
   },
   {
    "duration": 7,
    "start_time": "2022-11-05T19:31:28.941Z"
   },
   {
    "duration": 9,
    "start_time": "2022-11-05T19:31:28.950Z"
   },
   {
    "duration": 198,
    "start_time": "2022-11-05T19:31:28.961Z"
   },
   {
    "duration": 7,
    "start_time": "2022-11-05T19:31:29.160Z"
   },
   {
    "duration": 272,
    "start_time": "2022-11-05T19:31:29.169Z"
   },
   {
    "duration": 14,
    "start_time": "2022-11-05T19:31:29.443Z"
   },
   {
    "duration": 10,
    "start_time": "2022-11-05T19:31:29.461Z"
   },
   {
    "duration": 8,
    "start_time": "2022-11-05T19:31:29.473Z"
   },
   {
    "duration": 289,
    "start_time": "2022-11-05T19:31:29.483Z"
   },
   {
    "duration": 32,
    "start_time": "2022-11-05T19:31:29.773Z"
   },
   {
    "duration": 533,
    "start_time": "2022-11-05T19:31:29.807Z"
   },
   {
    "duration": 26,
    "start_time": "2022-11-05T19:31:30.343Z"
   },
   {
    "duration": 5,
    "start_time": "2022-11-05T19:31:30.371Z"
   },
   {
    "duration": 13,
    "start_time": "2022-11-05T19:31:30.377Z"
   },
   {
    "duration": 20,
    "start_time": "2022-11-05T19:31:30.392Z"
   },
   {
    "duration": 285,
    "start_time": "2022-11-05T19:31:30.413Z"
   },
   {
    "duration": 394,
    "start_time": "2022-11-05T19:31:30.700Z"
   },
   {
    "duration": 4,
    "start_time": "2022-11-05T19:31:31.096Z"
   },
   {
    "duration": 38,
    "start_time": "2022-11-05T19:31:31.102Z"
   },
   {
    "duration": 179,
    "start_time": "2022-11-05T19:31:31.142Z"
   },
   {
    "duration": 188,
    "start_time": "2022-11-05T19:31:31.331Z"
   },
   {
    "duration": 191,
    "start_time": "2022-11-05T19:31:31.520Z"
   },
   {
    "duration": 225,
    "start_time": "2022-11-05T19:31:31.713Z"
   },
   {
    "duration": 174,
    "start_time": "2022-11-05T19:31:31.940Z"
   },
   {
    "duration": 199,
    "start_time": "2022-11-05T19:31:32.115Z"
   },
   {
    "duration": 14,
    "start_time": "2022-11-05T19:31:32.316Z"
   },
   {
    "duration": 253,
    "start_time": "2022-11-05T19:31:32.331Z"
   },
   {
    "duration": 23,
    "start_time": "2022-11-05T19:31:32.587Z"
   },
   {
    "duration": 44,
    "start_time": "2022-11-05T19:31:32.622Z"
   },
   {
    "duration": 11,
    "start_time": "2022-11-05T19:31:32.668Z"
   },
   {
    "duration": 32,
    "start_time": "2022-11-05T19:31:32.681Z"
   },
   {
    "duration": 1213,
    "start_time": "2022-11-05T22:23:56.644Z"
   },
   {
    "duration": 112,
    "start_time": "2022-11-05T22:23:57.859Z"
   },
   {
    "duration": 14,
    "start_time": "2022-11-05T22:23:57.972Z"
   },
   {
    "duration": 789,
    "start_time": "2022-11-05T22:23:57.989Z"
   },
   {
    "duration": 4,
    "start_time": "2022-11-05T22:23:58.779Z"
   },
   {
    "duration": 8,
    "start_time": "2022-11-05T22:23:58.784Z"
   },
   {
    "duration": 5,
    "start_time": "2022-11-05T22:23:58.793Z"
   },
   {
    "duration": 25,
    "start_time": "2022-11-05T22:23:58.799Z"
   },
   {
    "duration": 15,
    "start_time": "2022-11-05T22:23:58.825Z"
   },
   {
    "duration": 30,
    "start_time": "2022-11-05T22:23:58.842Z"
   },
   {
    "duration": 9,
    "start_time": "2022-11-05T22:23:58.874Z"
   },
   {
    "duration": 37,
    "start_time": "2022-11-05T22:23:58.885Z"
   },
   {
    "duration": 11,
    "start_time": "2022-11-05T22:23:58.924Z"
   },
   {
    "duration": 13,
    "start_time": "2022-11-05T22:23:58.936Z"
   },
   {
    "duration": 22,
    "start_time": "2022-11-05T22:23:58.950Z"
   },
   {
    "duration": 11,
    "start_time": "2022-11-05T22:23:58.974Z"
   },
   {
    "duration": 36,
    "start_time": "2022-11-05T22:23:58.987Z"
   },
   {
    "duration": 7,
    "start_time": "2022-11-05T22:23:59.025Z"
   },
   {
    "duration": 32,
    "start_time": "2022-11-05T22:23:59.034Z"
   },
   {
    "duration": 28,
    "start_time": "2022-11-05T22:23:59.068Z"
   },
   {
    "duration": 233,
    "start_time": "2022-11-05T22:23:59.097Z"
   },
   {
    "duration": 5,
    "start_time": "2022-11-05T22:23:59.332Z"
   },
   {
    "duration": 8,
    "start_time": "2022-11-05T22:23:59.339Z"
   },
   {
    "duration": 190,
    "start_time": "2022-11-05T22:23:59.348Z"
   },
   {
    "duration": 6,
    "start_time": "2022-11-05T22:23:59.539Z"
   },
   {
    "duration": 178,
    "start_time": "2022-11-05T22:23:59.547Z"
   },
   {
    "duration": 12,
    "start_time": "2022-11-05T22:23:59.727Z"
   },
   {
    "duration": 6,
    "start_time": "2022-11-05T22:23:59.743Z"
   },
   {
    "duration": 95,
    "start_time": "2022-11-05T22:23:59.751Z"
   },
   {
    "duration": 265,
    "start_time": "2022-11-05T22:23:59.848Z"
   },
   {
    "duration": 20,
    "start_time": "2022-11-05T22:24:00.115Z"
   },
   {
    "duration": 473,
    "start_time": "2022-11-05T22:24:00.137Z"
   },
   {
    "duration": 31,
    "start_time": "2022-11-05T22:24:00.612Z"
   },
   {
    "duration": 5,
    "start_time": "2022-11-05T22:24:00.645Z"
   },
   {
    "duration": 9,
    "start_time": "2022-11-05T22:24:00.652Z"
   },
   {
    "duration": 12,
    "start_time": "2022-11-05T22:24:00.663Z"
   },
   {
    "duration": 263,
    "start_time": "2022-11-05T22:24:00.677Z"
   },
   {
    "duration": 265,
    "start_time": "2022-11-05T22:24:00.941Z"
   },
   {
    "duration": 4,
    "start_time": "2022-11-05T22:24:01.207Z"
   },
   {
    "duration": 73,
    "start_time": "2022-11-05T22:24:01.212Z"
   },
   {
    "duration": 185,
    "start_time": "2022-11-05T22:24:01.287Z"
   },
   {
    "duration": 192,
    "start_time": "2022-11-05T22:24:01.474Z"
   },
   {
    "duration": 203,
    "start_time": "2022-11-05T22:24:01.668Z"
   },
   {
    "duration": 192,
    "start_time": "2022-11-05T22:24:01.873Z"
   },
   {
    "duration": 277,
    "start_time": "2022-11-05T22:24:02.067Z"
   },
   {
    "duration": 180,
    "start_time": "2022-11-05T22:24:02.345Z"
   },
   {
    "duration": 8,
    "start_time": "2022-11-05T22:24:02.526Z"
   },
   {
    "duration": 239,
    "start_time": "2022-11-05T22:24:02.535Z"
   },
   {
    "duration": 15,
    "start_time": "2022-11-05T22:24:02.775Z"
   },
   {
    "duration": 6,
    "start_time": "2022-11-05T22:24:02.791Z"
   },
   {
    "duration": 24,
    "start_time": "2022-11-05T22:24:02.798Z"
   },
   {
    "duration": 6,
    "start_time": "2022-11-05T22:24:02.823Z"
   },
   {
    "duration": 8,
    "start_time": "2022-11-05T22:24:02.830Z"
   },
   {
    "duration": 5,
    "start_time": "2022-11-05T22:24:02.840Z"
   },
   {
    "duration": 8,
    "start_time": "2022-11-05T22:24:02.847Z"
   },
   {
    "duration": 5,
    "start_time": "2022-11-05T22:24:02.856Z"
   },
   {
    "duration": 158,
    "start_time": "2022-11-05T22:24:02.862Z"
   },
   {
    "duration": 140,
    "start_time": "2022-11-05T22:24:03.022Z"
   },
   {
    "duration": 141,
    "start_time": "2022-11-05T22:24:03.164Z"
   },
   {
    "duration": 158,
    "start_time": "2022-11-05T22:24:03.307Z"
   },
   {
    "duration": 14,
    "start_time": "2022-11-05T22:24:03.466Z"
   },
   {
    "duration": 4,
    "start_time": "2022-11-05T22:24:03.482Z"
   },
   {
    "duration": 11,
    "start_time": "2022-11-05T22:24:03.488Z"
   },
   {
    "duration": 5,
    "start_time": "2022-11-05T22:24:03.500Z"
   },
   {
    "duration": 20,
    "start_time": "2022-11-05T22:24:03.506Z"
   },
   {
    "duration": 10,
    "start_time": "2022-11-05T22:24:03.528Z"
   },
   {
    "duration": 8,
    "start_time": "2022-11-05T22:24:03.540Z"
   },
   {
    "duration": 5,
    "start_time": "2022-11-05T22:24:03.549Z"
   },
   {
    "duration": 6,
    "start_time": "2022-11-05T22:24:03.556Z"
   },
   {
    "duration": 11,
    "start_time": "2022-11-05T22:24:03.563Z"
   },
   {
    "duration": 15,
    "start_time": "2022-11-05T22:24:03.576Z"
   },
   {
    "duration": 30,
    "start_time": "2022-11-05T22:24:03.592Z"
   },
   {
    "duration": 46,
    "start_time": "2022-11-05T22:38:10.472Z"
   },
   {
    "duration": 1438,
    "start_time": "2022-11-06T10:57:53.170Z"
   },
   {
    "duration": 220,
    "start_time": "2022-11-06T10:57:54.611Z"
   },
   {
    "duration": 26,
    "start_time": "2022-11-06T10:57:54.833Z"
   },
   {
    "duration": 953,
    "start_time": "2022-11-06T10:57:54.862Z"
   },
   {
    "duration": 5,
    "start_time": "2022-11-06T10:57:55.816Z"
   },
   {
    "duration": 69,
    "start_time": "2022-11-06T10:57:55.824Z"
   },
   {
    "duration": 0,
    "start_time": "2022-11-06T10:57:55.895Z"
   },
   {
    "duration": 4,
    "start_time": "2022-11-06T10:58:11.939Z"
   },
   {
    "duration": 92,
    "start_time": "2022-11-06T10:58:11.946Z"
   },
   {
    "duration": 20,
    "start_time": "2022-11-06T10:58:12.040Z"
   },
   {
    "duration": 886,
    "start_time": "2022-11-06T10:58:12.062Z"
   },
   {
    "duration": 5,
    "start_time": "2022-11-06T10:58:12.950Z"
   },
   {
    "duration": 40,
    "start_time": "2022-11-06T10:58:12.956Z"
   },
   {
    "duration": 4,
    "start_time": "2022-11-06T10:59:56.947Z"
   },
   {
    "duration": 8,
    "start_time": "2022-11-06T11:08:47.607Z"
   },
   {
    "duration": 8,
    "start_time": "2022-11-06T11:09:07.482Z"
   },
   {
    "duration": 10,
    "start_time": "2022-11-06T11:09:26.083Z"
   },
   {
    "duration": 136,
    "start_time": "2022-11-06T11:11:15.745Z"
   },
   {
    "duration": 5,
    "start_time": "2022-11-06T11:16:20.392Z"
   },
   {
    "duration": 6,
    "start_time": "2022-11-06T11:16:24.574Z"
   },
   {
    "duration": 10,
    "start_time": "2022-11-06T11:16:34.167Z"
   },
   {
    "duration": 8,
    "start_time": "2022-11-06T11:16:45.448Z"
   },
   {
    "duration": 5,
    "start_time": "2022-11-06T11:17:14.661Z"
   },
   {
    "duration": 9,
    "start_time": "2022-11-06T11:17:15.450Z"
   },
   {
    "duration": 7,
    "start_time": "2022-11-06T11:17:17.250Z"
   },
   {
    "duration": 12,
    "start_time": "2022-11-06T11:17:21.349Z"
   },
   {
    "duration": 6,
    "start_time": "2022-11-06T11:17:24.766Z"
   },
   {
    "duration": 7,
    "start_time": "2022-11-06T11:17:26.001Z"
   },
   {
    "duration": 4,
    "start_time": "2022-11-06T11:17:29.648Z"
   },
   {
    "duration": 96,
    "start_time": "2022-11-06T11:17:29.654Z"
   },
   {
    "duration": 109,
    "start_time": "2022-11-06T11:17:29.752Z"
   },
   {
    "duration": 983,
    "start_time": "2022-11-06T11:17:29.863Z"
   },
   {
    "duration": 6,
    "start_time": "2022-11-06T11:17:30.848Z"
   },
   {
    "duration": 24,
    "start_time": "2022-11-06T11:17:30.856Z"
   },
   {
    "duration": 48,
    "start_time": "2022-11-06T11:17:30.882Z"
   },
   {
    "duration": 38,
    "start_time": "2022-11-06T11:17:30.932Z"
   },
   {
    "duration": 30,
    "start_time": "2022-11-06T11:17:30.972Z"
   },
   {
    "duration": 36,
    "start_time": "2022-11-06T11:17:31.006Z"
   },
   {
    "duration": 12,
    "start_time": "2022-11-06T11:17:31.045Z"
   },
   {
    "duration": 30,
    "start_time": "2022-11-06T11:17:31.059Z"
   },
   {
    "duration": 25,
    "start_time": "2022-11-06T11:17:31.093Z"
   },
   {
    "duration": 11,
    "start_time": "2022-11-06T11:17:31.121Z"
   },
   {
    "duration": 16,
    "start_time": "2022-11-06T11:17:31.134Z"
   },
   {
    "duration": 18,
    "start_time": "2022-11-06T11:17:31.152Z"
   },
   {
    "duration": 13,
    "start_time": "2022-11-06T11:17:31.173Z"
   },
   {
    "duration": 35,
    "start_time": "2022-11-06T11:17:31.188Z"
   },
   {
    "duration": 14,
    "start_time": "2022-11-06T11:17:45.597Z"
   },
   {
    "duration": 4,
    "start_time": "2022-11-06T11:17:58.695Z"
   },
   {
    "duration": 85,
    "start_time": "2022-11-06T11:17:58.701Z"
   },
   {
    "duration": 14,
    "start_time": "2022-11-06T11:17:58.788Z"
   },
   {
    "duration": 887,
    "start_time": "2022-11-06T11:17:58.804Z"
   },
   {
    "duration": 5,
    "start_time": "2022-11-06T11:17:59.693Z"
   },
   {
    "duration": 5,
    "start_time": "2022-11-06T11:17:59.700Z"
   },
   {
    "duration": 33,
    "start_time": "2022-11-06T11:17:59.707Z"
   },
   {
    "duration": 26,
    "start_time": "2022-11-06T11:17:59.743Z"
   },
   {
    "duration": 20,
    "start_time": "2022-11-06T11:17:59.771Z"
   },
   {
    "duration": 25,
    "start_time": "2022-11-06T11:17:59.793Z"
   },
   {
    "duration": 9,
    "start_time": "2022-11-06T11:17:59.823Z"
   },
   {
    "duration": 20,
    "start_time": "2022-11-06T11:17:59.834Z"
   },
   {
    "duration": 12,
    "start_time": "2022-11-06T11:17:59.856Z"
   },
   {
    "duration": 14,
    "start_time": "2022-11-06T11:17:59.871Z"
   },
   {
    "duration": 14,
    "start_time": "2022-11-06T11:17:59.887Z"
   },
   {
    "duration": 22,
    "start_time": "2022-11-06T11:17:59.903Z"
   },
   {
    "duration": 19,
    "start_time": "2022-11-06T11:18:01.772Z"
   },
   {
    "duration": 7,
    "start_time": "2022-11-06T11:18:25.202Z"
   },
   {
    "duration": 7,
    "start_time": "2022-11-06T11:18:27.262Z"
   },
   {
    "duration": 4,
    "start_time": "2022-11-06T11:18:32.820Z"
   },
   {
    "duration": 97,
    "start_time": "2022-11-06T11:18:32.842Z"
   },
   {
    "duration": 15,
    "start_time": "2022-11-06T11:18:32.941Z"
   },
   {
    "duration": 873,
    "start_time": "2022-11-06T11:18:32.958Z"
   },
   {
    "duration": 5,
    "start_time": "2022-11-06T11:18:33.834Z"
   },
   {
    "duration": 8,
    "start_time": "2022-11-06T11:18:33.843Z"
   },
   {
    "duration": 6,
    "start_time": "2022-11-06T11:18:33.852Z"
   },
   {
    "duration": 13,
    "start_time": "2022-11-06T11:18:33.860Z"
   },
   {
    "duration": 50,
    "start_time": "2022-11-06T11:18:33.875Z"
   },
   {
    "duration": 24,
    "start_time": "2022-11-06T11:18:33.927Z"
   },
   {
    "duration": 7,
    "start_time": "2022-11-06T11:18:33.954Z"
   },
   {
    "duration": 9,
    "start_time": "2022-11-06T11:18:33.964Z"
   },
   {
    "duration": 4,
    "start_time": "2022-11-06T11:18:33.975Z"
   },
   {
    "duration": 44,
    "start_time": "2022-11-06T11:18:33.981Z"
   },
   {
    "duration": 8,
    "start_time": "2022-11-06T11:18:34.027Z"
   },
   {
    "duration": 8,
    "start_time": "2022-11-06T11:18:34.036Z"
   },
   {
    "duration": 5,
    "start_time": "2022-11-06T11:18:34.046Z"
   },
   {
    "duration": 13,
    "start_time": "2022-11-06T11:18:34.053Z"
   },
   {
    "duration": 8,
    "start_time": "2022-11-06T11:18:57.297Z"
   },
   {
    "duration": 4,
    "start_time": "2022-11-06T11:19:01.793Z"
   },
   {
    "duration": 105,
    "start_time": "2022-11-06T11:19:01.800Z"
   },
   {
    "duration": 24,
    "start_time": "2022-11-06T11:19:01.908Z"
   },
   {
    "duration": 1144,
    "start_time": "2022-11-06T11:19:01.935Z"
   },
   {
    "duration": 4,
    "start_time": "2022-11-06T11:19:03.081Z"
   },
   {
    "duration": 4,
    "start_time": "2022-11-06T11:19:03.087Z"
   },
   {
    "duration": 6,
    "start_time": "2022-11-06T11:19:03.092Z"
   },
   {
    "duration": 31,
    "start_time": "2022-11-06T11:19:03.100Z"
   },
   {
    "duration": 19,
    "start_time": "2022-11-06T11:19:03.135Z"
   },
   {
    "duration": 28,
    "start_time": "2022-11-06T11:19:03.156Z"
   },
   {
    "duration": 8,
    "start_time": "2022-11-06T11:19:03.186Z"
   },
   {
    "duration": 18,
    "start_time": "2022-11-06T11:19:03.224Z"
   },
   {
    "duration": 9,
    "start_time": "2022-11-06T11:19:03.244Z"
   },
   {
    "duration": 7,
    "start_time": "2022-11-06T11:19:03.255Z"
   },
   {
    "duration": 8,
    "start_time": "2022-11-06T11:19:03.264Z"
   },
   {
    "duration": 8,
    "start_time": "2022-11-06T11:19:03.273Z"
   },
   {
    "duration": 5,
    "start_time": "2022-11-06T11:19:03.283Z"
   },
   {
    "duration": 44,
    "start_time": "2022-11-06T11:19:03.290Z"
   },
   {
    "duration": 8,
    "start_time": "2022-11-06T11:19:05.604Z"
   },
   {
    "duration": 6,
    "start_time": "2022-11-06T11:19:19.299Z"
   },
   {
    "duration": 10,
    "start_time": "2022-11-06T11:19:19.851Z"
   },
   {
    "duration": 3,
    "start_time": "2022-11-06T11:19:23.876Z"
   },
   {
    "duration": 97,
    "start_time": "2022-11-06T11:19:23.888Z"
   },
   {
    "duration": 37,
    "start_time": "2022-11-06T11:19:23.988Z"
   },
   {
    "duration": 973,
    "start_time": "2022-11-06T11:19:24.028Z"
   },
   {
    "duration": 7,
    "start_time": "2022-11-06T11:19:25.003Z"
   },
   {
    "duration": 4,
    "start_time": "2022-11-06T11:19:25.024Z"
   },
   {
    "duration": 6,
    "start_time": "2022-11-06T11:19:25.030Z"
   },
   {
    "duration": 11,
    "start_time": "2022-11-06T11:19:25.038Z"
   },
   {
    "duration": 25,
    "start_time": "2022-11-06T11:19:25.051Z"
   },
   {
    "duration": 70,
    "start_time": "2022-11-06T11:19:25.078Z"
   },
   {
    "duration": 8,
    "start_time": "2022-11-06T11:19:25.150Z"
   },
   {
    "duration": 15,
    "start_time": "2022-11-06T11:19:25.160Z"
   },
   {
    "duration": 5,
    "start_time": "2022-11-06T11:19:25.177Z"
   },
   {
    "duration": 41,
    "start_time": "2022-11-06T11:19:25.184Z"
   },
   {
    "duration": 10,
    "start_time": "2022-11-06T11:19:25.229Z"
   },
   {
    "duration": 9,
    "start_time": "2022-11-06T11:19:25.241Z"
   },
   {
    "duration": 7,
    "start_time": "2022-11-06T11:19:25.252Z"
   },
   {
    "duration": 9,
    "start_time": "2022-11-06T11:19:25.261Z"
   },
   {
    "duration": 10,
    "start_time": "2022-11-06T11:19:27.109Z"
   },
   {
    "duration": 9,
    "start_time": "2022-11-06T11:19:52.648Z"
   },
   {
    "duration": 11,
    "start_time": "2022-11-06T11:19:53.107Z"
   },
   {
    "duration": 6,
    "start_time": "2022-11-06T11:19:58.502Z"
   },
   {
    "duration": 9,
    "start_time": "2022-11-06T11:19:59.035Z"
   },
   {
    "duration": 7,
    "start_time": "2022-11-06T11:20:07.741Z"
   },
   {
    "duration": 8,
    "start_time": "2022-11-06T11:20:08.106Z"
   },
   {
    "duration": 4,
    "start_time": "2022-11-06T11:26:50.454Z"
   },
   {
    "duration": 4,
    "start_time": "2022-11-06T11:27:08.887Z"
   },
   {
    "duration": 86,
    "start_time": "2022-11-06T11:27:08.893Z"
   },
   {
    "duration": 16,
    "start_time": "2022-11-06T11:27:08.981Z"
   },
   {
    "duration": 889,
    "start_time": "2022-11-06T11:27:09.000Z"
   },
   {
    "duration": 5,
    "start_time": "2022-11-06T11:27:09.891Z"
   },
   {
    "duration": 13,
    "start_time": "2022-11-06T11:27:09.898Z"
   },
   {
    "duration": 19,
    "start_time": "2022-11-06T11:27:09.913Z"
   },
   {
    "duration": 30,
    "start_time": "2022-11-06T11:27:09.934Z"
   },
   {
    "duration": 16,
    "start_time": "2022-11-06T11:27:09.966Z"
   },
   {
    "duration": 34,
    "start_time": "2022-11-06T11:27:09.984Z"
   },
   {
    "duration": 12,
    "start_time": "2022-11-06T11:27:10.020Z"
   },
   {
    "duration": 17,
    "start_time": "2022-11-06T11:27:10.034Z"
   },
   {
    "duration": 26,
    "start_time": "2022-11-06T11:27:10.053Z"
   },
   {
    "duration": 16,
    "start_time": "2022-11-06T11:27:10.082Z"
   },
   {
    "duration": 25,
    "start_time": "2022-11-06T11:27:10.099Z"
   },
   {
    "duration": 10,
    "start_time": "2022-11-06T11:27:10.126Z"
   },
   {
    "duration": 26,
    "start_time": "2022-11-06T11:27:10.138Z"
   },
   {
    "duration": 36,
    "start_time": "2022-11-06T11:27:10.167Z"
   },
   {
    "duration": 27,
    "start_time": "2022-11-06T11:27:10.205Z"
   },
   {
    "duration": 133,
    "start_time": "2022-11-06T11:27:10.234Z"
   },
   {
    "duration": 5,
    "start_time": "2022-11-06T11:27:10.369Z"
   },
   {
    "duration": 31,
    "start_time": "2022-11-06T11:27:10.376Z"
   },
   {
    "duration": 17,
    "start_time": "2022-11-06T11:27:10.408Z"
   },
   {
    "duration": 21,
    "start_time": "2022-11-06T11:27:10.427Z"
   },
   {
    "duration": 20,
    "start_time": "2022-11-06T11:27:10.449Z"
   },
   {
    "duration": 84,
    "start_time": "2022-11-06T11:27:32.208Z"
   },
   {
    "duration": 13,
    "start_time": "2022-11-06T11:27:36.378Z"
   },
   {
    "duration": 6,
    "start_time": "2022-11-06T11:27:42.561Z"
   },
   {
    "duration": 9,
    "start_time": "2022-11-06T11:29:33.954Z"
   },
   {
    "duration": 3,
    "start_time": "2022-11-06T11:29:38.493Z"
   },
   {
    "duration": 80,
    "start_time": "2022-11-06T11:29:38.498Z"
   },
   {
    "duration": 15,
    "start_time": "2022-11-06T11:29:38.580Z"
   },
   {
    "duration": 917,
    "start_time": "2022-11-06T11:29:38.597Z"
   },
   {
    "duration": 4,
    "start_time": "2022-11-06T11:29:39.516Z"
   },
   {
    "duration": 5,
    "start_time": "2022-11-06T11:29:39.524Z"
   },
   {
    "duration": 7,
    "start_time": "2022-11-06T11:29:39.531Z"
   },
   {
    "duration": 16,
    "start_time": "2022-11-06T11:29:39.540Z"
   },
   {
    "duration": 17,
    "start_time": "2022-11-06T11:29:39.558Z"
   },
   {
    "duration": 48,
    "start_time": "2022-11-06T11:29:39.577Z"
   },
   {
    "duration": 9,
    "start_time": "2022-11-06T11:29:39.627Z"
   },
   {
    "duration": 12,
    "start_time": "2022-11-06T11:29:39.637Z"
   },
   {
    "duration": 8,
    "start_time": "2022-11-06T11:29:39.651Z"
   },
   {
    "duration": 13,
    "start_time": "2022-11-06T11:29:39.661Z"
   },
   {
    "duration": 22,
    "start_time": "2022-11-06T11:29:39.676Z"
   },
   {
    "duration": 13,
    "start_time": "2022-11-06T11:29:39.700Z"
   },
   {
    "duration": 18,
    "start_time": "2022-11-06T11:29:39.716Z"
   },
   {
    "duration": 9,
    "start_time": "2022-11-06T11:29:39.739Z"
   },
   {
    "duration": 18,
    "start_time": "2022-11-06T11:29:39.750Z"
   },
   {
    "duration": 10,
    "start_time": "2022-11-06T11:29:39.770Z"
   },
   {
    "duration": 5,
    "start_time": "2022-11-06T11:29:39.781Z"
   },
   {
    "duration": 52,
    "start_time": "2022-11-06T11:29:39.788Z"
   },
   {
    "duration": 13,
    "start_time": "2022-11-06T11:29:39.843Z"
   },
   {
    "duration": 5,
    "start_time": "2022-11-06T11:29:39.860Z"
   },
   {
    "duration": 23,
    "start_time": "2022-11-06T11:29:39.866Z"
   },
   {
    "duration": 49,
    "start_time": "2022-11-06T11:29:39.890Z"
   },
   {
    "duration": 255,
    "start_time": "2022-11-06T11:29:39.941Z"
   },
   {
    "duration": 7,
    "start_time": "2022-11-06T11:29:40.197Z"
   },
   {
    "duration": 20,
    "start_time": "2022-11-06T11:29:40.206Z"
   },
   {
    "duration": 246,
    "start_time": "2022-11-06T11:29:40.229Z"
   },
   {
    "duration": 8,
    "start_time": "2022-11-06T11:29:40.477Z"
   },
   {
    "duration": 227,
    "start_time": "2022-11-06T11:29:40.486Z"
   },
   {
    "duration": 14,
    "start_time": "2022-11-06T11:29:40.724Z"
   },
   {
    "duration": 9,
    "start_time": "2022-11-06T11:29:40.739Z"
   },
   {
    "duration": 17,
    "start_time": "2022-11-06T11:29:40.750Z"
   },
   {
    "duration": 333,
    "start_time": "2022-11-06T11:29:40.770Z"
   },
   {
    "duration": 23,
    "start_time": "2022-11-06T11:29:41.105Z"
   },
   {
    "duration": 557,
    "start_time": "2022-11-06T11:29:41.130Z"
   },
   {
    "duration": 49,
    "start_time": "2022-11-06T11:29:41.688Z"
   },
   {
    "duration": 9,
    "start_time": "2022-11-06T11:29:41.739Z"
   },
   {
    "duration": 48,
    "start_time": "2022-11-06T11:29:41.750Z"
   },
   {
    "duration": 26,
    "start_time": "2022-11-06T11:29:41.800Z"
   },
   {
    "duration": 386,
    "start_time": "2022-11-06T11:29:41.827Z"
   },
   {
    "duration": 409,
    "start_time": "2022-11-06T11:29:42.214Z"
   },
   {
    "duration": 311,
    "start_time": "2022-11-06T11:29:42.625Z"
   },
   {
    "duration": 21,
    "start_time": "2022-11-06T11:30:29.112Z"
   },
   {
    "duration": 219,
    "start_time": "2022-11-06T11:30:40.883Z"
   },
   {
    "duration": 235,
    "start_time": "2022-11-06T11:31:06.550Z"
   },
   {
    "duration": 194,
    "start_time": "2022-11-06T11:32:16.071Z"
   },
   {
    "duration": 320,
    "start_time": "2022-11-06T11:32:30.057Z"
   },
   {
    "duration": 293,
    "start_time": "2022-11-06T11:32:42.274Z"
   },
   {
    "duration": 401,
    "start_time": "2022-11-06T11:32:50.353Z"
   },
   {
    "duration": 155,
    "start_time": "2022-11-06T11:33:14.156Z"
   },
   {
    "duration": 13,
    "start_time": "2022-11-06T11:33:18.283Z"
   },
   {
    "duration": 13,
    "start_time": "2022-11-06T11:35:17.812Z"
   },
   {
    "duration": 236,
    "start_time": "2022-11-06T11:35:34.459Z"
   },
   {
    "duration": 239,
    "start_time": "2022-11-06T11:36:07.001Z"
   },
   {
    "duration": 109,
    "start_time": "2022-11-06T11:36:15.844Z"
   },
   {
    "duration": 251,
    "start_time": "2022-11-06T11:36:20.949Z"
   },
   {
    "duration": 123,
    "start_time": "2022-11-06T11:36:38.310Z"
   },
   {
    "duration": 416,
    "start_time": "2022-11-06T11:36:47.818Z"
   },
   {
    "duration": 232,
    "start_time": "2022-11-06T11:37:04.666Z"
   },
   {
    "duration": 3,
    "start_time": "2022-11-06T11:37:12.159Z"
   },
   {
    "duration": 70,
    "start_time": "2022-11-06T11:37:12.164Z"
   },
   {
    "duration": 15,
    "start_time": "2022-11-06T11:37:12.236Z"
   },
   {
    "duration": 895,
    "start_time": "2022-11-06T11:37:12.252Z"
   },
   {
    "duration": 4,
    "start_time": "2022-11-06T11:37:13.149Z"
   },
   {
    "duration": 4,
    "start_time": "2022-11-06T11:37:13.155Z"
   },
   {
    "duration": 6,
    "start_time": "2022-11-06T11:37:13.160Z"
   },
   {
    "duration": 9,
    "start_time": "2022-11-06T11:37:13.168Z"
   },
   {
    "duration": 50,
    "start_time": "2022-11-06T11:37:13.179Z"
   },
   {
    "duration": 22,
    "start_time": "2022-11-06T11:37:13.231Z"
   },
   {
    "duration": 7,
    "start_time": "2022-11-06T11:37:13.256Z"
   },
   {
    "duration": 8,
    "start_time": "2022-11-06T11:37:13.265Z"
   },
   {
    "duration": 4,
    "start_time": "2022-11-06T11:37:13.275Z"
   },
   {
    "duration": 7,
    "start_time": "2022-11-06T11:37:13.280Z"
   },
   {
    "duration": 8,
    "start_time": "2022-11-06T11:37:13.323Z"
   },
   {
    "duration": 7,
    "start_time": "2022-11-06T11:37:13.332Z"
   },
   {
    "duration": 6,
    "start_time": "2022-11-06T11:37:13.340Z"
   },
   {
    "duration": 7,
    "start_time": "2022-11-06T11:37:13.348Z"
   },
   {
    "duration": 16,
    "start_time": "2022-11-06T11:37:13.358Z"
   },
   {
    "duration": 53,
    "start_time": "2022-11-06T11:37:13.376Z"
   },
   {
    "duration": 7,
    "start_time": "2022-11-06T11:37:13.431Z"
   },
   {
    "duration": 22,
    "start_time": "2022-11-06T11:37:13.440Z"
   },
   {
    "duration": 8,
    "start_time": "2022-11-06T11:37:13.463Z"
   },
   {
    "duration": 5,
    "start_time": "2022-11-06T11:37:13.472Z"
   },
   {
    "duration": 55,
    "start_time": "2022-11-06T11:37:13.479Z"
   },
   {
    "duration": 24,
    "start_time": "2022-11-06T11:37:13.536Z"
   },
   {
    "duration": 254,
    "start_time": "2022-11-06T11:37:13.562Z"
   },
   {
    "duration": 11,
    "start_time": "2022-11-06T11:37:13.818Z"
   },
   {
    "duration": 7,
    "start_time": "2022-11-06T11:37:13.832Z"
   },
   {
    "duration": 220,
    "start_time": "2022-11-06T11:37:13.841Z"
   },
   {
    "duration": 7,
    "start_time": "2022-11-06T11:37:14.062Z"
   },
   {
    "duration": 213,
    "start_time": "2022-11-06T11:37:14.071Z"
   },
   {
    "duration": 16,
    "start_time": "2022-11-06T11:37:14.286Z"
   },
   {
    "duration": 25,
    "start_time": "2022-11-06T11:37:14.303Z"
   },
   {
    "duration": 10,
    "start_time": "2022-11-06T11:37:14.331Z"
   },
   {
    "duration": 291,
    "start_time": "2022-11-06T11:37:14.343Z"
   },
   {
    "duration": 23,
    "start_time": "2022-11-06T11:37:14.635Z"
   },
   {
    "duration": 677,
    "start_time": "2022-11-06T11:37:14.660Z"
   },
   {
    "duration": 30,
    "start_time": "2022-11-06T11:37:15.338Z"
   },
   {
    "duration": 7,
    "start_time": "2022-11-06T11:37:15.370Z"
   },
   {
    "duration": 8,
    "start_time": "2022-11-06T11:37:15.379Z"
   },
   {
    "duration": 40,
    "start_time": "2022-11-06T11:37:15.389Z"
   },
   {
    "duration": 320,
    "start_time": "2022-11-06T11:37:15.431Z"
   },
   {
    "duration": 325,
    "start_time": "2022-11-06T11:37:15.754Z"
   },
   {
    "duration": 244,
    "start_time": "2022-11-06T11:37:16.080Z"
   },
   {
    "duration": 262,
    "start_time": "2022-11-06T11:38:52.589Z"
   },
   {
    "duration": 391,
    "start_time": "2022-11-06T11:42:26.374Z"
   },
   {
    "duration": 421,
    "start_time": "2022-11-06T11:42:32.350Z"
   },
   {
    "duration": 318,
    "start_time": "2022-11-06T11:43:09.117Z"
   },
   {
    "duration": 343,
    "start_time": "2022-11-06T11:43:14.172Z"
   },
   {
    "duration": 328,
    "start_time": "2022-11-06T11:43:44.775Z"
   },
   {
    "duration": 330,
    "start_time": "2022-11-06T11:43:54.962Z"
   },
   {
    "duration": 432,
    "start_time": "2022-11-06T11:43:59.517Z"
   },
   {
    "duration": 365,
    "start_time": "2022-11-06T11:44:05.368Z"
   },
   {
    "duration": 380,
    "start_time": "2022-11-06T11:44:10.207Z"
   },
   {
    "duration": 293,
    "start_time": "2022-11-06T11:44:36.083Z"
   },
   {
    "duration": 295,
    "start_time": "2022-11-06T11:45:02.395Z"
   },
   {
    "duration": 322,
    "start_time": "2022-11-06T11:45:05.267Z"
   },
   {
    "duration": 490,
    "start_time": "2022-11-06T11:45:11.666Z"
   },
   {
    "duration": 319,
    "start_time": "2022-11-06T11:46:16.411Z"
   },
   {
    "duration": 312,
    "start_time": "2022-11-06T11:46:30.953Z"
   },
   {
    "duration": 333,
    "start_time": "2022-11-06T11:49:43.203Z"
   },
   {
    "duration": 434,
    "start_time": "2022-11-06T11:49:57.717Z"
   },
   {
    "duration": 464,
    "start_time": "2022-11-06T11:50:19.595Z"
   },
   {
    "duration": 342,
    "start_time": "2022-11-06T11:50:27.194Z"
   },
   {
    "duration": 176,
    "start_time": "2022-11-06T11:50:45.690Z"
   },
   {
    "duration": 314,
    "start_time": "2022-11-06T11:50:55.649Z"
   },
   {
    "duration": 370,
    "start_time": "2022-11-06T11:52:36.392Z"
   },
   {
    "duration": 361,
    "start_time": "2022-11-06T11:53:30.200Z"
   },
   {
    "duration": 418,
    "start_time": "2022-11-06T11:53:57.518Z"
   },
   {
    "duration": 326,
    "start_time": "2022-11-06T11:54:13.451Z"
   },
   {
    "duration": 374,
    "start_time": "2022-11-06T11:54:17.151Z"
   },
   {
    "duration": 333,
    "start_time": "2022-11-06T11:54:27.740Z"
   },
   {
    "duration": 472,
    "start_time": "2022-11-06T11:55:31.810Z"
   },
   {
    "duration": 4,
    "start_time": "2022-11-06T11:56:37.537Z"
   },
   {
    "duration": 5,
    "start_time": "2022-11-06T11:56:44.107Z"
   },
   {
    "duration": 8,
    "start_time": "2022-11-06T11:57:14.557Z"
   },
   {
    "duration": 5,
    "start_time": "2022-11-06T11:57:19.310Z"
   },
   {
    "duration": 370,
    "start_time": "2022-11-06T11:57:21.955Z"
   },
   {
    "duration": 448,
    "start_time": "2022-11-06T11:57:26.171Z"
   },
   {
    "duration": 387,
    "start_time": "2022-11-06T11:57:31.736Z"
   },
   {
    "duration": 327,
    "start_time": "2022-11-06T11:57:38.109Z"
   },
   {
    "duration": 339,
    "start_time": "2022-11-06T11:57:43.899Z"
   },
   {
    "duration": 431,
    "start_time": "2022-11-06T11:57:51.715Z"
   },
   {
    "duration": 3,
    "start_time": "2022-11-06T11:58:40.034Z"
   },
   {
    "duration": 77,
    "start_time": "2022-11-06T11:58:40.039Z"
   },
   {
    "duration": 16,
    "start_time": "2022-11-06T11:58:40.118Z"
   },
   {
    "duration": 1026,
    "start_time": "2022-11-06T11:58:40.136Z"
   },
   {
    "duration": 5,
    "start_time": "2022-11-06T11:58:41.164Z"
   },
   {
    "duration": 7,
    "start_time": "2022-11-06T11:58:41.170Z"
   },
   {
    "duration": 5,
    "start_time": "2022-11-06T11:58:41.178Z"
   },
   {
    "duration": 9,
    "start_time": "2022-11-06T11:58:41.185Z"
   },
   {
    "duration": 37,
    "start_time": "2022-11-06T11:58:41.195Z"
   },
   {
    "duration": 23,
    "start_time": "2022-11-06T11:58:41.234Z"
   },
   {
    "duration": 8,
    "start_time": "2022-11-06T11:58:41.260Z"
   },
   {
    "duration": 11,
    "start_time": "2022-11-06T11:58:41.269Z"
   },
   {
    "duration": 6,
    "start_time": "2022-11-06T11:58:41.282Z"
   },
   {
    "duration": 35,
    "start_time": "2022-11-06T11:58:41.290Z"
   },
   {
    "duration": 18,
    "start_time": "2022-11-06T11:58:41.326Z"
   },
   {
    "duration": 13,
    "start_time": "2022-11-06T11:58:41.346Z"
   },
   {
    "duration": 9,
    "start_time": "2022-11-06T11:58:41.361Z"
   },
   {
    "duration": 9,
    "start_time": "2022-11-06T11:58:41.372Z"
   },
   {
    "duration": 20,
    "start_time": "2022-11-06T11:58:41.384Z"
   },
   {
    "duration": 23,
    "start_time": "2022-11-06T11:58:41.405Z"
   },
   {
    "duration": 7,
    "start_time": "2022-11-06T11:58:41.430Z"
   },
   {
    "duration": 24,
    "start_time": "2022-11-06T11:58:41.439Z"
   },
   {
    "duration": 6,
    "start_time": "2022-11-06T11:58:41.465Z"
   },
   {
    "duration": 7,
    "start_time": "2022-11-06T11:58:41.472Z"
   },
   {
    "duration": 50,
    "start_time": "2022-11-06T11:58:41.481Z"
   },
   {
    "duration": 26,
    "start_time": "2022-11-06T11:58:41.533Z"
   },
   {
    "duration": 286,
    "start_time": "2022-11-06T11:58:41.561Z"
   },
   {
    "duration": 0,
    "start_time": "2022-11-06T11:58:41.850Z"
   },
   {
    "duration": 0,
    "start_time": "2022-11-06T11:58:41.852Z"
   },
   {
    "duration": 0,
    "start_time": "2022-11-06T11:58:41.854Z"
   },
   {
    "duration": 0,
    "start_time": "2022-11-06T11:58:41.855Z"
   },
   {
    "duration": 0,
    "start_time": "2022-11-06T11:58:41.857Z"
   },
   {
    "duration": 0,
    "start_time": "2022-11-06T11:58:41.859Z"
   },
   {
    "duration": 0,
    "start_time": "2022-11-06T11:58:41.861Z"
   },
   {
    "duration": 0,
    "start_time": "2022-11-06T11:58:41.862Z"
   },
   {
    "duration": 0,
    "start_time": "2022-11-06T11:58:41.863Z"
   },
   {
    "duration": 0,
    "start_time": "2022-11-06T11:58:41.865Z"
   },
   {
    "duration": 0,
    "start_time": "2022-11-06T11:58:41.866Z"
   },
   {
    "duration": 0,
    "start_time": "2022-11-06T11:58:41.868Z"
   },
   {
    "duration": 0,
    "start_time": "2022-11-06T11:58:41.869Z"
   },
   {
    "duration": 0,
    "start_time": "2022-11-06T11:58:41.870Z"
   },
   {
    "duration": 0,
    "start_time": "2022-11-06T11:58:41.872Z"
   },
   {
    "duration": 0,
    "start_time": "2022-11-06T11:58:41.873Z"
   },
   {
    "duration": 0,
    "start_time": "2022-11-06T11:58:41.874Z"
   },
   {
    "duration": 0,
    "start_time": "2022-11-06T11:58:41.876Z"
   },
   {
    "duration": 0,
    "start_time": "2022-11-06T11:58:41.877Z"
   },
   {
    "duration": 3,
    "start_time": "2022-11-06T11:58:52.693Z"
   },
   {
    "duration": 90,
    "start_time": "2022-11-06T11:58:52.701Z"
   },
   {
    "duration": 32,
    "start_time": "2022-11-06T11:58:52.793Z"
   },
   {
    "duration": 907,
    "start_time": "2022-11-06T11:58:52.827Z"
   },
   {
    "duration": 5,
    "start_time": "2022-11-06T11:58:53.736Z"
   },
   {
    "duration": 11,
    "start_time": "2022-11-06T11:58:53.743Z"
   },
   {
    "duration": 16,
    "start_time": "2022-11-06T11:58:53.756Z"
   },
   {
    "duration": 19,
    "start_time": "2022-11-06T11:58:53.774Z"
   },
   {
    "duration": 27,
    "start_time": "2022-11-06T11:58:53.795Z"
   },
   {
    "duration": 24,
    "start_time": "2022-11-06T11:58:53.824Z"
   },
   {
    "duration": 8,
    "start_time": "2022-11-06T11:58:53.851Z"
   },
   {
    "duration": 11,
    "start_time": "2022-11-06T11:58:53.860Z"
   },
   {
    "duration": 11,
    "start_time": "2022-11-06T11:58:53.873Z"
   },
   {
    "duration": 7,
    "start_time": "2022-11-06T11:58:53.886Z"
   },
   {
    "duration": 31,
    "start_time": "2022-11-06T11:58:53.895Z"
   },
   {
    "duration": 16,
    "start_time": "2022-11-06T11:58:53.928Z"
   },
   {
    "duration": 19,
    "start_time": "2022-11-06T11:58:53.946Z"
   },
   {
    "duration": 20,
    "start_time": "2022-11-06T11:58:53.967Z"
   },
   {
    "duration": 37,
    "start_time": "2022-11-06T11:58:53.989Z"
   },
   {
    "duration": 18,
    "start_time": "2022-11-06T11:58:54.029Z"
   },
   {
    "duration": 13,
    "start_time": "2022-11-06T11:58:54.050Z"
   },
   {
    "duration": 42,
    "start_time": "2022-11-06T11:58:54.065Z"
   },
   {
    "duration": 22,
    "start_time": "2022-11-06T11:58:54.109Z"
   },
   {
    "duration": 14,
    "start_time": "2022-11-06T11:58:54.133Z"
   },
   {
    "duration": 35,
    "start_time": "2022-11-06T11:58:54.149Z"
   },
   {
    "duration": 28,
    "start_time": "2022-11-06T11:58:54.186Z"
   },
   {
    "duration": 241,
    "start_time": "2022-11-06T11:58:54.216Z"
   },
   {
    "duration": 0,
    "start_time": "2022-11-06T11:58:54.459Z"
   },
   {
    "duration": 0,
    "start_time": "2022-11-06T11:58:54.461Z"
   },
   {
    "duration": 0,
    "start_time": "2022-11-06T11:58:54.462Z"
   },
   {
    "duration": 0,
    "start_time": "2022-11-06T11:58:54.464Z"
   },
   {
    "duration": 0,
    "start_time": "2022-11-06T11:58:54.465Z"
   },
   {
    "duration": 0,
    "start_time": "2022-11-06T11:58:54.467Z"
   },
   {
    "duration": 0,
    "start_time": "2022-11-06T11:58:54.469Z"
   },
   {
    "duration": 0,
    "start_time": "2022-11-06T11:58:54.470Z"
   },
   {
    "duration": 0,
    "start_time": "2022-11-06T11:58:54.472Z"
   },
   {
    "duration": 0,
    "start_time": "2022-11-06T11:58:54.473Z"
   },
   {
    "duration": 0,
    "start_time": "2022-11-06T11:58:54.475Z"
   },
   {
    "duration": 0,
    "start_time": "2022-11-06T11:58:54.476Z"
   },
   {
    "duration": 0,
    "start_time": "2022-11-06T11:58:54.477Z"
   },
   {
    "duration": 0,
    "start_time": "2022-11-06T11:58:54.479Z"
   },
   {
    "duration": 0,
    "start_time": "2022-11-06T11:58:54.480Z"
   },
   {
    "duration": 0,
    "start_time": "2022-11-06T11:58:54.481Z"
   },
   {
    "duration": 0,
    "start_time": "2022-11-06T11:58:54.483Z"
   },
   {
    "duration": 0,
    "start_time": "2022-11-06T11:58:54.484Z"
   },
   {
    "duration": 0,
    "start_time": "2022-11-06T11:58:54.485Z"
   },
   {
    "duration": 280,
    "start_time": "2022-11-06T11:59:08.070Z"
   },
   {
    "duration": 477,
    "start_time": "2022-11-06T11:59:13.308Z"
   },
   {
    "duration": 1349,
    "start_time": "2022-11-06T11:59:39.019Z"
   },
   {
    "duration": 82,
    "start_time": "2022-11-06T11:59:40.370Z"
   },
   {
    "duration": 21,
    "start_time": "2022-11-06T11:59:40.454Z"
   },
   {
    "duration": 929,
    "start_time": "2022-11-06T11:59:40.478Z"
   },
   {
    "duration": 6,
    "start_time": "2022-11-06T11:59:41.409Z"
   },
   {
    "duration": 5,
    "start_time": "2022-11-06T11:59:41.425Z"
   },
   {
    "duration": 8,
    "start_time": "2022-11-06T11:59:41.432Z"
   },
   {
    "duration": 13,
    "start_time": "2022-11-06T11:59:41.442Z"
   },
   {
    "duration": 33,
    "start_time": "2022-11-06T11:59:41.457Z"
   },
   {
    "duration": 66,
    "start_time": "2022-11-06T11:59:41.494Z"
   },
   {
    "duration": 12,
    "start_time": "2022-11-06T11:59:41.563Z"
   },
   {
    "duration": 14,
    "start_time": "2022-11-06T11:59:41.578Z"
   },
   {
    "duration": 30,
    "start_time": "2022-11-06T11:59:41.595Z"
   },
   {
    "duration": 9,
    "start_time": "2022-11-06T11:59:41.627Z"
   },
   {
    "duration": 10,
    "start_time": "2022-11-06T11:59:41.637Z"
   },
   {
    "duration": 9,
    "start_time": "2022-11-06T11:59:41.649Z"
   },
   {
    "duration": 11,
    "start_time": "2022-11-06T11:59:41.660Z"
   },
   {
    "duration": 8,
    "start_time": "2022-11-06T11:59:41.673Z"
   },
   {
    "duration": 58,
    "start_time": "2022-11-06T11:59:41.683Z"
   },
   {
    "duration": 12,
    "start_time": "2022-11-06T11:59:41.744Z"
   },
   {
    "duration": 5,
    "start_time": "2022-11-06T11:59:41.759Z"
   },
   {
    "duration": 25,
    "start_time": "2022-11-06T11:59:41.767Z"
   },
   {
    "duration": 7,
    "start_time": "2022-11-06T11:59:41.824Z"
   },
   {
    "duration": 8,
    "start_time": "2022-11-06T11:59:41.833Z"
   },
   {
    "duration": 37,
    "start_time": "2022-11-06T11:59:41.843Z"
   },
   {
    "duration": 69,
    "start_time": "2022-11-06T11:59:41.882Z"
   },
   {
    "duration": 344,
    "start_time": "2022-11-06T11:59:41.954Z"
   },
   {
    "duration": 11,
    "start_time": "2022-11-06T11:59:42.303Z"
   },
   {
    "duration": 11,
    "start_time": "2022-11-06T11:59:42.326Z"
   },
   {
    "duration": 241,
    "start_time": "2022-11-06T11:59:42.343Z"
   },
   {
    "duration": 8,
    "start_time": "2022-11-06T11:59:42.586Z"
   },
   {
    "duration": 248,
    "start_time": "2022-11-06T11:59:42.596Z"
   },
   {
    "duration": 17,
    "start_time": "2022-11-06T11:59:42.846Z"
   },
   {
    "duration": 11,
    "start_time": "2022-11-06T11:59:42.866Z"
   },
   {
    "duration": 11,
    "start_time": "2022-11-06T11:59:42.881Z"
   },
   {
    "duration": 405,
    "start_time": "2022-11-06T11:59:42.894Z"
   },
   {
    "duration": 47,
    "start_time": "2022-11-06T11:59:43.301Z"
   },
   {
    "duration": 576,
    "start_time": "2022-11-06T11:59:43.350Z"
   },
   {
    "duration": 37,
    "start_time": "2022-11-06T11:59:43.928Z"
   },
   {
    "duration": 10,
    "start_time": "2022-11-06T11:59:43.967Z"
   },
   {
    "duration": 7,
    "start_time": "2022-11-06T11:59:43.979Z"
   },
   {
    "duration": 41,
    "start_time": "2022-11-06T11:59:43.988Z"
   },
   {
    "duration": 330,
    "start_time": "2022-11-06T11:59:44.031Z"
   },
   {
    "duration": 315,
    "start_time": "2022-11-06T11:59:44.363Z"
   },
   {
    "duration": 4,
    "start_time": "2022-11-06T11:59:44.681Z"
   },
   {
    "duration": 346,
    "start_time": "2022-11-06T11:59:44.687Z"
   },
   {
    "duration": 37,
    "start_time": "2022-11-06T11:59:45.035Z"
   },
   {
    "duration": 5,
    "start_time": "2022-11-06T11:59:45.075Z"
   },
   {
    "duration": 80,
    "start_time": "2022-11-06T11:59:45.082Z"
   },
   {
    "duration": 231,
    "start_time": "2022-11-06T11:59:45.164Z"
   },
   {
    "duration": 230,
    "start_time": "2022-11-06T11:59:45.398Z"
   },
   {
    "duration": 321,
    "start_time": "2022-11-06T11:59:45.630Z"
   },
   {
    "duration": 246,
    "start_time": "2022-11-06T11:59:45.953Z"
   },
   {
    "duration": 223,
    "start_time": "2022-11-06T11:59:46.201Z"
   },
   {
    "duration": 226,
    "start_time": "2022-11-06T11:59:46.426Z"
   },
   {
    "duration": 9,
    "start_time": "2022-11-06T11:59:46.653Z"
   },
   {
    "duration": 287,
    "start_time": "2022-11-06T11:59:46.664Z"
   },
   {
    "duration": 19,
    "start_time": "2022-11-06T11:59:46.954Z"
   },
   {
    "duration": 8,
    "start_time": "2022-11-06T11:59:46.975Z"
   },
   {
    "duration": 16,
    "start_time": "2022-11-06T11:59:46.985Z"
   },
   {
    "duration": 27,
    "start_time": "2022-11-06T11:59:47.003Z"
   },
   {
    "duration": 25,
    "start_time": "2022-11-06T11:59:47.031Z"
   },
   {
    "duration": 21,
    "start_time": "2022-11-06T11:59:47.058Z"
   },
   {
    "duration": 32,
    "start_time": "2022-11-06T11:59:47.081Z"
   },
   {
    "duration": 22,
    "start_time": "2022-11-06T11:59:47.115Z"
   },
   {
    "duration": 203,
    "start_time": "2022-11-06T11:59:47.139Z"
   },
   {
    "duration": 187,
    "start_time": "2022-11-06T11:59:47.344Z"
   },
   {
    "duration": 183,
    "start_time": "2022-11-06T11:59:47.533Z"
   },
   {
    "duration": 181,
    "start_time": "2022-11-06T11:59:47.723Z"
   },
   {
    "duration": 29,
    "start_time": "2022-11-06T11:59:47.907Z"
   },
   {
    "duration": 6,
    "start_time": "2022-11-06T11:59:47.939Z"
   },
   {
    "duration": 10,
    "start_time": "2022-11-06T11:59:47.947Z"
   },
   {
    "duration": 4,
    "start_time": "2022-11-06T11:59:47.959Z"
   },
   {
    "duration": 7,
    "start_time": "2022-11-06T11:59:47.965Z"
   },
   {
    "duration": 10,
    "start_time": "2022-11-06T11:59:47.975Z"
   },
   {
    "duration": 11,
    "start_time": "2022-11-06T11:59:48.025Z"
   },
   {
    "duration": 6,
    "start_time": "2022-11-06T11:59:48.039Z"
   },
   {
    "duration": 6,
    "start_time": "2022-11-06T11:59:48.048Z"
   },
   {
    "duration": 7,
    "start_time": "2022-11-06T11:59:48.056Z"
   },
   {
    "duration": 10,
    "start_time": "2022-11-06T11:59:48.065Z"
   },
   {
    "duration": 50,
    "start_time": "2022-11-06T11:59:48.077Z"
   },
   {
    "duration": 320,
    "start_time": "2022-11-06T12:00:06.685Z"
   },
   {
    "duration": 407,
    "start_time": "2022-11-06T12:00:16.334Z"
   },
   {
    "duration": 344,
    "start_time": "2022-11-06T12:00:20.384Z"
   },
   {
    "duration": 323,
    "start_time": "2022-11-06T12:00:42.875Z"
   },
   {
    "duration": 347,
    "start_time": "2022-11-06T12:00:50.035Z"
   },
   {
    "duration": 319,
    "start_time": "2022-11-06T12:01:00.070Z"
   },
   {
    "duration": 297,
    "start_time": "2022-11-06T12:01:06.934Z"
   },
   {
    "duration": 426,
    "start_time": "2022-11-06T12:01:10.147Z"
   },
   {
    "duration": 7,
    "start_time": "2022-11-06T12:02:04.707Z"
   },
   {
    "duration": 114,
    "start_time": "2022-11-06T12:02:13.438Z"
   },
   {
    "duration": 7,
    "start_time": "2022-11-06T12:02:24.755Z"
   },
   {
    "duration": 9,
    "start_time": "2022-11-06T12:02:32.019Z"
   },
   {
    "duration": 8,
    "start_time": "2022-11-06T12:02:40.111Z"
   },
   {
    "duration": 8,
    "start_time": "2022-11-06T12:02:49.221Z"
   },
   {
    "duration": 184,
    "start_time": "2022-11-06T12:03:10.451Z"
   },
   {
    "duration": 322,
    "start_time": "2022-11-06T12:03:18.380Z"
   },
   {
    "duration": 318,
    "start_time": "2022-11-06T12:03:28.683Z"
   },
   {
    "duration": 247,
    "start_time": "2022-11-06T12:12:54.982Z"
   },
   {
    "duration": 323,
    "start_time": "2022-11-06T12:46:24.044Z"
   },
   {
    "duration": 436,
    "start_time": "2022-11-06T12:46:35.133Z"
   },
   {
    "duration": 76,
    "start_time": "2022-11-06T12:46:45.088Z"
   },
   {
    "duration": 336,
    "start_time": "2022-11-06T12:46:48.844Z"
   },
   {
    "duration": 317,
    "start_time": "2022-11-06T12:52:05.746Z"
   },
   {
    "duration": 263,
    "start_time": "2022-11-06T12:52:21.803Z"
   },
   {
    "duration": 77,
    "start_time": "2022-11-06T12:52:30.648Z"
   },
   {
    "duration": 319,
    "start_time": "2022-11-06T12:52:34.118Z"
   },
   {
    "duration": 75,
    "start_time": "2022-11-06T12:53:15.602Z"
   },
   {
    "duration": 199,
    "start_time": "2022-11-06T12:53:21.352Z"
   },
   {
    "duration": 332,
    "start_time": "2022-11-06T12:53:25.167Z"
   },
   {
    "duration": 443,
    "start_time": "2022-11-06T12:54:00.022Z"
   },
   {
    "duration": 3,
    "start_time": "2022-11-06T13:10:25.693Z"
   },
   {
    "duration": 88,
    "start_time": "2022-11-06T13:10:25.698Z"
   },
   {
    "duration": 15,
    "start_time": "2022-11-06T13:10:25.788Z"
   },
   {
    "duration": 918,
    "start_time": "2022-11-06T13:10:25.806Z"
   },
   {
    "duration": 5,
    "start_time": "2022-11-06T13:10:26.726Z"
   },
   {
    "duration": 6,
    "start_time": "2022-11-06T13:10:26.732Z"
   },
   {
    "duration": 7,
    "start_time": "2022-11-06T13:10:26.740Z"
   },
   {
    "duration": 10,
    "start_time": "2022-11-06T13:10:26.749Z"
   },
   {
    "duration": 21,
    "start_time": "2022-11-06T13:10:26.762Z"
   },
   {
    "duration": 63,
    "start_time": "2022-11-06T13:10:26.785Z"
   },
   {
    "duration": 7,
    "start_time": "2022-11-06T13:10:26.851Z"
   },
   {
    "duration": 10,
    "start_time": "2022-11-06T13:10:26.860Z"
   },
   {
    "duration": 6,
    "start_time": "2022-11-06T13:10:26.871Z"
   },
   {
    "duration": 8,
    "start_time": "2022-11-06T13:10:26.878Z"
   },
   {
    "duration": 7,
    "start_time": "2022-11-06T13:10:26.888Z"
   },
   {
    "duration": 7,
    "start_time": "2022-11-06T13:10:26.925Z"
   },
   {
    "duration": 7,
    "start_time": "2022-11-06T13:10:26.934Z"
   },
   {
    "duration": 8,
    "start_time": "2022-11-06T13:10:26.942Z"
   },
   {
    "duration": 16,
    "start_time": "2022-11-06T13:10:26.951Z"
   },
   {
    "duration": 8,
    "start_time": "2022-11-06T13:10:26.969Z"
   },
   {
    "duration": 4,
    "start_time": "2022-11-06T13:10:26.979Z"
   },
   {
    "duration": 55,
    "start_time": "2022-11-06T13:10:26.984Z"
   },
   {
    "duration": 8,
    "start_time": "2022-11-06T13:10:27.041Z"
   },
   {
    "duration": 6,
    "start_time": "2022-11-06T13:10:27.050Z"
   },
   {
    "duration": 27,
    "start_time": "2022-11-06T13:10:27.057Z"
   },
   {
    "duration": 54,
    "start_time": "2022-11-06T13:10:27.086Z"
   },
   {
    "duration": 252,
    "start_time": "2022-11-06T13:10:27.142Z"
   },
   {
    "duration": 7,
    "start_time": "2022-11-06T13:10:27.396Z"
   },
   {
    "duration": 23,
    "start_time": "2022-11-06T13:10:27.407Z"
   },
   {
    "duration": 211,
    "start_time": "2022-11-06T13:10:27.431Z"
   },
   {
    "duration": 7,
    "start_time": "2022-11-06T13:10:27.643Z"
   },
   {
    "duration": 218,
    "start_time": "2022-11-06T13:10:27.652Z"
   },
   {
    "duration": 15,
    "start_time": "2022-11-06T13:10:27.872Z"
   },
   {
    "duration": 8,
    "start_time": "2022-11-06T13:10:27.888Z"
   },
   {
    "duration": 29,
    "start_time": "2022-11-06T13:10:27.898Z"
   },
   {
    "duration": 283,
    "start_time": "2022-11-06T13:10:27.929Z"
   },
   {
    "duration": 29,
    "start_time": "2022-11-06T13:10:28.214Z"
   },
   {
    "duration": 670,
    "start_time": "2022-11-06T13:10:28.245Z"
   },
   {
    "duration": 29,
    "start_time": "2022-11-06T13:10:28.916Z"
   },
   {
    "duration": 7,
    "start_time": "2022-11-06T13:10:28.947Z"
   },
   {
    "duration": 7,
    "start_time": "2022-11-06T13:10:28.955Z"
   },
   {
    "duration": 6,
    "start_time": "2022-11-06T13:10:28.963Z"
   },
   {
    "duration": 343,
    "start_time": "2022-11-06T13:10:28.971Z"
   },
   {
    "duration": 333,
    "start_time": "2022-11-06T13:10:29.316Z"
   },
   {
    "duration": 7,
    "start_time": "2022-11-06T13:10:29.651Z"
   },
   {
    "duration": 5,
    "start_time": "2022-11-06T13:10:29.659Z"
   },
   {
    "duration": 14,
    "start_time": "2022-11-06T13:10:29.666Z"
   },
   {
    "duration": 236,
    "start_time": "2022-11-06T13:10:29.682Z"
   },
   {
    "duration": 222,
    "start_time": "2022-11-06T13:10:29.924Z"
   },
   {
    "duration": 253,
    "start_time": "2022-11-06T13:10:30.148Z"
   },
   {
    "duration": 221,
    "start_time": "2022-11-06T13:10:30.403Z"
   },
   {
    "duration": 211,
    "start_time": "2022-11-06T13:10:30.626Z"
   },
   {
    "duration": 220,
    "start_time": "2022-11-06T13:10:30.839Z"
   },
   {
    "duration": 9,
    "start_time": "2022-11-06T13:10:31.060Z"
   },
   {
    "duration": 289,
    "start_time": "2022-11-06T13:10:31.071Z"
   },
   {
    "duration": 18,
    "start_time": "2022-11-06T13:10:31.361Z"
   },
   {
    "duration": 268,
    "start_time": "2022-11-06T13:10:31.381Z"
   },
   {
    "duration": 7,
    "start_time": "2022-11-06T13:10:31.651Z"
   },
   {
    "duration": 7,
    "start_time": "2022-11-06T13:10:31.660Z"
   },
   {
    "duration": 7,
    "start_time": "2022-11-06T13:10:31.669Z"
   },
   {
    "duration": 10,
    "start_time": "2022-11-06T13:10:31.677Z"
   },
   {
    "duration": 37,
    "start_time": "2022-11-06T13:10:31.689Z"
   },
   {
    "duration": 8,
    "start_time": "2022-11-06T13:10:31.727Z"
   },
   {
    "duration": 4,
    "start_time": "2022-11-06T13:10:31.737Z"
   },
   {
    "duration": 338,
    "start_time": "2022-11-06T13:10:31.743Z"
   },
   {
    "duration": 181,
    "start_time": "2022-11-06T13:10:32.083Z"
   },
   {
    "duration": 175,
    "start_time": "2022-11-06T13:10:32.266Z"
   },
   {
    "duration": 170,
    "start_time": "2022-11-06T13:10:32.443Z"
   },
   {
    "duration": 16,
    "start_time": "2022-11-06T13:10:32.624Z"
   },
   {
    "duration": 311,
    "start_time": "2022-11-06T13:33:04.598Z"
   },
   {
    "duration": 316,
    "start_time": "2022-11-06T13:34:33.903Z"
   },
   {
    "duration": 312,
    "start_time": "2022-11-06T13:34:40.511Z"
   },
   {
    "duration": 4,
    "start_time": "2022-11-06T13:49:38.363Z"
   },
   {
    "duration": 74,
    "start_time": "2022-11-06T13:49:38.369Z"
   },
   {
    "duration": 15,
    "start_time": "2022-11-06T13:49:38.445Z"
   },
   {
    "duration": 1035,
    "start_time": "2022-11-06T13:49:38.462Z"
   },
   {
    "duration": 3,
    "start_time": "2022-11-06T13:49:39.500Z"
   },
   {
    "duration": 5,
    "start_time": "2022-11-06T13:49:39.505Z"
   },
   {
    "duration": 5,
    "start_time": "2022-11-06T13:49:39.523Z"
   },
   {
    "duration": 10,
    "start_time": "2022-11-06T13:49:39.529Z"
   },
   {
    "duration": 18,
    "start_time": "2022-11-06T13:49:39.540Z"
   },
   {
    "duration": 26,
    "start_time": "2022-11-06T13:49:39.559Z"
   },
   {
    "duration": 40,
    "start_time": "2022-11-06T13:49:39.588Z"
   },
   {
    "duration": 10,
    "start_time": "2022-11-06T13:49:39.630Z"
   },
   {
    "duration": 5,
    "start_time": "2022-11-06T13:49:39.641Z"
   },
   {
    "duration": 7,
    "start_time": "2022-11-06T13:49:39.647Z"
   },
   {
    "duration": 8,
    "start_time": "2022-11-06T13:49:39.655Z"
   },
   {
    "duration": 8,
    "start_time": "2022-11-06T13:49:39.664Z"
   },
   {
    "duration": 6,
    "start_time": "2022-11-06T13:49:39.673Z"
   },
   {
    "duration": 46,
    "start_time": "2022-11-06T13:49:39.681Z"
   },
   {
    "duration": 20,
    "start_time": "2022-11-06T13:49:39.729Z"
   },
   {
    "duration": 8,
    "start_time": "2022-11-06T13:49:39.751Z"
   },
   {
    "duration": 4,
    "start_time": "2022-11-06T13:49:39.761Z"
   },
   {
    "duration": 23,
    "start_time": "2022-11-06T13:49:39.766Z"
   },
   {
    "duration": 6,
    "start_time": "2022-11-06T13:49:39.791Z"
   },
   {
    "duration": 5,
    "start_time": "2022-11-06T13:49:39.825Z"
   },
   {
    "duration": 27,
    "start_time": "2022-11-06T13:49:39.832Z"
   },
   {
    "duration": 25,
    "start_time": "2022-11-06T13:49:39.861Z"
   },
   {
    "duration": 276,
    "start_time": "2022-11-06T13:49:39.888Z"
   },
   {
    "duration": 7,
    "start_time": "2022-11-06T13:49:40.166Z"
   },
   {
    "duration": 7,
    "start_time": "2022-11-06T13:49:40.177Z"
   },
   {
    "duration": 245,
    "start_time": "2022-11-06T13:49:40.186Z"
   },
   {
    "duration": 7,
    "start_time": "2022-11-06T13:49:40.433Z"
   },
   {
    "duration": 219,
    "start_time": "2022-11-06T13:49:40.442Z"
   },
   {
    "duration": 17,
    "start_time": "2022-11-06T13:49:40.663Z"
   },
   {
    "duration": 9,
    "start_time": "2022-11-06T13:49:40.681Z"
   },
   {
    "duration": 33,
    "start_time": "2022-11-06T13:49:40.691Z"
   },
   {
    "duration": 295,
    "start_time": "2022-11-06T13:49:40.726Z"
   },
   {
    "duration": 23,
    "start_time": "2022-11-06T13:49:41.023Z"
   },
   {
    "duration": 557,
    "start_time": "2022-11-06T13:49:41.047Z"
   },
   {
    "duration": 36,
    "start_time": "2022-11-06T13:49:41.606Z"
   },
   {
    "duration": 7,
    "start_time": "2022-11-06T13:49:41.644Z"
   },
   {
    "duration": 6,
    "start_time": "2022-11-06T13:49:41.652Z"
   },
   {
    "duration": 7,
    "start_time": "2022-11-06T13:49:41.659Z"
   },
   {
    "duration": 390,
    "start_time": "2022-11-06T13:49:41.668Z"
   },
   {
    "duration": 12,
    "start_time": "2022-11-06T13:49:42.060Z"
   },
   {
    "duration": 0,
    "start_time": "2022-11-06T13:49:42.073Z"
   },
   {
    "duration": 0,
    "start_time": "2022-11-06T13:49:42.076Z"
   },
   {
    "duration": 0,
    "start_time": "2022-11-06T13:49:42.077Z"
   },
   {
    "duration": 0,
    "start_time": "2022-11-06T13:49:42.078Z"
   },
   {
    "duration": 0,
    "start_time": "2022-11-06T13:49:42.080Z"
   },
   {
    "duration": 0,
    "start_time": "2022-11-06T13:49:42.082Z"
   },
   {
    "duration": 0,
    "start_time": "2022-11-06T13:49:42.084Z"
   },
   {
    "duration": 0,
    "start_time": "2022-11-06T13:49:42.086Z"
   },
   {
    "duration": 0,
    "start_time": "2022-11-06T13:49:42.087Z"
   },
   {
    "duration": 0,
    "start_time": "2022-11-06T13:49:42.089Z"
   },
   {
    "duration": 0,
    "start_time": "2022-11-06T13:49:42.125Z"
   },
   {
    "duration": 0,
    "start_time": "2022-11-06T13:49:42.126Z"
   },
   {
    "duration": 0,
    "start_time": "2022-11-06T13:49:42.128Z"
   },
   {
    "duration": 0,
    "start_time": "2022-11-06T13:49:42.129Z"
   },
   {
    "duration": 0,
    "start_time": "2022-11-06T13:49:42.130Z"
   },
   {
    "duration": 0,
    "start_time": "2022-11-06T13:49:42.131Z"
   },
   {
    "duration": 0,
    "start_time": "2022-11-06T13:49:42.132Z"
   },
   {
    "duration": 0,
    "start_time": "2022-11-06T13:49:42.133Z"
   },
   {
    "duration": 0,
    "start_time": "2022-11-06T13:49:42.134Z"
   },
   {
    "duration": 0,
    "start_time": "2022-11-06T13:49:42.135Z"
   },
   {
    "duration": 0,
    "start_time": "2022-11-06T13:49:42.136Z"
   },
   {
    "duration": 0,
    "start_time": "2022-11-06T13:49:42.137Z"
   },
   {
    "duration": 0,
    "start_time": "2022-11-06T13:49:42.138Z"
   },
   {
    "duration": 0,
    "start_time": "2022-11-06T13:49:42.139Z"
   },
   {
    "duration": 0,
    "start_time": "2022-11-06T13:49:42.140Z"
   },
   {
    "duration": 0,
    "start_time": "2022-11-06T13:49:42.141Z"
   },
   {
    "duration": 0,
    "start_time": "2022-11-06T13:49:42.143Z"
   },
   {
    "duration": 0,
    "start_time": "2022-11-06T13:49:42.301Z"
   },
   {
    "duration": 0,
    "start_time": "2022-11-06T13:49:42.303Z"
   },
   {
    "duration": 0,
    "start_time": "2022-11-06T13:49:42.304Z"
   },
   {
    "duration": 0,
    "start_time": "2022-11-06T13:49:42.306Z"
   },
   {
    "duration": 0,
    "start_time": "2022-11-06T13:49:42.307Z"
   },
   {
    "duration": 0,
    "start_time": "2022-11-06T13:49:42.308Z"
   },
   {
    "duration": 0,
    "start_time": "2022-11-06T13:49:42.309Z"
   },
   {
    "duration": 0,
    "start_time": "2022-11-06T13:49:42.324Z"
   },
   {
    "duration": 0,
    "start_time": "2022-11-06T13:49:42.325Z"
   },
   {
    "duration": 4,
    "start_time": "2022-11-06T13:51:17.949Z"
   },
   {
    "duration": 96,
    "start_time": "2022-11-06T13:51:17.955Z"
   },
   {
    "duration": 18,
    "start_time": "2022-11-06T13:51:18.054Z"
   },
   {
    "duration": 968,
    "start_time": "2022-11-06T13:51:18.074Z"
   },
   {
    "duration": 4,
    "start_time": "2022-11-06T13:51:19.044Z"
   },
   {
    "duration": 6,
    "start_time": "2022-11-06T13:51:19.050Z"
   },
   {
    "duration": 6,
    "start_time": "2022-11-06T13:51:19.058Z"
   },
   {
    "duration": 10,
    "start_time": "2022-11-06T13:51:19.066Z"
   },
   {
    "duration": 48,
    "start_time": "2022-11-06T13:51:19.078Z"
   },
   {
    "duration": 25,
    "start_time": "2022-11-06T13:51:19.128Z"
   },
   {
    "duration": 8,
    "start_time": "2022-11-06T13:51:19.158Z"
   },
   {
    "duration": 12,
    "start_time": "2022-11-06T13:51:19.167Z"
   },
   {
    "duration": 6,
    "start_time": "2022-11-06T13:51:19.181Z"
   },
   {
    "duration": 37,
    "start_time": "2022-11-06T13:51:19.188Z"
   },
   {
    "duration": 7,
    "start_time": "2022-11-06T13:51:19.227Z"
   },
   {
    "duration": 8,
    "start_time": "2022-11-06T13:51:19.236Z"
   },
   {
    "duration": 8,
    "start_time": "2022-11-06T13:51:19.246Z"
   },
   {
    "duration": 8,
    "start_time": "2022-11-06T13:51:19.256Z"
   },
   {
    "duration": 16,
    "start_time": "2022-11-06T13:51:19.266Z"
   },
   {
    "duration": 46,
    "start_time": "2022-11-06T13:51:19.284Z"
   },
   {
    "duration": 4,
    "start_time": "2022-11-06T13:51:19.332Z"
   },
   {
    "duration": 23,
    "start_time": "2022-11-06T13:51:19.337Z"
   },
   {
    "duration": 7,
    "start_time": "2022-11-06T13:51:19.362Z"
   },
   {
    "duration": 14,
    "start_time": "2022-11-06T13:51:19.371Z"
   },
   {
    "duration": 53,
    "start_time": "2022-11-06T13:51:19.387Z"
   },
   {
    "duration": 27,
    "start_time": "2022-11-06T13:51:19.442Z"
   },
   {
    "duration": 266,
    "start_time": "2022-11-06T13:51:19.471Z"
   },
   {
    "duration": 6,
    "start_time": "2022-11-06T13:51:19.739Z"
   },
   {
    "duration": 8,
    "start_time": "2022-11-06T13:51:19.749Z"
   },
   {
    "duration": 224,
    "start_time": "2022-11-06T13:51:19.759Z"
   },
   {
    "duration": 7,
    "start_time": "2022-11-06T13:51:19.985Z"
   },
   {
    "duration": 226,
    "start_time": "2022-11-06T13:51:19.994Z"
   },
   {
    "duration": 16,
    "start_time": "2022-11-06T13:51:20.224Z"
   },
   {
    "duration": 13,
    "start_time": "2022-11-06T13:51:20.242Z"
   },
   {
    "duration": 9,
    "start_time": "2022-11-06T13:51:20.257Z"
   },
   {
    "duration": 328,
    "start_time": "2022-11-06T13:51:20.269Z"
   },
   {
    "duration": 31,
    "start_time": "2022-11-06T13:51:20.598Z"
   },
   {
    "duration": 576,
    "start_time": "2022-11-06T13:51:20.631Z"
   },
   {
    "duration": 38,
    "start_time": "2022-11-06T13:51:21.208Z"
   },
   {
    "duration": 8,
    "start_time": "2022-11-06T13:51:21.248Z"
   },
   {
    "duration": 7,
    "start_time": "2022-11-06T13:51:21.259Z"
   },
   {
    "duration": 8,
    "start_time": "2022-11-06T13:51:21.268Z"
   },
   {
    "duration": 469,
    "start_time": "2022-11-06T13:51:21.278Z"
   },
   {
    "duration": 10,
    "start_time": "2022-11-06T13:51:21.749Z"
   },
   {
    "duration": 0,
    "start_time": "2022-11-06T13:51:21.761Z"
   },
   {
    "duration": 0,
    "start_time": "2022-11-06T13:51:21.763Z"
   },
   {
    "duration": 0,
    "start_time": "2022-11-06T13:51:21.764Z"
   },
   {
    "duration": 0,
    "start_time": "2022-11-06T13:51:21.764Z"
   },
   {
    "duration": 0,
    "start_time": "2022-11-06T13:51:21.766Z"
   },
   {
    "duration": 0,
    "start_time": "2022-11-06T13:51:21.767Z"
   },
   {
    "duration": 0,
    "start_time": "2022-11-06T13:51:21.768Z"
   },
   {
    "duration": 0,
    "start_time": "2022-11-06T13:51:21.769Z"
   },
   {
    "duration": 0,
    "start_time": "2022-11-06T13:51:21.770Z"
   },
   {
    "duration": 0,
    "start_time": "2022-11-06T13:51:21.771Z"
   },
   {
    "duration": 0,
    "start_time": "2022-11-06T13:51:21.772Z"
   },
   {
    "duration": 0,
    "start_time": "2022-11-06T13:51:21.774Z"
   },
   {
    "duration": 0,
    "start_time": "2022-11-06T13:51:21.775Z"
   },
   {
    "duration": 0,
    "start_time": "2022-11-06T13:51:21.777Z"
   },
   {
    "duration": 0,
    "start_time": "2022-11-06T13:51:21.779Z"
   },
   {
    "duration": 1,
    "start_time": "2022-11-06T13:51:21.780Z"
   },
   {
    "duration": 0,
    "start_time": "2022-11-06T13:51:21.782Z"
   },
   {
    "duration": 0,
    "start_time": "2022-11-06T13:51:21.825Z"
   },
   {
    "duration": 0,
    "start_time": "2022-11-06T13:51:21.827Z"
   },
   {
    "duration": 0,
    "start_time": "2022-11-06T13:51:21.828Z"
   },
   {
    "duration": 0,
    "start_time": "2022-11-06T13:51:21.829Z"
   },
   {
    "duration": 0,
    "start_time": "2022-11-06T13:51:21.831Z"
   },
   {
    "duration": 0,
    "start_time": "2022-11-06T13:51:21.832Z"
   },
   {
    "duration": 0,
    "start_time": "2022-11-06T13:51:21.833Z"
   },
   {
    "duration": 0,
    "start_time": "2022-11-06T13:51:21.835Z"
   },
   {
    "duration": 0,
    "start_time": "2022-11-06T13:51:21.837Z"
   },
   {
    "duration": 0,
    "start_time": "2022-11-06T13:51:21.838Z"
   },
   {
    "duration": 0,
    "start_time": "2022-11-06T13:51:21.840Z"
   },
   {
    "duration": 0,
    "start_time": "2022-11-06T13:51:21.841Z"
   },
   {
    "duration": 0,
    "start_time": "2022-11-06T13:51:21.842Z"
   },
   {
    "duration": 0,
    "start_time": "2022-11-06T13:51:21.844Z"
   },
   {
    "duration": 0,
    "start_time": "2022-11-06T13:51:21.847Z"
   },
   {
    "duration": 0,
    "start_time": "2022-11-06T13:51:21.850Z"
   },
   {
    "duration": 0,
    "start_time": "2022-11-06T13:51:21.852Z"
   },
   {
    "duration": 0,
    "start_time": "2022-11-06T13:51:21.854Z"
   },
   {
    "duration": 0,
    "start_time": "2022-11-06T13:51:21.855Z"
   },
   {
    "duration": 6,
    "start_time": "2022-11-06T13:51:29.498Z"
   },
   {
    "duration": 6,
    "start_time": "2022-11-06T13:51:30.260Z"
   },
   {
    "duration": 5,
    "start_time": "2022-11-06T13:51:30.864Z"
   },
   {
    "duration": 10,
    "start_time": "2022-11-06T13:51:39.178Z"
   },
   {
    "duration": 8,
    "start_time": "2022-11-06T13:51:40.087Z"
   },
   {
    "duration": 5,
    "start_time": "2022-11-06T13:51:45.767Z"
   },
   {
    "duration": 6,
    "start_time": "2022-11-06T13:51:46.528Z"
   },
   {
    "duration": 5,
    "start_time": "2022-11-06T13:51:46.706Z"
   },
   {
    "duration": 3,
    "start_time": "2022-11-06T13:51:53.672Z"
   },
   {
    "duration": 6,
    "start_time": "2022-11-06T13:51:54.047Z"
   },
   {
    "duration": 8,
    "start_time": "2022-11-06T13:51:55.915Z"
   },
   {
    "duration": 9,
    "start_time": "2022-11-06T13:51:56.304Z"
   },
   {
    "duration": 307,
    "start_time": "2022-11-06T13:58:44.640Z"
   },
   {
    "duration": 4,
    "start_time": "2022-11-06T14:04:08.198Z"
   },
   {
    "duration": 72,
    "start_time": "2022-11-06T14:04:08.204Z"
   },
   {
    "duration": 18,
    "start_time": "2022-11-06T14:04:08.278Z"
   },
   {
    "duration": 1009,
    "start_time": "2022-11-06T14:04:08.298Z"
   },
   {
    "duration": 4,
    "start_time": "2022-11-06T14:04:09.310Z"
   },
   {
    "duration": 3,
    "start_time": "2022-11-06T14:04:09.324Z"
   },
   {
    "duration": 13,
    "start_time": "2022-11-06T14:04:09.329Z"
   },
   {
    "duration": 10,
    "start_time": "2022-11-06T14:04:09.343Z"
   },
   {
    "duration": 17,
    "start_time": "2022-11-06T14:04:09.354Z"
   },
   {
    "duration": 24,
    "start_time": "2022-11-06T14:04:09.372Z"
   },
   {
    "duration": 29,
    "start_time": "2022-11-06T14:04:09.398Z"
   },
   {
    "duration": 9,
    "start_time": "2022-11-06T14:04:09.429Z"
   },
   {
    "duration": 4,
    "start_time": "2022-11-06T14:04:09.441Z"
   },
   {
    "duration": 7,
    "start_time": "2022-11-06T14:04:09.446Z"
   },
   {
    "duration": 8,
    "start_time": "2022-11-06T14:04:09.455Z"
   },
   {
    "duration": 7,
    "start_time": "2022-11-06T14:04:09.465Z"
   },
   {
    "duration": 6,
    "start_time": "2022-11-06T14:04:09.474Z"
   },
   {
    "duration": 8,
    "start_time": "2022-11-06T14:04:09.524Z"
   },
   {
    "duration": 16,
    "start_time": "2022-11-06T14:04:09.534Z"
   },
   {
    "duration": 12,
    "start_time": "2022-11-06T14:04:09.551Z"
   },
   {
    "duration": 5,
    "start_time": "2022-11-06T14:04:09.565Z"
   },
   {
    "duration": 55,
    "start_time": "2022-11-06T14:04:09.571Z"
   },
   {
    "duration": 17,
    "start_time": "2022-11-06T14:04:09.628Z"
   },
   {
    "duration": 6,
    "start_time": "2022-11-06T14:04:09.647Z"
   },
   {
    "duration": 23,
    "start_time": "2022-11-06T14:04:09.654Z"
   },
   {
    "duration": 48,
    "start_time": "2022-11-06T14:04:09.678Z"
   },
   {
    "duration": 254,
    "start_time": "2022-11-06T14:04:09.727Z"
   },
   {
    "duration": 8,
    "start_time": "2022-11-06T14:04:09.983Z"
   },
   {
    "duration": 8,
    "start_time": "2022-11-06T14:04:09.993Z"
   },
   {
    "duration": 225,
    "start_time": "2022-11-06T14:04:10.002Z"
   },
   {
    "duration": 7,
    "start_time": "2022-11-06T14:04:10.229Z"
   },
   {
    "duration": 234,
    "start_time": "2022-11-06T14:04:10.239Z"
   },
   {
    "duration": 16,
    "start_time": "2022-11-06T14:04:10.475Z"
   },
   {
    "duration": 8,
    "start_time": "2022-11-06T14:04:10.492Z"
   },
   {
    "duration": 30,
    "start_time": "2022-11-06T14:04:10.502Z"
   },
   {
    "duration": 304,
    "start_time": "2022-11-06T14:04:10.534Z"
   },
   {
    "duration": 145,
    "start_time": "2022-11-06T14:04:10.843Z"
   },
   {
    "duration": 592,
    "start_time": "2022-11-06T14:04:10.990Z"
   },
   {
    "duration": 41,
    "start_time": "2022-11-06T14:04:11.584Z"
   },
   {
    "duration": 9,
    "start_time": "2022-11-06T14:04:11.627Z"
   },
   {
    "duration": 14,
    "start_time": "2022-11-06T14:04:11.638Z"
   },
   {
    "duration": 15,
    "start_time": "2022-11-06T14:04:11.654Z"
   },
   {
    "duration": 406,
    "start_time": "2022-11-06T14:04:11.671Z"
   },
   {
    "duration": 10,
    "start_time": "2022-11-06T14:04:12.079Z"
   },
   {
    "duration": 0,
    "start_time": "2022-11-06T14:04:12.090Z"
   },
   {
    "duration": 0,
    "start_time": "2022-11-06T14:04:12.092Z"
   },
   {
    "duration": 0,
    "start_time": "2022-11-06T14:04:12.093Z"
   },
   {
    "duration": 0,
    "start_time": "2022-11-06T14:04:12.094Z"
   },
   {
    "duration": 0,
    "start_time": "2022-11-06T14:04:12.095Z"
   },
   {
    "duration": 0,
    "start_time": "2022-11-06T14:04:12.096Z"
   },
   {
    "duration": 0,
    "start_time": "2022-11-06T14:04:12.098Z"
   },
   {
    "duration": 0,
    "start_time": "2022-11-06T14:04:12.124Z"
   },
   {
    "duration": 0,
    "start_time": "2022-11-06T14:04:12.126Z"
   },
   {
    "duration": 0,
    "start_time": "2022-11-06T14:04:12.127Z"
   },
   {
    "duration": 0,
    "start_time": "2022-11-06T14:04:12.128Z"
   },
   {
    "duration": 0,
    "start_time": "2022-11-06T14:04:12.130Z"
   },
   {
    "duration": 0,
    "start_time": "2022-11-06T14:04:12.131Z"
   },
   {
    "duration": 0,
    "start_time": "2022-11-06T14:04:12.133Z"
   },
   {
    "duration": 0,
    "start_time": "2022-11-06T14:04:12.135Z"
   },
   {
    "duration": 0,
    "start_time": "2022-11-06T14:04:12.136Z"
   },
   {
    "duration": 0,
    "start_time": "2022-11-06T14:04:12.137Z"
   },
   {
    "duration": 0,
    "start_time": "2022-11-06T14:04:12.138Z"
   },
   {
    "duration": 0,
    "start_time": "2022-11-06T14:04:12.139Z"
   },
   {
    "duration": 0,
    "start_time": "2022-11-06T14:04:12.141Z"
   },
   {
    "duration": 0,
    "start_time": "2022-11-06T14:04:12.142Z"
   },
   {
    "duration": 0,
    "start_time": "2022-11-06T14:04:12.143Z"
   },
   {
    "duration": 0,
    "start_time": "2022-11-06T14:04:12.144Z"
   },
   {
    "duration": 0,
    "start_time": "2022-11-06T14:04:12.145Z"
   },
   {
    "duration": 0,
    "start_time": "2022-11-06T14:04:12.147Z"
   },
   {
    "duration": 0,
    "start_time": "2022-11-06T14:04:12.148Z"
   },
   {
    "duration": 0,
    "start_time": "2022-11-06T14:04:12.149Z"
   },
   {
    "duration": 0,
    "start_time": "2022-11-06T14:04:12.151Z"
   },
   {
    "duration": 0,
    "start_time": "2022-11-06T14:04:12.152Z"
   },
   {
    "duration": 0,
    "start_time": "2022-11-06T14:04:12.154Z"
   },
   {
    "duration": 0,
    "start_time": "2022-11-06T14:04:12.155Z"
   },
   {
    "duration": 0,
    "start_time": "2022-11-06T14:04:12.157Z"
   },
   {
    "duration": 0,
    "start_time": "2022-11-06T14:04:12.158Z"
   },
   {
    "duration": 0,
    "start_time": "2022-11-06T14:04:12.159Z"
   },
   {
    "duration": 1,
    "start_time": "2022-11-06T14:04:12.160Z"
   },
   {
    "duration": 1,
    "start_time": "2022-11-06T14:04:12.224Z"
   },
   {
    "duration": 197,
    "start_time": "2022-11-06T14:04:53.109Z"
   },
   {
    "duration": 214,
    "start_time": "2022-11-06T14:04:56.504Z"
   },
   {
    "duration": 199,
    "start_time": "2022-11-06T14:04:58.048Z"
   },
   {
    "duration": 210,
    "start_time": "2022-11-06T14:04:58.687Z"
   },
   {
    "duration": 9,
    "start_time": "2022-11-06T14:04:59.213Z"
   },
   {
    "duration": 271,
    "start_time": "2022-11-06T14:05:04.446Z"
   },
   {
    "duration": 19,
    "start_time": "2022-11-06T14:05:07.090Z"
   },
   {
    "duration": 256,
    "start_time": "2022-11-06T14:05:08.597Z"
   },
   {
    "duration": 8,
    "start_time": "2022-11-06T14:05:12.982Z"
   },
   {
    "duration": 8,
    "start_time": "2022-11-06T14:05:14.520Z"
   },
   {
    "duration": 8,
    "start_time": "2022-11-06T14:05:15.986Z"
   },
   {
    "duration": 7,
    "start_time": "2022-11-06T14:05:17.842Z"
   },
   {
    "duration": 8,
    "start_time": "2022-11-06T14:05:18.290Z"
   },
   {
    "duration": 9,
    "start_time": "2022-11-06T14:05:18.756Z"
   },
   {
    "duration": 4,
    "start_time": "2022-11-06T14:05:20.595Z"
   },
   {
    "duration": 204,
    "start_time": "2022-11-06T14:05:21.836Z"
   },
   {
    "duration": 175,
    "start_time": "2022-11-06T14:05:23.824Z"
   },
   {
    "duration": 257,
    "start_time": "2022-11-06T14:05:24.298Z"
   },
   {
    "duration": 172,
    "start_time": "2022-11-06T14:05:24.789Z"
   },
   {
    "duration": 7,
    "start_time": "2022-11-06T14:05:31.346Z"
   },
   {
    "duration": 7,
    "start_time": "2022-11-06T14:05:31.920Z"
   },
   {
    "duration": 3,
    "start_time": "2022-11-06T14:05:33.393Z"
   },
   {
    "duration": 5,
    "start_time": "2022-11-06T14:05:34.066Z"
   },
   {
    "duration": 11,
    "start_time": "2022-11-06T14:05:37.108Z"
   },
   {
    "duration": 9,
    "start_time": "2022-11-06T14:05:37.584Z"
   },
   {
    "duration": 5,
    "start_time": "2022-11-06T14:05:39.856Z"
   },
   {
    "duration": 5,
    "start_time": "2022-11-06T14:05:40.338Z"
   },
   {
    "duration": 5,
    "start_time": "2022-11-06T14:05:40.803Z"
   },
   {
    "duration": 9,
    "start_time": "2022-11-06T14:05:42.146Z"
   },
   {
    "duration": 8,
    "start_time": "2022-11-06T14:05:42.586Z"
   },
   {
    "duration": 324,
    "start_time": "2022-11-06T14:10:46.372Z"
   },
   {
    "duration": 8,
    "start_time": "2022-11-06T14:10:47.990Z"
   },
   {
    "duration": 77,
    "start_time": "2022-11-06T15:18:34.245Z"
   },
   {
    "duration": 103,
    "start_time": "2022-11-06T15:19:52.254Z"
   },
   {
    "duration": 1192,
    "start_time": "2022-11-06T19:34:39.673Z"
   },
   {
    "duration": 214,
    "start_time": "2022-11-06T19:34:40.866Z"
   },
   {
    "duration": 12,
    "start_time": "2022-11-06T19:34:41.081Z"
   },
   {
    "duration": 760,
    "start_time": "2022-11-06T19:34:41.095Z"
   },
   {
    "duration": 5,
    "start_time": "2022-11-06T19:34:41.856Z"
   },
   {
    "duration": 5,
    "start_time": "2022-11-06T19:34:41.862Z"
   },
   {
    "duration": 7,
    "start_time": "2022-11-06T19:34:41.868Z"
   },
   {
    "duration": 9,
    "start_time": "2022-11-06T19:34:41.876Z"
   },
   {
    "duration": 14,
    "start_time": "2022-11-06T19:34:41.902Z"
   },
   {
    "duration": 22,
    "start_time": "2022-11-06T19:34:41.919Z"
   },
   {
    "duration": 6,
    "start_time": "2022-11-06T19:34:41.943Z"
   },
   {
    "duration": 22,
    "start_time": "2022-11-06T19:34:41.950Z"
   },
   {
    "duration": 7,
    "start_time": "2022-11-06T19:34:41.973Z"
   },
   {
    "duration": 12,
    "start_time": "2022-11-06T19:34:41.982Z"
   },
   {
    "duration": 8,
    "start_time": "2022-11-06T19:34:42.003Z"
   },
   {
    "duration": 9,
    "start_time": "2022-11-06T19:34:42.012Z"
   },
   {
    "duration": 7,
    "start_time": "2022-11-06T19:34:42.023Z"
   },
   {
    "duration": 7,
    "start_time": "2022-11-06T19:34:42.031Z"
   },
   {
    "duration": 17,
    "start_time": "2022-11-06T19:34:42.039Z"
   },
   {
    "duration": 9,
    "start_time": "2022-11-06T19:34:42.058Z"
   },
   {
    "duration": 14,
    "start_time": "2022-11-06T19:34:42.069Z"
   },
   {
    "duration": 51,
    "start_time": "2022-11-06T19:34:42.084Z"
   },
   {
    "duration": 9,
    "start_time": "2022-11-06T19:34:42.137Z"
   },
   {
    "duration": 21,
    "start_time": "2022-11-06T19:34:42.148Z"
   },
   {
    "duration": 25,
    "start_time": "2022-11-06T19:34:42.171Z"
   },
   {
    "duration": 25,
    "start_time": "2022-11-06T19:34:42.198Z"
   },
   {
    "duration": 194,
    "start_time": "2022-11-06T19:34:42.225Z"
   },
   {
    "duration": 6,
    "start_time": "2022-11-06T19:34:42.421Z"
   },
   {
    "duration": 286,
    "start_time": "2022-11-06T19:35:06.007Z"
   },
   {
    "duration": 9,
    "start_time": "2022-11-06T19:37:50.364Z"
   },
   {
    "duration": 6,
    "start_time": "2022-11-06T19:37:57.570Z"
   }
  ],
  "kernelspec": {
   "display_name": "Python 3 (ipykernel)",
   "language": "python",
   "name": "python3"
  },
  "language_info": {
   "codemirror_mode": {
    "name": "ipython",
    "version": 3
   },
   "file_extension": ".py",
   "mimetype": "text/x-python",
   "name": "python",
   "nbconvert_exporter": "python",
   "pygments_lexer": "ipython3",
   "version": "3.10.9"
  },
  "toc": {
   "base_numbering": 1,
   "nav_menu": {},
   "number_sections": true,
   "sideBar": true,
   "skip_h1_title": true,
   "title_cell": "Table of Contents",
   "title_sidebar": "Contents",
   "toc_cell": false,
   "toc_position": {
    "height": "calc(100% - 180px)",
    "left": "10px",
    "top": "150px",
    "width": "321px"
   },
   "toc_section_display": true,
   "toc_window_display": true
  }
 },
 "nbformat": 4,
 "nbformat_minor": 2
}
