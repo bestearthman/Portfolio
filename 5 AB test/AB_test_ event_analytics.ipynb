{
 "cells": [
  {
   "cell_type": "markdown",
   "metadata": {},
   "source": [
    "**ЗАДАЧА ПРОЕКТА:**  \n",
    "- изучить событийную аналитику пользователей на сайте - воронку продаж, узнайть, как и сколько пользователей доходят до покупки,  \n",
    "а сколько — «застревает» на предыдущих шагах. На каких именно?\n",
    "- исследовать результат А/А/В-эксперимента и выяснить какой шрифт лучше"
   ]
  },
  {
   "cell_type": "markdown",
   "metadata": {},
   "source": [
    "### Данные"
   ]
  },
  {
   "cell_type": "markdown",
   "metadata": {},
   "source": [
    "Выгрузим датасет и ознакомимся с информацией"
   ]
  },
  {
   "cell_type": "code",
   "execution_count": 1,
   "metadata": {},
   "outputs": [],
   "source": [
    "import pandas as pd\n",
    "import numpy as np\n",
    "import datetime as dt\n",
    "from datetime import datetime\n",
    "from datetime import date\n",
    "from matplotlib import pyplot as plt\n",
    "from matplotlib.pyplot import figure\n",
    "import scipy.stats as stats\n",
    "from scipy import stats as st\n",
    "import math as mth\n",
    "import plotly.express as px\n",
    "from plotly import graph_objects as go\n",
    "from plotly.subplots import make_subplots"
   ]
  },
  {
   "cell_type": "code",
   "execution_count": 2,
   "metadata": {},
   "outputs": [],
   "source": [
    "import warnings\n",
    "warnings.filterwarnings(\"ignore\")"
   ]
  },
  {
   "cell_type": "markdown",
   "metadata": {},
   "source": [
    "Сразу переименуем столбцы в удобные для нас:"
   ]
  },
  {
   "cell_type": "code",
   "execution_count": 3,
   "metadata": {},
   "outputs": [
    {
     "data": {
      "text/html": [
       "<div>\n",
       "<style scoped>\n",
       "    .dataframe tbody tr th:only-of-type {\n",
       "        vertical-align: middle;\n",
       "    }\n",
       "\n",
       "    .dataframe tbody tr th {\n",
       "        vertical-align: top;\n",
       "    }\n",
       "\n",
       "    .dataframe thead th {\n",
       "        text-align: right;\n",
       "    }\n",
       "</style>\n",
       "<table border=\"1\" class=\"dataframe\">\n",
       "  <thead>\n",
       "    <tr style=\"text-align: right;\">\n",
       "      <th></th>\n",
       "      <th>event_name</th>\n",
       "      <th>id</th>\n",
       "      <th>event_timestamp</th>\n",
       "      <th>exp_id</th>\n",
       "    </tr>\n",
       "  </thead>\n",
       "  <tbody>\n",
       "    <tr>\n",
       "      <th>0</th>\n",
       "      <td>MainScreenAppear</td>\n",
       "      <td>4575588528974610257</td>\n",
       "      <td>1564029816</td>\n",
       "      <td>246</td>\n",
       "    </tr>\n",
       "    <tr>\n",
       "      <th>1</th>\n",
       "      <td>MainScreenAppear</td>\n",
       "      <td>7416695313311560658</td>\n",
       "      <td>1564053102</td>\n",
       "      <td>246</td>\n",
       "    </tr>\n",
       "    <tr>\n",
       "      <th>2</th>\n",
       "      <td>PaymentScreenSuccessful</td>\n",
       "      <td>3518123091307005509</td>\n",
       "      <td>1564054127</td>\n",
       "      <td>248</td>\n",
       "    </tr>\n",
       "    <tr>\n",
       "      <th>3</th>\n",
       "      <td>CartScreenAppear</td>\n",
       "      <td>3518123091307005509</td>\n",
       "      <td>1564054127</td>\n",
       "      <td>248</td>\n",
       "    </tr>\n",
       "    <tr>\n",
       "      <th>4</th>\n",
       "      <td>PaymentScreenSuccessful</td>\n",
       "      <td>6217807653094995999</td>\n",
       "      <td>1564055322</td>\n",
       "      <td>248</td>\n",
       "    </tr>\n",
       "    <tr>\n",
       "      <th>...</th>\n",
       "      <td>...</td>\n",
       "      <td>...</td>\n",
       "      <td>...</td>\n",
       "      <td>...</td>\n",
       "    </tr>\n",
       "    <tr>\n",
       "      <th>244121</th>\n",
       "      <td>MainScreenAppear</td>\n",
       "      <td>4599628364049201812</td>\n",
       "      <td>1565212345</td>\n",
       "      <td>247</td>\n",
       "    </tr>\n",
       "    <tr>\n",
       "      <th>244122</th>\n",
       "      <td>MainScreenAppear</td>\n",
       "      <td>5849806612437486590</td>\n",
       "      <td>1565212439</td>\n",
       "      <td>246</td>\n",
       "    </tr>\n",
       "    <tr>\n",
       "      <th>244123</th>\n",
       "      <td>MainScreenAppear</td>\n",
       "      <td>5746969938801999050</td>\n",
       "      <td>1565212483</td>\n",
       "      <td>246</td>\n",
       "    </tr>\n",
       "    <tr>\n",
       "      <th>244124</th>\n",
       "      <td>MainScreenAppear</td>\n",
       "      <td>5746969938801999050</td>\n",
       "      <td>1565212498</td>\n",
       "      <td>246</td>\n",
       "    </tr>\n",
       "    <tr>\n",
       "      <th>244125</th>\n",
       "      <td>OffersScreenAppear</td>\n",
       "      <td>5746969938801999050</td>\n",
       "      <td>1565212517</td>\n",
       "      <td>246</td>\n",
       "    </tr>\n",
       "  </tbody>\n",
       "</table>\n",
       "<p>244126 rows × 4 columns</p>\n",
       "</div>"
      ],
      "text/plain": [
       "                     event_name                   id  event_timestamp  exp_id\n",
       "0              MainScreenAppear  4575588528974610257       1564029816     246\n",
       "1              MainScreenAppear  7416695313311560658       1564053102     246\n",
       "2       PaymentScreenSuccessful  3518123091307005509       1564054127     248\n",
       "3              CartScreenAppear  3518123091307005509       1564054127     248\n",
       "4       PaymentScreenSuccessful  6217807653094995999       1564055322     248\n",
       "...                         ...                  ...              ...     ...\n",
       "244121         MainScreenAppear  4599628364049201812       1565212345     247\n",
       "244122         MainScreenAppear  5849806612437486590       1565212439     246\n",
       "244123         MainScreenAppear  5746969938801999050       1565212483     246\n",
       "244124         MainScreenAppear  5746969938801999050       1565212498     246\n",
       "244125       OffersScreenAppear  5746969938801999050       1565212517     246\n",
       "\n",
       "[244126 rows x 4 columns]"
      ]
     },
     "metadata": {},
     "output_type": "display_data"
    }
   ],
   "source": [
    "try:\n",
    "    data = pd.read_csv('/datasets/logs_exp.csv', sep=\"\\t\")\n",
    "except:\n",
    "    data = pd.read_csv('https://code.s3.yandex.net//datasets/logs_exp.csv', sep=\"\\t\")\n",
    "    \n",
    "data = data.rename(columns={'EventName' : 'event_name', 'DeviceIDHash' : 'id', 'EventTimestamp' : 'event_timestamp', 'ExpId' : 'exp_id'})    \n",
    "display(data)"
   ]
  },
  {
   "cell_type": "markdown",
   "metadata": {},
   "source": [
    "**Описание данных**  \n",
    "Каждая запись в логе — это действие пользователя, или событие:\n",
    "- event_name — название события;\n",
    "- id — уникальный идентификатор пользователя;\n",
    "- event_timestamp\t — время события;\n",
    "- exp_id — номер эксперимента: 246 и 247 — контрольные группы, а 248 — экспериментальная."
   ]
  },
  {
   "cell_type": "markdown",
   "metadata": {},
   "source": [
    "### Подготовка данных"
   ]
  },
  {
   "cell_type": "markdown",
   "metadata": {},
   "source": [
    "Проверим пропуски в данных и дубликаты:"
   ]
  },
  {
   "cell_type": "code",
   "execution_count": 4,
   "metadata": {},
   "outputs": [
    {
     "name": "stdout",
     "output_type": "stream",
     "text": [
      "<class 'pandas.core.frame.DataFrame'>\n",
      "RangeIndex: 244126 entries, 0 to 244125\n",
      "Data columns (total 4 columns):\n",
      " #   Column           Non-Null Count   Dtype \n",
      "---  ------           --------------   ----- \n",
      " 0   event_name       244126 non-null  object\n",
      " 1   id               244126 non-null  int64 \n",
      " 2   event_timestamp  244126 non-null  int64 \n",
      " 3   exp_id           244126 non-null  int64 \n",
      "dtypes: int64(3), object(1)\n",
      "memory usage: 7.5+ MB\n"
     ]
    }
   ],
   "source": [
    "data.info()"
   ]
  },
  {
   "cell_type": "markdown",
   "metadata": {},
   "source": [
    "Пропусков нет."
   ]
  },
  {
   "cell_type": "markdown",
   "metadata": {},
   "source": [
    "Переведем столбец даты и время в нужный формат:"
   ]
  },
  {
   "cell_type": "code",
   "execution_count": 5,
   "metadata": {},
   "outputs": [],
   "source": [
    "data['event_timestamp'] = pd.to_datetime(data['event_timestamp'], unit='s')"
   ]
  },
  {
   "cell_type": "markdown",
   "metadata": {},
   "source": [
    "Проверим явные дубликаты и удалим их, если есть"
   ]
  },
  {
   "cell_type": "code",
   "execution_count": 6,
   "metadata": {},
   "outputs": [
    {
     "data": {
      "text/plain": [
       "413"
      ]
     },
     "execution_count": 6,
     "metadata": {},
     "output_type": "execute_result"
    }
   ],
   "source": [
    "data.duplicated().sum()"
   ]
  },
  {
   "cell_type": "code",
   "execution_count": 7,
   "metadata": {},
   "outputs": [],
   "source": [
    "data = data.drop_duplicates()"
   ]
  },
  {
   "cell_type": "markdown",
   "metadata": {},
   "source": [
    "Создадим отдельный столбец даты для удобства:"
   ]
  },
  {
   "cell_type": "code",
   "execution_count": 8,
   "metadata": {},
   "outputs": [],
   "source": [
    "data['date'] = data['event_timestamp'].dt.date"
   ]
  },
  {
   "cell_type": "code",
   "execution_count": 9,
   "metadata": {},
   "outputs": [],
   "source": [
    "data['date'] = pd.to_datetime(data['date'])"
   ]
  },
  {
   "cell_type": "code",
   "execution_count": 10,
   "metadata": {},
   "outputs": [
    {
     "name": "stdout",
     "output_type": "stream",
     "text": [
      "<class 'pandas.core.frame.DataFrame'>\n",
      "Int64Index: 243713 entries, 0 to 244125\n",
      "Data columns (total 5 columns):\n",
      " #   Column           Non-Null Count   Dtype         \n",
      "---  ------           --------------   -----         \n",
      " 0   event_name       243713 non-null  object        \n",
      " 1   id               243713 non-null  int64         \n",
      " 2   event_timestamp  243713 non-null  datetime64[ns]\n",
      " 3   exp_id           243713 non-null  int64         \n",
      " 4   date             243713 non-null  datetime64[ns]\n",
      "dtypes: datetime64[ns](2), int64(2), object(1)\n",
      "memory usage: 11.2+ MB\n"
     ]
    }
   ],
   "source": [
    "data.info()"
   ]
  },
  {
   "cell_type": "markdown",
   "metadata": {},
   "source": [
    "### Изучим и проверим данные"
   ]
  },
  {
   "cell_type": "markdown",
   "metadata": {},
   "source": [
    "#### Количество событий "
   ]
  },
  {
   "cell_type": "markdown",
   "metadata": {},
   "source": [
    "Заглянем в столбец событий:"
   ]
  },
  {
   "cell_type": "code",
   "execution_count": 11,
   "metadata": {},
   "outputs": [
    {
     "name": "stdout",
     "output_type": "stream",
     "text": [
      "Всего событий в логе: 243713\n"
     ]
    }
   ],
   "source": [
    "total_events = data.event_name.count()\n",
    "print('Всего событий в логе:', total_events)"
   ]
  },
  {
   "cell_type": "code",
   "execution_count": 12,
   "metadata": {},
   "outputs": [
    {
     "data": {
      "text/plain": [
       "MainScreenAppear           119101\n",
       "OffersScreenAppear          46808\n",
       "CartScreenAppear            42668\n",
       "PaymentScreenSuccessful     34118\n",
       "Tutorial                     1018\n",
       "Name: event_name, dtype: int64"
      ]
     },
     "execution_count": 12,
     "metadata": {},
     "output_type": "execute_result"
    }
   ],
   "source": [
    "data.event_name.value_counts()"
   ]
  },
  {
   "cell_type": "markdown",
   "metadata": {},
   "source": [
    "Численно события соответствуют воронке продаж - от \"главного экрана\" до \"оплаты\" количество событий убывает."
   ]
  },
  {
   "cell_type": "markdown",
   "metadata": {},
   "source": [
    "#### Количество пользователей "
   ]
  },
  {
   "cell_type": "code",
   "execution_count": 13,
   "metadata": {},
   "outputs": [],
   "source": [
    "all_users = data.id.nunique()"
   ]
  },
  {
   "cell_type": "code",
   "execution_count": 14,
   "metadata": {},
   "outputs": [
    {
     "name": "stdout",
     "output_type": "stream",
     "text": [
      "Всего уникальных пользователей в логе: 7551\n"
     ]
    }
   ],
   "source": [
    "print('Всего уникальных пользователей в логе:', all_users)"
   ]
  },
  {
   "cell_type": "markdown",
   "metadata": {},
   "source": [
    "#### Сколько в среднем событий приходится на пользователя"
   ]
  },
  {
   "cell_type": "code",
   "execution_count": 17,
   "metadata": {},
   "outputs": [
    {
     "name": "stdout",
     "output_type": "stream",
     "text": [
      "В среднем на одного пользователя приходится 32 события.\n"
     ]
    }
   ],
   "source": [
    "print('В среднем на одного пользователя приходится', int(data.groupby('id')['event_name'].count().mean().round()), 'события.')"
   ]
  },
  {
   "cell_type": "markdown",
   "metadata": {},
   "source": [
    "Посмотрим также медиану:"
   ]
  },
  {
   "cell_type": "code",
   "execution_count": 18,
   "metadata": {},
   "outputs": [
    {
     "ename": "AttributeError",
     "evalue": "'float' object has no attribute 'round'",
     "output_type": "error",
     "traceback": [
      "\u001b[1;31m---------------------------------------------------------------------------\u001b[0m",
      "\u001b[1;31mAttributeError\u001b[0m                            Traceback (most recent call last)",
      "Cell \u001b[1;32mIn[18], line 1\u001b[0m\n\u001b[1;32m----> 1\u001b[0m \u001b[38;5;28mprint\u001b[39m(\u001b[38;5;124m'\u001b[39m\u001b[38;5;124mВ среднем по медиане на одного пользователя приходится\u001b[39m\u001b[38;5;124m'\u001b[39m, \u001b[38;5;28mint\u001b[39m(\u001b[43mdata\u001b[49m\u001b[38;5;241;43m.\u001b[39;49m\u001b[43mgroupby\u001b[49m\u001b[43m(\u001b[49m\u001b[38;5;124;43m'\u001b[39;49m\u001b[38;5;124;43mid\u001b[39;49m\u001b[38;5;124;43m'\u001b[39;49m\u001b[43m)\u001b[49m\u001b[43m[\u001b[49m\u001b[38;5;124;43m'\u001b[39;49m\u001b[38;5;124;43mevent_name\u001b[39;49m\u001b[38;5;124;43m'\u001b[39;49m\u001b[43m]\u001b[49m\u001b[38;5;241;43m.\u001b[39;49m\u001b[43mcount\u001b[49m\u001b[43m(\u001b[49m\u001b[43m)\u001b[49m\u001b[38;5;241;43m.\u001b[39;49m\u001b[43mmedian\u001b[49m\u001b[43m(\u001b[49m\u001b[43m)\u001b[49m\u001b[38;5;241;43m.\u001b[39;49m\u001b[43mround\u001b[49m()), \u001b[38;5;124m'\u001b[39m\u001b[38;5;124mсобытий.\u001b[39m\u001b[38;5;124m'\u001b[39m)\n",
      "\u001b[1;31mAttributeError\u001b[0m: 'float' object has no attribute 'round'"
     ]
    }
   ],
   "source": [
    "print('В среднем по медиане на одного пользователя приходится', int(data.groupby('id')['event_name'].count().median().round()), 'событий.')"
   ]
  },
  {
   "cell_type": "markdown",
   "metadata": {},
   "source": [
    "Значит есть несколько пользователей с очень большим количеством событий, которые смещают арифметическое среднее в большую сторону."
   ]
  },
  {
   "cell_type": "markdown",
   "metadata": {},
   "source": [
    "#### Данные о дате и их корректировка"
   ]
  },
  {
   "cell_type": "code",
   "execution_count": null,
   "metadata": {},
   "outputs": [],
   "source": [
    "print('Минимальная дата', data.event_timestamp.min())"
   ]
  },
  {
   "cell_type": "code",
   "execution_count": null,
   "metadata": {},
   "outputs": [],
   "source": [
    "print('Максимальная дата', data.event_timestamp.max())"
   ]
  },
  {
   "cell_type": "code",
   "execution_count": null,
   "metadata": {},
   "outputs": [],
   "source": [
    "data['event_timestamp'].hist(bins=50, figsize=(18, 7));"
   ]
  },
  {
   "cell_type": "markdown",
   "metadata": {},
   "source": [
    "Видно, что данные распределены неравномерно - до 2019-08-01 данных совсем мало, отбросим их. "
   ]
  },
  {
   "cell_type": "code",
   "execution_count": null,
   "metadata": {},
   "outputs": [],
   "source": [
    "data = data.query('date >= \"2019-08-01\"')"
   ]
  },
  {
   "cell_type": "code",
   "execution_count": null,
   "metadata": {
    "scrolled": false
   },
   "outputs": [],
   "source": [
    "data['event_timestamp'].hist(bins=8, figsize=(14, 7));"
   ]
  },
  {
   "cell_type": "markdown",
   "metadata": {},
   "source": [
    "Теперь данные для исследования распределены равномерно. "
   ]
  },
  {
   "cell_type": "code",
   "execution_count": null,
   "metadata": {},
   "outputs": [],
   "source": [
    "print('Минимальная дата', data.event_timestamp.min())"
   ]
  },
  {
   "cell_type": "code",
   "execution_count": null,
   "metadata": {},
   "outputs": [],
   "source": [
    "print('Максимальная дата', data.event_timestamp.max())"
   ]
  },
  {
   "cell_type": "markdown",
   "metadata": {},
   "source": [
    "Рассматриваемый период - 7 дней."
   ]
  },
  {
   "cell_type": "markdown",
   "metadata": {},
   "source": [
    "#### Очищение данных от \"событий из прошлого\""
   ]
  },
  {
   "cell_type": "markdown",
   "metadata": {},
   "source": [
    "Проверим, не попали ли в выбранный период события из прошлого - данные пользователей, которые посещали страницу до выбранного периода 2019-08-01. Для этого оставим только тех пользователей, действия которых начинаются с посещения главной страницы - **event_name = MainScreenAppear.**"
   ]
  },
  {
   "cell_type": "markdown",
   "metadata": {},
   "source": [
    "Создадим список id нужных пользователей, которые не были знакомы с приложением до даты эксперимента:"
   ]
  },
  {
   "cell_type": "code",
   "execution_count": null,
   "metadata": {},
   "outputs": [],
   "source": [
    "clean_users = data.loc[data['event_name'] == 'MainScreenAppear', 'id'].unique()\n",
    "len(clean_users)"
   ]
  },
  {
   "cell_type": "markdown",
   "metadata": {},
   "source": [
    "Удалим из датафрейма id пользователей, которые не входят в этот список:"
   ]
  },
  {
   "cell_type": "code",
   "execution_count": null,
   "metadata": {},
   "outputs": [],
   "source": [
    "data = data[data['id'].isin(clean_users)]"
   ]
  },
  {
   "cell_type": "markdown",
   "metadata": {},
   "source": [
    "Обновим количество событий после корректировки даты и пользователей:"
   ]
  },
  {
   "cell_type": "code",
   "execution_count": null,
   "metadata": {},
   "outputs": [],
   "source": [
    "clean_events = data.shape[0]\n",
    "clean_events"
   ]
  },
  {
   "cell_type": "code",
   "execution_count": null,
   "metadata": {},
   "outputs": [],
   "source": [
    "print('Мы удалили не более', round(100 - ((len(clean_users) / all_users) * 100), 1), '% пользователей.')"
   ]
  },
  {
   "cell_type": "code",
   "execution_count": null,
   "metadata": {},
   "outputs": [],
   "source": [
    "print('Мы удалили не более', round(100 - ((clean_events / total_events) * 100), 1), '% событий.')"
   ]
  },
  {
   "cell_type": "markdown",
   "metadata": {},
   "source": [
    "Проверим также повторяются ли пользователи в других группах:"
   ]
  },
  {
   "cell_type": "code",
   "execution_count": null,
   "metadata": {},
   "outputs": [],
   "source": [
    "data.groupby('id').agg({'exp_id' : 'nunique'}).query('exp_id > 1')"
   ]
  },
  {
   "cell_type": "markdown",
   "metadata": {},
   "source": [
    "Пользователи во всех группах уникальные."
   ]
  },
  {
   "cell_type": "code",
   "execution_count": null,
   "metadata": {},
   "outputs": [],
   "source": [
    "# Код ревьюера\n",
    "# Проверим пользователей, которые могли участвовать в двух или нескольких группах одновременно:\n",
    "data.groupby('id').agg({'exp_id':'nunique'}).query('exp_id > 1') "
   ]
  },
  {
   "cell_type": "markdown",
   "metadata": {},
   "source": [
    "#### Данные о пользователях по трём группам"
   ]
  },
  {
   "cell_type": "markdown",
   "metadata": {},
   "source": [
    "Проверим, что у нас есть пользователи из всех трёх экспериментальных групп:"
   ]
  },
  {
   "cell_type": "code",
   "execution_count": null,
   "metadata": {},
   "outputs": [],
   "source": [
    "data.groupby('exp_id', as_index=False)['id'].nunique()"
   ]
  },
  {
   "cell_type": "markdown",
   "metadata": {},
   "source": [
    "У нас есть примерно одинаковое количество пользователей в трёх группах."
   ]
  },
  {
   "cell_type": "code",
   "execution_count": null,
   "metadata": {},
   "outputs": [],
   "source": [
    "data['exp_id'].value_counts()"
   ]
  },
  {
   "cell_type": "markdown",
   "metadata": {},
   "source": [
    "Количество событий в группах также примерно одинаковое."
   ]
  },
  {
   "cell_type": "markdown",
   "metadata": {},
   "source": [
    "### Воронка событий"
   ]
  },
  {
   "cell_type": "code",
   "execution_count": null,
   "metadata": {},
   "outputs": [],
   "source": [
    "data.event_name.value_counts()"
   ]
  },
  {
   "cell_type": "markdown",
   "metadata": {},
   "source": [
    "Изучим воронку событий: наиболее частое событие - просмотр главного экрана **MainScreenAppear**, это логично, ведь это самое первое действие пользователя. Далее пользователь знакомится с предложением **OffersScreenAppear**, добавляет его в корзину **CartScreenAppear** и оплачивает **PaymentScreenSuccessful**. Руководство по пользованию приложением **Tutorial** нужно далеко не всем, пользователь может заглянуть в него в любое время или не посмотреть вообще.  "
   ]
  },
  {
   "cell_type": "markdown",
   "metadata": {},
   "source": [
    "Исключим событие **Tutorial** в дальнейших исследованиях."
   ]
  },
  {
   "cell_type": "code",
   "execution_count": null,
   "metadata": {},
   "outputs": [],
   "source": [
    "data = data.query('event_name != \"Tutorial\"')"
   ]
  },
  {
   "cell_type": "markdown",
   "metadata": {},
   "source": [
    "Посчитаем, сколько пользователей совершали каждое событие и их долю.  \n",
    "А также, какая доля пользователей проходит на следующий шаг воронки по отношению к предыдущему шагу:"
   ]
  },
  {
   "cell_type": "code",
   "execution_count": null,
   "metadata": {
    "scrolled": true
   },
   "outputs": [],
   "source": [
    "all_events = data.groupby('event_name', as_index=False).agg({'id' : 'nunique'}).sort_values(by='id', ascending=False)\n",
    "all_events['share_%'] = (all_events['id'] / all_events.loc[1, 'id']).round(2) * 100\n",
    "all_events['share_next_%'] = (((all_events['id'] / all_events['id'].shift(1)).round(2) * 100) - 100).abs()\n",
    "all_events"
   ]
  },
  {
   "cell_type": "code",
   "execution_count": null,
   "metadata": {},
   "outputs": [],
   "source": [
    "x = list(all_events['id'])\n",
    "y = list(all_events['event_name'])\n",
    "fig = px.funnel(all_events, x=x, y=y)\n",
    "fig.update_layout(title=\"Воронка конверсии (по пользователям)\")\n",
    "fig.show()"
   ]
  },
  {
   "cell_type": "markdown",
   "metadata": {},
   "source": [
    "Больше всего пользователей теряется на втором шаге - переход с главного экрана **MainScreenAppear** на экран предложения **OffersScreenAppear**."
   ]
  },
  {
   "cell_type": "markdown",
   "metadata": {},
   "source": [
    "**48%** пользователей доходит от первого события до оплаты."
   ]
  },
  {
   "cell_type": "markdown",
   "metadata": {},
   "source": [
    "### Результаты A/A/B - эксперимента"
   ]
  },
  {
   "cell_type": "markdown",
   "metadata": {},
   "source": [
    "Количество пользователей в каждой группе:"
   ]
  },
  {
   "cell_type": "code",
   "execution_count": 37,
   "metadata": {},
   "outputs": [
    {
     "data": {
      "text/html": [
       "<div>\n",
       "<style scoped>\n",
       "    .dataframe tbody tr th:only-of-type {\n",
       "        vertical-align: middle;\n",
       "    }\n",
       "\n",
       "    .dataframe tbody tr th {\n",
       "        vertical-align: top;\n",
       "    }\n",
       "\n",
       "    .dataframe thead th {\n",
       "        text-align: right;\n",
       "    }\n",
       "</style>\n",
       "<table border=\"1\" class=\"dataframe\">\n",
       "  <thead>\n",
       "    <tr style=\"text-align: right;\">\n",
       "      <th></th>\n",
       "      <th>exp_id</th>\n",
       "      <th>id</th>\n",
       "    </tr>\n",
       "  </thead>\n",
       "  <tbody>\n",
       "    <tr>\n",
       "      <th>0</th>\n",
       "      <td>246</td>\n",
       "      <td>2450</td>\n",
       "    </tr>\n",
       "    <tr>\n",
       "      <th>1</th>\n",
       "      <td>247</td>\n",
       "      <td>2476</td>\n",
       "    </tr>\n",
       "    <tr>\n",
       "      <th>2</th>\n",
       "      <td>248</td>\n",
       "      <td>2493</td>\n",
       "    </tr>\n",
       "  </tbody>\n",
       "</table>\n",
       "</div>"
      ],
      "text/plain": [
       "   exp_id    id\n",
       "0     246  2450\n",
       "1     247  2476\n",
       "2     248  2493"
      ]
     },
     "execution_count": 37,
     "metadata": {},
     "output_type": "execute_result"
    }
   ],
   "source": [
    "data.groupby('exp_id', as_index=False)['id'].nunique()"
   ]
  },
  {
   "cell_type": "markdown",
   "metadata": {},
   "source": [
    "Разделим данные по трём группам:"
   ]
  },
  {
   "cell_type": "code",
   "execution_count": 38,
   "metadata": {},
   "outputs": [],
   "source": [
    "dt_246 = data.query('exp_id == 246')\n",
    "dt_247 = data.query('exp_id == 247')\n",
    "dt_248 = data.query('exp_id == 248')"
   ]
  },
  {
   "cell_type": "markdown",
   "metadata": {},
   "source": [
    "Посмотрим на соотношение событий в каждой группе:"
   ]
  },
  {
   "cell_type": "code",
   "execution_count": 39,
   "metadata": {},
   "outputs": [
    {
     "data": {
      "text/html": [
       "<div>\n",
       "<style scoped>\n",
       "    .dataframe tbody tr th:only-of-type {\n",
       "        vertical-align: middle;\n",
       "    }\n",
       "\n",
       "    .dataframe tbody tr th {\n",
       "        vertical-align: top;\n",
       "    }\n",
       "\n",
       "    .dataframe thead th {\n",
       "        text-align: right;\n",
       "    }\n",
       "</style>\n",
       "<table border=\"1\" class=\"dataframe\">\n",
       "  <thead>\n",
       "    <tr style=\"text-align: right;\">\n",
       "      <th></th>\n",
       "      <th>event_name</th>\n",
       "      <th>id</th>\n",
       "    </tr>\n",
       "  </thead>\n",
       "  <tbody>\n",
       "    <tr>\n",
       "      <th>0</th>\n",
       "      <td>MainScreenAppear</td>\n",
       "      <td>2450</td>\n",
       "    </tr>\n",
       "    <tr>\n",
       "      <th>1</th>\n",
       "      <td>OffersScreenAppear</td>\n",
       "      <td>1509</td>\n",
       "    </tr>\n",
       "    <tr>\n",
       "      <th>2</th>\n",
       "      <td>CartScreenAppear</td>\n",
       "      <td>1236</td>\n",
       "    </tr>\n",
       "    <tr>\n",
       "      <th>3</th>\n",
       "      <td>PaymentScreenSuccessful</td>\n",
       "      <td>1170</td>\n",
       "    </tr>\n",
       "  </tbody>\n",
       "</table>\n",
       "</div>"
      ],
      "text/plain": [
       "                event_name    id\n",
       "0         MainScreenAppear  2450\n",
       "1       OffersScreenAppear  1509\n",
       "2         CartScreenAppear  1236\n",
       "3  PaymentScreenSuccessful  1170"
      ]
     },
     "execution_count": 39,
     "metadata": {},
     "output_type": "execute_result"
    }
   ],
   "source": [
    "d_246 = dt_246.groupby('event_name', as_index=False).agg({'id' : 'nunique'}).sort_values(by='id', ascending=False)\n",
    "d_246.reset_index(drop= True , inplace= True )\n",
    "d_246"
   ]
  },
  {
   "cell_type": "code",
   "execution_count": 40,
   "metadata": {
    "scrolled": true
   },
   "outputs": [
    {
     "data": {
      "text/html": [
       "<div>\n",
       "<style scoped>\n",
       "    .dataframe tbody tr th:only-of-type {\n",
       "        vertical-align: middle;\n",
       "    }\n",
       "\n",
       "    .dataframe tbody tr th {\n",
       "        vertical-align: top;\n",
       "    }\n",
       "\n",
       "    .dataframe thead th {\n",
       "        text-align: right;\n",
       "    }\n",
       "</style>\n",
       "<table border=\"1\" class=\"dataframe\">\n",
       "  <thead>\n",
       "    <tr style=\"text-align: right;\">\n",
       "      <th></th>\n",
       "      <th>event_name</th>\n",
       "      <th>id</th>\n",
       "    </tr>\n",
       "  </thead>\n",
       "  <tbody>\n",
       "    <tr>\n",
       "      <th>0</th>\n",
       "      <td>MainScreenAppear</td>\n",
       "      <td>2476</td>\n",
       "    </tr>\n",
       "    <tr>\n",
       "      <th>1</th>\n",
       "      <td>OffersScreenAppear</td>\n",
       "      <td>1484</td>\n",
       "    </tr>\n",
       "    <tr>\n",
       "      <th>2</th>\n",
       "      <td>CartScreenAppear</td>\n",
       "      <td>1207</td>\n",
       "    </tr>\n",
       "    <tr>\n",
       "      <th>3</th>\n",
       "      <td>PaymentScreenSuccessful</td>\n",
       "      <td>1128</td>\n",
       "    </tr>\n",
       "  </tbody>\n",
       "</table>\n",
       "</div>"
      ],
      "text/plain": [
       "                event_name    id\n",
       "0         MainScreenAppear  2476\n",
       "1       OffersScreenAppear  1484\n",
       "2         CartScreenAppear  1207\n",
       "3  PaymentScreenSuccessful  1128"
      ]
     },
     "execution_count": 40,
     "metadata": {},
     "output_type": "execute_result"
    }
   ],
   "source": [
    "d_247 = dt_247.groupby('event_name', as_index=False).agg({'id' : 'nunique'}).sort_values(by='id', ascending=False)\n",
    "d_247.reset_index(drop= True , inplace= True )\n",
    "d_247"
   ]
  },
  {
   "cell_type": "code",
   "execution_count": 41,
   "metadata": {},
   "outputs": [
    {
     "data": {
      "text/plain": [
       "array(['MainScreenAppear', 'OffersScreenAppear', 'CartScreenAppear',\n",
       "       'PaymentScreenSuccessful'], dtype=object)"
      ]
     },
     "execution_count": 41,
     "metadata": {},
     "output_type": "execute_result"
    }
   ],
   "source": [
    "event = data['event_name'].unique()\n",
    "event"
   ]
  },
  {
   "cell_type": "markdown",
   "metadata": {},
   "source": [
    "#### A/A-эксперимент - проверка статистической значимости"
   ]
  },
  {
   "cell_type": "markdown",
   "metadata": {},
   "source": [
    "Проверим статистические различия между группами А и А. Используем z-тест для определения различий в долях."
   ]
  },
  {
   "cell_type": "markdown",
   "metadata": {},
   "source": [
    "Создадим функцию для быстрого проведения z-теста по всем группам:"
   ]
  },
  {
   "cell_type": "code",
   "execution_count": 42,
   "metadata": {},
   "outputs": [],
   "source": [
    "def z_test(a1, a2, event, alpha, n):\n",
    "    # критический уровень статистической значимости\n",
    "    alpha = alpha / n \n",
    "    # уникальные пользователи совершившие определенное событие в группе А1 и А2\n",
    "    success = np.array([data.query('event_name == @event and exp_id == @a1').id.nunique(), \n",
    "                        data.query('event_name == @event and exp_id == @a2').id.nunique()])\n",
    "    # всего число уникальных пользователей в группе А1 и А2\n",
    "    users = np.array([data.query('exp_id == @a1').id.nunique(),\n",
    "                      data.query('exp_id == @a2').id.nunique()])\n",
    "\n",
    "    # пропорция успехов в группах:\n",
    "    p1 = success[0]/users[0]\n",
    "    p2 = success[1]/users[1]\n",
    "\n",
    "    # пропорция успехов в комбинированном датасете:\n",
    "    p_combined = (success[0] + success[1]) / (users[0] + users[1])\n",
    "\n",
    "    # разница пропорций в датасетах\n",
    "    difference = p1 - p2\n",
    "    \n",
    "    # считаем статистику в ст.отклонениях стандартного нормального распределения\n",
    "    z_value = difference / mth.sqrt(p_combined * (1 - p_combined) * (1/users[0] + 1/users[1]))\n",
    "\n",
    "    # задаем стандартное нормальное распределение (среднее 0, ст.отклонение 1)\n",
    "    distr = st.norm(0, 1) \n",
    "    \n",
    "    # двусторонний тест\n",
    "    p_value = (1 - distr.cdf(abs(z_value))) * 2\n",
    "\n",
    "    print('\\033[1m' + 'Событие:', event + '\\033[0m')\n",
    "    print('p-значение:', (p_value).round(3))\n",
    "\n",
    "    if p_value < alpha:\n",
    "        print('Отвергаем нулевую гипотезу: между долями есть значимая разница')\n",
    "    else:\n",
    "        print('Не получилось отвергнуть нулевую гипотезу, нет оснований считать доли разными')"
   ]
  },
  {
   "cell_type": "code",
   "execution_count": 43,
   "metadata": {
    "scrolled": false
   },
   "outputs": [
    {
     "name": "stdout",
     "output_type": "stream",
     "text": [
      "\u001b[1mСобытие: MainScreenAppear\u001b[0m\n",
      "p-значение: nan\n",
      "Не получилось отвергнуть нулевую гипотезу, нет оснований считать доли разными\n",
      "\n",
      "\u001b[1mСобытие: OffersScreenAppear\u001b[0m\n",
      "p-значение: 0.234\n",
      "Не получилось отвергнуть нулевую гипотезу, нет оснований считать доли разными\n",
      "\n",
      "\u001b[1mСобытие: CartScreenAppear\u001b[0m\n",
      "p-значение: 0.233\n",
      "Не получилось отвергнуть нулевую гипотезу, нет оснований считать доли разными\n",
      "\n",
      "\u001b[1mСобытие: PaymentScreenSuccessful\u001b[0m\n",
      "p-значение: 0.122\n",
      "Не получилось отвергнуть нулевую гипотезу, нет оснований считать доли разными\n",
      "\n"
     ]
    }
   ],
   "source": [
    "for event in ['MainScreenAppear', 'OffersScreenAppear', 'CartScreenAppear', 'PaymentScreenSuccessful']:\n",
    "    z_test(246, 247, event, 0.05, 16)\n",
    "    print()"
   ]
  },
  {
   "cell_type": "markdown",
   "metadata": {},
   "source": [
    "Комментарий: поскольку мы очистили данные от старых пользователей, мы имеем 100% посещаемость главной страницы. Поэтому разницы в первом событии здесь и далее не будет."
   ]
  },
  {
   "cell_type": "markdown",
   "metadata": {
    "scrolled": true
   },
   "source": [
    "Контрольные группы А и А не имеют статистически значимых различий между долями, а значит механизм распределения данных по группам работает корректно и мы можем уверенно опираться на эти данные в дальнейшем сравнении с группой В."
   ]
  },
  {
   "cell_type": "markdown",
   "metadata": {},
   "source": [
    "#### Самое популярное событие, число и доля пользователей."
   ]
  },
  {
   "cell_type": "code",
   "execution_count": 44,
   "metadata": {},
   "outputs": [
    {
     "data": {
      "text/html": [
       "<div>\n",
       "<style scoped>\n",
       "    .dataframe tbody tr th:only-of-type {\n",
       "        vertical-align: middle;\n",
       "    }\n",
       "\n",
       "    .dataframe tbody tr th {\n",
       "        vertical-align: top;\n",
       "    }\n",
       "\n",
       "    .dataframe thead th {\n",
       "        text-align: right;\n",
       "    }\n",
       "</style>\n",
       "<table border=\"1\" class=\"dataframe\">\n",
       "  <thead>\n",
       "    <tr style=\"text-align: right;\">\n",
       "      <th></th>\n",
       "      <th>event_name</th>\n",
       "      <th>event_246</th>\n",
       "    </tr>\n",
       "  </thead>\n",
       "  <tbody>\n",
       "    <tr>\n",
       "      <th>0</th>\n",
       "      <td>MainScreenAppear</td>\n",
       "      <td>37676</td>\n",
       "    </tr>\n",
       "    <tr>\n",
       "      <th>1</th>\n",
       "      <td>OffersScreenAppear</td>\n",
       "      <td>14488</td>\n",
       "    </tr>\n",
       "    <tr>\n",
       "      <th>2</th>\n",
       "      <td>CartScreenAppear</td>\n",
       "      <td>14413</td>\n",
       "    </tr>\n",
       "    <tr>\n",
       "      <th>3</th>\n",
       "      <td>PaymentScreenSuccessful</td>\n",
       "      <td>11603</td>\n",
       "    </tr>\n",
       "  </tbody>\n",
       "</table>\n",
       "</div>"
      ],
      "text/plain": [
       "                event_name  event_246\n",
       "0         MainScreenAppear      37676\n",
       "1       OffersScreenAppear      14488\n",
       "2         CartScreenAppear      14413\n",
       "3  PaymentScreenSuccessful      11603"
      ]
     },
     "execution_count": 44,
     "metadata": {},
     "output_type": "execute_result"
    }
   ],
   "source": [
    "event_246 = dt_246.groupby('event_name', as_index=False).agg({'id' : 'count'}).sort_values(by='id', ascending=False)\n",
    "event_246.reset_index(drop= True , inplace= True )\n",
    "event_246.columns = ['event_name', 'event_246']\n",
    "event_246"
   ]
  },
  {
   "cell_type": "code",
   "execution_count": 45,
   "metadata": {
    "scrolled": true
   },
   "outputs": [
    {
     "data": {
      "text/html": [
       "<div>\n",
       "<style scoped>\n",
       "    .dataframe tbody tr th:only-of-type {\n",
       "        vertical-align: middle;\n",
       "    }\n",
       "\n",
       "    .dataframe tbody tr th {\n",
       "        vertical-align: top;\n",
       "    }\n",
       "\n",
       "    .dataframe thead th {\n",
       "        text-align: right;\n",
       "    }\n",
       "</style>\n",
       "<table border=\"1\" class=\"dataframe\">\n",
       "  <thead>\n",
       "    <tr style=\"text-align: right;\">\n",
       "      <th></th>\n",
       "      <th>event_name</th>\n",
       "      <th>event_247</th>\n",
       "    </tr>\n",
       "  </thead>\n",
       "  <tbody>\n",
       "    <tr>\n",
       "      <th>0</th>\n",
       "      <td>MainScreenAppear</td>\n",
       "      <td>39090</td>\n",
       "    </tr>\n",
       "    <tr>\n",
       "      <th>1</th>\n",
       "      <td>OffersScreenAppear</td>\n",
       "      <td>14845</td>\n",
       "    </tr>\n",
       "    <tr>\n",
       "      <th>2</th>\n",
       "      <td>CartScreenAppear</td>\n",
       "      <td>12132</td>\n",
       "    </tr>\n",
       "    <tr>\n",
       "      <th>3</th>\n",
       "      <td>PaymentScreenSuccessful</td>\n",
       "      <td>9746</td>\n",
       "    </tr>\n",
       "  </tbody>\n",
       "</table>\n",
       "</div>"
      ],
      "text/plain": [
       "                event_name  event_247\n",
       "0         MainScreenAppear      39090\n",
       "1       OffersScreenAppear      14845\n",
       "2         CartScreenAppear      12132\n",
       "3  PaymentScreenSuccessful       9746"
      ]
     },
     "execution_count": 45,
     "metadata": {},
     "output_type": "execute_result"
    }
   ],
   "source": [
    "event_247 = dt_247.groupby('event_name', as_index=False).agg({'id' : 'count'}).sort_values(by='id', ascending=False)\n",
    "event_247.reset_index(drop= True , inplace= True )\n",
    "event_247.columns = ['event_name', 'event_247']\n",
    "event_247"
   ]
  },
  {
   "cell_type": "markdown",
   "metadata": {},
   "source": [
    "Самое популярное событие в обеих группах - это просмотр главного экрана **MainScreenAppear**."
   ]
  },
  {
   "cell_type": "markdown",
   "metadata": {},
   "source": [
    "Добавим в таблицы количество уникальных пользователей, совершивших каждое действие и их долю от общего числа:"
   ]
  },
  {
   "cell_type": "code",
   "execution_count": 46,
   "metadata": {},
   "outputs": [
    {
     "data": {
      "text/html": [
       "<div>\n",
       "<style scoped>\n",
       "    .dataframe tbody tr th:only-of-type {\n",
       "        vertical-align: middle;\n",
       "    }\n",
       "\n",
       "    .dataframe tbody tr th {\n",
       "        vertical-align: top;\n",
       "    }\n",
       "\n",
       "    .dataframe thead th {\n",
       "        text-align: right;\n",
       "    }\n",
       "</style>\n",
       "<table border=\"1\" class=\"dataframe\">\n",
       "  <thead>\n",
       "    <tr style=\"text-align: right;\">\n",
       "      <th></th>\n",
       "      <th>event_name</th>\n",
       "      <th>event_246</th>\n",
       "      <th>uniq_users</th>\n",
       "      <th>share_%</th>\n",
       "    </tr>\n",
       "  </thead>\n",
       "  <tbody>\n",
       "    <tr>\n",
       "      <th>0</th>\n",
       "      <td>MainScreenAppear</td>\n",
       "      <td>37676</td>\n",
       "      <td>2450</td>\n",
       "      <td>100.0</td>\n",
       "    </tr>\n",
       "    <tr>\n",
       "      <th>1</th>\n",
       "      <td>OffersScreenAppear</td>\n",
       "      <td>14488</td>\n",
       "      <td>1509</td>\n",
       "      <td>62.0</td>\n",
       "    </tr>\n",
       "    <tr>\n",
       "      <th>2</th>\n",
       "      <td>CartScreenAppear</td>\n",
       "      <td>14413</td>\n",
       "      <td>1236</td>\n",
       "      <td>50.0</td>\n",
       "    </tr>\n",
       "    <tr>\n",
       "      <th>3</th>\n",
       "      <td>PaymentScreenSuccessful</td>\n",
       "      <td>11603</td>\n",
       "      <td>1170</td>\n",
       "      <td>48.0</td>\n",
       "    </tr>\n",
       "  </tbody>\n",
       "</table>\n",
       "</div>"
      ],
      "text/plain": [
       "                event_name  event_246  uniq_users  share_%\n",
       "0         MainScreenAppear      37676        2450    100.0\n",
       "1       OffersScreenAppear      14488        1509     62.0\n",
       "2         CartScreenAppear      14413        1236     50.0\n",
       "3  PaymentScreenSuccessful      11603        1170     48.0"
      ]
     },
     "execution_count": 46,
     "metadata": {},
     "output_type": "execute_result"
    }
   ],
   "source": [
    "users_246 = dt_246.groupby('event_name', as_index=False).agg({'id' : 'nunique'}).sort_values(by='id', ascending=False)\n",
    "users_246.reset_index(drop= True , inplace= True )\n",
    "event_246['uniq_users'] = users_246['id']\n",
    "event_246['share_%'] = (event_246['uniq_users'] / event_246.loc[0, 'uniq_users']).round(2) * 100\n",
    "event_246"
   ]
  },
  {
   "cell_type": "code",
   "execution_count": 47,
   "metadata": {},
   "outputs": [
    {
     "data": {
      "text/html": [
       "<div>\n",
       "<style scoped>\n",
       "    .dataframe tbody tr th:only-of-type {\n",
       "        vertical-align: middle;\n",
       "    }\n",
       "\n",
       "    .dataframe tbody tr th {\n",
       "        vertical-align: top;\n",
       "    }\n",
       "\n",
       "    .dataframe thead th {\n",
       "        text-align: right;\n",
       "    }\n",
       "</style>\n",
       "<table border=\"1\" class=\"dataframe\">\n",
       "  <thead>\n",
       "    <tr style=\"text-align: right;\">\n",
       "      <th></th>\n",
       "      <th>event_name</th>\n",
       "      <th>event_247</th>\n",
       "      <th>uniq_users</th>\n",
       "      <th>share_%</th>\n",
       "    </tr>\n",
       "  </thead>\n",
       "  <tbody>\n",
       "    <tr>\n",
       "      <th>0</th>\n",
       "      <td>MainScreenAppear</td>\n",
       "      <td>39090</td>\n",
       "      <td>2476</td>\n",
       "      <td>100.0</td>\n",
       "    </tr>\n",
       "    <tr>\n",
       "      <th>1</th>\n",
       "      <td>OffersScreenAppear</td>\n",
       "      <td>14845</td>\n",
       "      <td>1484</td>\n",
       "      <td>60.0</td>\n",
       "    </tr>\n",
       "    <tr>\n",
       "      <th>2</th>\n",
       "      <td>CartScreenAppear</td>\n",
       "      <td>12132</td>\n",
       "      <td>1207</td>\n",
       "      <td>49.0</td>\n",
       "    </tr>\n",
       "    <tr>\n",
       "      <th>3</th>\n",
       "      <td>PaymentScreenSuccessful</td>\n",
       "      <td>9746</td>\n",
       "      <td>1128</td>\n",
       "      <td>46.0</td>\n",
       "    </tr>\n",
       "  </tbody>\n",
       "</table>\n",
       "</div>"
      ],
      "text/plain": [
       "                event_name  event_247  uniq_users  share_%\n",
       "0         MainScreenAppear      39090        2476    100.0\n",
       "1       OffersScreenAppear      14845        1484     60.0\n",
       "2         CartScreenAppear      12132        1207     49.0\n",
       "3  PaymentScreenSuccessful       9746        1128     46.0"
      ]
     },
     "execution_count": 47,
     "metadata": {},
     "output_type": "execute_result"
    }
   ],
   "source": [
    "users_247 = dt_247.groupby('event_name', as_index=False).agg({'id' : 'nunique'}).sort_values(by='id', ascending=False)\n",
    "users_247.reset_index(drop= True , inplace= True )\n",
    "event_247['uniq_users'] = users_247['id']\n",
    "event_247['share_%'] = (event_247['uniq_users'] / event_247.loc[0, 'uniq_users']).round(2) * 100\n",
    "event_247"
   ]
  },
  {
   "cell_type": "markdown",
   "metadata": {},
   "source": [
    "#### A/В - эксперимент"
   ]
  },
  {
   "cell_type": "markdown",
   "metadata": {},
   "source": [
    " Проверим с помощью z-теста есть ли статистически значимые различия между контрольными группами А/А и экспериментальной В:"
   ]
  },
  {
   "cell_type": "code",
   "execution_count": 48,
   "metadata": {
    "scrolled": false
   },
   "outputs": [
    {
     "name": "stdout",
     "output_type": "stream",
     "text": [
      "\u001b[1mСобытие: MainScreenAppear\u001b[0m\n",
      "p-значение: nan\n",
      "Не получилось отвергнуть нулевую гипотезу, нет оснований считать доли разными\n",
      "\n",
      "\u001b[1mСобытие: OffersScreenAppear\u001b[0m\n",
      "p-значение: 0.18\n",
      "Не получилось отвергнуть нулевую гипотезу, нет оснований считать доли разными\n",
      "\n",
      "\u001b[1mСобытие: CartScreenAppear\u001b[0m\n",
      "p-значение: 0.064\n",
      "Не получилось отвергнуть нулевую гипотезу, нет оснований считать доли разными\n",
      "\n",
      "\u001b[1mСобытие: PaymentScreenSuccessful\u001b[0m\n",
      "p-значение: 0.179\n",
      "Не получилось отвергнуть нулевую гипотезу, нет оснований считать доли разными\n",
      "\n"
     ]
    }
   ],
   "source": [
    "for event in ['MainScreenAppear', 'OffersScreenAppear', 'CartScreenAppear', 'PaymentScreenSuccessful']:\n",
    "    z_test(246, 248, event, 0.05, 16)\n",
    "    print()"
   ]
  },
  {
   "cell_type": "markdown",
   "metadata": {},
   "source": [
    "Статистически значимой разницы между группами А (246) и В нет."
   ]
  },
  {
   "cell_type": "code",
   "execution_count": 49,
   "metadata": {
    "scrolled": true
   },
   "outputs": [
    {
     "name": "stdout",
     "output_type": "stream",
     "text": [
      "\u001b[1mСобытие: MainScreenAppear\u001b[0m\n",
      "p-значение: nan\n",
      "Не получилось отвергнуть нулевую гипотезу, нет оснований считать доли разными\n",
      "\n",
      "\u001b[1mСобытие: OffersScreenAppear\u001b[0m\n",
      "p-значение: 0.881\n",
      "Не получилось отвергнуть нулевую гипотезу, нет оснований считать доли разными\n",
      "\n",
      "\u001b[1mСобытие: CartScreenAppear\u001b[0m\n",
      "p-значение: 0.51\n",
      "Не получилось отвергнуть нулевую гипотезу, нет оснований считать доли разными\n",
      "\n",
      "\u001b[1mСобытие: PaymentScreenSuccessful\u001b[0m\n",
      "p-значение: 0.837\n",
      "Не получилось отвергнуть нулевую гипотезу, нет оснований считать доли разными\n",
      "\n"
     ]
    }
   ],
   "source": [
    "for event in ['MainScreenAppear', 'OffersScreenAppear', 'CartScreenAppear', 'PaymentScreenSuccessful']:\n",
    "    z_test(247, 248, event, 0.05, 16)\n",
    "    print()"
   ]
  },
  {
   "cell_type": "markdown",
   "metadata": {},
   "source": [
    "Статистически значимой разницы между группами А (247) и В нет."
   ]
  },
  {
   "cell_type": "markdown",
   "metadata": {},
   "source": [
    "Проверим также различия между обеими контрольными группами А+А и группой В. Объединим контрольные группы в один датафрейм:"
   ]
  },
  {
   "cell_type": "code",
   "execution_count": 50,
   "metadata": {},
   "outputs": [
    {
     "data": {
      "text/html": [
       "<div>\n",
       "<style scoped>\n",
       "    .dataframe tbody tr th:only-of-type {\n",
       "        vertical-align: middle;\n",
       "    }\n",
       "\n",
       "    .dataframe tbody tr th {\n",
       "        vertical-align: top;\n",
       "    }\n",
       "\n",
       "    .dataframe thead th {\n",
       "        text-align: right;\n",
       "    }\n",
       "</style>\n",
       "<table border=\"1\" class=\"dataframe\">\n",
       "  <thead>\n",
       "    <tr style=\"text-align: right;\">\n",
       "      <th></th>\n",
       "      <th>event_name</th>\n",
       "      <th>id</th>\n",
       "      <th>event_timestamp</th>\n",
       "      <th>exp_id</th>\n",
       "      <th>date</th>\n",
       "    </tr>\n",
       "  </thead>\n",
       "  <tbody>\n",
       "    <tr>\n",
       "      <th>2829</th>\n",
       "      <td>MainScreenAppear</td>\n",
       "      <td>3737462046622621720</td>\n",
       "      <td>2019-08-01 00:08:00</td>\n",
       "      <td>249</td>\n",
       "      <td>2019-08-01</td>\n",
       "    </tr>\n",
       "    <tr>\n",
       "      <th>2830</th>\n",
       "      <td>MainScreenAppear</td>\n",
       "      <td>3737462046622621720</td>\n",
       "      <td>2019-08-01 00:08:55</td>\n",
       "      <td>249</td>\n",
       "      <td>2019-08-01</td>\n",
       "    </tr>\n",
       "    <tr>\n",
       "      <th>2831</th>\n",
       "      <td>OffersScreenAppear</td>\n",
       "      <td>3737462046622621720</td>\n",
       "      <td>2019-08-01 00:08:58</td>\n",
       "      <td>249</td>\n",
       "      <td>2019-08-01</td>\n",
       "    </tr>\n",
       "    <tr>\n",
       "      <th>2832</th>\n",
       "      <td>MainScreenAppear</td>\n",
       "      <td>1433840883824088890</td>\n",
       "      <td>2019-08-01 00:08:59</td>\n",
       "      <td>249</td>\n",
       "      <td>2019-08-01</td>\n",
       "    </tr>\n",
       "    <tr>\n",
       "      <th>2833</th>\n",
       "      <td>MainScreenAppear</td>\n",
       "      <td>4899590676214355127</td>\n",
       "      <td>2019-08-01 00:10:15</td>\n",
       "      <td>249</td>\n",
       "      <td>2019-08-01</td>\n",
       "    </tr>\n",
       "  </tbody>\n",
       "</table>\n",
       "</div>"
      ],
      "text/plain": [
       "              event_name                   id     event_timestamp  exp_id  \\\n",
       "2829    MainScreenAppear  3737462046622621720 2019-08-01 00:08:00     249   \n",
       "2830    MainScreenAppear  3737462046622621720 2019-08-01 00:08:55     249   \n",
       "2831  OffersScreenAppear  3737462046622621720 2019-08-01 00:08:58     249   \n",
       "2832    MainScreenAppear  1433840883824088890 2019-08-01 00:08:59     249   \n",
       "2833    MainScreenAppear  4899590676214355127 2019-08-01 00:10:15     249   \n",
       "\n",
       "           date  \n",
       "2829 2019-08-01  \n",
       "2830 2019-08-01  \n",
       "2831 2019-08-01  \n",
       "2832 2019-08-01  \n",
       "2833 2019-08-01  "
      ]
     },
     "execution_count": 50,
     "metadata": {},
     "output_type": "execute_result"
    }
   ],
   "source": [
    "dt_249 = data.query('exp_id == 246 or exp_id == 247')\n",
    "dt_249['exp_id'] = dt_249['exp_id'].map(lambda x: '249'.format(x)).astype(int)\n",
    "dt_249.head()"
   ]
  },
  {
   "cell_type": "code",
   "execution_count": 51,
   "metadata": {},
   "outputs": [
    {
     "data": {
      "text/plain": [
       "4926"
      ]
     },
     "execution_count": 51,
     "metadata": {},
     "output_type": "execute_result"
    }
   ],
   "source": [
    "dt_249.id.nunique()"
   ]
  },
  {
   "cell_type": "code",
   "execution_count": 52,
   "metadata": {
    "scrolled": true
   },
   "outputs": [
    {
     "data": {
      "text/html": [
       "<div>\n",
       "<style scoped>\n",
       "    .dataframe tbody tr th:only-of-type {\n",
       "        vertical-align: middle;\n",
       "    }\n",
       "\n",
       "    .dataframe tbody tr th {\n",
       "        vertical-align: top;\n",
       "    }\n",
       "\n",
       "    .dataframe thead th {\n",
       "        text-align: right;\n",
       "    }\n",
       "</style>\n",
       "<table border=\"1\" class=\"dataframe\">\n",
       "  <thead>\n",
       "    <tr style=\"text-align: right;\">\n",
       "      <th>exp_id</th>\n",
       "      <th>event_name</th>\n",
       "      <th>246</th>\n",
       "      <th>247</th>\n",
       "      <th>248</th>\n",
       "    </tr>\n",
       "  </thead>\n",
       "  <tbody>\n",
       "    <tr>\n",
       "      <th>0</th>\n",
       "      <td>MainScreenAppear</td>\n",
       "      <td>2450</td>\n",
       "      <td>2476</td>\n",
       "      <td>2493</td>\n",
       "    </tr>\n",
       "    <tr>\n",
       "      <th>1</th>\n",
       "      <td>OffersScreenAppear</td>\n",
       "      <td>1509</td>\n",
       "      <td>1484</td>\n",
       "      <td>1489</td>\n",
       "    </tr>\n",
       "    <tr>\n",
       "      <th>2</th>\n",
       "      <td>CartScreenAppear</td>\n",
       "      <td>1236</td>\n",
       "      <td>1207</td>\n",
       "      <td>1192</td>\n",
       "    </tr>\n",
       "    <tr>\n",
       "      <th>3</th>\n",
       "      <td>PaymentScreenSuccessful</td>\n",
       "      <td>1170</td>\n",
       "      <td>1128</td>\n",
       "      <td>1143</td>\n",
       "    </tr>\n",
       "  </tbody>\n",
       "</table>\n",
       "</div>"
      ],
      "text/plain": [
       "exp_id               event_name   246   247   248\n",
       "0              MainScreenAppear  2450  2476  2493\n",
       "1            OffersScreenAppear  1509  1484  1489\n",
       "2              CartScreenAppear  1236  1207  1192\n",
       "3       PaymentScreenSuccessful  1170  1128  1143"
      ]
     },
     "execution_count": 52,
     "metadata": {},
     "output_type": "execute_result"
    }
   ],
   "source": [
    "users_per_group = data.pivot_table(index='event_name', columns='exp_id', values='id', aggfunc='nunique')\n",
    "users_per_group = users_per_group.sort_values(by=246, ascending=False).reset_index()\n",
    "users_per_group"
   ]
  },
  {
   "cell_type": "code",
   "execution_count": 53,
   "metadata": {
    "scrolled": true
   },
   "outputs": [],
   "source": [
    "# Проведем АAВ тест, для этого подготовим данные - подсчитаем общее количество пользователей:\n",
    "#users_per_group_control = users_per_group.copy()\n",
    "#users_per_group_control.loc[247] += users_per_group_control.loc[246]\n",
    "#users_per_group_control.drop(246, inplace=True)\n",
    "#users_per_group_control"
   ]
  },
  {
   "cell_type": "code",
   "execution_count": 54,
   "metadata": {},
   "outputs": [],
   "source": [
    "def z_test_aa(a1, a2, event, alpha, n):\n",
    "    # критический уровень статистической значимости\n",
    "    alpha = alpha / n \n",
    "    # уникальные пользователи совершившие определенное событие в группе А1 и А2\n",
    "    success = np.array([dt_249.query('event_name == @event and exp_id == @a1').id.nunique(), \n",
    "                      data.query('event_name == @event and exp_id == @a2').id.nunique()])\n",
    "    # всего число уникальных пользователей в группе А1 и А2\n",
    "    users = np.array([dt_249.query('exp_id == @a1').id.nunique(),\n",
    "                      data.query('exp_id == @a2').id.nunique()])\n",
    "\n",
    "    # пропорция успехов в группах:\n",
    "    p1 = success[0]/users[0]\n",
    "    p2 = success[1]/users[1]\n",
    "\n",
    "    # пропорция успехов в комбинированном датасете:\n",
    "    p_combined = (success[0] + success[1]) / (users[0] + users[1])\n",
    "\n",
    "    # разница пропорций в датасетах\n",
    "    difference = p1 - p2\n",
    "    \n",
    "    # считаем статистику в ст.отклонениях стандартного нормального распределения\n",
    "    z_value = difference / np.sqrt(p_combined * (1 - p_combined) * (1/users[0] + 1/users[1]))\n",
    "\n",
    "    # задаем стандартное нормальное распределение (среднее 0, ст.отклонение 1)\n",
    "    distr = st.norm(0, 1) \n",
    "    \n",
    "    # двусторонний тест\n",
    "    p_value = (1 - distr.cdf(abs(z_value))) * 2\n",
    "\n",
    "    print('\\033[1m' + 'Событие:', event + '\\033[0m')\n",
    "    print('p-значение:', (p_value).round(3))\n",
    "\n",
    "    if p_value < alpha:\n",
    "        print('Отвергаем нулевую гипотезу: между долями есть значимая разница')\n",
    "    else:\n",
    "        print('Не получилось отвергнуть нулевую гипотезу, нет оснований считать доли разными')"
   ]
  },
  {
   "cell_type": "code",
   "execution_count": 55,
   "metadata": {
    "scrolled": true
   },
   "outputs": [
    {
     "name": "stdout",
     "output_type": "stream",
     "text": [
      "\u001b[1mСобытие: MainScreenAppear\u001b[0m\n",
      "p-значение: nan\n",
      "Не получилось отвергнуть нулевую гипотезу, нет оснований считать доли разными\n",
      "\n",
      "\u001b[1mСобытие: OffersScreenAppear\u001b[0m\n",
      "p-значение: 0.391\n",
      "Не получилось отвергнуть нулевую гипотезу, нет оснований считать доли разными\n",
      "\n",
      "\u001b[1mСобытие: CartScreenAppear\u001b[0m\n",
      "p-значение: 0.147\n",
      "Не получилось отвергнуть нулевую гипотезу, нет оснований считать доли разными\n",
      "\n",
      "\u001b[1mСобытие: PaymentScreenSuccessful\u001b[0m\n",
      "p-значение: 0.513\n",
      "Не получилось отвергнуть нулевую гипотезу, нет оснований считать доли разными\n",
      "\n"
     ]
    }
   ],
   "source": [
    "for event in ['MainScreenAppear', 'OffersScreenAppear', 'CartScreenAppear', 'PaymentScreenSuccessful']:\n",
    "    z_test_aa(249, 248, event, 0.05, 16)\n",
    "    print()"
   ]
  },
  {
   "cell_type": "markdown",
   "metadata": {},
   "source": [
    "Статистически значимой разницы между объединенной контрольной группой А (246 + 247) и В нет."
   ]
  },
  {
   "cell_type": "markdown",
   "metadata": {},
   "source": [
    "Исходя из всех проведенных исследований мы с уверенностью можем сказать, что нет статистичеки значимого влияния новых шрифтов на приложение - новые шрифты не лучше и не хуже старых."
   ]
  },
  {
   "cell_type": "markdown",
   "metadata": {},
   "source": [
    "#### уровень значимости"
   ]
  },
  {
   "cell_type": "markdown",
   "metadata": {},
   "source": [
    "- Для проверки статистических гипотез был выбран уровень статистической значимости 0.05 и была применена поправка Бонферрони\n",
    "- Всего было сделано 16 проверок статистических гипотез"
   ]
  }
 ],
 "metadata": {
  "ExecuteTimeLog": [
   {
    "duration": 1240,
    "start_time": "2023-01-23T19:04:50.260Z"
   },
   {
    "duration": 48,
    "start_time": "2023-01-23T19:11:32.688Z"
   },
   {
    "duration": 3,
    "start_time": "2023-01-23T19:12:21.492Z"
   },
   {
    "duration": 567,
    "start_time": "2023-01-23T19:12:21.922Z"
   },
   {
    "duration": 23,
    "start_time": "2023-01-23T19:16:13.248Z"
   },
   {
    "duration": 20,
    "start_time": "2023-01-23T19:17:14.376Z"
   },
   {
    "duration": 7,
    "start_time": "2023-01-23T19:30:47.128Z"
   },
   {
    "duration": 165,
    "start_time": "2023-01-23T19:32:49.927Z"
   },
   {
    "duration": 16,
    "start_time": "2023-01-23T19:33:08.052Z"
   },
   {
    "duration": 196,
    "start_time": "2023-01-23T19:33:20.377Z"
   },
   {
    "duration": 161,
    "start_time": "2023-01-23T19:33:23.877Z"
   },
   {
    "duration": 25,
    "start_time": "2023-01-23T19:33:43.911Z"
   },
   {
    "duration": 38,
    "start_time": "2023-01-23T19:40:31.749Z"
   },
   {
    "duration": 30,
    "start_time": "2023-01-23T19:40:42.636Z"
   },
   {
    "duration": 14,
    "start_time": "2023-01-23T19:41:03.237Z"
   },
   {
    "duration": 15,
    "start_time": "2023-01-23T19:41:25.791Z"
   },
   {
    "duration": 14,
    "start_time": "2023-01-23T19:42:50.098Z"
   },
   {
    "duration": 64,
    "start_time": "2023-01-23T19:43:21.032Z"
   },
   {
    "duration": 59,
    "start_time": "2023-01-23T19:45:15.177Z"
   },
   {
    "duration": 58,
    "start_time": "2023-01-23T19:45:42.770Z"
   },
   {
    "duration": 55,
    "start_time": "2023-01-23T19:46:09.484Z"
   },
   {
    "duration": 59,
    "start_time": "2023-01-23T19:46:13.630Z"
   },
   {
    "duration": 62,
    "start_time": "2023-01-23T19:46:24.047Z"
   },
   {
    "duration": 106,
    "start_time": "2023-01-23T19:47:15.835Z"
   },
   {
    "duration": 66,
    "start_time": "2023-01-23T19:47:31.424Z"
   },
   {
    "duration": 12,
    "start_time": "2023-01-23T19:48:31.416Z"
   },
   {
    "duration": 12,
    "start_time": "2023-01-23T19:48:50.649Z"
   },
   {
    "duration": 860,
    "start_time": "2023-01-23T19:49:16.511Z"
   },
   {
    "duration": 6,
    "start_time": "2023-01-23T19:49:30.362Z"
   },
   {
    "duration": 6,
    "start_time": "2023-01-23T19:50:05.421Z"
   },
   {
    "duration": 6,
    "start_time": "2023-01-23T19:50:20.028Z"
   },
   {
    "duration": 57,
    "start_time": "2023-01-23T19:55:54.923Z"
   },
   {
    "duration": 78,
    "start_time": "2023-01-23T19:57:40.839Z"
   },
   {
    "duration": 71,
    "start_time": "2023-01-23T19:58:19.529Z"
   },
   {
    "duration": 51,
    "start_time": "2023-01-23T20:01:01.320Z"
   },
   {
    "duration": 70,
    "start_time": "2023-01-23T20:01:18.974Z"
   },
   {
    "duration": 50,
    "start_time": "2023-01-23T20:03:45.691Z"
   },
   {
    "duration": 63,
    "start_time": "2023-01-23T20:03:48.061Z"
   },
   {
    "duration": 83,
    "start_time": "2023-01-23T20:03:51.684Z"
   },
   {
    "duration": 91,
    "start_time": "2023-01-23T20:03:53.814Z"
   },
   {
    "duration": 107,
    "start_time": "2023-01-23T20:03:59.346Z"
   },
   {
    "duration": 9,
    "start_time": "2023-01-23T20:04:02.728Z"
   },
   {
    "duration": 76,
    "start_time": "2023-01-23T20:04:15.439Z"
   },
   {
    "duration": 87,
    "start_time": "2023-01-23T20:04:21.487Z"
   },
   {
    "duration": 83,
    "start_time": "2023-01-23T20:05:50.489Z"
   },
   {
    "duration": 13,
    "start_time": "2023-01-23T20:09:40.112Z"
   },
   {
    "duration": 13,
    "start_time": "2023-01-23T20:10:08.851Z"
   },
   {
    "duration": 9,
    "start_time": "2023-01-23T20:14:01.577Z"
   },
   {
    "duration": 6,
    "start_time": "2023-01-23T20:14:04.729Z"
   },
   {
    "duration": 8,
    "start_time": "2023-01-23T20:14:08.336Z"
   },
   {
    "duration": 7,
    "start_time": "2023-01-23T20:14:39.314Z"
   },
   {
    "duration": 12,
    "start_time": "2023-01-23T20:27:02.098Z"
   },
   {
    "duration": 20,
    "start_time": "2023-01-23T20:27:12.728Z"
   },
   {
    "duration": 21,
    "start_time": "2023-01-23T20:27:23.952Z"
   },
   {
    "duration": 19,
    "start_time": "2023-01-23T20:28:03.258Z"
   },
   {
    "duration": 18,
    "start_time": "2023-01-23T20:28:13.217Z"
   },
   {
    "duration": 20,
    "start_time": "2023-01-23T20:28:23.313Z"
   },
   {
    "duration": 21,
    "start_time": "2023-01-23T20:28:45.965Z"
   },
   {
    "duration": 23,
    "start_time": "2023-01-23T20:29:08.211Z"
   },
   {
    "duration": 20,
    "start_time": "2023-01-23T20:29:20.453Z"
   },
   {
    "duration": 27,
    "start_time": "2023-01-23T20:29:23.737Z"
   },
   {
    "duration": 20,
    "start_time": "2023-01-23T20:30:02.905Z"
   },
   {
    "duration": 21,
    "start_time": "2023-01-23T20:30:08.385Z"
   },
   {
    "duration": 20,
    "start_time": "2023-01-23T20:30:23.830Z"
   },
   {
    "duration": 72,
    "start_time": "2023-01-23T20:30:46.973Z"
   },
   {
    "duration": 27,
    "start_time": "2023-01-23T20:33:28.846Z"
   },
   {
    "duration": 33,
    "start_time": "2023-01-23T20:33:42.986Z"
   },
   {
    "duration": 19,
    "start_time": "2023-01-23T20:33:57.706Z"
   },
   {
    "duration": 21,
    "start_time": "2023-01-23T20:34:02.816Z"
   },
   {
    "duration": 22,
    "start_time": "2023-01-23T20:34:23.475Z"
   },
   {
    "duration": 20,
    "start_time": "2023-01-23T20:34:37.801Z"
   },
   {
    "duration": 19,
    "start_time": "2023-01-23T20:35:05.505Z"
   },
   {
    "duration": 202,
    "start_time": "2023-01-23T20:36:27.349Z"
   },
   {
    "duration": 400,
    "start_time": "2023-01-23T20:36:53.464Z"
   },
   {
    "duration": 163,
    "start_time": "2023-01-23T20:36:59.003Z"
   },
   {
    "duration": 235,
    "start_time": "2023-01-23T20:37:07.459Z"
   },
   {
    "duration": 214,
    "start_time": "2023-01-23T20:37:33.104Z"
   },
   {
    "duration": 231,
    "start_time": "2023-01-23T20:38:04.947Z"
   },
   {
    "duration": 223,
    "start_time": "2023-01-23T20:38:23.666Z"
   },
   {
    "duration": 235,
    "start_time": "2023-01-23T20:38:35.800Z"
   },
   {
    "duration": 218,
    "start_time": "2023-01-23T20:38:40.240Z"
   },
   {
    "duration": 162,
    "start_time": "2023-01-23T20:39:00.010Z"
   },
   {
    "duration": 185,
    "start_time": "2023-01-23T20:39:18.210Z"
   },
   {
    "duration": 231,
    "start_time": "2023-01-23T20:39:39.939Z"
   },
   {
    "duration": 208,
    "start_time": "2023-01-23T20:41:14.693Z"
   },
   {
    "duration": 33,
    "start_time": "2023-01-23T20:42:05.680Z"
   },
   {
    "duration": 20,
    "start_time": "2023-01-23T20:42:29.443Z"
   },
   {
    "duration": 23,
    "start_time": "2023-01-23T20:43:20.133Z"
   },
   {
    "duration": 208,
    "start_time": "2023-01-23T20:43:32.990Z"
   },
   {
    "duration": 22,
    "start_time": "2023-01-23T20:44:08.734Z"
   },
   {
    "duration": 21,
    "start_time": "2023-01-23T20:44:09.769Z"
   },
   {
    "duration": 24,
    "start_time": "2023-01-23T20:44:43.584Z"
   },
   {
    "duration": 20,
    "start_time": "2023-01-23T20:45:02.358Z"
   },
   {
    "duration": 30,
    "start_time": "2023-01-23T20:45:29.329Z"
   },
   {
    "duration": 306,
    "start_time": "2023-01-23T20:49:41.899Z"
   },
   {
    "duration": 386,
    "start_time": "2023-01-23T20:49:47.394Z"
   },
   {
    "duration": 281,
    "start_time": "2023-01-23T20:49:55.232Z"
   },
   {
    "duration": 181,
    "start_time": "2023-01-23T20:49:59.696Z"
   },
   {
    "duration": 203,
    "start_time": "2023-01-23T20:50:53.857Z"
   },
   {
    "duration": 910,
    "start_time": "2023-01-23T20:51:23.897Z"
   },
   {
    "duration": 285,
    "start_time": "2023-01-23T20:51:55.348Z"
   },
   {
    "duration": 227,
    "start_time": "2023-01-23T20:52:02.946Z"
   },
   {
    "duration": 383,
    "start_time": "2023-01-23T20:52:09.737Z"
   },
   {
    "duration": 185,
    "start_time": "2023-01-23T20:52:15.316Z"
   },
   {
    "duration": 1548,
    "start_time": "2023-01-23T20:52:28.963Z"
   },
   {
    "duration": 403,
    "start_time": "2023-01-23T20:52:38.351Z"
   },
   {
    "duration": 216,
    "start_time": "2023-01-23T20:53:23.257Z"
   },
   {
    "duration": 241,
    "start_time": "2023-01-23T20:53:27.199Z"
   },
   {
    "duration": 275,
    "start_time": "2023-01-23T20:53:32.292Z"
   },
   {
    "duration": 239,
    "start_time": "2023-01-23T20:53:36.043Z"
   },
   {
    "duration": 458,
    "start_time": "2023-01-23T20:55:00.531Z"
   },
   {
    "duration": 25,
    "start_time": "2023-01-23T20:55:15.008Z"
   },
   {
    "duration": 412,
    "start_time": "2023-01-23T20:55:27.357Z"
   },
   {
    "duration": 22,
    "start_time": "2023-01-23T20:55:39.407Z"
   },
   {
    "duration": 17,
    "start_time": "2023-01-23T20:56:00.284Z"
   },
   {
    "duration": 17,
    "start_time": "2023-01-23T20:56:15.060Z"
   },
   {
    "duration": 18,
    "start_time": "2023-01-23T20:56:20.988Z"
   },
   {
    "duration": 5,
    "start_time": "2023-01-23T20:57:00.695Z"
   },
   {
    "duration": 5,
    "start_time": "2023-01-23T20:57:07.795Z"
   },
   {
    "duration": 8,
    "start_time": "2023-01-23T20:58:58.858Z"
   },
   {
    "duration": 10,
    "start_time": "2023-01-23T20:59:24.675Z"
   },
   {
    "duration": 3,
    "start_time": "2023-01-23T20:59:45.433Z"
   },
   {
    "duration": 8,
    "start_time": "2023-01-23T21:00:08.310Z"
   },
   {
    "duration": 3,
    "start_time": "2023-01-23T21:00:24.527Z"
   },
   {
    "duration": 3,
    "start_time": "2023-01-23T21:00:36.433Z"
   },
   {
    "duration": 4,
    "start_time": "2023-01-23T21:00:42.474Z"
   },
   {
    "duration": 4,
    "start_time": "2023-01-23T21:00:46.328Z"
   },
   {
    "duration": 3,
    "start_time": "2023-01-23T21:02:22.107Z"
   },
   {
    "duration": 176,
    "start_time": "2023-01-23T21:02:24.063Z"
   },
   {
    "duration": 28,
    "start_time": "2023-01-23T21:02:28.118Z"
   },
   {
    "duration": 39,
    "start_time": "2023-01-23T21:02:30.052Z"
   },
   {
    "duration": 5,
    "start_time": "2023-01-23T21:02:40.443Z"
   },
   {
    "duration": 3,
    "start_time": "2023-01-23T21:02:42.015Z"
   },
   {
    "duration": 12,
    "start_time": "2023-01-23T21:04:33.707Z"
   },
   {
    "duration": 4,
    "start_time": "2023-01-23T21:04:38.704Z"
   },
   {
    "duration": 174,
    "start_time": "2023-01-23T21:04:38.710Z"
   },
   {
    "duration": 19,
    "start_time": "2023-01-23T21:04:38.885Z"
   },
   {
    "duration": 9,
    "start_time": "2023-01-23T21:04:41.296Z"
   },
   {
    "duration": 10,
    "start_time": "2023-01-23T21:06:33.056Z"
   },
   {
    "duration": 37,
    "start_time": "2023-01-23T21:15:27.240Z"
   },
   {
    "duration": 135,
    "start_time": "2023-01-23T21:15:32.325Z"
   },
   {
    "duration": 11,
    "start_time": "2023-01-23T21:16:05.558Z"
   },
   {
    "duration": 21,
    "start_time": "2023-01-23T21:16:10.942Z"
   },
   {
    "duration": 3,
    "start_time": "2023-01-23T21:17:34.626Z"
   },
   {
    "duration": 205,
    "start_time": "2023-01-23T21:17:34.632Z"
   },
   {
    "duration": 21,
    "start_time": "2023-01-23T21:17:34.839Z"
   },
   {
    "duration": 18,
    "start_time": "2023-01-23T21:17:36.993Z"
   },
   {
    "duration": 20,
    "start_time": "2023-01-23T21:17:49.792Z"
   },
   {
    "duration": 3,
    "start_time": "2023-01-23T21:18:26.567Z"
   },
   {
    "duration": 177,
    "start_time": "2023-01-23T21:18:26.572Z"
   },
   {
    "duration": 19,
    "start_time": "2023-01-23T21:18:26.751Z"
   },
   {
    "duration": 42,
    "start_time": "2023-01-23T21:18:28.730Z"
   },
   {
    "duration": 19,
    "start_time": "2023-01-23T21:18:35.329Z"
   },
   {
    "duration": 13,
    "start_time": "2023-01-23T21:18:45.060Z"
   },
   {
    "duration": 19,
    "start_time": "2023-01-23T21:19:05.244Z"
   },
   {
    "duration": 4,
    "start_time": "2023-01-23T21:19:16.014Z"
   },
   {
    "duration": 186,
    "start_time": "2023-01-23T21:19:16.020Z"
   },
   {
    "duration": 20,
    "start_time": "2023-01-23T21:19:16.207Z"
   },
   {
    "duration": 28,
    "start_time": "2023-01-23T21:19:16.229Z"
   },
   {
    "duration": 4,
    "start_time": "2023-01-23T21:19:27.412Z"
   },
   {
    "duration": 193,
    "start_time": "2023-01-23T21:19:27.419Z"
   },
   {
    "duration": 27,
    "start_time": "2023-01-23T21:19:27.615Z"
   },
   {
    "duration": 19,
    "start_time": "2023-01-23T21:19:29.299Z"
   },
   {
    "duration": 24,
    "start_time": "2023-01-23T21:19:35.093Z"
   },
   {
    "duration": 4,
    "start_time": "2023-01-23T21:19:40.264Z"
   },
   {
    "duration": 205,
    "start_time": "2023-01-23T21:19:40.270Z"
   },
   {
    "duration": 22,
    "start_time": "2023-01-23T21:19:40.477Z"
   },
   {
    "duration": 67,
    "start_time": "2023-01-23T21:19:40.501Z"
   },
   {
    "duration": 22,
    "start_time": "2023-01-23T21:19:43.963Z"
   },
   {
    "duration": 99,
    "start_time": "2023-01-23T21:19:46.456Z"
   },
   {
    "duration": 4,
    "start_time": "2023-01-23T21:19:52.142Z"
   },
   {
    "duration": 205,
    "start_time": "2023-01-23T21:19:52.147Z"
   },
   {
    "duration": 19,
    "start_time": "2023-01-23T21:19:52.354Z"
   },
   {
    "duration": 21,
    "start_time": "2023-01-23T21:19:54.682Z"
   },
   {
    "duration": 11,
    "start_time": "2023-01-23T21:19:59.041Z"
   },
   {
    "duration": 5,
    "start_time": "2023-01-23T21:20:07.897Z"
   },
   {
    "duration": 4,
    "start_time": "2023-01-23T21:20:10.166Z"
   },
   {
    "duration": 169,
    "start_time": "2023-01-23T21:21:37.062Z"
   },
   {
    "duration": 162,
    "start_time": "2023-01-23T21:22:58.263Z"
   },
   {
    "duration": 175,
    "start_time": "2023-01-23T21:23:03.690Z"
   },
   {
    "duration": 193,
    "start_time": "2023-01-23T21:23:07.655Z"
   },
   {
    "duration": 190,
    "start_time": "2023-01-23T21:25:17.661Z"
   },
   {
    "duration": 194,
    "start_time": "2023-01-23T21:25:22.973Z"
   },
   {
    "duration": 190,
    "start_time": "2023-01-23T21:25:31.497Z"
   },
   {
    "duration": 187,
    "start_time": "2023-01-23T21:25:38.397Z"
   },
   {
    "duration": 190,
    "start_time": "2023-01-23T21:26:06.022Z"
   },
   {
    "duration": 192,
    "start_time": "2023-01-23T21:26:14.893Z"
   },
   {
    "duration": 176,
    "start_time": "2023-01-23T21:26:18.452Z"
   },
   {
    "duration": 264,
    "start_time": "2023-01-23T21:28:50.816Z"
   },
   {
    "duration": 345,
    "start_time": "2023-01-23T21:28:56.725Z"
   },
   {
    "duration": 234,
    "start_time": "2023-01-23T21:29:01.099Z"
   },
   {
    "duration": 252,
    "start_time": "2023-01-23T21:29:04.440Z"
   },
   {
    "duration": 278,
    "start_time": "2023-01-23T21:29:11.166Z"
   },
   {
    "duration": 383,
    "start_time": "2023-01-23T21:29:17.068Z"
   },
   {
    "duration": 252,
    "start_time": "2023-01-23T21:29:21.655Z"
   },
   {
    "duration": 333,
    "start_time": "2023-01-23T21:29:30.158Z"
   },
   {
    "duration": 229,
    "start_time": "2023-01-23T21:29:35.732Z"
   },
   {
    "duration": 268,
    "start_time": "2023-01-23T21:29:39.676Z"
   },
   {
    "duration": 262,
    "start_time": "2023-01-23T21:29:49.177Z"
   },
   {
    "duration": 240,
    "start_time": "2023-01-23T21:30:41.542Z"
   },
   {
    "duration": 258,
    "start_time": "2023-01-23T21:30:53.088Z"
   },
   {
    "duration": 276,
    "start_time": "2023-01-23T21:32:04.581Z"
   },
   {
    "duration": 273,
    "start_time": "2023-01-23T21:36:04.214Z"
   },
   {
    "duration": 10,
    "start_time": "2023-01-23T21:36:47.805Z"
   },
   {
    "duration": 3,
    "start_time": "2023-01-23T21:37:01.047Z"
   },
   {
    "duration": 45,
    "start_time": "2023-01-23T21:37:07.090Z"
   },
   {
    "duration": 30,
    "start_time": "2023-01-23T21:37:19.856Z"
   },
   {
    "duration": 3,
    "start_time": "2023-01-23T21:37:28.176Z"
   },
   {
    "duration": 197,
    "start_time": "2023-01-23T21:37:28.182Z"
   },
   {
    "duration": 20,
    "start_time": "2023-01-23T21:37:28.381Z"
   },
   {
    "duration": 16,
    "start_time": "2023-01-23T21:37:28.402Z"
   },
   {
    "duration": 74,
    "start_time": "2023-01-23T21:37:28.420Z"
   },
   {
    "duration": 53,
    "start_time": "2023-01-23T21:37:28.496Z"
   },
   {
    "duration": 72,
    "start_time": "2023-01-23T21:37:28.551Z"
   },
   {
    "duration": 30,
    "start_time": "2023-01-23T21:37:28.625Z"
   },
   {
    "duration": 32,
    "start_time": "2023-01-23T21:37:28.656Z"
   },
   {
    "duration": 30,
    "start_time": "2023-01-23T21:37:28.690Z"
   },
   {
    "duration": 45,
    "start_time": "2023-01-23T21:37:28.722Z"
   },
   {
    "duration": 27,
    "start_time": "2023-01-23T21:37:28.769Z"
   },
   {
    "duration": 5,
    "start_time": "2023-01-23T21:37:28.798Z"
   },
   {
    "duration": 22,
    "start_time": "2023-01-23T21:37:28.805Z"
   },
   {
    "duration": 44,
    "start_time": "2023-01-23T21:37:28.829Z"
   },
   {
    "duration": 33,
    "start_time": "2023-01-23T21:37:28.875Z"
   },
   {
    "duration": 280,
    "start_time": "2023-01-23T21:37:28.909Z"
   },
   {
    "duration": 192,
    "start_time": "2023-01-23T21:37:31.257Z"
   },
   {
    "duration": 13,
    "start_time": "2023-01-23T21:37:52.832Z"
   },
   {
    "duration": 28,
    "start_time": "2023-01-23T21:37:58.763Z"
   },
   {
    "duration": 78,
    "start_time": "2023-01-23T21:38:21.208Z"
   },
   {
    "duration": 29,
    "start_time": "2023-01-23T21:38:27.339Z"
   },
   {
    "duration": 39,
    "start_time": "2023-01-23T21:39:15.486Z"
   },
   {
    "duration": 21,
    "start_time": "2023-01-23T21:39:16.191Z"
   },
   {
    "duration": 14,
    "start_time": "2023-01-23T21:39:23.589Z"
   },
   {
    "duration": 253,
    "start_time": "2023-01-23T21:39:36.372Z"
   },
   {
    "duration": 470,
    "start_time": "2023-01-23T21:39:47.663Z"
   },
   {
    "duration": 200,
    "start_time": "2023-01-23T21:40:28.737Z"
   },
   {
    "duration": 202,
    "start_time": "2023-01-23T21:40:31.873Z"
   },
   {
    "duration": 292,
    "start_time": "2023-01-23T21:40:41.536Z"
   },
   {
    "duration": 23,
    "start_time": "2023-01-23T21:40:53.626Z"
   },
   {
    "duration": 11,
    "start_time": "2023-01-23T21:40:59.751Z"
   },
   {
    "duration": 194,
    "start_time": "2023-01-23T21:41:03.896Z"
   },
   {
    "duration": 193,
    "start_time": "2023-01-23T21:41:08.486Z"
   },
   {
    "duration": 4,
    "start_time": "2023-01-23T21:42:09.212Z"
   },
   {
    "duration": 198,
    "start_time": "2023-01-23T21:42:09.218Z"
   },
   {
    "duration": 23,
    "start_time": "2023-01-23T21:42:09.419Z"
   },
   {
    "duration": 16,
    "start_time": "2023-01-23T21:42:09.444Z"
   },
   {
    "duration": 59,
    "start_time": "2023-01-23T21:42:09.462Z"
   },
   {
    "duration": 63,
    "start_time": "2023-01-23T21:42:09.523Z"
   },
   {
    "duration": 81,
    "start_time": "2023-01-23T21:42:09.588Z"
   },
   {
    "duration": 39,
    "start_time": "2023-01-23T21:42:09.671Z"
   },
   {
    "duration": 35,
    "start_time": "2023-01-23T21:42:09.713Z"
   },
   {
    "duration": 12,
    "start_time": "2023-01-23T21:42:09.750Z"
   },
   {
    "duration": 26,
    "start_time": "2023-01-23T21:42:09.764Z"
   },
   {
    "duration": 14,
    "start_time": "2023-01-23T21:42:09.792Z"
   },
   {
    "duration": 34,
    "start_time": "2023-01-23T21:42:09.807Z"
   },
   {
    "duration": 18,
    "start_time": "2023-01-23T21:42:09.842Z"
   },
   {
    "duration": 2,
    "start_time": "2023-01-23T21:42:09.862Z"
   },
   {
    "duration": 5,
    "start_time": "2023-01-23T21:42:09.866Z"
   },
   {
    "duration": 16,
    "start_time": "2023-01-23T21:42:09.872Z"
   },
   {
    "duration": 9,
    "start_time": "2023-01-23T21:42:09.890Z"
   },
   {
    "duration": 280,
    "start_time": "2023-01-23T21:42:09.900Z"
   },
   {
    "duration": 16,
    "start_time": "2023-01-23T21:42:10.181Z"
   },
   {
    "duration": 216,
    "start_time": "2023-01-23T21:42:10.199Z"
   },
   {
    "duration": 4,
    "start_time": "2023-01-23T21:47:17.038Z"
   },
   {
    "duration": 5,
    "start_time": "2023-01-23T21:47:18.311Z"
   },
   {
    "duration": 4,
    "start_time": "2023-01-23T21:47:29.115Z"
   },
   {
    "duration": 4,
    "start_time": "2023-01-23T21:47:35.676Z"
   },
   {
    "duration": 182,
    "start_time": "2023-01-23T21:47:35.682Z"
   },
   {
    "duration": 21,
    "start_time": "2023-01-23T21:47:35.866Z"
   },
   {
    "duration": 33,
    "start_time": "2023-01-23T21:47:35.890Z"
   },
   {
    "duration": 79,
    "start_time": "2023-01-23T21:47:35.925Z"
   },
   {
    "duration": 58,
    "start_time": "2023-01-23T21:47:36.007Z"
   },
   {
    "duration": 80,
    "start_time": "2023-01-23T21:47:36.067Z"
   },
   {
    "duration": 48,
    "start_time": "2023-01-23T21:47:36.148Z"
   },
   {
    "duration": 32,
    "start_time": "2023-01-23T21:47:36.198Z"
   },
   {
    "duration": 22,
    "start_time": "2023-01-23T21:47:36.232Z"
   },
   {
    "duration": 39,
    "start_time": "2023-01-23T21:47:36.256Z"
   },
   {
    "duration": 34,
    "start_time": "2023-01-23T21:47:36.297Z"
   },
   {
    "duration": 29,
    "start_time": "2023-01-23T21:47:36.333Z"
   },
   {
    "duration": 23,
    "start_time": "2023-01-23T21:47:36.364Z"
   },
   {
    "duration": 3,
    "start_time": "2023-01-23T21:47:36.389Z"
   },
   {
    "duration": 20,
    "start_time": "2023-01-23T21:47:36.393Z"
   },
   {
    "duration": 14,
    "start_time": "2023-01-23T21:47:36.415Z"
   },
   {
    "duration": 16,
    "start_time": "2023-01-23T21:47:36.431Z"
   },
   {
    "duration": 284,
    "start_time": "2023-01-23T21:47:36.448Z"
   },
   {
    "duration": 15,
    "start_time": "2023-01-23T21:47:36.734Z"
   },
   {
    "duration": 219,
    "start_time": "2023-01-23T21:47:36.751Z"
   },
   {
    "duration": 5,
    "start_time": "2023-01-23T21:47:38.967Z"
   },
   {
    "duration": 5,
    "start_time": "2023-01-23T21:47:44.974Z"
   },
   {
    "duration": 4,
    "start_time": "2023-01-23T21:47:54.241Z"
   },
   {
    "duration": 15,
    "start_time": "2023-01-23T21:48:04.301Z"
   },
   {
    "duration": 4,
    "start_time": "2023-01-23T21:48:14.537Z"
   },
   {
    "duration": 10,
    "start_time": "2023-01-23T21:48:25.393Z"
   },
   {
    "duration": 5,
    "start_time": "2023-01-23T21:48:32.688Z"
   },
   {
    "duration": 5,
    "start_time": "2023-01-23T21:48:37.675Z"
   },
   {
    "duration": 4,
    "start_time": "2023-01-23T21:48:42.927Z"
   },
   {
    "duration": 57,
    "start_time": "2023-01-23T21:51:04.371Z"
   },
   {
    "duration": 1151,
    "start_time": "2023-01-24T07:52:41.899Z"
   },
   {
    "duration": 726,
    "start_time": "2023-01-24T07:52:43.052Z"
   },
   {
    "duration": 18,
    "start_time": "2023-01-24T07:52:43.780Z"
   },
   {
    "duration": 30,
    "start_time": "2023-01-24T07:52:43.800Z"
   },
   {
    "duration": 62,
    "start_time": "2023-01-24T07:52:43.832Z"
   },
   {
    "duration": 75,
    "start_time": "2023-01-24T07:52:43.895Z"
   },
   {
    "duration": 79,
    "start_time": "2023-01-24T07:52:43.972Z"
   },
   {
    "duration": 46,
    "start_time": "2023-01-24T07:52:44.052Z"
   },
   {
    "duration": 18,
    "start_time": "2023-01-24T07:52:44.100Z"
   },
   {
    "duration": 10,
    "start_time": "2023-01-24T07:52:44.119Z"
   },
   {
    "duration": 21,
    "start_time": "2023-01-24T07:52:44.130Z"
   },
   {
    "duration": 9,
    "start_time": "2023-01-24T07:52:44.152Z"
   },
   {
    "duration": 38,
    "start_time": "2023-01-24T07:52:44.163Z"
   },
   {
    "duration": 15,
    "start_time": "2023-01-24T07:52:44.204Z"
   },
   {
    "duration": 2,
    "start_time": "2023-01-24T07:52:44.221Z"
   },
   {
    "duration": 5,
    "start_time": "2023-01-24T07:52:44.225Z"
   },
   {
    "duration": 6,
    "start_time": "2023-01-24T07:52:44.231Z"
   },
   {
    "duration": 5,
    "start_time": "2023-01-24T07:52:44.238Z"
   },
   {
    "duration": 347,
    "start_time": "2023-01-24T07:52:44.245Z"
   },
   {
    "duration": 21,
    "start_time": "2023-01-24T07:52:44.594Z"
   },
   {
    "duration": 192,
    "start_time": "2023-01-24T07:52:44.617Z"
   },
   {
    "duration": 4,
    "start_time": "2023-01-24T07:52:44.811Z"
   },
   {
    "duration": 9,
    "start_time": "2023-01-24T07:52:44.816Z"
   },
   {
    "duration": 7,
    "start_time": "2023-01-24T08:28:26.302Z"
   },
   {
    "duration": 4,
    "start_time": "2023-01-24T08:28:30.973Z"
   },
   {
    "duration": 6,
    "start_time": "2023-01-24T08:28:33.509Z"
   },
   {
    "duration": 17,
    "start_time": "2023-01-24T08:30:14.138Z"
   },
   {
    "duration": 19,
    "start_time": "2023-01-24T08:30:26.543Z"
   },
   {
    "duration": 17,
    "start_time": "2023-01-24T08:30:29.830Z"
   },
   {
    "duration": 6,
    "start_time": "2023-01-24T08:30:41.311Z"
   },
   {
    "duration": 14,
    "start_time": "2023-01-24T08:31:32.508Z"
   },
   {
    "duration": 37,
    "start_time": "2023-01-24T08:31:50.364Z"
   },
   {
    "duration": 9,
    "start_time": "2023-01-24T08:32:16.908Z"
   },
   {
    "duration": 26,
    "start_time": "2023-01-24T08:32:26.895Z"
   },
   {
    "duration": 17,
    "start_time": "2023-01-24T08:32:40.544Z"
   },
   {
    "duration": 23,
    "start_time": "2023-01-24T08:33:23.990Z"
   },
   {
    "duration": 12,
    "start_time": "2023-01-24T08:33:41.080Z"
   },
   {
    "duration": 14,
    "start_time": "2023-01-24T08:37:00.964Z"
   },
   {
    "duration": 12,
    "start_time": "2023-01-24T08:37:09.548Z"
   },
   {
    "duration": 23,
    "start_time": "2023-01-24T08:38:05.821Z"
   },
   {
    "duration": 20,
    "start_time": "2023-01-24T08:39:36.501Z"
   },
   {
    "duration": 58,
    "start_time": "2023-01-24T08:46:44.827Z"
   },
   {
    "duration": 52,
    "start_time": "2023-01-24T09:06:30.147Z"
   },
   {
    "duration": 46,
    "start_time": "2023-01-24T09:06:36.263Z"
   },
   {
    "duration": 51,
    "start_time": "2023-01-24T09:15:57.687Z"
   },
   {
    "duration": 50,
    "start_time": "2023-01-24T09:16:11.089Z"
   },
   {
    "duration": 50,
    "start_time": "2023-01-24T09:16:23.162Z"
   },
   {
    "duration": 54,
    "start_time": "2023-01-24T09:16:40.961Z"
   },
   {
    "duration": 101,
    "start_time": "2023-01-24T09:30:12.072Z"
   },
   {
    "duration": 13,
    "start_time": "2023-01-24T09:30:17.626Z"
   },
   {
    "duration": 52,
    "start_time": "2023-01-24T09:31:29.403Z"
   },
   {
    "duration": 56,
    "start_time": "2023-01-24T09:31:41.820Z"
   },
   {
    "duration": 52,
    "start_time": "2023-01-24T09:32:31.872Z"
   },
   {
    "duration": 50,
    "start_time": "2023-01-24T09:34:29.661Z"
   },
   {
    "duration": 1238,
    "start_time": "2023-01-24T15:50:13.963Z"
   },
   {
    "duration": 872,
    "start_time": "2023-01-24T15:50:15.203Z"
   },
   {
    "duration": 17,
    "start_time": "2023-01-24T15:50:16.076Z"
   },
   {
    "duration": 9,
    "start_time": "2023-01-24T15:50:16.095Z"
   },
   {
    "duration": 67,
    "start_time": "2023-01-24T15:50:16.105Z"
   },
   {
    "duration": 53,
    "start_time": "2023-01-24T15:50:16.174Z"
   },
   {
    "duration": 72,
    "start_time": "2023-01-24T15:50:16.229Z"
   },
   {
    "duration": 73,
    "start_time": "2023-01-24T15:50:16.302Z"
   },
   {
    "duration": 24,
    "start_time": "2023-01-24T15:50:16.377Z"
   },
   {
    "duration": 9,
    "start_time": "2023-01-24T15:50:16.404Z"
   },
   {
    "duration": 42,
    "start_time": "2023-01-24T15:50:16.414Z"
   },
   {
    "duration": 9,
    "start_time": "2023-01-24T15:50:16.459Z"
   },
   {
    "duration": 15,
    "start_time": "2023-01-24T15:50:16.469Z"
   },
   {
    "duration": 14,
    "start_time": "2023-01-24T15:50:16.486Z"
   },
   {
    "duration": 2,
    "start_time": "2023-01-24T15:50:16.501Z"
   },
   {
    "duration": 4,
    "start_time": "2023-01-24T15:50:16.505Z"
   },
   {
    "duration": 6,
    "start_time": "2023-01-24T15:50:16.510Z"
   },
   {
    "duration": 5,
    "start_time": "2023-01-24T15:50:16.517Z"
   },
   {
    "duration": 351,
    "start_time": "2023-01-24T15:50:16.523Z"
   },
   {
    "duration": 17,
    "start_time": "2023-01-24T15:50:16.876Z"
   },
   {
    "duration": 207,
    "start_time": "2023-01-24T15:50:16.894Z"
   },
   {
    "duration": 3,
    "start_time": "2023-01-24T15:50:17.103Z"
   },
   {
    "duration": 11,
    "start_time": "2023-01-24T15:50:17.107Z"
   },
   {
    "duration": 45,
    "start_time": "2023-01-24T15:50:17.119Z"
   },
   {
    "duration": 7,
    "start_time": "2023-01-24T15:50:17.166Z"
   },
   {
    "duration": 20,
    "start_time": "2023-01-24T15:50:17.174Z"
   },
   {
    "duration": 18,
    "start_time": "2023-01-24T15:50:17.195Z"
   },
   {
    "duration": 85,
    "start_time": "2023-01-24T15:50:17.216Z"
   },
   {
    "duration": 116,
    "start_time": "2023-01-24T15:51:57.081Z"
   },
   {
    "duration": 16,
    "start_time": "2023-01-24T15:52:26.580Z"
   },
   {
    "duration": 52,
    "start_time": "2023-01-24T15:52:32.159Z"
   },
   {
    "duration": 9,
    "start_time": "2023-01-24T16:28:44.360Z"
   },
   {
    "duration": 9,
    "start_time": "2023-01-24T16:28:50.094Z"
   },
   {
    "duration": 5,
    "start_time": "2023-01-24T16:28:57.589Z"
   },
   {
    "duration": 9,
    "start_time": "2023-01-24T16:29:04.788Z"
   },
   {
    "duration": 6,
    "start_time": "2023-01-24T16:29:06.569Z"
   },
   {
    "duration": 12,
    "start_time": "2023-01-24T16:29:10.963Z"
   },
   {
    "duration": 8,
    "start_time": "2023-01-24T16:29:11.561Z"
   },
   {
    "duration": 6,
    "start_time": "2023-01-24T16:29:16.161Z"
   },
   {
    "duration": 191,
    "start_time": "2023-01-24T16:29:16.170Z"
   },
   {
    "duration": 24,
    "start_time": "2023-01-24T16:29:16.363Z"
   },
   {
    "duration": 7,
    "start_time": "2023-01-24T16:29:16.389Z"
   },
   {
    "duration": 91,
    "start_time": "2023-01-24T16:29:16.398Z"
   },
   {
    "duration": 80,
    "start_time": "2023-01-24T16:29:16.492Z"
   },
   {
    "duration": 86,
    "start_time": "2023-01-24T16:29:16.574Z"
   },
   {
    "duration": 37,
    "start_time": "2023-01-24T16:29:16.662Z"
   },
   {
    "duration": 19,
    "start_time": "2023-01-24T16:29:16.703Z"
   },
   {
    "duration": 28,
    "start_time": "2023-01-24T16:29:16.724Z"
   },
   {
    "duration": 20,
    "start_time": "2023-01-24T16:29:16.756Z"
   },
   {
    "duration": 10,
    "start_time": "2023-01-24T16:29:16.778Z"
   },
   {
    "duration": 15,
    "start_time": "2023-01-24T16:29:16.790Z"
   },
   {
    "duration": 15,
    "start_time": "2023-01-24T16:29:16.807Z"
   },
   {
    "duration": 9,
    "start_time": "2023-01-24T16:29:16.842Z"
   },
   {
    "duration": 4,
    "start_time": "2023-01-24T16:29:16.854Z"
   },
   {
    "duration": 7,
    "start_time": "2023-01-24T16:29:16.860Z"
   },
   {
    "duration": 5,
    "start_time": "2023-01-24T16:29:16.869Z"
   },
   {
    "duration": 285,
    "start_time": "2023-01-24T16:29:16.875Z"
   },
   {
    "duration": 20,
    "start_time": "2023-01-24T16:29:17.162Z"
   },
   {
    "duration": 204,
    "start_time": "2023-01-24T16:29:17.184Z"
   },
   {
    "duration": 6,
    "start_time": "2023-01-24T16:29:17.390Z"
   },
   {
    "duration": 18,
    "start_time": "2023-01-24T16:29:17.397Z"
   },
   {
    "duration": 42,
    "start_time": "2023-01-24T16:29:17.418Z"
   },
   {
    "duration": 9,
    "start_time": "2023-01-24T16:29:17.462Z"
   },
   {
    "duration": 19,
    "start_time": "2023-01-24T16:29:17.473Z"
   },
   {
    "duration": 18,
    "start_time": "2023-01-24T16:29:17.494Z"
   },
   {
    "duration": 44,
    "start_time": "2023-01-24T16:29:17.514Z"
   },
   {
    "duration": 54,
    "start_time": "2023-01-24T16:29:17.561Z"
   },
   {
    "duration": 8,
    "start_time": "2023-01-24T16:29:17.617Z"
   },
   {
    "duration": 32,
    "start_time": "2023-01-24T16:29:17.626Z"
   },
   {
    "duration": 8,
    "start_time": "2023-01-24T16:29:23.309Z"
   },
   {
    "duration": 9,
    "start_time": "2023-01-24T16:29:24.033Z"
   },
   {
    "duration": 4,
    "start_time": "2023-01-24T16:29:31.005Z"
   },
   {
    "duration": 11,
    "start_time": "2023-01-24T16:29:34.756Z"
   },
   {
    "duration": 14,
    "start_time": "2023-01-24T16:30:04.862Z"
   },
   {
    "duration": 31,
    "start_time": "2023-01-24T16:30:11.331Z"
   },
   {
    "duration": 12,
    "start_time": "2023-01-24T16:30:18.754Z"
   },
   {
    "duration": 9,
    "start_time": "2023-01-24T16:30:25.174Z"
   },
   {
    "duration": 8,
    "start_time": "2023-01-24T16:30:27.287Z"
   },
   {
    "duration": 73,
    "start_time": "2023-01-24T16:30:38.300Z"
   },
   {
    "duration": 10,
    "start_time": "2023-01-24T16:30:41.471Z"
   },
   {
    "duration": 11,
    "start_time": "2023-01-24T16:30:56.503Z"
   },
   {
    "duration": 8,
    "start_time": "2023-01-24T16:31:08.001Z"
   },
   {
    "duration": 9,
    "start_time": "2023-01-24T16:31:13.707Z"
   },
   {
    "duration": 4,
    "start_time": "2023-01-24T16:31:32.707Z"
   },
   {
    "duration": 196,
    "start_time": "2023-01-24T16:31:32.713Z"
   },
   {
    "duration": 16,
    "start_time": "2023-01-24T16:31:32.910Z"
   },
   {
    "duration": 27,
    "start_time": "2023-01-24T16:31:32.928Z"
   },
   {
    "duration": 61,
    "start_time": "2023-01-24T16:31:32.960Z"
   },
   {
    "duration": 70,
    "start_time": "2023-01-24T16:31:33.023Z"
   },
   {
    "duration": 83,
    "start_time": "2023-01-24T16:31:33.095Z"
   },
   {
    "duration": 54,
    "start_time": "2023-01-24T16:31:33.180Z"
   },
   {
    "duration": 50,
    "start_time": "2023-01-24T16:31:33.235Z"
   },
   {
    "duration": 29,
    "start_time": "2023-01-24T16:31:33.287Z"
   },
   {
    "duration": 71,
    "start_time": "2023-01-24T16:31:33.318Z"
   },
   {
    "duration": 17,
    "start_time": "2023-01-24T16:31:33.391Z"
   },
   {
    "duration": 65,
    "start_time": "2023-01-24T16:31:33.410Z"
   },
   {
    "duration": 18,
    "start_time": "2023-01-24T16:31:33.476Z"
   },
   {
    "duration": 3,
    "start_time": "2023-01-24T16:31:33.495Z"
   },
   {
    "duration": 19,
    "start_time": "2023-01-24T16:31:33.499Z"
   },
   {
    "duration": 40,
    "start_time": "2023-01-24T16:31:33.519Z"
   },
   {
    "duration": 16,
    "start_time": "2023-01-24T16:31:33.561Z"
   },
   {
    "duration": 300,
    "start_time": "2023-01-24T16:31:33.579Z"
   },
   {
    "duration": 16,
    "start_time": "2023-01-24T16:31:33.881Z"
   },
   {
    "duration": 225,
    "start_time": "2023-01-24T16:31:33.899Z"
   },
   {
    "duration": 4,
    "start_time": "2023-01-24T16:31:34.125Z"
   },
   {
    "duration": 45,
    "start_time": "2023-01-24T16:31:34.131Z"
   },
   {
    "duration": 53,
    "start_time": "2023-01-24T16:31:34.177Z"
   },
   {
    "duration": 39,
    "start_time": "2023-01-24T16:31:34.232Z"
   },
   {
    "duration": 34,
    "start_time": "2023-01-24T16:31:34.273Z"
   },
   {
    "duration": 43,
    "start_time": "2023-01-24T16:31:34.309Z"
   },
   {
    "duration": 53,
    "start_time": "2023-01-24T16:31:34.361Z"
   },
   {
    "duration": 79,
    "start_time": "2023-01-24T16:31:34.417Z"
   },
   {
    "duration": 9,
    "start_time": "2023-01-24T16:31:37.772Z"
   },
   {
    "duration": 81,
    "start_time": "2023-01-24T16:35:56.900Z"
   },
   {
    "duration": 165,
    "start_time": "2023-01-24T16:36:16.207Z"
   },
   {
    "duration": 63,
    "start_time": "2023-01-24T16:37:46.520Z"
   },
   {
    "duration": 1098,
    "start_time": "2023-01-24T16:37:59.956Z"
   },
   {
    "duration": 169,
    "start_time": "2023-01-24T16:38:01.057Z"
   },
   {
    "duration": 33,
    "start_time": "2023-01-24T16:38:01.229Z"
   },
   {
    "duration": 33,
    "start_time": "2023-01-24T16:38:01.264Z"
   },
   {
    "duration": 89,
    "start_time": "2023-01-24T16:38:01.298Z"
   },
   {
    "duration": 67,
    "start_time": "2023-01-24T16:38:01.388Z"
   },
   {
    "duration": 74,
    "start_time": "2023-01-24T16:38:01.459Z"
   },
   {
    "duration": 91,
    "start_time": "2023-01-24T16:38:01.534Z"
   },
   {
    "duration": 60,
    "start_time": "2023-01-24T16:38:01.627Z"
   },
   {
    "duration": 41,
    "start_time": "2023-01-24T16:38:01.689Z"
   },
   {
    "duration": 66,
    "start_time": "2023-01-24T16:38:01.731Z"
   },
   {
    "duration": 33,
    "start_time": "2023-01-24T16:38:01.799Z"
   },
   {
    "duration": 57,
    "start_time": "2023-01-24T16:38:01.833Z"
   },
   {
    "duration": 65,
    "start_time": "2023-01-24T16:38:01.891Z"
   },
   {
    "duration": 25,
    "start_time": "2023-01-24T16:38:01.958Z"
   },
   {
    "duration": 47,
    "start_time": "2023-01-24T16:38:01.985Z"
   },
   {
    "duration": 60,
    "start_time": "2023-01-24T16:38:02.033Z"
   },
   {
    "duration": 33,
    "start_time": "2023-01-24T16:38:02.095Z"
   },
   {
    "duration": 448,
    "start_time": "2023-01-24T16:38:02.129Z"
   },
   {
    "duration": 19,
    "start_time": "2023-01-24T16:38:02.580Z"
   },
   {
    "duration": 262,
    "start_time": "2023-01-24T16:38:02.601Z"
   },
   {
    "duration": 5,
    "start_time": "2023-01-24T16:38:02.865Z"
   },
   {
    "duration": 17,
    "start_time": "2023-01-24T16:38:02.873Z"
   },
   {
    "duration": 36,
    "start_time": "2023-01-24T16:38:02.892Z"
   },
   {
    "duration": 5,
    "start_time": "2023-01-24T16:38:02.930Z"
   },
   {
    "duration": 52,
    "start_time": "2023-01-24T16:38:02.943Z"
   },
   {
    "duration": 18,
    "start_time": "2023-01-24T16:38:02.997Z"
   },
   {
    "duration": 47,
    "start_time": "2023-01-24T16:38:03.017Z"
   },
   {
    "duration": 62,
    "start_time": "2023-01-24T16:38:03.067Z"
   },
   {
    "duration": 6,
    "start_time": "2023-01-24T16:48:25.338Z"
   },
   {
    "duration": 15,
    "start_time": "2023-01-24T16:48:33.433Z"
   },
   {
    "duration": 21,
    "start_time": "2023-01-24T16:48:45.437Z"
   },
   {
    "duration": 28,
    "start_time": "2023-01-24T16:48:59.131Z"
   },
   {
    "duration": 10,
    "start_time": "2023-01-24T16:49:23.348Z"
   },
   {
    "duration": 2,
    "start_time": "2023-01-24T16:49:31.131Z"
   },
   {
    "duration": 178,
    "start_time": "2023-01-24T16:49:31.135Z"
   },
   {
    "duration": 23,
    "start_time": "2023-01-24T16:49:31.314Z"
   },
   {
    "duration": 23,
    "start_time": "2023-01-24T16:49:31.340Z"
   },
   {
    "duration": 64,
    "start_time": "2023-01-24T16:49:31.364Z"
   },
   {
    "duration": 53,
    "start_time": "2023-01-24T16:49:31.429Z"
   },
   {
    "duration": 72,
    "start_time": "2023-01-24T16:49:31.484Z"
   },
   {
    "duration": 55,
    "start_time": "2023-01-24T16:49:31.557Z"
   },
   {
    "duration": 33,
    "start_time": "2023-01-24T16:49:31.614Z"
   },
   {
    "duration": 14,
    "start_time": "2023-01-24T16:49:31.649Z"
   },
   {
    "duration": 23,
    "start_time": "2023-01-24T16:49:31.664Z"
   },
   {
    "duration": 9,
    "start_time": "2023-01-24T16:49:31.688Z"
   },
   {
    "duration": 16,
    "start_time": "2023-01-24T16:49:31.698Z"
   },
   {
    "duration": 14,
    "start_time": "2023-01-24T16:49:31.715Z"
   },
   {
    "duration": 2,
    "start_time": "2023-01-24T16:49:31.750Z"
   },
   {
    "duration": 8,
    "start_time": "2023-01-24T16:49:31.754Z"
   },
   {
    "duration": 10,
    "start_time": "2023-01-24T16:49:31.763Z"
   },
   {
    "duration": 9,
    "start_time": "2023-01-24T16:49:31.775Z"
   },
   {
    "duration": 249,
    "start_time": "2023-01-24T16:49:31.785Z"
   },
   {
    "duration": 21,
    "start_time": "2023-01-24T16:49:32.036Z"
   },
   {
    "duration": 187,
    "start_time": "2023-01-24T16:49:32.059Z"
   },
   {
    "duration": 4,
    "start_time": "2023-01-24T16:49:32.252Z"
   },
   {
    "duration": 11,
    "start_time": "2023-01-24T16:49:32.258Z"
   },
   {
    "duration": 28,
    "start_time": "2023-01-24T16:49:32.272Z"
   },
   {
    "duration": 5,
    "start_time": "2023-01-24T16:49:32.301Z"
   },
   {
    "duration": 43,
    "start_time": "2023-01-24T16:49:32.308Z"
   },
   {
    "duration": 28,
    "start_time": "2023-01-24T16:49:32.353Z"
   },
   {
    "duration": 37,
    "start_time": "2023-01-24T16:49:32.382Z"
   },
   {
    "duration": 61,
    "start_time": "2023-01-24T16:49:32.421Z"
   },
   {
    "duration": 10,
    "start_time": "2023-01-24T16:49:32.484Z"
   },
   {
    "duration": 5,
    "start_time": "2023-01-24T17:03:49.354Z"
   },
   {
    "duration": 152,
    "start_time": "2023-01-24T17:03:49.360Z"
   },
   {
    "duration": 27,
    "start_time": "2023-01-24T17:03:49.514Z"
   },
   {
    "duration": 15,
    "start_time": "2023-01-24T17:03:49.543Z"
   },
   {
    "duration": 46,
    "start_time": "2023-01-24T17:03:49.560Z"
   },
   {
    "duration": 67,
    "start_time": "2023-01-24T17:03:49.608Z"
   },
   {
    "duration": 78,
    "start_time": "2023-01-24T17:03:49.677Z"
   },
   {
    "duration": 33,
    "start_time": "2023-01-24T17:03:49.757Z"
   },
   {
    "duration": 19,
    "start_time": "2023-01-24T17:03:49.792Z"
   },
   {
    "duration": 9,
    "start_time": "2023-01-24T17:03:49.813Z"
   },
   {
    "duration": 24,
    "start_time": "2023-01-24T17:03:49.843Z"
   },
   {
    "duration": 11,
    "start_time": "2023-01-24T17:03:49.868Z"
   },
   {
    "duration": 14,
    "start_time": "2023-01-24T17:03:49.881Z"
   },
   {
    "duration": 14,
    "start_time": "2023-01-24T17:03:49.897Z"
   },
   {
    "duration": 4,
    "start_time": "2023-01-24T17:03:49.912Z"
   },
   {
    "duration": 21,
    "start_time": "2023-01-24T17:03:49.917Z"
   },
   {
    "duration": 9,
    "start_time": "2023-01-24T17:03:49.943Z"
   },
   {
    "duration": 9,
    "start_time": "2023-01-24T17:03:49.954Z"
   },
   {
    "duration": 252,
    "start_time": "2023-01-24T17:03:49.964Z"
   },
   {
    "duration": 12,
    "start_time": "2023-01-24T17:03:50.218Z"
   },
   {
    "duration": 229,
    "start_time": "2023-01-24T17:03:50.237Z"
   },
   {
    "duration": 5,
    "start_time": "2023-01-24T17:03:50.468Z"
   },
   {
    "duration": 12,
    "start_time": "2023-01-24T17:03:50.474Z"
   },
   {
    "duration": 30,
    "start_time": "2023-01-24T17:03:50.488Z"
   },
   {
    "duration": 22,
    "start_time": "2023-01-24T17:03:50.520Z"
   },
   {
    "duration": 25,
    "start_time": "2023-01-24T17:03:50.546Z"
   },
   {
    "duration": 18,
    "start_time": "2023-01-24T17:03:50.573Z"
   },
   {
    "duration": 21,
    "start_time": "2023-01-24T17:03:50.593Z"
   },
   {
    "duration": 64,
    "start_time": "2023-01-24T17:03:52.386Z"
   },
   {
    "duration": 6,
    "start_time": "2023-01-24T17:07:28.022Z"
   },
   {
    "duration": 19,
    "start_time": "2023-01-24T17:07:41.724Z"
   },
   {
    "duration": 13,
    "start_time": "2023-01-24T17:08:58.730Z"
   },
   {
    "duration": 5,
    "start_time": "2023-01-24T17:09:18.845Z"
   },
   {
    "duration": 5,
    "start_time": "2023-01-24T17:09:42.605Z"
   },
   {
    "duration": 5,
    "start_time": "2023-01-24T17:09:44.659Z"
   },
   {
    "duration": 28,
    "start_time": "2023-01-24T17:11:20.052Z"
   },
   {
    "duration": 32,
    "start_time": "2023-01-24T17:47:27.394Z"
   },
   {
    "duration": 32,
    "start_time": "2023-01-24T17:48:13.159Z"
   },
   {
    "duration": 11,
    "start_time": "2023-01-24T17:48:36.337Z"
   },
   {
    "duration": 10,
    "start_time": "2023-01-24T17:48:40.051Z"
   },
   {
    "duration": 1240,
    "start_time": "2023-01-24T20:15:12.255Z"
   },
   {
    "duration": 201,
    "start_time": "2023-01-24T20:15:13.496Z"
   },
   {
    "duration": 20,
    "start_time": "2023-01-24T20:15:13.699Z"
   },
   {
    "duration": 17,
    "start_time": "2023-01-24T20:15:13.721Z"
   },
   {
    "duration": 73,
    "start_time": "2023-01-24T20:15:13.744Z"
   },
   {
    "duration": 75,
    "start_time": "2023-01-24T20:15:13.820Z"
   },
   {
    "duration": 84,
    "start_time": "2023-01-24T20:15:13.900Z"
   },
   {
    "duration": 65,
    "start_time": "2023-01-24T20:15:13.985Z"
   },
   {
    "duration": 76,
    "start_time": "2023-01-24T20:15:14.052Z"
   },
   {
    "duration": 20,
    "start_time": "2023-01-24T20:15:14.131Z"
   },
   {
    "duration": 70,
    "start_time": "2023-01-24T20:15:14.152Z"
   },
   {
    "duration": 62,
    "start_time": "2023-01-24T20:15:14.223Z"
   },
   {
    "duration": 31,
    "start_time": "2023-01-24T20:15:14.290Z"
   },
   {
    "duration": 61,
    "start_time": "2023-01-24T20:15:14.323Z"
   },
   {
    "duration": 36,
    "start_time": "2023-01-24T20:15:14.386Z"
   },
   {
    "duration": 69,
    "start_time": "2023-01-24T20:15:14.424Z"
   },
   {
    "duration": 27,
    "start_time": "2023-01-24T20:15:14.495Z"
   },
   {
    "duration": 82,
    "start_time": "2023-01-24T20:15:14.523Z"
   },
   {
    "duration": 414,
    "start_time": "2023-01-24T20:15:14.606Z"
   },
   {
    "duration": 22,
    "start_time": "2023-01-24T20:15:15.021Z"
   },
   {
    "duration": 257,
    "start_time": "2023-01-24T20:15:15.046Z"
   },
   {
    "duration": 7,
    "start_time": "2023-01-24T20:15:15.306Z"
   },
   {
    "duration": 46,
    "start_time": "2023-01-24T20:15:15.315Z"
   },
   {
    "duration": 73,
    "start_time": "2023-01-24T20:15:15.362Z"
   },
   {
    "duration": 8,
    "start_time": "2023-01-24T20:15:15.436Z"
   },
   {
    "duration": 72,
    "start_time": "2023-01-24T20:15:15.445Z"
   },
   {
    "duration": 83,
    "start_time": "2023-01-24T20:15:15.518Z"
   },
   {
    "duration": 85,
    "start_time": "2023-01-24T20:15:15.605Z"
   },
   {
    "duration": 63,
    "start_time": "2023-01-24T20:15:15.691Z"
   },
   {
    "duration": 66,
    "start_time": "2023-01-24T20:15:15.756Z"
   },
   {
    "duration": 3,
    "start_time": "2023-01-24T20:24:06.187Z"
   },
   {
    "duration": 3,
    "start_time": "2023-01-24T22:25:38.285Z"
   },
   {
    "duration": 146,
    "start_time": "2023-01-24T22:25:38.292Z"
   },
   {
    "duration": 16,
    "start_time": "2023-01-24T22:25:38.439Z"
   },
   {
    "duration": 7,
    "start_time": "2023-01-24T22:25:38.456Z"
   },
   {
    "duration": 48,
    "start_time": "2023-01-24T22:25:38.464Z"
   },
   {
    "duration": 72,
    "start_time": "2023-01-24T22:25:38.514Z"
   },
   {
    "duration": 64,
    "start_time": "2023-01-24T22:25:38.587Z"
   },
   {
    "duration": 40,
    "start_time": "2023-01-24T22:25:38.652Z"
   },
   {
    "duration": 17,
    "start_time": "2023-01-24T22:25:38.693Z"
   },
   {
    "duration": 11,
    "start_time": "2023-01-24T22:25:38.711Z"
   },
   {
    "duration": 18,
    "start_time": "2023-01-24T22:25:38.736Z"
   },
   {
    "duration": 9,
    "start_time": "2023-01-24T22:25:38.755Z"
   },
   {
    "duration": 14,
    "start_time": "2023-01-24T22:25:38.765Z"
   },
   {
    "duration": 14,
    "start_time": "2023-01-24T22:25:38.780Z"
   },
   {
    "duration": 2,
    "start_time": "2023-01-24T22:25:38.795Z"
   },
   {
    "duration": 7,
    "start_time": "2023-01-24T22:25:38.798Z"
   },
   {
    "duration": 7,
    "start_time": "2023-01-24T22:25:38.806Z"
   },
   {
    "duration": 3,
    "start_time": "2023-01-24T22:25:38.837Z"
   },
   {
    "duration": 224,
    "start_time": "2023-01-24T22:25:38.841Z"
   },
   {
    "duration": 16,
    "start_time": "2023-01-24T22:25:39.067Z"
   },
   {
    "duration": 172,
    "start_time": "2023-01-24T22:25:39.084Z"
   },
   {
    "duration": 4,
    "start_time": "2023-01-24T22:25:39.257Z"
   },
   {
    "duration": 5,
    "start_time": "2023-01-24T22:25:39.262Z"
   },
   {
    "duration": 98,
    "start_time": "2023-01-24T22:25:39.269Z"
   },
   {
    "duration": 0,
    "start_time": "2023-01-24T22:25:39.369Z"
   },
   {
    "duration": 0,
    "start_time": "2023-01-24T22:25:39.370Z"
   },
   {
    "duration": 0,
    "start_time": "2023-01-24T22:25:39.371Z"
   },
   {
    "duration": 0,
    "start_time": "2023-01-24T22:25:39.372Z"
   },
   {
    "duration": 0,
    "start_time": "2023-01-24T22:25:39.373Z"
   },
   {
    "duration": 0,
    "start_time": "2023-01-24T22:25:39.374Z"
   },
   {
    "duration": 0,
    "start_time": "2023-01-24T22:25:39.375Z"
   },
   {
    "duration": 5,
    "start_time": "2023-01-24T22:25:42.036Z"
   },
   {
    "duration": 15,
    "start_time": "2023-01-24T22:26:39.127Z"
   },
   {
    "duration": 14,
    "start_time": "2023-01-24T22:26:47.680Z"
   },
   {
    "duration": 6,
    "start_time": "2023-01-24T22:30:15.505Z"
   },
   {
    "duration": 14,
    "start_time": "2023-01-24T22:30:18.791Z"
   },
   {
    "duration": 706,
    "start_time": "2023-01-24T22:30:21.438Z"
   },
   {
    "duration": 822,
    "start_time": "2023-01-24T22:31:01.358Z"
   },
   {
    "duration": 8,
    "start_time": "2023-01-24T22:31:56.480Z"
   },
   {
    "duration": 3,
    "start_time": "2023-01-24T22:32:03.268Z"
   },
   {
    "duration": 150,
    "start_time": "2023-01-24T22:32:03.273Z"
   },
   {
    "duration": 18,
    "start_time": "2023-01-24T22:32:03.426Z"
   },
   {
    "duration": 9,
    "start_time": "2023-01-24T22:32:03.445Z"
   },
   {
    "duration": 63,
    "start_time": "2023-01-24T22:32:03.456Z"
   },
   {
    "duration": 57,
    "start_time": "2023-01-24T22:32:03.520Z"
   },
   {
    "duration": 65,
    "start_time": "2023-01-24T22:32:03.578Z"
   },
   {
    "duration": 38,
    "start_time": "2023-01-24T22:32:03.644Z"
   },
   {
    "duration": 18,
    "start_time": "2023-01-24T22:32:03.684Z"
   },
   {
    "duration": 10,
    "start_time": "2023-01-24T22:32:03.703Z"
   },
   {
    "duration": 38,
    "start_time": "2023-01-24T22:32:03.715Z"
   },
   {
    "duration": 8,
    "start_time": "2023-01-24T22:32:03.755Z"
   },
   {
    "duration": 13,
    "start_time": "2023-01-24T22:32:03.765Z"
   },
   {
    "duration": 14,
    "start_time": "2023-01-24T22:32:03.780Z"
   },
   {
    "duration": 2,
    "start_time": "2023-01-24T22:32:03.795Z"
   },
   {
    "duration": 5,
    "start_time": "2023-01-24T22:32:03.798Z"
   },
   {
    "duration": 32,
    "start_time": "2023-01-24T22:32:03.805Z"
   },
   {
    "duration": 4,
    "start_time": "2023-01-24T22:32:03.838Z"
   },
   {
    "duration": 230,
    "start_time": "2023-01-24T22:32:03.843Z"
   },
   {
    "duration": 13,
    "start_time": "2023-01-24T22:32:04.075Z"
   },
   {
    "duration": 177,
    "start_time": "2023-01-24T22:32:04.090Z"
   },
   {
    "duration": 4,
    "start_time": "2023-01-24T22:32:04.268Z"
   },
   {
    "duration": 11,
    "start_time": "2023-01-24T22:32:04.273Z"
   },
   {
    "duration": 9,
    "start_time": "2023-01-24T22:32:04.285Z"
   },
   {
    "duration": 0,
    "start_time": "2023-01-24T22:32:04.295Z"
   },
   {
    "duration": 0,
    "start_time": "2023-01-24T22:32:04.296Z"
   },
   {
    "duration": 0,
    "start_time": "2023-01-24T22:32:04.297Z"
   },
   {
    "duration": 0,
    "start_time": "2023-01-24T22:32:04.298Z"
   },
   {
    "duration": 0,
    "start_time": "2023-01-24T22:32:04.299Z"
   },
   {
    "duration": 0,
    "start_time": "2023-01-24T22:32:04.300Z"
   },
   {
    "duration": 0,
    "start_time": "2023-01-24T22:32:04.300Z"
   },
   {
    "duration": 0,
    "start_time": "2023-01-24T22:32:04.301Z"
   },
   {
    "duration": 0,
    "start_time": "2023-01-24T22:32:04.302Z"
   },
   {
    "duration": 70,
    "start_time": "2023-01-24T22:32:07.397Z"
   },
   {
    "duration": 14,
    "start_time": "2023-01-24T22:32:07.870Z"
   },
   {
    "duration": 7,
    "start_time": "2023-01-24T22:32:10.616Z"
   },
   {
    "duration": 3,
    "start_time": "2023-01-24T22:32:29.130Z"
   },
   {
    "duration": 147,
    "start_time": "2023-01-24T22:32:29.135Z"
   },
   {
    "duration": 15,
    "start_time": "2023-01-24T22:32:29.284Z"
   },
   {
    "duration": 7,
    "start_time": "2023-01-24T22:32:29.300Z"
   },
   {
    "duration": 55,
    "start_time": "2023-01-24T22:32:29.308Z"
   },
   {
    "duration": 52,
    "start_time": "2023-01-24T22:32:29.365Z"
   },
   {
    "duration": 73,
    "start_time": "2023-01-24T22:32:29.419Z"
   },
   {
    "duration": 45,
    "start_time": "2023-01-24T22:32:29.493Z"
   },
   {
    "duration": 18,
    "start_time": "2023-01-24T22:32:29.540Z"
   },
   {
    "duration": 10,
    "start_time": "2023-01-24T22:32:29.560Z"
   },
   {
    "duration": 20,
    "start_time": "2023-01-24T22:32:29.572Z"
   },
   {
    "duration": 16,
    "start_time": "2023-01-24T22:32:29.594Z"
   },
   {
    "duration": 17,
    "start_time": "2023-01-24T22:32:29.611Z"
   },
   {
    "duration": 20,
    "start_time": "2023-01-24T22:32:29.629Z"
   },
   {
    "duration": 2,
    "start_time": "2023-01-24T22:32:29.650Z"
   },
   {
    "duration": 12,
    "start_time": "2023-01-24T22:32:29.653Z"
   },
   {
    "duration": 18,
    "start_time": "2023-01-24T22:32:29.666Z"
   },
   {
    "duration": 28,
    "start_time": "2023-01-24T22:32:29.685Z"
   },
   {
    "duration": 230,
    "start_time": "2023-01-24T22:32:29.714Z"
   },
   {
    "duration": 13,
    "start_time": "2023-01-24T22:32:29.945Z"
   },
   {
    "duration": 178,
    "start_time": "2023-01-24T22:32:29.959Z"
   },
   {
    "duration": 4,
    "start_time": "2023-01-24T22:32:30.139Z"
   },
   {
    "duration": 33,
    "start_time": "2023-01-24T22:32:30.144Z"
   },
   {
    "duration": 33,
    "start_time": "2023-01-24T22:32:30.179Z"
   },
   {
    "duration": 0,
    "start_time": "2023-01-24T22:32:30.213Z"
   },
   {
    "duration": 0,
    "start_time": "2023-01-24T22:32:30.214Z"
   },
   {
    "duration": 0,
    "start_time": "2023-01-24T22:32:30.215Z"
   },
   {
    "duration": 0,
    "start_time": "2023-01-24T22:32:30.216Z"
   },
   {
    "duration": 0,
    "start_time": "2023-01-24T22:32:30.218Z"
   },
   {
    "duration": 0,
    "start_time": "2023-01-24T22:32:30.218Z"
   },
   {
    "duration": 0,
    "start_time": "2023-01-24T22:32:30.219Z"
   },
   {
    "duration": 6,
    "start_time": "2023-01-24T22:32:32.733Z"
   },
   {
    "duration": 2,
    "start_time": "2023-01-24T22:32:33.224Z"
   },
   {
    "duration": 773,
    "start_time": "2023-01-24T22:32:33.923Z"
   },
   {
    "duration": 785,
    "start_time": "2023-01-24T22:33:00.921Z"
   },
   {
    "duration": 12,
    "start_time": "2023-01-24T22:33:29.239Z"
   },
   {
    "duration": 5,
    "start_time": "2023-01-24T22:33:55.361Z"
   },
   {
    "duration": 14,
    "start_time": "2023-01-24T22:33:55.952Z"
   },
   {
    "duration": 17,
    "start_time": "2023-01-24T22:34:00.589Z"
   },
   {
    "duration": 3,
    "start_time": "2023-01-24T22:34:22.089Z"
   },
   {
    "duration": 168,
    "start_time": "2023-01-24T22:34:22.094Z"
   },
   {
    "duration": 17,
    "start_time": "2023-01-24T22:34:22.264Z"
   },
   {
    "duration": 17,
    "start_time": "2023-01-24T22:34:22.283Z"
   },
   {
    "duration": 73,
    "start_time": "2023-01-24T22:34:22.302Z"
   },
   {
    "duration": 74,
    "start_time": "2023-01-24T22:34:22.376Z"
   },
   {
    "duration": 87,
    "start_time": "2023-01-24T22:34:22.453Z"
   },
   {
    "duration": 40,
    "start_time": "2023-01-24T22:34:22.542Z"
   },
   {
    "duration": 21,
    "start_time": "2023-01-24T22:34:22.583Z"
   },
   {
    "duration": 10,
    "start_time": "2023-01-24T22:34:22.606Z"
   },
   {
    "duration": 20,
    "start_time": "2023-01-24T22:34:22.637Z"
   },
   {
    "duration": 12,
    "start_time": "2023-01-24T22:34:22.659Z"
   },
   {
    "duration": 16,
    "start_time": "2023-01-24T22:34:22.673Z"
   },
   {
    "duration": 15,
    "start_time": "2023-01-24T22:34:22.691Z"
   },
   {
    "duration": 2,
    "start_time": "2023-01-24T22:34:22.707Z"
   },
   {
    "duration": 28,
    "start_time": "2023-01-24T22:34:22.710Z"
   },
   {
    "duration": 9,
    "start_time": "2023-01-24T22:34:22.739Z"
   },
   {
    "duration": 14,
    "start_time": "2023-01-24T22:34:22.749Z"
   },
   {
    "duration": 243,
    "start_time": "2023-01-24T22:34:22.765Z"
   },
   {
    "duration": 13,
    "start_time": "2023-01-24T22:34:23.010Z"
   },
   {
    "duration": 192,
    "start_time": "2023-01-24T22:34:23.025Z"
   },
   {
    "duration": 4,
    "start_time": "2023-01-24T22:34:23.218Z"
   },
   {
    "duration": 5,
    "start_time": "2023-01-24T22:34:23.236Z"
   },
   {
    "duration": 12,
    "start_time": "2023-01-24T22:34:23.242Z"
   },
   {
    "duration": 0,
    "start_time": "2023-01-24T22:34:23.256Z"
   },
   {
    "duration": 0,
    "start_time": "2023-01-24T22:34:23.258Z"
   },
   {
    "duration": 0,
    "start_time": "2023-01-24T22:34:23.259Z"
   },
   {
    "duration": 0,
    "start_time": "2023-01-24T22:34:23.260Z"
   },
   {
    "duration": 0,
    "start_time": "2023-01-24T22:34:23.261Z"
   },
   {
    "duration": 0,
    "start_time": "2023-01-24T22:34:23.262Z"
   },
   {
    "duration": 0,
    "start_time": "2023-01-24T22:34:23.263Z"
   },
   {
    "duration": 0,
    "start_time": "2023-01-24T22:34:23.264Z"
   },
   {
    "duration": 0,
    "start_time": "2023-01-24T22:34:23.265Z"
   },
   {
    "duration": 0,
    "start_time": "2023-01-24T22:34:23.266Z"
   },
   {
    "duration": 17,
    "start_time": "2023-01-24T22:34:25.473Z"
   },
   {
    "duration": 20,
    "start_time": "2023-01-24T22:34:26.103Z"
   },
   {
    "duration": 14,
    "start_time": "2023-01-24T22:35:29.442Z"
   },
   {
    "duration": 8,
    "start_time": "2023-01-24T22:35:47.509Z"
   },
   {
    "duration": 8,
    "start_time": "2023-01-24T22:35:56.621Z"
   },
   {
    "duration": 16,
    "start_time": "2023-01-24T22:36:01.116Z"
   },
   {
    "duration": 13,
    "start_time": "2023-01-24T22:36:26.405Z"
   },
   {
    "duration": 60,
    "start_time": "2023-01-24T22:36:27.603Z"
   },
   {
    "duration": 30,
    "start_time": "2023-01-24T22:36:29.880Z"
   },
   {
    "duration": 19,
    "start_time": "2023-01-24T22:36:31.584Z"
   },
   {
    "duration": 16,
    "start_time": "2023-01-24T22:36:32.210Z"
   },
   {
    "duration": 6,
    "start_time": "2023-01-24T22:36:36.589Z"
   },
   {
    "duration": 14,
    "start_time": "2023-01-24T22:36:37.171Z"
   },
   {
    "duration": 15,
    "start_time": "2023-01-24T22:36:37.946Z"
   },
   {
    "duration": 20,
    "start_time": "2023-01-24T22:37:50.561Z"
   },
   {
    "duration": 20,
    "start_time": "2023-01-24T22:38:05.230Z"
   },
   {
    "duration": 5,
    "start_time": "2023-01-24T22:38:09.497Z"
   },
   {
    "duration": 14,
    "start_time": "2023-01-24T22:38:10.496Z"
   },
   {
    "duration": 21,
    "start_time": "2023-01-24T22:38:11.178Z"
   },
   {
    "duration": 3,
    "start_time": "2023-01-24T22:38:33.430Z"
   },
   {
    "duration": 167,
    "start_time": "2023-01-24T22:38:33.434Z"
   },
   {
    "duration": 16,
    "start_time": "2023-01-24T22:38:33.602Z"
   },
   {
    "duration": 20,
    "start_time": "2023-01-24T22:38:33.619Z"
   },
   {
    "duration": 54,
    "start_time": "2023-01-24T22:38:33.641Z"
   },
   {
    "duration": 51,
    "start_time": "2023-01-24T22:38:33.697Z"
   },
   {
    "duration": 59,
    "start_time": "2023-01-24T22:38:33.749Z"
   },
   {
    "duration": 47,
    "start_time": "2023-01-24T22:38:33.809Z"
   },
   {
    "duration": 27,
    "start_time": "2023-01-24T22:38:33.858Z"
   },
   {
    "duration": 9,
    "start_time": "2023-01-24T22:38:33.887Z"
   },
   {
    "duration": 24,
    "start_time": "2023-01-24T22:38:33.898Z"
   },
   {
    "duration": 8,
    "start_time": "2023-01-24T22:38:33.923Z"
   },
   {
    "duration": 14,
    "start_time": "2023-01-24T22:38:33.937Z"
   },
   {
    "duration": 16,
    "start_time": "2023-01-24T22:38:33.952Z"
   },
   {
    "duration": 13,
    "start_time": "2023-01-24T22:38:33.970Z"
   },
   {
    "duration": 11,
    "start_time": "2023-01-24T22:38:33.984Z"
   },
   {
    "duration": 7,
    "start_time": "2023-01-24T22:38:33.996Z"
   },
   {
    "duration": 4,
    "start_time": "2023-01-24T22:38:34.005Z"
   },
   {
    "duration": 242,
    "start_time": "2023-01-24T22:38:34.011Z"
   },
   {
    "duration": 15,
    "start_time": "2023-01-24T22:38:34.254Z"
   },
   {
    "duration": 188,
    "start_time": "2023-01-24T22:38:34.270Z"
   },
   {
    "duration": 4,
    "start_time": "2023-01-24T22:38:34.460Z"
   },
   {
    "duration": 23,
    "start_time": "2023-01-24T22:38:34.465Z"
   },
   {
    "duration": 11,
    "start_time": "2023-01-24T22:38:34.490Z"
   },
   {
    "duration": 0,
    "start_time": "2023-01-24T22:38:34.503Z"
   },
   {
    "duration": 0,
    "start_time": "2023-01-24T22:38:34.504Z"
   },
   {
    "duration": 0,
    "start_time": "2023-01-24T22:38:34.505Z"
   },
   {
    "duration": 0,
    "start_time": "2023-01-24T22:38:34.506Z"
   },
   {
    "duration": 0,
    "start_time": "2023-01-24T22:38:34.507Z"
   },
   {
    "duration": 0,
    "start_time": "2023-01-24T22:38:34.508Z"
   },
   {
    "duration": 0,
    "start_time": "2023-01-24T22:38:34.509Z"
   },
   {
    "duration": 0,
    "start_time": "2023-01-24T22:38:34.509Z"
   },
   {
    "duration": 0,
    "start_time": "2023-01-24T22:38:34.510Z"
   },
   {
    "duration": 0,
    "start_time": "2023-01-24T22:38:34.511Z"
   },
   {
    "duration": 0,
    "start_time": "2023-01-24T22:38:34.512Z"
   },
   {
    "duration": 0,
    "start_time": "2023-01-24T22:38:34.513Z"
   },
   {
    "duration": 14,
    "start_time": "2023-01-24T22:38:36.185Z"
   },
   {
    "duration": 15,
    "start_time": "2023-01-24T22:38:36.808Z"
   },
   {
    "duration": 980,
    "start_time": "2023-01-24T22:38:56.675Z"
   },
   {
    "duration": 155,
    "start_time": "2023-01-24T22:38:57.657Z"
   },
   {
    "duration": 18,
    "start_time": "2023-01-24T22:38:57.813Z"
   },
   {
    "duration": 9,
    "start_time": "2023-01-24T22:38:57.838Z"
   },
   {
    "duration": 55,
    "start_time": "2023-01-24T22:38:57.849Z"
   },
   {
    "duration": 68,
    "start_time": "2023-01-24T22:38:57.905Z"
   },
   {
    "duration": 62,
    "start_time": "2023-01-24T22:38:57.975Z"
   },
   {
    "duration": 33,
    "start_time": "2023-01-24T22:38:58.038Z"
   },
   {
    "duration": 17,
    "start_time": "2023-01-24T22:38:58.072Z"
   },
   {
    "duration": 9,
    "start_time": "2023-01-24T22:38:58.091Z"
   },
   {
    "duration": 38,
    "start_time": "2023-01-24T22:38:58.101Z"
   },
   {
    "duration": 5,
    "start_time": "2023-01-24T22:38:58.141Z"
   },
   {
    "duration": 14,
    "start_time": "2023-01-24T22:38:58.147Z"
   },
   {
    "duration": 13,
    "start_time": "2023-01-24T22:38:58.163Z"
   },
   {
    "duration": 2,
    "start_time": "2023-01-24T22:38:58.178Z"
   },
   {
    "duration": 9,
    "start_time": "2023-01-24T22:38:58.181Z"
   },
   {
    "duration": 6,
    "start_time": "2023-01-24T22:38:58.191Z"
   },
   {
    "duration": 4,
    "start_time": "2023-01-24T22:38:58.198Z"
   },
   {
    "duration": 336,
    "start_time": "2023-01-24T22:38:58.203Z"
   },
   {
    "duration": 17,
    "start_time": "2023-01-24T22:38:58.541Z"
   },
   {
    "duration": 181,
    "start_time": "2023-01-24T22:38:58.560Z"
   },
   {
    "duration": 5,
    "start_time": "2023-01-24T22:38:58.743Z"
   },
   {
    "duration": 9,
    "start_time": "2023-01-24T22:38:58.750Z"
   },
   {
    "duration": 98,
    "start_time": "2023-01-24T22:38:58.761Z"
   },
   {
    "duration": 0,
    "start_time": "2023-01-24T22:38:58.861Z"
   },
   {
    "duration": 0,
    "start_time": "2023-01-24T22:38:58.862Z"
   },
   {
    "duration": 0,
    "start_time": "2023-01-24T22:38:58.864Z"
   },
   {
    "duration": 0,
    "start_time": "2023-01-24T22:38:58.865Z"
   },
   {
    "duration": 0,
    "start_time": "2023-01-24T22:38:58.866Z"
   },
   {
    "duration": 0,
    "start_time": "2023-01-24T22:38:58.867Z"
   },
   {
    "duration": 0,
    "start_time": "2023-01-24T22:38:58.869Z"
   },
   {
    "duration": 0,
    "start_time": "2023-01-24T22:38:58.870Z"
   },
   {
    "duration": 0,
    "start_time": "2023-01-24T22:38:58.871Z"
   },
   {
    "duration": 0,
    "start_time": "2023-01-24T22:38:58.873Z"
   },
   {
    "duration": 0,
    "start_time": "2023-01-24T22:38:58.874Z"
   },
   {
    "duration": 0,
    "start_time": "2023-01-24T22:38:58.875Z"
   },
   {
    "duration": 0,
    "start_time": "2023-01-24T22:38:58.877Z"
   },
   {
    "duration": 3,
    "start_time": "2023-01-24T22:39:16.027Z"
   },
   {
    "duration": 141,
    "start_time": "2023-01-24T22:39:16.031Z"
   },
   {
    "duration": 16,
    "start_time": "2023-01-24T22:39:16.174Z"
   },
   {
    "duration": 7,
    "start_time": "2023-01-24T22:39:16.191Z"
   },
   {
    "duration": 61,
    "start_time": "2023-01-24T22:39:16.199Z"
   },
   {
    "duration": 47,
    "start_time": "2023-01-24T22:39:16.262Z"
   },
   {
    "duration": 73,
    "start_time": "2023-01-24T22:39:16.311Z"
   },
   {
    "duration": 34,
    "start_time": "2023-01-24T22:39:16.385Z"
   },
   {
    "duration": 24,
    "start_time": "2023-01-24T22:39:16.421Z"
   },
   {
    "duration": 9,
    "start_time": "2023-01-24T22:39:16.447Z"
   },
   {
    "duration": 17,
    "start_time": "2023-01-24T22:39:16.458Z"
   },
   {
    "duration": 7,
    "start_time": "2023-01-24T22:39:16.477Z"
   },
   {
    "duration": 14,
    "start_time": "2023-01-24T22:39:16.485Z"
   },
   {
    "duration": 38,
    "start_time": "2023-01-24T22:39:16.501Z"
   },
   {
    "duration": 2,
    "start_time": "2023-01-24T22:39:16.541Z"
   },
   {
    "duration": 6,
    "start_time": "2023-01-24T22:39:16.544Z"
   },
   {
    "duration": 9,
    "start_time": "2023-01-24T22:39:16.552Z"
   },
   {
    "duration": 6,
    "start_time": "2023-01-24T22:39:16.562Z"
   },
   {
    "duration": 229,
    "start_time": "2023-01-24T22:39:16.569Z"
   },
   {
    "duration": 15,
    "start_time": "2023-01-24T22:39:16.799Z"
   },
   {
    "duration": 172,
    "start_time": "2023-01-24T22:39:16.816Z"
   },
   {
    "duration": 4,
    "start_time": "2023-01-24T22:39:16.989Z"
   },
   {
    "duration": 8,
    "start_time": "2023-01-24T22:39:16.994Z"
   },
   {
    "duration": 9,
    "start_time": "2023-01-24T22:39:17.003Z"
   },
   {
    "duration": 0,
    "start_time": "2023-01-24T22:39:17.013Z"
   },
   {
    "duration": 0,
    "start_time": "2023-01-24T22:39:17.014Z"
   },
   {
    "duration": 0,
    "start_time": "2023-01-24T22:39:17.015Z"
   },
   {
    "duration": 0,
    "start_time": "2023-01-24T22:39:17.016Z"
   },
   {
    "duration": 0,
    "start_time": "2023-01-24T22:39:17.017Z"
   },
   {
    "duration": 0,
    "start_time": "2023-01-24T22:39:17.036Z"
   },
   {
    "duration": 0,
    "start_time": "2023-01-24T22:39:17.037Z"
   },
   {
    "duration": 0,
    "start_time": "2023-01-24T22:39:17.039Z"
   },
   {
    "duration": 0,
    "start_time": "2023-01-24T22:39:17.040Z"
   },
   {
    "duration": 0,
    "start_time": "2023-01-24T22:39:17.041Z"
   },
   {
    "duration": 0,
    "start_time": "2023-01-24T22:39:17.042Z"
   },
   {
    "duration": 0,
    "start_time": "2023-01-24T22:39:17.043Z"
   },
   {
    "duration": 0,
    "start_time": "2023-01-24T22:39:17.044Z"
   },
   {
    "duration": 8,
    "start_time": "2023-01-24T22:39:20.295Z"
   },
   {
    "duration": 7,
    "start_time": "2023-01-24T22:39:25.348Z"
   },
   {
    "duration": 16,
    "start_time": "2023-01-24T22:39:26.001Z"
   },
   {
    "duration": 7,
    "start_time": "2023-01-24T22:39:26.469Z"
   },
   {
    "duration": 4,
    "start_time": "2023-01-24T22:39:34.858Z"
   },
   {
    "duration": 187,
    "start_time": "2023-01-24T22:39:34.864Z"
   },
   {
    "duration": 16,
    "start_time": "2023-01-24T22:39:35.053Z"
   },
   {
    "duration": 7,
    "start_time": "2023-01-24T22:39:35.070Z"
   },
   {
    "duration": 59,
    "start_time": "2023-01-24T22:39:35.078Z"
   },
   {
    "duration": 47,
    "start_time": "2023-01-24T22:39:35.139Z"
   },
   {
    "duration": 70,
    "start_time": "2023-01-24T22:39:35.187Z"
   },
   {
    "duration": 37,
    "start_time": "2023-01-24T22:39:35.259Z"
   },
   {
    "duration": 17,
    "start_time": "2023-01-24T22:39:35.298Z"
   },
   {
    "duration": 21,
    "start_time": "2023-01-24T22:39:35.316Z"
   },
   {
    "duration": 17,
    "start_time": "2023-01-24T22:39:35.339Z"
   },
   {
    "duration": 8,
    "start_time": "2023-01-24T22:39:35.358Z"
   },
   {
    "duration": 14,
    "start_time": "2023-01-24T22:39:35.368Z"
   },
   {
    "duration": 14,
    "start_time": "2023-01-24T22:39:35.383Z"
   },
   {
    "duration": 2,
    "start_time": "2023-01-24T22:39:35.398Z"
   },
   {
    "duration": 5,
    "start_time": "2023-01-24T22:39:35.401Z"
   },
   {
    "duration": 31,
    "start_time": "2023-01-24T22:39:35.407Z"
   },
   {
    "duration": 7,
    "start_time": "2023-01-24T22:39:35.439Z"
   },
   {
    "duration": 242,
    "start_time": "2023-01-24T22:39:35.447Z"
   },
   {
    "duration": 13,
    "start_time": "2023-01-24T22:39:35.690Z"
   },
   {
    "duration": 181,
    "start_time": "2023-01-24T22:39:35.704Z"
   },
   {
    "duration": 5,
    "start_time": "2023-01-24T22:39:35.887Z"
   },
   {
    "duration": 11,
    "start_time": "2023-01-24T22:39:35.893Z"
   },
   {
    "duration": 10,
    "start_time": "2023-01-24T22:39:35.905Z"
   },
   {
    "duration": 0,
    "start_time": "2023-01-24T22:39:35.916Z"
   },
   {
    "duration": 0,
    "start_time": "2023-01-24T22:39:35.917Z"
   },
   {
    "duration": 0,
    "start_time": "2023-01-24T22:39:35.918Z"
   },
   {
    "duration": 0,
    "start_time": "2023-01-24T22:39:35.919Z"
   },
   {
    "duration": 0,
    "start_time": "2023-01-24T22:39:35.920Z"
   },
   {
    "duration": 0,
    "start_time": "2023-01-24T22:39:35.921Z"
   },
   {
    "duration": 0,
    "start_time": "2023-01-24T22:39:35.922Z"
   },
   {
    "duration": 0,
    "start_time": "2023-01-24T22:39:35.937Z"
   },
   {
    "duration": 0,
    "start_time": "2023-01-24T22:39:35.938Z"
   },
   {
    "duration": 0,
    "start_time": "2023-01-24T22:39:35.939Z"
   },
   {
    "duration": 0,
    "start_time": "2023-01-24T22:39:35.940Z"
   },
   {
    "duration": 0,
    "start_time": "2023-01-24T22:39:35.942Z"
   },
   {
    "duration": 0,
    "start_time": "2023-01-24T22:39:35.942Z"
   },
   {
    "duration": 955,
    "start_time": "2023-01-24T22:39:57.699Z"
   },
   {
    "duration": 155,
    "start_time": "2023-01-24T22:39:58.655Z"
   },
   {
    "duration": 17,
    "start_time": "2023-01-24T22:39:58.812Z"
   },
   {
    "duration": 11,
    "start_time": "2023-01-24T22:39:58.836Z"
   },
   {
    "duration": 62,
    "start_time": "2023-01-24T22:39:58.848Z"
   },
   {
    "duration": 65,
    "start_time": "2023-01-24T22:39:58.912Z"
   },
   {
    "duration": 67,
    "start_time": "2023-01-24T22:39:58.978Z"
   },
   {
    "duration": 49,
    "start_time": "2023-01-24T22:39:59.046Z"
   },
   {
    "duration": 16,
    "start_time": "2023-01-24T22:39:59.097Z"
   },
   {
    "duration": 9,
    "start_time": "2023-01-24T22:39:59.115Z"
   },
   {
    "duration": 24,
    "start_time": "2023-01-24T22:39:59.126Z"
   },
   {
    "duration": 23,
    "start_time": "2023-01-24T22:39:59.151Z"
   },
   {
    "duration": 14,
    "start_time": "2023-01-24T22:39:59.176Z"
   },
   {
    "duration": 14,
    "start_time": "2023-01-24T22:39:59.192Z"
   },
   {
    "duration": 2,
    "start_time": "2023-01-24T22:39:59.208Z"
   },
   {
    "duration": 7,
    "start_time": "2023-01-24T22:39:59.211Z"
   },
   {
    "duration": 19,
    "start_time": "2023-01-24T22:39:59.219Z"
   },
   {
    "duration": 4,
    "start_time": "2023-01-24T22:39:59.239Z"
   },
   {
    "duration": 305,
    "start_time": "2023-01-24T22:39:59.244Z"
   },
   {
    "duration": 18,
    "start_time": "2023-01-24T22:39:59.550Z"
   },
   {
    "duration": 184,
    "start_time": "2023-01-24T22:39:59.569Z"
   },
   {
    "duration": 4,
    "start_time": "2023-01-24T22:39:59.755Z"
   },
   {
    "duration": 8,
    "start_time": "2023-01-24T22:39:59.760Z"
   },
   {
    "duration": 97,
    "start_time": "2023-01-24T22:39:59.769Z"
   },
   {
    "duration": 0,
    "start_time": "2023-01-24T22:39:59.868Z"
   },
   {
    "duration": 0,
    "start_time": "2023-01-24T22:39:59.869Z"
   },
   {
    "duration": 0,
    "start_time": "2023-01-24T22:39:59.870Z"
   },
   {
    "duration": 0,
    "start_time": "2023-01-24T22:39:59.871Z"
   },
   {
    "duration": 0,
    "start_time": "2023-01-24T22:39:59.872Z"
   },
   {
    "duration": 0,
    "start_time": "2023-01-24T22:39:59.873Z"
   },
   {
    "duration": 0,
    "start_time": "2023-01-24T22:39:59.874Z"
   },
   {
    "duration": 0,
    "start_time": "2023-01-24T22:39:59.875Z"
   },
   {
    "duration": 0,
    "start_time": "2023-01-24T22:39:59.876Z"
   },
   {
    "duration": 0,
    "start_time": "2023-01-24T22:39:59.877Z"
   },
   {
    "duration": 0,
    "start_time": "2023-01-24T22:39:59.878Z"
   },
   {
    "duration": 0,
    "start_time": "2023-01-24T22:39:59.879Z"
   },
   {
    "duration": 0,
    "start_time": "2023-01-24T22:39:59.880Z"
   },
   {
    "duration": 3,
    "start_time": "2023-01-24T22:40:12.607Z"
   },
   {
    "duration": 161,
    "start_time": "2023-01-24T22:40:12.612Z"
   },
   {
    "duration": 16,
    "start_time": "2023-01-24T22:40:12.776Z"
   },
   {
    "duration": 17,
    "start_time": "2023-01-24T22:40:12.794Z"
   },
   {
    "duration": 56,
    "start_time": "2023-01-24T22:40:12.813Z"
   },
   {
    "duration": 48,
    "start_time": "2023-01-24T22:40:12.870Z"
   },
   {
    "duration": 69,
    "start_time": "2023-01-24T22:40:12.920Z"
   },
   {
    "duration": 44,
    "start_time": "2023-01-24T22:40:12.991Z"
   },
   {
    "duration": 30,
    "start_time": "2023-01-24T22:40:13.037Z"
   },
   {
    "duration": 13,
    "start_time": "2023-01-24T22:40:13.069Z"
   },
   {
    "duration": 18,
    "start_time": "2023-01-24T22:40:13.085Z"
   },
   {
    "duration": 30,
    "start_time": "2023-01-24T22:40:13.105Z"
   },
   {
    "duration": 17,
    "start_time": "2023-01-24T22:40:13.137Z"
   },
   {
    "duration": 23,
    "start_time": "2023-01-24T22:40:13.156Z"
   },
   {
    "duration": 4,
    "start_time": "2023-01-24T22:40:13.181Z"
   },
   {
    "duration": 26,
    "start_time": "2023-01-24T22:40:13.186Z"
   },
   {
    "duration": 28,
    "start_time": "2023-01-24T22:40:13.213Z"
   },
   {
    "duration": 18,
    "start_time": "2023-01-24T22:40:13.243Z"
   },
   {
    "duration": 238,
    "start_time": "2023-01-24T22:40:13.262Z"
   },
   {
    "duration": 14,
    "start_time": "2023-01-24T22:40:13.502Z"
   },
   {
    "duration": 189,
    "start_time": "2023-01-24T22:40:13.517Z"
   },
   {
    "duration": 4,
    "start_time": "2023-01-24T22:40:13.709Z"
   },
   {
    "duration": 18,
    "start_time": "2023-01-24T22:40:13.714Z"
   },
   {
    "duration": 21,
    "start_time": "2023-01-24T22:40:13.733Z"
   },
   {
    "duration": 0,
    "start_time": "2023-01-24T22:40:13.756Z"
   },
   {
    "duration": 0,
    "start_time": "2023-01-24T22:40:13.757Z"
   },
   {
    "duration": 0,
    "start_time": "2023-01-24T22:40:13.757Z"
   },
   {
    "duration": 0,
    "start_time": "2023-01-24T22:40:13.758Z"
   },
   {
    "duration": 0,
    "start_time": "2023-01-24T22:40:13.759Z"
   },
   {
    "duration": 0,
    "start_time": "2023-01-24T22:40:13.760Z"
   },
   {
    "duration": 0,
    "start_time": "2023-01-24T22:40:13.761Z"
   },
   {
    "duration": 0,
    "start_time": "2023-01-24T22:40:13.762Z"
   },
   {
    "duration": 0,
    "start_time": "2023-01-24T22:40:13.763Z"
   },
   {
    "duration": 0,
    "start_time": "2023-01-24T22:40:13.763Z"
   },
   {
    "duration": 0,
    "start_time": "2023-01-24T22:40:13.764Z"
   },
   {
    "duration": 0,
    "start_time": "2023-01-24T22:40:13.765Z"
   },
   {
    "duration": 0,
    "start_time": "2023-01-24T22:40:13.766Z"
   },
   {
    "duration": 8,
    "start_time": "2023-01-24T22:40:19.792Z"
   },
   {
    "duration": 23,
    "start_time": "2023-01-24T22:40:25.623Z"
   },
   {
    "duration": 17,
    "start_time": "2023-01-24T22:40:26.667Z"
   },
   {
    "duration": 21,
    "start_time": "2023-01-24T22:40:27.762Z"
   },
   {
    "duration": 20,
    "start_time": "2023-01-24T22:40:28.573Z"
   },
   {
    "duration": 5,
    "start_time": "2023-01-24T22:40:30.616Z"
   },
   {
    "duration": 14,
    "start_time": "2023-01-24T22:40:31.258Z"
   },
   {
    "duration": 18,
    "start_time": "2023-01-24T22:40:31.950Z"
   },
   {
    "duration": 10,
    "start_time": "2023-01-24T22:41:22.310Z"
   },
   {
    "duration": 3,
    "start_time": "2023-01-24T22:42:01.576Z"
   },
   {
    "duration": 178,
    "start_time": "2023-01-24T22:42:01.584Z"
   },
   {
    "duration": 16,
    "start_time": "2023-01-24T22:42:01.764Z"
   },
   {
    "duration": 23,
    "start_time": "2023-01-24T22:42:01.782Z"
   },
   {
    "duration": 65,
    "start_time": "2023-01-24T22:42:01.806Z"
   },
   {
    "duration": 56,
    "start_time": "2023-01-24T22:42:01.874Z"
   },
   {
    "duration": 59,
    "start_time": "2023-01-24T22:42:01.937Z"
   },
   {
    "duration": 47,
    "start_time": "2023-01-24T22:42:01.997Z"
   },
   {
    "duration": 21,
    "start_time": "2023-01-24T22:42:02.045Z"
   },
   {
    "duration": 22,
    "start_time": "2023-01-24T22:42:02.067Z"
   },
   {
    "duration": 23,
    "start_time": "2023-01-24T22:42:02.090Z"
   },
   {
    "duration": 26,
    "start_time": "2023-01-24T22:42:02.114Z"
   },
   {
    "duration": 41,
    "start_time": "2023-01-24T22:42:02.142Z"
   },
   {
    "duration": 15,
    "start_time": "2023-01-24T22:42:02.185Z"
   },
   {
    "duration": 2,
    "start_time": "2023-01-24T22:42:02.202Z"
   },
   {
    "duration": 9,
    "start_time": "2023-01-24T22:42:02.205Z"
   },
   {
    "duration": 6,
    "start_time": "2023-01-24T22:42:02.216Z"
   },
   {
    "duration": 20,
    "start_time": "2023-01-24T22:42:02.223Z"
   },
   {
    "duration": 255,
    "start_time": "2023-01-24T22:42:02.245Z"
   },
   {
    "duration": 16,
    "start_time": "2023-01-24T22:42:02.502Z"
   },
   {
    "duration": 191,
    "start_time": "2023-01-24T22:42:02.520Z"
   },
   {
    "duration": 4,
    "start_time": "2023-01-24T22:42:02.712Z"
   },
   {
    "duration": 30,
    "start_time": "2023-01-24T22:42:02.718Z"
   },
   {
    "duration": 16,
    "start_time": "2023-01-24T22:42:02.750Z"
   },
   {
    "duration": 51,
    "start_time": "2023-01-24T22:42:02.768Z"
   },
   {
    "duration": 12,
    "start_time": "2023-01-24T22:42:02.820Z"
   },
   {
    "duration": 22,
    "start_time": "2023-01-24T22:42:02.833Z"
   },
   {
    "duration": 17,
    "start_time": "2023-01-24T22:42:02.856Z"
   },
   {
    "duration": 122,
    "start_time": "2023-01-24T22:42:02.874Z"
   },
   {
    "duration": 31,
    "start_time": "2023-01-24T22:42:02.997Z"
   },
   {
    "duration": 18,
    "start_time": "2023-01-24T22:42:03.037Z"
   },
   {
    "duration": 16,
    "start_time": "2023-01-24T22:42:03.056Z"
   },
   {
    "duration": 20,
    "start_time": "2023-01-24T22:42:03.073Z"
   },
   {
    "duration": 44,
    "start_time": "2023-01-24T22:42:03.094Z"
   },
   {
    "duration": 5,
    "start_time": "2023-01-24T22:42:03.139Z"
   },
   {
    "duration": 31,
    "start_time": "2023-01-24T22:42:03.146Z"
   },
   {
    "duration": 21,
    "start_time": "2023-01-24T22:42:03.178Z"
   },
   {
    "duration": 13,
    "start_time": "2023-01-24T22:43:40.638Z"
   },
   {
    "duration": 4,
    "start_time": "2023-01-24T22:44:37.802Z"
   },
   {
    "duration": 6,
    "start_time": "2023-01-24T22:44:44.544Z"
   },
   {
    "duration": 14,
    "start_time": "2023-01-24T22:44:45.227Z"
   },
   {
    "duration": 7,
    "start_time": "2023-01-24T22:44:45.738Z"
   },
   {
    "duration": 5,
    "start_time": "2023-01-24T22:47:05.751Z"
   },
   {
    "duration": 15,
    "start_time": "2023-01-24T22:47:07.327Z"
   },
   {
    "duration": 6,
    "start_time": "2023-01-24T22:47:07.777Z"
   },
   {
    "duration": 6,
    "start_time": "2023-01-24T22:48:25.080Z"
   },
   {
    "duration": 17,
    "start_time": "2023-01-24T22:48:25.706Z"
   },
   {
    "duration": 7,
    "start_time": "2023-01-24T22:48:26.160Z"
   },
   {
    "duration": 5,
    "start_time": "2023-01-24T22:50:35.069Z"
   },
   {
    "duration": 15,
    "start_time": "2023-01-24T22:50:35.725Z"
   },
   {
    "duration": 6,
    "start_time": "2023-01-24T22:50:36.278Z"
   },
   {
    "duration": 7,
    "start_time": "2023-01-24T22:50:41.791Z"
   },
   {
    "duration": 7,
    "start_time": "2023-01-24T22:50:46.385Z"
   },
   {
    "duration": 6,
    "start_time": "2023-01-24T22:50:50.216Z"
   },
   {
    "duration": 7,
    "start_time": "2023-01-24T22:50:59.417Z"
   },
   {
    "duration": 6,
    "start_time": "2023-01-24T22:51:06.234Z"
   },
   {
    "duration": 5,
    "start_time": "2023-01-24T22:51:08.096Z"
   },
   {
    "duration": 15,
    "start_time": "2023-01-24T22:51:08.608Z"
   },
   {
    "duration": 6,
    "start_time": "2023-01-24T22:51:09.034Z"
   },
   {
    "duration": 6,
    "start_time": "2023-01-24T22:51:12.988Z"
   },
   {
    "duration": 4,
    "start_time": "2023-01-24T22:51:17.829Z"
   },
   {
    "duration": 145,
    "start_time": "2023-01-24T22:51:17.834Z"
   },
   {
    "duration": 16,
    "start_time": "2023-01-24T22:51:17.980Z"
   },
   {
    "duration": 7,
    "start_time": "2023-01-24T22:51:17.997Z"
   },
   {
    "duration": 58,
    "start_time": "2023-01-24T22:51:18.006Z"
   },
   {
    "duration": 48,
    "start_time": "2023-01-24T22:51:18.065Z"
   },
   {
    "duration": 69,
    "start_time": "2023-01-24T22:51:18.114Z"
   },
   {
    "duration": 36,
    "start_time": "2023-01-24T22:51:18.185Z"
   },
   {
    "duration": 23,
    "start_time": "2023-01-24T22:51:18.222Z"
   },
   {
    "duration": 9,
    "start_time": "2023-01-24T22:51:18.247Z"
   },
   {
    "duration": 18,
    "start_time": "2023-01-24T22:51:18.258Z"
   },
   {
    "duration": 7,
    "start_time": "2023-01-24T22:51:18.278Z"
   },
   {
    "duration": 14,
    "start_time": "2023-01-24T22:51:18.286Z"
   },
   {
    "duration": 36,
    "start_time": "2023-01-24T22:51:18.302Z"
   },
   {
    "duration": 2,
    "start_time": "2023-01-24T22:51:18.340Z"
   },
   {
    "duration": 8,
    "start_time": "2023-01-24T22:51:18.343Z"
   },
   {
    "duration": 13,
    "start_time": "2023-01-24T22:51:18.352Z"
   },
   {
    "duration": 14,
    "start_time": "2023-01-24T22:51:18.367Z"
   },
   {
    "duration": 243,
    "start_time": "2023-01-24T22:51:18.382Z"
   },
   {
    "duration": 18,
    "start_time": "2023-01-24T22:51:18.626Z"
   },
   {
    "duration": 173,
    "start_time": "2023-01-24T22:51:18.646Z"
   },
   {
    "duration": 4,
    "start_time": "2023-01-24T22:51:18.820Z"
   },
   {
    "duration": 31,
    "start_time": "2023-01-24T22:51:18.825Z"
   },
   {
    "duration": 13,
    "start_time": "2023-01-24T22:51:18.858Z"
   },
   {
    "duration": 45,
    "start_time": "2023-01-24T22:51:18.872Z"
   },
   {
    "duration": 5,
    "start_time": "2023-01-24T22:51:18.919Z"
   },
   {
    "duration": 17,
    "start_time": "2023-01-24T22:51:18.925Z"
   },
   {
    "duration": 18,
    "start_time": "2023-01-24T22:51:18.945Z"
   },
   {
    "duration": 59,
    "start_time": "2023-01-24T22:51:18.964Z"
   },
   {
    "duration": 31,
    "start_time": "2023-01-24T22:51:19.025Z"
   },
   {
    "duration": 19,
    "start_time": "2023-01-24T22:51:19.058Z"
   },
   {
    "duration": 16,
    "start_time": "2023-01-24T22:51:19.078Z"
   },
   {
    "duration": 41,
    "start_time": "2023-01-24T22:51:19.096Z"
   },
   {
    "duration": 21,
    "start_time": "2023-01-24T22:51:19.138Z"
   },
   {
    "duration": 6,
    "start_time": "2023-01-24T22:51:19.160Z"
   },
   {
    "duration": 32,
    "start_time": "2023-01-24T22:51:19.168Z"
   },
   {
    "duration": 6,
    "start_time": "2023-01-24T22:51:19.202Z"
   },
   {
    "duration": 22,
    "start_time": "2023-01-24T22:54:11.801Z"
   },
   {
    "duration": 20,
    "start_time": "2023-01-24T22:54:21.288Z"
   },
   {
    "duration": 20,
    "start_time": "2023-01-24T22:54:27.185Z"
   },
   {
    "duration": 6,
    "start_time": "2023-01-24T22:54:28.640Z"
   },
   {
    "duration": 14,
    "start_time": "2023-01-24T22:54:29.194Z"
   },
   {
    "duration": 6,
    "start_time": "2023-01-24T22:54:29.679Z"
   },
   {
    "duration": 14,
    "start_time": "2023-01-24T22:54:37.137Z"
   },
   {
    "duration": 7,
    "start_time": "2023-01-24T22:54:37.712Z"
   },
   {
    "duration": 3,
    "start_time": "2023-01-24T22:54:45.222Z"
   },
   {
    "duration": 148,
    "start_time": "2023-01-24T22:54:45.227Z"
   },
   {
    "duration": 15,
    "start_time": "2023-01-24T22:54:45.377Z"
   },
   {
    "duration": 13,
    "start_time": "2023-01-24T22:54:45.394Z"
   },
   {
    "duration": 56,
    "start_time": "2023-01-24T22:54:45.409Z"
   },
   {
    "duration": 46,
    "start_time": "2023-01-24T22:54:45.467Z"
   },
   {
    "duration": 69,
    "start_time": "2023-01-24T22:54:45.515Z"
   },
   {
    "duration": 52,
    "start_time": "2023-01-24T22:54:45.586Z"
   },
   {
    "duration": 20,
    "start_time": "2023-01-24T22:54:45.640Z"
   },
   {
    "duration": 14,
    "start_time": "2023-01-24T22:54:45.662Z"
   },
   {
    "duration": 21,
    "start_time": "2023-01-24T22:54:45.679Z"
   },
   {
    "duration": 10,
    "start_time": "2023-01-24T22:54:45.701Z"
   },
   {
    "duration": 25,
    "start_time": "2023-01-24T22:54:45.713Z"
   },
   {
    "duration": 14,
    "start_time": "2023-01-24T22:54:45.739Z"
   },
   {
    "duration": 2,
    "start_time": "2023-01-24T22:54:45.754Z"
   },
   {
    "duration": 6,
    "start_time": "2023-01-24T22:54:45.758Z"
   },
   {
    "duration": 8,
    "start_time": "2023-01-24T22:54:45.765Z"
   },
   {
    "duration": 24,
    "start_time": "2023-01-24T22:54:45.774Z"
   },
   {
    "duration": 233,
    "start_time": "2023-01-24T22:54:45.800Z"
   },
   {
    "duration": 13,
    "start_time": "2023-01-24T22:54:46.034Z"
   },
   {
    "duration": 175,
    "start_time": "2023-01-24T22:54:46.049Z"
   },
   {
    "duration": 4,
    "start_time": "2023-01-24T22:54:46.225Z"
   },
   {
    "duration": 4,
    "start_time": "2023-01-24T22:54:46.237Z"
   },
   {
    "duration": 3,
    "start_time": "2023-01-24T22:54:46.242Z"
   },
   {
    "duration": 35,
    "start_time": "2023-01-24T22:54:46.247Z"
   },
   {
    "duration": 6,
    "start_time": "2023-01-24T22:54:46.283Z"
   },
   {
    "duration": 17,
    "start_time": "2023-01-24T22:54:46.290Z"
   },
   {
    "duration": 36,
    "start_time": "2023-01-24T22:54:46.308Z"
   },
   {
    "duration": 52,
    "start_time": "2023-01-24T22:54:46.347Z"
   },
   {
    "duration": 46,
    "start_time": "2023-01-24T22:54:46.401Z"
   },
   {
    "duration": 21,
    "start_time": "2023-01-24T22:54:46.449Z"
   },
   {
    "duration": 16,
    "start_time": "2023-01-24T22:54:46.471Z"
   },
   {
    "duration": 25,
    "start_time": "2023-01-24T22:54:46.488Z"
   },
   {
    "duration": 26,
    "start_time": "2023-01-24T22:54:46.538Z"
   },
   {
    "duration": 6,
    "start_time": "2023-01-24T22:54:46.566Z"
   },
   {
    "duration": 23,
    "start_time": "2023-01-24T22:54:46.573Z"
   },
   {
    "duration": 9,
    "start_time": "2023-01-24T22:54:46.597Z"
   },
   {
    "duration": 7,
    "start_time": "2023-01-24T22:54:49.064Z"
   },
   {
    "duration": 1287,
    "start_time": "2023-01-25T11:47:33.360Z"
   },
   {
    "duration": 706,
    "start_time": "2023-01-25T11:47:34.649Z"
   },
   {
    "duration": 22,
    "start_time": "2023-01-25T11:47:35.357Z"
   },
   {
    "duration": 11,
    "start_time": "2023-01-25T11:47:35.382Z"
   },
   {
    "duration": 71,
    "start_time": "2023-01-25T11:47:35.395Z"
   },
   {
    "duration": 88,
    "start_time": "2023-01-25T11:47:35.468Z"
   },
   {
    "duration": 85,
    "start_time": "2023-01-25T11:47:35.558Z"
   },
   {
    "duration": 35,
    "start_time": "2023-01-25T11:47:35.644Z"
   },
   {
    "duration": 29,
    "start_time": "2023-01-25T11:47:35.681Z"
   },
   {
    "duration": 16,
    "start_time": "2023-01-25T11:47:35.713Z"
   },
   {
    "duration": 35,
    "start_time": "2023-01-25T11:47:35.730Z"
   },
   {
    "duration": 21,
    "start_time": "2023-01-25T11:47:35.768Z"
   },
   {
    "duration": 20,
    "start_time": "2023-01-25T11:47:35.800Z"
   },
   {
    "duration": 21,
    "start_time": "2023-01-25T11:47:35.822Z"
   },
   {
    "duration": 42,
    "start_time": "2023-01-25T11:47:35.845Z"
   },
   {
    "duration": 9,
    "start_time": "2023-01-25T11:47:35.889Z"
   },
   {
    "duration": 11,
    "start_time": "2023-01-25T11:47:35.901Z"
   },
   {
    "duration": 12,
    "start_time": "2023-01-25T11:47:35.914Z"
   },
   {
    "duration": 425,
    "start_time": "2023-01-25T11:47:35.928Z"
   },
   {
    "duration": 20,
    "start_time": "2023-01-25T11:47:36.355Z"
   },
   {
    "duration": 198,
    "start_time": "2023-01-25T11:47:36.383Z"
   },
   {
    "duration": 4,
    "start_time": "2023-01-25T11:47:36.583Z"
   },
   {
    "duration": 4,
    "start_time": "2023-01-25T11:47:36.599Z"
   },
   {
    "duration": 9,
    "start_time": "2023-01-25T11:47:36.605Z"
   },
   {
    "duration": 40,
    "start_time": "2023-01-25T11:47:36.616Z"
   },
   {
    "duration": 7,
    "start_time": "2023-01-25T11:47:36.658Z"
   },
   {
    "duration": 45,
    "start_time": "2023-01-25T11:47:36.667Z"
   },
   {
    "duration": 21,
    "start_time": "2023-01-25T11:47:36.715Z"
   },
   {
    "duration": 69,
    "start_time": "2023-01-25T11:47:36.738Z"
   },
   {
    "duration": 33,
    "start_time": "2023-01-25T11:47:36.808Z"
   },
   {
    "duration": 23,
    "start_time": "2023-01-25T11:47:36.843Z"
   },
   {
    "duration": 41,
    "start_time": "2023-01-25T11:47:36.868Z"
   },
   {
    "duration": 33,
    "start_time": "2023-01-25T11:47:36.912Z"
   },
   {
    "duration": 25,
    "start_time": "2023-01-25T11:47:36.947Z"
   },
   {
    "duration": 33,
    "start_time": "2023-01-25T11:47:36.974Z"
   },
   {
    "duration": 45,
    "start_time": "2023-01-25T11:47:37.009Z"
   },
   {
    "duration": 9,
    "start_time": "2023-01-25T11:47:37.056Z"
   },
   {
    "duration": 26,
    "start_time": "2023-01-25T12:03:18.089Z"
   },
   {
    "duration": 10,
    "start_time": "2023-01-25T12:03:35.684Z"
   },
   {
    "duration": 7,
    "start_time": "2023-01-25T12:11:21.382Z"
   },
   {
    "duration": 21,
    "start_time": "2023-01-25T12:11:21.894Z"
   },
   {
    "duration": 8,
    "start_time": "2023-01-25T12:11:22.360Z"
   },
   {
    "duration": 127,
    "start_time": "2023-01-25T12:12:05.982Z"
   },
   {
    "duration": 19,
    "start_time": "2023-01-25T12:12:26.170Z"
   },
   {
    "duration": 17,
    "start_time": "2023-01-25T12:12:37.409Z"
   },
   {
    "duration": 4,
    "start_time": "2023-01-25T12:12:55.705Z"
   },
   {
    "duration": 159,
    "start_time": "2023-01-25T12:12:55.711Z"
   },
   {
    "duration": 17,
    "start_time": "2023-01-25T12:12:55.872Z"
   },
   {
    "duration": 10,
    "start_time": "2023-01-25T12:12:55.900Z"
   },
   {
    "duration": 78,
    "start_time": "2023-01-25T12:12:55.912Z"
   },
   {
    "duration": 65,
    "start_time": "2023-01-25T12:12:55.992Z"
   },
   {
    "duration": 70,
    "start_time": "2023-01-25T12:12:56.059Z"
   },
   {
    "duration": 52,
    "start_time": "2023-01-25T12:12:56.133Z"
   },
   {
    "duration": 28,
    "start_time": "2023-01-25T12:12:56.187Z"
   },
   {
    "duration": 16,
    "start_time": "2023-01-25T12:12:56.218Z"
   },
   {
    "duration": 32,
    "start_time": "2023-01-25T12:12:56.236Z"
   },
   {
    "duration": 13,
    "start_time": "2023-01-25T12:12:56.270Z"
   },
   {
    "duration": 33,
    "start_time": "2023-01-25T12:12:56.284Z"
   },
   {
    "duration": 20,
    "start_time": "2023-01-25T12:12:56.319Z"
   },
   {
    "duration": 32,
    "start_time": "2023-01-25T12:12:56.341Z"
   },
   {
    "duration": 33,
    "start_time": "2023-01-25T12:12:56.377Z"
   },
   {
    "duration": 20,
    "start_time": "2023-01-25T12:12:56.412Z"
   },
   {
    "duration": 6,
    "start_time": "2023-01-25T12:12:56.434Z"
   },
   {
    "duration": 259,
    "start_time": "2023-01-25T12:12:56.441Z"
   },
   {
    "duration": 17,
    "start_time": "2023-01-25T12:12:56.702Z"
   },
   {
    "duration": 211,
    "start_time": "2023-01-25T12:12:56.721Z"
   },
   {
    "duration": 5,
    "start_time": "2023-01-25T12:12:56.935Z"
   },
   {
    "duration": 8,
    "start_time": "2023-01-25T12:12:56.942Z"
   },
   {
    "duration": 33,
    "start_time": "2023-01-25T12:12:56.952Z"
   },
   {
    "duration": 27,
    "start_time": "2023-01-25T12:12:56.987Z"
   },
   {
    "duration": 27,
    "start_time": "2023-01-25T12:12:57.016Z"
   },
   {
    "duration": 64,
    "start_time": "2023-01-25T12:12:57.045Z"
   },
   {
    "duration": 7,
    "start_time": "2023-01-25T12:12:57.112Z"
   },
   {
    "duration": 48,
    "start_time": "2023-01-25T12:12:57.121Z"
   },
   {
    "duration": 47,
    "start_time": "2023-01-25T12:12:57.172Z"
   },
   {
    "duration": 101,
    "start_time": "2023-01-25T12:12:57.221Z"
   },
   {
    "duration": 36,
    "start_time": "2023-01-25T12:12:57.324Z"
   },
   {
    "duration": 38,
    "start_time": "2023-01-25T12:12:57.361Z"
   },
   {
    "duration": 23,
    "start_time": "2023-01-25T12:12:57.402Z"
   },
   {
    "duration": 29,
    "start_time": "2023-01-25T12:12:57.426Z"
   },
   {
    "duration": 23,
    "start_time": "2023-01-25T12:12:57.457Z"
   },
   {
    "duration": 17,
    "start_time": "2023-01-25T12:12:59.404Z"
   },
   {
    "duration": 19,
    "start_time": "2023-01-25T12:13:12.882Z"
   },
   {
    "duration": 24,
    "start_time": "2023-01-25T12:13:23.181Z"
   },
   {
    "duration": 10,
    "start_time": "2023-01-25T12:13:47.727Z"
   },
   {
    "duration": 9,
    "start_time": "2023-01-25T12:14:03.219Z"
   },
   {
    "duration": 10,
    "start_time": "2023-01-25T12:14:08.533Z"
   },
   {
    "duration": 12,
    "start_time": "2023-01-25T12:14:18.330Z"
   },
   {
    "duration": 12,
    "start_time": "2023-01-25T12:14:43.326Z"
   },
   {
    "duration": 14,
    "start_time": "2023-01-25T12:14:57.544Z"
   },
   {
    "duration": 27,
    "start_time": "2023-01-25T12:16:14.366Z"
   },
   {
    "duration": 5,
    "start_time": "2023-01-25T12:16:15.113Z"
   },
   {
    "duration": 4,
    "start_time": "2023-01-25T12:17:35.778Z"
   },
   {
    "duration": 4,
    "start_time": "2023-01-25T12:18:16.092Z"
   },
   {
    "duration": 4,
    "start_time": "2023-01-25T12:18:40.944Z"
   },
   {
    "duration": 6,
    "start_time": "2023-01-25T12:18:48.975Z"
   },
   {
    "duration": 13,
    "start_time": "2023-01-25T12:18:54.971Z"
   },
   {
    "duration": 4,
    "start_time": "2023-01-25T12:19:04.395Z"
   },
   {
    "duration": 65,
    "start_time": "2023-01-25T12:19:42.756Z"
   },
   {
    "duration": 6,
    "start_time": "2023-01-25T12:19:56.999Z"
   },
   {
    "duration": 47,
    "start_time": "2023-01-25T12:20:07.322Z"
   },
   {
    "duration": 15,
    "start_time": "2023-01-25T12:20:11.731Z"
   },
   {
    "duration": 5,
    "start_time": "2023-01-25T12:20:29.474Z"
   },
   {
    "duration": 7,
    "start_time": "2023-01-25T12:21:06.931Z"
   },
   {
    "duration": 23,
    "start_time": "2023-01-25T12:21:36.384Z"
   },
   {
    "duration": 5,
    "start_time": "2023-01-25T12:21:36.885Z"
   },
   {
    "duration": 27,
    "start_time": "2023-01-25T12:21:45.018Z"
   },
   {
    "duration": 4,
    "start_time": "2023-01-25T12:35:05.575Z"
   },
   {
    "duration": 10,
    "start_time": "2023-01-25T12:39:43.296Z"
   },
   {
    "duration": 16,
    "start_time": "2023-01-25T12:39:44.946Z"
   },
   {
    "duration": 7,
    "start_time": "2023-01-25T12:39:45.423Z"
   },
   {
    "duration": 25,
    "start_time": "2023-01-25T12:42:20.822Z"
   },
   {
    "duration": 28,
    "start_time": "2023-01-25T12:42:30.072Z"
   },
   {
    "duration": 21,
    "start_time": "2023-01-25T12:42:37.527Z"
   },
   {
    "duration": 7,
    "start_time": "2023-01-25T13:16:02.298Z"
   },
   {
    "duration": 25,
    "start_time": "2023-01-25T13:16:02.890Z"
   },
   {
    "duration": 16,
    "start_time": "2023-01-25T13:16:03.357Z"
   },
   {
    "duration": 6,
    "start_time": "2023-01-25T13:16:39.422Z"
   },
   {
    "duration": 16,
    "start_time": "2023-01-25T13:16:40.176Z"
   },
   {
    "duration": 19,
    "start_time": "2023-01-25T13:16:40.874Z"
   },
   {
    "duration": 9,
    "start_time": "2023-01-25T13:25:15.498Z"
   },
   {
    "duration": 16,
    "start_time": "2023-01-25T13:25:18.223Z"
   },
   {
    "duration": 33,
    "start_time": "2023-01-25T13:25:18.856Z"
   },
   {
    "duration": 1244,
    "start_time": "2023-01-25T13:26:17.906Z"
   },
   {
    "duration": 170,
    "start_time": "2023-01-25T13:26:19.152Z"
   },
   {
    "duration": 22,
    "start_time": "2023-01-25T13:26:19.324Z"
   },
   {
    "duration": 11,
    "start_time": "2023-01-25T13:26:19.349Z"
   },
   {
    "duration": 91,
    "start_time": "2023-01-25T13:26:19.362Z"
   },
   {
    "duration": 86,
    "start_time": "2023-01-25T13:26:19.455Z"
   },
   {
    "duration": 86,
    "start_time": "2023-01-25T13:26:19.543Z"
   },
   {
    "duration": 55,
    "start_time": "2023-01-25T13:26:19.630Z"
   },
   {
    "duration": 39,
    "start_time": "2023-01-25T13:26:19.686Z"
   },
   {
    "duration": 11,
    "start_time": "2023-01-25T13:26:19.730Z"
   },
   {
    "duration": 35,
    "start_time": "2023-01-25T13:26:19.743Z"
   },
   {
    "duration": 27,
    "start_time": "2023-01-25T13:26:19.780Z"
   },
   {
    "duration": 44,
    "start_time": "2023-01-25T13:26:19.809Z"
   },
   {
    "duration": 17,
    "start_time": "2023-01-25T13:26:19.855Z"
   },
   {
    "duration": 48,
    "start_time": "2023-01-25T13:26:19.874Z"
   },
   {
    "duration": 43,
    "start_time": "2023-01-25T13:26:19.924Z"
   },
   {
    "duration": 50,
    "start_time": "2023-01-25T13:26:19.969Z"
   },
   {
    "duration": 94,
    "start_time": "2023-01-25T13:26:20.020Z"
   },
   {
    "duration": 466,
    "start_time": "2023-01-25T13:26:20.118Z"
   },
   {
    "duration": 34,
    "start_time": "2023-01-25T13:26:20.586Z"
   },
   {
    "duration": 202,
    "start_time": "2023-01-25T13:26:20.623Z"
   },
   {
    "duration": 4,
    "start_time": "2023-01-25T13:26:20.828Z"
   },
   {
    "duration": 16,
    "start_time": "2023-01-25T13:26:20.833Z"
   },
   {
    "duration": 9,
    "start_time": "2023-01-25T13:26:20.851Z"
   },
   {
    "duration": 16,
    "start_time": "2023-01-25T13:26:20.862Z"
   },
   {
    "duration": 8,
    "start_time": "2023-01-25T13:26:20.901Z"
   },
   {
    "duration": 51,
    "start_time": "2023-01-25T13:26:20.911Z"
   },
   {
    "duration": 7,
    "start_time": "2023-01-25T13:26:20.966Z"
   },
   {
    "duration": 47,
    "start_time": "2023-01-25T13:26:20.976Z"
   },
   {
    "duration": 24,
    "start_time": "2023-01-25T13:26:21.026Z"
   },
   {
    "duration": 93,
    "start_time": "2023-01-25T13:26:21.052Z"
   },
   {
    "duration": 40,
    "start_time": "2023-01-25T13:26:21.146Z"
   },
   {
    "duration": 27,
    "start_time": "2023-01-25T13:26:21.202Z"
   },
   {
    "duration": 30,
    "start_time": "2023-01-25T13:26:21.231Z"
   },
   {
    "duration": 58,
    "start_time": "2023-01-25T13:26:21.264Z"
   },
   {
    "duration": 38,
    "start_time": "2023-01-25T13:26:21.325Z"
   },
   {
    "duration": 6,
    "start_time": "2023-01-25T13:26:21.366Z"
   },
   {
    "duration": 40,
    "start_time": "2023-01-25T13:26:21.374Z"
   },
   {
    "duration": 27,
    "start_time": "2023-01-25T13:26:21.416Z"
   },
   {
    "duration": 6,
    "start_time": "2023-01-25T13:26:21.445Z"
   },
   {
    "duration": 11,
    "start_time": "2023-01-25T13:26:21.454Z"
   },
   {
    "duration": 37,
    "start_time": "2023-01-25T13:26:21.468Z"
   },
   {
    "duration": 162,
    "start_time": "2023-01-25T13:26:21.509Z"
   },
   {
    "duration": 15,
    "start_time": "2023-01-25T13:28:42.846Z"
   },
   {
    "duration": 31,
    "start_time": "2023-01-25T13:28:43.351Z"
   },
   {
    "duration": 31,
    "start_time": "2023-01-25T13:34:18.243Z"
   },
   {
    "duration": 39,
    "start_time": "2023-01-25T13:34:46.191Z"
   },
   {
    "duration": 1125,
    "start_time": "2023-01-25T13:35:00.721Z"
   },
   {
    "duration": 169,
    "start_time": "2023-01-25T13:35:01.848Z"
   },
   {
    "duration": 20,
    "start_time": "2023-01-25T13:35:02.019Z"
   },
   {
    "duration": 83,
    "start_time": "2023-01-25T13:35:02.041Z"
   },
   {
    "duration": 111,
    "start_time": "2023-01-25T13:35:02.125Z"
   },
   {
    "duration": 81,
    "start_time": "2023-01-25T13:35:02.237Z"
   },
   {
    "duration": 79,
    "start_time": "2023-01-25T13:35:02.321Z"
   },
   {
    "duration": 39,
    "start_time": "2023-01-25T13:35:02.404Z"
   },
   {
    "duration": 18,
    "start_time": "2023-01-25T13:35:02.445Z"
   },
   {
    "duration": 58,
    "start_time": "2023-01-25T13:35:02.466Z"
   },
   {
    "duration": 66,
    "start_time": "2023-01-25T13:35:02.525Z"
   },
   {
    "duration": 62,
    "start_time": "2023-01-25T13:35:02.593Z"
   },
   {
    "duration": 74,
    "start_time": "2023-01-25T13:35:02.657Z"
   },
   {
    "duration": 63,
    "start_time": "2023-01-25T13:35:02.734Z"
   },
   {
    "duration": 33,
    "start_time": "2023-01-25T13:35:02.802Z"
   },
   {
    "duration": 108,
    "start_time": "2023-01-25T13:35:02.837Z"
   },
   {
    "duration": 39,
    "start_time": "2023-01-25T13:35:02.947Z"
   },
   {
    "duration": 32,
    "start_time": "2023-01-25T13:35:02.988Z"
   },
   {
    "duration": 360,
    "start_time": "2023-01-25T13:35:03.022Z"
   },
   {
    "duration": 31,
    "start_time": "2023-01-25T13:35:03.384Z"
   },
   {
    "duration": 232,
    "start_time": "2023-01-25T13:35:03.417Z"
   },
   {
    "duration": 6,
    "start_time": "2023-01-25T13:35:03.651Z"
   },
   {
    "duration": 59,
    "start_time": "2023-01-25T13:35:03.660Z"
   },
   {
    "duration": 28,
    "start_time": "2023-01-25T13:35:03.721Z"
   },
   {
    "duration": 53,
    "start_time": "2023-01-25T13:35:03.751Z"
   },
   {
    "duration": 38,
    "start_time": "2023-01-25T13:35:03.806Z"
   },
   {
    "duration": 73,
    "start_time": "2023-01-25T13:35:03.846Z"
   },
   {
    "duration": 27,
    "start_time": "2023-01-25T13:35:03.923Z"
   },
   {
    "duration": 46,
    "start_time": "2023-01-25T13:35:03.951Z"
   },
   {
    "duration": 50,
    "start_time": "2023-01-25T13:35:03.999Z"
   },
   {
    "duration": 97,
    "start_time": "2023-01-25T13:35:04.051Z"
   },
   {
    "duration": 69,
    "start_time": "2023-01-25T13:35:04.150Z"
   },
   {
    "duration": 40,
    "start_time": "2023-01-25T13:35:04.222Z"
   },
   {
    "duration": 25,
    "start_time": "2023-01-25T13:35:04.264Z"
   },
   {
    "duration": 69,
    "start_time": "2023-01-25T13:35:04.290Z"
   },
   {
    "duration": 52,
    "start_time": "2023-01-25T13:35:04.361Z"
   },
   {
    "duration": 23,
    "start_time": "2023-01-25T13:35:04.414Z"
   },
   {
    "duration": 31,
    "start_time": "2023-01-25T13:35:04.439Z"
   },
   {
    "duration": 40,
    "start_time": "2023-01-25T13:35:04.472Z"
   },
   {
    "duration": 50,
    "start_time": "2023-01-25T13:35:04.517Z"
   },
   {
    "duration": 26,
    "start_time": "2023-01-25T13:35:04.569Z"
   },
   {
    "duration": 56,
    "start_time": "2023-01-25T13:35:04.597Z"
   },
   {
    "duration": 158,
    "start_time": "2023-01-25T13:35:04.655Z"
   },
   {
    "duration": 1228,
    "start_time": "2023-01-25T13:35:22.434Z"
   },
   {
    "duration": 209,
    "start_time": "2023-01-25T13:35:23.664Z"
   },
   {
    "duration": 30,
    "start_time": "2023-01-25T13:35:23.874Z"
   },
   {
    "duration": 15,
    "start_time": "2023-01-25T13:35:23.910Z"
   },
   {
    "duration": 97,
    "start_time": "2023-01-25T13:35:23.929Z"
   },
   {
    "duration": 79,
    "start_time": "2023-01-25T13:35:24.028Z"
   },
   {
    "duration": 89,
    "start_time": "2023-01-25T13:35:24.113Z"
   },
   {
    "duration": 67,
    "start_time": "2023-01-25T13:35:24.212Z"
   },
   {
    "duration": 44,
    "start_time": "2023-01-25T13:35:24.281Z"
   },
   {
    "duration": 29,
    "start_time": "2023-01-25T13:35:24.330Z"
   },
   {
    "duration": 75,
    "start_time": "2023-01-25T13:35:24.361Z"
   },
   {
    "duration": 15,
    "start_time": "2023-01-25T13:35:24.437Z"
   },
   {
    "duration": 22,
    "start_time": "2023-01-25T13:35:24.455Z"
   },
   {
    "duration": 32,
    "start_time": "2023-01-25T13:35:24.479Z"
   },
   {
    "duration": 4,
    "start_time": "2023-01-25T13:35:24.512Z"
   },
   {
    "duration": 15,
    "start_time": "2023-01-25T13:35:24.522Z"
   },
   {
    "duration": 13,
    "start_time": "2023-01-25T13:35:24.538Z"
   },
   {
    "duration": 9,
    "start_time": "2023-01-25T13:35:24.553Z"
   },
   {
    "duration": 368,
    "start_time": "2023-01-25T13:35:24.563Z"
   },
   {
    "duration": 19,
    "start_time": "2023-01-25T13:35:24.933Z"
   },
   {
    "duration": 249,
    "start_time": "2023-01-25T13:35:24.954Z"
   },
   {
    "duration": 6,
    "start_time": "2023-01-25T13:35:25.205Z"
   },
   {
    "duration": 14,
    "start_time": "2023-01-25T13:35:25.214Z"
   },
   {
    "duration": 14,
    "start_time": "2023-01-25T13:35:25.230Z"
   },
   {
    "duration": 20,
    "start_time": "2023-01-25T13:35:25.246Z"
   },
   {
    "duration": 7,
    "start_time": "2023-01-25T13:35:25.268Z"
   },
   {
    "duration": 42,
    "start_time": "2023-01-25T13:35:25.300Z"
   },
   {
    "duration": 6,
    "start_time": "2023-01-25T13:35:25.345Z"
   },
   {
    "duration": 61,
    "start_time": "2023-01-25T13:35:25.353Z"
   },
   {
    "duration": 34,
    "start_time": "2023-01-25T13:35:25.420Z"
   },
   {
    "duration": 107,
    "start_time": "2023-01-25T13:35:25.456Z"
   },
   {
    "duration": 67,
    "start_time": "2023-01-25T13:35:25.565Z"
   },
   {
    "duration": 23,
    "start_time": "2023-01-25T13:35:25.633Z"
   },
   {
    "duration": 18,
    "start_time": "2023-01-25T13:35:25.658Z"
   },
   {
    "duration": 48,
    "start_time": "2023-01-25T13:35:25.677Z"
   },
   {
    "duration": 23,
    "start_time": "2023-01-25T13:35:25.727Z"
   },
   {
    "duration": 4,
    "start_time": "2023-01-25T13:35:25.752Z"
   },
   {
    "duration": 33,
    "start_time": "2023-01-25T13:35:25.758Z"
   },
   {
    "duration": 24,
    "start_time": "2023-01-25T13:35:25.793Z"
   },
   {
    "duration": 32,
    "start_time": "2023-01-25T13:35:25.819Z"
   },
   {
    "duration": 25,
    "start_time": "2023-01-25T13:35:25.852Z"
   },
   {
    "duration": 23,
    "start_time": "2023-01-25T13:35:25.878Z"
   },
   {
    "duration": 194,
    "start_time": "2023-01-25T13:35:25.902Z"
   },
   {
    "duration": 182,
    "start_time": "2023-01-25T13:38:20.760Z"
   },
   {
    "duration": 8,
    "start_time": "2023-01-25T13:38:33.661Z"
   },
   {
    "duration": 22,
    "start_time": "2023-01-25T13:38:34.176Z"
   },
   {
    "duration": 168,
    "start_time": "2023-01-25T13:38:34.585Z"
   },
   {
    "duration": 1288,
    "start_time": "2023-01-25T18:38:53.997Z"
   },
   {
    "duration": 740,
    "start_time": "2023-01-25T18:38:55.290Z"
   },
   {
    "duration": 30,
    "start_time": "2023-01-25T18:38:56.032Z"
   },
   {
    "duration": 12,
    "start_time": "2023-01-25T18:38:56.064Z"
   },
   {
    "duration": 102,
    "start_time": "2023-01-25T18:38:56.079Z"
   },
   {
    "duration": 58,
    "start_time": "2023-01-25T18:38:56.183Z"
   },
   {
    "duration": 73,
    "start_time": "2023-01-25T18:38:56.242Z"
   },
   {
    "duration": 37,
    "start_time": "2023-01-25T18:38:56.317Z"
   },
   {
    "duration": 29,
    "start_time": "2023-01-25T18:38:56.368Z"
   },
   {
    "duration": 12,
    "start_time": "2023-01-25T18:38:56.400Z"
   },
   {
    "duration": 32,
    "start_time": "2023-01-25T18:38:56.414Z"
   },
   {
    "duration": 23,
    "start_time": "2023-01-25T18:38:56.448Z"
   },
   {
    "duration": 19,
    "start_time": "2023-01-25T18:38:56.473Z"
   },
   {
    "duration": 29,
    "start_time": "2023-01-25T18:38:56.493Z"
   },
   {
    "duration": 2,
    "start_time": "2023-01-25T18:38:56.524Z"
   },
   {
    "duration": 8,
    "start_time": "2023-01-25T18:38:56.528Z"
   },
   {
    "duration": 36,
    "start_time": "2023-01-25T18:38:56.537Z"
   },
   {
    "duration": 10,
    "start_time": "2023-01-25T18:38:56.574Z"
   },
   {
    "duration": 387,
    "start_time": "2023-01-25T18:38:56.586Z"
   },
   {
    "duration": 21,
    "start_time": "2023-01-25T18:38:56.975Z"
   },
   {
    "duration": 241,
    "start_time": "2023-01-25T18:38:56.998Z"
   },
   {
    "duration": 5,
    "start_time": "2023-01-25T18:38:57.240Z"
   },
   {
    "duration": 20,
    "start_time": "2023-01-25T18:38:57.247Z"
   },
   {
    "duration": 8,
    "start_time": "2023-01-25T18:38:57.269Z"
   },
   {
    "duration": 23,
    "start_time": "2023-01-25T18:38:57.278Z"
   },
   {
    "duration": 5,
    "start_time": "2023-01-25T18:38:57.303Z"
   },
   {
    "duration": 58,
    "start_time": "2023-01-25T18:38:57.310Z"
   },
   {
    "duration": 6,
    "start_time": "2023-01-25T18:38:57.373Z"
   },
   {
    "duration": 21,
    "start_time": "2023-01-25T18:38:57.380Z"
   },
   {
    "duration": 16,
    "start_time": "2023-01-25T18:38:57.403Z"
   },
   {
    "duration": 86,
    "start_time": "2023-01-25T18:38:57.421Z"
   },
   {
    "duration": 31,
    "start_time": "2023-01-25T18:38:57.509Z"
   },
   {
    "duration": 41,
    "start_time": "2023-01-25T18:38:57.542Z"
   },
   {
    "duration": 19,
    "start_time": "2023-01-25T18:38:57.585Z"
   },
   {
    "duration": 33,
    "start_time": "2023-01-25T18:38:57.605Z"
   },
   {
    "duration": 51,
    "start_time": "2023-01-25T18:38:57.640Z"
   },
   {
    "duration": 5,
    "start_time": "2023-01-25T18:38:57.692Z"
   },
   {
    "duration": 6,
    "start_time": "2023-01-25T18:38:57.699Z"
   },
   {
    "duration": 27,
    "start_time": "2023-01-25T18:38:57.707Z"
   },
   {
    "duration": 33,
    "start_time": "2023-01-25T18:38:57.736Z"
   },
   {
    "duration": 8,
    "start_time": "2023-01-25T18:38:57.771Z"
   },
   {
    "duration": 28,
    "start_time": "2023-01-25T18:38:57.782Z"
   },
   {
    "duration": 177,
    "start_time": "2023-01-25T18:38:57.812Z"
   },
   {
    "duration": 6,
    "start_time": "2023-01-25T18:39:20.804Z"
   },
   {
    "duration": 21,
    "start_time": "2023-01-25T18:39:21.380Z"
   },
   {
    "duration": 176,
    "start_time": "2023-01-25T18:39:21.884Z"
   },
   {
    "duration": 170,
    "start_time": "2023-01-25T18:39:28.403Z"
   },
   {
    "duration": 16,
    "start_time": "2023-01-25T18:39:33.805Z"
   },
   {
    "duration": 171,
    "start_time": "2023-01-25T18:39:34.940Z"
   },
   {
    "duration": 123,
    "start_time": "2023-01-25T18:39:38.557Z"
   },
   {
    "duration": 103,
    "start_time": "2023-01-25T18:39:44.818Z"
   },
   {
    "duration": 133,
    "start_time": "2023-01-25T18:39:47.950Z"
   },
   {
    "duration": 138,
    "start_time": "2023-01-25T18:39:55.468Z"
   },
   {
    "duration": 117,
    "start_time": "2023-01-25T18:39:59.723Z"
   },
   {
    "duration": 147,
    "start_time": "2023-01-25T18:40:03.067Z"
   },
   {
    "duration": 6,
    "start_time": "2023-01-25T18:56:49.693Z"
   },
   {
    "duration": 15,
    "start_time": "2023-01-25T18:56:50.356Z"
   },
   {
    "duration": 124,
    "start_time": "2023-01-25T18:56:50.822Z"
   },
   {
    "duration": 5,
    "start_time": "2023-01-25T18:57:09.535Z"
   },
   {
    "duration": 15,
    "start_time": "2023-01-25T18:57:10.528Z"
   },
   {
    "duration": 124,
    "start_time": "2023-01-25T18:57:10.979Z"
   },
   {
    "duration": 6,
    "start_time": "2023-01-25T18:58:35.576Z"
   },
   {
    "duration": 16,
    "start_time": "2023-01-25T18:58:36.310Z"
   },
   {
    "duration": 158,
    "start_time": "2023-01-25T18:58:36.797Z"
   },
   {
    "duration": 7,
    "start_time": "2023-01-25T18:58:50.752Z"
   },
   {
    "duration": 16,
    "start_time": "2023-01-25T18:58:51.311Z"
   },
   {
    "duration": 124,
    "start_time": "2023-01-25T18:58:51.797Z"
   },
   {
    "duration": 1130,
    "start_time": "2023-01-25T21:04:55.586Z"
   },
   {
    "duration": 217,
    "start_time": "2023-01-25T21:04:56.718Z"
   },
   {
    "duration": 46,
    "start_time": "2023-01-25T21:04:56.936Z"
   },
   {
    "duration": 17,
    "start_time": "2023-01-25T21:04:56.987Z"
   },
   {
    "duration": 75,
    "start_time": "2023-01-25T21:04:57.007Z"
   },
   {
    "duration": 62,
    "start_time": "2023-01-25T21:04:57.084Z"
   },
   {
    "duration": 88,
    "start_time": "2023-01-25T21:04:57.148Z"
   },
   {
    "duration": 56,
    "start_time": "2023-01-25T21:04:57.238Z"
   },
   {
    "duration": 21,
    "start_time": "2023-01-25T21:04:57.297Z"
   },
   {
    "duration": 12,
    "start_time": "2023-01-25T21:04:57.320Z"
   },
   {
    "duration": 53,
    "start_time": "2023-01-25T21:04:57.334Z"
   },
   {
    "duration": 8,
    "start_time": "2023-01-25T21:04:57.389Z"
   },
   {
    "duration": 21,
    "start_time": "2023-01-25T21:04:57.399Z"
   },
   {
    "duration": 19,
    "start_time": "2023-01-25T21:04:57.424Z"
   },
   {
    "duration": 25,
    "start_time": "2023-01-25T21:04:57.445Z"
   },
   {
    "duration": 7,
    "start_time": "2023-01-25T21:04:57.478Z"
   },
   {
    "duration": 7,
    "start_time": "2023-01-25T21:04:57.486Z"
   },
   {
    "duration": 7,
    "start_time": "2023-01-25T21:04:57.495Z"
   },
   {
    "duration": 395,
    "start_time": "2023-01-25T21:04:57.504Z"
   },
   {
    "duration": 18,
    "start_time": "2023-01-25T21:04:57.901Z"
   },
   {
    "duration": 219,
    "start_time": "2023-01-25T21:04:57.920Z"
   },
   {
    "duration": 6,
    "start_time": "2023-01-25T21:04:58.141Z"
   },
   {
    "duration": 20,
    "start_time": "2023-01-25T21:04:58.148Z"
   },
   {
    "duration": 16,
    "start_time": "2023-01-25T21:04:58.177Z"
   },
   {
    "duration": 17,
    "start_time": "2023-01-25T21:04:58.195Z"
   },
   {
    "duration": 4,
    "start_time": "2023-01-25T21:04:58.214Z"
   },
   {
    "duration": 63,
    "start_time": "2023-01-25T21:04:58.220Z"
   },
   {
    "duration": 6,
    "start_time": "2023-01-25T21:04:58.285Z"
   },
   {
    "duration": 24,
    "start_time": "2023-01-25T21:04:58.292Z"
   },
   {
    "duration": 17,
    "start_time": "2023-01-25T21:04:58.318Z"
   },
   {
    "duration": 83,
    "start_time": "2023-01-25T21:04:58.337Z"
   },
   {
    "duration": 60,
    "start_time": "2023-01-25T21:04:58.422Z"
   },
   {
    "duration": 21,
    "start_time": "2023-01-25T21:04:58.484Z"
   },
   {
    "duration": 20,
    "start_time": "2023-01-25T21:04:58.507Z"
   },
   {
    "duration": 50,
    "start_time": "2023-01-25T21:04:58.528Z"
   },
   {
    "duration": 23,
    "start_time": "2023-01-25T21:04:58.583Z"
   },
   {
    "duration": 4,
    "start_time": "2023-01-25T21:04:58.608Z"
   },
   {
    "duration": 12,
    "start_time": "2023-01-25T21:04:58.613Z"
   },
   {
    "duration": 23,
    "start_time": "2023-01-25T21:04:58.626Z"
   },
   {
    "duration": 7,
    "start_time": "2023-01-25T21:04:58.651Z"
   },
   {
    "duration": 25,
    "start_time": "2023-01-25T21:04:58.669Z"
   },
   {
    "duration": 24,
    "start_time": "2023-01-25T21:04:58.696Z"
   },
   {
    "duration": 142,
    "start_time": "2023-01-25T21:04:58.722Z"
   },
   {
    "duration": 6,
    "start_time": "2023-01-25T21:05:09.420Z"
   },
   {
    "duration": 16,
    "start_time": "2023-01-25T21:05:11.910Z"
   },
   {
    "duration": 156,
    "start_time": "2023-01-25T21:05:12.565Z"
   },
   {
    "duration": 116,
    "start_time": "2023-01-25T21:16:43.545Z"
   },
   {
    "duration": 16,
    "start_time": "2023-01-25T21:16:48.565Z"
   },
   {
    "duration": 9,
    "start_time": "2023-01-25T21:16:51.396Z"
   },
   {
    "duration": 1379,
    "start_time": "2023-01-25T21:16:57.192Z"
   },
   {
    "duration": 30,
    "start_time": "2023-01-25T21:17:05.730Z"
   },
   {
    "duration": 21,
    "start_time": "2023-01-25T21:17:09.607Z"
   },
   {
    "duration": 26,
    "start_time": "2023-01-25T21:17:56.928Z"
   },
   {
    "duration": 31,
    "start_time": "2023-01-25T21:18:09.357Z"
   },
   {
    "duration": 33,
    "start_time": "2023-01-25T21:18:19.659Z"
   },
   {
    "duration": 26,
    "start_time": "2023-01-25T21:18:23.602Z"
   },
   {
    "duration": 28,
    "start_time": "2023-01-25T21:18:31.661Z"
   },
   {
    "duration": 34,
    "start_time": "2023-01-25T21:26:06.394Z"
   },
   {
    "duration": 30,
    "start_time": "2023-01-25T21:26:15.854Z"
   },
   {
    "duration": 80,
    "start_time": "2023-01-25T21:26:42.420Z"
   },
   {
    "duration": 4,
    "start_time": "2023-01-25T21:26:56.836Z"
   },
   {
    "duration": 193,
    "start_time": "2023-01-25T21:26:56.845Z"
   },
   {
    "duration": 29,
    "start_time": "2023-01-25T21:26:57.040Z"
   },
   {
    "duration": 7,
    "start_time": "2023-01-25T21:26:57.074Z"
   },
   {
    "duration": 54,
    "start_time": "2023-01-25T21:26:57.085Z"
   },
   {
    "duration": 71,
    "start_time": "2023-01-25T21:26:57.142Z"
   },
   {
    "duration": 81,
    "start_time": "2023-01-25T21:26:57.215Z"
   },
   {
    "duration": 37,
    "start_time": "2023-01-25T21:26:57.298Z"
   },
   {
    "duration": 41,
    "start_time": "2023-01-25T21:26:57.337Z"
   },
   {
    "duration": 12,
    "start_time": "2023-01-25T21:26:57.380Z"
   },
   {
    "duration": 24,
    "start_time": "2023-01-25T21:26:57.394Z"
   },
   {
    "duration": 10,
    "start_time": "2023-01-25T21:26:57.420Z"
   },
   {
    "duration": 17,
    "start_time": "2023-01-25T21:26:57.431Z"
   },
   {
    "duration": 45,
    "start_time": "2023-01-25T21:26:57.449Z"
   },
   {
    "duration": 2,
    "start_time": "2023-01-25T21:26:57.496Z"
   },
   {
    "duration": 5,
    "start_time": "2023-01-25T21:26:57.500Z"
   },
   {
    "duration": 6,
    "start_time": "2023-01-25T21:26:57.506Z"
   },
   {
    "duration": 5,
    "start_time": "2023-01-25T21:26:57.514Z"
   },
   {
    "duration": 375,
    "start_time": "2023-01-25T21:26:57.520Z"
   },
   {
    "duration": 16,
    "start_time": "2023-01-25T21:26:57.896Z"
   },
   {
    "duration": 224,
    "start_time": "2023-01-25T21:26:57.915Z"
   },
   {
    "duration": 4,
    "start_time": "2023-01-25T21:26:58.141Z"
   },
   {
    "duration": 51,
    "start_time": "2023-01-25T21:26:58.148Z"
   },
   {
    "duration": 41,
    "start_time": "2023-01-25T21:26:58.200Z"
   },
   {
    "duration": 16,
    "start_time": "2023-01-25T21:26:58.243Z"
   },
   {
    "duration": 37,
    "start_time": "2023-01-25T21:26:58.260Z"
   },
   {
    "duration": 39,
    "start_time": "2023-01-25T21:26:58.300Z"
   },
   {
    "duration": 97,
    "start_time": "2023-01-25T21:26:58.341Z"
   },
   {
    "duration": 20,
    "start_time": "2023-01-25T21:29:37.724Z"
   },
   {
    "duration": 73,
    "start_time": "2023-01-25T21:29:38.610Z"
   },
   {
    "duration": 8,
    "start_time": "2023-01-25T21:30:05.766Z"
   },
   {
    "duration": 19,
    "start_time": "2023-01-25T21:30:08.605Z"
   },
   {
    "duration": 8,
    "start_time": "2023-01-25T21:30:26.146Z"
   },
   {
    "duration": 26,
    "start_time": "2023-01-25T21:30:43.243Z"
   },
   {
    "duration": 38,
    "start_time": "2023-01-25T21:30:53.604Z"
   },
   {
    "duration": 38,
    "start_time": "2023-01-25T21:31:07.247Z"
   },
   {
    "duration": 24,
    "start_time": "2023-01-25T21:31:53.571Z"
   },
   {
    "duration": 20,
    "start_time": "2023-01-25T21:31:58.144Z"
   },
   {
    "duration": 30,
    "start_time": "2023-01-25T21:32:03.561Z"
   },
   {
    "duration": 28,
    "start_time": "2023-01-25T21:32:11.009Z"
   },
   {
    "duration": 71,
    "start_time": "2023-01-25T21:32:12.482Z"
   },
   {
    "duration": 26,
    "start_time": "2023-01-25T21:32:20.067Z"
   },
   {
    "duration": 86,
    "start_time": "2023-01-25T21:32:20.541Z"
   },
   {
    "duration": 4,
    "start_time": "2023-01-25T21:33:25.031Z"
   },
   {
    "duration": 5,
    "start_time": "2023-01-25T21:35:33.309Z"
   },
   {
    "duration": 1089,
    "start_time": "2023-01-25T21:35:43.624Z"
   },
   {
    "duration": 972,
    "start_time": "2023-01-25T21:35:58.411Z"
   },
   {
    "duration": 962,
    "start_time": "2023-01-25T21:36:07.553Z"
   },
   {
    "duration": 923,
    "start_time": "2023-01-25T21:36:28.978Z"
   },
   {
    "duration": 3,
    "start_time": "2023-01-25T21:36:40.782Z"
   },
   {
    "duration": 170,
    "start_time": "2023-01-25T21:36:40.786Z"
   },
   {
    "duration": 38,
    "start_time": "2023-01-25T21:36:40.958Z"
   },
   {
    "duration": 7,
    "start_time": "2023-01-25T21:36:40.997Z"
   },
   {
    "duration": 62,
    "start_time": "2023-01-25T21:36:41.006Z"
   },
   {
    "duration": 53,
    "start_time": "2023-01-25T21:36:41.076Z"
   },
   {
    "duration": 71,
    "start_time": "2023-01-25T21:36:41.130Z"
   },
   {
    "duration": 37,
    "start_time": "2023-01-25T21:36:41.203Z"
   },
   {
    "duration": 36,
    "start_time": "2023-01-25T21:36:41.242Z"
   },
   {
    "duration": 11,
    "start_time": "2023-01-25T21:36:41.281Z"
   },
   {
    "duration": 23,
    "start_time": "2023-01-25T21:36:41.294Z"
   },
   {
    "duration": 9,
    "start_time": "2023-01-25T21:36:41.319Z"
   },
   {
    "duration": 19,
    "start_time": "2023-01-25T21:36:41.330Z"
   },
   {
    "duration": 26,
    "start_time": "2023-01-25T21:36:41.368Z"
   },
   {
    "duration": 6,
    "start_time": "2023-01-25T21:36:41.396Z"
   },
   {
    "duration": 5,
    "start_time": "2023-01-25T21:36:41.404Z"
   },
   {
    "duration": 8,
    "start_time": "2023-01-25T21:36:41.411Z"
   },
   {
    "duration": 5,
    "start_time": "2023-01-25T21:36:41.421Z"
   },
   {
    "duration": 278,
    "start_time": "2023-01-25T21:36:41.428Z"
   },
   {
    "duration": 15,
    "start_time": "2023-01-25T21:36:41.708Z"
   },
   {
    "duration": 196,
    "start_time": "2023-01-25T21:36:41.725Z"
   },
   {
    "duration": 4,
    "start_time": "2023-01-25T21:36:41.923Z"
   },
   {
    "duration": 17,
    "start_time": "2023-01-25T21:36:41.928Z"
   },
   {
    "duration": 27,
    "start_time": "2023-01-25T21:36:41.947Z"
   },
   {
    "duration": 24,
    "start_time": "2023-01-25T21:36:41.975Z"
   },
   {
    "duration": 7,
    "start_time": "2023-01-25T21:36:42.001Z"
   },
   {
    "duration": 29,
    "start_time": "2023-01-25T21:36:42.009Z"
   },
   {
    "duration": 26,
    "start_time": "2023-01-25T21:36:42.040Z"
   },
   {
    "duration": 20,
    "start_time": "2023-01-25T21:36:44.489Z"
   },
   {
    "duration": 5,
    "start_time": "2023-01-25T21:36:45.713Z"
   },
   {
    "duration": 7,
    "start_time": "2023-01-25T21:36:49.058Z"
   },
   {
    "duration": 1025,
    "start_time": "2023-01-25T21:37:01.019Z"
   },
   {
    "duration": 4,
    "start_time": "2023-01-25T21:37:06.118Z"
   },
   {
    "duration": 202,
    "start_time": "2023-01-25T21:37:06.126Z"
   },
   {
    "duration": 47,
    "start_time": "2023-01-25T21:37:06.331Z"
   },
   {
    "duration": 10,
    "start_time": "2023-01-25T21:37:06.384Z"
   },
   {
    "duration": 61,
    "start_time": "2023-01-25T21:37:06.396Z"
   },
   {
    "duration": 74,
    "start_time": "2023-01-25T21:37:06.459Z"
   },
   {
    "duration": 85,
    "start_time": "2023-01-25T21:37:06.535Z"
   },
   {
    "duration": 57,
    "start_time": "2023-01-25T21:37:06.622Z"
   },
   {
    "duration": 24,
    "start_time": "2023-01-25T21:37:06.684Z"
   },
   {
    "duration": 13,
    "start_time": "2023-01-25T21:37:06.710Z"
   },
   {
    "duration": 35,
    "start_time": "2023-01-25T21:37:06.824Z"
   },
   {
    "duration": 10,
    "start_time": "2023-01-25T21:37:06.871Z"
   },
   {
    "duration": 31,
    "start_time": "2023-01-25T21:37:06.883Z"
   },
   {
    "duration": 20,
    "start_time": "2023-01-25T21:37:06.916Z"
   },
   {
    "duration": 3,
    "start_time": "2023-01-25T21:37:06.938Z"
   },
   {
    "duration": 5,
    "start_time": "2023-01-25T21:37:06.943Z"
   },
   {
    "duration": 14,
    "start_time": "2023-01-25T21:37:06.968Z"
   },
   {
    "duration": 7,
    "start_time": "2023-01-25T21:37:06.984Z"
   },
   {
    "duration": 356,
    "start_time": "2023-01-25T21:37:06.993Z"
   },
   {
    "duration": 25,
    "start_time": "2023-01-25T21:37:07.352Z"
   },
   {
    "duration": 218,
    "start_time": "2023-01-25T21:37:07.381Z"
   },
   {
    "duration": 4,
    "start_time": "2023-01-25T21:37:07.601Z"
   },
   {
    "duration": 8,
    "start_time": "2023-01-25T21:37:07.607Z"
   },
   {
    "duration": 13,
    "start_time": "2023-01-25T21:37:07.616Z"
   },
   {
    "duration": 13,
    "start_time": "2023-01-25T21:37:07.630Z"
   },
   {
    "duration": 29,
    "start_time": "2023-01-25T21:37:07.644Z"
   },
   {
    "duration": 33,
    "start_time": "2023-01-25T21:37:07.680Z"
   },
   {
    "duration": 23,
    "start_time": "2023-01-25T21:37:07.715Z"
   },
   {
    "duration": 20,
    "start_time": "2023-01-25T21:37:09.085Z"
   },
   {
    "duration": 11,
    "start_time": "2023-01-25T21:37:09.717Z"
   },
   {
    "duration": 26,
    "start_time": "2023-01-25T21:37:10.564Z"
   },
   {
    "duration": 3,
    "start_time": "2023-01-25T21:37:18.955Z"
   },
   {
    "duration": 9,
    "start_time": "2023-01-25T21:37:29.331Z"
   },
   {
    "duration": 7,
    "start_time": "2023-01-25T21:38:00.178Z"
   },
   {
    "duration": 219,
    "start_time": "2023-01-25T21:38:00.187Z"
   },
   {
    "duration": 20,
    "start_time": "2023-01-25T21:38:00.409Z"
   },
   {
    "duration": 20,
    "start_time": "2023-01-25T21:38:00.432Z"
   },
   {
    "duration": 90,
    "start_time": "2023-01-25T21:38:00.454Z"
   },
   {
    "duration": 82,
    "start_time": "2023-01-25T21:38:00.545Z"
   },
   {
    "duration": 90,
    "start_time": "2023-01-25T21:38:00.629Z"
   },
   {
    "duration": 54,
    "start_time": "2023-01-25T21:38:00.722Z"
   },
   {
    "duration": 47,
    "start_time": "2023-01-25T21:38:00.777Z"
   },
   {
    "duration": 20,
    "start_time": "2023-01-25T21:38:00.827Z"
   },
   {
    "duration": 41,
    "start_time": "2023-01-25T21:38:00.849Z"
   },
   {
    "duration": 14,
    "start_time": "2023-01-25T21:38:00.892Z"
   },
   {
    "duration": 22,
    "start_time": "2023-01-25T21:38:00.908Z"
   },
   {
    "duration": 24,
    "start_time": "2023-01-25T21:38:00.932Z"
   },
   {
    "duration": 19,
    "start_time": "2023-01-25T21:38:00.971Z"
   },
   {
    "duration": 8,
    "start_time": "2023-01-25T21:38:00.992Z"
   },
   {
    "duration": 27,
    "start_time": "2023-01-25T21:38:01.001Z"
   },
   {
    "duration": 33,
    "start_time": "2023-01-25T21:38:01.030Z"
   },
   {
    "duration": 324,
    "start_time": "2023-01-25T21:38:01.065Z"
   },
   {
    "duration": 15,
    "start_time": "2023-01-25T21:38:01.390Z"
   },
   {
    "duration": 231,
    "start_time": "2023-01-25T21:38:01.406Z"
   },
   {
    "duration": 4,
    "start_time": "2023-01-25T21:38:01.639Z"
   },
   {
    "duration": 26,
    "start_time": "2023-01-25T21:38:01.645Z"
   },
   {
    "duration": 49,
    "start_time": "2023-01-25T21:38:01.674Z"
   },
   {
    "duration": 62,
    "start_time": "2023-01-25T21:38:01.725Z"
   },
   {
    "duration": 36,
    "start_time": "2023-01-25T21:38:01.788Z"
   },
   {
    "duration": 33,
    "start_time": "2023-01-25T21:38:01.826Z"
   },
   {
    "duration": 54,
    "start_time": "2023-01-25T21:38:01.863Z"
   },
   {
    "duration": 44,
    "start_time": "2023-01-25T21:38:01.920Z"
   },
   {
    "duration": 21,
    "start_time": "2023-01-25T21:38:24.704Z"
   },
   {
    "duration": 8,
    "start_time": "2023-01-25T21:40:39.491Z"
   },
   {
    "duration": 6,
    "start_time": "2023-01-25T21:41:44.450Z"
   },
   {
    "duration": 4,
    "start_time": "2023-01-25T21:41:44.918Z"
   },
   {
    "duration": 4,
    "start_time": "2023-01-25T21:41:48.610Z"
   },
   {
    "duration": 187,
    "start_time": "2023-01-25T21:41:48.616Z"
   },
   {
    "duration": 24,
    "start_time": "2023-01-25T21:41:48.805Z"
   },
   {
    "duration": 10,
    "start_time": "2023-01-25T21:41:48.831Z"
   },
   {
    "duration": 94,
    "start_time": "2023-01-25T21:41:48.842Z"
   },
   {
    "duration": 75,
    "start_time": "2023-01-25T21:41:48.937Z"
   },
   {
    "duration": 87,
    "start_time": "2023-01-25T21:41:49.014Z"
   },
   {
    "duration": 40,
    "start_time": "2023-01-25T21:41:49.102Z"
   },
   {
    "duration": 39,
    "start_time": "2023-01-25T21:41:49.145Z"
   },
   {
    "duration": 15,
    "start_time": "2023-01-25T21:41:49.186Z"
   },
   {
    "duration": 32,
    "start_time": "2023-01-25T21:41:49.203Z"
   },
   {
    "duration": 8,
    "start_time": "2023-01-25T21:41:49.238Z"
   },
   {
    "duration": 29,
    "start_time": "2023-01-25T21:41:49.247Z"
   },
   {
    "duration": 6,
    "start_time": "2023-01-25T21:42:40.500Z"
   },
   {
    "duration": 21,
    "start_time": "2023-01-25T21:42:41.220Z"
   },
   {
    "duration": 189,
    "start_time": "2023-01-25T21:42:42.640Z"
   },
   {
    "duration": 7,
    "start_time": "2023-01-25T21:42:47.567Z"
   },
   {
    "duration": 211,
    "start_time": "2023-01-25T21:42:47.577Z"
   },
   {
    "duration": 22,
    "start_time": "2023-01-25T21:42:47.789Z"
   },
   {
    "duration": 26,
    "start_time": "2023-01-25T21:42:47.814Z"
   },
   {
    "duration": 101,
    "start_time": "2023-01-25T21:42:47.842Z"
   },
   {
    "duration": 76,
    "start_time": "2023-01-25T21:42:47.944Z"
   },
   {
    "duration": 84,
    "start_time": "2023-01-25T21:42:48.022Z"
   },
   {
    "duration": 56,
    "start_time": "2023-01-25T21:42:48.108Z"
   },
   {
    "duration": 56,
    "start_time": "2023-01-25T21:42:48.165Z"
   },
   {
    "duration": 37,
    "start_time": "2023-01-25T21:42:48.224Z"
   },
   {
    "duration": 57,
    "start_time": "2023-01-25T21:42:48.263Z"
   },
   {
    "duration": 14,
    "start_time": "2023-01-25T21:42:48.322Z"
   },
   {
    "duration": 25,
    "start_time": "2023-01-25T21:42:48.338Z"
   },
   {
    "duration": 44,
    "start_time": "2023-01-25T21:42:48.365Z"
   },
   {
    "duration": 23,
    "start_time": "2023-01-25T21:42:48.410Z"
   },
   {
    "duration": 3,
    "start_time": "2023-01-25T21:42:48.435Z"
   },
   {
    "duration": 17,
    "start_time": "2023-01-25T21:42:48.440Z"
   },
   {
    "duration": 41,
    "start_time": "2023-01-25T21:42:48.459Z"
   },
   {
    "duration": 17,
    "start_time": "2023-01-25T21:42:48.502Z"
   },
   {
    "duration": 320,
    "start_time": "2023-01-25T21:42:48.521Z"
   },
   {
    "duration": 39,
    "start_time": "2023-01-25T21:42:48.843Z"
   },
   {
    "duration": 243,
    "start_time": "2023-01-25T21:42:48.892Z"
   },
   {
    "duration": 5,
    "start_time": "2023-01-25T21:42:49.137Z"
   },
   {
    "duration": 46,
    "start_time": "2023-01-25T21:42:49.144Z"
   },
   {
    "duration": 38,
    "start_time": "2023-01-25T21:42:49.192Z"
   },
   {
    "duration": 73,
    "start_time": "2023-01-25T21:42:49.232Z"
   },
   {
    "duration": 40,
    "start_time": "2023-01-25T21:42:49.308Z"
   },
   {
    "duration": 6,
    "start_time": "2023-01-25T21:42:49.352Z"
   },
   {
    "duration": 58,
    "start_time": "2023-01-25T21:42:49.359Z"
   },
   {
    "duration": 66,
    "start_time": "2023-01-25T21:42:49.420Z"
   },
   {
    "duration": 101,
    "start_time": "2023-01-25T21:42:49.488Z"
   },
   {
    "duration": 33,
    "start_time": "2023-01-25T21:42:49.591Z"
   },
   {
    "duration": 25,
    "start_time": "2023-01-25T21:42:49.626Z"
   },
   {
    "duration": 42,
    "start_time": "2023-01-25T21:42:49.652Z"
   },
   {
    "duration": 36,
    "start_time": "2023-01-25T21:42:49.696Z"
   },
   {
    "duration": 43,
    "start_time": "2023-01-25T21:42:49.735Z"
   },
   {
    "duration": 5,
    "start_time": "2023-01-25T21:42:49.787Z"
   },
   {
    "duration": 37,
    "start_time": "2023-01-25T21:42:49.794Z"
   },
   {
    "duration": 38,
    "start_time": "2023-01-25T21:42:49.833Z"
   },
   {
    "duration": 32,
    "start_time": "2023-01-25T21:42:49.874Z"
   },
   {
    "duration": 12,
    "start_time": "2023-01-25T21:42:49.908Z"
   },
   {
    "duration": 60,
    "start_time": "2023-01-25T21:42:49.922Z"
   },
   {
    "duration": 18,
    "start_time": "2023-01-25T21:42:51.390Z"
   },
   {
    "duration": 148,
    "start_time": "2023-01-25T21:42:51.883Z"
   },
   {
    "duration": 1078,
    "start_time": "2023-01-25T21:43:39.721Z"
   },
   {
    "duration": 192,
    "start_time": "2023-01-25T21:43:40.801Z"
   },
   {
    "duration": 23,
    "start_time": "2023-01-25T21:43:40.995Z"
   },
   {
    "duration": 23,
    "start_time": "2023-01-25T21:43:41.020Z"
   },
   {
    "duration": 77,
    "start_time": "2023-01-25T21:43:41.044Z"
   },
   {
    "duration": 74,
    "start_time": "2023-01-25T21:43:41.123Z"
   },
   {
    "duration": 79,
    "start_time": "2023-01-25T21:43:41.199Z"
   },
   {
    "duration": 50,
    "start_time": "2023-01-25T21:43:41.280Z"
   },
   {
    "duration": 31,
    "start_time": "2023-01-25T21:43:41.332Z"
   },
   {
    "duration": 26,
    "start_time": "2023-01-25T21:43:41.369Z"
   },
   {
    "duration": 30,
    "start_time": "2023-01-25T21:43:41.396Z"
   },
   {
    "duration": 7,
    "start_time": "2023-01-25T21:43:41.428Z"
   },
   {
    "duration": 8,
    "start_time": "2023-01-25T21:43:41.438Z"
   },
   {
    "duration": 51,
    "start_time": "2023-01-25T21:43:41.448Z"
   },
   {
    "duration": 20,
    "start_time": "2023-01-25T21:43:41.501Z"
   },
   {
    "duration": 2,
    "start_time": "2023-01-25T21:43:41.523Z"
   },
   {
    "duration": 7,
    "start_time": "2023-01-25T21:43:41.527Z"
   },
   {
    "duration": 7,
    "start_time": "2023-01-25T21:43:41.536Z"
   },
   {
    "duration": 6,
    "start_time": "2023-01-25T21:43:41.573Z"
   },
   {
    "duration": 395,
    "start_time": "2023-01-25T21:43:41.581Z"
   },
   {
    "duration": 21,
    "start_time": "2023-01-25T21:43:41.981Z"
   },
   {
    "duration": 213,
    "start_time": "2023-01-25T21:43:42.004Z"
   },
   {
    "duration": 4,
    "start_time": "2023-01-25T21:43:42.219Z"
   },
   {
    "duration": 13,
    "start_time": "2023-01-25T21:43:42.225Z"
   },
   {
    "duration": 37,
    "start_time": "2023-01-25T21:43:42.239Z"
   },
   {
    "duration": 126,
    "start_time": "2023-01-25T21:43:42.278Z"
   },
   {
    "duration": 0,
    "start_time": "2023-01-25T21:43:42.407Z"
   },
   {
    "duration": 0,
    "start_time": "2023-01-25T21:43:42.408Z"
   },
   {
    "duration": 0,
    "start_time": "2023-01-25T21:43:42.409Z"
   },
   {
    "duration": 0,
    "start_time": "2023-01-25T21:43:42.410Z"
   },
   {
    "duration": 0,
    "start_time": "2023-01-25T21:43:42.412Z"
   },
   {
    "duration": 0,
    "start_time": "2023-01-25T21:43:42.413Z"
   },
   {
    "duration": 0,
    "start_time": "2023-01-25T21:43:42.415Z"
   },
   {
    "duration": 0,
    "start_time": "2023-01-25T21:43:42.417Z"
   },
   {
    "duration": 0,
    "start_time": "2023-01-25T21:43:42.418Z"
   },
   {
    "duration": 0,
    "start_time": "2023-01-25T21:43:42.419Z"
   },
   {
    "duration": 0,
    "start_time": "2023-01-25T21:43:42.421Z"
   },
   {
    "duration": 0,
    "start_time": "2023-01-25T21:43:42.422Z"
   },
   {
    "duration": 1,
    "start_time": "2023-01-25T21:43:42.423Z"
   },
   {
    "duration": 0,
    "start_time": "2023-01-25T21:43:42.425Z"
   },
   {
    "duration": 0,
    "start_time": "2023-01-25T21:43:42.427Z"
   },
   {
    "duration": 0,
    "start_time": "2023-01-25T21:43:42.428Z"
   },
   {
    "duration": 0,
    "start_time": "2023-01-25T21:43:42.430Z"
   },
   {
    "duration": 22,
    "start_time": "2023-01-25T21:43:49.660Z"
   },
   {
    "duration": 28,
    "start_time": "2023-01-25T21:44:57.097Z"
   },
   {
    "duration": 23,
    "start_time": "2023-01-25T21:45:01.178Z"
   },
   {
    "duration": 21,
    "start_time": "2023-01-25T21:45:02.200Z"
   },
   {
    "duration": 1057,
    "start_time": "2023-01-25T21:45:15.506Z"
   },
   {
    "duration": 226,
    "start_time": "2023-01-25T21:45:16.565Z"
   },
   {
    "duration": 25,
    "start_time": "2023-01-25T21:45:16.793Z"
   },
   {
    "duration": 13,
    "start_time": "2023-01-25T21:45:16.820Z"
   },
   {
    "duration": 100,
    "start_time": "2023-01-25T21:45:16.835Z"
   },
   {
    "duration": 86,
    "start_time": "2023-01-25T21:45:16.937Z"
   },
   {
    "duration": 82,
    "start_time": "2023-01-25T21:45:17.025Z"
   },
   {
    "duration": 39,
    "start_time": "2023-01-25T21:45:17.108Z"
   },
   {
    "duration": 33,
    "start_time": "2023-01-25T21:45:17.149Z"
   },
   {
    "duration": 14,
    "start_time": "2023-01-25T21:45:17.194Z"
   },
   {
    "duration": 23,
    "start_time": "2023-01-25T21:45:17.210Z"
   },
   {
    "duration": 7,
    "start_time": "2023-01-25T21:45:17.235Z"
   },
   {
    "duration": 3,
    "start_time": "2023-01-25T21:45:17.244Z"
   },
   {
    "duration": 55,
    "start_time": "2023-01-25T21:45:17.249Z"
   },
   {
    "duration": 17,
    "start_time": "2023-01-25T21:45:17.305Z"
   },
   {
    "duration": 2,
    "start_time": "2023-01-25T21:45:17.324Z"
   },
   {
    "duration": 6,
    "start_time": "2023-01-25T21:45:17.327Z"
   },
   {
    "duration": 9,
    "start_time": "2023-01-25T21:45:17.334Z"
   },
   {
    "duration": 6,
    "start_time": "2023-01-25T21:45:17.345Z"
   },
   {
    "duration": 343,
    "start_time": "2023-01-25T21:45:17.367Z"
   },
   {
    "duration": 21,
    "start_time": "2023-01-25T21:45:17.712Z"
   },
   {
    "duration": 231,
    "start_time": "2023-01-25T21:45:17.735Z"
   },
   {
    "duration": 15,
    "start_time": "2023-01-25T21:45:17.973Z"
   },
   {
    "duration": 5,
    "start_time": "2023-01-25T21:45:17.990Z"
   },
   {
    "duration": 43,
    "start_time": "2023-01-25T21:45:17.997Z"
   },
   {
    "duration": 20,
    "start_time": "2023-01-25T21:45:18.042Z"
   },
   {
    "duration": 45,
    "start_time": "2023-01-25T21:45:18.064Z"
   },
   {
    "duration": 26,
    "start_time": "2023-01-25T21:45:18.113Z"
   },
   {
    "duration": 43,
    "start_time": "2023-01-25T21:45:18.141Z"
   },
   {
    "duration": 42,
    "start_time": "2023-01-25T21:45:18.186Z"
   },
   {
    "duration": 76,
    "start_time": "2023-01-25T21:45:18.229Z"
   },
   {
    "duration": 42,
    "start_time": "2023-01-25T21:45:18.307Z"
   },
   {
    "duration": 44,
    "start_time": "2023-01-25T21:45:18.351Z"
   },
   {
    "duration": 46,
    "start_time": "2023-01-25T21:45:18.397Z"
   },
   {
    "duration": 31,
    "start_time": "2023-01-25T21:45:18.445Z"
   },
   {
    "duration": 59,
    "start_time": "2023-01-25T21:45:18.478Z"
   },
   {
    "duration": 4,
    "start_time": "2023-01-25T21:45:18.539Z"
   },
   {
    "duration": 8,
    "start_time": "2023-01-25T21:45:18.545Z"
   },
   {
    "duration": 37,
    "start_time": "2023-01-25T21:45:18.555Z"
   },
   {
    "duration": 6,
    "start_time": "2023-01-25T21:45:18.594Z"
   },
   {
    "duration": 7,
    "start_time": "2023-01-25T21:45:18.601Z"
   },
   {
    "duration": 30,
    "start_time": "2023-01-25T21:45:18.610Z"
   },
   {
    "duration": 150,
    "start_time": "2023-01-25T21:45:18.642Z"
   },
   {
    "duration": 20,
    "start_time": "2023-01-25T21:45:46.985Z"
   },
   {
    "duration": 22,
    "start_time": "2023-01-25T21:45:51.558Z"
   },
   {
    "duration": 5,
    "start_time": "2023-01-25T21:46:25.985Z"
   },
   {
    "duration": 20,
    "start_time": "2023-01-25T21:47:05.399Z"
   },
   {
    "duration": 17,
    "start_time": "2023-01-25T21:47:05.993Z"
   },
   {
    "duration": 6,
    "start_time": "2023-01-25T21:47:07.456Z"
   },
   {
    "duration": 4,
    "start_time": "2023-01-25T21:47:20.193Z"
   },
   {
    "duration": 6,
    "start_time": "2023-01-25T21:47:32.402Z"
   },
   {
    "duration": 4,
    "start_time": "2023-01-25T21:47:37.050Z"
   },
   {
    "duration": 5,
    "start_time": "2023-01-25T21:47:40.337Z"
   },
   {
    "duration": 5,
    "start_time": "2023-01-25T21:47:58.118Z"
   },
   {
    "duration": 4,
    "start_time": "2023-01-25T21:48:10.929Z"
   },
   {
    "duration": 107,
    "start_time": "2023-01-25T21:48:22.892Z"
   },
   {
    "duration": 4,
    "start_time": "2023-01-25T21:49:20.101Z"
   },
   {
    "duration": 10,
    "start_time": "2023-01-25T21:49:45.385Z"
   },
   {
    "duration": 11,
    "start_time": "2023-01-25T21:49:53.184Z"
   },
   {
    "duration": 4,
    "start_time": "2023-01-25T21:50:04.740Z"
   },
   {
    "duration": 8,
    "start_time": "2023-01-25T21:50:10.823Z"
   },
   {
    "duration": 12,
    "start_time": "2023-01-25T21:51:19.627Z"
   },
   {
    "duration": 4,
    "start_time": "2023-01-25T21:51:28.098Z"
   },
   {
    "duration": 4,
    "start_time": "2023-01-25T21:51:38.619Z"
   },
   {
    "duration": 12,
    "start_time": "2023-01-25T21:51:46.721Z"
   },
   {
    "duration": 9,
    "start_time": "2023-01-25T21:51:49.147Z"
   },
   {
    "duration": 6,
    "start_time": "2023-01-25T21:51:55.890Z"
   },
   {
    "duration": 91,
    "start_time": "2023-01-25T21:53:17.229Z"
   },
   {
    "duration": 4,
    "start_time": "2023-01-25T21:53:19.640Z"
   },
   {
    "duration": 5,
    "start_time": "2023-01-25T21:53:30.649Z"
   },
   {
    "duration": 4,
    "start_time": "2023-01-25T21:53:39.936Z"
   },
   {
    "duration": 5,
    "start_time": "2023-01-25T21:53:44.525Z"
   },
   {
    "duration": 9,
    "start_time": "2023-01-25T21:53:50.766Z"
   },
   {
    "duration": 4,
    "start_time": "2023-01-25T21:53:53.815Z"
   },
   {
    "duration": 4,
    "start_time": "2023-01-25T21:54:43.394Z"
   },
   {
    "duration": 9,
    "start_time": "2023-01-25T21:54:48.823Z"
   },
   {
    "duration": 12,
    "start_time": "2023-01-25T21:54:59.273Z"
   },
   {
    "duration": 8,
    "start_time": "2023-01-25T21:55:34.674Z"
   },
   {
    "duration": 4,
    "start_time": "2023-01-25T21:55:40.391Z"
   },
   {
    "duration": 200,
    "start_time": "2023-01-25T21:55:40.399Z"
   },
   {
    "duration": 33,
    "start_time": "2023-01-25T21:55:40.602Z"
   },
   {
    "duration": 11,
    "start_time": "2023-01-25T21:55:40.638Z"
   },
   {
    "duration": 93,
    "start_time": "2023-01-25T21:55:40.651Z"
   },
   {
    "duration": 64,
    "start_time": "2023-01-25T21:55:40.747Z"
   },
   {
    "duration": 81,
    "start_time": "2023-01-25T21:55:40.813Z"
   },
   {
    "duration": 63,
    "start_time": "2023-01-25T21:55:40.896Z"
   },
   {
    "duration": 51,
    "start_time": "2023-01-25T21:55:40.961Z"
   },
   {
    "duration": 22,
    "start_time": "2023-01-25T21:55:41.014Z"
   },
   {
    "duration": 42,
    "start_time": "2023-01-25T21:55:41.038Z"
   },
   {
    "duration": 12,
    "start_time": "2023-01-25T21:55:41.082Z"
   },
   {
    "duration": 19,
    "start_time": "2023-01-25T21:55:41.096Z"
   },
   {
    "duration": 31,
    "start_time": "2023-01-25T21:55:41.116Z"
   },
   {
    "duration": 30,
    "start_time": "2023-01-25T21:55:41.149Z"
   },
   {
    "duration": 3,
    "start_time": "2023-01-25T21:55:41.181Z"
   },
   {
    "duration": 12,
    "start_time": "2023-01-25T21:55:41.185Z"
   },
   {
    "duration": 36,
    "start_time": "2023-01-25T21:55:41.198Z"
   },
   {
    "duration": 20,
    "start_time": "2023-01-25T21:55:41.236Z"
   },
   {
    "duration": 365,
    "start_time": "2023-01-25T21:55:41.258Z"
   },
   {
    "duration": 17,
    "start_time": "2023-01-25T21:55:41.624Z"
   },
   {
    "duration": 226,
    "start_time": "2023-01-25T21:55:41.643Z"
   },
   {
    "duration": 6,
    "start_time": "2023-01-25T21:55:41.871Z"
   },
   {
    "duration": 20,
    "start_time": "2023-01-25T21:55:41.881Z"
   },
   {
    "duration": 46,
    "start_time": "2023-01-25T21:55:41.903Z"
   },
   {
    "duration": 30,
    "start_time": "2023-01-25T21:55:41.951Z"
   },
   {
    "duration": 5,
    "start_time": "2023-01-25T21:55:41.984Z"
   },
   {
    "duration": 6,
    "start_time": "2023-01-25T21:55:41.991Z"
   },
   {
    "duration": 4,
    "start_time": "2023-01-25T21:55:43.756Z"
   },
   {
    "duration": 10,
    "start_time": "2023-01-25T21:55:44.234Z"
   },
   {
    "duration": 11,
    "start_time": "2023-01-25T21:55:53.066Z"
   },
   {
    "duration": 8,
    "start_time": "2023-01-25T21:56:08.022Z"
   },
   {
    "duration": 5,
    "start_time": "2023-01-25T21:56:11.984Z"
   },
   {
    "duration": 5,
    "start_time": "2023-01-25T21:56:17.231Z"
   },
   {
    "duration": 3,
    "start_time": "2023-01-25T21:56:20.984Z"
   },
   {
    "duration": 9,
    "start_time": "2023-01-25T21:56:27.124Z"
   },
   {
    "duration": 10,
    "start_time": "2023-01-25T21:58:55.053Z"
   },
   {
    "duration": 5,
    "start_time": "2023-01-25T21:58:59.543Z"
   },
   {
    "duration": 4,
    "start_time": "2023-01-25T21:59:10.158Z"
   },
   {
    "duration": 4,
    "start_time": "2023-01-25T21:59:21.844Z"
   },
   {
    "duration": 3,
    "start_time": "2023-01-25T21:59:25.685Z"
   },
   {
    "duration": 3,
    "start_time": "2023-01-25T22:00:27.083Z"
   },
   {
    "duration": 178,
    "start_time": "2023-01-25T22:00:27.087Z"
   },
   {
    "duration": 19,
    "start_time": "2023-01-25T22:00:27.267Z"
   },
   {
    "duration": 7,
    "start_time": "2023-01-25T22:00:27.288Z"
   },
   {
    "duration": 45,
    "start_time": "2023-01-25T22:00:27.298Z"
   },
   {
    "duration": 69,
    "start_time": "2023-01-25T22:00:27.344Z"
   },
   {
    "duration": 72,
    "start_time": "2023-01-25T22:00:27.415Z"
   },
   {
    "duration": 38,
    "start_time": "2023-01-25T22:00:27.488Z"
   },
   {
    "duration": 19,
    "start_time": "2023-01-25T22:00:27.528Z"
   },
   {
    "duration": 28,
    "start_time": "2023-01-25T22:00:27.549Z"
   },
   {
    "duration": 23,
    "start_time": "2023-01-25T22:00:27.579Z"
   },
   {
    "duration": 9,
    "start_time": "2023-01-25T22:00:27.604Z"
   },
   {
    "duration": 3,
    "start_time": "2023-01-25T22:00:27.614Z"
   },
   {
    "duration": 24,
    "start_time": "2023-01-25T22:00:27.619Z"
   },
   {
    "duration": 17,
    "start_time": "2023-01-25T22:00:27.667Z"
   },
   {
    "duration": 4,
    "start_time": "2023-01-25T22:00:27.685Z"
   },
   {
    "duration": 5,
    "start_time": "2023-01-25T22:00:27.691Z"
   },
   {
    "duration": 7,
    "start_time": "2023-01-25T22:00:27.697Z"
   },
   {
    "duration": 7,
    "start_time": "2023-01-25T22:00:27.706Z"
   },
   {
    "duration": 264,
    "start_time": "2023-01-25T22:00:27.714Z"
   },
   {
    "duration": 17,
    "start_time": "2023-01-25T22:00:27.980Z"
   },
   {
    "duration": 194,
    "start_time": "2023-01-25T22:00:27.999Z"
   },
   {
    "duration": 4,
    "start_time": "2023-01-25T22:00:28.195Z"
   },
   {
    "duration": 11,
    "start_time": "2023-01-25T22:00:28.201Z"
   },
   {
    "duration": 19,
    "start_time": "2023-01-25T22:00:28.214Z"
   },
   {
    "duration": 32,
    "start_time": "2023-01-25T22:00:28.235Z"
   },
   {
    "duration": 6,
    "start_time": "2023-01-25T22:00:28.269Z"
   },
   {
    "duration": 20,
    "start_time": "2023-01-25T22:01:11.769Z"
   },
   {
    "duration": 20,
    "start_time": "2023-01-25T22:02:32.856Z"
   },
   {
    "duration": 14,
    "start_time": "2023-01-25T22:02:42.193Z"
   },
   {
    "duration": 20,
    "start_time": "2023-01-25T22:02:53.638Z"
   },
   {
    "duration": 15,
    "start_time": "2023-01-25T22:03:03.657Z"
   },
   {
    "duration": 16,
    "start_time": "2023-01-25T22:04:51.751Z"
   },
   {
    "duration": 4,
    "start_time": "2023-01-25T22:05:08.338Z"
   },
   {
    "duration": 167,
    "start_time": "2023-01-25T22:05:08.364Z"
   },
   {
    "duration": 20,
    "start_time": "2023-01-25T22:05:08.532Z"
   },
   {
    "duration": 16,
    "start_time": "2023-01-25T22:05:08.553Z"
   },
   {
    "duration": 61,
    "start_time": "2023-01-25T22:05:08.570Z"
   },
   {
    "duration": 78,
    "start_time": "2023-01-25T22:05:08.633Z"
   },
   {
    "duration": 69,
    "start_time": "2023-01-25T22:05:08.713Z"
   },
   {
    "duration": 43,
    "start_time": "2023-01-25T22:05:08.784Z"
   },
   {
    "duration": 20,
    "start_time": "2023-01-25T22:05:08.829Z"
   },
   {
    "duration": 12,
    "start_time": "2023-01-25T22:05:08.867Z"
   },
   {
    "duration": 30,
    "start_time": "2023-01-25T22:05:08.881Z"
   },
   {
    "duration": 11,
    "start_time": "2023-01-25T22:05:08.914Z"
   },
   {
    "duration": 11,
    "start_time": "2023-01-25T22:05:08.926Z"
   },
   {
    "duration": 103,
    "start_time": "2023-01-25T22:05:08.939Z"
   },
   {
    "duration": 27,
    "start_time": "2023-01-25T22:05:09.045Z"
   },
   {
    "duration": 3,
    "start_time": "2023-01-25T22:05:09.074Z"
   },
   {
    "duration": 6,
    "start_time": "2023-01-25T22:05:09.078Z"
   },
   {
    "duration": 13,
    "start_time": "2023-01-25T22:05:09.085Z"
   },
   {
    "duration": 17,
    "start_time": "2023-01-25T22:05:09.100Z"
   },
   {
    "duration": 250,
    "start_time": "2023-01-25T22:05:09.119Z"
   },
   {
    "duration": 17,
    "start_time": "2023-01-25T22:05:09.371Z"
   },
   {
    "duration": 197,
    "start_time": "2023-01-25T22:05:09.390Z"
   },
   {
    "duration": 6,
    "start_time": "2023-01-25T22:05:09.588Z"
   },
   {
    "duration": 9,
    "start_time": "2023-01-25T22:05:09.596Z"
   },
   {
    "duration": 21,
    "start_time": "2023-01-25T22:05:09.607Z"
   },
   {
    "duration": 4,
    "start_time": "2023-01-25T22:05:34.415Z"
   },
   {
    "duration": 175,
    "start_time": "2023-01-25T22:05:34.422Z"
   },
   {
    "duration": 20,
    "start_time": "2023-01-25T22:05:34.599Z"
   },
   {
    "duration": 6,
    "start_time": "2023-01-25T22:05:34.621Z"
   },
   {
    "duration": 75,
    "start_time": "2023-01-25T22:05:34.629Z"
   },
   {
    "duration": 71,
    "start_time": "2023-01-25T22:05:34.706Z"
   },
   {
    "duration": 93,
    "start_time": "2023-01-25T22:05:34.778Z"
   },
   {
    "duration": 53,
    "start_time": "2023-01-25T22:05:34.874Z"
   },
   {
    "duration": 48,
    "start_time": "2023-01-25T22:05:34.929Z"
   },
   {
    "duration": 46,
    "start_time": "2023-01-25T22:05:34.980Z"
   },
   {
    "duration": 37,
    "start_time": "2023-01-25T22:05:35.029Z"
   },
   {
    "duration": 24,
    "start_time": "2023-01-25T22:05:35.068Z"
   },
   {
    "duration": 7,
    "start_time": "2023-01-25T22:05:35.094Z"
   },
   {
    "duration": 31,
    "start_time": "2023-01-25T22:05:35.103Z"
   },
   {
    "duration": 18,
    "start_time": "2023-01-25T22:05:35.136Z"
   },
   {
    "duration": 2,
    "start_time": "2023-01-25T22:05:35.156Z"
   },
   {
    "duration": 8,
    "start_time": "2023-01-25T22:05:35.160Z"
   },
   {
    "duration": 7,
    "start_time": "2023-01-25T22:05:35.169Z"
   },
   {
    "duration": 7,
    "start_time": "2023-01-25T22:05:35.177Z"
   },
   {
    "duration": 268,
    "start_time": "2023-01-25T22:05:35.185Z"
   },
   {
    "duration": 23,
    "start_time": "2023-01-25T22:05:35.454Z"
   },
   {
    "duration": 198,
    "start_time": "2023-01-25T22:05:35.479Z"
   },
   {
    "duration": 5,
    "start_time": "2023-01-25T22:05:35.679Z"
   },
   {
    "duration": 6,
    "start_time": "2023-01-25T22:05:35.685Z"
   },
   {
    "duration": 27,
    "start_time": "2023-01-25T22:05:35.693Z"
   },
   {
    "duration": 12,
    "start_time": "2023-01-25T22:05:35.722Z"
   },
   {
    "duration": 13,
    "start_time": "2023-01-25T22:05:37.254Z"
   },
   {
    "duration": 10,
    "start_time": "2023-01-25T22:05:38.005Z"
   },
   {
    "duration": 6,
    "start_time": "2023-01-25T22:05:54.736Z"
   },
   {
    "duration": 18,
    "start_time": "2023-01-25T22:06:10.311Z"
   },
   {
    "duration": 13,
    "start_time": "2023-01-25T22:06:14.002Z"
   },
   {
    "duration": 4,
    "start_time": "2023-01-25T22:07:18.417Z"
   },
   {
    "duration": 4,
    "start_time": "2023-01-25T22:07:24.719Z"
   },
   {
    "duration": 4,
    "start_time": "2023-01-25T22:07:45.608Z"
   },
   {
    "duration": 33,
    "start_time": "2023-01-25T22:07:47.565Z"
   },
   {
    "duration": 6,
    "start_time": "2023-01-25T22:07:49.991Z"
   },
   {
    "duration": 47,
    "start_time": "2023-01-25T22:07:53.018Z"
   },
   {
    "duration": 15,
    "start_time": "2023-01-25T22:07:55.479Z"
   },
   {
    "duration": 55,
    "start_time": "2023-01-25T22:07:56.377Z"
   },
   {
    "duration": 38,
    "start_time": "2023-01-25T22:08:05.215Z"
   },
   {
    "duration": 20,
    "start_time": "2023-01-25T22:08:11.087Z"
   },
   {
    "duration": 17,
    "start_time": "2023-01-25T22:08:12.131Z"
   },
   {
    "duration": 25,
    "start_time": "2023-01-25T22:08:12.964Z"
   },
   {
    "duration": 24,
    "start_time": "2023-01-25T22:08:13.760Z"
   },
   {
    "duration": 5,
    "start_time": "2023-01-25T22:08:14.293Z"
   },
   {
    "duration": 5,
    "start_time": "2023-01-25T22:08:14.669Z"
   },
   {
    "duration": 22,
    "start_time": "2023-01-25T22:08:15.009Z"
   },
   {
    "duration": 5,
    "start_time": "2023-01-25T22:08:15.393Z"
   },
   {
    "duration": 8,
    "start_time": "2023-01-25T22:08:16.839Z"
   },
   {
    "duration": 16,
    "start_time": "2023-01-25T22:08:17.288Z"
   },
   {
    "duration": 131,
    "start_time": "2023-01-25T22:08:17.816Z"
   },
   {
    "duration": 6,
    "start_time": "2023-01-25T22:08:26.941Z"
   },
   {
    "duration": 16,
    "start_time": "2023-01-25T22:08:27.472Z"
   },
   {
    "duration": 140,
    "start_time": "2023-01-25T22:08:27.954Z"
   },
   {
    "duration": 984,
    "start_time": "2023-01-25T22:09:57.422Z"
   },
   {
    "duration": 172,
    "start_time": "2023-01-25T22:09:58.408Z"
   },
   {
    "duration": 20,
    "start_time": "2023-01-25T22:09:58.582Z"
   },
   {
    "duration": 14,
    "start_time": "2023-01-25T22:09:58.604Z"
   },
   {
    "duration": 83,
    "start_time": "2023-01-25T22:09:58.620Z"
   },
   {
    "duration": 71,
    "start_time": "2023-01-25T22:09:58.704Z"
   },
   {
    "duration": 69,
    "start_time": "2023-01-25T22:09:58.777Z"
   },
   {
    "duration": 48,
    "start_time": "2023-01-25T22:09:58.848Z"
   },
   {
    "duration": 20,
    "start_time": "2023-01-25T22:09:58.897Z"
   },
   {
    "duration": 11,
    "start_time": "2023-01-25T22:09:58.921Z"
   },
   {
    "duration": 46,
    "start_time": "2023-01-25T22:09:58.934Z"
   },
   {
    "duration": 6,
    "start_time": "2023-01-25T22:09:58.982Z"
   },
   {
    "duration": 8,
    "start_time": "2023-01-25T22:09:58.989Z"
   },
   {
    "duration": 23,
    "start_time": "2023-01-25T22:09:58.998Z"
   },
   {
    "duration": 45,
    "start_time": "2023-01-25T22:09:59.023Z"
   },
   {
    "duration": 2,
    "start_time": "2023-01-25T22:09:59.070Z"
   },
   {
    "duration": 4,
    "start_time": "2023-01-25T22:09:59.074Z"
   },
   {
    "duration": 5,
    "start_time": "2023-01-25T22:09:59.080Z"
   },
   {
    "duration": 7,
    "start_time": "2023-01-25T22:09:59.087Z"
   },
   {
    "duration": 343,
    "start_time": "2023-01-25T22:09:59.096Z"
   },
   {
    "duration": 26,
    "start_time": "2023-01-25T22:09:59.441Z"
   },
   {
    "duration": 182,
    "start_time": "2023-01-25T22:09:59.469Z"
   },
   {
    "duration": 4,
    "start_time": "2023-01-25T22:09:59.653Z"
   },
   {
    "duration": 4,
    "start_time": "2023-01-25T22:09:59.667Z"
   },
   {
    "duration": 134,
    "start_time": "2023-01-25T22:09:59.672Z"
   },
   {
    "duration": 0,
    "start_time": "2023-01-25T22:09:59.808Z"
   },
   {
    "duration": 0,
    "start_time": "2023-01-25T22:09:59.809Z"
   },
   {
    "duration": 0,
    "start_time": "2023-01-25T22:09:59.811Z"
   },
   {
    "duration": 0,
    "start_time": "2023-01-25T22:09:59.812Z"
   },
   {
    "duration": 0,
    "start_time": "2023-01-25T22:09:59.813Z"
   },
   {
    "duration": 0,
    "start_time": "2023-01-25T22:09:59.813Z"
   },
   {
    "duration": 0,
    "start_time": "2023-01-25T22:09:59.814Z"
   },
   {
    "duration": 0,
    "start_time": "2023-01-25T22:09:59.815Z"
   },
   {
    "duration": 0,
    "start_time": "2023-01-25T22:09:59.816Z"
   },
   {
    "duration": 0,
    "start_time": "2023-01-25T22:09:59.818Z"
   },
   {
    "duration": 0,
    "start_time": "2023-01-25T22:09:59.819Z"
   },
   {
    "duration": 0,
    "start_time": "2023-01-25T22:09:59.820Z"
   },
   {
    "duration": 0,
    "start_time": "2023-01-25T22:09:59.821Z"
   },
   {
    "duration": 0,
    "start_time": "2023-01-25T22:09:59.822Z"
   },
   {
    "duration": 0,
    "start_time": "2023-01-25T22:09:59.824Z"
   },
   {
    "duration": 0,
    "start_time": "2023-01-25T22:09:59.825Z"
   },
   {
    "duration": 0,
    "start_time": "2023-01-25T22:09:59.826Z"
   },
   {
    "duration": 0,
    "start_time": "2023-01-25T22:09:59.828Z"
   },
   {
    "duration": 0,
    "start_time": "2023-01-25T22:09:59.868Z"
   },
   {
    "duration": 8,
    "start_time": "2023-01-25T22:10:07.791Z"
   },
   {
    "duration": 19,
    "start_time": "2023-01-25T22:10:41.580Z"
   },
   {
    "duration": 12,
    "start_time": "2023-01-25T22:10:44.613Z"
   },
   {
    "duration": 4,
    "start_time": "2023-01-25T22:10:44.951Z"
   },
   {
    "duration": 1067,
    "start_time": "2023-01-25T22:10:55.047Z"
   },
   {
    "duration": 174,
    "start_time": "2023-01-25T22:10:56.116Z"
   },
   {
    "duration": 20,
    "start_time": "2023-01-25T22:10:56.292Z"
   },
   {
    "duration": 11,
    "start_time": "2023-01-25T22:10:56.314Z"
   },
   {
    "duration": 85,
    "start_time": "2023-01-25T22:10:56.326Z"
   },
   {
    "duration": 73,
    "start_time": "2023-01-25T22:10:56.413Z"
   },
   {
    "duration": 79,
    "start_time": "2023-01-25T22:10:56.488Z"
   },
   {
    "duration": 56,
    "start_time": "2023-01-25T22:10:56.569Z"
   },
   {
    "duration": 19,
    "start_time": "2023-01-25T22:10:56.627Z"
   },
   {
    "duration": 35,
    "start_time": "2023-01-25T22:10:56.649Z"
   },
   {
    "duration": 40,
    "start_time": "2023-01-25T22:10:56.687Z"
   },
   {
    "duration": 9,
    "start_time": "2023-01-25T22:10:56.729Z"
   },
   {
    "duration": 7,
    "start_time": "2023-01-25T22:10:56.740Z"
   },
   {
    "duration": 39,
    "start_time": "2023-01-25T22:10:56.749Z"
   },
   {
    "duration": 29,
    "start_time": "2023-01-25T22:10:56.790Z"
   },
   {
    "duration": 3,
    "start_time": "2023-01-25T22:10:56.821Z"
   },
   {
    "duration": 6,
    "start_time": "2023-01-25T22:10:56.825Z"
   },
   {
    "duration": 6,
    "start_time": "2023-01-25T22:10:56.832Z"
   },
   {
    "duration": 30,
    "start_time": "2023-01-25T22:10:56.839Z"
   },
   {
    "duration": 352,
    "start_time": "2023-01-25T22:10:56.870Z"
   },
   {
    "duration": 16,
    "start_time": "2023-01-25T22:10:57.224Z"
   },
   {
    "duration": 212,
    "start_time": "2023-01-25T22:10:57.243Z"
   },
   {
    "duration": 4,
    "start_time": "2023-01-25T22:10:57.457Z"
   },
   {
    "duration": 4,
    "start_time": "2023-01-25T22:10:57.468Z"
   },
   {
    "duration": 24,
    "start_time": "2023-01-25T22:10:57.474Z"
   },
   {
    "duration": 13,
    "start_time": "2023-01-25T22:10:57.500Z"
   },
   {
    "duration": 5,
    "start_time": "2023-01-25T22:10:57.515Z"
   },
   {
    "duration": 72,
    "start_time": "2023-01-25T22:10:57.524Z"
   },
   {
    "duration": 7,
    "start_time": "2023-01-25T22:10:57.598Z"
   },
   {
    "duration": 27,
    "start_time": "2023-01-25T22:10:57.607Z"
   },
   {
    "duration": 31,
    "start_time": "2023-01-25T22:10:57.636Z"
   },
   {
    "duration": 54,
    "start_time": "2023-01-25T22:10:57.668Z"
   },
   {
    "duration": 46,
    "start_time": "2023-01-25T22:10:57.724Z"
   },
   {
    "duration": 19,
    "start_time": "2023-01-25T22:10:57.772Z"
   },
   {
    "duration": 17,
    "start_time": "2023-01-25T22:10:57.793Z"
   },
   {
    "duration": 23,
    "start_time": "2023-01-25T22:10:57.812Z"
   },
   {
    "duration": 48,
    "start_time": "2023-01-25T22:10:57.836Z"
   },
   {
    "duration": 4,
    "start_time": "2023-01-25T22:10:57.886Z"
   },
   {
    "duration": 8,
    "start_time": "2023-01-25T22:10:57.891Z"
   },
   {
    "duration": 29,
    "start_time": "2023-01-25T22:10:57.900Z"
   },
   {
    "duration": 6,
    "start_time": "2023-01-25T22:10:57.930Z"
   },
   {
    "duration": 5,
    "start_time": "2023-01-25T22:10:57.968Z"
   },
   {
    "duration": 20,
    "start_time": "2023-01-25T22:10:57.975Z"
   },
   {
    "duration": 133,
    "start_time": "2023-01-25T22:10:57.996Z"
   },
   {
    "duration": 144,
    "start_time": "2023-01-25T22:11:16.951Z"
   },
   {
    "duration": 130,
    "start_time": "2023-01-25T22:11:20.760Z"
   },
   {
    "duration": 7,
    "start_time": "2023-01-25T22:11:42.572Z"
   },
   {
    "duration": 21,
    "start_time": "2023-01-25T22:11:43.051Z"
   },
   {
    "duration": 162,
    "start_time": "2023-01-25T22:11:43.517Z"
   },
   {
    "duration": 6,
    "start_time": "2023-01-25T22:12:01.824Z"
   },
   {
    "duration": 16,
    "start_time": "2023-01-25T22:12:02.458Z"
   },
   {
    "duration": 51,
    "start_time": "2023-01-25T22:12:02.967Z"
   },
   {
    "duration": 6,
    "start_time": "2023-01-25T22:12:24.541Z"
   },
   {
    "duration": 16,
    "start_time": "2023-01-25T22:12:25.165Z"
   },
   {
    "duration": 142,
    "start_time": "2023-01-25T22:12:25.717Z"
   },
   {
    "duration": 6,
    "start_time": "2023-01-25T22:12:39.934Z"
   },
   {
    "duration": 16,
    "start_time": "2023-01-25T22:12:40.534Z"
   },
   {
    "duration": 62,
    "start_time": "2023-01-25T22:12:41.046Z"
   },
   {
    "duration": 6,
    "start_time": "2023-01-25T22:12:47.527Z"
   },
   {
    "duration": 15,
    "start_time": "2023-01-25T22:12:48.052Z"
   },
   {
    "duration": 135,
    "start_time": "2023-01-25T22:12:48.769Z"
   },
   {
    "duration": 8,
    "start_time": "2023-01-25T22:14:02.617Z"
   },
   {
    "duration": 14,
    "start_time": "2023-01-25T22:14:07.649Z"
   },
   {
    "duration": 8,
    "start_time": "2023-01-25T22:14:16.462Z"
   },
   {
    "duration": 629,
    "start_time": "2023-01-25T22:14:34.681Z"
   },
   {
    "duration": 129,
    "start_time": "2023-01-25T22:14:40.095Z"
   },
   {
    "duration": 11,
    "start_time": "2023-01-25T22:14:54.808Z"
   },
   {
    "duration": 147,
    "start_time": "2023-01-25T22:15:05.680Z"
   },
   {
    "duration": 6,
    "start_time": "2023-01-25T22:15:22.451Z"
   },
   {
    "duration": 6,
    "start_time": "2023-01-25T22:15:27.455Z"
   },
   {
    "duration": 136,
    "start_time": "2023-01-25T22:15:28.049Z"
   },
   {
    "duration": 6,
    "start_time": "2023-01-25T22:17:37.929Z"
   },
   {
    "duration": 147,
    "start_time": "2023-01-25T22:17:38.459Z"
   },
   {
    "duration": 14,
    "start_time": "2023-01-25T22:18:14.494Z"
   },
   {
    "duration": 6,
    "start_time": "2023-01-25T22:18:38.603Z"
   },
   {
    "duration": 132,
    "start_time": "2023-01-25T22:18:39.195Z"
   },
   {
    "duration": 6,
    "start_time": "2023-01-25T22:18:44.181Z"
   },
   {
    "duration": 194,
    "start_time": "2023-01-25T22:18:44.755Z"
   },
   {
    "duration": 6,
    "start_time": "2023-01-25T22:18:58.251Z"
   },
   {
    "duration": 157,
    "start_time": "2023-01-25T22:18:59.451Z"
   },
   {
    "duration": 7,
    "start_time": "2023-01-25T22:21:00.411Z"
   },
   {
    "duration": 130,
    "start_time": "2023-01-25T22:21:00.849Z"
   },
   {
    "duration": 6,
    "start_time": "2023-01-25T22:21:42.419Z"
   },
   {
    "duration": 6,
    "start_time": "2023-01-25T22:21:50.715Z"
   },
   {
    "duration": 126,
    "start_time": "2023-01-25T22:21:51.335Z"
   },
   {
    "duration": 6,
    "start_time": "2023-01-25T22:21:59.647Z"
   },
   {
    "duration": 141,
    "start_time": "2023-01-25T22:22:00.310Z"
   },
   {
    "duration": 1126,
    "start_time": "2023-01-25T22:22:15.909Z"
   },
   {
    "duration": 193,
    "start_time": "2023-01-25T22:22:17.038Z"
   },
   {
    "duration": 20,
    "start_time": "2023-01-25T22:22:17.233Z"
   },
   {
    "duration": 12,
    "start_time": "2023-01-25T22:22:17.266Z"
   },
   {
    "duration": 64,
    "start_time": "2023-01-25T22:22:17.279Z"
   },
   {
    "duration": 76,
    "start_time": "2023-01-25T22:22:17.344Z"
   },
   {
    "duration": 77,
    "start_time": "2023-01-25T22:22:17.422Z"
   },
   {
    "duration": 48,
    "start_time": "2023-01-25T22:22:17.500Z"
   },
   {
    "duration": 29,
    "start_time": "2023-01-25T22:22:17.549Z"
   },
   {
    "duration": 11,
    "start_time": "2023-01-25T22:22:17.582Z"
   },
   {
    "duration": 23,
    "start_time": "2023-01-25T22:22:17.595Z"
   },
   {
    "duration": 15,
    "start_time": "2023-01-25T22:22:17.620Z"
   },
   {
    "duration": 4,
    "start_time": "2023-01-25T22:22:17.637Z"
   },
   {
    "duration": 41,
    "start_time": "2023-01-25T22:22:17.642Z"
   },
   {
    "duration": 17,
    "start_time": "2023-01-25T22:22:17.685Z"
   },
   {
    "duration": 23,
    "start_time": "2023-01-25T22:22:17.704Z"
   },
   {
    "duration": 6,
    "start_time": "2023-01-25T22:22:17.728Z"
   },
   {
    "duration": 9,
    "start_time": "2023-01-25T22:22:17.735Z"
   },
   {
    "duration": 14,
    "start_time": "2023-01-25T22:22:17.745Z"
   },
   {
    "duration": 372,
    "start_time": "2023-01-25T22:22:17.760Z"
   },
   {
    "duration": 18,
    "start_time": "2023-01-25T22:22:18.134Z"
   },
   {
    "duration": 221,
    "start_time": "2023-01-25T22:22:18.154Z"
   },
   {
    "duration": 4,
    "start_time": "2023-01-25T22:22:18.377Z"
   },
   {
    "duration": 9,
    "start_time": "2023-01-25T22:22:18.382Z"
   },
   {
    "duration": 20,
    "start_time": "2023-01-25T22:22:18.392Z"
   },
   {
    "duration": 11,
    "start_time": "2023-01-25T22:22:18.413Z"
   },
   {
    "duration": 3,
    "start_time": "2023-01-25T22:22:18.426Z"
   },
   {
    "duration": 68,
    "start_time": "2023-01-25T22:22:18.432Z"
   },
   {
    "duration": 7,
    "start_time": "2023-01-25T22:22:18.501Z"
   },
   {
    "duration": 27,
    "start_time": "2023-01-25T22:22:18.510Z"
   },
   {
    "duration": 49,
    "start_time": "2023-01-25T22:22:18.539Z"
   },
   {
    "duration": 60,
    "start_time": "2023-01-25T22:22:18.590Z"
   },
   {
    "duration": 45,
    "start_time": "2023-01-25T22:22:18.652Z"
   },
   {
    "duration": 20,
    "start_time": "2023-01-25T22:22:18.698Z"
   },
   {
    "duration": 18,
    "start_time": "2023-01-25T22:22:18.720Z"
   },
   {
    "duration": 49,
    "start_time": "2023-01-25T22:22:18.739Z"
   },
   {
    "duration": 22,
    "start_time": "2023-01-25T22:22:18.789Z"
   },
   {
    "duration": 4,
    "start_time": "2023-01-25T22:22:18.812Z"
   },
   {
    "duration": 7,
    "start_time": "2023-01-25T22:22:18.817Z"
   },
   {
    "duration": 43,
    "start_time": "2023-01-25T22:22:18.826Z"
   },
   {
    "duration": 6,
    "start_time": "2023-01-25T22:22:18.871Z"
   },
   {
    "duration": 9,
    "start_time": "2023-01-25T22:22:18.878Z"
   },
   {
    "duration": 166,
    "start_time": "2023-01-25T22:22:18.889Z"
   },
   {
    "duration": 20,
    "start_time": "2023-01-25T22:28:04.897Z"
   },
   {
    "duration": 6,
    "start_time": "2023-01-25T22:30:05.656Z"
   },
   {
    "duration": 147,
    "start_time": "2023-01-25T22:30:06.077Z"
   },
   {
    "duration": 4,
    "start_time": "2023-01-25T22:30:12.263Z"
   },
   {
    "duration": 182,
    "start_time": "2023-01-25T22:30:12.269Z"
   },
   {
    "duration": 26,
    "start_time": "2023-01-25T22:30:12.452Z"
   },
   {
    "duration": 6,
    "start_time": "2023-01-25T22:30:12.480Z"
   },
   {
    "duration": 55,
    "start_time": "2023-01-25T22:30:12.488Z"
   },
   {
    "duration": 82,
    "start_time": "2023-01-25T22:30:12.544Z"
   },
   {
    "duration": 77,
    "start_time": "2023-01-25T22:30:12.627Z"
   },
   {
    "duration": 43,
    "start_time": "2023-01-25T22:30:12.706Z"
   },
   {
    "duration": 28,
    "start_time": "2023-01-25T22:30:12.751Z"
   },
   {
    "duration": 12,
    "start_time": "2023-01-25T22:30:12.780Z"
   },
   {
    "duration": 29,
    "start_time": "2023-01-25T22:30:12.794Z"
   },
   {
    "duration": 10,
    "start_time": "2023-01-25T22:30:12.825Z"
   },
   {
    "duration": 5,
    "start_time": "2023-01-25T22:30:12.836Z"
   },
   {
    "duration": 44,
    "start_time": "2023-01-25T22:30:12.842Z"
   },
   {
    "duration": 17,
    "start_time": "2023-01-25T22:30:12.888Z"
   },
   {
    "duration": 4,
    "start_time": "2023-01-25T22:30:12.907Z"
   },
   {
    "duration": 6,
    "start_time": "2023-01-25T22:30:12.912Z"
   },
   {
    "duration": 298,
    "start_time": "2023-01-25T22:30:12.920Z"
   },
   {
    "duration": 18,
    "start_time": "2023-01-25T22:30:13.220Z"
   },
   {
    "duration": 191,
    "start_time": "2023-01-25T22:30:13.240Z"
   },
   {
    "duration": 5,
    "start_time": "2023-01-25T22:30:13.432Z"
   },
   {
    "duration": 8,
    "start_time": "2023-01-25T22:30:13.438Z"
   },
   {
    "duration": 32,
    "start_time": "2023-01-25T22:30:13.447Z"
   },
   {
    "duration": 12,
    "start_time": "2023-01-25T22:30:13.482Z"
   },
   {
    "duration": 3,
    "start_time": "2023-01-25T22:30:13.496Z"
   },
   {
    "duration": 33,
    "start_time": "2023-01-25T22:30:13.500Z"
   },
   {
    "duration": 34,
    "start_time": "2023-01-25T22:30:13.535Z"
   },
   {
    "duration": 24,
    "start_time": "2023-01-25T22:30:13.570Z"
   },
   {
    "duration": 21,
    "start_time": "2023-01-25T22:30:13.595Z"
   },
   {
    "duration": 75,
    "start_time": "2023-01-25T22:30:13.617Z"
   },
   {
    "duration": 42,
    "start_time": "2023-01-25T22:30:13.694Z"
   },
   {
    "duration": 33,
    "start_time": "2023-01-25T22:30:13.739Z"
   },
   {
    "duration": 23,
    "start_time": "2023-01-25T22:30:13.774Z"
   },
   {
    "duration": 22,
    "start_time": "2023-01-25T22:30:13.799Z"
   },
   {
    "duration": 17,
    "start_time": "2023-01-25T22:30:13.823Z"
   },
   {
    "duration": 6,
    "start_time": "2023-01-25T22:30:13.868Z"
   },
   {
    "duration": 65,
    "start_time": "2023-01-25T22:30:13.875Z"
   },
   {
    "duration": 6,
    "start_time": "2023-01-25T22:30:28.949Z"
   },
   {
    "duration": 148,
    "start_time": "2023-01-25T22:30:29.457Z"
   },
   {
    "duration": 1069,
    "start_time": "2023-01-25T22:31:07.191Z"
   },
   {
    "duration": 182,
    "start_time": "2023-01-25T22:31:08.262Z"
   },
   {
    "duration": 24,
    "start_time": "2023-01-25T22:31:08.446Z"
   },
   {
    "duration": 11,
    "start_time": "2023-01-25T22:31:08.472Z"
   },
   {
    "duration": 60,
    "start_time": "2023-01-25T22:31:08.485Z"
   },
   {
    "duration": 83,
    "start_time": "2023-01-25T22:31:08.546Z"
   },
   {
    "duration": 74,
    "start_time": "2023-01-25T22:31:08.631Z"
   },
   {
    "duration": 38,
    "start_time": "2023-01-25T22:31:08.706Z"
   },
   {
    "duration": 33,
    "start_time": "2023-01-25T22:31:08.746Z"
   },
   {
    "duration": 12,
    "start_time": "2023-01-25T22:31:08.781Z"
   },
   {
    "duration": 26,
    "start_time": "2023-01-25T22:31:08.794Z"
   },
   {
    "duration": 10,
    "start_time": "2023-01-25T22:31:08.821Z"
   },
   {
    "duration": 5,
    "start_time": "2023-01-25T22:31:08.833Z"
   },
   {
    "duration": 40,
    "start_time": "2023-01-25T22:31:08.840Z"
   },
   {
    "duration": 18,
    "start_time": "2023-01-25T22:31:08.882Z"
   },
   {
    "duration": 4,
    "start_time": "2023-01-25T22:31:08.901Z"
   },
   {
    "duration": 6,
    "start_time": "2023-01-25T22:31:08.907Z"
   },
   {
    "duration": 387,
    "start_time": "2023-01-25T22:31:08.915Z"
   },
   {
    "duration": 20,
    "start_time": "2023-01-25T22:31:09.304Z"
   },
   {
    "duration": 222,
    "start_time": "2023-01-25T22:31:09.325Z"
   },
   {
    "duration": 5,
    "start_time": "2023-01-25T22:31:09.548Z"
   },
   {
    "duration": 4,
    "start_time": "2023-01-25T22:31:09.567Z"
   },
   {
    "duration": 27,
    "start_time": "2023-01-25T22:31:09.573Z"
   },
   {
    "duration": 3,
    "start_time": "2023-01-25T22:31:09.601Z"
   },
   {
    "duration": 6,
    "start_time": "2023-01-25T22:31:09.606Z"
   },
   {
    "duration": 54,
    "start_time": "2023-01-25T22:31:09.614Z"
   },
   {
    "duration": 7,
    "start_time": "2023-01-25T22:31:09.670Z"
   },
   {
    "duration": 24,
    "start_time": "2023-01-25T22:31:09.681Z"
   },
   {
    "duration": 18,
    "start_time": "2023-01-25T22:31:09.707Z"
   },
   {
    "duration": 91,
    "start_time": "2023-01-25T22:31:09.727Z"
   },
   {
    "duration": 47,
    "start_time": "2023-01-25T22:31:09.820Z"
   },
   {
    "duration": 21,
    "start_time": "2023-01-25T22:31:09.869Z"
   },
   {
    "duration": 25,
    "start_time": "2023-01-25T22:31:09.892Z"
   },
   {
    "duration": 22,
    "start_time": "2023-01-25T22:31:09.918Z"
   },
   {
    "duration": 42,
    "start_time": "2023-01-25T22:31:09.941Z"
   },
   {
    "duration": 6,
    "start_time": "2023-01-25T22:31:09.985Z"
   },
   {
    "duration": 146,
    "start_time": "2023-01-25T22:31:09.993Z"
   },
   {
    "duration": 1117,
    "start_time": "2023-01-25T22:31:56.432Z"
   },
   {
    "duration": 185,
    "start_time": "2023-01-25T22:31:57.551Z"
   },
   {
    "duration": 30,
    "start_time": "2023-01-25T22:31:57.738Z"
   },
   {
    "duration": 12,
    "start_time": "2023-01-25T22:31:57.771Z"
   },
   {
    "duration": 83,
    "start_time": "2023-01-25T22:31:57.785Z"
   },
   {
    "duration": 66,
    "start_time": "2023-01-25T22:31:57.870Z"
   },
   {
    "duration": 88,
    "start_time": "2023-01-25T22:31:57.938Z"
   },
   {
    "duration": 47,
    "start_time": "2023-01-25T22:31:58.028Z"
   },
   {
    "duration": 23,
    "start_time": "2023-01-25T22:31:58.077Z"
   },
   {
    "duration": 12,
    "start_time": "2023-01-25T22:31:58.104Z"
   },
   {
    "duration": 50,
    "start_time": "2023-01-25T22:31:58.118Z"
   },
   {
    "duration": 7,
    "start_time": "2023-01-25T22:31:58.171Z"
   },
   {
    "duration": 4,
    "start_time": "2023-01-25T22:31:58.180Z"
   },
   {
    "duration": 22,
    "start_time": "2023-01-25T22:31:58.186Z"
   },
   {
    "duration": 21,
    "start_time": "2023-01-25T22:31:58.210Z"
   },
   {
    "duration": 5,
    "start_time": "2023-01-25T22:31:58.266Z"
   },
   {
    "duration": 6,
    "start_time": "2023-01-25T22:31:58.273Z"
   },
   {
    "duration": 365,
    "start_time": "2023-01-25T22:31:58.282Z"
   },
   {
    "duration": 29,
    "start_time": "2023-01-25T22:31:58.649Z"
   },
   {
    "duration": 206,
    "start_time": "2023-01-25T22:31:58.680Z"
   },
   {
    "duration": 4,
    "start_time": "2023-01-25T22:31:58.888Z"
   },
   {
    "duration": 11,
    "start_time": "2023-01-25T22:31:58.894Z"
   },
   {
    "duration": 29,
    "start_time": "2023-01-25T22:31:58.907Z"
   },
   {
    "duration": 35,
    "start_time": "2023-01-25T22:31:58.938Z"
   },
   {
    "duration": 4,
    "start_time": "2023-01-25T22:31:58.975Z"
   },
   {
    "duration": 42,
    "start_time": "2023-01-25T22:31:58.980Z"
   },
   {
    "duration": 10,
    "start_time": "2023-01-25T22:31:59.024Z"
   },
   {
    "duration": 46,
    "start_time": "2023-01-25T22:31:59.038Z"
   },
   {
    "duration": 20,
    "start_time": "2023-01-25T22:31:59.086Z"
   },
   {
    "duration": 80,
    "start_time": "2023-01-25T22:31:59.108Z"
   },
   {
    "duration": 36,
    "start_time": "2023-01-25T22:31:59.190Z"
   },
   {
    "duration": 40,
    "start_time": "2023-01-25T22:31:59.227Z"
   },
   {
    "duration": 24,
    "start_time": "2023-01-25T22:31:59.269Z"
   },
   {
    "duration": 29,
    "start_time": "2023-01-25T22:31:59.295Z"
   },
   {
    "duration": 48,
    "start_time": "2023-01-25T22:31:59.325Z"
   },
   {
    "duration": 6,
    "start_time": "2023-01-25T22:31:59.375Z"
   },
   {
    "duration": 167,
    "start_time": "2023-01-25T22:31:59.383Z"
   },
   {
    "duration": 163,
    "start_time": "2023-01-25T22:34:34.519Z"
   },
   {
    "duration": 158,
    "start_time": "2023-01-25T22:34:41.352Z"
   },
   {
    "duration": 15,
    "start_time": "2023-01-25T22:36:48.423Z"
   },
   {
    "duration": 16,
    "start_time": "2023-01-25T22:36:58.323Z"
   },
   {
    "duration": 17,
    "start_time": "2023-01-25T22:37:17.291Z"
   },
   {
    "duration": 37,
    "start_time": "2023-01-25T22:40:37.271Z"
   },
   {
    "duration": 108,
    "start_time": "2023-01-25T22:41:11.258Z"
   },
   {
    "duration": 15,
    "start_time": "2023-01-25T22:41:23.939Z"
   },
   {
    "duration": 28,
    "start_time": "2023-01-25T22:41:39.914Z"
   },
   {
    "duration": 24,
    "start_time": "2023-01-25T22:41:58.835Z"
   },
   {
    "duration": 1280,
    "start_time": "2023-01-26T12:10:09.088Z"
   },
   {
    "duration": 813,
    "start_time": "2023-01-26T12:10:10.370Z"
   },
   {
    "duration": 20,
    "start_time": "2023-01-26T12:10:11.185Z"
   },
   {
    "duration": 10,
    "start_time": "2023-01-26T12:10:11.207Z"
   },
   {
    "duration": 59,
    "start_time": "2023-01-26T12:10:11.218Z"
   },
   {
    "duration": 87,
    "start_time": "2023-01-26T12:10:11.278Z"
   },
   {
    "duration": 79,
    "start_time": "2023-01-26T12:10:11.367Z"
   },
   {
    "duration": 36,
    "start_time": "2023-01-26T12:10:11.447Z"
   },
   {
    "duration": 27,
    "start_time": "2023-01-26T12:10:11.485Z"
   },
   {
    "duration": 12,
    "start_time": "2023-01-26T12:10:11.516Z"
   },
   {
    "duration": 30,
    "start_time": "2023-01-26T12:10:11.530Z"
   },
   {
    "duration": 9,
    "start_time": "2023-01-26T12:10:11.562Z"
   },
   {
    "duration": 4,
    "start_time": "2023-01-26T12:10:11.572Z"
   },
   {
    "duration": 27,
    "start_time": "2023-01-26T12:10:11.578Z"
   },
   {
    "duration": 17,
    "start_time": "2023-01-26T12:10:11.607Z"
   },
   {
    "duration": 3,
    "start_time": "2023-01-26T12:10:11.626Z"
   },
   {
    "duration": 8,
    "start_time": "2023-01-26T12:10:11.630Z"
   },
   {
    "duration": 346,
    "start_time": "2023-01-26T12:10:11.640Z"
   },
   {
    "duration": 17,
    "start_time": "2023-01-26T12:10:11.994Z"
   },
   {
    "duration": 188,
    "start_time": "2023-01-26T12:10:12.013Z"
   },
   {
    "duration": 4,
    "start_time": "2023-01-26T12:10:12.203Z"
   },
   {
    "duration": 6,
    "start_time": "2023-01-26T12:10:12.209Z"
   },
   {
    "duration": 24,
    "start_time": "2023-01-26T12:10:12.217Z"
   },
   {
    "duration": 13,
    "start_time": "2023-01-26T12:10:12.243Z"
   },
   {
    "duration": 36,
    "start_time": "2023-01-26T12:10:12.258Z"
   },
   {
    "duration": 36,
    "start_time": "2023-01-26T12:10:12.296Z"
   },
   {
    "duration": 7,
    "start_time": "2023-01-26T12:10:12.335Z"
   },
   {
    "duration": 64,
    "start_time": "2023-01-26T12:10:12.348Z"
   },
   {
    "duration": 22,
    "start_time": "2023-01-26T12:10:12.414Z"
   },
   {
    "duration": 88,
    "start_time": "2023-01-26T12:10:12.438Z"
   },
   {
    "duration": 32,
    "start_time": "2023-01-26T12:10:12.527Z"
   },
   {
    "duration": 38,
    "start_time": "2023-01-26T12:10:12.561Z"
   },
   {
    "duration": 23,
    "start_time": "2023-01-26T12:10:12.601Z"
   },
   {
    "duration": 22,
    "start_time": "2023-01-26T12:10:12.626Z"
   },
   {
    "duration": 44,
    "start_time": "2023-01-26T12:10:12.650Z"
   },
   {
    "duration": 7,
    "start_time": "2023-01-26T12:10:12.696Z"
   },
   {
    "duration": 156,
    "start_time": "2023-01-26T12:10:12.706Z"
   },
   {
    "duration": 15,
    "start_time": "2023-01-26T12:10:12.864Z"
   },
   {
    "duration": 23,
    "start_time": "2023-01-26T12:10:12.880Z"
   },
   {
    "duration": 21,
    "start_time": "2023-01-26T12:10:12.904Z"
   },
   {
    "duration": 20,
    "start_time": "2023-01-26T12:10:12.927Z"
   },
   {
    "duration": 772,
    "start_time": "2023-01-26T12:12:42.056Z"
   },
   {
    "duration": 699,
    "start_time": "2023-01-26T12:12:57.665Z"
   },
   {
    "duration": 13,
    "start_time": "2023-01-26T12:13:50.894Z"
   },
   {
    "duration": 14,
    "start_time": "2023-01-26T12:18:32.055Z"
   },
   {
    "duration": 14,
    "start_time": "2023-01-26T12:18:46.867Z"
   },
   {
    "duration": 15,
    "start_time": "2023-01-26T12:19:19.005Z"
   },
   {
    "duration": 16,
    "start_time": "2023-01-26T12:19:24.294Z"
   },
   {
    "duration": 14,
    "start_time": "2023-01-26T12:19:41.859Z"
   },
   {
    "duration": 13,
    "start_time": "2023-01-26T12:19:58.374Z"
   },
   {
    "duration": 24,
    "start_time": "2023-01-26T12:21:30.257Z"
   },
   {
    "duration": 16,
    "start_time": "2023-01-26T12:22:38.007Z"
   },
   {
    "duration": 3,
    "start_time": "2023-01-26T12:22:54.641Z"
   },
   {
    "duration": 200,
    "start_time": "2023-01-26T12:22:54.647Z"
   },
   {
    "duration": 22,
    "start_time": "2023-01-26T12:22:54.849Z"
   },
   {
    "duration": 24,
    "start_time": "2023-01-26T12:22:54.873Z"
   },
   {
    "duration": 53,
    "start_time": "2023-01-26T12:22:54.900Z"
   },
   {
    "duration": 56,
    "start_time": "2023-01-26T12:22:54.955Z"
   },
   {
    "duration": 66,
    "start_time": "2023-01-26T12:22:55.013Z"
   },
   {
    "duration": 45,
    "start_time": "2023-01-26T12:22:55.081Z"
   },
   {
    "duration": 22,
    "start_time": "2023-01-26T12:22:55.128Z"
   },
   {
    "duration": 16,
    "start_time": "2023-01-26T12:22:55.151Z"
   },
   {
    "duration": 38,
    "start_time": "2023-01-26T12:22:55.170Z"
   },
   {
    "duration": 21,
    "start_time": "2023-01-26T12:22:55.209Z"
   },
   {
    "duration": 13,
    "start_time": "2023-01-26T12:22:55.231Z"
   },
   {
    "duration": 42,
    "start_time": "2023-01-26T12:22:55.245Z"
   },
   {
    "duration": 26,
    "start_time": "2023-01-26T12:22:55.289Z"
   },
   {
    "duration": 18,
    "start_time": "2023-01-26T12:22:55.316Z"
   },
   {
    "duration": 19,
    "start_time": "2023-01-26T12:22:55.336Z"
   },
   {
    "duration": 266,
    "start_time": "2023-01-26T12:22:55.357Z"
   },
   {
    "duration": 17,
    "start_time": "2023-01-26T12:22:55.624Z"
   },
   {
    "duration": 196,
    "start_time": "2023-01-26T12:22:55.642Z"
   },
   {
    "duration": 4,
    "start_time": "2023-01-26T12:22:55.839Z"
   },
   {
    "duration": 20,
    "start_time": "2023-01-26T12:22:55.844Z"
   },
   {
    "duration": 44,
    "start_time": "2023-01-26T12:22:55.866Z"
   },
   {
    "duration": 26,
    "start_time": "2023-01-26T12:22:55.912Z"
   },
   {
    "duration": 16,
    "start_time": "2023-01-26T12:22:55.940Z"
   },
   {
    "duration": 51,
    "start_time": "2023-01-26T12:22:55.957Z"
   },
   {
    "duration": 20,
    "start_time": "2023-01-26T12:22:56.009Z"
   },
   {
    "duration": 53,
    "start_time": "2023-01-26T12:22:56.031Z"
   },
   {
    "duration": 35,
    "start_time": "2023-01-26T12:22:56.087Z"
   },
   {
    "duration": 76,
    "start_time": "2023-01-26T12:22:56.124Z"
   },
   {
    "duration": 34,
    "start_time": "2023-01-26T12:22:56.201Z"
   },
   {
    "duration": 20,
    "start_time": "2023-01-26T12:22:56.236Z"
   },
   {
    "duration": 38,
    "start_time": "2023-01-26T12:22:56.258Z"
   },
   {
    "duration": 20,
    "start_time": "2023-01-26T12:22:56.298Z"
   },
   {
    "duration": 42,
    "start_time": "2023-01-26T12:22:56.319Z"
   },
   {
    "duration": 7,
    "start_time": "2023-01-26T12:22:56.362Z"
   },
   {
    "duration": 162,
    "start_time": "2023-01-26T12:22:56.371Z"
   },
   {
    "duration": 14,
    "start_time": "2023-01-26T12:22:56.535Z"
   },
   {
    "duration": 13,
    "start_time": "2023-01-26T12:22:56.551Z"
   },
   {
    "duration": 27,
    "start_time": "2023-01-26T12:22:56.566Z"
   },
   {
    "duration": 727,
    "start_time": "2023-01-26T12:22:56.595Z"
   },
   {
    "duration": 30,
    "start_time": "2023-01-26T12:24:15.047Z"
   },
   {
    "duration": 22,
    "start_time": "2023-01-26T12:25:11.006Z"
   },
   {
    "duration": 20,
    "start_time": "2023-01-26T12:25:57.965Z"
   },
   {
    "duration": 25,
    "start_time": "2023-01-26T12:26:02.932Z"
   },
   {
    "duration": 25,
    "start_time": "2023-01-26T12:26:15.394Z"
   },
   {
    "duration": 23,
    "start_time": "2023-01-26T12:26:35.018Z"
   },
   {
    "duration": 20,
    "start_time": "2023-01-26T12:26:39.047Z"
   },
   {
    "duration": 22,
    "start_time": "2023-01-26T12:26:45.076Z"
   },
   {
    "duration": 20,
    "start_time": "2023-01-26T12:27:16.633Z"
   },
   {
    "duration": 23,
    "start_time": "2023-01-26T12:27:35.570Z"
   },
   {
    "duration": 22,
    "start_time": "2023-01-26T12:27:45.076Z"
   },
   {
    "duration": 16,
    "start_time": "2023-01-26T12:28:31.669Z"
   },
   {
    "duration": 24,
    "start_time": "2023-01-26T12:28:32.879Z"
   },
   {
    "duration": 22,
    "start_time": "2023-01-26T12:28:33.353Z"
   },
   {
    "duration": 28,
    "start_time": "2023-01-26T12:28:34.038Z"
   },
   {
    "duration": 22,
    "start_time": "2023-01-26T12:28:56.490Z"
   },
   {
    "duration": 26,
    "start_time": "2023-01-26T12:31:33.721Z"
   },
   {
    "duration": 14,
    "start_time": "2023-01-26T12:31:47.517Z"
   },
   {
    "duration": 21,
    "start_time": "2023-01-26T12:31:48.975Z"
   },
   {
    "duration": 26,
    "start_time": "2023-01-26T12:31:49.393Z"
   },
   {
    "duration": 26,
    "start_time": "2023-01-26T12:33:20.163Z"
   },
   {
    "duration": 24,
    "start_time": "2023-01-26T12:33:39.652Z"
   },
   {
    "duration": 23,
    "start_time": "2023-01-26T12:33:47.123Z"
   },
   {
    "duration": 39,
    "start_time": "2023-01-26T12:33:53.879Z"
   },
   {
    "duration": 25,
    "start_time": "2023-01-26T12:34:10.552Z"
   },
   {
    "duration": 3,
    "start_time": "2023-01-26T12:36:29.678Z"
   },
   {
    "duration": 157,
    "start_time": "2023-01-26T12:36:29.682Z"
   },
   {
    "duration": 20,
    "start_time": "2023-01-26T12:36:29.840Z"
   },
   {
    "duration": 7,
    "start_time": "2023-01-26T12:36:29.861Z"
   },
   {
    "duration": 64,
    "start_time": "2023-01-26T12:36:29.869Z"
   },
   {
    "duration": 68,
    "start_time": "2023-01-26T12:36:29.935Z"
   },
   {
    "duration": 68,
    "start_time": "2023-01-26T12:36:30.005Z"
   },
   {
    "duration": 51,
    "start_time": "2023-01-26T12:36:30.075Z"
   },
   {
    "duration": 57,
    "start_time": "2023-01-26T12:36:30.128Z"
   },
   {
    "duration": 25,
    "start_time": "2023-01-26T12:36:30.187Z"
   },
   {
    "duration": 43,
    "start_time": "2023-01-26T12:36:30.215Z"
   },
   {
    "duration": 27,
    "start_time": "2023-01-26T12:36:30.260Z"
   },
   {
    "duration": 27,
    "start_time": "2023-01-26T12:36:30.289Z"
   },
   {
    "duration": 45,
    "start_time": "2023-01-26T12:36:30.318Z"
   },
   {
    "duration": 35,
    "start_time": "2023-01-26T12:36:30.364Z"
   },
   {
    "duration": 47,
    "start_time": "2023-01-26T12:36:30.400Z"
   },
   {
    "duration": 38,
    "start_time": "2023-01-26T12:36:30.449Z"
   },
   {
    "duration": 252,
    "start_time": "2023-01-26T12:36:30.488Z"
   },
   {
    "duration": 18,
    "start_time": "2023-01-26T12:36:30.741Z"
   },
   {
    "duration": 186,
    "start_time": "2023-01-26T12:36:30.761Z"
   },
   {
    "duration": 4,
    "start_time": "2023-01-26T12:36:30.948Z"
   },
   {
    "duration": 23,
    "start_time": "2023-01-26T12:36:30.954Z"
   },
   {
    "duration": 46,
    "start_time": "2023-01-26T12:36:30.979Z"
   },
   {
    "duration": 35,
    "start_time": "2023-01-26T12:36:31.026Z"
   },
   {
    "duration": 22,
    "start_time": "2023-01-26T12:36:31.063Z"
   },
   {
    "duration": 61,
    "start_time": "2023-01-26T12:36:31.087Z"
   },
   {
    "duration": 8,
    "start_time": "2023-01-26T12:36:31.150Z"
   },
   {
    "duration": 44,
    "start_time": "2023-01-26T12:36:31.160Z"
   },
   {
    "duration": 30,
    "start_time": "2023-01-26T12:36:31.208Z"
   },
   {
    "duration": 77,
    "start_time": "2023-01-26T12:36:31.240Z"
   },
   {
    "duration": 35,
    "start_time": "2023-01-26T12:36:31.319Z"
   },
   {
    "duration": 26,
    "start_time": "2023-01-26T12:36:31.356Z"
   },
   {
    "duration": 28,
    "start_time": "2023-01-26T12:36:31.393Z"
   },
   {
    "duration": 22,
    "start_time": "2023-01-26T12:36:31.422Z"
   },
   {
    "duration": 46,
    "start_time": "2023-01-26T12:36:31.445Z"
   },
   {
    "duration": 78,
    "start_time": "2023-01-26T12:36:31.492Z"
   },
   {
    "duration": 165,
    "start_time": "2023-01-26T12:36:31.572Z"
   },
   {
    "duration": 14,
    "start_time": "2023-01-26T12:36:31.739Z"
   },
   {
    "duration": 21,
    "start_time": "2023-01-26T12:36:31.755Z"
   },
   {
    "duration": 32,
    "start_time": "2023-01-26T12:36:31.777Z"
   },
   {
    "duration": 26,
    "start_time": "2023-01-26T12:36:31.810Z"
   },
   {
    "duration": 1272,
    "start_time": "2023-01-26T14:08:09.554Z"
   },
   {
    "duration": 1018,
    "start_time": "2023-01-26T14:08:10.828Z"
   },
   {
    "duration": 21,
    "start_time": "2023-01-26T14:08:11.848Z"
   },
   {
    "duration": 11,
    "start_time": "2023-01-26T14:08:11.871Z"
   },
   {
    "duration": 88,
    "start_time": "2023-01-26T14:08:11.885Z"
   },
   {
    "duration": 98,
    "start_time": "2023-01-26T14:08:11.975Z"
   },
   {
    "duration": 92,
    "start_time": "2023-01-26T14:08:12.075Z"
   },
   {
    "duration": 49,
    "start_time": "2023-01-26T14:08:12.168Z"
   },
   {
    "duration": 27,
    "start_time": "2023-01-26T14:08:12.219Z"
   },
   {
    "duration": 16,
    "start_time": "2023-01-26T14:08:12.248Z"
   },
   {
    "duration": 55,
    "start_time": "2023-01-26T14:08:12.266Z"
   },
   {
    "duration": 11,
    "start_time": "2023-01-26T14:08:12.323Z"
   },
   {
    "duration": 3,
    "start_time": "2023-01-26T14:08:12.336Z"
   },
   {
    "duration": 21,
    "start_time": "2023-01-26T14:08:12.342Z"
   },
   {
    "duration": 50,
    "start_time": "2023-01-26T14:08:12.365Z"
   },
   {
    "duration": 5,
    "start_time": "2023-01-26T14:08:12.417Z"
   },
   {
    "duration": 9,
    "start_time": "2023-01-26T14:08:12.424Z"
   },
   {
    "duration": 366,
    "start_time": "2023-01-26T14:08:12.435Z"
   },
   {
    "duration": 16,
    "start_time": "2023-01-26T14:08:12.803Z"
   },
   {
    "duration": 213,
    "start_time": "2023-01-26T14:08:12.821Z"
   },
   {
    "duration": 6,
    "start_time": "2023-01-26T14:08:13.036Z"
   },
   {
    "duration": 14,
    "start_time": "2023-01-26T14:08:13.044Z"
   },
   {
    "duration": 42,
    "start_time": "2023-01-26T14:08:13.060Z"
   },
   {
    "duration": 13,
    "start_time": "2023-01-26T14:08:13.104Z"
   },
   {
    "duration": 5,
    "start_time": "2023-01-26T14:08:13.120Z"
   },
   {
    "duration": 52,
    "start_time": "2023-01-26T14:08:13.127Z"
   },
   {
    "duration": 21,
    "start_time": "2023-01-26T14:08:13.182Z"
   },
   {
    "duration": 28,
    "start_time": "2023-01-26T14:08:13.205Z"
   },
   {
    "duration": 23,
    "start_time": "2023-01-26T14:08:13.235Z"
   },
   {
    "duration": 82,
    "start_time": "2023-01-26T14:08:13.261Z"
   },
   {
    "duration": 38,
    "start_time": "2023-01-26T14:08:13.345Z"
   },
   {
    "duration": 37,
    "start_time": "2023-01-26T14:08:13.385Z"
   },
   {
    "duration": 30,
    "start_time": "2023-01-26T14:08:13.424Z"
   },
   {
    "duration": 50,
    "start_time": "2023-01-26T14:08:13.456Z"
   },
   {
    "duration": 20,
    "start_time": "2023-01-26T14:08:13.507Z"
   },
   {
    "duration": 33,
    "start_time": "2023-01-26T14:08:13.529Z"
   },
   {
    "duration": 211,
    "start_time": "2023-01-26T14:08:13.565Z"
   },
   {
    "duration": 32,
    "start_time": "2023-01-26T14:08:13.778Z"
   },
   {
    "duration": 16,
    "start_time": "2023-01-26T14:08:13.812Z"
   },
   {
    "duration": 35,
    "start_time": "2023-01-26T14:08:13.830Z"
   },
   {
    "duration": 46,
    "start_time": "2023-01-26T14:08:13.869Z"
   },
   {
    "duration": 16,
    "start_time": "2023-01-26T14:10:47.127Z"
   },
   {
    "duration": 13,
    "start_time": "2023-01-26T14:11:03.396Z"
   },
   {
    "duration": 27,
    "start_time": "2023-01-26T14:11:33.970Z"
   },
   {
    "duration": 15,
    "start_time": "2023-01-26T14:13:07.815Z"
   },
   {
    "duration": 23,
    "start_time": "2023-01-26T14:13:12.801Z"
   },
   {
    "duration": 42,
    "start_time": "2023-01-26T14:13:55.767Z"
   },
   {
    "duration": 41,
    "start_time": "2023-01-26T14:14:32.967Z"
   },
   {
    "duration": 45,
    "start_time": "2023-01-26T14:14:39.353Z"
   },
   {
    "duration": 52,
    "start_time": "2023-01-26T14:14:46.153Z"
   },
   {
    "duration": 49,
    "start_time": "2023-01-26T14:15:12.720Z"
   },
   {
    "duration": 8,
    "start_time": "2023-01-26T14:15:16.953Z"
   },
   {
    "duration": 8,
    "start_time": "2023-01-26T14:15:47.493Z"
   },
   {
    "duration": 6,
    "start_time": "2023-01-26T14:15:52.168Z"
   },
   {
    "duration": 6,
    "start_time": "2023-01-26T14:16:00.353Z"
   },
   {
    "duration": 9,
    "start_time": "2023-01-26T14:16:10.261Z"
   },
   {
    "duration": 51,
    "start_time": "2023-01-26T14:16:18.109Z"
   },
   {
    "duration": 864,
    "start_time": "2023-01-26T14:16:43.826Z"
   },
   {
    "duration": 7,
    "start_time": "2023-01-26T14:18:59.619Z"
   },
   {
    "duration": 28,
    "start_time": "2023-01-26T14:19:06.217Z"
   },
   {
    "duration": 54,
    "start_time": "2023-01-26T14:19:15.085Z"
   },
   {
    "duration": 20,
    "start_time": "2023-01-26T14:19:22.976Z"
   },
   {
    "duration": 7,
    "start_time": "2023-01-26T14:19:23.462Z"
   },
   {
    "duration": 62,
    "start_time": "2023-01-26T14:19:24.279Z"
   },
   {
    "duration": 19,
    "start_time": "2023-01-26T14:19:29.899Z"
   },
   {
    "duration": 5,
    "start_time": "2023-01-26T14:20:01.557Z"
   },
   {
    "duration": 4,
    "start_time": "2023-01-26T14:20:10.691Z"
   },
   {
    "duration": 34,
    "start_time": "2023-01-26T14:20:13.005Z"
   },
   {
    "duration": 16,
    "start_time": "2023-01-26T14:20:20.385Z"
   },
   {
    "duration": 60,
    "start_time": "2023-01-26T14:20:27.162Z"
   },
   {
    "duration": 17,
    "start_time": "2023-01-26T14:20:29.887Z"
   },
   {
    "duration": 47,
    "start_time": "2023-01-26T14:20:31.780Z"
   },
   {
    "duration": 48,
    "start_time": "2023-01-26T14:20:41.562Z"
   },
   {
    "duration": 44,
    "start_time": "2023-01-26T14:20:51.659Z"
   },
   {
    "duration": 58,
    "start_time": "2023-01-26T14:21:09.951Z"
   },
   {
    "duration": 4,
    "start_time": "2023-01-26T14:21:14.180Z"
   },
   {
    "duration": 397,
    "start_time": "2023-01-26T14:21:14.190Z"
   },
   {
    "duration": 26,
    "start_time": "2023-01-26T14:21:14.591Z"
   },
   {
    "duration": 12,
    "start_time": "2023-01-26T14:21:14.619Z"
   },
   {
    "duration": 85,
    "start_time": "2023-01-26T14:21:14.634Z"
   },
   {
    "duration": 89,
    "start_time": "2023-01-26T14:21:14.721Z"
   },
   {
    "duration": 110,
    "start_time": "2023-01-26T14:21:14.813Z"
   },
   {
    "duration": 74,
    "start_time": "2023-01-26T14:21:14.925Z"
   },
   {
    "duration": 49,
    "start_time": "2023-01-26T14:21:15.001Z"
   },
   {
    "duration": 28,
    "start_time": "2023-01-26T14:21:15.052Z"
   },
   {
    "duration": 61,
    "start_time": "2023-01-26T14:21:15.085Z"
   },
   {
    "duration": 33,
    "start_time": "2023-01-26T14:21:15.148Z"
   },
   {
    "duration": 24,
    "start_time": "2023-01-26T14:21:15.183Z"
   },
   {
    "duration": 51,
    "start_time": "2023-01-26T14:21:15.209Z"
   },
   {
    "duration": 36,
    "start_time": "2023-01-26T14:21:15.262Z"
   },
   {
    "duration": 23,
    "start_time": "2023-01-26T14:21:15.302Z"
   },
   {
    "duration": 24,
    "start_time": "2023-01-26T14:21:15.327Z"
   },
   {
    "duration": 394,
    "start_time": "2023-01-26T14:21:15.353Z"
   },
   {
    "duration": 18,
    "start_time": "2023-01-26T14:21:15.749Z"
   },
   {
    "duration": 300,
    "start_time": "2023-01-26T14:21:15.769Z"
   },
   {
    "duration": 7,
    "start_time": "2023-01-26T14:21:16.071Z"
   },
   {
    "duration": 72,
    "start_time": "2023-01-26T14:21:16.079Z"
   },
   {
    "duration": 36,
    "start_time": "2023-01-26T14:21:16.153Z"
   },
   {
    "duration": 46,
    "start_time": "2023-01-26T14:21:16.191Z"
   },
   {
    "duration": 36,
    "start_time": "2023-01-26T14:21:16.240Z"
   },
   {
    "duration": 12,
    "start_time": "2023-01-26T14:21:17.153Z"
   },
   {
    "duration": 53,
    "start_time": "2023-01-26T14:21:17.702Z"
   },
   {
    "duration": 43,
    "start_time": "2023-01-26T14:21:33.124Z"
   },
   {
    "duration": 60,
    "start_time": "2023-01-26T14:21:35.625Z"
   },
   {
    "duration": 48,
    "start_time": "2023-01-26T14:22:14.202Z"
   },
   {
    "duration": 51,
    "start_time": "2023-01-26T14:22:27.662Z"
   },
   {
    "duration": 5,
    "start_time": "2023-01-26T14:22:45.622Z"
   },
   {
    "duration": 227,
    "start_time": "2023-01-26T14:22:45.646Z"
   },
   {
    "duration": 37,
    "start_time": "2023-01-26T14:22:45.875Z"
   },
   {
    "duration": 9,
    "start_time": "2023-01-26T14:22:45.914Z"
   },
   {
    "duration": 88,
    "start_time": "2023-01-26T14:22:45.927Z"
   },
   {
    "duration": 80,
    "start_time": "2023-01-26T14:22:46.019Z"
   },
   {
    "duration": 120,
    "start_time": "2023-01-26T14:22:46.101Z"
   },
   {
    "duration": 74,
    "start_time": "2023-01-26T14:22:46.225Z"
   },
   {
    "duration": 32,
    "start_time": "2023-01-26T14:22:46.302Z"
   },
   {
    "duration": 44,
    "start_time": "2023-01-26T14:22:46.336Z"
   },
   {
    "duration": 75,
    "start_time": "2023-01-26T14:22:46.382Z"
   },
   {
    "duration": 10,
    "start_time": "2023-01-26T14:22:46.459Z"
   },
   {
    "duration": 7,
    "start_time": "2023-01-26T14:22:46.471Z"
   },
   {
    "duration": 40,
    "start_time": "2023-01-26T14:22:46.480Z"
   },
   {
    "duration": 34,
    "start_time": "2023-01-26T14:22:46.524Z"
   },
   {
    "duration": 8,
    "start_time": "2023-01-26T14:22:46.560Z"
   },
   {
    "duration": 34,
    "start_time": "2023-01-26T14:22:46.572Z"
   },
   {
    "duration": 392,
    "start_time": "2023-01-26T14:22:46.609Z"
   },
   {
    "duration": 18,
    "start_time": "2023-01-26T14:22:47.004Z"
   },
   {
    "duration": 291,
    "start_time": "2023-01-26T14:22:47.024Z"
   },
   {
    "duration": 7,
    "start_time": "2023-01-26T14:22:47.316Z"
   },
   {
    "duration": 14,
    "start_time": "2023-01-26T14:22:47.325Z"
   },
   {
    "duration": 43,
    "start_time": "2023-01-26T14:22:47.341Z"
   },
   {
    "duration": 15,
    "start_time": "2023-01-26T14:22:47.386Z"
   },
   {
    "duration": 25,
    "start_time": "2023-01-26T14:22:47.403Z"
   },
   {
    "duration": 70,
    "start_time": "2023-01-26T14:22:47.430Z"
   },
   {
    "duration": 50,
    "start_time": "2023-01-26T14:22:47.502Z"
   },
   {
    "duration": 63,
    "start_time": "2023-01-26T14:22:47.554Z"
   },
   {
    "duration": 15,
    "start_time": "2023-01-26T14:23:05.600Z"
   },
   {
    "duration": 9,
    "start_time": "2023-01-26T14:23:06.404Z"
   },
   {
    "duration": 65,
    "start_time": "2023-01-26T14:23:07.753Z"
   },
   {
    "duration": 60,
    "start_time": "2023-01-26T14:23:08.191Z"
   },
   {
    "duration": 57,
    "start_time": "2023-01-26T14:23:08.718Z"
   },
   {
    "duration": 71,
    "start_time": "2023-01-26T14:25:00.771Z"
   },
   {
    "duration": 55,
    "start_time": "2023-01-26T14:25:14.310Z"
   },
   {
    "duration": 53,
    "start_time": "2023-01-26T14:25:16.575Z"
   },
   {
    "duration": 60,
    "start_time": "2023-01-26T14:25:17.120Z"
   },
   {
    "duration": 18,
    "start_time": "2023-01-26T14:40:02.048Z"
   },
   {
    "duration": 13,
    "start_time": "2023-01-26T14:40:15.450Z"
   },
   {
    "duration": 8,
    "start_time": "2023-01-26T14:41:02.180Z"
   },
   {
    "duration": 8,
    "start_time": "2023-01-26T14:41:31.154Z"
   },
   {
    "duration": 7,
    "start_time": "2023-01-26T14:42:03.530Z"
   },
   {
    "duration": 27,
    "start_time": "2023-01-26T14:43:49.849Z"
   },
   {
    "duration": 111,
    "start_time": "2023-01-26T14:43:56.278Z"
   },
   {
    "duration": 6,
    "start_time": "2023-01-26T15:05:00.053Z"
   },
   {
    "duration": 173,
    "start_time": "2023-01-26T15:05:02.241Z"
   },
   {
    "duration": 9,
    "start_time": "2023-01-26T15:29:49.915Z"
   },
   {
    "duration": 174,
    "start_time": "2023-01-26T15:29:50.573Z"
   },
   {
    "duration": 10,
    "start_time": "2023-01-26T15:29:57.950Z"
   },
   {
    "duration": 165,
    "start_time": "2023-01-26T15:30:00.002Z"
   },
   {
    "duration": 7,
    "start_time": "2023-01-26T16:25:25.239Z"
   },
   {
    "duration": 181,
    "start_time": "2023-01-26T16:25:25.954Z"
   },
   {
    "duration": 15,
    "start_time": "2023-01-26T16:25:32.606Z"
   },
   {
    "duration": 186,
    "start_time": "2023-01-26T16:25:33.435Z"
   },
   {
    "duration": 157,
    "start_time": "2023-01-26T16:41:56.610Z"
   },
   {
    "duration": 144,
    "start_time": "2023-01-26T16:42:44.046Z"
   },
   {
    "duration": 5,
    "start_time": "2023-01-26T16:42:47.678Z"
   },
   {
    "duration": 142,
    "start_time": "2023-01-26T16:42:48.211Z"
   },
   {
    "duration": 187,
    "start_time": "2023-01-26T16:43:53.807Z"
   },
   {
    "duration": 175,
    "start_time": "2023-01-26T16:43:56.791Z"
   },
   {
    "duration": 11,
    "start_time": "2023-01-26T16:47:13.668Z"
   },
   {
    "duration": 3,
    "start_time": "2023-01-26T16:47:20.934Z"
   },
   {
    "duration": 182,
    "start_time": "2023-01-26T16:47:20.939Z"
   },
   {
    "duration": 18,
    "start_time": "2023-01-26T16:47:21.123Z"
   },
   {
    "duration": 21,
    "start_time": "2023-01-26T16:47:21.143Z"
   },
   {
    "duration": 74,
    "start_time": "2023-01-26T16:47:21.166Z"
   },
   {
    "duration": 84,
    "start_time": "2023-01-26T16:47:21.242Z"
   },
   {
    "duration": 77,
    "start_time": "2023-01-26T16:47:21.327Z"
   },
   {
    "duration": 59,
    "start_time": "2023-01-26T16:47:21.406Z"
   },
   {
    "duration": 26,
    "start_time": "2023-01-26T16:47:21.467Z"
   },
   {
    "duration": 34,
    "start_time": "2023-01-26T16:47:21.494Z"
   },
   {
    "duration": 27,
    "start_time": "2023-01-26T16:47:21.529Z"
   },
   {
    "duration": 11,
    "start_time": "2023-01-26T16:47:21.558Z"
   },
   {
    "duration": 3,
    "start_time": "2023-01-26T16:47:21.571Z"
   },
   {
    "duration": 29,
    "start_time": "2023-01-26T16:47:21.577Z"
   },
   {
    "duration": 23,
    "start_time": "2023-01-26T16:47:21.609Z"
   },
   {
    "duration": 4,
    "start_time": "2023-01-26T16:47:21.634Z"
   },
   {
    "duration": 11,
    "start_time": "2023-01-26T16:47:21.640Z"
   },
   {
    "duration": 275,
    "start_time": "2023-01-26T16:47:21.652Z"
   },
   {
    "duration": 19,
    "start_time": "2023-01-26T16:47:21.929Z"
   },
   {
    "duration": 223,
    "start_time": "2023-01-26T16:47:21.949Z"
   },
   {
    "duration": 4,
    "start_time": "2023-01-26T16:47:22.173Z"
   },
   {
    "duration": 12,
    "start_time": "2023-01-26T16:47:22.178Z"
   },
   {
    "duration": 41,
    "start_time": "2023-01-26T16:47:22.192Z"
   },
   {
    "duration": 18,
    "start_time": "2023-01-26T16:47:22.235Z"
   },
   {
    "duration": 3,
    "start_time": "2023-01-26T16:47:22.255Z"
   },
   {
    "duration": 36,
    "start_time": "2023-01-26T16:47:22.260Z"
   },
   {
    "duration": 41,
    "start_time": "2023-01-26T16:47:22.298Z"
   },
   {
    "duration": 31,
    "start_time": "2023-01-26T16:47:22.341Z"
   },
   {
    "duration": 51,
    "start_time": "2023-01-26T16:47:22.374Z"
   },
   {
    "duration": 6,
    "start_time": "2023-01-26T16:47:22.426Z"
   },
   {
    "duration": 24,
    "start_time": "2023-01-26T16:47:22.434Z"
   },
   {
    "duration": 19,
    "start_time": "2023-01-26T16:47:22.460Z"
   },
   {
    "duration": 79,
    "start_time": "2023-01-26T16:47:22.480Z"
   },
   {
    "duration": 47,
    "start_time": "2023-01-26T16:47:22.560Z"
   },
   {
    "duration": 26,
    "start_time": "2023-01-26T16:47:22.610Z"
   },
   {
    "duration": 30,
    "start_time": "2023-01-26T16:47:22.638Z"
   },
   {
    "duration": 40,
    "start_time": "2023-01-26T16:47:22.669Z"
   },
   {
    "duration": 19,
    "start_time": "2023-01-26T16:47:22.711Z"
   },
   {
    "duration": 7,
    "start_time": "2023-01-26T16:47:22.732Z"
   },
   {
    "duration": 171,
    "start_time": "2023-01-26T16:47:22.740Z"
   },
   {
    "duration": 20,
    "start_time": "2023-01-26T16:47:22.918Z"
   },
   {
    "duration": 18,
    "start_time": "2023-01-26T16:47:22.940Z"
   },
   {
    "duration": 58,
    "start_time": "2023-01-26T16:47:22.959Z"
   },
   {
    "duration": 27,
    "start_time": "2023-01-26T16:47:23.019Z"
   },
   {
    "duration": 197,
    "start_time": "2023-01-26T16:47:23.047Z"
   },
   {
    "duration": 200,
    "start_time": "2023-01-26T16:47:23.246Z"
   },
   {
    "duration": 11,
    "start_time": "2023-01-26T16:47:25.336Z"
   },
   {
    "duration": 15,
    "start_time": "2023-01-26T16:47:48.550Z"
   },
   {
    "duration": 18,
    "start_time": "2023-01-26T16:47:57.855Z"
   },
   {
    "duration": 11,
    "start_time": "2023-01-26T16:48:06.768Z"
   },
   {
    "duration": 9,
    "start_time": "2023-01-26T16:48:14.226Z"
   },
   {
    "duration": 10,
    "start_time": "2023-01-26T16:50:32.012Z"
   },
   {
    "duration": 28,
    "start_time": "2023-01-26T16:52:03.716Z"
   },
   {
    "duration": 24,
    "start_time": "2023-01-26T16:52:52.629Z"
   },
   {
    "duration": 17,
    "start_time": "2023-01-26T16:54:30.191Z"
   },
   {
    "duration": 19,
    "start_time": "2023-01-26T16:54:38.072Z"
   },
   {
    "duration": 13,
    "start_time": "2023-01-26T16:54:52.834Z"
   },
   {
    "duration": 13,
    "start_time": "2023-01-26T16:55:00.935Z"
   },
   {
    "duration": 14,
    "start_time": "2023-01-26T16:55:07.283Z"
   },
   {
    "duration": 41,
    "start_time": "2023-01-26T16:55:38.228Z"
   },
   {
    "duration": 18,
    "start_time": "2023-01-26T16:55:43.446Z"
   },
   {
    "duration": 107,
    "start_time": "2023-01-26T16:55:45.637Z"
   },
   {
    "duration": 71,
    "start_time": "2023-01-26T16:55:56.121Z"
   },
   {
    "duration": 45,
    "start_time": "2023-01-26T16:56:04.705Z"
   },
   {
    "duration": 23,
    "start_time": "2023-01-26T16:58:57.539Z"
   },
   {
    "duration": 17,
    "start_time": "2023-01-26T17:05:07.037Z"
   },
   {
    "duration": 13,
    "start_time": "2023-01-26T17:05:27.956Z"
   },
   {
    "duration": 64,
    "start_time": "2023-01-26T17:05:42.194Z"
   },
   {
    "duration": 64,
    "start_time": "2023-01-26T17:05:56.874Z"
   },
   {
    "duration": 68,
    "start_time": "2023-01-26T17:06:00.990Z"
   },
   {
    "duration": 1047,
    "start_time": "2023-01-26T17:07:11.952Z"
   },
   {
    "duration": 46,
    "start_time": "2023-01-26T17:08:55.211Z"
   },
   {
    "duration": 87,
    "start_time": "2023-01-26T17:09:09.249Z"
   },
   {
    "duration": 697,
    "start_time": "2023-01-26T17:11:20.847Z"
   },
   {
    "duration": 779,
    "start_time": "2023-01-26T17:11:43.302Z"
   },
   {
    "duration": 1154,
    "start_time": "2023-01-26T18:38:44.313Z"
   },
   {
    "duration": 198,
    "start_time": "2023-01-26T18:38:45.469Z"
   },
   {
    "duration": 20,
    "start_time": "2023-01-26T18:38:45.668Z"
   },
   {
    "duration": 13,
    "start_time": "2023-01-26T18:38:45.705Z"
   },
   {
    "duration": 75,
    "start_time": "2023-01-26T18:38:45.720Z"
   },
   {
    "duration": 71,
    "start_time": "2023-01-26T18:38:45.796Z"
   },
   {
    "duration": 85,
    "start_time": "2023-01-26T18:38:45.869Z"
   },
   {
    "duration": 45,
    "start_time": "2023-01-26T18:38:45.956Z"
   },
   {
    "duration": 22,
    "start_time": "2023-01-26T18:38:46.003Z"
   },
   {
    "duration": 14,
    "start_time": "2023-01-26T18:38:46.028Z"
   },
   {
    "duration": 29,
    "start_time": "2023-01-26T18:38:46.044Z"
   },
   {
    "duration": 32,
    "start_time": "2023-01-26T18:38:46.075Z"
   },
   {
    "duration": 8,
    "start_time": "2023-01-26T18:38:46.110Z"
   },
   {
    "duration": 29,
    "start_time": "2023-01-26T18:38:46.120Z"
   },
   {
    "duration": 16,
    "start_time": "2023-01-26T18:38:46.150Z"
   },
   {
    "duration": 4,
    "start_time": "2023-01-26T18:38:46.168Z"
   },
   {
    "duration": 32,
    "start_time": "2023-01-26T18:38:46.173Z"
   },
   {
    "duration": 407,
    "start_time": "2023-01-26T18:38:46.208Z"
   },
   {
    "duration": 21,
    "start_time": "2023-01-26T18:38:46.618Z"
   },
   {
    "duration": 222,
    "start_time": "2023-01-26T18:38:46.641Z"
   },
   {
    "duration": 5,
    "start_time": "2023-01-26T18:38:46.864Z"
   },
   {
    "duration": 9,
    "start_time": "2023-01-26T18:38:46.871Z"
   },
   {
    "duration": 43,
    "start_time": "2023-01-26T18:38:46.881Z"
   },
   {
    "duration": 12,
    "start_time": "2023-01-26T18:38:46.926Z"
   },
   {
    "duration": 4,
    "start_time": "2023-01-26T18:38:46.940Z"
   },
   {
    "duration": 75,
    "start_time": "2023-01-26T18:38:46.946Z"
   },
   {
    "duration": 38,
    "start_time": "2023-01-26T18:38:47.024Z"
   },
   {
    "duration": 53,
    "start_time": "2023-01-26T18:38:47.065Z"
   },
   {
    "duration": 45,
    "start_time": "2023-01-26T18:38:47.120Z"
   },
   {
    "duration": 8,
    "start_time": "2023-01-26T18:38:47.168Z"
   },
   {
    "duration": 50,
    "start_time": "2023-01-26T18:38:47.178Z"
   },
   {
    "duration": 18,
    "start_time": "2023-01-26T18:38:47.230Z"
   },
   {
    "duration": 84,
    "start_time": "2023-01-26T18:38:47.249Z"
   },
   {
    "duration": 37,
    "start_time": "2023-01-26T18:38:47.335Z"
   },
   {
    "duration": 102,
    "start_time": "2023-01-26T18:38:47.373Z"
   },
   {
    "duration": 53,
    "start_time": "2023-01-26T18:38:47.477Z"
   },
   {
    "duration": 42,
    "start_time": "2023-01-26T18:38:47.532Z"
   },
   {
    "duration": 47,
    "start_time": "2023-01-26T18:38:47.576Z"
   },
   {
    "duration": 45,
    "start_time": "2023-01-26T18:38:47.625Z"
   },
   {
    "duration": 219,
    "start_time": "2023-01-26T18:38:47.672Z"
   },
   {
    "duration": 24,
    "start_time": "2023-01-26T18:38:47.893Z"
   },
   {
    "duration": 27,
    "start_time": "2023-01-26T18:38:47.920Z"
   },
   {
    "duration": 30,
    "start_time": "2023-01-26T18:38:47.949Z"
   },
   {
    "duration": 50,
    "start_time": "2023-01-26T18:38:47.980Z"
   },
   {
    "duration": 146,
    "start_time": "2023-01-26T18:38:48.032Z"
   },
   {
    "duration": 0,
    "start_time": "2023-01-26T18:38:48.180Z"
   },
   {
    "duration": 0,
    "start_time": "2023-01-26T18:38:48.181Z"
   },
   {
    "duration": 0,
    "start_time": "2023-01-26T18:38:48.183Z"
   },
   {
    "duration": 0,
    "start_time": "2023-01-26T18:38:48.199Z"
   },
   {
    "duration": 0,
    "start_time": "2023-01-26T18:38:48.203Z"
   },
   {
    "duration": 0,
    "start_time": "2023-01-26T18:38:48.207Z"
   },
   {
    "duration": 1146,
    "start_time": "2023-01-26T18:43:09.709Z"
   },
   {
    "duration": 172,
    "start_time": "2023-01-26T18:43:10.858Z"
   },
   {
    "duration": 21,
    "start_time": "2023-01-26T18:43:11.032Z"
   },
   {
    "duration": 13,
    "start_time": "2023-01-26T18:43:11.055Z"
   },
   {
    "duration": 82,
    "start_time": "2023-01-26T18:43:11.070Z"
   },
   {
    "duration": 78,
    "start_time": "2023-01-26T18:43:11.155Z"
   },
   {
    "duration": 74,
    "start_time": "2023-01-26T18:43:11.235Z"
   },
   {
    "duration": 43,
    "start_time": "2023-01-26T18:43:11.311Z"
   },
   {
    "duration": 19,
    "start_time": "2023-01-26T18:43:11.356Z"
   },
   {
    "duration": 24,
    "start_time": "2023-01-26T18:43:11.377Z"
   },
   {
    "duration": 27,
    "start_time": "2023-01-26T18:43:11.402Z"
   },
   {
    "duration": 10,
    "start_time": "2023-01-26T18:43:11.431Z"
   },
   {
    "duration": 6,
    "start_time": "2023-01-26T18:43:11.442Z"
   },
   {
    "duration": 21,
    "start_time": "2023-01-26T18:43:11.450Z"
   },
   {
    "duration": 37,
    "start_time": "2023-01-26T18:43:11.473Z"
   },
   {
    "duration": 4,
    "start_time": "2023-01-26T18:43:11.511Z"
   },
   {
    "duration": 8,
    "start_time": "2023-01-26T18:43:11.517Z"
   },
   {
    "duration": 346,
    "start_time": "2023-01-26T18:43:11.526Z"
   },
   {
    "duration": 31,
    "start_time": "2023-01-26T18:43:11.874Z"
   },
   {
    "duration": 194,
    "start_time": "2023-01-26T18:43:11.906Z"
   },
   {
    "duration": 4,
    "start_time": "2023-01-26T18:43:12.102Z"
   },
   {
    "duration": 6,
    "start_time": "2023-01-26T18:43:12.108Z"
   },
   {
    "duration": 22,
    "start_time": "2023-01-26T18:43:12.116Z"
   },
   {
    "duration": 14,
    "start_time": "2023-01-26T18:43:12.139Z"
   },
   {
    "duration": 3,
    "start_time": "2023-01-26T18:43:12.155Z"
   },
   {
    "duration": 72,
    "start_time": "2023-01-26T18:43:12.160Z"
   },
   {
    "duration": 33,
    "start_time": "2023-01-26T18:43:12.234Z"
   },
   {
    "duration": 51,
    "start_time": "2023-01-26T18:43:12.270Z"
   },
   {
    "duration": 42,
    "start_time": "2023-01-26T18:43:12.323Z"
   },
   {
    "duration": 6,
    "start_time": "2023-01-26T18:43:12.367Z"
   },
   {
    "duration": 45,
    "start_time": "2023-01-26T18:43:12.375Z"
   },
   {
    "duration": 17,
    "start_time": "2023-01-26T18:43:12.422Z"
   },
   {
    "duration": 71,
    "start_time": "2023-01-26T18:43:12.440Z"
   },
   {
    "duration": 34,
    "start_time": "2023-01-26T18:43:12.513Z"
   },
   {
    "duration": 24,
    "start_time": "2023-01-26T18:43:12.549Z"
   },
   {
    "duration": 38,
    "start_time": "2023-01-26T18:43:12.575Z"
   },
   {
    "duration": 25,
    "start_time": "2023-01-26T18:43:12.615Z"
   },
   {
    "duration": 19,
    "start_time": "2023-01-26T18:43:12.641Z"
   },
   {
    "duration": 6,
    "start_time": "2023-01-26T18:43:12.661Z"
   },
   {
    "duration": 200,
    "start_time": "2023-01-26T18:43:12.700Z"
   },
   {
    "duration": 14,
    "start_time": "2023-01-26T18:43:12.902Z"
   },
   {
    "duration": 17,
    "start_time": "2023-01-26T18:43:12.918Z"
   },
   {
    "duration": 32,
    "start_time": "2023-01-26T18:43:12.937Z"
   },
   {
    "duration": 44,
    "start_time": "2023-01-26T18:43:12.970Z"
   },
   {
    "duration": 103,
    "start_time": "2023-01-26T18:43:13.016Z"
   },
   {
    "duration": 0,
    "start_time": "2023-01-26T18:43:13.121Z"
   },
   {
    "duration": 0,
    "start_time": "2023-01-26T18:43:13.122Z"
   },
   {
    "duration": 0,
    "start_time": "2023-01-26T18:43:13.123Z"
   },
   {
    "duration": 0,
    "start_time": "2023-01-26T18:43:13.124Z"
   },
   {
    "duration": 0,
    "start_time": "2023-01-26T18:43:13.125Z"
   },
   {
    "duration": 0,
    "start_time": "2023-01-26T18:43:13.126Z"
   },
   {
    "duration": 54,
    "start_time": "2023-01-26T18:44:03.665Z"
   },
   {
    "duration": 16,
    "start_time": "2023-01-26T18:44:46.544Z"
   },
   {
    "duration": 1033,
    "start_time": "2023-01-26T18:45:32.619Z"
   },
   {
    "duration": 4,
    "start_time": "2023-01-26T18:45:40.145Z"
   },
   {
    "duration": 191,
    "start_time": "2023-01-26T18:45:40.152Z"
   },
   {
    "duration": 18,
    "start_time": "2023-01-26T18:45:40.345Z"
   },
   {
    "duration": 33,
    "start_time": "2023-01-26T18:45:40.368Z"
   },
   {
    "duration": 81,
    "start_time": "2023-01-26T18:45:40.404Z"
   },
   {
    "duration": 68,
    "start_time": "2023-01-26T18:45:40.487Z"
   },
   {
    "duration": 90,
    "start_time": "2023-01-26T18:45:40.557Z"
   },
   {
    "duration": 67,
    "start_time": "2023-01-26T18:45:40.649Z"
   },
   {
    "duration": 53,
    "start_time": "2023-01-26T18:45:40.718Z"
   },
   {
    "duration": 34,
    "start_time": "2023-01-26T18:45:40.773Z"
   },
   {
    "duration": 65,
    "start_time": "2023-01-26T18:45:40.809Z"
   },
   {
    "duration": 42,
    "start_time": "2023-01-26T18:45:40.876Z"
   },
   {
    "duration": 40,
    "start_time": "2023-01-26T18:45:40.920Z"
   },
   {
    "duration": 53,
    "start_time": "2023-01-26T18:45:40.964Z"
   },
   {
    "duration": 35,
    "start_time": "2023-01-26T18:45:41.020Z"
   },
   {
    "duration": 20,
    "start_time": "2023-01-26T18:45:41.057Z"
   },
   {
    "duration": 47,
    "start_time": "2023-01-26T18:45:41.080Z"
   },
   {
    "duration": 317,
    "start_time": "2023-01-26T18:45:41.129Z"
   },
   {
    "duration": 15,
    "start_time": "2023-01-26T18:45:41.448Z"
   },
   {
    "duration": 224,
    "start_time": "2023-01-26T18:45:41.465Z"
   },
   {
    "duration": 10,
    "start_time": "2023-01-26T18:45:41.691Z"
   },
   {
    "duration": 45,
    "start_time": "2023-01-26T18:45:41.702Z"
   },
   {
    "duration": 43,
    "start_time": "2023-01-26T18:45:41.748Z"
   },
   {
    "duration": 31,
    "start_time": "2023-01-26T18:45:41.793Z"
   },
   {
    "duration": 9,
    "start_time": "2023-01-26T18:45:41.825Z"
   },
   {
    "duration": 55,
    "start_time": "2023-01-26T18:45:41.836Z"
   },
   {
    "duration": 54,
    "start_time": "2023-01-26T18:45:41.893Z"
   },
   {
    "duration": 33,
    "start_time": "2023-01-26T18:45:41.949Z"
   },
   {
    "duration": 45,
    "start_time": "2023-01-26T18:45:41.984Z"
   },
   {
    "duration": 15,
    "start_time": "2023-01-26T18:45:42.031Z"
   },
   {
    "duration": 72,
    "start_time": "2023-01-26T18:45:42.048Z"
   },
   {
    "duration": 31,
    "start_time": "2023-01-26T18:45:42.122Z"
   },
   {
    "duration": 82,
    "start_time": "2023-01-26T18:45:42.155Z"
   },
   {
    "duration": 36,
    "start_time": "2023-01-26T18:45:42.239Z"
   },
   {
    "duration": 33,
    "start_time": "2023-01-26T18:45:42.277Z"
   },
   {
    "duration": 30,
    "start_time": "2023-01-26T18:45:42.312Z"
   },
   {
    "duration": 60,
    "start_time": "2023-01-26T18:45:42.345Z"
   },
   {
    "duration": 27,
    "start_time": "2023-01-26T18:45:42.407Z"
   },
   {
    "duration": 18,
    "start_time": "2023-01-26T18:45:42.436Z"
   },
   {
    "duration": 188,
    "start_time": "2023-01-26T18:45:42.456Z"
   },
   {
    "duration": 17,
    "start_time": "2023-01-26T18:45:42.650Z"
   },
   {
    "duration": 38,
    "start_time": "2023-01-26T18:45:42.669Z"
   },
   {
    "duration": 29,
    "start_time": "2023-01-26T18:45:42.709Z"
   },
   {
    "duration": 59,
    "start_time": "2023-01-26T18:45:42.741Z"
   },
   {
    "duration": 14,
    "start_time": "2023-01-26T18:45:42.803Z"
   },
   {
    "duration": 0,
    "start_time": "2023-01-26T18:45:42.819Z"
   },
   {
    "duration": 0,
    "start_time": "2023-01-26T18:45:42.820Z"
   },
   {
    "duration": 0,
    "start_time": "2023-01-26T18:45:42.822Z"
   },
   {
    "duration": 0,
    "start_time": "2023-01-26T18:45:42.823Z"
   },
   {
    "duration": 14,
    "start_time": "2023-01-26T18:45:46.944Z"
   },
   {
    "duration": 1205,
    "start_time": "2023-01-26T18:45:53.657Z"
   },
   {
    "duration": 1017,
    "start_time": "2023-01-26T18:46:01.466Z"
   },
   {
    "duration": 1176,
    "start_time": "2023-01-26T18:47:42.313Z"
   },
   {
    "duration": 168,
    "start_time": "2023-01-26T18:47:43.491Z"
   },
   {
    "duration": 29,
    "start_time": "2023-01-26T18:47:43.661Z"
   },
   {
    "duration": 14,
    "start_time": "2023-01-26T18:47:43.698Z"
   },
   {
    "duration": 116,
    "start_time": "2023-01-26T18:47:43.716Z"
   },
   {
    "duration": 102,
    "start_time": "2023-01-26T18:47:43.835Z"
   },
   {
    "duration": 106,
    "start_time": "2023-01-26T18:47:43.939Z"
   },
   {
    "duration": 51,
    "start_time": "2023-01-26T18:47:44.047Z"
   },
   {
    "duration": 62,
    "start_time": "2023-01-26T18:47:44.101Z"
   },
   {
    "duration": 10,
    "start_time": "2023-01-26T18:47:44.165Z"
   },
   {
    "duration": 34,
    "start_time": "2023-01-26T18:47:44.178Z"
   },
   {
    "duration": 9,
    "start_time": "2023-01-26T18:47:44.214Z"
   },
   {
    "duration": 4,
    "start_time": "2023-01-26T18:47:44.225Z"
   },
   {
    "duration": 28,
    "start_time": "2023-01-26T18:47:44.233Z"
   },
   {
    "duration": 59,
    "start_time": "2023-01-26T18:47:44.263Z"
   },
   {
    "duration": 5,
    "start_time": "2023-01-26T18:47:44.324Z"
   },
   {
    "duration": 7,
    "start_time": "2023-01-26T18:47:44.331Z"
   },
   {
    "duration": 361,
    "start_time": "2023-01-26T18:47:44.340Z"
   },
   {
    "duration": 19,
    "start_time": "2023-01-26T18:47:44.703Z"
   },
   {
    "duration": 202,
    "start_time": "2023-01-26T18:47:44.724Z"
   },
   {
    "duration": 4,
    "start_time": "2023-01-26T18:47:44.928Z"
   },
   {
    "duration": 10,
    "start_time": "2023-01-26T18:47:44.934Z"
   },
   {
    "duration": 23,
    "start_time": "2023-01-26T18:47:44.946Z"
   },
   {
    "duration": 30,
    "start_time": "2023-01-26T18:47:44.971Z"
   },
   {
    "duration": 4,
    "start_time": "2023-01-26T18:47:45.003Z"
   },
   {
    "duration": 69,
    "start_time": "2023-01-26T18:47:45.008Z"
   },
   {
    "duration": 86,
    "start_time": "2023-01-26T18:47:45.079Z"
   },
   {
    "duration": 38,
    "start_time": "2023-01-26T18:47:45.167Z"
   },
   {
    "duration": 40,
    "start_time": "2023-01-26T18:47:45.207Z"
   },
   {
    "duration": 6,
    "start_time": "2023-01-26T18:47:45.249Z"
   },
   {
    "duration": 39,
    "start_time": "2023-01-26T18:47:45.257Z"
   },
   {
    "duration": 36,
    "start_time": "2023-01-26T18:47:45.298Z"
   },
   {
    "duration": 66,
    "start_time": "2023-01-26T18:47:45.336Z"
   },
   {
    "duration": 32,
    "start_time": "2023-01-26T18:47:45.404Z"
   },
   {
    "duration": 24,
    "start_time": "2023-01-26T18:47:45.438Z"
   },
   {
    "duration": 48,
    "start_time": "2023-01-26T18:47:45.465Z"
   },
   {
    "duration": 29,
    "start_time": "2023-01-26T18:47:45.516Z"
   },
   {
    "duration": 18,
    "start_time": "2023-01-26T18:47:45.546Z"
   },
   {
    "duration": 15,
    "start_time": "2023-01-26T18:47:45.566Z"
   },
   {
    "duration": 173,
    "start_time": "2023-01-26T18:47:45.583Z"
   },
   {
    "duration": 23,
    "start_time": "2023-01-26T18:47:45.760Z"
   },
   {
    "duration": 25,
    "start_time": "2023-01-26T18:47:45.800Z"
   },
   {
    "duration": 37,
    "start_time": "2023-01-26T18:47:45.827Z"
   },
   {
    "duration": 56,
    "start_time": "2023-01-26T18:47:45.866Z"
   },
   {
    "duration": 107,
    "start_time": "2023-01-26T18:47:45.924Z"
   },
   {
    "duration": 0,
    "start_time": "2023-01-26T18:47:46.032Z"
   },
   {
    "duration": 0,
    "start_time": "2023-01-26T18:47:46.034Z"
   },
   {
    "duration": 0,
    "start_time": "2023-01-26T18:47:46.036Z"
   },
   {
    "duration": 0,
    "start_time": "2023-01-26T18:47:46.036Z"
   },
   {
    "duration": 1,
    "start_time": "2023-01-26T18:47:46.037Z"
   },
   {
    "duration": 1050,
    "start_time": "2023-01-26T18:48:18.212Z"
   },
   {
    "duration": 4,
    "start_time": "2023-01-26T18:49:21.782Z"
   },
   {
    "duration": 171,
    "start_time": "2023-01-26T18:49:21.788Z"
   },
   {
    "duration": 19,
    "start_time": "2023-01-26T18:49:21.961Z"
   },
   {
    "duration": 24,
    "start_time": "2023-01-26T18:49:21.981Z"
   },
   {
    "duration": 61,
    "start_time": "2023-01-26T18:49:22.007Z"
   },
   {
    "duration": 79,
    "start_time": "2023-01-26T18:49:22.070Z"
   },
   {
    "duration": 69,
    "start_time": "2023-01-26T18:49:22.151Z"
   },
   {
    "duration": 37,
    "start_time": "2023-01-26T18:49:22.222Z"
   },
   {
    "duration": 47,
    "start_time": "2023-01-26T18:49:22.261Z"
   },
   {
    "duration": 10,
    "start_time": "2023-01-26T18:49:22.310Z"
   },
   {
    "duration": 32,
    "start_time": "2023-01-26T18:49:22.322Z"
   },
   {
    "duration": 24,
    "start_time": "2023-01-26T18:49:22.357Z"
   },
   {
    "duration": 11,
    "start_time": "2023-01-26T18:49:22.383Z"
   },
   {
    "duration": 31,
    "start_time": "2023-01-26T18:49:22.399Z"
   },
   {
    "duration": 26,
    "start_time": "2023-01-26T18:49:22.432Z"
   },
   {
    "duration": 5,
    "start_time": "2023-01-26T18:49:22.461Z"
   },
   {
    "duration": 31,
    "start_time": "2023-01-26T18:49:22.468Z"
   },
   {
    "duration": 293,
    "start_time": "2023-01-26T18:49:22.501Z"
   },
   {
    "duration": 17,
    "start_time": "2023-01-26T18:49:22.799Z"
   },
   {
    "duration": 212,
    "start_time": "2023-01-26T18:49:22.818Z"
   },
   {
    "duration": 4,
    "start_time": "2023-01-26T18:49:23.032Z"
   },
   {
    "duration": 13,
    "start_time": "2023-01-26T18:49:23.038Z"
   },
   {
    "duration": 48,
    "start_time": "2023-01-26T18:49:23.052Z"
   },
   {
    "duration": 12,
    "start_time": "2023-01-26T18:49:23.102Z"
   },
   {
    "duration": 4,
    "start_time": "2023-01-26T18:49:23.115Z"
   },
   {
    "duration": 39,
    "start_time": "2023-01-26T18:49:23.121Z"
   },
   {
    "duration": 56,
    "start_time": "2023-01-26T18:49:23.161Z"
   },
   {
    "duration": 37,
    "start_time": "2023-01-26T18:49:23.220Z"
   },
   {
    "duration": 57,
    "start_time": "2023-01-26T18:49:23.260Z"
   },
   {
    "duration": 7,
    "start_time": "2023-01-26T18:49:23.318Z"
   },
   {
    "duration": 29,
    "start_time": "2023-01-26T18:49:23.327Z"
   },
   {
    "duration": 25,
    "start_time": "2023-01-26T18:49:23.358Z"
   },
   {
    "duration": 81,
    "start_time": "2023-01-26T18:49:23.385Z"
   },
   {
    "duration": 50,
    "start_time": "2023-01-26T18:49:23.468Z"
   },
   {
    "duration": 24,
    "start_time": "2023-01-26T18:49:23.520Z"
   },
   {
    "duration": 25,
    "start_time": "2023-01-26T18:49:23.546Z"
   },
   {
    "duration": 49,
    "start_time": "2023-01-26T18:49:23.573Z"
   },
   {
    "duration": 19,
    "start_time": "2023-01-26T18:49:23.624Z"
   },
   {
    "duration": 7,
    "start_time": "2023-01-26T18:49:23.645Z"
   },
   {
    "duration": 211,
    "start_time": "2023-01-26T18:49:23.654Z"
   },
   {
    "duration": 18,
    "start_time": "2023-01-26T18:49:23.867Z"
   },
   {
    "duration": 38,
    "start_time": "2023-01-26T18:49:23.889Z"
   },
   {
    "duration": 86,
    "start_time": "2023-01-26T18:49:23.929Z"
   },
   {
    "duration": 40,
    "start_time": "2023-01-26T18:49:24.018Z"
   },
   {
    "duration": 14,
    "start_time": "2023-01-26T18:49:24.061Z"
   },
   {
    "duration": 0,
    "start_time": "2023-01-26T18:49:24.077Z"
   },
   {
    "duration": 0,
    "start_time": "2023-01-26T18:49:24.079Z"
   },
   {
    "duration": 6,
    "start_time": "2023-01-26T18:50:02.757Z"
   },
   {
    "duration": 189,
    "start_time": "2023-01-26T18:50:02.765Z"
   },
   {
    "duration": 26,
    "start_time": "2023-01-26T18:50:02.957Z"
   },
   {
    "duration": 49,
    "start_time": "2023-01-26T18:50:02.999Z"
   },
   {
    "duration": 110,
    "start_time": "2023-01-26T18:50:03.050Z"
   },
   {
    "duration": 87,
    "start_time": "2023-01-26T18:50:03.162Z"
   },
   {
    "duration": 108,
    "start_time": "2023-01-26T18:50:03.251Z"
   },
   {
    "duration": 72,
    "start_time": "2023-01-26T18:50:03.361Z"
   },
   {
    "duration": 30,
    "start_time": "2023-01-26T18:50:03.435Z"
   },
   {
    "duration": 28,
    "start_time": "2023-01-26T18:50:03.466Z"
   },
   {
    "duration": 57,
    "start_time": "2023-01-26T18:50:03.498Z"
   },
   {
    "duration": 27,
    "start_time": "2023-01-26T18:50:03.557Z"
   },
   {
    "duration": 7,
    "start_time": "2023-01-26T18:50:03.586Z"
   },
   {
    "duration": 21,
    "start_time": "2023-01-26T18:50:03.595Z"
   },
   {
    "duration": 26,
    "start_time": "2023-01-26T18:50:03.618Z"
   },
   {
    "duration": 5,
    "start_time": "2023-01-26T18:50:03.646Z"
   },
   {
    "duration": 11,
    "start_time": "2023-01-26T18:50:03.652Z"
   },
   {
    "duration": 371,
    "start_time": "2023-01-26T18:50:03.665Z"
   },
   {
    "duration": 16,
    "start_time": "2023-01-26T18:50:04.038Z"
   },
   {
    "duration": 429,
    "start_time": "2023-01-26T18:50:04.057Z"
   },
   {
    "duration": 11,
    "start_time": "2023-01-26T18:50:04.488Z"
   },
   {
    "duration": 40,
    "start_time": "2023-01-26T18:50:04.501Z"
   },
   {
    "duration": 43,
    "start_time": "2023-01-26T18:50:04.543Z"
   },
   {
    "duration": 16,
    "start_time": "2023-01-26T18:50:04.589Z"
   },
   {
    "duration": 35,
    "start_time": "2023-01-26T18:50:04.607Z"
   },
   {
    "duration": 60,
    "start_time": "2023-01-26T18:50:04.644Z"
   },
   {
    "duration": 53,
    "start_time": "2023-01-26T18:50:04.709Z"
   },
   {
    "duration": 56,
    "start_time": "2023-01-26T18:50:04.764Z"
   },
   {
    "duration": 50,
    "start_time": "2023-01-26T18:50:04.825Z"
   },
   {
    "duration": 25,
    "start_time": "2023-01-26T18:50:04.877Z"
   },
   {
    "duration": 33,
    "start_time": "2023-01-26T18:50:04.904Z"
   },
   {
    "duration": 23,
    "start_time": "2023-01-26T18:50:04.939Z"
   },
   {
    "duration": 90,
    "start_time": "2023-01-26T18:50:04.964Z"
   },
   {
    "duration": 41,
    "start_time": "2023-01-26T18:50:05.059Z"
   },
   {
    "duration": 27,
    "start_time": "2023-01-26T18:50:05.104Z"
   },
   {
    "duration": 30,
    "start_time": "2023-01-26T18:50:05.133Z"
   },
   {
    "duration": 45,
    "start_time": "2023-01-26T18:50:05.166Z"
   },
   {
    "duration": 22,
    "start_time": "2023-01-26T18:50:05.212Z"
   },
   {
    "duration": 6,
    "start_time": "2023-01-26T18:50:05.236Z"
   },
   {
    "duration": 215,
    "start_time": "2023-01-26T18:50:05.244Z"
   },
   {
    "duration": 19,
    "start_time": "2023-01-26T18:50:05.460Z"
   },
   {
    "duration": 34,
    "start_time": "2023-01-26T18:50:05.481Z"
   },
   {
    "duration": 38,
    "start_time": "2023-01-26T18:50:05.517Z"
   },
   {
    "duration": 63,
    "start_time": "2023-01-26T18:50:05.557Z"
   },
   {
    "duration": 14,
    "start_time": "2023-01-26T18:50:08.029Z"
   },
   {
    "duration": 198,
    "start_time": "2023-01-26T18:50:14.325Z"
   },
   {
    "duration": 196,
    "start_time": "2023-01-26T18:50:18.726Z"
   },
   {
    "duration": 4,
    "start_time": "2023-01-26T18:50:26.128Z"
   },
   {
    "duration": 255,
    "start_time": "2023-01-26T18:50:26.134Z"
   },
   {
    "duration": 29,
    "start_time": "2023-01-26T18:50:26.397Z"
   },
   {
    "duration": 30,
    "start_time": "2023-01-26T18:50:26.428Z"
   },
   {
    "duration": 129,
    "start_time": "2023-01-26T18:50:26.461Z"
   },
   {
    "duration": 79,
    "start_time": "2023-01-26T18:50:26.592Z"
   },
   {
    "duration": 75,
    "start_time": "2023-01-26T18:50:26.673Z"
   },
   {
    "duration": 57,
    "start_time": "2023-01-26T18:50:26.750Z"
   },
   {
    "duration": 43,
    "start_time": "2023-01-26T18:50:26.809Z"
   },
   {
    "duration": 49,
    "start_time": "2023-01-26T18:50:26.854Z"
   },
   {
    "duration": 81,
    "start_time": "2023-01-26T18:50:26.907Z"
   },
   {
    "duration": 78,
    "start_time": "2023-01-26T18:50:26.989Z"
   },
   {
    "duration": 35,
    "start_time": "2023-01-26T18:50:27.069Z"
   },
   {
    "duration": 110,
    "start_time": "2023-01-26T18:50:27.109Z"
   },
   {
    "duration": 42,
    "start_time": "2023-01-26T18:50:27.221Z"
   },
   {
    "duration": 7,
    "start_time": "2023-01-26T18:50:27.266Z"
   },
   {
    "duration": 9,
    "start_time": "2023-01-26T18:50:27.275Z"
   },
   {
    "duration": 378,
    "start_time": "2023-01-26T18:50:27.287Z"
   },
   {
    "duration": 33,
    "start_time": "2023-01-26T18:50:27.667Z"
   },
   {
    "duration": 277,
    "start_time": "2023-01-26T18:50:27.702Z"
   },
   {
    "duration": 5,
    "start_time": "2023-01-26T18:50:27.982Z"
   },
   {
    "duration": 13,
    "start_time": "2023-01-26T18:50:27.990Z"
   },
   {
    "duration": 50,
    "start_time": "2023-01-26T18:50:28.005Z"
   },
   {
    "duration": 23,
    "start_time": "2023-01-26T18:50:28.057Z"
   },
   {
    "duration": 4,
    "start_time": "2023-01-26T18:50:28.082Z"
   },
   {
    "duration": 67,
    "start_time": "2023-01-26T18:50:28.087Z"
   },
   {
    "duration": 32,
    "start_time": "2023-01-26T18:50:28.156Z"
   },
   {
    "duration": 49,
    "start_time": "2023-01-26T18:50:28.190Z"
   },
   {
    "duration": 37,
    "start_time": "2023-01-26T18:50:28.241Z"
   },
   {
    "duration": 7,
    "start_time": "2023-01-26T18:50:28.280Z"
   },
   {
    "duration": 34,
    "start_time": "2023-01-26T18:50:28.300Z"
   },
   {
    "duration": 28,
    "start_time": "2023-01-26T18:50:28.336Z"
   },
   {
    "duration": 96,
    "start_time": "2023-01-26T18:50:28.367Z"
   },
   {
    "duration": 47,
    "start_time": "2023-01-26T18:50:28.465Z"
   },
   {
    "duration": 37,
    "start_time": "2023-01-26T18:50:28.515Z"
   },
   {
    "duration": 30,
    "start_time": "2023-01-26T18:50:28.555Z"
   },
   {
    "duration": 41,
    "start_time": "2023-01-26T18:50:28.587Z"
   },
   {
    "duration": 22,
    "start_time": "2023-01-26T18:50:28.629Z"
   },
   {
    "duration": 7,
    "start_time": "2023-01-26T18:50:28.653Z"
   },
   {
    "duration": 205,
    "start_time": "2023-01-26T18:50:28.662Z"
   },
   {
    "duration": 17,
    "start_time": "2023-01-26T18:50:28.870Z"
   },
   {
    "duration": 41,
    "start_time": "2023-01-26T18:50:28.900Z"
   },
   {
    "duration": 46,
    "start_time": "2023-01-26T18:50:28.943Z"
   },
   {
    "duration": 37,
    "start_time": "2023-01-26T18:50:28.991Z"
   },
   {
    "duration": 234,
    "start_time": "2023-01-26T18:50:29.030Z"
   },
   {
    "duration": 185,
    "start_time": "2023-01-26T18:50:29.266Z"
   },
   {
    "duration": 21,
    "start_time": "2023-01-26T18:50:29.454Z"
   },
   {
    "duration": 1058,
    "start_time": "2023-01-26T18:50:38.746Z"
   },
   {
    "duration": 229,
    "start_time": "2023-01-26T18:53:01.248Z"
   },
   {
    "duration": 4,
    "start_time": "2023-01-26T18:53:11.851Z"
   },
   {
    "duration": 177,
    "start_time": "2023-01-26T18:53:11.857Z"
   },
   {
    "duration": 26,
    "start_time": "2023-01-26T18:53:12.036Z"
   },
   {
    "duration": 8,
    "start_time": "2023-01-26T18:53:12.065Z"
   },
   {
    "duration": 85,
    "start_time": "2023-01-26T18:53:12.075Z"
   },
   {
    "duration": 70,
    "start_time": "2023-01-26T18:53:12.163Z"
   },
   {
    "duration": 76,
    "start_time": "2023-01-26T18:53:12.234Z"
   },
   {
    "duration": 58,
    "start_time": "2023-01-26T18:53:12.311Z"
   },
   {
    "duration": 22,
    "start_time": "2023-01-26T18:53:12.372Z"
   },
   {
    "duration": 18,
    "start_time": "2023-01-26T18:53:12.398Z"
   },
   {
    "duration": 35,
    "start_time": "2023-01-26T18:53:12.418Z"
   },
   {
    "duration": 12,
    "start_time": "2023-01-26T18:53:12.455Z"
   },
   {
    "duration": 4,
    "start_time": "2023-01-26T18:53:12.469Z"
   },
   {
    "duration": 53,
    "start_time": "2023-01-26T18:53:12.475Z"
   },
   {
    "duration": 27,
    "start_time": "2023-01-26T18:53:12.530Z"
   },
   {
    "duration": 6,
    "start_time": "2023-01-26T18:53:12.559Z"
   },
   {
    "duration": 10,
    "start_time": "2023-01-26T18:53:12.567Z"
   },
   {
    "duration": 312,
    "start_time": "2023-01-26T18:53:12.578Z"
   },
   {
    "duration": 25,
    "start_time": "2023-01-26T18:53:12.892Z"
   },
   {
    "duration": 244,
    "start_time": "2023-01-26T18:53:12.919Z"
   },
   {
    "duration": 5,
    "start_time": "2023-01-26T18:53:13.165Z"
   },
   {
    "duration": 9,
    "start_time": "2023-01-26T18:53:13.173Z"
   },
   {
    "duration": 40,
    "start_time": "2023-01-26T18:53:13.184Z"
   },
   {
    "duration": 15,
    "start_time": "2023-01-26T18:53:13.229Z"
   },
   {
    "duration": 4,
    "start_time": "2023-01-26T18:53:13.246Z"
   },
   {
    "duration": 78,
    "start_time": "2023-01-26T18:53:13.251Z"
   },
   {
    "duration": 34,
    "start_time": "2023-01-26T18:53:13.330Z"
   },
   {
    "duration": 58,
    "start_time": "2023-01-26T18:53:13.365Z"
   },
   {
    "duration": 40,
    "start_time": "2023-01-26T18:53:13.425Z"
   },
   {
    "duration": 7,
    "start_time": "2023-01-26T18:53:13.467Z"
   },
   {
    "duration": 56,
    "start_time": "2023-01-26T18:53:13.476Z"
   },
   {
    "duration": 29,
    "start_time": "2023-01-26T18:53:13.534Z"
   },
   {
    "duration": 94,
    "start_time": "2023-01-26T18:53:13.565Z"
   },
   {
    "duration": 46,
    "start_time": "2023-01-26T18:53:13.660Z"
   },
   {
    "duration": 22,
    "start_time": "2023-01-26T18:53:13.708Z"
   },
   {
    "duration": 23,
    "start_time": "2023-01-26T18:53:13.732Z"
   },
   {
    "duration": 49,
    "start_time": "2023-01-26T18:53:13.757Z"
   },
   {
    "duration": 26,
    "start_time": "2023-01-26T18:53:13.808Z"
   },
   {
    "duration": 8,
    "start_time": "2023-01-26T18:53:13.836Z"
   },
   {
    "duration": 221,
    "start_time": "2023-01-26T18:53:13.846Z"
   },
   {
    "duration": 33,
    "start_time": "2023-01-26T18:53:14.069Z"
   },
   {
    "duration": 39,
    "start_time": "2023-01-26T18:53:14.104Z"
   },
   {
    "duration": 53,
    "start_time": "2023-01-26T18:53:14.146Z"
   },
   {
    "duration": 36,
    "start_time": "2023-01-26T18:53:14.201Z"
   },
   {
    "duration": 226,
    "start_time": "2023-01-26T18:53:14.238Z"
   },
   {
    "duration": 183,
    "start_time": "2023-01-26T18:53:14.466Z"
   },
   {
    "duration": 189,
    "start_time": "2023-01-26T18:53:14.651Z"
   },
   {
    "duration": 202,
    "start_time": "2023-01-26T18:53:21.230Z"
   },
   {
    "duration": 14,
    "start_time": "2023-01-26T18:53:30.254Z"
   },
   {
    "duration": 59,
    "start_time": "2023-01-26T18:53:56.243Z"
   },
   {
    "duration": 49,
    "start_time": "2023-01-26T18:54:19.130Z"
   },
   {
    "duration": 19,
    "start_time": "2023-01-26T18:54:51.870Z"
   },
   {
    "duration": 55,
    "start_time": "2023-01-26T18:55:01.331Z"
   },
   {
    "duration": 51,
    "start_time": "2023-01-26T18:56:13.152Z"
   },
   {
    "duration": 12,
    "start_time": "2023-01-26T18:56:51.595Z"
   },
   {
    "duration": 10,
    "start_time": "2023-01-26T18:56:57.549Z"
   },
   {
    "duration": 151,
    "start_time": "2023-01-26T18:56:57.596Z"
   },
   {
    "duration": 5,
    "start_time": "2023-01-26T18:58:46.834Z"
   },
   {
    "duration": 164,
    "start_time": "2023-01-26T18:58:47.453Z"
   },
   {
    "duration": 7,
    "start_time": "2023-01-26T18:59:16.762Z"
   },
   {
    "duration": 170,
    "start_time": "2023-01-26T18:59:17.367Z"
   },
   {
    "duration": 7,
    "start_time": "2023-01-26T18:59:33.317Z"
   },
   {
    "duration": 179,
    "start_time": "2023-01-26T19:00:05.290Z"
   },
   {
    "duration": 4,
    "start_time": "2023-01-26T19:00:18.729Z"
   },
   {
    "duration": 165,
    "start_time": "2023-01-26T19:00:18.756Z"
   },
   {
    "duration": 23,
    "start_time": "2023-01-26T19:00:18.923Z"
   },
   {
    "duration": 9,
    "start_time": "2023-01-26T19:00:19.697Z"
   },
   {
    "duration": 83,
    "start_time": "2023-01-26T19:00:19.708Z"
   },
   {
    "duration": 61,
    "start_time": "2023-01-26T19:00:19.793Z"
   },
   {
    "duration": 67,
    "start_time": "2023-01-26T19:00:19.856Z"
   },
   {
    "duration": 59,
    "start_time": "2023-01-26T19:00:19.924Z"
   },
   {
    "duration": 55,
    "start_time": "2023-01-26T19:00:19.985Z"
   },
   {
    "duration": 44,
    "start_time": "2023-01-26T19:00:20.042Z"
   },
   {
    "duration": 30,
    "start_time": "2023-01-26T19:00:20.088Z"
   },
   {
    "duration": 35,
    "start_time": "2023-01-26T19:00:20.121Z"
   },
   {
    "duration": 39,
    "start_time": "2023-01-26T19:00:20.157Z"
   },
   {
    "duration": 17,
    "start_time": "2023-01-26T19:00:20.641Z"
   },
   {
    "duration": 53,
    "start_time": "2023-01-26T19:00:20.660Z"
   },
   {
    "duration": 24,
    "start_time": "2023-01-26T19:00:20.715Z"
   },
   {
    "duration": 66,
    "start_time": "2023-01-26T19:00:20.741Z"
   },
   {
    "duration": 289,
    "start_time": "2023-01-26T19:00:20.810Z"
   },
   {
    "duration": 17,
    "start_time": "2023-01-26T19:00:21.101Z"
   },
   {
    "duration": 249,
    "start_time": "2023-01-26T19:00:21.120Z"
   },
   {
    "duration": 5,
    "start_time": "2023-01-26T19:00:21.370Z"
   },
   {
    "duration": 44,
    "start_time": "2023-01-26T19:00:21.377Z"
   },
   {
    "duration": 84,
    "start_time": "2023-01-26T19:00:21.423Z"
   },
   {
    "duration": 51,
    "start_time": "2023-01-26T19:00:21.509Z"
   },
   {
    "duration": 44,
    "start_time": "2023-01-26T19:00:21.563Z"
   },
   {
    "duration": 88,
    "start_time": "2023-01-26T19:00:21.609Z"
   },
   {
    "duration": 51,
    "start_time": "2023-01-26T19:00:21.700Z"
   },
   {
    "duration": 39,
    "start_time": "2023-01-26T19:00:21.753Z"
   },
   {
    "duration": 56,
    "start_time": "2023-01-26T19:00:21.794Z"
   },
   {
    "duration": 19,
    "start_time": "2023-01-26T19:00:21.851Z"
   },
   {
    "duration": 75,
    "start_time": "2023-01-26T19:00:21.872Z"
   },
   {
    "duration": 68,
    "start_time": "2023-01-26T19:00:21.948Z"
   },
   {
    "duration": 91,
    "start_time": "2023-01-26T19:00:22.018Z"
   },
   {
    "duration": 34,
    "start_time": "2023-01-26T19:00:22.112Z"
   },
   {
    "duration": 44,
    "start_time": "2023-01-26T19:00:22.148Z"
   },
   {
    "duration": 56,
    "start_time": "2023-01-26T19:00:22.194Z"
   },
   {
    "duration": 52,
    "start_time": "2023-01-26T19:00:22.251Z"
   },
   {
    "duration": 56,
    "start_time": "2023-01-26T19:00:22.305Z"
   },
   {
    "duration": 49,
    "start_time": "2023-01-26T19:00:22.363Z"
   },
   {
    "duration": 219,
    "start_time": "2023-01-26T19:00:22.415Z"
   },
   {
    "duration": 17,
    "start_time": "2023-01-26T19:00:22.636Z"
   },
   {
    "duration": 27,
    "start_time": "2023-01-26T19:00:22.655Z"
   },
   {
    "duration": 53,
    "start_time": "2023-01-26T19:00:22.684Z"
   },
   {
    "duration": 57,
    "start_time": "2023-01-26T19:00:22.738Z"
   },
   {
    "duration": 182,
    "start_time": "2023-01-26T19:00:22.797Z"
   },
   {
    "duration": 191,
    "start_time": "2023-01-26T19:00:22.980Z"
   },
   {
    "duration": 61,
    "start_time": "2023-01-26T19:00:23.173Z"
   },
   {
    "duration": 6,
    "start_time": "2023-01-26T19:00:23.236Z"
   },
   {
    "duration": 6,
    "start_time": "2023-01-26T19:00:27.988Z"
   },
   {
    "duration": 185,
    "start_time": "2023-01-26T19:00:27.997Z"
   },
   {
    "duration": 47,
    "start_time": "2023-01-26T19:00:54.766Z"
   },
   {
    "duration": 51,
    "start_time": "2023-01-26T19:01:33.853Z"
   },
   {
    "duration": 66,
    "start_time": "2023-01-26T19:01:38.518Z"
   },
   {
    "duration": 49,
    "start_time": "2023-01-26T19:01:41.375Z"
   },
   {
    "duration": 38,
    "start_time": "2023-01-26T19:01:42.334Z"
   },
   {
    "duration": 4,
    "start_time": "2023-01-26T19:02:33.209Z"
   },
   {
    "duration": 161,
    "start_time": "2023-01-26T19:02:33.215Z"
   },
   {
    "duration": 25,
    "start_time": "2023-01-26T19:02:33.378Z"
   },
   {
    "duration": 7,
    "start_time": "2023-01-26T19:02:33.405Z"
   },
   {
    "duration": 61,
    "start_time": "2023-01-26T19:02:33.414Z"
   },
   {
    "duration": 79,
    "start_time": "2023-01-26T19:02:33.477Z"
   },
   {
    "duration": 80,
    "start_time": "2023-01-26T19:02:33.558Z"
   },
   {
    "duration": 55,
    "start_time": "2023-01-26T19:02:33.640Z"
   },
   {
    "duration": 29,
    "start_time": "2023-01-26T19:02:33.698Z"
   },
   {
    "duration": 20,
    "start_time": "2023-01-26T19:02:33.730Z"
   },
   {
    "duration": 23,
    "start_time": "2023-01-26T19:02:33.753Z"
   },
   {
    "duration": 21,
    "start_time": "2023-01-26T19:02:33.778Z"
   },
   {
    "duration": 9,
    "start_time": "2023-01-26T19:02:33.801Z"
   },
   {
    "duration": 26,
    "start_time": "2023-01-26T19:02:33.813Z"
   },
   {
    "duration": 18,
    "start_time": "2023-01-26T19:02:33.841Z"
   },
   {
    "duration": 4,
    "start_time": "2023-01-26T19:02:33.861Z"
   },
   {
    "duration": 13,
    "start_time": "2023-01-26T19:02:33.867Z"
   },
   {
    "duration": 324,
    "start_time": "2023-01-26T19:02:33.899Z"
   },
   {
    "duration": 14,
    "start_time": "2023-01-26T19:02:34.224Z"
   },
   {
    "duration": 207,
    "start_time": "2023-01-26T19:02:34.240Z"
   },
   {
    "duration": 4,
    "start_time": "2023-01-26T19:02:34.449Z"
   },
   {
    "duration": 8,
    "start_time": "2023-01-26T19:02:34.455Z"
   },
   {
    "duration": 35,
    "start_time": "2023-01-26T19:02:34.465Z"
   },
   {
    "duration": 11,
    "start_time": "2023-01-26T19:02:34.502Z"
   },
   {
    "duration": 3,
    "start_time": "2023-01-26T19:02:34.515Z"
   },
   {
    "duration": 37,
    "start_time": "2023-01-26T19:02:34.520Z"
   },
   {
    "duration": 56,
    "start_time": "2023-01-26T19:02:34.559Z"
   },
   {
    "duration": 29,
    "start_time": "2023-01-26T19:02:34.617Z"
   },
   {
    "duration": 51,
    "start_time": "2023-01-26T19:02:34.649Z"
   },
   {
    "duration": 6,
    "start_time": "2023-01-26T19:02:34.702Z"
   },
   {
    "duration": 27,
    "start_time": "2023-01-26T19:02:34.710Z"
   },
   {
    "duration": 18,
    "start_time": "2023-01-26T19:02:34.739Z"
   },
   {
    "duration": 67,
    "start_time": "2023-01-26T19:02:34.758Z"
   },
   {
    "duration": 33,
    "start_time": "2023-01-26T19:02:34.826Z"
   },
   {
    "duration": 21,
    "start_time": "2023-01-26T19:02:34.860Z"
   },
   {
    "duration": 22,
    "start_time": "2023-01-26T19:02:34.900Z"
   },
   {
    "duration": 21,
    "start_time": "2023-01-26T19:02:34.924Z"
   },
   {
    "duration": 16,
    "start_time": "2023-01-26T19:02:34.947Z"
   },
   {
    "duration": 34,
    "start_time": "2023-01-26T19:02:34.965Z"
   },
   {
    "duration": 158,
    "start_time": "2023-01-26T19:02:35.001Z"
   },
   {
    "duration": 15,
    "start_time": "2023-01-26T19:02:35.160Z"
   },
   {
    "duration": 29,
    "start_time": "2023-01-26T19:02:35.177Z"
   },
   {
    "duration": 24,
    "start_time": "2023-01-26T19:02:35.208Z"
   },
   {
    "duration": 25,
    "start_time": "2023-01-26T19:02:35.234Z"
   },
   {
    "duration": 181,
    "start_time": "2023-01-26T19:02:35.260Z"
   },
   {
    "duration": 166,
    "start_time": "2023-01-26T19:02:35.442Z"
   },
   {
    "duration": 45,
    "start_time": "2023-01-26T19:02:35.609Z"
   },
   {
    "duration": 42,
    "start_time": "2023-01-26T19:02:51.498Z"
   },
   {
    "duration": 26,
    "start_time": "2023-01-26T19:02:59.337Z"
   },
   {
    "duration": 26,
    "start_time": "2023-01-26T19:03:07.171Z"
   },
   {
    "duration": 66,
    "start_time": "2023-01-26T19:03:34.826Z"
   },
   {
    "duration": 53,
    "start_time": "2023-01-26T19:03:49.359Z"
   },
   {
    "duration": 48,
    "start_time": "2023-01-26T19:03:57.730Z"
   },
   {
    "duration": 53,
    "start_time": "2023-01-26T19:04:03.217Z"
   },
   {
    "duration": 76,
    "start_time": "2023-01-26T19:04:14.111Z"
   },
   {
    "duration": 61,
    "start_time": "2023-01-26T19:04:25.930Z"
   },
   {
    "duration": 14,
    "start_time": "2023-01-26T19:04:34.485Z"
   },
   {
    "duration": 4,
    "start_time": "2023-01-26T19:04:45.910Z"
   },
   {
    "duration": 151,
    "start_time": "2023-01-26T19:04:45.916Z"
   },
   {
    "duration": 17,
    "start_time": "2023-01-26T19:04:46.069Z"
   },
   {
    "duration": 8,
    "start_time": "2023-01-26T19:04:46.098Z"
   },
   {
    "duration": 52,
    "start_time": "2023-01-26T19:04:46.109Z"
   },
   {
    "duration": 78,
    "start_time": "2023-01-26T19:04:46.163Z"
   },
   {
    "duration": 65,
    "start_time": "2023-01-26T19:04:46.243Z"
   },
   {
    "duration": 36,
    "start_time": "2023-01-26T19:04:46.835Z"
   },
   {
    "duration": 19,
    "start_time": "2023-01-26T19:04:46.873Z"
   },
   {
    "duration": 10,
    "start_time": "2023-01-26T19:04:46.894Z"
   },
   {
    "duration": 23,
    "start_time": "2023-01-26T19:04:46.906Z"
   },
   {
    "duration": 10,
    "start_time": "2023-01-26T19:04:46.931Z"
   },
   {
    "duration": 4,
    "start_time": "2023-01-26T19:04:46.942Z"
   },
   {
    "duration": 23,
    "start_time": "2023-01-26T19:04:46.947Z"
   },
   {
    "duration": 28,
    "start_time": "2023-01-26T19:04:46.971Z"
   },
   {
    "duration": 4,
    "start_time": "2023-01-26T19:04:47.001Z"
   },
   {
    "duration": 7,
    "start_time": "2023-01-26T19:04:47.007Z"
   },
   {
    "duration": 300,
    "start_time": "2023-01-26T19:04:47.016Z"
   },
   {
    "duration": 15,
    "start_time": "2023-01-26T19:04:47.317Z"
   },
   {
    "duration": 218,
    "start_time": "2023-01-26T19:04:47.334Z"
   },
   {
    "duration": 4,
    "start_time": "2023-01-26T19:04:47.555Z"
   },
   {
    "duration": 6,
    "start_time": "2023-01-26T19:04:47.561Z"
   },
   {
    "duration": 36,
    "start_time": "2023-01-26T19:04:47.568Z"
   },
   {
    "duration": 12,
    "start_time": "2023-01-26T19:04:47.605Z"
   },
   {
    "duration": 5,
    "start_time": "2023-01-26T19:04:47.619Z"
   },
   {
    "duration": 41,
    "start_time": "2023-01-26T19:04:47.625Z"
   },
   {
    "duration": 51,
    "start_time": "2023-01-26T19:04:47.668Z"
   },
   {
    "duration": 31,
    "start_time": "2023-01-26T19:04:47.721Z"
   },
   {
    "duration": 52,
    "start_time": "2023-01-26T19:04:47.754Z"
   },
   {
    "duration": 7,
    "start_time": "2023-01-26T19:04:47.808Z"
   },
   {
    "duration": 31,
    "start_time": "2023-01-26T19:04:47.818Z"
   },
   {
    "duration": 17,
    "start_time": "2023-01-26T19:04:47.851Z"
   },
   {
    "duration": 90,
    "start_time": "2023-01-26T19:04:47.870Z"
   },
   {
    "duration": 46,
    "start_time": "2023-01-26T19:04:47.961Z"
   },
   {
    "duration": 22,
    "start_time": "2023-01-26T19:04:48.009Z"
   },
   {
    "duration": 22,
    "start_time": "2023-01-26T19:04:48.032Z"
   },
   {
    "duration": 35,
    "start_time": "2023-01-26T19:04:48.386Z"
   },
   {
    "duration": 16,
    "start_time": "2023-01-26T19:04:48.424Z"
   },
   {
    "duration": 6,
    "start_time": "2023-01-26T19:04:48.443Z"
   },
   {
    "duration": 169,
    "start_time": "2023-01-26T19:04:48.451Z"
   },
   {
    "duration": 16,
    "start_time": "2023-01-26T19:04:48.622Z"
   },
   {
    "duration": 15,
    "start_time": "2023-01-26T19:04:48.640Z"
   },
   {
    "duration": 50,
    "start_time": "2023-01-26T19:04:48.657Z"
   },
   {
    "duration": 26,
    "start_time": "2023-01-26T19:04:48.709Z"
   },
   {
    "duration": 169,
    "start_time": "2023-01-26T19:04:48.737Z"
   },
   {
    "duration": 160,
    "start_time": "2023-01-26T19:04:48.907Z"
   },
   {
    "duration": 56,
    "start_time": "2023-01-26T19:04:49.068Z"
   },
   {
    "duration": 13,
    "start_time": "2023-01-26T19:04:49.126Z"
   },
   {
    "duration": 64,
    "start_time": "2023-01-26T19:05:03.932Z"
   },
   {
    "duration": 19,
    "start_time": "2023-01-26T19:05:09.197Z"
   },
   {
    "duration": 7,
    "start_time": "2023-01-26T19:05:24.722Z"
   },
   {
    "duration": 139,
    "start_time": "2023-01-26T19:05:25.395Z"
   },
   {
    "duration": 169,
    "start_time": "2023-01-26T19:05:32.589Z"
   },
   {
    "duration": 6,
    "start_time": "2023-01-26T19:36:39.824Z"
   },
   {
    "duration": 151,
    "start_time": "2023-01-26T19:36:40.240Z"
   },
   {
    "duration": 10,
    "start_time": "2023-01-26T20:01:52.921Z"
   },
   {
    "duration": 85,
    "start_time": "2023-01-26T20:02:47.792Z"
   },
   {
    "duration": 298,
    "start_time": "2023-01-26T20:02:54.574Z"
   },
   {
    "duration": 59,
    "start_time": "2023-01-26T20:03:13.923Z"
   },
   {
    "duration": 45,
    "start_time": "2023-01-26T20:03:16.716Z"
   },
   {
    "duration": 1255,
    "start_time": "2023-01-26T20:11:16.482Z"
   },
   {
    "duration": 181,
    "start_time": "2023-01-26T20:11:17.739Z"
   },
   {
    "duration": 19,
    "start_time": "2023-01-26T20:11:17.921Z"
   },
   {
    "duration": 11,
    "start_time": "2023-01-26T20:11:17.942Z"
   },
   {
    "duration": 92,
    "start_time": "2023-01-26T20:11:17.955Z"
   },
   {
    "duration": 77,
    "start_time": "2023-01-26T20:11:18.049Z"
   },
   {
    "duration": 84,
    "start_time": "2023-01-26T20:11:18.128Z"
   },
   {
    "duration": 43,
    "start_time": "2023-01-26T20:11:18.218Z"
   },
   {
    "duration": 19,
    "start_time": "2023-01-26T20:11:18.263Z"
   },
   {
    "duration": 27,
    "start_time": "2023-01-26T20:11:18.284Z"
   },
   {
    "duration": 20,
    "start_time": "2023-01-26T20:11:18.317Z"
   },
   {
    "duration": 13,
    "start_time": "2023-01-26T20:11:18.339Z"
   },
   {
    "duration": 8,
    "start_time": "2023-01-26T20:11:18.354Z"
   },
   {
    "duration": 34,
    "start_time": "2023-01-26T20:11:18.364Z"
   },
   {
    "duration": 22,
    "start_time": "2023-01-26T20:11:18.400Z"
   },
   {
    "duration": 10,
    "start_time": "2023-01-26T20:11:18.424Z"
   },
   {
    "duration": 5,
    "start_time": "2023-01-26T20:11:18.436Z"
   },
   {
    "duration": 425,
    "start_time": "2023-01-26T20:11:18.443Z"
   },
   {
    "duration": 29,
    "start_time": "2023-01-26T20:11:18.870Z"
   },
   {
    "duration": 225,
    "start_time": "2023-01-26T20:11:18.903Z"
   },
   {
    "duration": 6,
    "start_time": "2023-01-26T20:11:19.131Z"
   },
   {
    "duration": 9,
    "start_time": "2023-01-26T20:11:19.139Z"
   },
   {
    "duration": 31,
    "start_time": "2023-01-26T20:11:19.150Z"
   },
   {
    "duration": 21,
    "start_time": "2023-01-26T20:11:19.199Z"
   },
   {
    "duration": 16,
    "start_time": "2023-01-26T20:11:19.223Z"
   },
   {
    "duration": 70,
    "start_time": "2023-01-26T20:11:19.241Z"
   },
   {
    "duration": 51,
    "start_time": "2023-01-26T20:11:19.313Z"
   },
   {
    "duration": 71,
    "start_time": "2023-01-26T20:11:19.368Z"
   },
   {
    "duration": 62,
    "start_time": "2023-01-26T20:11:19.441Z"
   },
   {
    "duration": 10,
    "start_time": "2023-01-26T20:11:19.505Z"
   },
   {
    "duration": 37,
    "start_time": "2023-01-26T20:11:19.517Z"
   },
   {
    "duration": 17,
    "start_time": "2023-01-26T20:11:19.556Z"
   },
   {
    "duration": 82,
    "start_time": "2023-01-26T20:11:19.575Z"
   },
   {
    "duration": 55,
    "start_time": "2023-01-26T20:11:19.659Z"
   },
   {
    "duration": 28,
    "start_time": "2023-01-26T20:11:19.717Z"
   },
   {
    "duration": 31,
    "start_time": "2023-01-26T20:11:19.747Z"
   },
   {
    "duration": 47,
    "start_time": "2023-01-26T20:11:19.780Z"
   },
   {
    "duration": 18,
    "start_time": "2023-01-26T20:11:19.829Z"
   },
   {
    "duration": 76,
    "start_time": "2023-01-26T20:11:19.849Z"
   },
   {
    "duration": 161,
    "start_time": "2023-01-26T20:11:19.927Z"
   },
   {
    "duration": 24,
    "start_time": "2023-01-26T20:11:20.089Z"
   },
   {
    "duration": 26,
    "start_time": "2023-01-26T20:11:20.116Z"
   },
   {
    "duration": 27,
    "start_time": "2023-01-26T20:11:20.144Z"
   },
   {
    "duration": 48,
    "start_time": "2023-01-26T20:11:20.173Z"
   },
   {
    "duration": 163,
    "start_time": "2023-01-26T20:11:20.222Z"
   },
   {
    "duration": 177,
    "start_time": "2023-01-26T20:11:20.386Z"
   },
   {
    "duration": 79,
    "start_time": "2023-01-26T20:11:20.565Z"
   },
   {
    "duration": 6,
    "start_time": "2023-01-26T20:11:20.646Z"
   },
   {
    "duration": 195,
    "start_time": "2023-01-26T20:11:20.654Z"
   },
   {
    "duration": 1503,
    "start_time": "2023-01-26T21:59:16.924Z"
   },
   {
    "duration": 541,
    "start_time": "2023-01-26T21:59:18.429Z"
   },
   {
    "duration": 22,
    "start_time": "2023-01-26T21:59:18.972Z"
   },
   {
    "duration": 11,
    "start_time": "2023-01-26T21:59:18.995Z"
   },
   {
    "duration": 75,
    "start_time": "2023-01-26T21:59:19.008Z"
   },
   {
    "duration": 81,
    "start_time": "2023-01-26T21:59:19.084Z"
   },
   {
    "duration": 79,
    "start_time": "2023-01-26T21:59:19.167Z"
   },
   {
    "duration": 52,
    "start_time": "2023-01-26T21:59:19.247Z"
   },
   {
    "duration": 27,
    "start_time": "2023-01-26T21:59:19.300Z"
   },
   {
    "duration": 16,
    "start_time": "2023-01-26T21:59:19.328Z"
   },
   {
    "duration": 30,
    "start_time": "2023-01-26T21:59:19.346Z"
   },
   {
    "duration": 11,
    "start_time": "2023-01-26T21:59:19.377Z"
   },
   {
    "duration": 6,
    "start_time": "2023-01-26T21:59:19.390Z"
   },
   {
    "duration": 38,
    "start_time": "2023-01-26T21:59:19.399Z"
   },
   {
    "duration": 20,
    "start_time": "2023-01-26T21:59:19.439Z"
   },
   {
    "duration": 5,
    "start_time": "2023-01-26T21:59:19.461Z"
   },
   {
    "duration": 23,
    "start_time": "2023-01-26T21:59:19.467Z"
   },
   {
    "duration": 375,
    "start_time": "2023-01-26T21:59:19.492Z"
   },
   {
    "duration": 18,
    "start_time": "2023-01-26T21:59:19.868Z"
   },
   {
    "duration": 220,
    "start_time": "2023-01-26T21:59:19.888Z"
   },
   {
    "duration": 5,
    "start_time": "2023-01-26T21:59:20.109Z"
   },
   {
    "duration": 15,
    "start_time": "2023-01-26T21:59:20.116Z"
   },
   {
    "duration": 24,
    "start_time": "2023-01-26T21:59:20.137Z"
   },
   {
    "duration": 18,
    "start_time": "2023-01-26T21:59:20.163Z"
   },
   {
    "duration": 8,
    "start_time": "2023-01-26T21:59:20.183Z"
   },
   {
    "duration": 60,
    "start_time": "2023-01-26T21:59:20.193Z"
   },
   {
    "duration": 36,
    "start_time": "2023-01-26T21:59:20.254Z"
   },
   {
    "duration": 53,
    "start_time": "2023-01-26T21:59:20.292Z"
   },
   {
    "duration": 46,
    "start_time": "2023-01-26T21:59:22.627Z"
   },
   {
    "duration": 49,
    "start_time": "2023-01-27T10:14:54.880Z"
   },
   {
    "duration": 1693,
    "start_time": "2023-01-27T10:15:18.511Z"
   },
   {
    "duration": 702,
    "start_time": "2023-01-27T10:15:20.206Z"
   },
   {
    "duration": 24,
    "start_time": "2023-01-27T10:15:20.911Z"
   },
   {
    "duration": 41,
    "start_time": "2023-01-27T10:15:20.944Z"
   },
   {
    "duration": 120,
    "start_time": "2023-01-27T10:15:20.989Z"
   },
   {
    "duration": 97,
    "start_time": "2023-01-27T10:15:21.111Z"
   },
   {
    "duration": 103,
    "start_time": "2023-01-27T10:15:21.210Z"
   },
   {
    "duration": 107,
    "start_time": "2023-01-27T10:15:21.315Z"
   },
   {
    "duration": 68,
    "start_time": "2023-01-27T10:15:21.424Z"
   },
   {
    "duration": 24,
    "start_time": "2023-01-27T10:15:21.495Z"
   },
   {
    "duration": 86,
    "start_time": "2023-01-27T10:15:21.521Z"
   },
   {
    "duration": 41,
    "start_time": "2023-01-27T10:15:21.608Z"
   },
   {
    "duration": 37,
    "start_time": "2023-01-27T10:15:21.651Z"
   },
   {
    "duration": 37,
    "start_time": "2023-01-27T10:15:21.690Z"
   },
   {
    "duration": 43,
    "start_time": "2023-01-27T10:15:21.729Z"
   },
   {
    "duration": 18,
    "start_time": "2023-01-27T10:15:21.774Z"
   },
   {
    "duration": 32,
    "start_time": "2023-01-27T10:15:21.794Z"
   },
   {
    "duration": 476,
    "start_time": "2023-01-27T10:15:21.828Z"
   },
   {
    "duration": 19,
    "start_time": "2023-01-27T10:15:22.306Z"
   },
   {
    "duration": 325,
    "start_time": "2023-01-27T10:15:22.327Z"
   },
   {
    "duration": 8,
    "start_time": "2023-01-27T10:15:22.656Z"
   },
   {
    "duration": 47,
    "start_time": "2023-01-27T10:15:22.669Z"
   },
   {
    "duration": 148,
    "start_time": "2023-01-27T10:15:22.718Z"
   },
   {
    "duration": 52,
    "start_time": "2023-01-27T10:15:22.868Z"
   },
   {
    "duration": 88,
    "start_time": "2023-01-27T10:15:22.922Z"
   },
   {
    "duration": 57,
    "start_time": "2023-01-27T10:15:23.012Z"
   },
   {
    "duration": 93,
    "start_time": "2023-01-27T10:15:23.071Z"
   },
   {
    "duration": 50,
    "start_time": "2023-01-27T10:15:23.169Z"
   },
   {
    "duration": 54,
    "start_time": "2023-01-27T10:15:23.221Z"
   },
   {
    "duration": 67,
    "start_time": "2023-01-27T10:15:23.277Z"
   },
   {
    "duration": 43,
    "start_time": "2023-01-27T10:15:23.346Z"
   },
   {
    "duration": 15,
    "start_time": "2023-01-27T10:15:23.391Z"
   },
   {
    "duration": 74,
    "start_time": "2023-01-27T10:15:23.407Z"
   },
   {
    "duration": 34,
    "start_time": "2023-01-27T10:15:23.483Z"
   },
   {
    "duration": 90,
    "start_time": "2023-01-27T10:15:23.519Z"
   },
   {
    "duration": 59,
    "start_time": "2023-01-27T10:15:23.611Z"
   },
   {
    "duration": 25,
    "start_time": "2023-01-27T10:15:23.672Z"
   },
   {
    "duration": 36,
    "start_time": "2023-01-27T10:15:23.699Z"
   },
   {
    "duration": 81,
    "start_time": "2023-01-27T10:15:23.737Z"
   },
   {
    "duration": 71,
    "start_time": "2023-01-27T10:15:23.820Z"
   },
   {
    "duration": 9,
    "start_time": "2023-01-27T10:15:23.893Z"
   },
   {
    "duration": 221,
    "start_time": "2023-01-27T10:15:23.903Z"
   },
   {
    "duration": 37,
    "start_time": "2023-01-27T10:15:24.125Z"
   },
   {
    "duration": 29,
    "start_time": "2023-01-27T10:15:24.163Z"
   },
   {
    "duration": 74,
    "start_time": "2023-01-27T10:15:24.194Z"
   },
   {
    "duration": 35,
    "start_time": "2023-01-27T10:15:24.271Z"
   },
   {
    "duration": 178,
    "start_time": "2023-01-27T10:15:24.308Z"
   },
   {
    "duration": 193,
    "start_time": "2023-01-27T10:15:24.487Z"
   },
   {
    "duration": 80,
    "start_time": "2023-01-27T10:15:24.682Z"
   },
   {
    "duration": 112,
    "start_time": "2023-01-27T10:15:24.764Z"
   },
   {
    "duration": 0,
    "start_time": "2023-01-27T10:15:24.878Z"
   },
   {
    "duration": 0,
    "start_time": "2023-01-27T10:15:24.879Z"
   },
   {
    "duration": 11,
    "start_time": "2023-01-27T10:16:21.187Z"
   },
   {
    "duration": 4,
    "start_time": "2023-01-27T10:19:16.574Z"
   },
   {
    "duration": 303,
    "start_time": "2023-01-27T10:19:16.580Z"
   },
   {
    "duration": 3,
    "start_time": "2023-01-27T10:19:43.032Z"
   },
   {
    "duration": 227,
    "start_time": "2023-01-27T10:19:43.038Z"
   },
   {
    "duration": 30,
    "start_time": "2023-01-27T10:19:43.269Z"
   },
   {
    "duration": 14,
    "start_time": "2023-01-27T10:19:43.300Z"
   },
   {
    "duration": 106,
    "start_time": "2023-01-27T10:19:43.317Z"
   },
   {
    "duration": 89,
    "start_time": "2023-01-27T10:19:43.425Z"
   },
   {
    "duration": 92,
    "start_time": "2023-01-27T10:19:43.516Z"
   },
   {
    "duration": 52,
    "start_time": "2023-01-27T10:19:43.610Z"
   },
   {
    "duration": 40,
    "start_time": "2023-01-27T10:19:43.666Z"
   },
   {
    "duration": 15,
    "start_time": "2023-01-27T10:19:43.708Z"
   },
   {
    "duration": 50,
    "start_time": "2023-01-27T10:19:43.726Z"
   },
   {
    "duration": 39850,
    "start_time": "2023-01-27T10:19:43.778Z"
   },
   {
    "duration": 3,
    "start_time": "2023-01-27T10:20:46.307Z"
   },
   {
    "duration": 220,
    "start_time": "2023-01-27T10:20:46.312Z"
   },
   {
    "duration": 42,
    "start_time": "2023-01-27T10:20:46.534Z"
   },
   {
    "duration": 12,
    "start_time": "2023-01-27T10:20:46.577Z"
   },
   {
    "duration": 81,
    "start_time": "2023-01-27T10:20:46.591Z"
   },
   {
    "duration": 70,
    "start_time": "2023-01-27T10:20:46.674Z"
   },
   {
    "duration": 75,
    "start_time": "2023-01-27T10:20:46.756Z"
   },
   {
    "duration": 57,
    "start_time": "2023-01-27T10:20:46.833Z"
   },
   {
    "duration": 26,
    "start_time": "2023-01-27T10:20:46.892Z"
   },
   {
    "duration": 15,
    "start_time": "2023-01-27T10:20:46.920Z"
   },
   {
    "duration": 50,
    "start_time": "2023-01-27T10:20:46.945Z"
   },
   {
    "duration": 14,
    "start_time": "2023-01-27T10:20:46.997Z"
   },
   {
    "duration": 8,
    "start_time": "2023-01-27T10:20:47.013Z"
   },
   {
    "duration": 43,
    "start_time": "2023-01-27T10:20:47.023Z"
   },
   {
    "duration": 49,
    "start_time": "2023-01-27T10:20:47.068Z"
   },
   {
    "duration": 5,
    "start_time": "2023-01-27T10:20:47.119Z"
   },
   {
    "duration": 15,
    "start_time": "2023-01-27T10:20:47.126Z"
   },
   {
    "duration": 342,
    "start_time": "2023-01-27T10:20:47.143Z"
   },
   {
    "duration": 15,
    "start_time": "2023-01-27T10:20:47.488Z"
   },
   {
    "duration": 294,
    "start_time": "2023-01-27T10:20:47.506Z"
   },
   {
    "duration": 5,
    "start_time": "2023-01-27T10:20:47.803Z"
   },
   {
    "duration": 29,
    "start_time": "2023-01-27T10:20:47.810Z"
   },
   {
    "duration": 73,
    "start_time": "2023-01-27T10:20:47.843Z"
   },
   {
    "duration": 42,
    "start_time": "2023-01-27T10:20:47.918Z"
   },
   {
    "duration": 17,
    "start_time": "2023-01-27T10:20:50.593Z"
   },
   {
    "duration": 8,
    "start_time": "2023-01-27T10:20:51.262Z"
   },
   {
    "duration": 3,
    "start_time": "2023-01-27T10:21:26.003Z"
   },
   {
    "duration": 12,
    "start_time": "2023-01-27T10:21:30.508Z"
   },
   {
    "duration": 16,
    "start_time": "2023-01-27T10:22:58.936Z"
   },
   {
    "duration": 4,
    "start_time": "2023-01-27T10:23:05.720Z"
   },
   {
    "duration": 240,
    "start_time": "2023-01-27T10:23:05.730Z"
   },
   {
    "duration": 21,
    "start_time": "2023-01-27T10:23:05.973Z"
   },
   {
    "duration": 22,
    "start_time": "2023-01-27T10:23:05.996Z"
   },
   {
    "duration": 101,
    "start_time": "2023-01-27T10:23:06.019Z"
   },
   {
    "duration": 77,
    "start_time": "2023-01-27T10:23:06.123Z"
   },
   {
    "duration": 103,
    "start_time": "2023-01-27T10:23:06.202Z"
   },
   {
    "duration": 71,
    "start_time": "2023-01-27T10:23:06.307Z"
   },
   {
    "duration": 32,
    "start_time": "2023-01-27T10:23:06.381Z"
   },
   {
    "duration": 14,
    "start_time": "2023-01-27T10:23:06.414Z"
   },
   {
    "duration": 51,
    "start_time": "2023-01-27T10:23:06.429Z"
   },
   {
    "duration": 7,
    "start_time": "2023-01-27T10:23:06.482Z"
   },
   {
    "duration": 4,
    "start_time": "2023-01-27T10:23:06.491Z"
   },
   {
    "duration": 47,
    "start_time": "2023-01-27T10:23:06.496Z"
   },
   {
    "duration": 48,
    "start_time": "2023-01-27T10:23:06.549Z"
   },
   {
    "duration": 5,
    "start_time": "2023-01-27T10:23:06.598Z"
   },
   {
    "duration": 8,
    "start_time": "2023-01-27T10:23:06.604Z"
   },
   {
    "duration": 305,
    "start_time": "2023-01-27T10:23:06.614Z"
   },
   {
    "duration": 28,
    "start_time": "2023-01-27T10:23:06.921Z"
   },
   {
    "duration": 317,
    "start_time": "2023-01-27T10:23:06.958Z"
   },
   {
    "duration": 5,
    "start_time": "2023-01-27T10:23:07.277Z"
   },
   {
    "duration": 18,
    "start_time": "2023-01-27T10:23:07.284Z"
   },
   {
    "duration": 26,
    "start_time": "2023-01-27T10:23:07.304Z"
   },
   {
    "duration": 29,
    "start_time": "2023-01-27T10:23:07.331Z"
   },
   {
    "duration": 4,
    "start_time": "2023-01-27T10:23:19.921Z"
   },
   {
    "duration": 225,
    "start_time": "2023-01-27T10:23:19.928Z"
   },
   {
    "duration": 33,
    "start_time": "2023-01-27T10:23:20.155Z"
   },
   {
    "duration": 13,
    "start_time": "2023-01-27T10:23:20.190Z"
   },
   {
    "duration": 98,
    "start_time": "2023-01-27T10:23:20.205Z"
   },
   {
    "duration": 99,
    "start_time": "2023-01-27T10:23:20.305Z"
   },
   {
    "duration": 98,
    "start_time": "2023-01-27T10:23:20.406Z"
   },
   {
    "duration": 83,
    "start_time": "2023-01-27T10:23:20.506Z"
   },
   {
    "duration": 25,
    "start_time": "2023-01-27T10:23:20.590Z"
   },
   {
    "duration": 27,
    "start_time": "2023-01-27T10:23:20.617Z"
   },
   {
    "duration": 20,
    "start_time": "2023-01-27T10:23:42.502Z"
   },
   {
    "duration": 4,
    "start_time": "2023-01-27T10:23:54.924Z"
   },
   {
    "duration": 5,
    "start_time": "2023-01-27T10:24:04.042Z"
   },
   {
    "duration": 211,
    "start_time": "2023-01-27T10:24:04.061Z"
   },
   {
    "duration": 20,
    "start_time": "2023-01-27T10:24:04.274Z"
   },
   {
    "duration": 11,
    "start_time": "2023-01-27T10:24:04.296Z"
   },
   {
    "duration": 100,
    "start_time": "2023-01-27T10:24:04.309Z"
   },
   {
    "duration": 79,
    "start_time": "2023-01-27T10:24:04.412Z"
   },
   {
    "duration": 91,
    "start_time": "2023-01-27T10:24:04.492Z"
   },
   {
    "duration": 40,
    "start_time": "2023-01-27T10:24:04.585Z"
   },
   {
    "duration": 44,
    "start_time": "2023-01-27T10:24:04.626Z"
   },
   {
    "duration": 19,
    "start_time": "2023-01-27T10:24:04.672Z"
   },
   {
    "duration": 28,
    "start_time": "2023-01-27T10:24:04.693Z"
   },
   {
    "duration": 20,
    "start_time": "2023-01-27T10:24:04.723Z"
   },
   {
    "duration": 6,
    "start_time": "2023-01-27T10:24:04.745Z"
   },
   {
    "duration": 41,
    "start_time": "2023-01-27T10:24:04.753Z"
   },
   {
    "duration": 19,
    "start_time": "2023-01-27T10:24:04.798Z"
   },
   {
    "duration": 6,
    "start_time": "2023-01-27T10:24:04.819Z"
   },
   {
    "duration": 39,
    "start_time": "2023-01-27T10:24:04.827Z"
   },
   {
    "duration": 334,
    "start_time": "2023-01-27T10:24:04.868Z"
   },
   {
    "duration": 17,
    "start_time": "2023-01-27T10:24:05.204Z"
   },
   {
    "duration": 253,
    "start_time": "2023-01-27T10:24:05.223Z"
   },
   {
    "duration": 5,
    "start_time": "2023-01-27T10:24:05.478Z"
   },
   {
    "duration": 17,
    "start_time": "2023-01-27T10:24:05.485Z"
   },
   {
    "duration": 67,
    "start_time": "2023-01-27T10:24:05.504Z"
   },
   {
    "duration": 6,
    "start_time": "2023-01-27T10:24:17.929Z"
   },
   {
    "duration": 15,
    "start_time": "2023-01-27T10:24:23.773Z"
   },
   {
    "duration": 4,
    "start_time": "2023-01-27T10:24:41.498Z"
   },
   {
    "duration": 186,
    "start_time": "2023-01-27T10:24:41.504Z"
   },
   {
    "duration": 18,
    "start_time": "2023-01-27T10:24:41.692Z"
   },
   {
    "duration": 12,
    "start_time": "2023-01-27T10:24:41.712Z"
   },
   {
    "duration": 94,
    "start_time": "2023-01-27T10:24:41.740Z"
   },
   {
    "duration": 82,
    "start_time": "2023-01-27T10:24:41.836Z"
   },
   {
    "duration": 83,
    "start_time": "2023-01-27T10:24:41.920Z"
   },
   {
    "duration": 60,
    "start_time": "2023-01-27T10:24:42.005Z"
   },
   {
    "duration": 23,
    "start_time": "2023-01-27T10:24:42.068Z"
   },
   {
    "duration": 14,
    "start_time": "2023-01-27T10:24:42.093Z"
   },
   {
    "duration": 57,
    "start_time": "2023-01-27T10:24:42.109Z"
   },
   {
    "duration": 8,
    "start_time": "2023-01-27T10:24:42.168Z"
   },
   {
    "duration": 4,
    "start_time": "2023-01-27T10:24:42.178Z"
   },
   {
    "duration": 31,
    "start_time": "2023-01-27T10:24:42.184Z"
   },
   {
    "duration": 53,
    "start_time": "2023-01-27T10:24:42.217Z"
   },
   {
    "duration": 5,
    "start_time": "2023-01-27T10:24:42.272Z"
   },
   {
    "duration": 7,
    "start_time": "2023-01-27T10:24:42.278Z"
   },
   {
    "duration": 372,
    "start_time": "2023-01-27T10:24:42.287Z"
   },
   {
    "duration": 22,
    "start_time": "2023-01-27T10:24:42.663Z"
   },
   {
    "duration": 252,
    "start_time": "2023-01-27T10:24:42.687Z"
   },
   {
    "duration": 7,
    "start_time": "2023-01-27T10:24:42.943Z"
   },
   {
    "duration": 20,
    "start_time": "2023-01-27T10:24:42.952Z"
   },
   {
    "duration": 26,
    "start_time": "2023-01-27T10:24:42.975Z"
   },
   {
    "duration": 13,
    "start_time": "2023-01-27T10:24:43.004Z"
   },
   {
    "duration": 8,
    "start_time": "2023-01-27T10:24:43.019Z"
   },
   {
    "duration": 23,
    "start_time": "2023-01-27T10:25:01.134Z"
   },
   {
    "duration": 6,
    "start_time": "2023-01-27T10:25:02.268Z"
   },
   {
    "duration": 16,
    "start_time": "2023-01-27T10:25:47.668Z"
   },
   {
    "duration": 3,
    "start_time": "2023-01-27T10:27:07.793Z"
   },
   {
    "duration": 216,
    "start_time": "2023-01-27T10:27:07.798Z"
   },
   {
    "duration": 49,
    "start_time": "2023-01-27T10:27:08.016Z"
   },
   {
    "duration": 33,
    "start_time": "2023-01-27T10:27:08.069Z"
   },
   {
    "duration": 88,
    "start_time": "2023-01-27T10:27:08.105Z"
   },
   {
    "duration": 93,
    "start_time": "2023-01-27T10:27:08.195Z"
   },
   {
    "duration": 94,
    "start_time": "2023-01-27T10:27:08.290Z"
   },
   {
    "duration": 86,
    "start_time": "2023-01-27T10:27:08.386Z"
   },
   {
    "duration": 28,
    "start_time": "2023-01-27T10:27:08.473Z"
   },
   {
    "duration": 14,
    "start_time": "2023-01-27T10:27:08.504Z"
   },
   {
    "duration": 51,
    "start_time": "2023-01-27T10:27:08.520Z"
   },
   {
    "duration": 13,
    "start_time": "2023-01-27T10:27:08.573Z"
   },
   {
    "duration": 7,
    "start_time": "2023-01-27T10:27:08.587Z"
   },
   {
    "duration": 34,
    "start_time": "2023-01-27T10:27:08.595Z"
   },
   {
    "duration": 39,
    "start_time": "2023-01-27T10:27:08.632Z"
   },
   {
    "duration": 7,
    "start_time": "2023-01-27T10:27:08.673Z"
   },
   {
    "duration": 27,
    "start_time": "2023-01-27T10:27:08.681Z"
   },
   {
    "duration": 311,
    "start_time": "2023-01-27T10:27:08.711Z"
   },
   {
    "duration": 31,
    "start_time": "2023-01-27T10:27:09.024Z"
   },
   {
    "duration": 252,
    "start_time": "2023-01-27T10:27:09.057Z"
   },
   {
    "duration": 5,
    "start_time": "2023-01-27T10:27:09.311Z"
   },
   {
    "duration": 16,
    "start_time": "2023-01-27T10:27:09.318Z"
   },
   {
    "duration": 52,
    "start_time": "2023-01-27T10:27:09.337Z"
   },
   {
    "duration": 16,
    "start_time": "2023-01-27T10:27:09.391Z"
   },
   {
    "duration": 34,
    "start_time": "2023-01-27T10:27:09.409Z"
   },
   {
    "duration": 21,
    "start_time": "2023-01-27T10:27:09.445Z"
   },
   {
    "duration": 4,
    "start_time": "2023-01-27T10:29:58.193Z"
   },
   {
    "duration": 247,
    "start_time": "2023-01-27T10:29:58.199Z"
   },
   {
    "duration": 37,
    "start_time": "2023-01-27T10:29:58.448Z"
   },
   {
    "duration": 9,
    "start_time": "2023-01-27T10:29:58.488Z"
   },
   {
    "duration": 84,
    "start_time": "2023-01-27T10:29:58.499Z"
   },
   {
    "duration": 71,
    "start_time": "2023-01-27T10:29:58.585Z"
   },
   {
    "duration": 99,
    "start_time": "2023-01-27T10:29:58.658Z"
   },
   {
    "duration": 48,
    "start_time": "2023-01-27T10:29:58.767Z"
   },
   {
    "duration": 33,
    "start_time": "2023-01-27T10:29:58.817Z"
   },
   {
    "duration": 42,
    "start_time": "2023-01-27T10:29:58.853Z"
   },
   {
    "duration": 34,
    "start_time": "2023-01-27T10:29:58.898Z"
   },
   {
    "duration": 36,
    "start_time": "2023-01-27T10:29:58.934Z"
   },
   {
    "duration": 15,
    "start_time": "2023-01-27T10:29:58.971Z"
   },
   {
    "duration": 29,
    "start_time": "2023-01-27T10:29:58.988Z"
   },
   {
    "duration": 46,
    "start_time": "2023-01-27T10:29:59.019Z"
   },
   {
    "duration": 5,
    "start_time": "2023-01-27T10:29:59.070Z"
   },
   {
    "duration": 33,
    "start_time": "2023-01-27T10:29:59.076Z"
   },
   {
    "duration": 301,
    "start_time": "2023-01-27T10:29:59.111Z"
   },
   {
    "duration": 31,
    "start_time": "2023-01-27T10:29:59.414Z"
   },
   {
    "duration": 342,
    "start_time": "2023-01-27T10:29:59.450Z"
   },
   {
    "duration": 6,
    "start_time": "2023-01-27T10:29:59.794Z"
   },
   {
    "duration": 30,
    "start_time": "2023-01-27T10:29:59.802Z"
   },
   {
    "duration": 64,
    "start_time": "2023-01-27T10:29:59.834Z"
   },
   {
    "duration": 26,
    "start_time": "2023-01-27T10:29:59.901Z"
   },
   {
    "duration": 5,
    "start_time": "2023-01-27T10:29:59.929Z"
   },
   {
    "duration": 5,
    "start_time": "2023-01-27T10:30:22.880Z"
   },
   {
    "duration": 4,
    "start_time": "2023-01-27T10:30:29.114Z"
   },
   {
    "duration": 9,
    "start_time": "2023-01-27T10:31:01.042Z"
   },
   {
    "duration": 260,
    "start_time": "2023-01-27T10:31:01.054Z"
   },
   {
    "duration": 38,
    "start_time": "2023-01-27T10:31:01.316Z"
   },
   {
    "duration": 36,
    "start_time": "2023-01-27T10:31:01.358Z"
   },
   {
    "duration": 149,
    "start_time": "2023-01-27T10:31:01.396Z"
   },
   {
    "duration": 79,
    "start_time": "2023-01-27T10:31:01.548Z"
   },
   {
    "duration": 104,
    "start_time": "2023-01-27T10:31:01.629Z"
   },
   {
    "duration": 91,
    "start_time": "2023-01-27T10:31:01.735Z"
   },
   {
    "duration": 81,
    "start_time": "2023-01-27T10:31:01.829Z"
   },
   {
    "duration": 47,
    "start_time": "2023-01-27T10:31:01.912Z"
   },
   {
    "duration": 49,
    "start_time": "2023-01-27T10:31:01.962Z"
   },
   {
    "duration": 19,
    "start_time": "2023-01-27T10:31:02.015Z"
   },
   {
    "duration": 41,
    "start_time": "2023-01-27T10:31:02.036Z"
   },
   {
    "duration": 51,
    "start_time": "2023-01-27T10:31:02.079Z"
   },
   {
    "duration": 54,
    "start_time": "2023-01-27T10:31:02.132Z"
   },
   {
    "duration": 4,
    "start_time": "2023-01-27T10:31:02.188Z"
   },
   {
    "duration": 24,
    "start_time": "2023-01-27T10:31:02.194Z"
   },
   {
    "duration": 392,
    "start_time": "2023-01-27T10:31:02.220Z"
   },
   {
    "duration": 30,
    "start_time": "2023-01-27T10:31:02.615Z"
   },
   {
    "duration": 269,
    "start_time": "2023-01-27T10:31:02.652Z"
   },
   {
    "duration": 5,
    "start_time": "2023-01-27T10:31:02.922Z"
   },
   {
    "duration": 42,
    "start_time": "2023-01-27T10:31:02.940Z"
   },
   {
    "duration": 40,
    "start_time": "2023-01-27T10:31:02.984Z"
   },
   {
    "duration": 58,
    "start_time": "2023-01-27T10:31:03.027Z"
   },
   {
    "duration": 5,
    "start_time": "2023-01-27T10:31:03.087Z"
   },
   {
    "duration": 16,
    "start_time": "2023-01-27T10:31:03.093Z"
   },
   {
    "duration": 15,
    "start_time": "2023-01-27T10:31:03.110Z"
   },
   {
    "duration": 5,
    "start_time": "2023-01-27T10:31:14.983Z"
   },
   {
    "duration": 56,
    "start_time": "2023-01-27T10:32:07.563Z"
   },
   {
    "duration": 46,
    "start_time": "2023-01-27T10:37:04.307Z"
   },
   {
    "duration": 45,
    "start_time": "2023-01-27T10:37:33.895Z"
   },
   {
    "duration": 40,
    "start_time": "2023-01-27T10:38:00.296Z"
   },
   {
    "duration": 46,
    "start_time": "2023-01-27T10:38:12.862Z"
   },
   {
    "duration": 8,
    "start_time": "2023-01-27T10:44:44.135Z"
   },
   {
    "duration": 236,
    "start_time": "2023-01-27T10:44:44.145Z"
   },
   {
    "duration": 21,
    "start_time": "2023-01-27T10:44:44.383Z"
   },
   {
    "duration": 11,
    "start_time": "2023-01-27T10:44:44.406Z"
   },
   {
    "duration": 90,
    "start_time": "2023-01-27T10:44:44.420Z"
   },
   {
    "duration": 83,
    "start_time": "2023-01-27T10:44:44.512Z"
   },
   {
    "duration": 93,
    "start_time": "2023-01-27T10:44:44.596Z"
   },
   {
    "duration": 49,
    "start_time": "2023-01-27T10:44:44.691Z"
   },
   {
    "duration": 39,
    "start_time": "2023-01-27T10:44:44.743Z"
   },
   {
    "duration": 13,
    "start_time": "2023-01-27T10:44:44.784Z"
   },
   {
    "duration": 63,
    "start_time": "2023-01-27T10:44:44.801Z"
   },
   {
    "duration": 25,
    "start_time": "2023-01-27T10:44:44.867Z"
   },
   {
    "duration": 12,
    "start_time": "2023-01-27T10:44:44.894Z"
   },
   {
    "duration": 41,
    "start_time": "2023-01-27T10:44:44.907Z"
   },
   {
    "duration": 34,
    "start_time": "2023-01-27T10:44:44.950Z"
   },
   {
    "duration": 6,
    "start_time": "2023-01-27T10:44:44.986Z"
   },
   {
    "duration": 40,
    "start_time": "2023-01-27T10:44:44.993Z"
   },
   {
    "duration": 320,
    "start_time": "2023-01-27T10:44:45.036Z"
   },
   {
    "duration": 21,
    "start_time": "2023-01-27T10:44:45.358Z"
   },
   {
    "duration": 234,
    "start_time": "2023-01-27T10:44:45.381Z"
   },
   {
    "duration": 4,
    "start_time": "2023-01-27T10:44:45.617Z"
   },
   {
    "duration": 10,
    "start_time": "2023-01-27T10:44:45.637Z"
   },
   {
    "duration": 47,
    "start_time": "2023-01-27T10:44:45.649Z"
   },
   {
    "duration": 16,
    "start_time": "2023-01-27T10:44:45.698Z"
   },
   {
    "duration": 10,
    "start_time": "2023-01-27T10:44:45.716Z"
   },
   {
    "duration": 33,
    "start_time": "2023-01-27T10:44:45.728Z"
   },
   {
    "duration": 25,
    "start_time": "2023-01-27T10:44:45.763Z"
   },
   {
    "duration": 51,
    "start_time": "2023-01-27T10:44:45.789Z"
   },
   {
    "duration": 54,
    "start_time": "2023-01-27T10:44:45.845Z"
   },
   {
    "duration": 68,
    "start_time": "2023-01-27T10:44:45.901Z"
   },
   {
    "duration": 10,
    "start_time": "2023-01-27T10:44:45.988Z"
   },
   {
    "duration": 41,
    "start_time": "2023-01-27T10:44:46.000Z"
   },
   {
    "duration": 42,
    "start_time": "2023-01-27T10:44:46.043Z"
   },
   {
    "duration": 83,
    "start_time": "2023-01-27T10:44:46.087Z"
   },
   {
    "duration": 67,
    "start_time": "2023-01-27T10:44:47.489Z"
   },
   {
    "duration": 122,
    "start_time": "2023-01-27T10:44:48.809Z"
   },
   {
    "duration": 6,
    "start_time": "2023-01-27T10:45:22.528Z"
   },
   {
    "duration": 5,
    "start_time": "2023-01-27T10:45:32.424Z"
   },
   {
    "duration": 5,
    "start_time": "2023-01-27T10:46:07.706Z"
   },
   {
    "duration": 4,
    "start_time": "2023-01-27T10:46:12.714Z"
   },
   {
    "duration": 35,
    "start_time": "2023-01-27T10:46:13.327Z"
   },
   {
    "duration": 522,
    "start_time": "2023-01-27T10:46:30.376Z"
   },
   {
    "duration": 103,
    "start_time": "2023-01-27T10:50:55.791Z"
   },
   {
    "duration": 149,
    "start_time": "2023-01-27T10:51:12.629Z"
   },
   {
    "duration": 5,
    "start_time": "2023-01-27T10:51:22.738Z"
   },
   {
    "duration": 58,
    "start_time": "2023-01-27T10:51:26.635Z"
   },
   {
    "duration": 54,
    "start_time": "2023-01-27T10:51:37.807Z"
   },
   {
    "duration": 4,
    "start_time": "2023-01-27T10:52:06.323Z"
   },
   {
    "duration": 126,
    "start_time": "2023-01-27T10:52:30.792Z"
   },
   {
    "duration": 81,
    "start_time": "2023-01-27T10:53:11.429Z"
   },
   {
    "duration": 12,
    "start_time": "2023-01-27T10:53:38.368Z"
   },
   {
    "duration": 17,
    "start_time": "2023-01-27T10:53:46.562Z"
   },
   {
    "duration": 12,
    "start_time": "2023-01-27T10:54:02.727Z"
   },
   {
    "duration": 13,
    "start_time": "2023-01-27T10:54:24.525Z"
   },
   {
    "duration": 4,
    "start_time": "2023-01-27T10:54:29.064Z"
   },
   {
    "duration": 19,
    "start_time": "2023-01-27T10:54:35.015Z"
   },
   {
    "duration": 13,
    "start_time": "2023-01-27T10:54:51.171Z"
   },
   {
    "duration": 73,
    "start_time": "2023-01-27T10:55:04.629Z"
   },
   {
    "duration": 66,
    "start_time": "2023-01-27T10:55:14.691Z"
   },
   {
    "duration": 16,
    "start_time": "2023-01-27T10:55:25.856Z"
   },
   {
    "duration": 16,
    "start_time": "2023-01-27T10:55:29.894Z"
   },
   {
    "duration": 16,
    "start_time": "2023-01-27T10:55:53.431Z"
   },
   {
    "duration": 16,
    "start_time": "2023-01-27T10:56:12.598Z"
   },
   {
    "duration": 20,
    "start_time": "2023-01-27T10:56:40.850Z"
   },
   {
    "duration": 60,
    "start_time": "2023-01-27T10:56:48.469Z"
   },
   {
    "duration": 6,
    "start_time": "2023-01-27T10:58:12.413Z"
   },
   {
    "duration": 18,
    "start_time": "2023-01-27T10:58:15.071Z"
   },
   {
    "duration": 22,
    "start_time": "2023-01-27T10:58:24.029Z"
   },
   {
    "duration": 16,
    "start_time": "2023-01-27T11:00:26.293Z"
   },
   {
    "duration": 23,
    "start_time": "2023-01-27T11:00:33.931Z"
   },
   {
    "duration": 11,
    "start_time": "2023-01-27T11:00:55.801Z"
   },
   {
    "duration": 15,
    "start_time": "2023-01-27T11:01:09.491Z"
   },
   {
    "duration": 15,
    "start_time": "2023-01-27T11:01:25.271Z"
   },
   {
    "duration": 21,
    "start_time": "2023-01-27T11:01:34.921Z"
   },
   {
    "duration": 19,
    "start_time": "2023-01-27T11:02:20.359Z"
   },
   {
    "duration": 45,
    "start_time": "2023-01-27T11:04:41.968Z"
   },
   {
    "duration": 59,
    "start_time": "2023-01-27T11:05:16.064Z"
   },
   {
    "duration": 48,
    "start_time": "2023-01-27T11:05:46.167Z"
   },
   {
    "duration": 60,
    "start_time": "2023-01-27T11:05:52.802Z"
   },
   {
    "duration": 52,
    "start_time": "2023-01-27T11:06:00.855Z"
   },
   {
    "duration": 52,
    "start_time": "2023-01-27T11:06:55.858Z"
   },
   {
    "duration": 73,
    "start_time": "2023-01-27T11:06:58.215Z"
   },
   {
    "duration": 4,
    "start_time": "2023-01-27T11:09:19.097Z"
   },
   {
    "duration": 4,
    "start_time": "2023-01-27T11:09:37.980Z"
   },
   {
    "duration": 10,
    "start_time": "2023-01-27T11:09:37.986Z"
   },
   {
    "duration": 233,
    "start_time": "2023-01-27T11:09:37.998Z"
   },
   {
    "duration": 44,
    "start_time": "2023-01-27T11:09:38.234Z"
   },
   {
    "duration": 10,
    "start_time": "2023-01-27T11:09:38.280Z"
   },
   {
    "duration": 70,
    "start_time": "2023-01-27T11:09:38.291Z"
   },
   {
    "duration": 69,
    "start_time": "2023-01-27T11:09:38.363Z"
   },
   {
    "duration": 88,
    "start_time": "2023-01-27T11:09:38.442Z"
   },
   {
    "duration": 95,
    "start_time": "2023-01-27T11:09:38.532Z"
   },
   {
    "duration": 62,
    "start_time": "2023-01-27T11:09:38.629Z"
   },
   {
    "duration": 19,
    "start_time": "2023-01-27T11:09:38.693Z"
   },
   {
    "duration": 53,
    "start_time": "2023-01-27T11:09:38.713Z"
   },
   {
    "duration": 43,
    "start_time": "2023-01-27T11:09:38.769Z"
   },
   {
    "duration": 8,
    "start_time": "2023-01-27T11:09:38.813Z"
   },
   {
    "duration": 40,
    "start_time": "2023-01-27T11:09:38.822Z"
   },
   {
    "duration": 44,
    "start_time": "2023-01-27T11:09:38.864Z"
   },
   {
    "duration": 5,
    "start_time": "2023-01-27T11:09:38.910Z"
   },
   {
    "duration": 52,
    "start_time": "2023-01-27T11:09:38.917Z"
   },
   {
    "duration": 318,
    "start_time": "2023-01-27T11:09:38.972Z"
   },
   {
    "duration": 18,
    "start_time": "2023-01-27T11:09:39.292Z"
   },
   {
    "duration": 265,
    "start_time": "2023-01-27T11:09:39.312Z"
   },
   {
    "duration": 5,
    "start_time": "2023-01-27T11:09:39.578Z"
   },
   {
    "duration": 18,
    "start_time": "2023-01-27T11:09:39.584Z"
   },
   {
    "duration": 34,
    "start_time": "2023-01-27T11:09:39.606Z"
   },
   {
    "duration": 43,
    "start_time": "2023-01-27T11:09:39.643Z"
   },
   {
    "duration": 4,
    "start_time": "2023-01-27T11:09:39.689Z"
   },
   {
    "duration": 18,
    "start_time": "2023-01-27T11:09:39.695Z"
   },
   {
    "duration": 18,
    "start_time": "2023-01-27T11:09:39.715Z"
   },
   {
    "duration": 77,
    "start_time": "2023-01-27T11:09:39.735Z"
   },
   {
    "duration": 46,
    "start_time": "2023-01-27T11:09:39.814Z"
   },
   {
    "duration": 39,
    "start_time": "2023-01-27T11:09:39.862Z"
   },
   {
    "duration": 8,
    "start_time": "2023-01-27T11:09:39.902Z"
   },
   {
    "duration": 58,
    "start_time": "2023-01-27T11:09:39.912Z"
   },
   {
    "duration": 21,
    "start_time": "2023-01-27T11:09:39.973Z"
   },
   {
    "duration": 86,
    "start_time": "2023-01-27T11:09:39.996Z"
   },
   {
    "duration": 47,
    "start_time": "2023-01-27T11:09:40.085Z"
   },
   {
    "duration": 48,
    "start_time": "2023-01-27T11:09:40.133Z"
   },
   {
    "duration": 21,
    "start_time": "2023-01-27T11:09:40.183Z"
   },
   {
    "duration": 54,
    "start_time": "2023-01-27T11:09:40.206Z"
   },
   {
    "duration": 28,
    "start_time": "2023-01-27T11:09:40.262Z"
   },
   {
    "duration": 30,
    "start_time": "2023-01-27T11:09:40.292Z"
   },
   {
    "duration": 6,
    "start_time": "2023-01-27T11:09:40.324Z"
   },
   {
    "duration": 218,
    "start_time": "2023-01-27T11:09:40.341Z"
   },
   {
    "duration": 4,
    "start_time": "2023-01-27T11:09:57.219Z"
   },
   {
    "duration": 46,
    "start_time": "2023-01-27T11:09:57.225Z"
   },
   {
    "duration": 222,
    "start_time": "2023-01-27T11:09:57.273Z"
   },
   {
    "duration": 23,
    "start_time": "2023-01-27T11:09:57.497Z"
   },
   {
    "duration": 21,
    "start_time": "2023-01-27T11:09:57.523Z"
   },
   {
    "duration": 81,
    "start_time": "2023-01-27T11:09:57.546Z"
   },
   {
    "duration": 80,
    "start_time": "2023-01-27T11:09:57.629Z"
   },
   {
    "duration": 98,
    "start_time": "2023-01-27T11:09:57.711Z"
   },
   {
    "duration": 87,
    "start_time": "2023-01-27T11:09:57.811Z"
   },
   {
    "duration": 44,
    "start_time": "2023-01-27T11:09:57.900Z"
   },
   {
    "duration": 31,
    "start_time": "2023-01-27T11:09:57.950Z"
   },
   {
    "duration": 36,
    "start_time": "2023-01-27T11:09:57.983Z"
   },
   {
    "duration": 27,
    "start_time": "2023-01-27T11:09:58.020Z"
   },
   {
    "duration": 34,
    "start_time": "2023-01-27T11:09:58.049Z"
   },
   {
    "duration": 39,
    "start_time": "2023-01-27T11:09:58.085Z"
   },
   {
    "duration": 33,
    "start_time": "2023-01-27T11:09:58.126Z"
   },
   {
    "duration": 36,
    "start_time": "2023-01-27T11:09:58.161Z"
   },
   {
    "duration": 17,
    "start_time": "2023-01-27T11:09:58.199Z"
   },
   {
    "duration": 361,
    "start_time": "2023-01-27T11:09:58.219Z"
   },
   {
    "duration": 15,
    "start_time": "2023-01-27T11:09:58.582Z"
   },
   {
    "duration": 381,
    "start_time": "2023-01-27T11:09:58.599Z"
   },
   {
    "duration": 5,
    "start_time": "2023-01-27T11:09:58.982Z"
   },
   {
    "duration": 18,
    "start_time": "2023-01-27T11:09:58.989Z"
   },
   {
    "duration": 41,
    "start_time": "2023-01-27T11:09:59.009Z"
   },
   {
    "duration": 41,
    "start_time": "2023-01-27T11:09:59.055Z"
   },
   {
    "duration": 31,
    "start_time": "2023-01-27T11:09:59.098Z"
   },
   {
    "duration": 48,
    "start_time": "2023-01-27T11:09:59.132Z"
   },
   {
    "duration": 18,
    "start_time": "2023-01-27T11:09:59.182Z"
   },
   {
    "duration": 75,
    "start_time": "2023-01-27T11:09:59.204Z"
   },
   {
    "duration": 41,
    "start_time": "2023-01-27T11:09:59.281Z"
   },
   {
    "duration": 56,
    "start_time": "2023-01-27T11:09:59.324Z"
   },
   {
    "duration": 6,
    "start_time": "2023-01-27T11:09:59.382Z"
   },
   {
    "duration": 40,
    "start_time": "2023-01-27T11:09:59.390Z"
   },
   {
    "duration": 56,
    "start_time": "2023-01-27T11:09:59.439Z"
   },
   {
    "duration": 75,
    "start_time": "2023-01-27T11:09:59.497Z"
   },
   {
    "duration": 47,
    "start_time": "2023-01-27T11:09:59.574Z"
   },
   {
    "duration": 62,
    "start_time": "2023-01-27T11:09:59.623Z"
   },
   {
    "duration": 23,
    "start_time": "2023-01-27T11:09:59.687Z"
   },
   {
    "duration": 61,
    "start_time": "2023-01-27T11:09:59.712Z"
   },
   {
    "duration": 57,
    "start_time": "2023-01-27T11:09:59.775Z"
   },
   {
    "duration": 32,
    "start_time": "2023-01-27T11:09:59.833Z"
   },
   {
    "duration": 19,
    "start_time": "2023-01-27T11:09:59.867Z"
   },
   {
    "duration": 187,
    "start_time": "2023-01-27T11:09:59.888Z"
   },
   {
    "duration": 16,
    "start_time": "2023-01-27T11:10:00.077Z"
   },
   {
    "duration": 22,
    "start_time": "2023-01-27T11:10:00.095Z"
   },
   {
    "duration": 42,
    "start_time": "2023-01-27T11:10:00.141Z"
   },
   {
    "duration": 54,
    "start_time": "2023-01-27T11:10:00.184Z"
   },
   {
    "duration": 181,
    "start_time": "2023-01-27T11:10:00.240Z"
   },
   {
    "duration": 181,
    "start_time": "2023-01-27T11:10:00.423Z"
   },
   {
    "duration": 84,
    "start_time": "2023-01-27T11:10:00.606Z"
   },
   {
    "duration": 13,
    "start_time": "2023-01-27T11:12:40.195Z"
   },
   {
    "duration": 8,
    "start_time": "2023-01-27T11:13:02.964Z"
   },
   {
    "duration": 155,
    "start_time": "2023-01-27T11:13:03.473Z"
   },
   {
    "duration": 1605,
    "start_time": "2023-01-27T11:27:56.893Z"
   },
   {
    "duration": 5,
    "start_time": "2023-01-27T11:28:04.303Z"
   },
   {
    "duration": 16,
    "start_time": "2023-01-27T11:28:04.311Z"
   },
   {
    "duration": 257,
    "start_time": "2023-01-27T11:28:04.329Z"
   },
   {
    "duration": 20,
    "start_time": "2023-01-27T11:28:04.588Z"
   },
   {
    "duration": 9,
    "start_time": "2023-01-27T11:28:04.610Z"
   },
   {
    "duration": 83,
    "start_time": "2023-01-27T11:28:04.620Z"
   },
   {
    "duration": 72,
    "start_time": "2023-01-27T11:28:04.705Z"
   },
   {
    "duration": 89,
    "start_time": "2023-01-27T11:28:04.779Z"
   },
   {
    "duration": 83,
    "start_time": "2023-01-27T11:28:04.872Z"
   },
   {
    "duration": 34,
    "start_time": "2023-01-27T11:28:04.959Z"
   },
   {
    "duration": 12,
    "start_time": "2023-01-27T11:28:04.994Z"
   },
   {
    "duration": 58,
    "start_time": "2023-01-27T11:28:05.008Z"
   },
   {
    "duration": 12,
    "start_time": "2023-01-27T11:28:05.069Z"
   },
   {
    "duration": 3,
    "start_time": "2023-01-27T11:28:05.083Z"
   },
   {
    "duration": 26,
    "start_time": "2023-01-27T11:28:05.088Z"
   },
   {
    "duration": 23,
    "start_time": "2023-01-27T11:28:05.116Z"
   },
   {
    "duration": 5,
    "start_time": "2023-01-27T11:28:05.144Z"
   },
   {
    "duration": 57,
    "start_time": "2023-01-27T11:28:05.151Z"
   },
   {
    "duration": 304,
    "start_time": "2023-01-27T11:28:05.210Z"
   },
   {
    "duration": 39,
    "start_time": "2023-01-27T11:28:05.516Z"
   },
   {
    "duration": 214,
    "start_time": "2023-01-27T11:28:05.563Z"
   },
   {
    "duration": 4,
    "start_time": "2023-01-27T11:28:05.778Z"
   },
   {
    "duration": 14,
    "start_time": "2023-01-27T11:28:05.784Z"
   },
   {
    "duration": 23,
    "start_time": "2023-01-27T11:28:05.799Z"
   },
   {
    "duration": 32,
    "start_time": "2023-01-27T11:28:05.824Z"
   },
   {
    "duration": 27,
    "start_time": "2023-01-27T11:28:05.861Z"
   },
   {
    "duration": 19,
    "start_time": "2023-01-27T11:28:05.890Z"
   },
   {
    "duration": 4,
    "start_time": "2023-01-27T11:28:05.913Z"
   },
   {
    "duration": 58,
    "start_time": "2023-01-27T11:28:05.918Z"
   },
   {
    "duration": 36,
    "start_time": "2023-01-27T11:28:05.978Z"
   },
   {
    "duration": 55,
    "start_time": "2023-01-27T11:28:06.016Z"
   },
   {
    "duration": 6,
    "start_time": "2023-01-27T11:28:06.072Z"
   },
   {
    "duration": 26,
    "start_time": "2023-01-27T11:28:06.079Z"
   },
   {
    "duration": 16,
    "start_time": "2023-01-27T11:28:06.107Z"
   },
   {
    "duration": 85,
    "start_time": "2023-01-27T11:28:06.138Z"
   },
   {
    "duration": 63,
    "start_time": "2023-01-27T11:28:06.224Z"
   },
   {
    "duration": 35,
    "start_time": "2023-01-27T11:28:06.289Z"
   },
   {
    "duration": 47,
    "start_time": "2023-01-27T11:28:06.325Z"
   },
   {
    "duration": 27,
    "start_time": "2023-01-27T11:28:06.375Z"
   },
   {
    "duration": 21,
    "start_time": "2023-01-27T11:28:06.403Z"
   },
   {
    "duration": 36,
    "start_time": "2023-01-27T11:28:06.426Z"
   },
   {
    "duration": 22,
    "start_time": "2023-01-27T11:28:06.463Z"
   },
   {
    "duration": 171,
    "start_time": "2023-01-27T11:28:06.486Z"
   },
   {
    "duration": 20,
    "start_time": "2023-01-27T11:28:06.659Z"
   },
   {
    "duration": 19,
    "start_time": "2023-01-27T11:28:06.681Z"
   },
   {
    "duration": 40,
    "start_time": "2023-01-27T11:28:06.702Z"
   },
   {
    "duration": 37,
    "start_time": "2023-01-27T11:28:06.744Z"
   },
   {
    "duration": 164,
    "start_time": "2023-01-27T11:28:06.783Z"
   },
   {
    "duration": 175,
    "start_time": "2023-01-27T11:28:06.949Z"
   },
   {
    "duration": 1597,
    "start_time": "2023-01-27T11:28:08.808Z"
   },
   {
    "duration": 1497,
    "start_time": "2023-01-27T11:28:19.836Z"
   },
   {
    "duration": 3,
    "start_time": "2023-01-27T11:28:24.623Z"
   },
   {
    "duration": 68,
    "start_time": "2023-01-27T11:28:24.628Z"
   },
   {
    "duration": 254,
    "start_time": "2023-01-27T11:28:24.698Z"
   },
   {
    "duration": 28,
    "start_time": "2023-01-27T11:28:24.954Z"
   },
   {
    "duration": 17,
    "start_time": "2023-01-27T11:28:24.985Z"
   },
   {
    "duration": 87,
    "start_time": "2023-01-27T11:28:25.004Z"
   },
   {
    "duration": 97,
    "start_time": "2023-01-27T11:28:25.093Z"
   },
   {
    "duration": 123,
    "start_time": "2023-01-27T11:28:25.192Z"
   },
   {
    "duration": 69,
    "start_time": "2023-01-27T11:28:25.318Z"
   },
   {
    "duration": 32,
    "start_time": "2023-01-27T11:28:25.389Z"
   },
   {
    "duration": 50,
    "start_time": "2023-01-27T11:28:25.423Z"
   },
   {
    "duration": 41,
    "start_time": "2023-01-27T11:28:25.487Z"
   },
   {
    "duration": 13,
    "start_time": "2023-01-27T11:28:25.529Z"
   },
   {
    "duration": 37,
    "start_time": "2023-01-27T11:28:25.546Z"
   },
   {
    "duration": 24,
    "start_time": "2023-01-27T11:28:25.585Z"
   },
   {
    "duration": 21,
    "start_time": "2023-01-27T11:28:25.611Z"
   },
   {
    "duration": 16,
    "start_time": "2023-01-27T11:28:25.634Z"
   },
   {
    "duration": 46,
    "start_time": "2023-01-27T11:28:25.658Z"
   },
   {
    "duration": 321,
    "start_time": "2023-01-27T11:28:25.706Z"
   },
   {
    "duration": 31,
    "start_time": "2023-01-27T11:28:26.028Z"
   },
   {
    "duration": 238,
    "start_time": "2023-01-27T11:28:26.063Z"
   },
   {
    "duration": 4,
    "start_time": "2023-01-27T11:28:26.303Z"
   },
   {
    "duration": 14,
    "start_time": "2023-01-27T11:28:26.309Z"
   },
   {
    "duration": 51,
    "start_time": "2023-01-27T11:28:26.325Z"
   },
   {
    "duration": 36,
    "start_time": "2023-01-27T11:28:26.378Z"
   },
   {
    "duration": 20,
    "start_time": "2023-01-27T11:28:26.416Z"
   },
   {
    "duration": 236,
    "start_time": "2023-01-27T11:28:26.437Z"
   },
   {
    "duration": 19,
    "start_time": "2023-01-27T11:28:26.675Z"
   },
   {
    "duration": 77,
    "start_time": "2023-01-27T11:28:26.696Z"
   },
   {
    "duration": 76,
    "start_time": "2023-01-27T11:28:26.776Z"
   },
   {
    "duration": 57,
    "start_time": "2023-01-27T11:28:26.859Z"
   },
   {
    "duration": 9,
    "start_time": "2023-01-27T11:28:26.919Z"
   },
   {
    "duration": 78,
    "start_time": "2023-01-27T11:28:26.930Z"
   },
   {
    "duration": 42,
    "start_time": "2023-01-27T11:28:27.010Z"
   },
   {
    "duration": 112,
    "start_time": "2023-01-27T11:28:27.053Z"
   },
   {
    "duration": 47,
    "start_time": "2023-01-27T11:28:27.170Z"
   },
   {
    "duration": 54,
    "start_time": "2023-01-27T11:28:27.218Z"
   },
   {
    "duration": 23,
    "start_time": "2023-01-27T11:28:27.274Z"
   },
   {
    "duration": 47,
    "start_time": "2023-01-27T11:28:27.299Z"
   },
   {
    "duration": 32,
    "start_time": "2023-01-27T11:28:27.351Z"
   },
   {
    "duration": 20,
    "start_time": "2023-01-27T11:28:27.387Z"
   },
   {
    "duration": 14,
    "start_time": "2023-01-27T11:28:27.409Z"
   },
   {
    "duration": 210,
    "start_time": "2023-01-27T11:28:27.425Z"
   },
   {
    "duration": 27,
    "start_time": "2023-01-27T11:28:27.637Z"
   },
   {
    "duration": 32,
    "start_time": "2023-01-27T11:28:27.666Z"
   },
   {
    "duration": 29,
    "start_time": "2023-01-27T11:28:27.699Z"
   },
   {
    "duration": 43,
    "start_time": "2023-01-27T11:28:27.730Z"
   },
   {
    "duration": 180,
    "start_time": "2023-01-27T11:28:27.776Z"
   },
   {
    "duration": 199,
    "start_time": "2023-01-27T11:28:27.961Z"
   },
   {
    "duration": 1572,
    "start_time": "2023-01-27T11:28:28.162Z"
   },
   {
    "duration": 2133,
    "start_time": "2023-01-27T11:29:27.093Z"
   },
   {
    "duration": 1726,
    "start_time": "2023-01-27T11:29:42.078Z"
   },
   {
    "duration": 1833,
    "start_time": "2023-01-27T11:30:09.835Z"
   },
   {
    "duration": 1150,
    "start_time": "2023-01-27T11:30:19.927Z"
   },
   {
    "duration": 22,
    "start_time": "2023-01-27T11:30:28.567Z"
   },
   {
    "duration": 1636,
    "start_time": "2023-01-27T11:30:45.029Z"
   },
   {
    "duration": 23,
    "start_time": "2023-01-27T11:31:52.545Z"
   },
   {
    "duration": 22,
    "start_time": "2023-01-27T11:31:57.895Z"
   },
   {
    "duration": 93,
    "start_time": "2023-01-27T11:32:45.033Z"
   },
   {
    "duration": 30,
    "start_time": "2023-01-27T11:32:50.939Z"
   },
   {
    "duration": 1542,
    "start_time": "2023-01-27T11:33:17.276Z"
   },
   {
    "duration": 112,
    "start_time": "2023-01-27T11:33:44.863Z"
   },
   {
    "duration": 3020,
    "start_time": "2023-01-27T11:35:02.168Z"
   },
   {
    "duration": 51,
    "start_time": "2023-01-27T11:37:53.170Z"
   },
   {
    "duration": 4,
    "start_time": "2023-01-27T11:40:25.211Z"
   },
   {
    "duration": 22,
    "start_time": "2023-01-27T11:40:25.217Z"
   },
   {
    "duration": 276,
    "start_time": "2023-01-27T11:40:25.242Z"
   },
   {
    "duration": 31,
    "start_time": "2023-01-27T11:40:25.520Z"
   },
   {
    "duration": 24,
    "start_time": "2023-01-27T11:40:25.557Z"
   },
   {
    "duration": 87,
    "start_time": "2023-01-27T11:40:25.583Z"
   },
   {
    "duration": 63,
    "start_time": "2023-01-27T11:40:25.672Z"
   },
   {
    "duration": 92,
    "start_time": "2023-01-27T11:40:25.737Z"
   },
   {
    "duration": 74,
    "start_time": "2023-01-27T11:40:25.831Z"
   },
   {
    "duration": 32,
    "start_time": "2023-01-27T11:40:25.908Z"
   },
   {
    "duration": 52,
    "start_time": "2023-01-27T11:40:25.948Z"
   },
   {
    "duration": 57,
    "start_time": "2023-01-27T11:40:26.002Z"
   },
   {
    "duration": 37,
    "start_time": "2023-01-27T11:40:26.061Z"
   },
   {
    "duration": 14,
    "start_time": "2023-01-27T11:40:26.100Z"
   },
   {
    "duration": 102,
    "start_time": "2023-01-27T11:40:26.116Z"
   },
   {
    "duration": 80,
    "start_time": "2023-01-27T11:40:26.220Z"
   },
   {
    "duration": 11,
    "start_time": "2023-01-27T11:40:26.303Z"
   },
   {
    "duration": 50,
    "start_time": "2023-01-27T11:40:26.316Z"
   },
   {
    "duration": 346,
    "start_time": "2023-01-27T11:40:26.368Z"
   },
   {
    "duration": 28,
    "start_time": "2023-01-27T11:40:26.716Z"
   },
   {
    "duration": 224,
    "start_time": "2023-01-27T11:40:26.752Z"
   },
   {
    "duration": 5,
    "start_time": "2023-01-27T11:40:26.979Z"
   },
   {
    "duration": 17,
    "start_time": "2023-01-27T11:40:26.985Z"
   },
   {
    "duration": 30,
    "start_time": "2023-01-27T11:40:27.003Z"
   },
   {
    "duration": 39,
    "start_time": "2023-01-27T11:40:27.041Z"
   },
   {
    "duration": 7,
    "start_time": "2023-01-27T11:40:27.082Z"
   },
   {
    "duration": 26,
    "start_time": "2023-01-27T11:40:27.090Z"
   },
   {
    "duration": 13,
    "start_time": "2023-01-27T11:40:27.118Z"
   },
   {
    "duration": 84,
    "start_time": "2023-01-27T11:40:27.134Z"
   },
   {
    "duration": 52,
    "start_time": "2023-01-27T11:40:27.219Z"
   },
   {
    "duration": 37,
    "start_time": "2023-01-27T11:40:27.273Z"
   },
   {
    "duration": 7,
    "start_time": "2023-01-27T11:40:27.312Z"
   },
   {
    "duration": 78,
    "start_time": "2023-01-27T11:40:27.321Z"
   },
   {
    "duration": 30,
    "start_time": "2023-01-27T11:40:27.401Z"
   },
   {
    "duration": 121,
    "start_time": "2023-01-27T11:40:27.433Z"
   },
   {
    "duration": 51,
    "start_time": "2023-01-27T11:40:27.559Z"
   },
   {
    "duration": 59,
    "start_time": "2023-01-27T11:40:27.612Z"
   },
   {
    "duration": 23,
    "start_time": "2023-01-27T11:40:27.672Z"
   },
   {
    "duration": 26,
    "start_time": "2023-01-27T11:40:27.696Z"
   },
   {
    "duration": 47,
    "start_time": "2023-01-27T11:40:27.724Z"
   },
   {
    "duration": 27,
    "start_time": "2023-01-27T11:40:27.773Z"
   },
   {
    "duration": 9,
    "start_time": "2023-01-27T11:40:27.802Z"
   },
   {
    "duration": 195,
    "start_time": "2023-01-27T11:40:27.812Z"
   },
   {
    "duration": 17,
    "start_time": "2023-01-27T11:40:28.008Z"
   },
   {
    "duration": 41,
    "start_time": "2023-01-27T11:40:28.027Z"
   },
   {
    "duration": 50,
    "start_time": "2023-01-27T11:40:28.069Z"
   },
   {
    "duration": 56,
    "start_time": "2023-01-27T11:40:28.121Z"
   },
   {
    "duration": 204,
    "start_time": "2023-01-27T11:40:28.180Z"
   },
   {
    "duration": 185,
    "start_time": "2023-01-27T11:40:28.386Z"
   },
   {
    "duration": 11,
    "start_time": "2023-01-27T11:40:28.573Z"
   },
   {
    "duration": 0,
    "start_time": "2023-01-27T11:40:28.586Z"
   },
   {
    "duration": 0,
    "start_time": "2023-01-27T11:40:28.588Z"
   },
   {
    "duration": 0,
    "start_time": "2023-01-27T11:40:28.589Z"
   },
   {
    "duration": 0,
    "start_time": "2023-01-27T11:40:28.591Z"
   },
   {
    "duration": 1732,
    "start_time": "2023-01-27T11:41:20.536Z"
   },
   {
    "duration": 61,
    "start_time": "2023-01-27T11:41:24.213Z"
   },
   {
    "duration": 1168,
    "start_time": "2023-01-27T16:38:41.464Z"
   },
   {
    "duration": 2,
    "start_time": "2023-01-27T16:38:42.635Z"
   },
   {
    "duration": 202,
    "start_time": "2023-01-27T16:38:42.638Z"
   },
   {
    "duration": 27,
    "start_time": "2023-01-27T16:38:42.843Z"
   },
   {
    "duration": 36,
    "start_time": "2023-01-27T16:38:42.872Z"
   },
   {
    "duration": 83,
    "start_time": "2023-01-27T16:38:42.911Z"
   },
   {
    "duration": 106,
    "start_time": "2023-01-27T16:38:43.002Z"
   },
   {
    "duration": 69,
    "start_time": "2023-01-27T16:38:43.110Z"
   },
   {
    "duration": 54,
    "start_time": "2023-01-27T16:38:43.181Z"
   },
   {
    "duration": 25,
    "start_time": "2023-01-27T16:38:43.238Z"
   },
   {
    "duration": 34,
    "start_time": "2023-01-27T16:38:43.265Z"
   },
   {
    "duration": 33,
    "start_time": "2023-01-27T16:38:43.301Z"
   },
   {
    "duration": 16,
    "start_time": "2023-01-27T16:38:43.336Z"
   },
   {
    "duration": 15,
    "start_time": "2023-01-27T16:38:43.353Z"
   },
   {
    "duration": 20,
    "start_time": "2023-01-27T16:38:43.370Z"
   },
   {
    "duration": 24,
    "start_time": "2023-01-27T16:38:43.392Z"
   },
   {
    "duration": 5,
    "start_time": "2023-01-27T16:38:43.418Z"
   },
   {
    "duration": 9,
    "start_time": "2023-01-27T16:38:43.425Z"
   },
   {
    "duration": 430,
    "start_time": "2023-01-27T16:38:43.436Z"
   },
   {
    "duration": 33,
    "start_time": "2023-01-27T16:38:43.868Z"
   },
   {
    "duration": 209,
    "start_time": "2023-01-27T16:38:43.902Z"
   },
   {
    "duration": 4,
    "start_time": "2023-01-27T16:38:44.114Z"
   },
   {
    "duration": 6,
    "start_time": "2023-01-27T16:38:44.119Z"
   },
   {
    "duration": 21,
    "start_time": "2023-01-27T16:38:44.127Z"
   },
   {
    "duration": 45,
    "start_time": "2023-01-27T16:38:44.149Z"
   },
   {
    "duration": 10,
    "start_time": "2023-01-27T16:38:44.199Z"
   },
   {
    "duration": 7,
    "start_time": "2023-01-27T16:38:44.211Z"
   },
   {
    "duration": 4,
    "start_time": "2023-01-27T16:38:44.222Z"
   },
   {
    "duration": 41,
    "start_time": "2023-01-27T16:38:44.228Z"
   },
   {
    "duration": 54,
    "start_time": "2023-01-27T16:38:44.271Z"
   },
   {
    "duration": 36,
    "start_time": "2023-01-27T16:38:44.326Z"
   },
   {
    "duration": 6,
    "start_time": "2023-01-27T16:38:44.364Z"
   },
   {
    "duration": 45,
    "start_time": "2023-01-27T16:38:44.371Z"
   },
   {
    "duration": 16,
    "start_time": "2023-01-27T16:38:44.418Z"
   },
   {
    "duration": 88,
    "start_time": "2023-01-27T16:38:44.436Z"
   },
   {
    "duration": 540,
    "start_time": "2023-01-27T16:38:44.526Z"
   },
   {
    "duration": 59,
    "start_time": "2023-01-27T16:38:45.068Z"
   },
   {
    "duration": 78,
    "start_time": "2023-01-27T16:38:45.129Z"
   },
   {
    "duration": 29,
    "start_time": "2023-01-27T16:38:45.209Z"
   },
   {
    "duration": 69,
    "start_time": "2023-01-27T16:38:45.240Z"
   },
   {
    "duration": 28,
    "start_time": "2023-01-27T16:38:45.312Z"
   },
   {
    "duration": 9,
    "start_time": "2023-01-27T16:38:45.343Z"
   },
   {
    "duration": 179,
    "start_time": "2023-01-27T16:38:45.354Z"
   },
   {
    "duration": 16,
    "start_time": "2023-01-27T16:38:45.535Z"
   },
   {
    "duration": 15,
    "start_time": "2023-01-27T16:38:45.553Z"
   },
   {
    "duration": 49,
    "start_time": "2023-01-27T16:38:45.569Z"
   },
   {
    "duration": 28,
    "start_time": "2023-01-27T16:38:45.621Z"
   },
   {
    "duration": 183,
    "start_time": "2023-01-27T16:38:45.651Z"
   },
   {
    "duration": 181,
    "start_time": "2023-01-27T16:38:45.836Z"
   },
   {
    "duration": 193,
    "start_time": "2023-01-27T16:38:46.020Z"
   },
   {
    "duration": 0,
    "start_time": "2023-01-27T16:38:46.215Z"
   },
   {
    "duration": 0,
    "start_time": "2023-01-27T16:38:46.217Z"
   },
   {
    "duration": 0,
    "start_time": "2023-01-27T16:38:46.218Z"
   },
   {
    "duration": 0,
    "start_time": "2023-01-27T16:38:46.220Z"
   },
   {
    "duration": 865,
    "start_time": "2023-01-27T16:39:56.876Z"
   },
   {
    "duration": 0,
    "start_time": "2023-01-27T16:39:57.743Z"
   },
   {
    "duration": 20,
    "start_time": "2023-01-27T16:39:59.085Z"
   },
   {
    "duration": 19,
    "start_time": "2023-01-27T16:39:59.567Z"
   },
   {
    "duration": 3,
    "start_time": "2023-01-27T16:51:37.816Z"
   },
   {
    "duration": 2,
    "start_time": "2023-01-27T16:51:37.963Z"
   },
   {
    "duration": 176,
    "start_time": "2023-01-27T16:51:38.334Z"
   },
   {
    "duration": 27,
    "start_time": "2023-01-27T16:51:39.225Z"
   },
   {
    "duration": 10,
    "start_time": "2023-01-27T16:51:39.779Z"
   },
   {
    "duration": 82,
    "start_time": "2023-01-27T16:51:40.123Z"
   },
   {
    "duration": 69,
    "start_time": "2023-01-27T16:51:40.298Z"
   },
   {
    "duration": 68,
    "start_time": "2023-01-27T16:51:40.618Z"
   },
   {
    "duration": 46,
    "start_time": "2023-01-27T16:51:40.791Z"
   },
   {
    "duration": 19,
    "start_time": "2023-01-27T16:51:40.949Z"
   },
   {
    "duration": 11,
    "start_time": "2023-01-27T16:51:41.806Z"
   },
   {
    "duration": 28,
    "start_time": "2023-01-27T16:51:41.990Z"
   },
   {
    "duration": 7,
    "start_time": "2023-01-27T16:51:42.506Z"
   },
   {
    "duration": 4,
    "start_time": "2023-01-27T16:51:42.674Z"
   },
   {
    "duration": 17,
    "start_time": "2023-01-27T16:51:43.022Z"
   },
   {
    "duration": 18,
    "start_time": "2023-01-27T16:51:43.365Z"
   },
   {
    "duration": 5,
    "start_time": "2023-01-27T16:51:43.875Z"
   },
   {
    "duration": 4,
    "start_time": "2023-01-27T16:51:44.050Z"
   },
   {
    "duration": 273,
    "start_time": "2023-01-27T16:51:44.243Z"
   },
   {
    "duration": 22,
    "start_time": "2023-01-27T16:51:44.586Z"
   },
   {
    "duration": 199,
    "start_time": "2023-01-27T16:51:44.756Z"
   },
   {
    "duration": 5,
    "start_time": "2023-01-27T16:51:45.122Z"
   },
   {
    "duration": 5,
    "start_time": "2023-01-27T16:51:45.290Z"
   },
   {
    "duration": 26,
    "start_time": "2023-01-27T16:51:46.160Z"
   },
   {
    "duration": 14,
    "start_time": "2023-01-27T16:51:46.521Z"
   },
   {
    "duration": 4,
    "start_time": "2023-01-27T16:51:46.865Z"
   },
   {
    "duration": 4,
    "start_time": "2023-01-27T16:51:47.056Z"
   },
   {
    "duration": 5,
    "start_time": "2023-01-27T16:51:47.226Z"
   },
   {
    "duration": 41,
    "start_time": "2023-01-27T16:51:47.933Z"
   },
   {
    "duration": 40,
    "start_time": "2023-01-27T16:51:48.648Z"
   },
   {
    "duration": 43,
    "start_time": "2023-01-27T16:51:49.166Z"
   },
   {
    "duration": 7,
    "start_time": "2023-01-27T16:51:49.542Z"
   },
   {
    "duration": 20,
    "start_time": "2023-01-27T16:51:50.270Z"
   },
   {
    "duration": 15,
    "start_time": "2023-01-27T16:51:50.805Z"
   },
   {
    "duration": 71,
    "start_time": "2023-01-27T16:51:51.156Z"
   },
   {
    "duration": 44,
    "start_time": "2023-01-27T16:51:51.330Z"
   },
   {
    "duration": 38,
    "start_time": "2023-01-27T16:51:53.170Z"
   },
   {
    "duration": 23,
    "start_time": "2023-01-27T16:51:53.545Z"
   },
   {
    "duration": 38,
    "start_time": "2023-01-27T16:51:53.902Z"
   },
   {
    "duration": 27,
    "start_time": "2023-01-27T16:51:54.074Z"
   },
   {
    "duration": 18,
    "start_time": "2023-01-27T16:51:54.312Z"
   },
   {
    "duration": 8,
    "start_time": "2023-01-27T16:51:55.018Z"
   },
   {
    "duration": 164,
    "start_time": "2023-01-27T16:51:55.171Z"
   },
   {
    "duration": 20,
    "start_time": "2023-01-27T16:51:55.941Z"
   },
   {
    "duration": 17,
    "start_time": "2023-01-27T16:51:56.128Z"
   },
   {
    "duration": 26,
    "start_time": "2023-01-27T16:51:56.657Z"
   },
   {
    "duration": 26,
    "start_time": "2023-01-27T16:51:56.843Z"
   },
   {
    "duration": 154,
    "start_time": "2023-01-27T16:51:57.390Z"
   },
   {
    "duration": 147,
    "start_time": "2023-01-27T16:51:57.765Z"
   },
   {
    "duration": 789,
    "start_time": "2023-01-27T16:52:02.085Z"
   },
   {
    "duration": 150,
    "start_time": "2023-01-27T16:53:32.140Z"
   },
   {
    "duration": 67,
    "start_time": "2023-01-27T16:53:38.562Z"
   },
   {
    "duration": 806,
    "start_time": "2023-01-27T16:53:43.141Z"
   },
   {
    "duration": 860,
    "start_time": "2023-01-27T16:54:12.204Z"
   },
   {
    "duration": 1429,
    "start_time": "2023-01-27T17:02:00.787Z"
   },
   {
    "duration": 4,
    "start_time": "2023-01-27T17:02:02.219Z"
   },
   {
    "duration": 773,
    "start_time": "2023-01-27T17:02:02.225Z"
   },
   {
    "duration": 22,
    "start_time": "2023-01-27T17:02:03.000Z"
   },
   {
    "duration": 18,
    "start_time": "2023-01-27T17:02:03.024Z"
   },
   {
    "duration": 66,
    "start_time": "2023-01-27T17:02:03.044Z"
   },
   {
    "duration": 73,
    "start_time": "2023-01-27T17:02:03.112Z"
   },
   {
    "duration": 98,
    "start_time": "2023-01-27T17:02:03.187Z"
   },
   {
    "duration": 51,
    "start_time": "2023-01-27T17:02:03.287Z"
   },
   {
    "duration": 25,
    "start_time": "2023-01-27T17:02:03.339Z"
   },
   {
    "duration": 13,
    "start_time": "2023-01-27T17:02:03.366Z"
   },
   {
    "duration": 50,
    "start_time": "2023-01-27T17:02:03.380Z"
   },
   {
    "duration": 81,
    "start_time": "2023-01-27T17:02:03.432Z"
   },
   {
    "duration": 5,
    "start_time": "2023-01-27T17:02:03.518Z"
   },
   {
    "duration": 63,
    "start_time": "2023-01-27T17:02:03.525Z"
   },
   {
    "duration": 40,
    "start_time": "2023-01-27T17:02:03.589Z"
   },
   {
    "duration": 43,
    "start_time": "2023-01-27T17:02:03.631Z"
   },
   {
    "duration": 28,
    "start_time": "2023-01-27T17:02:03.676Z"
   },
   {
    "duration": 364,
    "start_time": "2023-01-27T17:02:03.706Z"
   },
   {
    "duration": 20,
    "start_time": "2023-01-27T17:02:04.072Z"
   },
   {
    "duration": 237,
    "start_time": "2023-01-27T17:02:04.093Z"
   },
   {
    "duration": 10,
    "start_time": "2023-01-27T17:02:04.331Z"
   },
   {
    "duration": 65,
    "start_time": "2023-01-27T17:02:04.343Z"
   },
   {
    "duration": 78,
    "start_time": "2023-01-27T17:02:04.410Z"
   },
   {
    "duration": 45,
    "start_time": "2023-01-27T17:02:04.490Z"
   },
   {
    "duration": 25,
    "start_time": "2023-01-27T17:02:04.536Z"
   },
   {
    "duration": 28,
    "start_time": "2023-01-27T17:02:04.563Z"
   },
   {
    "duration": 29,
    "start_time": "2023-01-27T17:02:04.593Z"
   },
   {
    "duration": 70,
    "start_time": "2023-01-27T17:02:04.624Z"
   },
   {
    "duration": 50,
    "start_time": "2023-01-27T17:02:04.696Z"
   },
   {
    "duration": 49,
    "start_time": "2023-01-27T17:02:04.748Z"
   },
   {
    "duration": 7,
    "start_time": "2023-01-27T17:02:04.799Z"
   },
   {
    "duration": 47,
    "start_time": "2023-01-27T17:02:04.808Z"
   },
   {
    "duration": 37,
    "start_time": "2023-01-27T17:02:04.857Z"
   },
   {
    "duration": 136,
    "start_time": "2023-01-27T17:02:04.896Z"
   },
   {
    "duration": 507,
    "start_time": "2023-01-27T17:02:05.034Z"
   },
   {
    "duration": 35,
    "start_time": "2023-01-27T17:02:05.543Z"
   },
   {
    "duration": 82,
    "start_time": "2023-01-27T17:02:05.580Z"
   },
   {
    "duration": 28,
    "start_time": "2023-01-27T17:02:05.664Z"
   },
   {
    "duration": 32,
    "start_time": "2023-01-27T17:02:05.739Z"
   },
   {
    "duration": 80,
    "start_time": "2023-01-27T17:02:05.775Z"
   },
   {
    "duration": 70,
    "start_time": "2023-01-27T17:02:05.857Z"
   },
   {
    "duration": 227,
    "start_time": "2023-01-27T17:02:05.929Z"
   },
   {
    "duration": 16,
    "start_time": "2023-01-27T17:02:06.158Z"
   },
   {
    "duration": 56,
    "start_time": "2023-01-27T17:02:06.176Z"
   },
   {
    "duration": 60,
    "start_time": "2023-01-27T17:02:06.235Z"
   },
   {
    "duration": 32,
    "start_time": "2023-01-27T17:02:06.298Z"
   },
   {
    "duration": 155,
    "start_time": "2023-01-27T17:02:06.331Z"
   },
   {
    "duration": 175,
    "start_time": "2023-01-27T17:02:06.487Z"
   },
   {
    "duration": 80,
    "start_time": "2023-01-27T17:02:06.665Z"
   },
   {
    "duration": 208,
    "start_time": "2023-01-27T17:02:06.747Z"
   },
   {
    "duration": 0,
    "start_time": "2023-01-27T17:02:06.957Z"
   },
   {
    "duration": 0,
    "start_time": "2023-01-27T17:02:06.959Z"
   },
   {
    "duration": 0,
    "start_time": "2023-01-27T17:02:06.960Z"
   },
   {
    "duration": 0,
    "start_time": "2023-01-27T17:02:06.961Z"
   },
   {
    "duration": 3,
    "start_time": "2023-01-27T17:04:21.748Z"
   },
   {
    "duration": 8,
    "start_time": "2023-01-27T17:04:21.754Z"
   },
   {
    "duration": 207,
    "start_time": "2023-01-27T17:04:21.764Z"
   },
   {
    "duration": 19,
    "start_time": "2023-01-27T17:04:21.973Z"
   },
   {
    "duration": 10,
    "start_time": "2023-01-27T17:04:21.994Z"
   },
   {
    "duration": 76,
    "start_time": "2023-01-27T17:04:22.006Z"
   },
   {
    "duration": 75,
    "start_time": "2023-01-27T17:04:22.084Z"
   },
   {
    "duration": 82,
    "start_time": "2023-01-27T17:04:22.161Z"
   },
   {
    "duration": 45,
    "start_time": "2023-01-27T17:04:22.245Z"
   },
   {
    "duration": 24,
    "start_time": "2023-01-27T17:04:22.291Z"
   },
   {
    "duration": 29,
    "start_time": "2023-01-27T17:04:22.317Z"
   },
   {
    "duration": 32,
    "start_time": "2023-01-27T17:04:22.348Z"
   },
   {
    "duration": 9,
    "start_time": "2023-01-27T17:04:22.381Z"
   },
   {
    "duration": 3,
    "start_time": "2023-01-27T17:04:22.392Z"
   },
   {
    "duration": 20,
    "start_time": "2023-01-27T17:04:22.396Z"
   },
   {
    "duration": 34,
    "start_time": "2023-01-27T17:04:22.418Z"
   },
   {
    "duration": 5,
    "start_time": "2023-01-27T17:04:22.453Z"
   },
   {
    "duration": 7,
    "start_time": "2023-01-27T17:04:22.459Z"
   },
   {
    "duration": 289,
    "start_time": "2023-01-27T17:04:22.468Z"
   },
   {
    "duration": 18,
    "start_time": "2023-01-27T17:04:22.758Z"
   },
   {
    "duration": 211,
    "start_time": "2023-01-27T17:04:22.777Z"
   },
   {
    "duration": 5,
    "start_time": "2023-01-27T17:04:22.989Z"
   },
   {
    "duration": 6,
    "start_time": "2023-01-27T17:04:22.995Z"
   },
   {
    "duration": 38,
    "start_time": "2023-01-27T17:04:23.003Z"
   },
   {
    "duration": 11,
    "start_time": "2023-01-27T17:04:23.043Z"
   },
   {
    "duration": 4,
    "start_time": "2023-01-27T17:04:23.056Z"
   },
   {
    "duration": 5,
    "start_time": "2023-01-27T17:04:23.062Z"
   },
   {
    "duration": 5,
    "start_time": "2023-01-27T17:04:23.069Z"
   },
   {
    "duration": 71,
    "start_time": "2023-01-27T17:04:23.078Z"
   },
   {
    "duration": 40,
    "start_time": "2023-01-27T17:04:23.150Z"
   },
   {
    "duration": 51,
    "start_time": "2023-01-27T17:04:23.192Z"
   },
   {
    "duration": 6,
    "start_time": "2023-01-27T17:04:23.245Z"
   },
   {
    "duration": 26,
    "start_time": "2023-01-27T17:04:23.252Z"
   },
   {
    "duration": 30,
    "start_time": "2023-01-27T17:04:23.279Z"
   },
   {
    "duration": 63,
    "start_time": "2023-01-27T17:04:23.311Z"
   },
   {
    "duration": 45,
    "start_time": "2023-01-27T17:04:23.375Z"
   },
   {
    "duration": 52,
    "start_time": "2023-01-27T17:04:23.421Z"
   },
   {
    "duration": 22,
    "start_time": "2023-01-27T17:04:23.475Z"
   },
   {
    "duration": 42,
    "start_time": "2023-01-27T17:04:23.499Z"
   },
   {
    "duration": 23,
    "start_time": "2023-01-27T17:04:23.542Z"
   },
   {
    "duration": 19,
    "start_time": "2023-01-27T17:04:23.567Z"
   },
   {
    "duration": 6,
    "start_time": "2023-01-27T17:04:23.588Z"
   },
   {
    "duration": 180,
    "start_time": "2023-01-27T17:04:23.596Z"
   },
   {
    "duration": 16,
    "start_time": "2023-01-27T17:04:23.777Z"
   },
   {
    "duration": 16,
    "start_time": "2023-01-27T17:04:23.795Z"
   },
   {
    "duration": 50,
    "start_time": "2023-01-27T17:04:23.813Z"
   },
   {
    "duration": 27,
    "start_time": "2023-01-27T17:04:23.865Z"
   },
   {
    "duration": 179,
    "start_time": "2023-01-27T17:04:23.894Z"
   },
   {
    "duration": 176,
    "start_time": "2023-01-27T17:04:24.075Z"
   },
   {
    "duration": 59,
    "start_time": "2023-01-27T17:04:24.253Z"
   },
   {
    "duration": 52,
    "start_time": "2023-01-27T17:04:26.865Z"
   },
   {
    "duration": 14,
    "start_time": "2023-01-27T17:04:39.123Z"
   },
   {
    "duration": 32,
    "start_time": "2023-01-27T17:05:01.872Z"
   },
   {
    "duration": 17,
    "start_time": "2023-01-27T17:05:10.696Z"
   },
   {
    "duration": 16,
    "start_time": "2023-01-27T17:11:21.112Z"
   },
   {
    "duration": 97,
    "start_time": "2023-01-27T17:11:28.731Z"
   },
   {
    "duration": 81,
    "start_time": "2023-01-27T17:11:48.007Z"
   },
   {
    "duration": 84,
    "start_time": "2023-01-27T17:12:03.675Z"
   },
   {
    "duration": 96,
    "start_time": "2023-01-27T17:12:16.562Z"
   },
   {
    "duration": 88,
    "start_time": "2023-01-27T17:12:25.741Z"
   },
   {
    "duration": 86,
    "start_time": "2023-01-27T17:12:41.978Z"
   },
   {
    "duration": 83,
    "start_time": "2023-01-27T17:12:51.033Z"
   },
   {
    "duration": 12,
    "start_time": "2023-01-27T17:13:21.630Z"
   },
   {
    "duration": 81,
    "start_time": "2023-01-27T17:13:33.019Z"
   },
   {
    "duration": 88,
    "start_time": "2023-01-27T17:14:36.584Z"
   },
   {
    "duration": 88,
    "start_time": "2023-01-27T17:15:14.091Z"
   },
   {
    "duration": 88,
    "start_time": "2023-01-27T17:15:46.873Z"
   },
   {
    "duration": 91,
    "start_time": "2023-01-27T17:15:55.162Z"
   },
   {
    "duration": 86,
    "start_time": "2023-01-27T17:16:01.370Z"
   },
   {
    "duration": 794,
    "start_time": "2023-01-27T17:18:41.741Z"
   },
   {
    "duration": 92,
    "start_time": "2023-01-27T17:19:12.225Z"
   },
   {
    "duration": 25,
    "start_time": "2023-01-27T17:19:16.724Z"
   },
   {
    "duration": 4,
    "start_time": "2023-01-27T17:19:24.674Z"
   },
   {
    "duration": 9,
    "start_time": "2023-01-27T17:19:24.680Z"
   },
   {
    "duration": 193,
    "start_time": "2023-01-27T17:19:24.690Z"
   },
   {
    "duration": 21,
    "start_time": "2023-01-27T17:19:24.885Z"
   },
   {
    "duration": 8,
    "start_time": "2023-01-27T17:19:24.908Z"
   },
   {
    "duration": 81,
    "start_time": "2023-01-27T17:19:24.918Z"
   },
   {
    "duration": 84,
    "start_time": "2023-01-27T17:19:25.001Z"
   },
   {
    "duration": 77,
    "start_time": "2023-01-27T17:19:25.087Z"
   },
   {
    "duration": 42,
    "start_time": "2023-01-27T17:19:25.166Z"
   },
   {
    "duration": 47,
    "start_time": "2023-01-27T17:19:25.209Z"
   },
   {
    "duration": 14,
    "start_time": "2023-01-27T17:19:25.258Z"
   },
   {
    "duration": 24,
    "start_time": "2023-01-27T17:19:25.274Z"
   },
   {
    "duration": 8,
    "start_time": "2023-01-27T17:19:25.302Z"
   },
   {
    "duration": 28,
    "start_time": "2023-01-27T17:19:25.312Z"
   },
   {
    "duration": 20,
    "start_time": "2023-01-27T17:19:25.342Z"
   },
   {
    "duration": 19,
    "start_time": "2023-01-27T17:19:25.364Z"
   },
   {
    "duration": 4,
    "start_time": "2023-01-27T17:19:25.385Z"
   },
   {
    "duration": 6,
    "start_time": "2023-01-27T17:19:25.391Z"
   },
   {
    "duration": 304,
    "start_time": "2023-01-27T17:19:25.399Z"
   },
   {
    "duration": 14,
    "start_time": "2023-01-27T17:19:25.704Z"
   },
   {
    "duration": 224,
    "start_time": "2023-01-27T17:19:25.720Z"
   },
   {
    "duration": 4,
    "start_time": "2023-01-27T17:19:25.946Z"
   },
   {
    "duration": 28,
    "start_time": "2023-01-27T17:19:25.952Z"
   },
   {
    "duration": 59,
    "start_time": "2023-01-27T17:19:25.982Z"
   },
   {
    "duration": 31,
    "start_time": "2023-01-27T17:19:26.043Z"
   },
   {
    "duration": 22,
    "start_time": "2023-01-27T17:19:26.076Z"
   },
   {
    "duration": 32,
    "start_time": "2023-01-27T17:19:26.100Z"
   },
   {
    "duration": 11,
    "start_time": "2023-01-27T17:19:26.134Z"
   },
   {
    "duration": 63,
    "start_time": "2023-01-27T17:19:26.147Z"
   },
   {
    "duration": 56,
    "start_time": "2023-01-27T17:19:26.212Z"
   },
   {
    "duration": 38,
    "start_time": "2023-01-27T17:19:26.271Z"
   },
   {
    "duration": 6,
    "start_time": "2023-01-27T17:19:26.311Z"
   },
   {
    "duration": 37,
    "start_time": "2023-01-27T17:19:26.318Z"
   },
   {
    "duration": 21,
    "start_time": "2023-01-27T17:19:26.357Z"
   },
   {
    "duration": 80,
    "start_time": "2023-01-27T17:19:26.380Z"
   },
   {
    "duration": 50,
    "start_time": "2023-01-27T17:19:26.462Z"
   },
   {
    "duration": 55,
    "start_time": "2023-01-27T17:19:26.540Z"
   },
   {
    "duration": 50,
    "start_time": "2023-01-27T17:19:26.598Z"
   },
   {
    "duration": 39,
    "start_time": "2023-01-27T17:19:26.651Z"
   },
   {
    "duration": 27,
    "start_time": "2023-01-27T17:19:26.692Z"
   },
   {
    "duration": 18,
    "start_time": "2023-01-27T17:19:26.740Z"
   },
   {
    "duration": 16,
    "start_time": "2023-01-27T17:19:26.760Z"
   },
   {
    "duration": 177,
    "start_time": "2023-01-27T17:19:26.778Z"
   },
   {
    "duration": 17,
    "start_time": "2023-01-27T17:19:26.957Z"
   },
   {
    "duration": 20,
    "start_time": "2023-01-27T17:19:26.976Z"
   },
   {
    "duration": 49,
    "start_time": "2023-01-27T17:19:26.997Z"
   },
   {
    "duration": 29,
    "start_time": "2023-01-27T17:19:27.048Z"
   },
   {
    "duration": 188,
    "start_time": "2023-01-27T17:19:27.078Z"
   },
   {
    "duration": 183,
    "start_time": "2023-01-27T17:19:27.268Z"
   },
   {
    "duration": 100,
    "start_time": "2023-01-27T17:19:27.454Z"
   },
   {
    "duration": 16,
    "start_time": "2023-01-27T17:19:27.556Z"
   },
   {
    "duration": 17,
    "start_time": "2023-01-27T17:19:27.573Z"
   },
   {
    "duration": 0,
    "start_time": "2023-01-27T17:19:27.592Z"
   },
   {
    "duration": 0,
    "start_time": "2023-01-27T17:19:27.593Z"
   },
   {
    "duration": 84,
    "start_time": "2023-01-27T17:19:29.600Z"
   },
   {
    "duration": 17,
    "start_time": "2023-01-27T17:19:30.683Z"
   },
   {
    "duration": 17,
    "start_time": "2023-01-27T17:19:41.463Z"
   },
   {
    "duration": 17,
    "start_time": "2023-01-27T17:20:03.148Z"
   },
   {
    "duration": 83,
    "start_time": "2023-01-27T17:20:22.511Z"
   },
   {
    "duration": 23,
    "start_time": "2023-01-27T17:20:26.013Z"
   },
   {
    "duration": 4,
    "start_time": "2023-01-27T17:20:34.284Z"
   },
   {
    "duration": 8,
    "start_time": "2023-01-27T17:20:34.291Z"
   },
   {
    "duration": 183,
    "start_time": "2023-01-27T17:20:34.300Z"
   },
   {
    "duration": 20,
    "start_time": "2023-01-27T17:20:34.484Z"
   },
   {
    "duration": 13,
    "start_time": "2023-01-27T17:20:34.506Z"
   },
   {
    "duration": 74,
    "start_time": "2023-01-27T17:20:34.521Z"
   },
   {
    "duration": 82,
    "start_time": "2023-01-27T17:20:34.597Z"
   },
   {
    "duration": 85,
    "start_time": "2023-01-27T17:20:34.681Z"
   },
   {
    "duration": 44,
    "start_time": "2023-01-27T17:20:34.768Z"
   },
   {
    "duration": 32,
    "start_time": "2023-01-27T17:20:34.814Z"
   },
   {
    "duration": 13,
    "start_time": "2023-01-27T17:20:34.850Z"
   },
   {
    "duration": 35,
    "start_time": "2023-01-27T17:20:34.865Z"
   },
   {
    "duration": 16,
    "start_time": "2023-01-27T17:20:34.902Z"
   },
   {
    "duration": 21,
    "start_time": "2023-01-27T17:20:34.920Z"
   },
   {
    "duration": 22,
    "start_time": "2023-01-27T17:20:34.943Z"
   },
   {
    "duration": 21,
    "start_time": "2023-01-27T17:20:34.967Z"
   },
   {
    "duration": 5,
    "start_time": "2023-01-27T17:20:34.991Z"
   },
   {
    "duration": 14,
    "start_time": "2023-01-27T17:20:34.998Z"
   },
   {
    "duration": 303,
    "start_time": "2023-01-27T17:20:35.014Z"
   },
   {
    "duration": 25,
    "start_time": "2023-01-27T17:20:35.319Z"
   },
   {
    "duration": 228,
    "start_time": "2023-01-27T17:20:35.346Z"
   },
   {
    "duration": 6,
    "start_time": "2023-01-27T17:20:35.576Z"
   },
   {
    "duration": 14,
    "start_time": "2023-01-27T17:20:35.584Z"
   },
   {
    "duration": 40,
    "start_time": "2023-01-27T17:20:35.600Z"
   },
   {
    "duration": 23,
    "start_time": "2023-01-27T17:20:35.642Z"
   },
   {
    "duration": 6,
    "start_time": "2023-01-27T17:20:35.667Z"
   },
   {
    "duration": 12,
    "start_time": "2023-01-27T17:20:35.675Z"
   },
   {
    "duration": 8,
    "start_time": "2023-01-27T17:20:35.689Z"
   },
   {
    "duration": 73,
    "start_time": "2023-01-27T17:20:35.702Z"
   },
   {
    "duration": 44,
    "start_time": "2023-01-27T17:20:35.777Z"
   },
   {
    "duration": 38,
    "start_time": "2023-01-27T17:20:35.839Z"
   },
   {
    "duration": 7,
    "start_time": "2023-01-27T17:20:35.878Z"
   },
   {
    "duration": 40,
    "start_time": "2023-01-27T17:20:35.887Z"
   },
   {
    "duration": 37,
    "start_time": "2023-01-27T17:20:35.929Z"
   },
   {
    "duration": 87,
    "start_time": "2023-01-27T17:20:35.968Z"
   },
   {
    "duration": 44,
    "start_time": "2023-01-27T17:20:36.057Z"
   },
   {
    "duration": 69,
    "start_time": "2023-01-27T17:20:36.103Z"
   },
   {
    "duration": 41,
    "start_time": "2023-01-27T17:20:36.175Z"
   },
   {
    "duration": 30,
    "start_time": "2023-01-27T17:20:36.218Z"
   },
   {
    "duration": 46,
    "start_time": "2023-01-27T17:20:36.250Z"
   },
   {
    "duration": 19,
    "start_time": "2023-01-27T17:20:36.298Z"
   },
   {
    "duration": 27,
    "start_time": "2023-01-27T17:20:36.319Z"
   },
   {
    "duration": 214,
    "start_time": "2023-01-27T17:20:36.348Z"
   },
   {
    "duration": 21,
    "start_time": "2023-01-27T17:20:36.563Z"
   },
   {
    "duration": 27,
    "start_time": "2023-01-27T17:20:36.585Z"
   },
   {
    "duration": 44,
    "start_time": "2023-01-27T17:20:36.617Z"
   },
   {
    "duration": 53,
    "start_time": "2023-01-27T17:20:36.663Z"
   },
   {
    "duration": 183,
    "start_time": "2023-01-27T17:20:36.718Z"
   },
   {
    "duration": 174,
    "start_time": "2023-01-27T17:20:36.903Z"
   },
   {
    "duration": 71,
    "start_time": "2023-01-27T17:20:37.078Z"
   },
   {
    "duration": 18,
    "start_time": "2023-01-27T17:20:37.151Z"
   },
   {
    "duration": 72,
    "start_time": "2023-01-27T17:20:37.171Z"
   },
   {
    "duration": 0,
    "start_time": "2023-01-27T17:20:37.245Z"
   },
   {
    "duration": 0,
    "start_time": "2023-01-27T17:20:37.247Z"
   },
   {
    "duration": 92,
    "start_time": "2023-01-27T17:20:41.777Z"
   },
   {
    "duration": 18,
    "start_time": "2023-01-27T17:20:43.350Z"
   },
   {
    "duration": 87,
    "start_time": "2023-01-27T17:20:57.786Z"
   },
   {
    "duration": 687,
    "start_time": "2023-01-27T17:21:03.175Z"
   },
   {
    "duration": 6,
    "start_time": "2023-01-27T17:21:09.574Z"
   },
   {
    "duration": 10,
    "start_time": "2023-01-27T17:21:09.583Z"
   },
   {
    "duration": 204,
    "start_time": "2023-01-27T17:21:09.597Z"
   },
   {
    "duration": 19,
    "start_time": "2023-01-27T17:21:09.802Z"
   },
   {
    "duration": 21,
    "start_time": "2023-01-27T17:21:09.823Z"
   },
   {
    "duration": 54,
    "start_time": "2023-01-27T17:21:09.847Z"
   },
   {
    "duration": 85,
    "start_time": "2023-01-27T17:21:09.902Z"
   },
   {
    "duration": 73,
    "start_time": "2023-01-27T17:21:09.989Z"
   },
   {
    "duration": 80,
    "start_time": "2023-01-27T17:21:10.065Z"
   },
   {
    "duration": 22,
    "start_time": "2023-01-27T17:21:10.146Z"
   },
   {
    "duration": 13,
    "start_time": "2023-01-27T17:21:10.170Z"
   },
   {
    "duration": 46,
    "start_time": "2023-01-27T17:21:10.185Z"
   },
   {
    "duration": 20,
    "start_time": "2023-01-27T17:21:10.235Z"
   },
   {
    "duration": 28,
    "start_time": "2023-01-27T17:21:10.257Z"
   },
   {
    "duration": 24,
    "start_time": "2023-01-27T17:21:10.287Z"
   },
   {
    "duration": 20,
    "start_time": "2023-01-27T17:21:10.313Z"
   },
   {
    "duration": 4,
    "start_time": "2023-01-27T17:21:10.335Z"
   },
   {
    "duration": 12,
    "start_time": "2023-01-27T17:21:10.341Z"
   },
   {
    "duration": 409,
    "start_time": "2023-01-27T17:21:10.354Z"
   },
   {
    "duration": 16,
    "start_time": "2023-01-27T17:21:10.765Z"
   },
   {
    "duration": 234,
    "start_time": "2023-01-27T17:21:10.783Z"
   },
   {
    "duration": 5,
    "start_time": "2023-01-27T17:21:11.018Z"
   },
   {
    "duration": 25,
    "start_time": "2023-01-27T17:21:11.025Z"
   },
   {
    "duration": 22,
    "start_time": "2023-01-27T17:21:11.052Z"
   },
   {
    "duration": 11,
    "start_time": "2023-01-27T17:21:11.077Z"
   },
   {
    "duration": 4,
    "start_time": "2023-01-27T17:21:11.091Z"
   },
   {
    "duration": 7,
    "start_time": "2023-01-27T17:21:11.097Z"
   },
   {
    "duration": 26,
    "start_time": "2023-01-27T17:21:11.106Z"
   },
   {
    "duration": 49,
    "start_time": "2023-01-27T17:21:11.140Z"
   },
   {
    "duration": 50,
    "start_time": "2023-01-27T17:21:11.191Z"
   },
   {
    "duration": 36,
    "start_time": "2023-01-27T17:21:11.243Z"
   },
   {
    "duration": 7,
    "start_time": "2023-01-27T17:21:11.280Z"
   },
   {
    "duration": 28,
    "start_time": "2023-01-27T17:21:11.288Z"
   },
   {
    "duration": 18,
    "start_time": "2023-01-27T17:21:11.339Z"
   },
   {
    "duration": 63,
    "start_time": "2023-01-27T17:21:11.358Z"
   },
   {
    "duration": 46,
    "start_time": "2023-01-27T17:21:11.439Z"
   },
   {
    "duration": 52,
    "start_time": "2023-01-27T17:21:11.489Z"
   },
   {
    "duration": 22,
    "start_time": "2023-01-27T17:21:11.543Z"
   },
   {
    "duration": 24,
    "start_time": "2023-01-27T17:21:11.567Z"
   },
   {
    "duration": 49,
    "start_time": "2023-01-27T17:21:11.593Z"
   },
   {
    "duration": 18,
    "start_time": "2023-01-27T17:21:11.644Z"
   },
   {
    "duration": 7,
    "start_time": "2023-01-27T17:21:11.664Z"
   },
   {
    "duration": 182,
    "start_time": "2023-01-27T17:21:11.673Z"
   },
   {
    "duration": 28,
    "start_time": "2023-01-27T17:21:11.858Z"
   },
   {
    "duration": 18,
    "start_time": "2023-01-27T17:21:11.888Z"
   },
   {
    "duration": 51,
    "start_time": "2023-01-27T17:21:11.907Z"
   },
   {
    "duration": 28,
    "start_time": "2023-01-27T17:21:11.960Z"
   },
   {
    "duration": 205,
    "start_time": "2023-01-27T17:21:11.990Z"
   },
   {
    "duration": 188,
    "start_time": "2023-01-27T17:21:12.197Z"
   },
   {
    "duration": 69,
    "start_time": "2023-01-27T17:21:12.388Z"
   },
   {
    "duration": 16,
    "start_time": "2023-01-27T17:21:12.459Z"
   },
   {
    "duration": 759,
    "start_time": "2023-01-27T17:21:12.477Z"
   },
   {
    "duration": 0,
    "start_time": "2023-01-27T17:21:13.238Z"
   },
   {
    "duration": 0,
    "start_time": "2023-01-27T17:21:13.239Z"
   },
   {
    "duration": 83,
    "start_time": "2023-01-27T17:21:14.710Z"
   },
   {
    "duration": 737,
    "start_time": "2023-01-27T17:21:15.375Z"
   },
   {
    "duration": 725,
    "start_time": "2023-01-27T17:21:45.610Z"
   },
   {
    "duration": 5,
    "start_time": "2023-01-27T17:22:19.429Z"
   },
   {
    "duration": 6,
    "start_time": "2023-01-27T17:22:19.436Z"
   },
   {
    "duration": 207,
    "start_time": "2023-01-27T17:22:19.444Z"
   },
   {
    "duration": 21,
    "start_time": "2023-01-27T17:22:19.653Z"
   },
   {
    "duration": 8,
    "start_time": "2023-01-27T17:22:19.676Z"
   },
   {
    "duration": 82,
    "start_time": "2023-01-27T17:22:19.686Z"
   },
   {
    "duration": 78,
    "start_time": "2023-01-27T17:22:19.770Z"
   },
   {
    "duration": 72,
    "start_time": "2023-01-27T17:22:19.850Z"
   },
   {
    "duration": 50,
    "start_time": "2023-01-27T17:22:19.925Z"
   },
   {
    "duration": 23,
    "start_time": "2023-01-27T17:22:19.977Z"
   },
   {
    "duration": 13,
    "start_time": "2023-01-27T17:22:20.002Z"
   },
   {
    "duration": 25,
    "start_time": "2023-01-27T17:22:20.040Z"
   },
   {
    "duration": 29,
    "start_time": "2023-01-27T17:22:20.067Z"
   },
   {
    "duration": 16,
    "start_time": "2023-01-27T17:22:20.098Z"
   },
   {
    "duration": 32,
    "start_time": "2023-01-27T17:22:20.116Z"
   },
   {
    "duration": 22,
    "start_time": "2023-01-27T17:22:20.150Z"
   },
   {
    "duration": 4,
    "start_time": "2023-01-27T17:22:20.174Z"
   },
   {
    "duration": 9,
    "start_time": "2023-01-27T17:22:20.180Z"
   },
   {
    "duration": 309,
    "start_time": "2023-01-27T17:22:20.191Z"
   },
   {
    "duration": 18,
    "start_time": "2023-01-27T17:22:20.502Z"
   },
   {
    "duration": 216,
    "start_time": "2023-01-27T17:22:20.522Z"
   },
   {
    "duration": 5,
    "start_time": "2023-01-27T17:22:20.740Z"
   },
   {
    "duration": 20,
    "start_time": "2023-01-27T17:22:20.747Z"
   },
   {
    "duration": 37,
    "start_time": "2023-01-27T17:22:20.772Z"
   },
   {
    "duration": 11,
    "start_time": "2023-01-27T17:22:20.811Z"
   },
   {
    "duration": 20,
    "start_time": "2023-01-27T17:22:20.824Z"
   },
   {
    "duration": 7,
    "start_time": "2023-01-27T17:22:20.845Z"
   },
   {
    "duration": 20,
    "start_time": "2023-01-27T17:22:20.854Z"
   },
   {
    "duration": 62,
    "start_time": "2023-01-27T17:22:20.876Z"
   },
   {
    "duration": 40,
    "start_time": "2023-01-27T17:22:20.939Z"
   },
   {
    "duration": 36,
    "start_time": "2023-01-27T17:22:20.981Z"
   },
   {
    "duration": 23,
    "start_time": "2023-01-27T17:22:21.019Z"
   },
   {
    "duration": 63,
    "start_time": "2023-01-27T17:22:21.045Z"
   },
   {
    "duration": 39,
    "start_time": "2023-01-27T17:22:21.110Z"
   },
   {
    "duration": 66,
    "start_time": "2023-01-27T17:22:21.151Z"
   },
   {
    "duration": 58,
    "start_time": "2023-01-27T17:22:21.218Z"
   },
   {
    "duration": 38,
    "start_time": "2023-01-27T17:22:21.278Z"
   },
   {
    "duration": 40,
    "start_time": "2023-01-27T17:22:21.319Z"
   },
   {
    "duration": 24,
    "start_time": "2023-01-27T17:22:21.360Z"
   },
   {
    "duration": 24,
    "start_time": "2023-01-27T17:22:21.386Z"
   },
   {
    "duration": 41,
    "start_time": "2023-01-27T17:22:21.412Z"
   },
   {
    "duration": 14,
    "start_time": "2023-01-27T17:22:21.455Z"
   },
   {
    "duration": 171,
    "start_time": "2023-01-27T17:22:21.471Z"
   },
   {
    "duration": 17,
    "start_time": "2023-01-27T17:22:21.644Z"
   },
   {
    "duration": 16,
    "start_time": "2023-01-27T17:22:21.663Z"
   },
   {
    "duration": 31,
    "start_time": "2023-01-27T17:22:21.681Z"
   },
   {
    "duration": 28,
    "start_time": "2023-01-27T17:22:21.741Z"
   },
   {
    "duration": 181,
    "start_time": "2023-01-27T17:22:21.770Z"
   },
   {
    "duration": 174,
    "start_time": "2023-01-27T17:22:21.953Z"
   },
   {
    "duration": 63,
    "start_time": "2023-01-27T17:22:22.129Z"
   },
   {
    "duration": 17,
    "start_time": "2023-01-27T17:22:22.194Z"
   },
   {
    "duration": 733,
    "start_time": "2023-01-27T17:22:22.213Z"
   },
   {
    "duration": 0,
    "start_time": "2023-01-27T17:22:22.949Z"
   },
   {
    "duration": 93,
    "start_time": "2023-01-27T17:22:24.781Z"
   },
   {
    "duration": 700,
    "start_time": "2023-01-27T17:22:25.474Z"
   },
   {
    "duration": 85,
    "start_time": "2023-01-27T17:22:45.816Z"
   },
   {
    "duration": 741,
    "start_time": "2023-01-27T17:22:46.649Z"
   },
   {
    "duration": 88,
    "start_time": "2023-01-27T17:23:29.599Z"
   },
   {
    "duration": 779,
    "start_time": "2023-01-27T17:23:32.500Z"
   },
   {
    "duration": 90,
    "start_time": "2023-01-27T17:23:40.693Z"
   },
   {
    "duration": 735,
    "start_time": "2023-01-27T17:23:41.338Z"
   },
   {
    "duration": 10,
    "start_time": "2023-01-27T17:23:55.552Z"
   },
   {
    "duration": 83,
    "start_time": "2023-01-27T17:24:10.144Z"
   },
   {
    "duration": 9,
    "start_time": "2023-01-27T17:24:12.072Z"
   },
   {
    "duration": 17,
    "start_time": "2023-01-27T17:24:16.375Z"
   },
   {
    "duration": 15,
    "start_time": "2023-01-27T17:24:30.526Z"
   },
   {
    "duration": 17,
    "start_time": "2023-01-27T17:24:40.449Z"
   },
   {
    "duration": 15,
    "start_time": "2023-01-27T17:24:43.895Z"
   },
   {
    "duration": 16,
    "start_time": "2023-01-27T17:24:47.534Z"
   },
   {
    "duration": 15,
    "start_time": "2023-01-27T17:26:59.232Z"
   },
   {
    "duration": 16,
    "start_time": "2023-01-27T17:27:18.050Z"
   },
   {
    "duration": 20,
    "start_time": "2023-01-27T17:27:38.970Z"
   },
   {
    "duration": 16,
    "start_time": "2023-01-27T17:27:50.767Z"
   },
   {
    "duration": 15,
    "start_time": "2023-01-27T17:28:09.502Z"
   },
   {
    "duration": 8,
    "start_time": "2023-01-27T17:28:32.209Z"
   },
   {
    "duration": 765,
    "start_time": "2023-01-27T17:30:13.300Z"
   },
   {
    "duration": 905,
    "start_time": "2023-01-27T17:30:39.877Z"
   },
   {
    "duration": 12,
    "start_time": "2023-01-27T17:30:44.941Z"
   },
   {
    "duration": 9,
    "start_time": "2023-01-27T17:30:52.079Z"
   },
   {
    "duration": 9,
    "start_time": "2023-01-27T17:31:01.544Z"
   },
   {
    "duration": 78,
    "start_time": "2023-01-27T17:31:04.616Z"
   },
   {
    "duration": 8,
    "start_time": "2023-01-27T17:31:05.180Z"
   },
   {
    "duration": 9,
    "start_time": "2023-01-27T17:31:23.588Z"
   },
   {
    "duration": 14,
    "start_time": "2023-01-27T17:31:33.510Z"
   },
   {
    "duration": 10,
    "start_time": "2023-01-27T17:31:36.640Z"
   },
   {
    "duration": 3,
    "start_time": "2023-01-27T17:31:53.843Z"
   },
   {
    "duration": 10,
    "start_time": "2023-01-27T17:31:53.848Z"
   },
   {
    "duration": 203,
    "start_time": "2023-01-27T17:31:53.859Z"
   },
   {
    "duration": 19,
    "start_time": "2023-01-27T17:31:54.065Z"
   },
   {
    "duration": 22,
    "start_time": "2023-01-27T17:31:54.086Z"
   },
   {
    "duration": 74,
    "start_time": "2023-01-27T17:31:54.110Z"
   },
   {
    "duration": 70,
    "start_time": "2023-01-27T17:31:54.186Z"
   },
   {
    "duration": 82,
    "start_time": "2023-01-27T17:31:54.258Z"
   },
   {
    "duration": 45,
    "start_time": "2023-01-27T17:31:54.343Z"
   },
   {
    "duration": 34,
    "start_time": "2023-01-27T17:31:54.389Z"
   },
   {
    "duration": 25,
    "start_time": "2023-01-27T17:31:54.425Z"
   },
   {
    "duration": 51,
    "start_time": "2023-01-27T17:31:54.452Z"
   },
   {
    "duration": 32,
    "start_time": "2023-01-27T17:31:54.505Z"
   },
   {
    "duration": 35,
    "start_time": "2023-01-27T17:31:54.539Z"
   },
   {
    "duration": 38,
    "start_time": "2023-01-27T17:31:54.576Z"
   },
   {
    "duration": 21,
    "start_time": "2023-01-27T17:31:54.616Z"
   },
   {
    "duration": 9,
    "start_time": "2023-01-27T17:31:54.639Z"
   },
   {
    "duration": 18,
    "start_time": "2023-01-27T17:31:54.650Z"
   },
   {
    "duration": 304,
    "start_time": "2023-01-27T17:31:54.670Z"
   },
   {
    "duration": 13,
    "start_time": "2023-01-27T17:31:54.977Z"
   },
   {
    "duration": 235,
    "start_time": "2023-01-27T17:31:54.992Z"
   },
   {
    "duration": 15,
    "start_time": "2023-01-27T17:31:55.229Z"
   },
   {
    "duration": 55,
    "start_time": "2023-01-27T17:31:55.246Z"
   },
   {
    "duration": 53,
    "start_time": "2023-01-27T17:31:55.305Z"
   },
   {
    "duration": 26,
    "start_time": "2023-01-27T17:31:55.360Z"
   },
   {
    "duration": 24,
    "start_time": "2023-01-27T17:31:55.388Z"
   },
   {
    "duration": 47,
    "start_time": "2023-01-27T17:31:55.414Z"
   },
   {
    "duration": 35,
    "start_time": "2023-01-27T17:31:55.464Z"
   },
   {
    "duration": 66,
    "start_time": "2023-01-27T17:31:55.501Z"
   },
   {
    "duration": 42,
    "start_time": "2023-01-27T17:31:55.568Z"
   },
   {
    "duration": 45,
    "start_time": "2023-01-27T17:31:55.612Z"
   },
   {
    "duration": 7,
    "start_time": "2023-01-27T17:31:55.658Z"
   },
   {
    "duration": 52,
    "start_time": "2023-01-27T17:31:55.666Z"
   },
   {
    "duration": 47,
    "start_time": "2023-01-27T17:31:55.719Z"
   },
   {
    "duration": 89,
    "start_time": "2023-01-27T17:31:55.767Z"
   },
   {
    "duration": 45,
    "start_time": "2023-01-27T17:31:55.857Z"
   },
   {
    "duration": 55,
    "start_time": "2023-01-27T17:31:55.903Z"
   },
   {
    "duration": 26,
    "start_time": "2023-01-27T17:31:55.960Z"
   },
   {
    "duration": 27,
    "start_time": "2023-01-27T17:31:55.988Z"
   },
   {
    "duration": 25,
    "start_time": "2023-01-27T17:31:56.039Z"
   },
   {
    "duration": 52,
    "start_time": "2023-01-27T17:31:56.066Z"
   },
   {
    "duration": 26,
    "start_time": "2023-01-27T17:31:56.119Z"
   },
   {
    "duration": 193,
    "start_time": "2023-01-27T17:31:56.147Z"
   },
   {
    "duration": 16,
    "start_time": "2023-01-27T17:31:56.342Z"
   },
   {
    "duration": 15,
    "start_time": "2023-01-27T17:31:56.360Z"
   },
   {
    "duration": 32,
    "start_time": "2023-01-27T17:31:56.377Z"
   },
   {
    "duration": 44,
    "start_time": "2023-01-27T17:31:56.411Z"
   },
   {
    "duration": 178,
    "start_time": "2023-01-27T17:31:56.457Z"
   },
   {
    "duration": 174,
    "start_time": "2023-01-27T17:31:56.640Z"
   },
   {
    "duration": 65,
    "start_time": "2023-01-27T17:31:56.816Z"
   },
   {
    "duration": 15,
    "start_time": "2023-01-27T17:31:56.883Z"
   },
   {
    "duration": 24,
    "start_time": "2023-01-27T17:31:56.900Z"
   },
   {
    "duration": 0,
    "start_time": "2023-01-27T17:31:56.926Z"
   },
   {
    "duration": 86,
    "start_time": "2023-01-27T17:32:07.032Z"
   },
   {
    "duration": 9,
    "start_time": "2023-01-27T17:32:07.761Z"
   },
   {
    "duration": 8,
    "start_time": "2023-01-27T17:32:13.125Z"
   },
   {
    "duration": 13,
    "start_time": "2023-01-27T17:32:35.802Z"
   },
   {
    "duration": 70,
    "start_time": "2023-01-27T17:33:10.837Z"
   },
   {
    "duration": 61,
    "start_time": "2023-01-27T17:34:20.974Z"
   },
   {
    "duration": 16,
    "start_time": "2023-01-27T17:34:21.549Z"
   },
   {
    "duration": 5,
    "start_time": "2023-01-27T17:46:27.872Z"
   },
   {
    "duration": 11,
    "start_time": "2023-01-27T17:46:27.879Z"
   },
   {
    "duration": 198,
    "start_time": "2023-01-27T17:46:27.892Z"
   },
   {
    "duration": 21,
    "start_time": "2023-01-27T17:46:28.091Z"
   },
   {
    "duration": 29,
    "start_time": "2023-01-27T17:46:28.115Z"
   },
   {
    "duration": 67,
    "start_time": "2023-01-27T17:46:28.146Z"
   },
   {
    "duration": 88,
    "start_time": "2023-01-27T17:46:28.214Z"
   },
   {
    "duration": 81,
    "start_time": "2023-01-27T17:46:28.304Z"
   },
   {
    "duration": 44,
    "start_time": "2023-01-27T17:46:28.388Z"
   },
   {
    "duration": 22,
    "start_time": "2023-01-27T17:46:28.441Z"
   },
   {
    "duration": 13,
    "start_time": "2023-01-27T17:46:28.466Z"
   },
   {
    "duration": 30,
    "start_time": "2023-01-27T17:46:28.480Z"
   },
   {
    "duration": 31,
    "start_time": "2023-01-27T17:46:28.512Z"
   },
   {
    "duration": 4,
    "start_time": "2023-01-27T17:46:28.544Z"
   },
   {
    "duration": 36,
    "start_time": "2023-01-27T17:46:28.550Z"
   },
   {
    "duration": 20,
    "start_time": "2023-01-27T17:46:28.588Z"
   },
   {
    "duration": 4,
    "start_time": "2023-01-27T17:46:28.610Z"
   },
   {
    "duration": 7,
    "start_time": "2023-01-27T17:46:28.616Z"
   },
   {
    "duration": 318,
    "start_time": "2023-01-27T17:46:28.624Z"
   },
   {
    "duration": 19,
    "start_time": "2023-01-27T17:46:28.944Z"
   },
   {
    "duration": 250,
    "start_time": "2023-01-27T17:46:28.965Z"
   },
   {
    "duration": 5,
    "start_time": "2023-01-27T17:46:29.216Z"
   },
   {
    "duration": 38,
    "start_time": "2023-01-27T17:46:29.222Z"
   },
   {
    "duration": 61,
    "start_time": "2023-01-27T17:46:29.262Z"
   },
   {
    "duration": 24,
    "start_time": "2023-01-27T17:46:29.325Z"
   },
   {
    "duration": 13,
    "start_time": "2023-01-27T17:46:29.351Z"
   },
   {
    "duration": 28,
    "start_time": "2023-01-27T17:46:29.366Z"
   },
   {
    "duration": 50,
    "start_time": "2023-01-27T17:46:29.396Z"
   },
   {
    "duration": 65,
    "start_time": "2023-01-27T17:46:29.450Z"
   },
   {
    "duration": 44,
    "start_time": "2023-01-27T17:46:29.517Z"
   },
   {
    "duration": 37,
    "start_time": "2023-01-27T17:46:29.563Z"
   },
   {
    "duration": 6,
    "start_time": "2023-01-27T17:46:29.602Z"
   },
   {
    "duration": 46,
    "start_time": "2023-01-27T17:46:29.610Z"
   },
   {
    "duration": 31,
    "start_time": "2023-01-27T17:46:29.658Z"
   },
   {
    "duration": 180,
    "start_time": "2023-01-27T17:46:29.692Z"
   },
   {
    "duration": 46,
    "start_time": "2023-01-27T17:46:29.873Z"
   },
   {
    "duration": 61,
    "start_time": "2023-01-27T17:46:29.921Z"
   },
   {
    "duration": 22,
    "start_time": "2023-01-27T17:46:29.984Z"
   },
   {
    "duration": 36,
    "start_time": "2023-01-27T17:46:30.008Z"
   },
   {
    "duration": 23,
    "start_time": "2023-01-27T17:46:30.046Z"
   },
   {
    "duration": 19,
    "start_time": "2023-01-27T17:46:30.071Z"
   },
   {
    "duration": 14,
    "start_time": "2023-01-27T17:46:30.092Z"
   },
   {
    "duration": 190,
    "start_time": "2023-01-27T17:46:30.107Z"
   },
   {
    "duration": 15,
    "start_time": "2023-01-27T17:46:30.298Z"
   },
   {
    "duration": 55,
    "start_time": "2023-01-27T17:46:30.315Z"
   },
   {
    "duration": 31,
    "start_time": "2023-01-27T17:46:30.372Z"
   },
   {
    "duration": 35,
    "start_time": "2023-01-27T17:46:30.405Z"
   },
   {
    "duration": 160,
    "start_time": "2023-01-27T17:46:30.442Z"
   },
   {
    "duration": 185,
    "start_time": "2023-01-27T17:46:30.604Z"
   },
   {
    "duration": 66,
    "start_time": "2023-01-27T17:46:30.791Z"
   },
   {
    "duration": 16,
    "start_time": "2023-01-27T17:46:30.859Z"
   },
   {
    "duration": 93,
    "start_time": "2023-01-27T17:46:30.877Z"
   },
   {
    "duration": 0,
    "start_time": "2023-01-27T17:46:30.972Z"
   },
   {
    "duration": 0,
    "start_time": "2023-01-27T17:46:30.974Z"
   },
   {
    "duration": 0,
    "start_time": "2023-01-27T17:46:30.975Z"
   },
   {
    "duration": 7,
    "start_time": "2023-01-27T17:46:45.654Z"
   },
   {
    "duration": 154,
    "start_time": "2023-01-27T17:46:46.269Z"
   },
   {
    "duration": 73,
    "start_time": "2023-01-27T17:47:12.197Z"
   },
   {
    "duration": 3,
    "start_time": "2023-01-27T17:47:31.038Z"
   },
   {
    "duration": 8,
    "start_time": "2023-01-27T17:48:08.284Z"
   },
   {
    "duration": 52,
    "start_time": "2023-01-27T17:50:51.782Z"
   },
   {
    "duration": 49,
    "start_time": "2023-01-27T17:54:07.859Z"
   },
   {
    "duration": 4,
    "start_time": "2023-01-27T17:54:29.377Z"
   },
   {
    "duration": 3,
    "start_time": "2023-01-27T17:54:31.941Z"
   },
   {
    "duration": 63,
    "start_time": "2023-01-27T17:54:46.609Z"
   },
   {
    "duration": 5,
    "start_time": "2023-01-27T17:55:04.226Z"
   },
   {
    "duration": 48,
    "start_time": "2023-01-27T17:55:06.766Z"
   },
   {
    "duration": 52,
    "start_time": "2023-01-27T17:55:44.313Z"
   },
   {
    "duration": 51,
    "start_time": "2023-01-27T17:56:22.057Z"
   },
   {
    "duration": 227,
    "start_time": "2023-01-27T17:56:36.517Z"
   },
   {
    "duration": 148,
    "start_time": "2023-01-27T17:56:50.561Z"
   },
   {
    "duration": 162,
    "start_time": "2023-01-27T18:00:45.512Z"
   },
   {
    "duration": 13,
    "start_time": "2023-01-27T18:00:57.767Z"
   },
   {
    "duration": 13,
    "start_time": "2023-01-27T18:01:03.913Z"
   },
   {
    "duration": 50,
    "start_time": "2023-01-27T18:01:06.830Z"
   },
   {
    "duration": 54,
    "start_time": "2023-01-27T18:03:10.435Z"
   },
   {
    "duration": 34,
    "start_time": "2023-01-27T18:03:17.709Z"
   },
   {
    "duration": 10,
    "start_time": "2023-01-27T18:04:00.363Z"
   },
   {
    "duration": 47,
    "start_time": "2023-01-27T18:04:12.469Z"
   },
   {
    "duration": 9,
    "start_time": "2023-01-27T18:04:20.685Z"
   },
   {
    "duration": 10,
    "start_time": "2023-01-27T18:04:31.582Z"
   },
   {
    "duration": 10,
    "start_time": "2023-01-27T18:04:46.148Z"
   },
   {
    "duration": 4,
    "start_time": "2023-01-27T18:08:10.462Z"
   },
   {
    "duration": 13,
    "start_time": "2023-01-27T18:08:16.260Z"
   },
   {
    "duration": 18,
    "start_time": "2023-01-27T18:08:25.231Z"
   },
   {
    "duration": 17,
    "start_time": "2023-01-27T18:08:30.838Z"
   },
   {
    "duration": 16,
    "start_time": "2023-01-27T18:08:47.333Z"
   },
   {
    "duration": 16,
    "start_time": "2023-01-27T18:09:37.875Z"
   },
   {
    "duration": 18,
    "start_time": "2023-01-27T18:10:19.044Z"
   },
   {
    "duration": 46,
    "start_time": "2023-01-27T18:10:48.402Z"
   },
   {
    "duration": 15,
    "start_time": "2023-01-27T18:11:38.853Z"
   },
   {
    "duration": 16,
    "start_time": "2023-01-27T18:11:58.949Z"
   },
   {
    "duration": 51,
    "start_time": "2023-01-27T18:13:00.867Z"
   },
   {
    "duration": 43,
    "start_time": "2023-01-27T18:13:06.478Z"
   },
   {
    "duration": 45,
    "start_time": "2023-01-27T18:26:11.280Z"
   },
   {
    "duration": 43,
    "start_time": "2023-01-27T18:27:00.719Z"
   },
   {
    "duration": 45,
    "start_time": "2023-01-27T18:27:05.089Z"
   },
   {
    "duration": 46,
    "start_time": "2023-01-27T18:28:14.156Z"
   },
   {
    "duration": 44,
    "start_time": "2023-01-27T18:28:21.198Z"
   },
   {
    "duration": 47,
    "start_time": "2023-01-27T18:28:30.393Z"
   },
   {
    "duration": 1557,
    "start_time": "2023-01-27T20:32:29.391Z"
   },
   {
    "duration": 6,
    "start_time": "2023-01-27T20:32:30.951Z"
   },
   {
    "duration": 994,
    "start_time": "2023-01-27T20:32:30.958Z"
   },
   {
    "duration": 34,
    "start_time": "2023-01-27T20:32:31.958Z"
   },
   {
    "duration": 21,
    "start_time": "2023-01-27T20:32:31.994Z"
   },
   {
    "duration": 95,
    "start_time": "2023-01-27T20:32:32.017Z"
   },
   {
    "duration": 80,
    "start_time": "2023-01-27T20:32:32.197Z"
   },
   {
    "duration": 110,
    "start_time": "2023-01-27T20:32:32.731Z"
   },
   {
    "duration": 41,
    "start_time": "2023-01-27T20:32:32.971Z"
   },
   {
    "duration": 23,
    "start_time": "2023-01-27T20:32:33.271Z"
   },
   {
    "duration": 13,
    "start_time": "2023-01-27T20:32:34.482Z"
   },
   {
    "duration": 32,
    "start_time": "2023-01-27T20:32:34.713Z"
   },
   {
    "duration": 14,
    "start_time": "2023-01-27T20:32:35.356Z"
   },
   {
    "duration": 4,
    "start_time": "2023-01-27T20:32:35.570Z"
   },
   {
    "duration": 31,
    "start_time": "2023-01-27T20:32:35.971Z"
   },
   {
    "duration": 21,
    "start_time": "2023-01-27T20:32:36.414Z"
   },
   {
    "duration": 5,
    "start_time": "2023-01-27T20:32:37.013Z"
   },
   {
    "duration": 4,
    "start_time": "2023-01-27T20:32:37.219Z"
   },
   {
    "duration": 521,
    "start_time": "2023-01-27T20:32:37.443Z"
   },
   {
    "duration": 24,
    "start_time": "2023-01-27T20:32:37.972Z"
   },
   {
    "duration": 275,
    "start_time": "2023-01-27T20:32:38.035Z"
   },
   {
    "duration": 6,
    "start_time": "2023-01-27T20:32:38.467Z"
   },
   {
    "duration": 6,
    "start_time": "2023-01-27T20:32:38.668Z"
   },
   {
    "duration": 27,
    "start_time": "2023-01-27T20:32:40.009Z"
   },
   {
    "duration": 1506,
    "start_time": "2023-01-27T20:33:21.149Z"
   },
   {
    "duration": 5,
    "start_time": "2023-01-27T20:33:22.657Z"
   },
   {
    "duration": 310,
    "start_time": "2023-01-27T20:33:22.666Z"
   },
   {
    "duration": 38,
    "start_time": "2023-01-27T20:33:22.987Z"
   },
   {
    "duration": 37,
    "start_time": "2023-01-27T20:33:23.029Z"
   },
   {
    "duration": 101,
    "start_time": "2023-01-27T20:33:23.074Z"
   },
   {
    "duration": 93,
    "start_time": "2023-01-27T20:33:23.177Z"
   },
   {
    "duration": 105,
    "start_time": "2023-01-27T20:33:23.276Z"
   },
   {
    "duration": 62,
    "start_time": "2023-01-27T20:33:23.383Z"
   },
   {
    "duration": 70,
    "start_time": "2023-01-27T20:33:23.448Z"
   },
   {
    "duration": 14,
    "start_time": "2023-01-27T20:33:23.521Z"
   },
   {
    "duration": 69,
    "start_time": "2023-01-27T20:33:23.540Z"
   },
   {
    "duration": 13,
    "start_time": "2023-01-27T20:33:23.611Z"
   },
   {
    "duration": 13,
    "start_time": "2023-01-27T20:33:23.629Z"
   },
   {
    "duration": 63,
    "start_time": "2023-01-27T20:33:23.649Z"
   },
   {
    "duration": 38,
    "start_time": "2023-01-27T20:33:23.714Z"
   },
   {
    "duration": 24,
    "start_time": "2023-01-27T20:33:23.755Z"
   },
   {
    "duration": 11,
    "start_time": "2023-01-27T20:33:23.781Z"
   },
   {
    "duration": 470,
    "start_time": "2023-01-27T20:33:23.794Z"
   },
   {
    "duration": 22,
    "start_time": "2023-01-27T20:33:24.268Z"
   },
   {
    "duration": 235,
    "start_time": "2023-01-27T20:33:24.292Z"
   },
   {
    "duration": 8,
    "start_time": "2023-01-27T20:33:24.529Z"
   },
   {
    "duration": 42,
    "start_time": "2023-01-27T20:33:24.543Z"
   },
   {
    "duration": 29,
    "start_time": "2023-01-27T20:33:24.587Z"
   },
   {
    "duration": 13,
    "start_time": "2023-01-27T20:33:24.618Z"
   },
   {
    "duration": 40,
    "start_time": "2023-01-27T20:33:24.633Z"
   },
   {
    "duration": 14,
    "start_time": "2023-01-27T20:33:24.678Z"
   },
   {
    "duration": 19,
    "start_time": "2023-01-27T20:33:24.694Z"
   },
   {
    "duration": 85,
    "start_time": "2023-01-27T20:33:24.715Z"
   },
   {
    "duration": 49,
    "start_time": "2023-01-27T20:33:24.802Z"
   },
   {
    "duration": 49,
    "start_time": "2023-01-27T20:33:24.853Z"
   },
   {
    "duration": 7,
    "start_time": "2023-01-27T20:33:24.904Z"
   },
   {
    "duration": 66,
    "start_time": "2023-01-27T20:33:24.913Z"
   },
   {
    "duration": 27,
    "start_time": "2023-01-27T20:33:24.981Z"
   },
   {
    "duration": 85,
    "start_time": "2023-01-27T20:33:25.010Z"
   },
   {
    "duration": 903,
    "start_time": "2023-01-27T20:33:25.096Z"
   },
   {
    "duration": 48,
    "start_time": "2023-01-27T20:33:26.000Z"
   },
   {
    "duration": 26,
    "start_time": "2023-01-27T20:33:26.052Z"
   },
   {
    "duration": 84,
    "start_time": "2023-01-27T20:33:26.080Z"
   },
   {
    "duration": 78,
    "start_time": "2023-01-27T20:33:26.167Z"
   },
   {
    "duration": 36,
    "start_time": "2023-01-27T20:33:26.249Z"
   },
   {
    "duration": 38,
    "start_time": "2023-01-27T20:33:26.338Z"
   },
   {
    "duration": 303,
    "start_time": "2023-01-27T20:33:26.379Z"
   },
   {
    "duration": 90,
    "start_time": "2023-01-27T20:33:26.684Z"
   },
   {
    "duration": 28,
    "start_time": "2023-01-27T20:33:26.778Z"
   },
   {
    "duration": 77,
    "start_time": "2023-01-27T20:33:26.808Z"
   },
   {
    "duration": 52,
    "start_time": "2023-01-27T20:33:26.887Z"
   },
   {
    "duration": 185,
    "start_time": "2023-01-27T20:33:26.941Z"
   },
   {
    "duration": 194,
    "start_time": "2023-01-27T20:33:27.128Z"
   },
   {
    "duration": 90,
    "start_time": "2023-01-27T20:33:27.323Z"
   },
   {
    "duration": 9,
    "start_time": "2023-01-27T20:33:27.415Z"
   },
   {
    "duration": 125,
    "start_time": "2023-01-27T20:33:27.443Z"
   },
   {
    "duration": 4,
    "start_time": "2023-01-27T20:33:27.572Z"
   },
   {
    "duration": 15,
    "start_time": "2023-01-27T20:33:27.578Z"
   },
   {
    "duration": 206,
    "start_time": "2023-01-27T20:33:27.596Z"
   },
   {
    "duration": 200,
    "start_time": "2023-01-27T20:36:21.087Z"
   },
   {
    "duration": 112,
    "start_time": "2023-01-27T20:36:59.164Z"
   },
   {
    "duration": 108,
    "start_time": "2023-01-27T20:37:07.396Z"
   },
   {
    "duration": 42,
    "start_time": "2023-01-27T20:37:18.028Z"
   },
   {
    "duration": 111,
    "start_time": "2023-01-27T20:38:02.791Z"
   },
   {
    "duration": 109,
    "start_time": "2023-01-27T20:38:14.423Z"
   },
   {
    "duration": 1193,
    "start_time": "2023-06-12T10:09:12.509Z"
   },
   {
    "duration": 3,
    "start_time": "2023-06-12T10:09:13.705Z"
   },
   {
    "duration": 874,
    "start_time": "2023-06-12T10:09:13.710Z"
   },
   {
    "duration": 21,
    "start_time": "2023-06-12T10:09:14.587Z"
   },
   {
    "duration": 12,
    "start_time": "2023-06-12T10:09:14.609Z"
   },
   {
    "duration": 71,
    "start_time": "2023-06-12T10:09:14.622Z"
   },
   {
    "duration": 74,
    "start_time": "2023-06-12T10:09:14.694Z"
   },
   {
    "duration": 69,
    "start_time": "2023-06-12T10:09:14.770Z"
   },
   {
    "duration": 46,
    "start_time": "2023-06-12T10:09:14.841Z"
   },
   {
    "duration": 18,
    "start_time": "2023-06-12T10:09:14.890Z"
   },
   {
    "duration": 10,
    "start_time": "2023-06-12T10:09:14.910Z"
   },
   {
    "duration": 56,
    "start_time": "2023-06-12T10:09:14.921Z"
   },
   {
    "duration": 18,
    "start_time": "2023-06-12T10:09:14.979Z"
   },
   {
    "duration": 4,
    "start_time": "2023-06-12T10:09:14.998Z"
   },
   {
    "duration": 43,
    "start_time": "2023-06-12T10:09:15.003Z"
   },
   {
    "duration": 28,
    "start_time": "2023-06-12T10:09:15.048Z"
   },
   {
    "duration": 5,
    "start_time": "2023-06-12T10:09:15.077Z"
   },
   {
    "duration": 13,
    "start_time": "2023-06-12T10:09:15.084Z"
   },
   {
    "duration": 376,
    "start_time": "2023-06-12T10:09:15.099Z"
   },
   {
    "duration": 19,
    "start_time": "2023-06-12T10:09:15.476Z"
   },
   {
    "duration": 224,
    "start_time": "2023-06-12T10:09:15.496Z"
   },
   {
    "duration": 4,
    "start_time": "2023-06-12T10:09:15.722Z"
   },
   {
    "duration": 4,
    "start_time": "2023-06-12T10:09:15.728Z"
   },
   {
    "duration": 26,
    "start_time": "2023-06-12T10:09:15.751Z"
   },
   {
    "duration": 11,
    "start_time": "2023-06-12T10:09:15.779Z"
   },
   {
    "duration": 4,
    "start_time": "2023-06-12T10:09:15.792Z"
   },
   {
    "duration": 8,
    "start_time": "2023-06-12T10:09:15.797Z"
   },
   {
    "duration": 21,
    "start_time": "2023-06-12T10:09:15.808Z"
   },
   {
    "duration": 57,
    "start_time": "2023-06-12T10:09:15.831Z"
   },
   {
    "duration": 42,
    "start_time": "2023-06-12T10:09:15.890Z"
   },
   {
    "duration": 41,
    "start_time": "2023-06-12T10:09:15.951Z"
   },
   {
    "duration": 6,
    "start_time": "2023-06-12T10:09:15.994Z"
   },
   {
    "duration": 24,
    "start_time": "2023-06-12T10:09:16.001Z"
   },
   {
    "duration": 43,
    "start_time": "2023-06-12T10:09:16.027Z"
   },
   {
    "duration": 64,
    "start_time": "2023-06-12T10:09:16.072Z"
   },
   {
    "duration": 480,
    "start_time": "2023-06-12T10:09:16.137Z"
   },
   {
    "duration": 43,
    "start_time": "2023-06-12T10:09:16.619Z"
   },
   {
    "duration": 31,
    "start_time": "2023-06-12T10:09:16.664Z"
   },
   {
    "duration": 71,
    "start_time": "2023-06-12T10:09:16.697Z"
   },
   {
    "duration": 25,
    "start_time": "2023-06-12T10:09:16.770Z"
   },
   {
    "duration": 19,
    "start_time": "2023-06-12T10:09:16.796Z"
   },
   {
    "duration": 7,
    "start_time": "2023-06-12T10:09:16.816Z"
   },
   {
    "duration": 155,
    "start_time": "2023-06-12T10:09:16.858Z"
   },
   {
    "duration": 17,
    "start_time": "2023-06-12T10:09:17.015Z"
   },
   {
    "duration": 33,
    "start_time": "2023-06-12T10:09:17.034Z"
   },
   {
    "duration": 26,
    "start_time": "2023-06-12T10:09:17.069Z"
   },
   {
    "duration": 30,
    "start_time": "2023-06-12T10:09:17.098Z"
   },
   {
    "duration": 168,
    "start_time": "2023-06-12T10:09:17.154Z"
   },
   {
    "duration": 166,
    "start_time": "2023-06-12T10:09:17.324Z"
   },
   {
    "duration": 73,
    "start_time": "2023-06-12T10:09:17.491Z"
   },
   {
    "duration": 7,
    "start_time": "2023-06-12T10:09:17.566Z"
   },
   {
    "duration": 94,
    "start_time": "2023-06-12T10:09:17.574Z"
   },
   {
    "duration": 2,
    "start_time": "2023-06-12T10:09:17.669Z"
   },
   {
    "duration": 6,
    "start_time": "2023-06-12T10:09:17.673Z"
   },
   {
    "duration": 155,
    "start_time": "2023-06-12T10:09:17.681Z"
   }
  ],
  "kernelspec": {
   "display_name": "Python 3 (ipykernel)",
   "language": "python",
   "name": "python3"
  },
  "language_info": {
   "codemirror_mode": {
    "name": "ipython",
    "version": 3
   },
   "file_extension": ".py",
   "mimetype": "text/x-python",
   "name": "python",
   "nbconvert_exporter": "python",
   "pygments_lexer": "ipython3",
   "version": "3.10.9"
  },
  "toc": {
   "base_numbering": 1,
   "nav_menu": {},
   "number_sections": true,
   "sideBar": true,
   "skip_h1_title": true,
   "title_cell": "Table of Contents",
   "title_sidebar": "Contents",
   "toc_cell": false,
   "toc_position": {},
   "toc_section_display": true,
   "toc_window_display": true
  }
 },
 "nbformat": 4,
 "nbformat_minor": 2
}
